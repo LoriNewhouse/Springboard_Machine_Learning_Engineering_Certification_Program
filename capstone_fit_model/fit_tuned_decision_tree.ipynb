{
 "cells": [
  {
   "cell_type": "code",
   "execution_count": null,
   "metadata": {
    "collapsed": true,
    "jupyter": {
     "outputs_hidden": true
    }
   },
   "outputs": [],
   "source": []
  },
  {
   "cell_type": "code",
   "execution_count": 183,
   "metadata": {
    "collapsed": true,
    "jupyter": {
     "outputs_hidden": true
    }
   },
   "outputs": [],
   "source": [
    "from IPython.core.interactiveshell import InteractiveShell\n",
    "InteractiveShell.ast_node_interactivity = 'all'"
   ]
  },
  {
   "cell_type": "code",
   "execution_count": 184,
   "metadata": {
    "collapsed": true,
    "jupyter": {
     "outputs_hidden": true
    }
   },
   "outputs": [],
   "source": [
    "import pandas as pd\n",
    "import numpy as np\n",
    "import pickle"
   ]
  },
  {
   "cell_type": "code",
   "execution_count": 185,
   "metadata": {
    "collapsed": true,
    "jupyter": {
     "outputs_hidden": true
    }
   },
   "outputs": [],
   "source": [
    "import matplotlib.pyplot as plt\n",
    "import seaborn as sns"
   ]
  },
  {
   "cell_type": "code",
   "execution_count": 186,
   "metadata": {
    "collapsed": true,
    "jupyter": {
     "outputs_hidden": true
    }
   },
   "outputs": [],
   "source": [
    "from sklearn.model_selection import train_test_split\n",
    "from sklearn.tree import DecisionTreeClassifier"
   ]
  },
  {
   "cell_type": "code",
   "execution_count": 187,
   "metadata": {
    "collapsed": true,
    "jupyter": {
     "outputs_hidden": true
    }
   },
   "outputs": [],
   "source": [
    "from imblearn.over_sampling import SMOTENC\n",
    "from imblearn.combine import SMOTEENN\n",
    "from imblearn.under_sampling import EditedNearestNeighbours"
   ]
  },
  {
   "cell_type": "code",
   "execution_count": 188,
   "metadata": {
    "collapsed": true,
    "jupyter": {
     "outputs_hidden": true
    }
   },
   "outputs": [],
   "source": [
    "from pycaret.classification import *"
   ]
  },
  {
   "cell_type": "code",
   "execution_count": null,
   "metadata": {
    "collapsed": true,
    "jupyter": {
     "outputs_hidden": true
    }
   },
   "outputs": [],
   "source": []
  },
  {
   "cell_type": "markdown",
   "metadata": {},
   "source": [
    "# CONTENTS\n",
    "### preamble   \n",
    "- logical to control dataset size for modeling\n",
    "- pickle file name   \n",
    "   \n",
    "### read wrangled data from pickle\n",
    "- define lists of column names  \n",
    "   \n",
    "### function to build feature columns list\n",
    "### select columns\n",
    "### option to use small sample size for testing\n",
    "### column selection for fitting model\n",
    "### `imblearn` preparation\n",
    "### `pycaret` preparation and `setup`\n",
    "### fit tuned decision tree model with all data\n",
    "- investigate finalized model performance   \n",
    "   \n",
    "### save model"
   ]
  },
  {
   "cell_type": "code",
   "execution_count": null,
   "metadata": {
    "collapsed": true,
    "jupyter": {
     "outputs_hidden": true
    }
   },
   "outputs": [],
   "source": []
  },
  {
   "cell_type": "markdown",
   "metadata": {},
   "source": [
    "# preamble\n",
    "### logical to control dataset size for modeling\n",
    "##### `True` gives very small dataset for testing notebook\n",
    "##### `False` uses entire dataset"
   ]
  },
  {
   "cell_type": "code",
   "execution_count": 189,
   "metadata": {
    "collapsed": true,
    "jupyter": {
     "outputs_hidden": true
    }
   },
   "outputs": [],
   "source": [
    "#use_small_data_set = True\n",
    "use_small_data_set = False"
   ]
  },
  {
   "cell_type": "markdown",
   "metadata": {},
   "source": [
    "### pickle file name"
   ]
  },
  {
   "cell_type": "code",
   "execution_count": 190,
   "metadata": {
    "collapsed": true,
    "jupyter": {
     "outputs_hidden": true
    }
   },
   "outputs": [],
   "source": [
    "running_on_local_machine = True\n",
    "#running_on_local_machine = False\n",
    "\n",
    "if running_on_local_machine:\n",
    "    pickle_file_name = 'data/wrangled_data.pkl'\n",
    "    tuning_results_dir = 'data/'\n",
    "else:\n",
    "    pickle_file_name = '/storage/wrangled_data_update_soil.pkl'\n",
    "    tuning_results_dir = 'tuning_results/'"
   ]
  },
  {
   "cell_type": "code",
   "execution_count": null,
   "metadata": {
    "collapsed": true,
    "jupyter": {
     "outputs_hidden": true
    }
   },
   "outputs": [],
   "source": []
  },
  {
   "cell_type": "markdown",
   "metadata": {},
   "source": [
    "# read wrangled data from pickle"
   ]
  },
  {
   "cell_type": "code",
   "execution_count": 191,
   "metadata": {
    "collapsed": true,
    "jupyter": {
     "outputs_hidden": true
    }
   },
   "outputs": [],
   "source": [
    "df_data = pd.read_pickle(pickle_file_name)"
   ]
  },
  {
   "cell_type": "code",
   "execution_count": 192,
   "metadata": {
    "collapsed": true,
    "jupyter": {
     "outputs_hidden": true
    }
   },
   "outputs": [
    {
     "data": {
      "text/plain": [
       "(581012, 71)"
      ]
     },
     "execution_count": 192,
     "metadata": {},
     "output_type": "execute_result"
    },
    {
     "data": {
      "text/plain": [
       "Index(['elevation', 'aspect', 'slope', 'HD_hydrology', 'VD_hydrology',\n",
       "       'HD_roadways', 'hillshade_9am', 'hillshade_noon', 'hillshade_3pm',\n",
       "       'HD_fire_points', 'wild_area_rawah', 'wild_area_neota',\n",
       "       'wild_area_comanche_peak', 'wild_area_cache_la_poudre', 'soil_type_1',\n",
       "       'soil_type_2', 'soil_type_3', 'soil_type_4', 'soil_type_5',\n",
       "       'soil_type_6', 'soil_type_7', 'soil_type_8', 'soil_type_9',\n",
       "       'soil_type_10', 'soil_type_11', 'soil_type_12', 'soil_type_13',\n",
       "       'soil_type_14', 'soil_type_15', 'soil_type_16', 'soil_type_17',\n",
       "       'soil_type_18', 'soil_type_19', 'soil_type_20', 'soil_type_21',\n",
       "       'soil_type_22', 'soil_type_23', 'soil_type_24', 'soil_type_25',\n",
       "       'soil_type_26', 'soil_type_27', 'soil_type_28', 'soil_type_29',\n",
       "       'soil_type_30', 'soil_type_31', 'soil_type_32', 'soil_type_33',\n",
       "       'soil_type_34', 'soil_type_35', 'soil_type_36', 'soil_type_37',\n",
       "       'soil_type_38', 'soil_type_39', 'soil_type_40', 'cover_type',\n",
       "       'wilderness_index', 'wilderness_area', 'soil_index', 'climatic_zone',\n",
       "       'geologic_zone', 'both_zones', 'mms_elevation', 'mms_aspect',\n",
       "       'mms_slope', 'mms_HD_hydrology', 'mms_VD_hydrology', 'mms_HD_roadways',\n",
       "       'mms_hillshade_9am', 'mms_hillshade_noon', 'mms_hillshade_3pm',\n",
       "       'mms_HD_fire_points'],\n",
       "      dtype='object')"
      ]
     },
     "execution_count": 192,
     "metadata": {},
     "output_type": "execute_result"
    },
    {
     "data": {
      "text/html": [
       "<div>\n",
       "<style scoped>\n",
       "    .dataframe tbody tr th:only-of-type {\n",
       "        vertical-align: middle;\n",
       "    }\n",
       "\n",
       "    .dataframe tbody tr th {\n",
       "        vertical-align: top;\n",
       "    }\n",
       "\n",
       "    .dataframe thead th {\n",
       "        text-align: right;\n",
       "    }\n",
       "</style>\n",
       "<table border=\"1\" class=\"dataframe\">\n",
       "  <thead>\n",
       "    <tr style=\"text-align: right;\">\n",
       "      <th></th>\n",
       "      <th>elevation</th>\n",
       "      <th>aspect</th>\n",
       "      <th>slope</th>\n",
       "      <th>HD_hydrology</th>\n",
       "      <th>VD_hydrology</th>\n",
       "      <th>HD_roadways</th>\n",
       "      <th>hillshade_9am</th>\n",
       "      <th>hillshade_noon</th>\n",
       "      <th>hillshade_3pm</th>\n",
       "      <th>HD_fire_points</th>\n",
       "      <th>...</th>\n",
       "      <th>mms_elevation</th>\n",
       "      <th>mms_aspect</th>\n",
       "      <th>mms_slope</th>\n",
       "      <th>mms_HD_hydrology</th>\n",
       "      <th>mms_VD_hydrology</th>\n",
       "      <th>mms_HD_roadways</th>\n",
       "      <th>mms_hillshade_9am</th>\n",
       "      <th>mms_hillshade_noon</th>\n",
       "      <th>mms_hillshade_3pm</th>\n",
       "      <th>mms_HD_fire_points</th>\n",
       "    </tr>\n",
       "  </thead>\n",
       "  <tbody>\n",
       "    <tr>\n",
       "      <th>0</th>\n",
       "      <td>2596</td>\n",
       "      <td>51</td>\n",
       "      <td>3</td>\n",
       "      <td>258</td>\n",
       "      <td>0</td>\n",
       "      <td>510</td>\n",
       "      <td>221</td>\n",
       "      <td>232</td>\n",
       "      <td>148</td>\n",
       "      <td>6279</td>\n",
       "      <td>...</td>\n",
       "      <td>0.368684</td>\n",
       "      <td>0.141667</td>\n",
       "      <td>0.045455</td>\n",
       "      <td>0.184681</td>\n",
       "      <td>0.223514</td>\n",
       "      <td>0.071659</td>\n",
       "      <td>0.870079</td>\n",
       "      <td>0.913386</td>\n",
       "      <td>0.582677</td>\n",
       "      <td>0.875366</td>\n",
       "    </tr>\n",
       "    <tr>\n",
       "      <th>1</th>\n",
       "      <td>2590</td>\n",
       "      <td>56</td>\n",
       "      <td>2</td>\n",
       "      <td>212</td>\n",
       "      <td>-6</td>\n",
       "      <td>390</td>\n",
       "      <td>220</td>\n",
       "      <td>235</td>\n",
       "      <td>151</td>\n",
       "      <td>6225</td>\n",
       "      <td>...</td>\n",
       "      <td>0.365683</td>\n",
       "      <td>0.155556</td>\n",
       "      <td>0.030303</td>\n",
       "      <td>0.151754</td>\n",
       "      <td>0.215762</td>\n",
       "      <td>0.054798</td>\n",
       "      <td>0.866142</td>\n",
       "      <td>0.925197</td>\n",
       "      <td>0.594488</td>\n",
       "      <td>0.867838</td>\n",
       "    </tr>\n",
       "    <tr>\n",
       "      <th>2</th>\n",
       "      <td>2804</td>\n",
       "      <td>139</td>\n",
       "      <td>9</td>\n",
       "      <td>268</td>\n",
       "      <td>65</td>\n",
       "      <td>3180</td>\n",
       "      <td>234</td>\n",
       "      <td>238</td>\n",
       "      <td>135</td>\n",
       "      <td>6121</td>\n",
       "      <td>...</td>\n",
       "      <td>0.472736</td>\n",
       "      <td>0.386111</td>\n",
       "      <td>0.136364</td>\n",
       "      <td>0.191840</td>\n",
       "      <td>0.307494</td>\n",
       "      <td>0.446817</td>\n",
       "      <td>0.921260</td>\n",
       "      <td>0.937008</td>\n",
       "      <td>0.531496</td>\n",
       "      <td>0.853339</td>\n",
       "    </tr>\n",
       "    <tr>\n",
       "      <th>3</th>\n",
       "      <td>2785</td>\n",
       "      <td>155</td>\n",
       "      <td>18</td>\n",
       "      <td>242</td>\n",
       "      <td>118</td>\n",
       "      <td>3090</td>\n",
       "      <td>238</td>\n",
       "      <td>238</td>\n",
       "      <td>122</td>\n",
       "      <td>6211</td>\n",
       "      <td>...</td>\n",
       "      <td>0.463232</td>\n",
       "      <td>0.430556</td>\n",
       "      <td>0.272727</td>\n",
       "      <td>0.173228</td>\n",
       "      <td>0.375969</td>\n",
       "      <td>0.434172</td>\n",
       "      <td>0.937008</td>\n",
       "      <td>0.937008</td>\n",
       "      <td>0.480315</td>\n",
       "      <td>0.865886</td>\n",
       "    </tr>\n",
       "    <tr>\n",
       "      <th>4</th>\n",
       "      <td>2595</td>\n",
       "      <td>45</td>\n",
       "      <td>2</td>\n",
       "      <td>153</td>\n",
       "      <td>-1</td>\n",
       "      <td>391</td>\n",
       "      <td>220</td>\n",
       "      <td>234</td>\n",
       "      <td>150</td>\n",
       "      <td>6172</td>\n",
       "      <td>...</td>\n",
       "      <td>0.368184</td>\n",
       "      <td>0.125000</td>\n",
       "      <td>0.030303</td>\n",
       "      <td>0.109520</td>\n",
       "      <td>0.222222</td>\n",
       "      <td>0.054939</td>\n",
       "      <td>0.866142</td>\n",
       "      <td>0.921260</td>\n",
       "      <td>0.590551</td>\n",
       "      <td>0.860449</td>\n",
       "    </tr>\n",
       "  </tbody>\n",
       "</table>\n",
       "<p>5 rows × 71 columns</p>\n",
       "</div>"
      ],
      "text/plain": [
       "   elevation  aspect  slope  HD_hydrology  VD_hydrology  HD_roadways  \\\n",
       "0       2596      51      3           258             0          510   \n",
       "1       2590      56      2           212            -6          390   \n",
       "2       2804     139      9           268            65         3180   \n",
       "3       2785     155     18           242           118         3090   \n",
       "4       2595      45      2           153            -1          391   \n",
       "\n",
       "   hillshade_9am  hillshade_noon  hillshade_3pm  HD_fire_points  ...  \\\n",
       "0            221             232            148            6279  ...   \n",
       "1            220             235            151            6225  ...   \n",
       "2            234             238            135            6121  ...   \n",
       "3            238             238            122            6211  ...   \n",
       "4            220             234            150            6172  ...   \n",
       "\n",
       "   mms_elevation  mms_aspect  mms_slope  mms_HD_hydrology  mms_VD_hydrology  \\\n",
       "0       0.368684    0.141667   0.045455          0.184681          0.223514   \n",
       "1       0.365683    0.155556   0.030303          0.151754          0.215762   \n",
       "2       0.472736    0.386111   0.136364          0.191840          0.307494   \n",
       "3       0.463232    0.430556   0.272727          0.173228          0.375969   \n",
       "4       0.368184    0.125000   0.030303          0.109520          0.222222   \n",
       "\n",
       "   mms_HD_roadways  mms_hillshade_9am  mms_hillshade_noon  mms_hillshade_3pm  \\\n",
       "0         0.071659           0.870079            0.913386           0.582677   \n",
       "1         0.054798           0.866142            0.925197           0.594488   \n",
       "2         0.446817           0.921260            0.937008           0.531496   \n",
       "3         0.434172           0.937008            0.937008           0.480315   \n",
       "4         0.054939           0.866142            0.921260           0.590551   \n",
       "\n",
       "   mms_HD_fire_points  \n",
       "0            0.875366  \n",
       "1            0.867838  \n",
       "2            0.853339  \n",
       "3            0.865886  \n",
       "4            0.860449  \n",
       "\n",
       "[5 rows x 71 columns]"
      ]
     },
     "execution_count": 192,
     "metadata": {},
     "output_type": "execute_result"
    }
   ],
   "source": [
    "df_data.shape\n",
    "df_data.columns\n",
    "df_data.head()"
   ]
  },
  {
   "cell_type": "markdown",
   "metadata": {},
   "source": [
    "### define lists of column names"
   ]
  },
  {
   "cell_type": "code",
   "execution_count": 193,
   "metadata": {
    "collapsed": true,
    "jupyter": {
     "outputs_hidden": true
    }
   },
   "outputs": [
    {
     "name": "stdout",
     "output_type": "stream",
     "text": [
      "numerical_cols:\n",
      "['elevation',\n",
      " 'aspect',\n",
      " 'slope',\n",
      " 'HD_hydrology',\n",
      " 'VD_hydrology',\n",
      " 'HD_roadways',\n",
      " 'hillshade_9am',\n",
      " 'hillshade_noon',\n",
      " 'hillshade_3pm',\n",
      " 'HD_fire_points']\n",
      "\n",
      "scaled_numerical_cols:\n",
      "['mms_elevation',\n",
      " 'mms_aspect',\n",
      " 'mms_slope',\n",
      " 'mms_HD_hydrology',\n",
      " 'mms_VD_hydrology',\n",
      " 'mms_HD_roadways',\n",
      " 'mms_hillshade_9am',\n",
      " 'mms_hillshade_noon',\n",
      " 'mms_hillshade_3pm',\n",
      " 'mms_HD_fire_points']\n",
      "\n",
      "wild_area_cols:\n",
      "['wild_area_rawah',\n",
      " 'wild_area_neota',\n",
      " 'wild_area_comanche_peak',\n",
      " 'wild_area_cache_la_poudre']\n",
      "\n",
      "soil_type_cols:\n",
      "['soil_type_1',\n",
      " 'soil_type_2',\n",
      " 'soil_type_3',\n",
      " 'soil_type_4',\n",
      " 'soil_type_5',\n",
      " 'soil_type_6',\n",
      " 'soil_type_7',\n",
      " 'soil_type_8',\n",
      " 'soil_type_9',\n",
      " 'soil_type_10',\n",
      " 'soil_type_11',\n",
      " 'soil_type_12',\n",
      " 'soil_type_13',\n",
      " 'soil_type_14',\n",
      " 'soil_type_15',\n",
      " 'soil_type_16',\n",
      " 'soil_type_17',\n",
      " 'soil_type_18',\n",
      " 'soil_type_19',\n",
      " 'soil_type_20',\n",
      " 'soil_type_21',\n",
      " 'soil_type_22',\n",
      " 'soil_type_23',\n",
      " 'soil_type_24',\n",
      " 'soil_type_25',\n",
      " 'soil_type_26',\n",
      " 'soil_type_27',\n",
      " 'soil_type_28',\n",
      " 'soil_type_29',\n",
      " 'soil_type_30',\n",
      " 'soil_type_31',\n",
      " 'soil_type_32',\n",
      " 'soil_type_33',\n",
      " 'soil_type_34',\n",
      " 'soil_type_35',\n",
      " 'soil_type_36',\n",
      " 'soil_type_37',\n",
      " 'soil_type_38',\n",
      " 'soil_type_39',\n",
      " 'soil_type_40']\n",
      "\n",
      "soil_cluster_cols:\n",
      "['climatic_zone', 'geologic_zone', 'both_zones']\n",
      "\n",
      "reverse_one_hot_cols:\n",
      "['wilderness_index', 'wilderness_area', 'soil_index']\n",
      "\n",
      "target_col:\n",
      "['cover_type']\n",
      "\n",
      "target_names:\n",
      "['spruce_fir',\n",
      " 'lodgepole_pine',\n",
      " 'ponderosa_pine',\n",
      " 'cottonwood_willow',\n",
      " 'aspen',\n",
      " 'douglas_fir',\n",
      " 'krummholz']\n"
     ]
    }
   ],
   "source": [
    "column = 'wild_area_'\n",
    "areas = ['rawah', 'neota', 'comanche_peak', 'cache_la_poudre']\n",
    "wild_area_cols = []\n",
    "for i in areas:\n",
    "    wild_area_cols.append(column + i)\n",
    "\n",
    "column = 'soil_type_'\n",
    "soil_type_cols = []\n",
    "for i in range(1,41):\n",
    "    soil_type_cols.append(column + str(i))\n",
    "\n",
    "numerical_cols = ['elevation', 'aspect', 'slope', 'HD_hydrology', 'VD_hydrology', 'HD_roadways',\n",
    "                  'hillshade_9am', 'hillshade_noon', 'hillshade_3pm', 'HD_fire_points']\n",
    "\n",
    "scaled_numerical_cols = []\n",
    "for col in numerical_cols:\n",
    "    scaled_numerical_cols.append('mms_' + col)\n",
    "\n",
    "target_col = ['cover_type']\n",
    "\n",
    "target_names = ['spruce_fir', 'lodgepole_pine', 'ponderosa_pine', 'cottonwood_willow', 'aspen', 'douglas_fir', 'krummholz']\n",
    "\n",
    "reverse_one_hot_cols = ['wilderness_index', 'wilderness_area', 'soil_index']\n",
    "\n",
    "soil_cluster_cols = ['climatic_zone', 'geologic_zone', 'both_zones']\n",
    "\n",
    "print('numerical_cols:')\n",
    "pp(numerical_cols)\n",
    "\n",
    "print('\\nscaled_numerical_cols:')\n",
    "pp(scaled_numerical_cols)\n",
    "\n",
    "print('\\nwild_area_cols:')\n",
    "pp(wild_area_cols)\n",
    "\n",
    "print('\\nsoil_type_cols:')\n",
    "pp(soil_type_cols)\n",
    "\n",
    "print('\\nsoil_cluster_cols:')\n",
    "pp(soil_cluster_cols)\n",
    "\n",
    "print('\\nreverse_one_hot_cols:')\n",
    "pp(reverse_one_hot_cols)\n",
    "\n",
    "print('\\ntarget_col:')\n",
    "pp(target_col)\n",
    "\n",
    "print('\\ntarget_names:')\n",
    "pp(target_names)"
   ]
  },
  {
   "cell_type": "code",
   "execution_count": 194,
   "metadata": {
    "collapsed": true,
    "jupyter": {
     "outputs_hidden": true
    }
   },
   "outputs": [
    {
     "data": {
      "text/plain": [
       "71"
      ]
     },
     "execution_count": 194,
     "metadata": {},
     "output_type": "execute_result"
    }
   ],
   "source": [
    "len(df_data.columns)"
   ]
  },
  {
   "cell_type": "code",
   "execution_count": 195,
   "metadata": {
    "collapsed": true,
    "jupyter": {
     "outputs_hidden": true
    }
   },
   "outputs": [
    {
     "data": {
      "text/plain": [
       "71"
      ]
     },
     "execution_count": 195,
     "metadata": {},
     "output_type": "execute_result"
    }
   ],
   "source": [
    "len(numerical_cols + scaled_numerical_cols + wild_area_cols\n",
    "    + soil_type_cols + reverse_one_hot_cols + target_col + soil_cluster_cols)"
   ]
  },
  {
   "cell_type": "markdown",
   "metadata": {},
   "source": [
    "# function to build feature columns list"
   ]
  },
  {
   "cell_type": "code",
   "execution_count": 196,
   "metadata": {
    "collapsed": true,
    "jupyter": {
     "outputs_hidden": true
    }
   },
   "outputs": [],
   "source": [
    "def make_feature_columns_list(numerical_scaled, wild_area_one_hot, soil_type_one_hot, soil_type_cluster='none'):\n",
    "    feature_cols_list = []\n",
    "    \n",
    "    if numerical_scaled:\n",
    "        feature_cols_list += scaled_numerical_cols\n",
    "    else:\n",
    "        feature_cols_list += numerical_cols\n",
    "    \n",
    "    if wild_area_one_hot:\n",
    "        feature_cols_list += wild_area_cols\n",
    "    else:\n",
    "        feature_cols_list.append(reverse_one_hot_cols[0])\n",
    "    \n",
    "    if soil_type_one_hot:\n",
    "        feature_cols_list += soil_type_cols\n",
    "    elif soil_type_cluster=='none':\n",
    "        feature_cols_list.append(reverse_one_hot_cols[2])\n",
    "    elif soil_type_cluster=='climatic':\n",
    "        feature_cols_list.append(soil_cluster_cols[0])\n",
    "    elif soil_type_cluster=='geologic':\n",
    "        feature_cols_list.append(soil_cluster_cols[1])\n",
    "    elif soil_type_cluster=='both':\n",
    "        feature_cols_list.append(soil_cluster_cols[2])\n",
    "    else:\n",
    "        print('ERROR ERROR ERROR ERROR in selection of soil type columns')\n",
    "    \n",
    "    return feature_cols_list"
   ]
  },
  {
   "cell_type": "code",
   "execution_count": 197,
   "metadata": {
    "collapsed": true,
    "jupyter": {
     "outputs_hidden": true
    }
   },
   "outputs": [
    {
     "name": "stdout",
     "output_type": "stream",
     "text": [
      "['mms_elevation',\n",
      " 'mms_aspect',\n",
      " 'mms_slope',\n",
      " 'mms_HD_hydrology',\n",
      " 'mms_VD_hydrology',\n",
      " 'mms_HD_roadways',\n",
      " 'mms_hillshade_9am',\n",
      " 'mms_hillshade_noon',\n",
      " 'mms_hillshade_3pm',\n",
      " 'mms_HD_fire_points',\n",
      " 'wilderness_index',\n",
      " 'both_zones']\n"
     ]
    }
   ],
   "source": [
    "temp_list = make_feature_columns_list(numerical_scaled=True, wild_area_one_hot=False,\n",
    "                                      soil_type_one_hot=False, soil_type_cluster='both')\n",
    "pp(temp_list)"
   ]
  },
  {
   "cell_type": "markdown",
   "metadata": {},
   "source": [
    "# select columns"
   ]
  },
  {
   "cell_type": "code",
   "execution_count": 198,
   "metadata": {
    "collapsed": true,
    "jupyter": {
     "outputs_hidden": true
    }
   },
   "outputs": [
    {
     "data": {
      "text/plain": [
       "['elevation',\n",
       " 'aspect',\n",
       " 'slope',\n",
       " 'HD_hydrology',\n",
       " 'VD_hydrology',\n",
       " 'HD_roadways',\n",
       " 'hillshade_9am',\n",
       " 'hillshade_noon',\n",
       " 'hillshade_3pm',\n",
       " 'HD_fire_points',\n",
       " 'wilderness_index',\n",
       " 'soil_index',\n",
       " 'climatic_zone',\n",
       " 'geologic_zone',\n",
       " 'both_zones']"
      ]
     },
     "execution_count": 198,
     "metadata": {},
     "output_type": "execute_result"
    }
   ],
   "source": [
    "feature_cols_all = make_feature_columns_list(numerical_scaled=False, wild_area_one_hot=False,\n",
    "                                                soil_type_one_hot=False, soil_type_cluster='none')\n",
    "feature_cols_all += soil_cluster_cols\n",
    "feature_cols_all"
   ]
  },
  {
   "cell_type": "markdown",
   "metadata": {},
   "source": [
    "# option to use small sample size for testing"
   ]
  },
  {
   "cell_type": "code",
   "execution_count": 199,
   "metadata": {
    "collapsed": true,
    "jupyter": {
     "outputs_hidden": true
    }
   },
   "outputs": [],
   "source": [
    "if use_small_data_set:\n",
    "    train_sample_size = 10000\n",
    "    test_sample_size  = 3000\n",
    "\n",
    "    X_train, X_test, y_train, y_test = train_test_split(df_data[feature_cols_all], df_data[target_col[0]],\n",
    "                                       train_size=train_sample_size, test_size=test_sample_size, random_state=59)\n",
    "    df_data_to_use = (pd.concat([X_train, y_train], axis=1)).append(pd.concat([X_test, y_test], axis=1))\n",
    "\n",
    "else:\n",
    "    df_data_to_use = df_data[feature_cols_all + target_col]"
   ]
  },
  {
   "cell_type": "code",
   "execution_count": 200,
   "metadata": {
    "collapsed": true,
    "jupyter": {
     "outputs_hidden": true
    }
   },
   "outputs": [
    {
     "data": {
      "text/plain": [
       "(581012, 16)"
      ]
     },
     "execution_count": 200,
     "metadata": {},
     "output_type": "execute_result"
    },
    {
     "data": {
      "text/html": [
       "<div>\n",
       "<style scoped>\n",
       "    .dataframe tbody tr th:only-of-type {\n",
       "        vertical-align: middle;\n",
       "    }\n",
       "\n",
       "    .dataframe tbody tr th {\n",
       "        vertical-align: top;\n",
       "    }\n",
       "\n",
       "    .dataframe thead th {\n",
       "        text-align: right;\n",
       "    }\n",
       "</style>\n",
       "<table border=\"1\" class=\"dataframe\">\n",
       "  <thead>\n",
       "    <tr style=\"text-align: right;\">\n",
       "      <th></th>\n",
       "      <th>elevation</th>\n",
       "      <th>aspect</th>\n",
       "      <th>slope</th>\n",
       "      <th>HD_hydrology</th>\n",
       "      <th>VD_hydrology</th>\n",
       "      <th>HD_roadways</th>\n",
       "      <th>hillshade_9am</th>\n",
       "      <th>hillshade_noon</th>\n",
       "      <th>hillshade_3pm</th>\n",
       "      <th>HD_fire_points</th>\n",
       "      <th>wilderness_index</th>\n",
       "      <th>soil_index</th>\n",
       "      <th>climatic_zone</th>\n",
       "      <th>geologic_zone</th>\n",
       "      <th>both_zones</th>\n",
       "      <th>cover_type</th>\n",
       "    </tr>\n",
       "  </thead>\n",
       "  <tbody>\n",
       "    <tr>\n",
       "      <th>0</th>\n",
       "      <td>2596</td>\n",
       "      <td>51</td>\n",
       "      <td>3</td>\n",
       "      <td>258</td>\n",
       "      <td>0</td>\n",
       "      <td>510</td>\n",
       "      <td>221</td>\n",
       "      <td>232</td>\n",
       "      <td>148</td>\n",
       "      <td>6279</td>\n",
       "      <td>0</td>\n",
       "      <td>29</td>\n",
       "      <td>7</td>\n",
       "      <td>7</td>\n",
       "      <td>77</td>\n",
       "      <td>5</td>\n",
       "    </tr>\n",
       "    <tr>\n",
       "      <th>1</th>\n",
       "      <td>2590</td>\n",
       "      <td>56</td>\n",
       "      <td>2</td>\n",
       "      <td>212</td>\n",
       "      <td>-6</td>\n",
       "      <td>390</td>\n",
       "      <td>220</td>\n",
       "      <td>235</td>\n",
       "      <td>151</td>\n",
       "      <td>6225</td>\n",
       "      <td>0</td>\n",
       "      <td>29</td>\n",
       "      <td>7</td>\n",
       "      <td>7</td>\n",
       "      <td>77</td>\n",
       "      <td>5</td>\n",
       "    </tr>\n",
       "    <tr>\n",
       "      <th>2</th>\n",
       "      <td>2804</td>\n",
       "      <td>139</td>\n",
       "      <td>9</td>\n",
       "      <td>268</td>\n",
       "      <td>65</td>\n",
       "      <td>3180</td>\n",
       "      <td>234</td>\n",
       "      <td>238</td>\n",
       "      <td>135</td>\n",
       "      <td>6121</td>\n",
       "      <td>0</td>\n",
       "      <td>12</td>\n",
       "      <td>4</td>\n",
       "      <td>7</td>\n",
       "      <td>47</td>\n",
       "      <td>2</td>\n",
       "    </tr>\n",
       "    <tr>\n",
       "      <th>3</th>\n",
       "      <td>2785</td>\n",
       "      <td>155</td>\n",
       "      <td>18</td>\n",
       "      <td>242</td>\n",
       "      <td>118</td>\n",
       "      <td>3090</td>\n",
       "      <td>238</td>\n",
       "      <td>238</td>\n",
       "      <td>122</td>\n",
       "      <td>6211</td>\n",
       "      <td>0</td>\n",
       "      <td>30</td>\n",
       "      <td>7</td>\n",
       "      <td>7</td>\n",
       "      <td>77</td>\n",
       "      <td>2</td>\n",
       "    </tr>\n",
       "    <tr>\n",
       "      <th>4</th>\n",
       "      <td>2595</td>\n",
       "      <td>45</td>\n",
       "      <td>2</td>\n",
       "      <td>153</td>\n",
       "      <td>-1</td>\n",
       "      <td>391</td>\n",
       "      <td>220</td>\n",
       "      <td>234</td>\n",
       "      <td>150</td>\n",
       "      <td>6172</td>\n",
       "      <td>0</td>\n",
       "      <td>29</td>\n",
       "      <td>7</td>\n",
       "      <td>7</td>\n",
       "      <td>77</td>\n",
       "      <td>5</td>\n",
       "    </tr>\n",
       "  </tbody>\n",
       "</table>\n",
       "</div>"
      ],
      "text/plain": [
       "   elevation  aspect  slope  HD_hydrology  VD_hydrology  HD_roadways  \\\n",
       "0       2596      51      3           258             0          510   \n",
       "1       2590      56      2           212            -6          390   \n",
       "2       2804     139      9           268            65         3180   \n",
       "3       2785     155     18           242           118         3090   \n",
       "4       2595      45      2           153            -1          391   \n",
       "\n",
       "   hillshade_9am  hillshade_noon  hillshade_3pm  HD_fire_points  \\\n",
       "0            221             232            148            6279   \n",
       "1            220             235            151            6225   \n",
       "2            234             238            135            6121   \n",
       "3            238             238            122            6211   \n",
       "4            220             234            150            6172   \n",
       "\n",
       "   wilderness_index  soil_index  climatic_zone  geologic_zone  both_zones  \\\n",
       "0                 0          29              7              7          77   \n",
       "1                 0          29              7              7          77   \n",
       "2                 0          12              4              7          47   \n",
       "3                 0          30              7              7          77   \n",
       "4                 0          29              7              7          77   \n",
       "\n",
       "   cover_type  \n",
       "0           5  \n",
       "1           5  \n",
       "2           2  \n",
       "3           2  \n",
       "4           5  "
      ]
     },
     "execution_count": 200,
     "metadata": {},
     "output_type": "execute_result"
    }
   ],
   "source": [
    "df_data_to_use.shape\n",
    "df_data_to_use.head()"
   ]
  },
  {
   "cell_type": "code",
   "execution_count": null,
   "metadata": {
    "collapsed": true,
    "jupyter": {
     "outputs_hidden": true
    }
   },
   "outputs": [],
   "source": []
  },
  {
   "cell_type": "markdown",
   "metadata": {},
   "source": [
    "# column selection for fitting model\n",
    "### numeric; index wild; geologic soil"
   ]
  },
  {
   "cell_type": "code",
   "execution_count": 201,
   "metadata": {
    "collapsed": true,
    "jupyter": {
     "outputs_hidden": true
    }
   },
   "outputs": [
    {
     "data": {
      "text/plain": [
       "['elevation',\n",
       " 'aspect',\n",
       " 'slope',\n",
       " 'HD_hydrology',\n",
       " 'VD_hydrology',\n",
       " 'HD_roadways',\n",
       " 'hillshade_9am',\n",
       " 'hillshade_noon',\n",
       " 'hillshade_3pm',\n",
       " 'HD_fire_points',\n",
       " 'wilderness_index',\n",
       " 'geologic_zone',\n",
       " 'cover_type']"
      ]
     },
     "execution_count": 201,
     "metadata": {},
     "output_type": "execute_result"
    },
    {
     "data": {
      "text/plain": [
       "['wilderness_index', 'geologic_zone']"
      ]
     },
     "execution_count": 201,
     "metadata": {},
     "output_type": "execute_result"
    }
   ],
   "source": [
    "features_to_use = make_feature_columns_list(numerical_scaled=False, wild_area_one_hot=False,\n",
    "                                            soil_type_one_hot=False, soil_type_cluster='geologic')\n",
    "\n",
    "features_cat = features_to_use[-2:]\n",
    "cols_to_use = features_to_use + target_col\n",
    "df_su = df_data_to_use[cols_to_use]\n",
    "\n",
    "cols_to_use\n",
    "features_cat"
   ]
  },
  {
   "cell_type": "code",
   "execution_count": null,
   "metadata": {
    "collapsed": true,
    "jupyter": {
     "outputs_hidden": true
    }
   },
   "outputs": [],
   "source": []
  },
  {
   "cell_type": "markdown",
   "metadata": {},
   "source": [
    "# `imblearn` preparation\n",
    "### `pycaret` encodes target classes as `0 to 6` before using `imbalanced_learn`\n",
    "### `pycaret` one-hot encodes `wilderness_index` before using `imbalanced_learn`   \n",
    "### `pycaret` applies `imbalanced_learn` to training set (I believe)"
   ]
  },
  {
   "cell_type": "code",
   "execution_count": 202,
   "metadata": {
    "collapsed": true,
    "jupyter": {
     "outputs_hidden": true
    }
   },
   "outputs": [
    {
     "data": {
      "text/plain": [
       "['wilderness_index', 'geologic_zone']"
      ]
     },
     "execution_count": 202,
     "metadata": {},
     "output_type": "execute_result"
    },
    {
     "data": {
      "text/plain": [
       "[10, 11, 12, 13, 14, 15, 16, 17]"
      ]
     },
     "execution_count": 202,
     "metadata": {},
     "output_type": "execute_result"
    }
   ],
   "source": [
    "# THIS CELL FOR GEOLOGIC ENCODING\n",
    "features_cat_pycaret_pre_process = features_cat\n",
    "features_cat_imblearn = [10, 11, 12, 13, 14, 15, 16, 17]\n",
    "features_cat_pycaret_pre_process\n",
    "features_cat_imblearn"
   ]
  },
  {
   "cell_type": "code",
   "execution_count": 203,
   "metadata": {
    "collapsed": true,
    "jupyter": {
     "outputs_hidden": true
    }
   },
   "outputs": [],
   "source": [
    "def create_dict_target_count(orig_counts, dict_factors, train_fraction):\n",
    "    dict_target_count = {}\n",
    "    list_classes_clean = []\n",
    "    \n",
    "    for target, factor in dict_factors.items():\n",
    "        dict_target_count[target-1] = int(orig_counts.loc[target].values[0] * factor)\n",
    "        \n",
    "        if factor != 1:\n",
    "            list_classes_clean.append(target-1)\n",
    "            dict_target_count[target-1] = int(dict_target_count[target-1] * train_fraction)\n",
    "    \n",
    "    return dict_target_count, list_classes_clean"
   ]
  },
  {
   "cell_type": "code",
   "execution_count": 204,
   "metadata": {
    "collapsed": true,
    "jupyter": {
     "outputs_hidden": true
    }
   },
   "outputs": [
    {
     "data": {
      "text/plain": [
       "cover_type\n",
       "1             211840\n",
       "2             283301\n",
       "3              35754\n",
       "4               2747\n",
       "5               9493\n",
       "6              17367\n",
       "7              20510\n",
       "dtype: int64"
      ]
     },
     "execution_count": 204,
     "metadata": {},
     "output_type": "execute_result"
    }
   ],
   "source": [
    "target_counts_to_use = df_data_to_use[target_col].value_counts().sort_index()\n",
    "target_counts_to_use"
   ]
  },
  {
   "cell_type": "code",
   "execution_count": 205,
   "metadata": {
    "collapsed": true,
    "jupyter": {
     "outputs_hidden": true
    }
   },
   "outputs": [
    {
     "data": {
      "text/plain": [
       "{0: 211840, 1: 283301, 2: 76084, 3: 6037, 4: 20333, 5: 37078, 6: 43358}"
      ]
     },
     "execution_count": 205,
     "metadata": {},
     "output_type": "execute_result"
    },
    {
     "data": {
      "text/plain": [
       "[2, 3, 4, 5, 6]"
      ]
     },
     "execution_count": 205,
     "metadata": {},
     "output_type": "execute_result"
    }
   ],
   "source": [
    "#target_factors = [1, 1, 3.04, 3.14, 3.06, 3.05, 3.02]\n",
    "dict_factors = {1:1, 2:1, 3:3.04, 4:3.14, 5:3.06, 6:3.05, 7:3.02}\n",
    "train_fraction = 0.7\n",
    "dict_target_counts, list_classes_clean = create_dict_target_count(target_counts_to_use, dict_factors, train_fraction)\n",
    "dict_target_counts\n",
    "list_classes_clean"
   ]
  },
  {
   "cell_type": "code",
   "execution_count": 206,
   "metadata": {
    "collapsed": true,
    "jupyter": {
     "outputs_hidden": true
    }
   },
   "outputs": [],
   "source": [
    "the_smote_nc = SMOTENC(categorical_features=features_cat_imblearn, random_state=59,\n",
    "                       sampling_strategy=dict_target_counts)\n",
    "\n",
    "the_enn = EditedNearestNeighbours(sampling_strategy=list_classes_clean,\n",
    "                                  n_neighbors=3, kind_sel='mode')\n",
    "\n",
    "the_smote = SMOTEENN(random_state=59, smote=the_smote_nc, enn=the_enn)"
   ]
  },
  {
   "cell_type": "code",
   "execution_count": null,
   "metadata": {
    "collapsed": true,
    "jupyter": {
     "outputs_hidden": true
    }
   },
   "outputs": [],
   "source": []
  },
  {
   "cell_type": "markdown",
   "metadata": {},
   "source": [
    "# `pycaret` preparation and `setup`\n",
    "### `silent = True` to supress interactive confirmation of data types"
   ]
  },
  {
   "cell_type": "code",
   "execution_count": 207,
   "metadata": {
    "collapsed": true,
    "jupyter": {
     "outputs_hidden": true
    }
   },
   "outputs": [
    {
     "name": "stdout",
     "output_type": "stream",
     "text": [
      "su_use_gpu =  False\n"
     ]
    }
   ],
   "source": [
    "#su_log_profile = True\n",
    "su_log_profile = False\n",
    "\n",
    "su_silent = True\n",
    "#su_silent = False\n",
    "\n",
    "#su_log_exp = True\n",
    "su_log_exp = False\n",
    "\n",
    "su_use_gpu = False\n",
    "#su_use_gpu = not running_on_local_machine\n",
    "print('su_use_gpu = ', su_use_gpu)\n",
    "\n",
    "su_name_exp = 'tune decision tree'"
   ]
  },
  {
   "cell_type": "code",
   "execution_count": 208,
   "metadata": {
    "collapsed": true,
    "jupyter": {
     "outputs_hidden": true
    }
   },
   "outputs": [
    {
     "data": {
      "text/html": [
       "<style  type=\"text/css\" >\n",
       "#T_7349d164_77b2_11eb_a924_484d7eba56ebrow29_col1,#T_7349d164_77b2_11eb_a924_484d7eba56ebrow56_col1{\n",
       "            background-color:  lightgreen;\n",
       "        }</style><table id=\"T_7349d164_77b2_11eb_a924_484d7eba56eb\" ><thead>    <tr>        <th class=\"blank level0\" ></th>        <th class=\"col_heading level0 col0\" >Description</th>        <th class=\"col_heading level0 col1\" >Value</th>    </tr></thead><tbody>\n",
       "                <tr>\n",
       "                        <th id=\"T_7349d164_77b2_11eb_a924_484d7eba56eblevel0_row0\" class=\"row_heading level0 row0\" >0</th>\n",
       "                        <td id=\"T_7349d164_77b2_11eb_a924_484d7eba56ebrow0_col0\" class=\"data row0 col0\" >session_id</td>\n",
       "                        <td id=\"T_7349d164_77b2_11eb_a924_484d7eba56ebrow0_col1\" class=\"data row0 col1\" >59</td>\n",
       "            </tr>\n",
       "            <tr>\n",
       "                        <th id=\"T_7349d164_77b2_11eb_a924_484d7eba56eblevel0_row1\" class=\"row_heading level0 row1\" >1</th>\n",
       "                        <td id=\"T_7349d164_77b2_11eb_a924_484d7eba56ebrow1_col0\" class=\"data row1 col0\" >Target</td>\n",
       "                        <td id=\"T_7349d164_77b2_11eb_a924_484d7eba56ebrow1_col1\" class=\"data row1 col1\" >cover_type</td>\n",
       "            </tr>\n",
       "            <tr>\n",
       "                        <th id=\"T_7349d164_77b2_11eb_a924_484d7eba56eblevel0_row2\" class=\"row_heading level0 row2\" >2</th>\n",
       "                        <td id=\"T_7349d164_77b2_11eb_a924_484d7eba56ebrow2_col0\" class=\"data row2 col0\" >Target Type</td>\n",
       "                        <td id=\"T_7349d164_77b2_11eb_a924_484d7eba56ebrow2_col1\" class=\"data row2 col1\" >Multiclass</td>\n",
       "            </tr>\n",
       "            <tr>\n",
       "                        <th id=\"T_7349d164_77b2_11eb_a924_484d7eba56eblevel0_row3\" class=\"row_heading level0 row3\" >3</th>\n",
       "                        <td id=\"T_7349d164_77b2_11eb_a924_484d7eba56ebrow3_col0\" class=\"data row3 col0\" >Label Encoded</td>\n",
       "                        <td id=\"T_7349d164_77b2_11eb_a924_484d7eba56ebrow3_col1\" class=\"data row3 col1\" >1: 0, 2: 1, 3: 2, 4: 3, 5: 4, 6: 5, 7: 6</td>\n",
       "            </tr>\n",
       "            <tr>\n",
       "                        <th id=\"T_7349d164_77b2_11eb_a924_484d7eba56eblevel0_row4\" class=\"row_heading level0 row4\" >4</th>\n",
       "                        <td id=\"T_7349d164_77b2_11eb_a924_484d7eba56ebrow4_col0\" class=\"data row4 col0\" >Original Data</td>\n",
       "                        <td id=\"T_7349d164_77b2_11eb_a924_484d7eba56ebrow4_col1\" class=\"data row4 col1\" >(581012, 13)</td>\n",
       "            </tr>\n",
       "            <tr>\n",
       "                        <th id=\"T_7349d164_77b2_11eb_a924_484d7eba56eblevel0_row5\" class=\"row_heading level0 row5\" >5</th>\n",
       "                        <td id=\"T_7349d164_77b2_11eb_a924_484d7eba56ebrow5_col0\" class=\"data row5 col0\" >Missing Values</td>\n",
       "                        <td id=\"T_7349d164_77b2_11eb_a924_484d7eba56ebrow5_col1\" class=\"data row5 col1\" >False</td>\n",
       "            </tr>\n",
       "            <tr>\n",
       "                        <th id=\"T_7349d164_77b2_11eb_a924_484d7eba56eblevel0_row6\" class=\"row_heading level0 row6\" >6</th>\n",
       "                        <td id=\"T_7349d164_77b2_11eb_a924_484d7eba56ebrow6_col0\" class=\"data row6 col0\" >Numeric Features</td>\n",
       "                        <td id=\"T_7349d164_77b2_11eb_a924_484d7eba56ebrow6_col1\" class=\"data row6 col1\" >10</td>\n",
       "            </tr>\n",
       "            <tr>\n",
       "                        <th id=\"T_7349d164_77b2_11eb_a924_484d7eba56eblevel0_row7\" class=\"row_heading level0 row7\" >7</th>\n",
       "                        <td id=\"T_7349d164_77b2_11eb_a924_484d7eba56ebrow7_col0\" class=\"data row7 col0\" >Categorical Features</td>\n",
       "                        <td id=\"T_7349d164_77b2_11eb_a924_484d7eba56ebrow7_col1\" class=\"data row7 col1\" >2</td>\n",
       "            </tr>\n",
       "            <tr>\n",
       "                        <th id=\"T_7349d164_77b2_11eb_a924_484d7eba56eblevel0_row8\" class=\"row_heading level0 row8\" >8</th>\n",
       "                        <td id=\"T_7349d164_77b2_11eb_a924_484d7eba56ebrow8_col0\" class=\"data row8 col0\" >Ordinal Features</td>\n",
       "                        <td id=\"T_7349d164_77b2_11eb_a924_484d7eba56ebrow8_col1\" class=\"data row8 col1\" >False</td>\n",
       "            </tr>\n",
       "            <tr>\n",
       "                        <th id=\"T_7349d164_77b2_11eb_a924_484d7eba56eblevel0_row9\" class=\"row_heading level0 row9\" >9</th>\n",
       "                        <td id=\"T_7349d164_77b2_11eb_a924_484d7eba56ebrow9_col0\" class=\"data row9 col0\" >High Cardinality Features</td>\n",
       "                        <td id=\"T_7349d164_77b2_11eb_a924_484d7eba56ebrow9_col1\" class=\"data row9 col1\" >False</td>\n",
       "            </tr>\n",
       "            <tr>\n",
       "                        <th id=\"T_7349d164_77b2_11eb_a924_484d7eba56eblevel0_row10\" class=\"row_heading level0 row10\" >10</th>\n",
       "                        <td id=\"T_7349d164_77b2_11eb_a924_484d7eba56ebrow10_col0\" class=\"data row10 col0\" >High Cardinality Method</td>\n",
       "                        <td id=\"T_7349d164_77b2_11eb_a924_484d7eba56ebrow10_col1\" class=\"data row10 col1\" >None</td>\n",
       "            </tr>\n",
       "            <tr>\n",
       "                        <th id=\"T_7349d164_77b2_11eb_a924_484d7eba56eblevel0_row11\" class=\"row_heading level0 row11\" >11</th>\n",
       "                        <td id=\"T_7349d164_77b2_11eb_a924_484d7eba56ebrow11_col0\" class=\"data row11 col0\" >Transformed Train Set</td>\n",
       "                        <td id=\"T_7349d164_77b2_11eb_a924_484d7eba56ebrow11_col1\" class=\"data row11 col1\" >(406708, 18)</td>\n",
       "            </tr>\n",
       "            <tr>\n",
       "                        <th id=\"T_7349d164_77b2_11eb_a924_484d7eba56eblevel0_row12\" class=\"row_heading level0 row12\" >12</th>\n",
       "                        <td id=\"T_7349d164_77b2_11eb_a924_484d7eba56ebrow12_col0\" class=\"data row12 col0\" >Transformed Test Set</td>\n",
       "                        <td id=\"T_7349d164_77b2_11eb_a924_484d7eba56ebrow12_col1\" class=\"data row12 col1\" >(174304, 18)</td>\n",
       "            </tr>\n",
       "            <tr>\n",
       "                        <th id=\"T_7349d164_77b2_11eb_a924_484d7eba56eblevel0_row13\" class=\"row_heading level0 row13\" >13</th>\n",
       "                        <td id=\"T_7349d164_77b2_11eb_a924_484d7eba56ebrow13_col0\" class=\"data row13 col0\" >Shuffle Train-Test</td>\n",
       "                        <td id=\"T_7349d164_77b2_11eb_a924_484d7eba56ebrow13_col1\" class=\"data row13 col1\" >True</td>\n",
       "            </tr>\n",
       "            <tr>\n",
       "                        <th id=\"T_7349d164_77b2_11eb_a924_484d7eba56eblevel0_row14\" class=\"row_heading level0 row14\" >14</th>\n",
       "                        <td id=\"T_7349d164_77b2_11eb_a924_484d7eba56ebrow14_col0\" class=\"data row14 col0\" >Stratify Train-Test</td>\n",
       "                        <td id=\"T_7349d164_77b2_11eb_a924_484d7eba56ebrow14_col1\" class=\"data row14 col1\" >False</td>\n",
       "            </tr>\n",
       "            <tr>\n",
       "                        <th id=\"T_7349d164_77b2_11eb_a924_484d7eba56eblevel0_row15\" class=\"row_heading level0 row15\" >15</th>\n",
       "                        <td id=\"T_7349d164_77b2_11eb_a924_484d7eba56ebrow15_col0\" class=\"data row15 col0\" >Fold Generator</td>\n",
       "                        <td id=\"T_7349d164_77b2_11eb_a924_484d7eba56ebrow15_col1\" class=\"data row15 col1\" >StratifiedKFold</td>\n",
       "            </tr>\n",
       "            <tr>\n",
       "                        <th id=\"T_7349d164_77b2_11eb_a924_484d7eba56eblevel0_row16\" class=\"row_heading level0 row16\" >16</th>\n",
       "                        <td id=\"T_7349d164_77b2_11eb_a924_484d7eba56ebrow16_col0\" class=\"data row16 col0\" >Fold Number</td>\n",
       "                        <td id=\"T_7349d164_77b2_11eb_a924_484d7eba56ebrow16_col1\" class=\"data row16 col1\" >3</td>\n",
       "            </tr>\n",
       "            <tr>\n",
       "                        <th id=\"T_7349d164_77b2_11eb_a924_484d7eba56eblevel0_row17\" class=\"row_heading level0 row17\" >17</th>\n",
       "                        <td id=\"T_7349d164_77b2_11eb_a924_484d7eba56ebrow17_col0\" class=\"data row17 col0\" >CPU Jobs</td>\n",
       "                        <td id=\"T_7349d164_77b2_11eb_a924_484d7eba56ebrow17_col1\" class=\"data row17 col1\" >-1</td>\n",
       "            </tr>\n",
       "            <tr>\n",
       "                        <th id=\"T_7349d164_77b2_11eb_a924_484d7eba56eblevel0_row18\" class=\"row_heading level0 row18\" >18</th>\n",
       "                        <td id=\"T_7349d164_77b2_11eb_a924_484d7eba56ebrow18_col0\" class=\"data row18 col0\" >Use GPU</td>\n",
       "                        <td id=\"T_7349d164_77b2_11eb_a924_484d7eba56ebrow18_col1\" class=\"data row18 col1\" >False</td>\n",
       "            </tr>\n",
       "            <tr>\n",
       "                        <th id=\"T_7349d164_77b2_11eb_a924_484d7eba56eblevel0_row19\" class=\"row_heading level0 row19\" >19</th>\n",
       "                        <td id=\"T_7349d164_77b2_11eb_a924_484d7eba56ebrow19_col0\" class=\"data row19 col0\" >Log Experiment</td>\n",
       "                        <td id=\"T_7349d164_77b2_11eb_a924_484d7eba56ebrow19_col1\" class=\"data row19 col1\" >False</td>\n",
       "            </tr>\n",
       "            <tr>\n",
       "                        <th id=\"T_7349d164_77b2_11eb_a924_484d7eba56eblevel0_row20\" class=\"row_heading level0 row20\" >20</th>\n",
       "                        <td id=\"T_7349d164_77b2_11eb_a924_484d7eba56ebrow20_col0\" class=\"data row20 col0\" >Experiment Name</td>\n",
       "                        <td id=\"T_7349d164_77b2_11eb_a924_484d7eba56ebrow20_col1\" class=\"data row20 col1\" >tune decision tree</td>\n",
       "            </tr>\n",
       "            <tr>\n",
       "                        <th id=\"T_7349d164_77b2_11eb_a924_484d7eba56eblevel0_row21\" class=\"row_heading level0 row21\" >21</th>\n",
       "                        <td id=\"T_7349d164_77b2_11eb_a924_484d7eba56ebrow21_col0\" class=\"data row21 col0\" >USI</td>\n",
       "                        <td id=\"T_7349d164_77b2_11eb_a924_484d7eba56ebrow21_col1\" class=\"data row21 col1\" >a655</td>\n",
       "            </tr>\n",
       "            <tr>\n",
       "                        <th id=\"T_7349d164_77b2_11eb_a924_484d7eba56eblevel0_row22\" class=\"row_heading level0 row22\" >22</th>\n",
       "                        <td id=\"T_7349d164_77b2_11eb_a924_484d7eba56ebrow22_col0\" class=\"data row22 col0\" >Imputation Type</td>\n",
       "                        <td id=\"T_7349d164_77b2_11eb_a924_484d7eba56ebrow22_col1\" class=\"data row22 col1\" >simple</td>\n",
       "            </tr>\n",
       "            <tr>\n",
       "                        <th id=\"T_7349d164_77b2_11eb_a924_484d7eba56eblevel0_row23\" class=\"row_heading level0 row23\" >23</th>\n",
       "                        <td id=\"T_7349d164_77b2_11eb_a924_484d7eba56ebrow23_col0\" class=\"data row23 col0\" >Iterative Imputation Iteration</td>\n",
       "                        <td id=\"T_7349d164_77b2_11eb_a924_484d7eba56ebrow23_col1\" class=\"data row23 col1\" >None</td>\n",
       "            </tr>\n",
       "            <tr>\n",
       "                        <th id=\"T_7349d164_77b2_11eb_a924_484d7eba56eblevel0_row24\" class=\"row_heading level0 row24\" >24</th>\n",
       "                        <td id=\"T_7349d164_77b2_11eb_a924_484d7eba56ebrow24_col0\" class=\"data row24 col0\" >Numeric Imputer</td>\n",
       "                        <td id=\"T_7349d164_77b2_11eb_a924_484d7eba56ebrow24_col1\" class=\"data row24 col1\" >mean</td>\n",
       "            </tr>\n",
       "            <tr>\n",
       "                        <th id=\"T_7349d164_77b2_11eb_a924_484d7eba56eblevel0_row25\" class=\"row_heading level0 row25\" >25</th>\n",
       "                        <td id=\"T_7349d164_77b2_11eb_a924_484d7eba56ebrow25_col0\" class=\"data row25 col0\" >Iterative Imputation Numeric Model</td>\n",
       "                        <td id=\"T_7349d164_77b2_11eb_a924_484d7eba56ebrow25_col1\" class=\"data row25 col1\" >None</td>\n",
       "            </tr>\n",
       "            <tr>\n",
       "                        <th id=\"T_7349d164_77b2_11eb_a924_484d7eba56eblevel0_row26\" class=\"row_heading level0 row26\" >26</th>\n",
       "                        <td id=\"T_7349d164_77b2_11eb_a924_484d7eba56ebrow26_col0\" class=\"data row26 col0\" >Categorical Imputer</td>\n",
       "                        <td id=\"T_7349d164_77b2_11eb_a924_484d7eba56ebrow26_col1\" class=\"data row26 col1\" >constant</td>\n",
       "            </tr>\n",
       "            <tr>\n",
       "                        <th id=\"T_7349d164_77b2_11eb_a924_484d7eba56eblevel0_row27\" class=\"row_heading level0 row27\" >27</th>\n",
       "                        <td id=\"T_7349d164_77b2_11eb_a924_484d7eba56ebrow27_col0\" class=\"data row27 col0\" >Iterative Imputation Categorical Model</td>\n",
       "                        <td id=\"T_7349d164_77b2_11eb_a924_484d7eba56ebrow27_col1\" class=\"data row27 col1\" >None</td>\n",
       "            </tr>\n",
       "            <tr>\n",
       "                        <th id=\"T_7349d164_77b2_11eb_a924_484d7eba56eblevel0_row28\" class=\"row_heading level0 row28\" >28</th>\n",
       "                        <td id=\"T_7349d164_77b2_11eb_a924_484d7eba56ebrow28_col0\" class=\"data row28 col0\" >Unknown Categoricals Handling</td>\n",
       "                        <td id=\"T_7349d164_77b2_11eb_a924_484d7eba56ebrow28_col1\" class=\"data row28 col1\" >least_frequent</td>\n",
       "            </tr>\n",
       "            <tr>\n",
       "                        <th id=\"T_7349d164_77b2_11eb_a924_484d7eba56eblevel0_row29\" class=\"row_heading level0 row29\" >29</th>\n",
       "                        <td id=\"T_7349d164_77b2_11eb_a924_484d7eba56ebrow29_col0\" class=\"data row29 col0\" >Normalize</td>\n",
       "                        <td id=\"T_7349d164_77b2_11eb_a924_484d7eba56ebrow29_col1\" class=\"data row29 col1\" >True</td>\n",
       "            </tr>\n",
       "            <tr>\n",
       "                        <th id=\"T_7349d164_77b2_11eb_a924_484d7eba56eblevel0_row30\" class=\"row_heading level0 row30\" >30</th>\n",
       "                        <td id=\"T_7349d164_77b2_11eb_a924_484d7eba56ebrow30_col0\" class=\"data row30 col0\" >Normalize Method</td>\n",
       "                        <td id=\"T_7349d164_77b2_11eb_a924_484d7eba56ebrow30_col1\" class=\"data row30 col1\" >minmax</td>\n",
       "            </tr>\n",
       "            <tr>\n",
       "                        <th id=\"T_7349d164_77b2_11eb_a924_484d7eba56eblevel0_row31\" class=\"row_heading level0 row31\" >31</th>\n",
       "                        <td id=\"T_7349d164_77b2_11eb_a924_484d7eba56ebrow31_col0\" class=\"data row31 col0\" >Transformation</td>\n",
       "                        <td id=\"T_7349d164_77b2_11eb_a924_484d7eba56ebrow31_col1\" class=\"data row31 col1\" >False</td>\n",
       "            </tr>\n",
       "            <tr>\n",
       "                        <th id=\"T_7349d164_77b2_11eb_a924_484d7eba56eblevel0_row32\" class=\"row_heading level0 row32\" >32</th>\n",
       "                        <td id=\"T_7349d164_77b2_11eb_a924_484d7eba56ebrow32_col0\" class=\"data row32 col0\" >Transformation Method</td>\n",
       "                        <td id=\"T_7349d164_77b2_11eb_a924_484d7eba56ebrow32_col1\" class=\"data row32 col1\" >None</td>\n",
       "            </tr>\n",
       "            <tr>\n",
       "                        <th id=\"T_7349d164_77b2_11eb_a924_484d7eba56eblevel0_row33\" class=\"row_heading level0 row33\" >33</th>\n",
       "                        <td id=\"T_7349d164_77b2_11eb_a924_484d7eba56ebrow33_col0\" class=\"data row33 col0\" >PCA</td>\n",
       "                        <td id=\"T_7349d164_77b2_11eb_a924_484d7eba56ebrow33_col1\" class=\"data row33 col1\" >False</td>\n",
       "            </tr>\n",
       "            <tr>\n",
       "                        <th id=\"T_7349d164_77b2_11eb_a924_484d7eba56eblevel0_row34\" class=\"row_heading level0 row34\" >34</th>\n",
       "                        <td id=\"T_7349d164_77b2_11eb_a924_484d7eba56ebrow34_col0\" class=\"data row34 col0\" >PCA Method</td>\n",
       "                        <td id=\"T_7349d164_77b2_11eb_a924_484d7eba56ebrow34_col1\" class=\"data row34 col1\" >None</td>\n",
       "            </tr>\n",
       "            <tr>\n",
       "                        <th id=\"T_7349d164_77b2_11eb_a924_484d7eba56eblevel0_row35\" class=\"row_heading level0 row35\" >35</th>\n",
       "                        <td id=\"T_7349d164_77b2_11eb_a924_484d7eba56ebrow35_col0\" class=\"data row35 col0\" >PCA Components</td>\n",
       "                        <td id=\"T_7349d164_77b2_11eb_a924_484d7eba56ebrow35_col1\" class=\"data row35 col1\" >None</td>\n",
       "            </tr>\n",
       "            <tr>\n",
       "                        <th id=\"T_7349d164_77b2_11eb_a924_484d7eba56eblevel0_row36\" class=\"row_heading level0 row36\" >36</th>\n",
       "                        <td id=\"T_7349d164_77b2_11eb_a924_484d7eba56ebrow36_col0\" class=\"data row36 col0\" >Ignore Low Variance</td>\n",
       "                        <td id=\"T_7349d164_77b2_11eb_a924_484d7eba56ebrow36_col1\" class=\"data row36 col1\" >False</td>\n",
       "            </tr>\n",
       "            <tr>\n",
       "                        <th id=\"T_7349d164_77b2_11eb_a924_484d7eba56eblevel0_row37\" class=\"row_heading level0 row37\" >37</th>\n",
       "                        <td id=\"T_7349d164_77b2_11eb_a924_484d7eba56ebrow37_col0\" class=\"data row37 col0\" >Combine Rare Levels</td>\n",
       "                        <td id=\"T_7349d164_77b2_11eb_a924_484d7eba56ebrow37_col1\" class=\"data row37 col1\" >False</td>\n",
       "            </tr>\n",
       "            <tr>\n",
       "                        <th id=\"T_7349d164_77b2_11eb_a924_484d7eba56eblevel0_row38\" class=\"row_heading level0 row38\" >38</th>\n",
       "                        <td id=\"T_7349d164_77b2_11eb_a924_484d7eba56ebrow38_col0\" class=\"data row38 col0\" >Rare Level Threshold</td>\n",
       "                        <td id=\"T_7349d164_77b2_11eb_a924_484d7eba56ebrow38_col1\" class=\"data row38 col1\" >None</td>\n",
       "            </tr>\n",
       "            <tr>\n",
       "                        <th id=\"T_7349d164_77b2_11eb_a924_484d7eba56eblevel0_row39\" class=\"row_heading level0 row39\" >39</th>\n",
       "                        <td id=\"T_7349d164_77b2_11eb_a924_484d7eba56ebrow39_col0\" class=\"data row39 col0\" >Numeric Binning</td>\n",
       "                        <td id=\"T_7349d164_77b2_11eb_a924_484d7eba56ebrow39_col1\" class=\"data row39 col1\" >False</td>\n",
       "            </tr>\n",
       "            <tr>\n",
       "                        <th id=\"T_7349d164_77b2_11eb_a924_484d7eba56eblevel0_row40\" class=\"row_heading level0 row40\" >40</th>\n",
       "                        <td id=\"T_7349d164_77b2_11eb_a924_484d7eba56ebrow40_col0\" class=\"data row40 col0\" >Remove Outliers</td>\n",
       "                        <td id=\"T_7349d164_77b2_11eb_a924_484d7eba56ebrow40_col1\" class=\"data row40 col1\" >False</td>\n",
       "            </tr>\n",
       "            <tr>\n",
       "                        <th id=\"T_7349d164_77b2_11eb_a924_484d7eba56eblevel0_row41\" class=\"row_heading level0 row41\" >41</th>\n",
       "                        <td id=\"T_7349d164_77b2_11eb_a924_484d7eba56ebrow41_col0\" class=\"data row41 col0\" >Outliers Threshold</td>\n",
       "                        <td id=\"T_7349d164_77b2_11eb_a924_484d7eba56ebrow41_col1\" class=\"data row41 col1\" >None</td>\n",
       "            </tr>\n",
       "            <tr>\n",
       "                        <th id=\"T_7349d164_77b2_11eb_a924_484d7eba56eblevel0_row42\" class=\"row_heading level0 row42\" >42</th>\n",
       "                        <td id=\"T_7349d164_77b2_11eb_a924_484d7eba56ebrow42_col0\" class=\"data row42 col0\" >Remove Multicollinearity</td>\n",
       "                        <td id=\"T_7349d164_77b2_11eb_a924_484d7eba56ebrow42_col1\" class=\"data row42 col1\" >False</td>\n",
       "            </tr>\n",
       "            <tr>\n",
       "                        <th id=\"T_7349d164_77b2_11eb_a924_484d7eba56eblevel0_row43\" class=\"row_heading level0 row43\" >43</th>\n",
       "                        <td id=\"T_7349d164_77b2_11eb_a924_484d7eba56ebrow43_col0\" class=\"data row43 col0\" >Multicollinearity Threshold</td>\n",
       "                        <td id=\"T_7349d164_77b2_11eb_a924_484d7eba56ebrow43_col1\" class=\"data row43 col1\" >None</td>\n",
       "            </tr>\n",
       "            <tr>\n",
       "                        <th id=\"T_7349d164_77b2_11eb_a924_484d7eba56eblevel0_row44\" class=\"row_heading level0 row44\" >44</th>\n",
       "                        <td id=\"T_7349d164_77b2_11eb_a924_484d7eba56ebrow44_col0\" class=\"data row44 col0\" >Clustering</td>\n",
       "                        <td id=\"T_7349d164_77b2_11eb_a924_484d7eba56ebrow44_col1\" class=\"data row44 col1\" >False</td>\n",
       "            </tr>\n",
       "            <tr>\n",
       "                        <th id=\"T_7349d164_77b2_11eb_a924_484d7eba56eblevel0_row45\" class=\"row_heading level0 row45\" >45</th>\n",
       "                        <td id=\"T_7349d164_77b2_11eb_a924_484d7eba56ebrow45_col0\" class=\"data row45 col0\" >Clustering Iteration</td>\n",
       "                        <td id=\"T_7349d164_77b2_11eb_a924_484d7eba56ebrow45_col1\" class=\"data row45 col1\" >None</td>\n",
       "            </tr>\n",
       "            <tr>\n",
       "                        <th id=\"T_7349d164_77b2_11eb_a924_484d7eba56eblevel0_row46\" class=\"row_heading level0 row46\" >46</th>\n",
       "                        <td id=\"T_7349d164_77b2_11eb_a924_484d7eba56ebrow46_col0\" class=\"data row46 col0\" >Polynomial Features</td>\n",
       "                        <td id=\"T_7349d164_77b2_11eb_a924_484d7eba56ebrow46_col1\" class=\"data row46 col1\" >False</td>\n",
       "            </tr>\n",
       "            <tr>\n",
       "                        <th id=\"T_7349d164_77b2_11eb_a924_484d7eba56eblevel0_row47\" class=\"row_heading level0 row47\" >47</th>\n",
       "                        <td id=\"T_7349d164_77b2_11eb_a924_484d7eba56ebrow47_col0\" class=\"data row47 col0\" >Polynomial Degree</td>\n",
       "                        <td id=\"T_7349d164_77b2_11eb_a924_484d7eba56ebrow47_col1\" class=\"data row47 col1\" >None</td>\n",
       "            </tr>\n",
       "            <tr>\n",
       "                        <th id=\"T_7349d164_77b2_11eb_a924_484d7eba56eblevel0_row48\" class=\"row_heading level0 row48\" >48</th>\n",
       "                        <td id=\"T_7349d164_77b2_11eb_a924_484d7eba56ebrow48_col0\" class=\"data row48 col0\" >Trignometry Features</td>\n",
       "                        <td id=\"T_7349d164_77b2_11eb_a924_484d7eba56ebrow48_col1\" class=\"data row48 col1\" >False</td>\n",
       "            </tr>\n",
       "            <tr>\n",
       "                        <th id=\"T_7349d164_77b2_11eb_a924_484d7eba56eblevel0_row49\" class=\"row_heading level0 row49\" >49</th>\n",
       "                        <td id=\"T_7349d164_77b2_11eb_a924_484d7eba56ebrow49_col0\" class=\"data row49 col0\" >Polynomial Threshold</td>\n",
       "                        <td id=\"T_7349d164_77b2_11eb_a924_484d7eba56ebrow49_col1\" class=\"data row49 col1\" >None</td>\n",
       "            </tr>\n",
       "            <tr>\n",
       "                        <th id=\"T_7349d164_77b2_11eb_a924_484d7eba56eblevel0_row50\" class=\"row_heading level0 row50\" >50</th>\n",
       "                        <td id=\"T_7349d164_77b2_11eb_a924_484d7eba56ebrow50_col0\" class=\"data row50 col0\" >Group Features</td>\n",
       "                        <td id=\"T_7349d164_77b2_11eb_a924_484d7eba56ebrow50_col1\" class=\"data row50 col1\" >False</td>\n",
       "            </tr>\n",
       "            <tr>\n",
       "                        <th id=\"T_7349d164_77b2_11eb_a924_484d7eba56eblevel0_row51\" class=\"row_heading level0 row51\" >51</th>\n",
       "                        <td id=\"T_7349d164_77b2_11eb_a924_484d7eba56ebrow51_col0\" class=\"data row51 col0\" >Feature Selection</td>\n",
       "                        <td id=\"T_7349d164_77b2_11eb_a924_484d7eba56ebrow51_col1\" class=\"data row51 col1\" >False</td>\n",
       "            </tr>\n",
       "            <tr>\n",
       "                        <th id=\"T_7349d164_77b2_11eb_a924_484d7eba56eblevel0_row52\" class=\"row_heading level0 row52\" >52</th>\n",
       "                        <td id=\"T_7349d164_77b2_11eb_a924_484d7eba56ebrow52_col0\" class=\"data row52 col0\" >Features Selection Threshold</td>\n",
       "                        <td id=\"T_7349d164_77b2_11eb_a924_484d7eba56ebrow52_col1\" class=\"data row52 col1\" >None</td>\n",
       "            </tr>\n",
       "            <tr>\n",
       "                        <th id=\"T_7349d164_77b2_11eb_a924_484d7eba56eblevel0_row53\" class=\"row_heading level0 row53\" >53</th>\n",
       "                        <td id=\"T_7349d164_77b2_11eb_a924_484d7eba56ebrow53_col0\" class=\"data row53 col0\" >Feature Interaction</td>\n",
       "                        <td id=\"T_7349d164_77b2_11eb_a924_484d7eba56ebrow53_col1\" class=\"data row53 col1\" >False</td>\n",
       "            </tr>\n",
       "            <tr>\n",
       "                        <th id=\"T_7349d164_77b2_11eb_a924_484d7eba56eblevel0_row54\" class=\"row_heading level0 row54\" >54</th>\n",
       "                        <td id=\"T_7349d164_77b2_11eb_a924_484d7eba56ebrow54_col0\" class=\"data row54 col0\" >Feature Ratio</td>\n",
       "                        <td id=\"T_7349d164_77b2_11eb_a924_484d7eba56ebrow54_col1\" class=\"data row54 col1\" >False</td>\n",
       "            </tr>\n",
       "            <tr>\n",
       "                        <th id=\"T_7349d164_77b2_11eb_a924_484d7eba56eblevel0_row55\" class=\"row_heading level0 row55\" >55</th>\n",
       "                        <td id=\"T_7349d164_77b2_11eb_a924_484d7eba56ebrow55_col0\" class=\"data row55 col0\" >Interaction Threshold</td>\n",
       "                        <td id=\"T_7349d164_77b2_11eb_a924_484d7eba56ebrow55_col1\" class=\"data row55 col1\" >None</td>\n",
       "            </tr>\n",
       "            <tr>\n",
       "                        <th id=\"T_7349d164_77b2_11eb_a924_484d7eba56eblevel0_row56\" class=\"row_heading level0 row56\" >56</th>\n",
       "                        <td id=\"T_7349d164_77b2_11eb_a924_484d7eba56ebrow56_col0\" class=\"data row56 col0\" >Fix Imbalance</td>\n",
       "                        <td id=\"T_7349d164_77b2_11eb_a924_484d7eba56ebrow56_col1\" class=\"data row56 col1\" >True</td>\n",
       "            </tr>\n",
       "            <tr>\n",
       "                        <th id=\"T_7349d164_77b2_11eb_a924_484d7eba56eblevel0_row57\" class=\"row_heading level0 row57\" >57</th>\n",
       "                        <td id=\"T_7349d164_77b2_11eb_a924_484d7eba56ebrow57_col0\" class=\"data row57 col0\" >Fix Imbalance Method</td>\n",
       "                        <td id=\"T_7349d164_77b2_11eb_a924_484d7eba56ebrow57_col1\" class=\"data row57 col1\" >SMOTEENN</td>\n",
       "            </tr>\n",
       "    </tbody></table>"
      ],
      "text/plain": [
       "<pandas.io.formats.style.Styler at 0x165d77ae388>"
      ]
     },
     "metadata": {},
     "output_type": "display_data"
    }
   ],
   "source": [
    "su_grand     = setup(data = df_su, target = target_col[0],\n",
    "                     categorical_features = features_cat_pycaret_pre_process,\n",
    "                     normalize = True, normalize_method = 'minmax',\n",
    "                     fix_imbalance = True, fix_imbalance_method = the_smote,\n",
    "                     train_size = 0.7, fold = 3, session_id = 59, use_gpu = su_use_gpu,\n",
    "                     log_experiment = su_log_exp, experiment_name = su_name_exp, log_profile = su_log_profile,\n",
    "                     #profile = True\n",
    "                     silent = su_silent\n",
    "                     )"
   ]
  },
  {
   "cell_type": "code",
   "execution_count": null,
   "metadata": {
    "collapsed": true,
    "jupyter": {
     "outputs_hidden": true
    }
   },
   "outputs": [],
   "source": []
  },
  {
   "cell_type": "markdown",
   "metadata": {},
   "source": [
    "# fit tuned decision tree model with all data\n",
    "https://scikit-learn.org/stable/modules/generated/sklearn.tree.DecisionTreeClassifier.html#sklearn.tree.DecisionTreeClassifier"
   ]
  },
  {
   "cell_type": "code",
   "execution_count": 209,
   "metadata": {
    "collapsed": true
   },
   "outputs": [],
   "source": [
    "dt_with_tuned_parameters = DecisionTreeClassifier(max_depth=20, min_samples_leaf=4, min_samples_split=6,\n",
    "                                                  criterion='entropy', max_features=1.0)"
   ]
  },
  {
   "cell_type": "code",
   "execution_count": null,
   "metadata": {
    "collapsed": true
   },
   "outputs": [],
   "source": [
    "finalized_dt = create_model(estimator=dt_with_tuned_parameters, cross_validation=False)"
   ]
  },
  {
   "cell_type": "markdown",
   "metadata": {},
   "source": [
    "### investigate finalized model performance"
   ]
  },
  {
   "cell_type": "code",
   "execution_count": null,
   "metadata": {
    "collapsed": true,
    "jupyter": {
     "outputs_hidden": true
    }
   },
   "outputs": [],
   "source": [
    "plot_model(finalized_dt, plot='error')"
   ]
  },
  {
   "cell_type": "code",
   "execution_count": null,
   "metadata": {
    "collapsed": true,
    "jupyter": {
     "outputs_hidden": true
    }
   },
   "outputs": [],
   "source": [
    "plot_model(finalized_dt, plot='class_report')"
   ]
  },
  {
   "cell_type": "code",
   "execution_count": null,
   "metadata": {
    "collapsed": true
   },
   "outputs": [],
   "source": []
  },
  {
   "cell_type": "markdown",
   "metadata": {},
   "source": [
    "# save model"
   ]
  },
  {
   "cell_type": "code",
   "execution_count": null,
   "metadata": {
    "collapsed": true,
    "jupyter": {
     "outputs_hidden": true
    }
   },
   "outputs": [],
   "source": [
    "save_model(finalized_dt, 'finalized_dt_model')"
   ]
  },
  {
   "cell_type": "code",
   "execution_count": null,
   "metadata": {
    "collapsed": true,
    "jupyter": {
     "outputs_hidden": true
    }
   },
   "outputs": [],
   "source": [
    "saved_finalized_model_dt = load_model('finalized_dt_model')"
   ]
  },
  {
   "cell_type": "code",
   "execution_count": null,
   "metadata": {
    "collapsed": true,
    "jupyter": {
     "outputs_hidden": true
    }
   },
   "outputs": [],
   "source": [
    "type(saved_finalized_model_dt)\n",
    "saved_finalized_model_dt"
   ]
  },
  {
   "cell_type": "code",
   "execution_count": null,
   "metadata": {
    "collapsed": true,
    "jupyter": {
     "outputs_hidden": true
    }
   },
   "outputs": [],
   "source": []
  },
  {
   "cell_type": "code",
   "execution_count": null,
   "metadata": {
    "collapsed": true,
    "jupyter": {
     "outputs_hidden": true
    }
   },
   "outputs": [],
   "source": []
  },
  {
   "cell_type": "code",
   "execution_count": null,
   "metadata": {
    "collapsed": true,
    "jupyter": {
     "outputs_hidden": true
    }
   },
   "outputs": [],
   "source": []
  },
  {
   "cell_type": "code",
   "execution_count": null,
   "metadata": {
    "collapsed": true,
    "jupyter": {
     "outputs_hidden": true
    }
   },
   "outputs": [],
   "source": []
  },
  {
   "cell_type": "code",
   "execution_count": null,
   "metadata": {
    "collapsed": true,
    "jupyter": {
     "outputs_hidden": true
    }
   },
   "outputs": [],
   "source": []
  }
 ],
 "metadata": {
  "kernelspec": {
   "display_name": "Python 3",
   "language": "python",
   "name": "python3"
  },
  "language_info": {
   "codemirror_mode": {
    "name": "ipython",
    "version": 3
   },
   "file_extension": ".py",
   "mimetype": "text/x-python",
   "name": "python",
   "nbconvert_exporter": "python",
   "pygments_lexer": "ipython3",
   "version": "3.7.8"
  }
 },
 "nbformat": 4,
 "nbformat_minor": 4
}
