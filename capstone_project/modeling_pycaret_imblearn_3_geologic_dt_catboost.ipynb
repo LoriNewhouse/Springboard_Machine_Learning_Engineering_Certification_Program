{
 "cells": [
  {
   "cell_type": "code",
   "execution_count": null,
   "metadata": {
    "jupyter": {
     "outputs_hidden": true
    }
   },
   "outputs": [],
   "source": []
  },
  {
   "cell_type": "code",
   "execution_count": 1,
   "metadata": {
    "jupyter": {
     "outputs_hidden": true
    }
   },
   "outputs": [],
   "source": [
    "from IPython.core.interactiveshell import InteractiveShell\n",
    "InteractiveShell.ast_node_interactivity = 'all'"
   ]
  },
  {
   "cell_type": "code",
   "execution_count": 2,
   "metadata": {
    "jupyter": {
     "outputs_hidden": true
    }
   },
   "outputs": [],
   "source": [
    "import pandas as pd\n",
    "import numpy as np\n",
    "from pprint import pprint as pp"
   ]
  },
  {
   "cell_type": "code",
   "execution_count": 3,
   "metadata": {
    "jupyter": {
     "outputs_hidden": true
    }
   },
   "outputs": [],
   "source": [
    "import matplotlib.pyplot as plt\n",
    "import seaborn as sns"
   ]
  },
  {
   "cell_type": "code",
   "execution_count": 4,
   "metadata": {
    "jupyter": {
     "outputs_hidden": true
    }
   },
   "outputs": [],
   "source": [
    "from sklearn.model_selection import train_test_split\n",
    "from sklearn.metrics import f1_score, precision_score, recall_score"
   ]
  },
  {
   "cell_type": "code",
   "execution_count": 5,
   "metadata": {
    "jupyter": {
     "outputs_hidden": true
    }
   },
   "outputs": [],
   "source": [
    "from collections import Counter\n",
    "from imblearn.over_sampling import SMOTENC\n",
    "from imblearn.combine import SMOTEENN\n",
    "from imblearn.under_sampling import EditedNearestNeighbours"
   ]
  },
  {
   "cell_type": "code",
   "execution_count": 6,
   "metadata": {
    "jupyter": {
     "outputs_hidden": true
    }
   },
   "outputs": [],
   "source": [
    "from pycaret.classification import *"
   ]
  },
  {
   "cell_type": "code",
   "execution_count": 7,
   "metadata": {
    "jupyter": {
     "outputs_hidden": true
    }
   },
   "outputs": [],
   "source": [
    "from helper_methods import make_dataframes_from_classification_report\n",
    "from helper_methods import print_info_from_pycaret_setup\n",
    "from helper_methods import find_dataframes_series_from_pycaret_setup, find_train_test_data_from_pycaret_setup"
   ]
  },
  {
   "cell_type": "code",
   "execution_count": null,
   "metadata": {
    "jupyter": {
     "outputs_hidden": true
    }
   },
   "outputs": [],
   "source": []
  },
  {
   "cell_type": "markdown",
   "metadata": {},
   "source": [
    "# OBJECTIVE"
   ]
  },
  {
   "cell_type": "code",
   "execution_count": null,
   "metadata": {
    "jupyter": {
     "outputs_hidden": true
    }
   },
   "outputs": [],
   "source": []
  },
  {
   "cell_type": "markdown",
   "metadata": {},
   "source": [
    "# preamble\n",
    "### logical to control dataset sizes for modeling\n",
    "##### `True` gives very small train and test set sizes for developing and debugging notebook\n",
    "##### `False` splits entire dataset into train and test"
   ]
  },
  {
   "cell_type": "code",
   "execution_count": 8,
   "metadata": {
    "jupyter": {
     "outputs_hidden": true
    }
   },
   "outputs": [],
   "source": [
    "#use_small_data_set = True\n",
    "use_small_data_set = False"
   ]
  },
  {
   "cell_type": "markdown",
   "metadata": {},
   "source": [
    "### pickle file name"
   ]
  },
  {
   "cell_type": "code",
   "execution_count": 9,
   "metadata": {
    "jupyter": {
     "outputs_hidden": true
    }
   },
   "outputs": [],
   "source": [
    "#running_on_local_machine = True\n",
    "running_on_local_machine = False\n",
    "\n",
    "if running_on_local_machine:\n",
    "    pickle_file_name = 'data/wrangled_data_update_soil.pkl'\n",
    "    pycaret_results_dir = 'pycaret_df_results/'\n",
    "else:\n",
    "    pickle_file_name = '/storage/wrangled_data_update_soil.pkl'\n",
    "    pycaret_results_dir = '/storage/pycaret_df_results/'"
   ]
  },
  {
   "cell_type": "code",
   "execution_count": null,
   "metadata": {
    "jupyter": {
     "outputs_hidden": true
    }
   },
   "outputs": [],
   "source": []
  },
  {
   "cell_type": "markdown",
   "metadata": {},
   "source": [
    "# read wrangled data from pickle"
   ]
  },
  {
   "cell_type": "code",
   "execution_count": 10,
   "metadata": {
    "jupyter": {
     "outputs_hidden": true
    }
   },
   "outputs": [],
   "source": [
    "df_data = pd.read_pickle(pickle_file_name)"
   ]
  },
  {
   "cell_type": "code",
   "execution_count": 11,
   "metadata": {
    "jupyter": {
     "outputs_hidden": true
    }
   },
   "outputs": [
    {
     "data": {
      "text/plain": [
       "(581012, 71)"
      ]
     },
     "execution_count": 11,
     "metadata": {},
     "output_type": "execute_result"
    },
    {
     "data": {
      "text/plain": [
       "Index(['elevation', 'aspect', 'slope', 'HD_hydrology', 'VD_hydrology',\n",
       "       'HD_roadways', 'hillshade_9am', 'hillshade_noon', 'hillshade_3pm',\n",
       "       'HD_fire_points', 'wild_area_rawah', 'wild_area_neota',\n",
       "       'wild_area_comanche_peak', 'wild_area_cache_la_poudre', 'soil_type_1',\n",
       "       'soil_type_2', 'soil_type_3', 'soil_type_4', 'soil_type_5',\n",
       "       'soil_type_6', 'soil_type_7', 'soil_type_8', 'soil_type_9',\n",
       "       'soil_type_10', 'soil_type_11', 'soil_type_12', 'soil_type_13',\n",
       "       'soil_type_14', 'soil_type_15', 'soil_type_16', 'soil_type_17',\n",
       "       'soil_type_18', 'soil_type_19', 'soil_type_20', 'soil_type_21',\n",
       "       'soil_type_22', 'soil_type_23', 'soil_type_24', 'soil_type_25',\n",
       "       'soil_type_26', 'soil_type_27', 'soil_type_28', 'soil_type_29',\n",
       "       'soil_type_30', 'soil_type_31', 'soil_type_32', 'soil_type_33',\n",
       "       'soil_type_34', 'soil_type_35', 'soil_type_36', 'soil_type_37',\n",
       "       'soil_type_38', 'soil_type_39', 'soil_type_40', 'cover_type',\n",
       "       'wilderness_index', 'wilderness_area', 'soil_index', 'climatic_zone',\n",
       "       'geologic_zone', 'both_zones', 'mms_elevation', 'mms_aspect',\n",
       "       'mms_slope', 'mms_HD_hydrology', 'mms_VD_hydrology', 'mms_HD_roadways',\n",
       "       'mms_hillshade_9am', 'mms_hillshade_noon', 'mms_hillshade_3pm',\n",
       "       'mms_HD_fire_points'],\n",
       "      dtype='object')"
      ]
     },
     "execution_count": 11,
     "metadata": {},
     "output_type": "execute_result"
    },
    {
     "data": {
      "text/html": [
       "<div>\n",
       "<style scoped>\n",
       "    .dataframe tbody tr th:only-of-type {\n",
       "        vertical-align: middle;\n",
       "    }\n",
       "\n",
       "    .dataframe tbody tr th {\n",
       "        vertical-align: top;\n",
       "    }\n",
       "\n",
       "    .dataframe thead th {\n",
       "        text-align: right;\n",
       "    }\n",
       "</style>\n",
       "<table border=\"1\" class=\"dataframe\">\n",
       "  <thead>\n",
       "    <tr style=\"text-align: right;\">\n",
       "      <th></th>\n",
       "      <th>elevation</th>\n",
       "      <th>aspect</th>\n",
       "      <th>slope</th>\n",
       "      <th>HD_hydrology</th>\n",
       "      <th>VD_hydrology</th>\n",
       "      <th>HD_roadways</th>\n",
       "      <th>hillshade_9am</th>\n",
       "      <th>hillshade_noon</th>\n",
       "      <th>hillshade_3pm</th>\n",
       "      <th>HD_fire_points</th>\n",
       "      <th>wild_area_rawah</th>\n",
       "      <th>wild_area_neota</th>\n",
       "      <th>wild_area_comanche_peak</th>\n",
       "      <th>wild_area_cache_la_poudre</th>\n",
       "      <th>soil_type_1</th>\n",
       "      <th>soil_type_2</th>\n",
       "      <th>soil_type_3</th>\n",
       "      <th>soil_type_4</th>\n",
       "      <th>soil_type_5</th>\n",
       "      <th>soil_type_6</th>\n",
       "      <th>soil_type_7</th>\n",
       "      <th>soil_type_8</th>\n",
       "      <th>soil_type_9</th>\n",
       "      <th>soil_type_10</th>\n",
       "      <th>soil_type_11</th>\n",
       "      <th>soil_type_12</th>\n",
       "      <th>soil_type_13</th>\n",
       "      <th>soil_type_14</th>\n",
       "      <th>soil_type_15</th>\n",
       "      <th>soil_type_16</th>\n",
       "      <th>soil_type_17</th>\n",
       "      <th>soil_type_18</th>\n",
       "      <th>soil_type_19</th>\n",
       "      <th>soil_type_20</th>\n",
       "      <th>soil_type_21</th>\n",
       "      <th>soil_type_22</th>\n",
       "      <th>soil_type_23</th>\n",
       "      <th>soil_type_24</th>\n",
       "      <th>soil_type_25</th>\n",
       "      <th>soil_type_26</th>\n",
       "      <th>soil_type_27</th>\n",
       "      <th>soil_type_28</th>\n",
       "      <th>soil_type_29</th>\n",
       "      <th>soil_type_30</th>\n",
       "      <th>soil_type_31</th>\n",
       "      <th>soil_type_32</th>\n",
       "      <th>soil_type_33</th>\n",
       "      <th>soil_type_34</th>\n",
       "      <th>soil_type_35</th>\n",
       "      <th>soil_type_36</th>\n",
       "      <th>soil_type_37</th>\n",
       "      <th>soil_type_38</th>\n",
       "      <th>soil_type_39</th>\n",
       "      <th>soil_type_40</th>\n",
       "      <th>cover_type</th>\n",
       "      <th>wilderness_index</th>\n",
       "      <th>wilderness_area</th>\n",
       "      <th>soil_index</th>\n",
       "      <th>climatic_zone</th>\n",
       "      <th>geologic_zone</th>\n",
       "      <th>both_zones</th>\n",
       "      <th>mms_elevation</th>\n",
       "      <th>mms_aspect</th>\n",
       "      <th>mms_slope</th>\n",
       "      <th>mms_HD_hydrology</th>\n",
       "      <th>mms_VD_hydrology</th>\n",
       "      <th>mms_HD_roadways</th>\n",
       "      <th>mms_hillshade_9am</th>\n",
       "      <th>mms_hillshade_noon</th>\n",
       "      <th>mms_hillshade_3pm</th>\n",
       "      <th>mms_HD_fire_points</th>\n",
       "    </tr>\n",
       "  </thead>\n",
       "  <tbody>\n",
       "    <tr>\n",
       "      <th>0</th>\n",
       "      <td>2596</td>\n",
       "      <td>51</td>\n",
       "      <td>3</td>\n",
       "      <td>258</td>\n",
       "      <td>0</td>\n",
       "      <td>510</td>\n",
       "      <td>221</td>\n",
       "      <td>232</td>\n",
       "      <td>148</td>\n",
       "      <td>6279</td>\n",
       "      <td>1</td>\n",
       "      <td>0</td>\n",
       "      <td>0</td>\n",
       "      <td>0</td>\n",
       "      <td>0</td>\n",
       "      <td>0</td>\n",
       "      <td>0</td>\n",
       "      <td>0</td>\n",
       "      <td>0</td>\n",
       "      <td>0</td>\n",
       "      <td>0</td>\n",
       "      <td>0</td>\n",
       "      <td>0</td>\n",
       "      <td>0</td>\n",
       "      <td>0</td>\n",
       "      <td>0</td>\n",
       "      <td>0</td>\n",
       "      <td>0</td>\n",
       "      <td>0</td>\n",
       "      <td>0</td>\n",
       "      <td>0</td>\n",
       "      <td>0</td>\n",
       "      <td>0</td>\n",
       "      <td>0</td>\n",
       "      <td>0</td>\n",
       "      <td>0</td>\n",
       "      <td>0</td>\n",
       "      <td>0</td>\n",
       "      <td>0</td>\n",
       "      <td>0</td>\n",
       "      <td>0</td>\n",
       "      <td>0</td>\n",
       "      <td>1</td>\n",
       "      <td>0</td>\n",
       "      <td>0</td>\n",
       "      <td>0</td>\n",
       "      <td>0</td>\n",
       "      <td>0</td>\n",
       "      <td>0</td>\n",
       "      <td>0</td>\n",
       "      <td>0</td>\n",
       "      <td>0</td>\n",
       "      <td>0</td>\n",
       "      <td>0</td>\n",
       "      <td>5</td>\n",
       "      <td>0</td>\n",
       "      <td>rawah</td>\n",
       "      <td>29</td>\n",
       "      <td>7</td>\n",
       "      <td>7</td>\n",
       "      <td>77</td>\n",
       "      <td>0.368684</td>\n",
       "      <td>0.141667</td>\n",
       "      <td>0.045455</td>\n",
       "      <td>0.184681</td>\n",
       "      <td>0.223514</td>\n",
       "      <td>0.071659</td>\n",
       "      <td>0.870079</td>\n",
       "      <td>0.913386</td>\n",
       "      <td>0.582677</td>\n",
       "      <td>0.875366</td>\n",
       "    </tr>\n",
       "    <tr>\n",
       "      <th>1</th>\n",
       "      <td>2590</td>\n",
       "      <td>56</td>\n",
       "      <td>2</td>\n",
       "      <td>212</td>\n",
       "      <td>-6</td>\n",
       "      <td>390</td>\n",
       "      <td>220</td>\n",
       "      <td>235</td>\n",
       "      <td>151</td>\n",
       "      <td>6225</td>\n",
       "      <td>1</td>\n",
       "      <td>0</td>\n",
       "      <td>0</td>\n",
       "      <td>0</td>\n",
       "      <td>0</td>\n",
       "      <td>0</td>\n",
       "      <td>0</td>\n",
       "      <td>0</td>\n",
       "      <td>0</td>\n",
       "      <td>0</td>\n",
       "      <td>0</td>\n",
       "      <td>0</td>\n",
       "      <td>0</td>\n",
       "      <td>0</td>\n",
       "      <td>0</td>\n",
       "      <td>0</td>\n",
       "      <td>0</td>\n",
       "      <td>0</td>\n",
       "      <td>0</td>\n",
       "      <td>0</td>\n",
       "      <td>0</td>\n",
       "      <td>0</td>\n",
       "      <td>0</td>\n",
       "      <td>0</td>\n",
       "      <td>0</td>\n",
       "      <td>0</td>\n",
       "      <td>0</td>\n",
       "      <td>0</td>\n",
       "      <td>0</td>\n",
       "      <td>0</td>\n",
       "      <td>0</td>\n",
       "      <td>0</td>\n",
       "      <td>1</td>\n",
       "      <td>0</td>\n",
       "      <td>0</td>\n",
       "      <td>0</td>\n",
       "      <td>0</td>\n",
       "      <td>0</td>\n",
       "      <td>0</td>\n",
       "      <td>0</td>\n",
       "      <td>0</td>\n",
       "      <td>0</td>\n",
       "      <td>0</td>\n",
       "      <td>0</td>\n",
       "      <td>5</td>\n",
       "      <td>0</td>\n",
       "      <td>rawah</td>\n",
       "      <td>29</td>\n",
       "      <td>7</td>\n",
       "      <td>7</td>\n",
       "      <td>77</td>\n",
       "      <td>0.365683</td>\n",
       "      <td>0.155556</td>\n",
       "      <td>0.030303</td>\n",
       "      <td>0.151754</td>\n",
       "      <td>0.215762</td>\n",
       "      <td>0.054798</td>\n",
       "      <td>0.866142</td>\n",
       "      <td>0.925197</td>\n",
       "      <td>0.594488</td>\n",
       "      <td>0.867838</td>\n",
       "    </tr>\n",
       "    <tr>\n",
       "      <th>2</th>\n",
       "      <td>2804</td>\n",
       "      <td>139</td>\n",
       "      <td>9</td>\n",
       "      <td>268</td>\n",
       "      <td>65</td>\n",
       "      <td>3180</td>\n",
       "      <td>234</td>\n",
       "      <td>238</td>\n",
       "      <td>135</td>\n",
       "      <td>6121</td>\n",
       "      <td>1</td>\n",
       "      <td>0</td>\n",
       "      <td>0</td>\n",
       "      <td>0</td>\n",
       "      <td>0</td>\n",
       "      <td>0</td>\n",
       "      <td>0</td>\n",
       "      <td>0</td>\n",
       "      <td>0</td>\n",
       "      <td>0</td>\n",
       "      <td>0</td>\n",
       "      <td>0</td>\n",
       "      <td>0</td>\n",
       "      <td>0</td>\n",
       "      <td>0</td>\n",
       "      <td>1</td>\n",
       "      <td>0</td>\n",
       "      <td>0</td>\n",
       "      <td>0</td>\n",
       "      <td>0</td>\n",
       "      <td>0</td>\n",
       "      <td>0</td>\n",
       "      <td>0</td>\n",
       "      <td>0</td>\n",
       "      <td>0</td>\n",
       "      <td>0</td>\n",
       "      <td>0</td>\n",
       "      <td>0</td>\n",
       "      <td>0</td>\n",
       "      <td>0</td>\n",
       "      <td>0</td>\n",
       "      <td>0</td>\n",
       "      <td>0</td>\n",
       "      <td>0</td>\n",
       "      <td>0</td>\n",
       "      <td>0</td>\n",
       "      <td>0</td>\n",
       "      <td>0</td>\n",
       "      <td>0</td>\n",
       "      <td>0</td>\n",
       "      <td>0</td>\n",
       "      <td>0</td>\n",
       "      <td>0</td>\n",
       "      <td>0</td>\n",
       "      <td>2</td>\n",
       "      <td>0</td>\n",
       "      <td>rawah</td>\n",
       "      <td>12</td>\n",
       "      <td>4</td>\n",
       "      <td>7</td>\n",
       "      <td>47</td>\n",
       "      <td>0.472736</td>\n",
       "      <td>0.386111</td>\n",
       "      <td>0.136364</td>\n",
       "      <td>0.191840</td>\n",
       "      <td>0.307494</td>\n",
       "      <td>0.446817</td>\n",
       "      <td>0.921260</td>\n",
       "      <td>0.937008</td>\n",
       "      <td>0.531496</td>\n",
       "      <td>0.853339</td>\n",
       "    </tr>\n",
       "    <tr>\n",
       "      <th>3</th>\n",
       "      <td>2785</td>\n",
       "      <td>155</td>\n",
       "      <td>18</td>\n",
       "      <td>242</td>\n",
       "      <td>118</td>\n",
       "      <td>3090</td>\n",
       "      <td>238</td>\n",
       "      <td>238</td>\n",
       "      <td>122</td>\n",
       "      <td>6211</td>\n",
       "      <td>1</td>\n",
       "      <td>0</td>\n",
       "      <td>0</td>\n",
       "      <td>0</td>\n",
       "      <td>0</td>\n",
       "      <td>0</td>\n",
       "      <td>0</td>\n",
       "      <td>0</td>\n",
       "      <td>0</td>\n",
       "      <td>0</td>\n",
       "      <td>0</td>\n",
       "      <td>0</td>\n",
       "      <td>0</td>\n",
       "      <td>0</td>\n",
       "      <td>0</td>\n",
       "      <td>0</td>\n",
       "      <td>0</td>\n",
       "      <td>0</td>\n",
       "      <td>0</td>\n",
       "      <td>0</td>\n",
       "      <td>0</td>\n",
       "      <td>0</td>\n",
       "      <td>0</td>\n",
       "      <td>0</td>\n",
       "      <td>0</td>\n",
       "      <td>0</td>\n",
       "      <td>0</td>\n",
       "      <td>0</td>\n",
       "      <td>0</td>\n",
       "      <td>0</td>\n",
       "      <td>0</td>\n",
       "      <td>0</td>\n",
       "      <td>0</td>\n",
       "      <td>1</td>\n",
       "      <td>0</td>\n",
       "      <td>0</td>\n",
       "      <td>0</td>\n",
       "      <td>0</td>\n",
       "      <td>0</td>\n",
       "      <td>0</td>\n",
       "      <td>0</td>\n",
       "      <td>0</td>\n",
       "      <td>0</td>\n",
       "      <td>0</td>\n",
       "      <td>2</td>\n",
       "      <td>0</td>\n",
       "      <td>rawah</td>\n",
       "      <td>30</td>\n",
       "      <td>7</td>\n",
       "      <td>7</td>\n",
       "      <td>77</td>\n",
       "      <td>0.463232</td>\n",
       "      <td>0.430556</td>\n",
       "      <td>0.272727</td>\n",
       "      <td>0.173228</td>\n",
       "      <td>0.375969</td>\n",
       "      <td>0.434172</td>\n",
       "      <td>0.937008</td>\n",
       "      <td>0.937008</td>\n",
       "      <td>0.480315</td>\n",
       "      <td>0.865886</td>\n",
       "    </tr>\n",
       "    <tr>\n",
       "      <th>4</th>\n",
       "      <td>2595</td>\n",
       "      <td>45</td>\n",
       "      <td>2</td>\n",
       "      <td>153</td>\n",
       "      <td>-1</td>\n",
       "      <td>391</td>\n",
       "      <td>220</td>\n",
       "      <td>234</td>\n",
       "      <td>150</td>\n",
       "      <td>6172</td>\n",
       "      <td>1</td>\n",
       "      <td>0</td>\n",
       "      <td>0</td>\n",
       "      <td>0</td>\n",
       "      <td>0</td>\n",
       "      <td>0</td>\n",
       "      <td>0</td>\n",
       "      <td>0</td>\n",
       "      <td>0</td>\n",
       "      <td>0</td>\n",
       "      <td>0</td>\n",
       "      <td>0</td>\n",
       "      <td>0</td>\n",
       "      <td>0</td>\n",
       "      <td>0</td>\n",
       "      <td>0</td>\n",
       "      <td>0</td>\n",
       "      <td>0</td>\n",
       "      <td>0</td>\n",
       "      <td>0</td>\n",
       "      <td>0</td>\n",
       "      <td>0</td>\n",
       "      <td>0</td>\n",
       "      <td>0</td>\n",
       "      <td>0</td>\n",
       "      <td>0</td>\n",
       "      <td>0</td>\n",
       "      <td>0</td>\n",
       "      <td>0</td>\n",
       "      <td>0</td>\n",
       "      <td>0</td>\n",
       "      <td>0</td>\n",
       "      <td>1</td>\n",
       "      <td>0</td>\n",
       "      <td>0</td>\n",
       "      <td>0</td>\n",
       "      <td>0</td>\n",
       "      <td>0</td>\n",
       "      <td>0</td>\n",
       "      <td>0</td>\n",
       "      <td>0</td>\n",
       "      <td>0</td>\n",
       "      <td>0</td>\n",
       "      <td>0</td>\n",
       "      <td>5</td>\n",
       "      <td>0</td>\n",
       "      <td>rawah</td>\n",
       "      <td>29</td>\n",
       "      <td>7</td>\n",
       "      <td>7</td>\n",
       "      <td>77</td>\n",
       "      <td>0.368184</td>\n",
       "      <td>0.125000</td>\n",
       "      <td>0.030303</td>\n",
       "      <td>0.109520</td>\n",
       "      <td>0.222222</td>\n",
       "      <td>0.054939</td>\n",
       "      <td>0.866142</td>\n",
       "      <td>0.921260</td>\n",
       "      <td>0.590551</td>\n",
       "      <td>0.860449</td>\n",
       "    </tr>\n",
       "  </tbody>\n",
       "</table>\n",
       "</div>"
      ],
      "text/plain": [
       "   elevation  aspect  slope  HD_hydrology  VD_hydrology  HD_roadways  \\\n",
       "0       2596      51      3           258             0          510   \n",
       "1       2590      56      2           212            -6          390   \n",
       "2       2804     139      9           268            65         3180   \n",
       "3       2785     155     18           242           118         3090   \n",
       "4       2595      45      2           153            -1          391   \n",
       "\n",
       "   hillshade_9am  hillshade_noon  hillshade_3pm  HD_fire_points  \\\n",
       "0            221             232            148            6279   \n",
       "1            220             235            151            6225   \n",
       "2            234             238            135            6121   \n",
       "3            238             238            122            6211   \n",
       "4            220             234            150            6172   \n",
       "\n",
       "   wild_area_rawah  wild_area_neota  wild_area_comanche_peak  \\\n",
       "0                1                0                        0   \n",
       "1                1                0                        0   \n",
       "2                1                0                        0   \n",
       "3                1                0                        0   \n",
       "4                1                0                        0   \n",
       "\n",
       "   wild_area_cache_la_poudre  soil_type_1  soil_type_2  soil_type_3  \\\n",
       "0                          0            0            0            0   \n",
       "1                          0            0            0            0   \n",
       "2                          0            0            0            0   \n",
       "3                          0            0            0            0   \n",
       "4                          0            0            0            0   \n",
       "\n",
       "   soil_type_4  soil_type_5  soil_type_6  soil_type_7  soil_type_8  \\\n",
       "0            0            0            0            0            0   \n",
       "1            0            0            0            0            0   \n",
       "2            0            0            0            0            0   \n",
       "3            0            0            0            0            0   \n",
       "4            0            0            0            0            0   \n",
       "\n",
       "   soil_type_9  soil_type_10  soil_type_11  soil_type_12  soil_type_13  \\\n",
       "0            0             0             0             0             0   \n",
       "1            0             0             0             0             0   \n",
       "2            0             0             0             1             0   \n",
       "3            0             0             0             0             0   \n",
       "4            0             0             0             0             0   \n",
       "\n",
       "   soil_type_14  soil_type_15  soil_type_16  soil_type_17  soil_type_18  \\\n",
       "0             0             0             0             0             0   \n",
       "1             0             0             0             0             0   \n",
       "2             0             0             0             0             0   \n",
       "3             0             0             0             0             0   \n",
       "4             0             0             0             0             0   \n",
       "\n",
       "   soil_type_19  soil_type_20  soil_type_21  soil_type_22  soil_type_23  \\\n",
       "0             0             0             0             0             0   \n",
       "1             0             0             0             0             0   \n",
       "2             0             0             0             0             0   \n",
       "3             0             0             0             0             0   \n",
       "4             0             0             0             0             0   \n",
       "\n",
       "   soil_type_24  soil_type_25  soil_type_26  soil_type_27  soil_type_28  \\\n",
       "0             0             0             0             0             0   \n",
       "1             0             0             0             0             0   \n",
       "2             0             0             0             0             0   \n",
       "3             0             0             0             0             0   \n",
       "4             0             0             0             0             0   \n",
       "\n",
       "   soil_type_29  soil_type_30  soil_type_31  soil_type_32  soil_type_33  \\\n",
       "0             1             0             0             0             0   \n",
       "1             1             0             0             0             0   \n",
       "2             0             0             0             0             0   \n",
       "3             0             1             0             0             0   \n",
       "4             1             0             0             0             0   \n",
       "\n",
       "   soil_type_34  soil_type_35  soil_type_36  soil_type_37  soil_type_38  \\\n",
       "0             0             0             0             0             0   \n",
       "1             0             0             0             0             0   \n",
       "2             0             0             0             0             0   \n",
       "3             0             0             0             0             0   \n",
       "4             0             0             0             0             0   \n",
       "\n",
       "   soil_type_39  soil_type_40  cover_type  wilderness_index wilderness_area  \\\n",
       "0             0             0           5                 0           rawah   \n",
       "1             0             0           5                 0           rawah   \n",
       "2             0             0           2                 0           rawah   \n",
       "3             0             0           2                 0           rawah   \n",
       "4             0             0           5                 0           rawah   \n",
       "\n",
       "   soil_index  climatic_zone  geologic_zone  both_zones  mms_elevation  \\\n",
       "0          29              7              7          77       0.368684   \n",
       "1          29              7              7          77       0.365683   \n",
       "2          12              4              7          47       0.472736   \n",
       "3          30              7              7          77       0.463232   \n",
       "4          29              7              7          77       0.368184   \n",
       "\n",
       "   mms_aspect  mms_slope  mms_HD_hydrology  mms_VD_hydrology  mms_HD_roadways  \\\n",
       "0    0.141667   0.045455          0.184681          0.223514         0.071659   \n",
       "1    0.155556   0.030303          0.151754          0.215762         0.054798   \n",
       "2    0.386111   0.136364          0.191840          0.307494         0.446817   \n",
       "3    0.430556   0.272727          0.173228          0.375969         0.434172   \n",
       "4    0.125000   0.030303          0.109520          0.222222         0.054939   \n",
       "\n",
       "   mms_hillshade_9am  mms_hillshade_noon  mms_hillshade_3pm  \\\n",
       "0           0.870079            0.913386           0.582677   \n",
       "1           0.866142            0.925197           0.594488   \n",
       "2           0.921260            0.937008           0.531496   \n",
       "3           0.937008            0.937008           0.480315   \n",
       "4           0.866142            0.921260           0.590551   \n",
       "\n",
       "   mms_HD_fire_points  \n",
       "0            0.875366  \n",
       "1            0.867838  \n",
       "2            0.853339  \n",
       "3            0.865886  \n",
       "4            0.860449  "
      ]
     },
     "execution_count": 11,
     "metadata": {},
     "output_type": "execute_result"
    }
   ],
   "source": [
    "df_data.shape\n",
    "df_data.columns\n",
    "df_data.head()"
   ]
  },
  {
   "cell_type": "markdown",
   "metadata": {},
   "source": [
    "### define lists of column names"
   ]
  },
  {
   "cell_type": "code",
   "execution_count": 12,
   "metadata": {
    "jupyter": {
     "outputs_hidden": true
    }
   },
   "outputs": [
    {
     "name": "stdout",
     "output_type": "stream",
     "text": [
      "numerical_cols:\n",
      "['elevation',\n",
      " 'aspect',\n",
      " 'slope',\n",
      " 'HD_hydrology',\n",
      " 'VD_hydrology',\n",
      " 'HD_roadways',\n",
      " 'hillshade_9am',\n",
      " 'hillshade_noon',\n",
      " 'hillshade_3pm',\n",
      " 'HD_fire_points']\n",
      "\n",
      "scaled_numerical_cols:\n",
      "['mms_elevation',\n",
      " 'mms_aspect',\n",
      " 'mms_slope',\n",
      " 'mms_HD_hydrology',\n",
      " 'mms_VD_hydrology',\n",
      " 'mms_HD_roadways',\n",
      " 'mms_hillshade_9am',\n",
      " 'mms_hillshade_noon',\n",
      " 'mms_hillshade_3pm',\n",
      " 'mms_HD_fire_points']\n",
      "\n",
      "wild_area_cols:\n",
      "['wild_area_rawah',\n",
      " 'wild_area_neota',\n",
      " 'wild_area_comanche_peak',\n",
      " 'wild_area_cache_la_poudre']\n",
      "\n",
      "soil_type_cols:\n",
      "['soil_type_1',\n",
      " 'soil_type_2',\n",
      " 'soil_type_3',\n",
      " 'soil_type_4',\n",
      " 'soil_type_5',\n",
      " 'soil_type_6',\n",
      " 'soil_type_7',\n",
      " 'soil_type_8',\n",
      " 'soil_type_9',\n",
      " 'soil_type_10',\n",
      " 'soil_type_11',\n",
      " 'soil_type_12',\n",
      " 'soil_type_13',\n",
      " 'soil_type_14',\n",
      " 'soil_type_15',\n",
      " 'soil_type_16',\n",
      " 'soil_type_17',\n",
      " 'soil_type_18',\n",
      " 'soil_type_19',\n",
      " 'soil_type_20',\n",
      " 'soil_type_21',\n",
      " 'soil_type_22',\n",
      " 'soil_type_23',\n",
      " 'soil_type_24',\n",
      " 'soil_type_25',\n",
      " 'soil_type_26',\n",
      " 'soil_type_27',\n",
      " 'soil_type_28',\n",
      " 'soil_type_29',\n",
      " 'soil_type_30',\n",
      " 'soil_type_31',\n",
      " 'soil_type_32',\n",
      " 'soil_type_33',\n",
      " 'soil_type_34',\n",
      " 'soil_type_35',\n",
      " 'soil_type_36',\n",
      " 'soil_type_37',\n",
      " 'soil_type_38',\n",
      " 'soil_type_39',\n",
      " 'soil_type_40']\n",
      "\n",
      "soil_cluster_cols:\n",
      "['climatic_zone', 'geologic_zone', 'both_zones']\n",
      "\n",
      "reverse_one_hot_cols:\n",
      "['wilderness_index', 'wilderness_area', 'soil_index']\n",
      "\n",
      "target_col:\n",
      "['cover_type']\n",
      "\n",
      "target_names:\n",
      "['spruce_fir',\n",
      " 'lodgepole_pine',\n",
      " 'ponderosa_pine',\n",
      " 'cottonwood_willow',\n",
      " 'aspen',\n",
      " 'douglas_fir',\n",
      " 'krummholz']\n"
     ]
    }
   ],
   "source": [
    "column = 'wild_area_'\n",
    "areas = ['rawah', 'neota', 'comanche_peak', 'cache_la_poudre']\n",
    "wild_area_cols = []\n",
    "for i in areas:\n",
    "    wild_area_cols.append(column + i)\n",
    "\n",
    "column = 'soil_type_'\n",
    "soil_type_cols = []\n",
    "for i in range(1,41):\n",
    "    soil_type_cols.append(column + str(i))\n",
    "\n",
    "numerical_cols = ['elevation', 'aspect', 'slope', 'HD_hydrology', 'VD_hydrology', 'HD_roadways',\n",
    "                  'hillshade_9am', 'hillshade_noon', 'hillshade_3pm', 'HD_fire_points']\n",
    "\n",
    "scaled_numerical_cols = []\n",
    "for col in numerical_cols:\n",
    "    scaled_numerical_cols.append('mms_' + col)\n",
    "\n",
    "target_col = ['cover_type']\n",
    "\n",
    "target_names = ['spruce_fir', 'lodgepole_pine', 'ponderosa_pine', 'cottonwood_willow', 'aspen', 'douglas_fir', 'krummholz']\n",
    "\n",
    "reverse_one_hot_cols = ['wilderness_index', 'wilderness_area', 'soil_index']\n",
    "\n",
    "soil_cluster_cols = ['climatic_zone', 'geologic_zone', 'both_zones']\n",
    "\n",
    "print('numerical_cols:')\n",
    "pp(numerical_cols)\n",
    "\n",
    "print('\\nscaled_numerical_cols:')\n",
    "pp(scaled_numerical_cols)\n",
    "\n",
    "print('\\nwild_area_cols:')\n",
    "pp(wild_area_cols)\n",
    "\n",
    "print('\\nsoil_type_cols:')\n",
    "pp(soil_type_cols)\n",
    "\n",
    "print('\\nsoil_cluster_cols:')\n",
    "pp(soil_cluster_cols)\n",
    "\n",
    "print('\\nreverse_one_hot_cols:')\n",
    "pp(reverse_one_hot_cols)\n",
    "\n",
    "print('\\ntarget_col:')\n",
    "pp(target_col)\n",
    "\n",
    "print('\\ntarget_names:')\n",
    "pp(target_names)"
   ]
  },
  {
   "cell_type": "code",
   "execution_count": 13,
   "metadata": {
    "jupyter": {
     "outputs_hidden": true
    }
   },
   "outputs": [
    {
     "data": {
      "text/plain": [
       "71"
      ]
     },
     "execution_count": 13,
     "metadata": {},
     "output_type": "execute_result"
    }
   ],
   "source": [
    "len(df_data.columns)"
   ]
  },
  {
   "cell_type": "code",
   "execution_count": 14,
   "metadata": {
    "jupyter": {
     "outputs_hidden": true
    }
   },
   "outputs": [
    {
     "data": {
      "text/plain": [
       "71"
      ]
     },
     "execution_count": 14,
     "metadata": {},
     "output_type": "execute_result"
    }
   ],
   "source": [
    "len(numerical_cols + scaled_numerical_cols + wild_area_cols\n",
    "    + soil_type_cols + reverse_one_hot_cols + target_col + soil_cluster_cols)"
   ]
  },
  {
   "cell_type": "markdown",
   "metadata": {},
   "source": [
    "# function to build feature columns list"
   ]
  },
  {
   "cell_type": "code",
   "execution_count": 15,
   "metadata": {
    "jupyter": {
     "outputs_hidden": true
    }
   },
   "outputs": [],
   "source": [
    "def make_feature_columns_list(numerical_scaled, wild_area_one_hot, soil_type_one_hot, soil_type_cluster='none'):\n",
    "    feature_cols_list = []\n",
    "    \n",
    "    if numerical_scaled:\n",
    "        feature_cols_list += scaled_numerical_cols\n",
    "    else:\n",
    "        feature_cols_list += numerical_cols\n",
    "    \n",
    "    if wild_area_one_hot:\n",
    "        feature_cols_list += wild_area_cols\n",
    "    else:\n",
    "        feature_cols_list.append(reverse_one_hot_cols[0])\n",
    "    \n",
    "    if soil_type_one_hot:\n",
    "        feature_cols_list += soil_type_cols\n",
    "    elif soil_type_cluster=='none':\n",
    "        feature_cols_list.append(reverse_one_hot_cols[2])\n",
    "    elif soil_type_cluster=='climatic':\n",
    "        feature_cols_list.append(soil_cluster_cols[0])\n",
    "    elif soil_type_cluster=='geologic':\n",
    "        feature_cols_list.append(soil_cluster_cols[1])\n",
    "    elif soil_type_cluster=='both':\n",
    "        feature_cols_list.append(soil_cluster_cols[2])\n",
    "    else:\n",
    "        print('ERROR ERROR ERROR ERROR in selection of soil type columns')\n",
    "    \n",
    "    return feature_cols_list"
   ]
  },
  {
   "cell_type": "code",
   "execution_count": 16,
   "metadata": {
    "jupyter": {
     "outputs_hidden": true
    }
   },
   "outputs": [
    {
     "name": "stdout",
     "output_type": "stream",
     "text": [
      "['mms_elevation',\n",
      " 'mms_aspect',\n",
      " 'mms_slope',\n",
      " 'mms_HD_hydrology',\n",
      " 'mms_VD_hydrology',\n",
      " 'mms_HD_roadways',\n",
      " 'mms_hillshade_9am',\n",
      " 'mms_hillshade_noon',\n",
      " 'mms_hillshade_3pm',\n",
      " 'mms_HD_fire_points',\n",
      " 'wilderness_index',\n",
      " 'both_zones']\n"
     ]
    }
   ],
   "source": [
    "temp_list = make_feature_columns_list(numerical_scaled=True, wild_area_one_hot=False,\n",
    "                                      soil_type_one_hot=False, soil_type_cluster='both')\n",
    "pp(temp_list)"
   ]
  },
  {
   "cell_type": "markdown",
   "metadata": {},
   "source": [
    "# function to get target name from target integer value"
   ]
  },
  {
   "cell_type": "code",
   "execution_count": 17,
   "metadata": {
    "jupyter": {
     "outputs_hidden": true
    }
   },
   "outputs": [
    {
     "data": {
      "text/plain": [
       "'lodgepole_pine'"
      ]
     },
     "execution_count": 17,
     "metadata": {},
     "output_type": "execute_result"
    }
   ],
   "source": [
    "get_target_name_from_integer = lambda i : target_names[i-1]\n",
    "get_target_name_from_integer(2)"
   ]
  },
  {
   "cell_type": "markdown",
   "metadata": {},
   "source": [
    "# select columns"
   ]
  },
  {
   "cell_type": "code",
   "execution_count": 18,
   "metadata": {
    "jupyter": {
     "outputs_hidden": true
    }
   },
   "outputs": [
    {
     "data": {
      "text/plain": [
       "['elevation',\n",
       " 'aspect',\n",
       " 'slope',\n",
       " 'HD_hydrology',\n",
       " 'VD_hydrology',\n",
       " 'HD_roadways',\n",
       " 'hillshade_9am',\n",
       " 'hillshade_noon',\n",
       " 'hillshade_3pm',\n",
       " 'HD_fire_points',\n",
       " 'wilderness_index',\n",
       " 'soil_index',\n",
       " 'climatic_zone',\n",
       " 'geologic_zone',\n",
       " 'both_zones']"
      ]
     },
     "execution_count": 18,
     "metadata": {},
     "output_type": "execute_result"
    }
   ],
   "source": [
    "feature_cols_all = make_feature_columns_list(numerical_scaled=False, wild_area_one_hot=False,\n",
    "                                                soil_type_one_hot=False, soil_type_cluster='none')\n",
    "feature_cols_all += soil_cluster_cols\n",
    "feature_cols_all"
   ]
  },
  {
   "cell_type": "markdown",
   "metadata": {},
   "source": [
    "# train-test split"
   ]
  },
  {
   "cell_type": "code",
   "execution_count": 19,
   "metadata": {
    "jupyter": {
     "outputs_hidden": true
    }
   },
   "outputs": [],
   "source": [
    "if use_small_data_set:\n",
    "    train_sample_size = 10000\n",
    "    test_sample_size  = 3000\n",
    "\n",
    "    X_train, X_test, y_train, y_test = train_test_split(df_data[feature_cols_all], df_data[target_col[0]],\n",
    "                                       train_size=train_sample_size, test_size=test_sample_size, random_state=59)\n",
    "\n",
    "else:\n",
    "    X_train, X_test, y_train, y_test = train_test_split(df_data[feature_cols_all], df_data[target_col[0]],\n",
    "                                       train_size=0.7, random_state=59)\n",
    "    "
   ]
  },
  {
   "cell_type": "code",
   "execution_count": 20,
   "metadata": {
    "jupyter": {
     "outputs_hidden": true
    }
   },
   "outputs": [
    {
     "data": {
      "text/plain": [
       "(406708, 15)"
      ]
     },
     "execution_count": 20,
     "metadata": {},
     "output_type": "execute_result"
    },
    {
     "data": {
      "text/plain": [
       "(174304, 15)"
      ]
     },
     "execution_count": 20,
     "metadata": {},
     "output_type": "execute_result"
    }
   ],
   "source": [
    "X_train.shape\n",
    "X_test.shape"
   ]
  },
  {
   "cell_type": "markdown",
   "metadata": {},
   "source": [
    "### make dataframe with test and train"
   ]
  },
  {
   "cell_type": "code",
   "execution_count": 21,
   "metadata": {
    "jupyter": {
     "outputs_hidden": true
    }
   },
   "outputs": [
    {
     "data": {
      "text/plain": [
       "(581012, 16)"
      ]
     },
     "execution_count": 21,
     "metadata": {},
     "output_type": "execute_result"
    },
    {
     "data": {
      "text/html": [
       "<div>\n",
       "<style scoped>\n",
       "    .dataframe tbody tr th:only-of-type {\n",
       "        vertical-align: middle;\n",
       "    }\n",
       "\n",
       "    .dataframe tbody tr th {\n",
       "        vertical-align: top;\n",
       "    }\n",
       "\n",
       "    .dataframe thead th {\n",
       "        text-align: right;\n",
       "    }\n",
       "</style>\n",
       "<table border=\"1\" class=\"dataframe\">\n",
       "  <thead>\n",
       "    <tr style=\"text-align: right;\">\n",
       "      <th></th>\n",
       "      <th>elevation</th>\n",
       "      <th>aspect</th>\n",
       "      <th>slope</th>\n",
       "      <th>HD_hydrology</th>\n",
       "      <th>VD_hydrology</th>\n",
       "      <th>HD_roadways</th>\n",
       "      <th>hillshade_9am</th>\n",
       "      <th>hillshade_noon</th>\n",
       "      <th>hillshade_3pm</th>\n",
       "      <th>HD_fire_points</th>\n",
       "      <th>wilderness_index</th>\n",
       "      <th>soil_index</th>\n",
       "      <th>climatic_zone</th>\n",
       "      <th>geologic_zone</th>\n",
       "      <th>both_zones</th>\n",
       "      <th>cover_type</th>\n",
       "    </tr>\n",
       "  </thead>\n",
       "  <tbody>\n",
       "    <tr>\n",
       "      <th>511216</th>\n",
       "      <td>3153</td>\n",
       "      <td>67</td>\n",
       "      <td>16</td>\n",
       "      <td>256</td>\n",
       "      <td>21</td>\n",
       "      <td>1368</td>\n",
       "      <td>235</td>\n",
       "      <td>206</td>\n",
       "      <td>98</td>\n",
       "      <td>2372</td>\n",
       "      <td>2</td>\n",
       "      <td>39</td>\n",
       "      <td>8</td>\n",
       "      <td>7</td>\n",
       "      <td>87</td>\n",
       "      <td>1</td>\n",
       "    </tr>\n",
       "    <tr>\n",
       "      <th>234324</th>\n",
       "      <td>2738</td>\n",
       "      <td>186</td>\n",
       "      <td>17</td>\n",
       "      <td>30</td>\n",
       "      <td>5</td>\n",
       "      <td>1243</td>\n",
       "      <td>220</td>\n",
       "      <td>250</td>\n",
       "      <td>157</td>\n",
       "      <td>1950</td>\n",
       "      <td>2</td>\n",
       "      <td>13</td>\n",
       "      <td>4</td>\n",
       "      <td>7</td>\n",
       "      <td>47</td>\n",
       "      <td>1</td>\n",
       "    </tr>\n",
       "    <tr>\n",
       "      <th>446270</th>\n",
       "      <td>3238</td>\n",
       "      <td>13</td>\n",
       "      <td>4</td>\n",
       "      <td>467</td>\n",
       "      <td>203</td>\n",
       "      <td>2816</td>\n",
       "      <td>215</td>\n",
       "      <td>231</td>\n",
       "      <td>152</td>\n",
       "      <td>2942</td>\n",
       "      <td>2</td>\n",
       "      <td>31</td>\n",
       "      <td>7</td>\n",
       "      <td>7</td>\n",
       "      <td>77</td>\n",
       "      <td>1</td>\n",
       "    </tr>\n",
       "    <tr>\n",
       "      <th>50042</th>\n",
       "      <td>2759</td>\n",
       "      <td>331</td>\n",
       "      <td>6</td>\n",
       "      <td>124</td>\n",
       "      <td>2</td>\n",
       "      <td>2249</td>\n",
       "      <td>206</td>\n",
       "      <td>233</td>\n",
       "      <td>165</td>\n",
       "      <td>3955</td>\n",
       "      <td>0</td>\n",
       "      <td>12</td>\n",
       "      <td>4</td>\n",
       "      <td>7</td>\n",
       "      <td>47</td>\n",
       "      <td>2</td>\n",
       "    </tr>\n",
       "    <tr>\n",
       "      <th>549678</th>\n",
       "      <td>3414</td>\n",
       "      <td>234</td>\n",
       "      <td>21</td>\n",
       "      <td>60</td>\n",
       "      <td>0</td>\n",
       "      <td>2121</td>\n",
       "      <td>180</td>\n",
       "      <td>253</td>\n",
       "      <td>205</td>\n",
       "      <td>3431</td>\n",
       "      <td>1</td>\n",
       "      <td>32</td>\n",
       "      <td>7</td>\n",
       "      <td>7</td>\n",
       "      <td>77</td>\n",
       "      <td>1</td>\n",
       "    </tr>\n",
       "  </tbody>\n",
       "</table>\n",
       "</div>"
      ],
      "text/plain": [
       "        elevation  aspect  slope  HD_hydrology  VD_hydrology  HD_roadways  \\\n",
       "511216       3153      67     16           256            21         1368   \n",
       "234324       2738     186     17            30             5         1243   \n",
       "446270       3238      13      4           467           203         2816   \n",
       "50042        2759     331      6           124             2         2249   \n",
       "549678       3414     234     21            60             0         2121   \n",
       "\n",
       "        hillshade_9am  hillshade_noon  hillshade_3pm  HD_fire_points  \\\n",
       "511216            235             206             98            2372   \n",
       "234324            220             250            157            1950   \n",
       "446270            215             231            152            2942   \n",
       "50042             206             233            165            3955   \n",
       "549678            180             253            205            3431   \n",
       "\n",
       "        wilderness_index  soil_index  climatic_zone  geologic_zone  \\\n",
       "511216                 2          39              8              7   \n",
       "234324                 2          13              4              7   \n",
       "446270                 2          31              7              7   \n",
       "50042                  0          12              4              7   \n",
       "549678                 1          32              7              7   \n",
       "\n",
       "        both_zones  cover_type  \n",
       "511216          87           1  \n",
       "234324          47           1  \n",
       "446270          77           1  \n",
       "50042           47           2  \n",
       "549678          77           1  "
      ]
     },
     "execution_count": 21,
     "metadata": {},
     "output_type": "execute_result"
    }
   ],
   "source": [
    "df_data_to_use = (pd.concat([X_train, y_train], axis=1)).append(pd.concat([X_test, y_test], axis=1))\n",
    "df_data_to_use.shape\n",
    "df_data_to_use.head()"
   ]
  },
  {
   "cell_type": "markdown",
   "metadata": {},
   "source": [
    "### distribution of target values"
   ]
  },
  {
   "cell_type": "code",
   "execution_count": 22,
   "metadata": {
    "jupyter": {
     "outputs_hidden": true
    }
   },
   "outputs": [
    {
     "data": {
      "text/html": [
       "<div>\n",
       "<style scoped>\n",
       "    .dataframe tbody tr th:only-of-type {\n",
       "        vertical-align: middle;\n",
       "    }\n",
       "\n",
       "    .dataframe tbody tr th {\n",
       "        vertical-align: top;\n",
       "    }\n",
       "\n",
       "    .dataframe thead th {\n",
       "        text-align: right;\n",
       "    }\n",
       "</style>\n",
       "<table border=\"1\" class=\"dataframe\">\n",
       "  <thead>\n",
       "    <tr style=\"text-align: right;\">\n",
       "      <th></th>\n",
       "      <th>cover_type</th>\n",
       "      <th>original</th>\n",
       "      <th>train</th>\n",
       "      <th>test</th>\n",
       "      <th>target_name</th>\n",
       "    </tr>\n",
       "  </thead>\n",
       "  <tbody>\n",
       "    <tr>\n",
       "      <th>0</th>\n",
       "      <td>2</td>\n",
       "      <td>0.487599</td>\n",
       "      <td>0.487586</td>\n",
       "      <td>0.487631</td>\n",
       "      <td>lodgepole_pine</td>\n",
       "    </tr>\n",
       "    <tr>\n",
       "      <th>1</th>\n",
       "      <td>1</td>\n",
       "      <td>0.364605</td>\n",
       "      <td>0.364596</td>\n",
       "      <td>0.364627</td>\n",
       "      <td>spruce_fir</td>\n",
       "    </tr>\n",
       "    <tr>\n",
       "      <th>2</th>\n",
       "      <td>3</td>\n",
       "      <td>0.061537</td>\n",
       "      <td>0.061622</td>\n",
       "      <td>0.061341</td>\n",
       "      <td>ponderosa_pine</td>\n",
       "    </tr>\n",
       "    <tr>\n",
       "      <th>3</th>\n",
       "      <td>7</td>\n",
       "      <td>0.035300</td>\n",
       "      <td>0.035404</td>\n",
       "      <td>0.035059</td>\n",
       "      <td>krummholz</td>\n",
       "    </tr>\n",
       "    <tr>\n",
       "      <th>4</th>\n",
       "      <td>6</td>\n",
       "      <td>0.029891</td>\n",
       "      <td>0.029955</td>\n",
       "      <td>0.029741</td>\n",
       "      <td>douglas_fir</td>\n",
       "    </tr>\n",
       "    <tr>\n",
       "      <th>5</th>\n",
       "      <td>5</td>\n",
       "      <td>0.016339</td>\n",
       "      <td>0.016115</td>\n",
       "      <td>0.016861</td>\n",
       "      <td>aspen</td>\n",
       "    </tr>\n",
       "    <tr>\n",
       "      <th>6</th>\n",
       "      <td>4</td>\n",
       "      <td>0.004728</td>\n",
       "      <td>0.004723</td>\n",
       "      <td>0.004739</td>\n",
       "      <td>cottonwood_willow</td>\n",
       "    </tr>\n",
       "  </tbody>\n",
       "</table>\n",
       "</div>"
      ],
      "text/plain": [
       "   cover_type  original     train      test        target_name\n",
       "0           2  0.487599  0.487586  0.487631     lodgepole_pine\n",
       "1           1  0.364605  0.364596  0.364627         spruce_fir\n",
       "2           3  0.061537  0.061622  0.061341     ponderosa_pine\n",
       "3           7  0.035300  0.035404  0.035059          krummholz\n",
       "4           6  0.029891  0.029955  0.029741        douglas_fir\n",
       "5           5  0.016339  0.016115  0.016861              aspen\n",
       "6           4  0.004728  0.004723  0.004739  cottonwood_willow"
      ]
     },
     "execution_count": 22,
     "metadata": {},
     "output_type": "execute_result"
    }
   ],
   "source": [
    "target_values = df_data[target_col]\n",
    "target_dist_orig = target_values.value_counts() / len(target_values)\n",
    "#target_dist_orig\n",
    "\n",
    "target_values = pd.DataFrame(y_train)\n",
    "target_dist_train = target_values.value_counts() / len(target_values)\n",
    "#target_dist_train\n",
    "\n",
    "target_values = pd.DataFrame(y_test)\n",
    "target_dist_test = target_values.value_counts() / len(target_values)\n",
    "#target_dist_test\n",
    "\n",
    "df_target_dist = pd.DataFrame(zip(target_dist_orig, target_dist_train, target_dist_test),\n",
    "                              columns=['original', 'train', 'test'],\n",
    "                              index=target_dist_orig.reset_index()[target_col[0]].values)\n",
    "#df_target_dist\n",
    "\n",
    "df_target_dist = df_target_dist.reset_index().rename(columns={'index':target_col[0]})\n",
    "#df_target_dist\n",
    "\n",
    "df_target_dist['target_name'] = df_target_dist[target_col[0]].apply(get_target_name_from_integer)\n",
    "\n",
    "df_target_dist"
   ]
  },
  {
   "cell_type": "code",
   "execution_count": 23,
   "metadata": {
    "jupyter": {
     "outputs_hidden": true
    }
   },
   "outputs": [
    {
     "data": {
      "image/png": "[encoded data removed]",
      "text/plain": [
       "<Figure size 432x288 with 1 Axes>"
      ]
     },
     "metadata": {
      "needs_background": "light"
     },
     "output_type": "display_data"
    }
   ],
   "source": [
    "for_plot = ['target_name', 'original', 'train', 'test']\n",
    "_ = df_target_dist[for_plot].set_index('target_name').plot.bar();\n",
    "_ = plt.title('target class distribution');\n",
    "_ = plt.xlabel('')\n",
    "_ = plt.ylabel('fraction')"
   ]
  },
  {
   "cell_type": "code",
   "execution_count": null,
   "metadata": {
    "jupyter": {
     "outputs_hidden": true
    }
   },
   "outputs": [],
   "source": []
  },
  {
   "cell_type": "markdown",
   "metadata": {},
   "source": [
    "# column selection\n",
    "### min-max scale; 1-hot wild; geologic soil"
   ]
  },
  {
   "cell_type": "code",
   "execution_count": 24,
   "metadata": {
    "jupyter": {
     "outputs_hidden": true
    }
   },
   "outputs": [
    {
     "data": {
      "text/plain": [
       "['elevation',\n",
       " 'aspect',\n",
       " 'slope',\n",
       " 'HD_hydrology',\n",
       " 'VD_hydrology',\n",
       " 'HD_roadways',\n",
       " 'hillshade_9am',\n",
       " 'hillshade_noon',\n",
       " 'hillshade_3pm',\n",
       " 'HD_fire_points',\n",
       " 'wilderness_index',\n",
       " 'geologic_zone',\n",
       " 'cover_type']"
      ]
     },
     "execution_count": 24,
     "metadata": {},
     "output_type": "execute_result"
    },
    {
     "data": {
      "text/plain": [
       "['wilderness_index', 'geologic_zone']"
      ]
     },
     "execution_count": 24,
     "metadata": {},
     "output_type": "execute_result"
    }
   ],
   "source": [
    "features_to_use = make_feature_columns_list(numerical_scaled=False, wild_area_one_hot=False,\n",
    "                                            soil_type_one_hot=False, soil_type_cluster='geologic')\n",
    "\n",
    "features_cat = features_to_use[-2:]\n",
    "cols_to_use = features_to_use + target_col\n",
    "df_su = df_data_to_use[cols_to_use]\n",
    "\n",
    "cols_to_use\n",
    "features_cat"
   ]
  },
  {
   "cell_type": "code",
   "execution_count": null,
   "metadata": {
    "jupyter": {
     "outputs_hidden": true
    }
   },
   "outputs": [],
   "source": []
  },
  {
   "cell_type": "markdown",
   "metadata": {},
   "source": [
    "# `imblearn` preparation\n",
    "### `pycaret` encodes target classes as `0 to 6` before using `imbalanced_learn`\n",
    "### `pycaret` one-hot encodes `wilderness_index` before using `imbalanced_learn`   \n",
    "### `pycaret` applies `imbalanced_learn` to training set (I believe)"
   ]
  },
  {
   "cell_type": "code",
   "execution_count": 25,
   "metadata": {
    "jupyter": {
     "outputs_hidden": true
    }
   },
   "outputs": [],
   "source": [
    "# THIS CELL FOR FREQUENCY ENCODING\n",
    "#features_cat_pycaret_pre_process = features_cat\n",
    "#features_cat_imblearn = [10, 11, 12, 13, 14]\n",
    "#features_cat_pycaret_pre_process\n",
    "#features_cat_imblearn"
   ]
  },
  {
   "cell_type": "code",
   "execution_count": 26,
   "metadata": {
    "jupyter": {
     "outputs_hidden": true
    }
   },
   "outputs": [
    {
     "data": {
      "text/plain": [
       "['wilderness_index', 'geologic_zone']"
      ]
     },
     "execution_count": 26,
     "metadata": {},
     "output_type": "execute_result"
    },
    {
     "data": {
      "text/plain": [
       "[10, 11, 12, 13, 14, 15, 16, 17]"
      ]
     },
     "execution_count": 26,
     "metadata": {},
     "output_type": "execute_result"
    }
   ],
   "source": [
    "# THIS CELL FOR GEOLOGIC ENCODING\n",
    "features_cat_pycaret_pre_process = features_cat\n",
    "features_cat_imblearn = [10, 11, 12, 13, 14, 15, 16, 17]\n",
    "features_cat_pycaret_pre_process\n",
    "features_cat_imblearn"
   ]
  },
  {
   "cell_type": "code",
   "execution_count": 27,
   "metadata": {
    "jupyter": {
     "outputs_hidden": true
    }
   },
   "outputs": [],
   "source": [
    "def create_dict_target_count(orig_counts, dict_factors, train_fraction):\n",
    "    dict_target_count = {}\n",
    "    list_classes_clean = []\n",
    "    \n",
    "    for target, factor in dict_factors.items():\n",
    "        dict_target_count[target-1] = int(orig_counts.loc[target].values[0] * factor)\n",
    "        \n",
    "        if factor != 1:\n",
    "            list_classes_clean.append(target-1)\n",
    "            dict_target_count[target-1] = int(dict_target_count[target-1] * train_fraction)\n",
    "    \n",
    "    return dict_target_count, list_classes_clean"
   ]
  },
  {
   "cell_type": "code",
   "execution_count": 28,
   "metadata": {
    "jupyter": {
     "outputs_hidden": true
    }
   },
   "outputs": [
    {
     "data": {
      "text/plain": [
       "cover_type\n",
       "1             211840\n",
       "2             283301\n",
       "3              35754\n",
       "4               2747\n",
       "5               9493\n",
       "6              17367\n",
       "7              20510\n",
       "dtype: int64"
      ]
     },
     "execution_count": 28,
     "metadata": {},
     "output_type": "execute_result"
    }
   ],
   "source": [
    "target_counts_to_use = df_data_to_use[target_col].value_counts().sort_index()\n",
    "target_counts_to_use"
   ]
  },
  {
   "cell_type": "code",
   "execution_count": 29,
   "metadata": {
    "jupyter": {
     "outputs_hidden": true
    }
   },
   "outputs": [
    {
     "data": {
      "text/plain": [
       "{0: 211840, 1: 283301, 2: 76084, 3: 6037, 4: 20333, 5: 37078, 6: 43358}"
      ]
     },
     "execution_count": 29,
     "metadata": {},
     "output_type": "execute_result"
    },
    {
     "data": {
      "text/plain": [
       "[2, 3, 4, 5, 6]"
      ]
     },
     "execution_count": 29,
     "metadata": {},
     "output_type": "execute_result"
    }
   ],
   "source": [
    "#target_factors = [1, 1, 3.04, 3.14, 3.06, 3.05, 3.02]\n",
    "dict_factors = {1:1, 2:1, 3:3.04, 4:3.14, 5:3.06, 6:3.05, 7:3.02}\n",
    "train_fraction = 0.7\n",
    "dict_target_counts, list_classes_clean = create_dict_target_count(target_counts_to_use, dict_factors, train_fraction)\n",
    "dict_target_counts\n",
    "list_classes_clean"
   ]
  },
  {
   "cell_type": "code",
   "execution_count": 30,
   "metadata": {
    "jupyter": {
     "outputs_hidden": true
    }
   },
   "outputs": [],
   "source": [
    "the_smote_nc = SMOTENC(categorical_features=features_cat_imblearn, random_state=59,\n",
    "                       sampling_strategy=dict_target_counts)\n",
    "\n",
    "the_enn = EditedNearestNeighbours(sampling_strategy=list_classes_clean,\n",
    "                                  n_neighbors=3, kind_sel='mode')\n",
    "\n",
    "the_smote = SMOTEENN(random_state=59, smote=the_smote_nc, enn=the_enn)"
   ]
  },
  {
   "cell_type": "code",
   "execution_count": null,
   "metadata": {
    "jupyter": {
     "outputs_hidden": true
    }
   },
   "outputs": [],
   "source": []
  },
  {
   "cell_type": "markdown",
   "metadata": {},
   "source": [
    "# `pycaret` `setup`\n",
    "### `silent = True` to supress interactive confirmation of data types"
   ]
  },
  {
   "cell_type": "code",
   "execution_count": 31,
   "metadata": {
    "jupyter": {
     "outputs_hidden": true
    }
   },
   "outputs": [
    {
     "name": "stdout",
     "output_type": "stream",
     "text": [
      "su_use_gpu =  False\n"
     ]
    }
   ],
   "source": [
    "#su_log_profile = True\n",
    "su_log_profile = False\n",
    "\n",
    "su_silent = True\n",
    "#su_silent = False\n",
    "\n",
    "#su_log_exp = True\n",
    "su_log_exp = False\n",
    "\n",
    "su_use_gpu = False\n",
    "#su_use_gpu = not running_on_local_machine\n",
    "print('su_use_gpu = ', su_use_gpu)\n",
    "\n",
    "su_name_exp = 'imblearn'"
   ]
  },
  {
   "cell_type": "markdown",
   "metadata": {},
   "source": [
    "### variables to hold modeling results"
   ]
  },
  {
   "cell_type": "code",
   "execution_count": 32,
   "metadata": {
    "jupyter": {
     "outputs_hidden": true
    }
   },
   "outputs": [],
   "source": [
    "df_pycaret_model_metrics = pd.DataFrame()\n",
    "df_report_by_class = pd.DataFrame()\n",
    "df_report_summary  = pd.DataFrame()"
   ]
  },
  {
   "cell_type": "code",
   "execution_count": 33,
   "metadata": {
    "jupyter": {
     "outputs_hidden": true
    }
   },
   "outputs": [],
   "source": [
    "def grand_dataframe_creation(the_pycaret_models,\n",
    "                             the_df_data, train_indices, experiment_name,\n",
    "                             clear_data_frame=False):\n",
    "    \n",
    "    global df_pycaret_model_metrics, df_report_by_class, df_report_summary\n",
    "    \n",
    "    if (clear_data_frame):\n",
    "        df_pycaret_model_metrics = pd.DataFrame()\n",
    "        df_report_by_class = pd.DataFrame()\n",
    "        df_report_summary  = pd.DataFrame()\n",
    "    \n",
    "    # get pycaret model grid results\n",
    "    df_pull_temp = pull()\n",
    "    df_pull_temp.reset_index(drop=True, inplace=True)\n",
    "    #df_pull_temp['soil encoding'] = experiment_name\n",
    "    #print('df_pull_temp')\n",
    "    #print(df_pull_temp)\n",
    "    df_pycaret_model_metrics = df_pycaret_model_metrics.append(df_pull_temp, ignore_index=True)\n",
    "    \n",
    "    for imodel in range(len(the_pycaret_models)):\n",
    "    #for imodel in range(num_models):\n",
    "        # predict train data\n",
    "        pred_train = predict_model(the_pycaret_models[imodel], data = the_df_data.loc[train_indices])\n",
    "        #print('\\npred_train')\n",
    "        #print(pred_train.shape)\n",
    "        #print(pred_train.head())\n",
    "\n",
    "        # metrics by class\n",
    "        pycaret_target_names = [1, 2, 3, 4, 5, 6, 7]\n",
    "\n",
    "        df_by_class_temp, df_summary_temp = \\\n",
    "        make_dataframes_from_classification_report(df_pull_temp['Model'].values[imodel],\n",
    "                                                   'train', pycaret_target_names,\n",
    "                                                   pred_train['cover_type'], pred_train['Label'])\n",
    "        #df_by_class_temp['soil encoding'] = experiment_name\n",
    "        #df_summary_temp['soil encoding']  = experiment_name\n",
    "        \n",
    "        # add to master dataframes\n",
    "        df_report_by_class  = df_report_by_class.append(df_by_class_temp, ignore_index=True)\n",
    "        df_report_summary   = df_report_summary.append(df_summary_temp, ignore_index=True)\n",
    "       \n",
    "    return\n"
   ]
  },
  {
   "cell_type": "code",
   "execution_count": null,
   "metadata": {
    "jupyter": {
     "outputs_hidden": true
    }
   },
   "outputs": [],
   "source": []
  },
  {
   "cell_type": "markdown",
   "metadata": {},
   "source": [
    "# `pycaret` metrics and models\n",
    "### models\n",
    "- decision tree\n",
    "- XGBoost\n",
    "- CatBoost (use categorical features directly)"
   ]
  },
  {
   "cell_type": "code",
   "execution_count": 34,
   "metadata": {
    "jupyter": {
     "outputs_hidden": true
    }
   },
   "outputs": [],
   "source": [
    "def specify_metrics():\n",
    "    get_metrics(reset=True)\n",
    "\n",
    "    delete_metrics = ['auc', 'recall', 'kappa', 'mcc']\n",
    "    for item in delete_metrics:\n",
    "        remove_metric(item)\n",
    "\n",
    "    _ = add_metric('re_wgt', 'Recall Weighted', recall_score, average='weighted')\n",
    "\n",
    "    _ = add_metric('pr_macro', 'Precision Macro', precision_score, average='macro')\n",
    "    _ = add_metric('re_macro', 'Recall Macro', recall_score, average='macro')\n",
    "    _ = add_metric('f1_macro', 'F1 Macro', f1_score, average='macro')"
   ]
  },
  {
   "cell_type": "code",
   "execution_count": 35,
   "metadata": {
    "jupyter": {
     "outputs_hidden": true
    }
   },
   "outputs": [],
   "source": [
    "#models_to_run = ['dt', 'catboost', 'xgboost']\n",
    "#models_to_run = ['xgboost']\n",
    "models_to_run = ['dt', 'catboost']"
   ]
  },
  {
   "cell_type": "code",
   "execution_count": null,
   "metadata": {
    "jupyter": {
     "outputs_hidden": true
    }
   },
   "outputs": [],
   "source": []
  },
  {
   "cell_type": "markdown",
   "metadata": {},
   "source": [
    "# experiment\n",
    "### `setup`"
   ]
  },
  {
   "cell_type": "code",
   "execution_count": 36,
   "metadata": {
    "jupyter": {
     "outputs_hidden": true
    }
   },
   "outputs": [
    {
     "data": {
      "text/html": [
       "<style  type=\"text/css\" >\n",
       "#T_7aee71b6_4942_11eb_90b9_0242ac110002row29_col1,#T_7aee71b6_4942_11eb_90b9_0242ac110002row56_col1{\n",
       "            background-color:  lightgreen;\n",
       "        }</style><table id=\"T_7aee71b6_4942_11eb_90b9_0242ac110002\" ><thead>    <tr>        <th class=\"blank level0\" ></th>        <th class=\"col_heading level0 col0\" >Description</th>        <th class=\"col_heading level0 col1\" >Value</th>    </tr></thead><tbody>\n",
       "                <tr>\n",
       "                        <th id=\"T_7aee71b6_4942_11eb_90b9_0242ac110002level0_row0\" class=\"row_heading level0 row0\" >0</th>\n",
       "                        <td id=\"T_7aee71b6_4942_11eb_90b9_0242ac110002row0_col0\" class=\"data row0 col0\" >session_id</td>\n",
       "                        <td id=\"T_7aee71b6_4942_11eb_90b9_0242ac110002row0_col1\" class=\"data row0 col1\" >59</td>\n",
       "            </tr>\n",
       "            <tr>\n",
       "                        <th id=\"T_7aee71b6_4942_11eb_90b9_0242ac110002level0_row1\" class=\"row_heading level0 row1\" >1</th>\n",
       "                        <td id=\"T_7aee71b6_4942_11eb_90b9_0242ac110002row1_col0\" class=\"data row1 col0\" >Target</td>\n",
       "                        <td id=\"T_7aee71b6_4942_11eb_90b9_0242ac110002row1_col1\" class=\"data row1 col1\" >cover_type</td>\n",
       "            </tr>\n",
       "            <tr>\n",
       "                        <th id=\"T_7aee71b6_4942_11eb_90b9_0242ac110002level0_row2\" class=\"row_heading level0 row2\" >2</th>\n",
       "                        <td id=\"T_7aee71b6_4942_11eb_90b9_0242ac110002row2_col0\" class=\"data row2 col0\" >Target Type</td>\n",
       "                        <td id=\"T_7aee71b6_4942_11eb_90b9_0242ac110002row2_col1\" class=\"data row2 col1\" >Multiclass</td>\n",
       "            </tr>\n",
       "            <tr>\n",
       "                        <th id=\"T_7aee71b6_4942_11eb_90b9_0242ac110002level0_row3\" class=\"row_heading level0 row3\" >3</th>\n",
       "                        <td id=\"T_7aee71b6_4942_11eb_90b9_0242ac110002row3_col0\" class=\"data row3 col0\" >Label Encoded</td>\n",
       "                        <td id=\"T_7aee71b6_4942_11eb_90b9_0242ac110002row3_col1\" class=\"data row3 col1\" >1: 0, 2: 1, 3: 2, 4: 3, 5: 4, 6: 5, 7: 6</td>\n",
       "            </tr>\n",
       "            <tr>\n",
       "                        <th id=\"T_7aee71b6_4942_11eb_90b9_0242ac110002level0_row4\" class=\"row_heading level0 row4\" >4</th>\n",
       "                        <td id=\"T_7aee71b6_4942_11eb_90b9_0242ac110002row4_col0\" class=\"data row4 col0\" >Original Data</td>\n",
       "                        <td id=\"T_7aee71b6_4942_11eb_90b9_0242ac110002row4_col1\" class=\"data row4 col1\" >(581012, 13)</td>\n",
       "            </tr>\n",
       "            <tr>\n",
       "                        <th id=\"T_7aee71b6_4942_11eb_90b9_0242ac110002level0_row5\" class=\"row_heading level0 row5\" >5</th>\n",
       "                        <td id=\"T_7aee71b6_4942_11eb_90b9_0242ac110002row5_col0\" class=\"data row5 col0\" >Missing Values</td>\n",
       "                        <td id=\"T_7aee71b6_4942_11eb_90b9_0242ac110002row5_col1\" class=\"data row5 col1\" >False</td>\n",
       "            </tr>\n",
       "            <tr>\n",
       "                        <th id=\"T_7aee71b6_4942_11eb_90b9_0242ac110002level0_row6\" class=\"row_heading level0 row6\" >6</th>\n",
       "                        <td id=\"T_7aee71b6_4942_11eb_90b9_0242ac110002row6_col0\" class=\"data row6 col0\" >Numeric Features</td>\n",
       "                        <td id=\"T_7aee71b6_4942_11eb_90b9_0242ac110002row6_col1\" class=\"data row6 col1\" >10</td>\n",
       "            </tr>\n",
       "            <tr>\n",
       "                        <th id=\"T_7aee71b6_4942_11eb_90b9_0242ac110002level0_row7\" class=\"row_heading level0 row7\" >7</th>\n",
       "                        <td id=\"T_7aee71b6_4942_11eb_90b9_0242ac110002row7_col0\" class=\"data row7 col0\" >Categorical Features</td>\n",
       "                        <td id=\"T_7aee71b6_4942_11eb_90b9_0242ac110002row7_col1\" class=\"data row7 col1\" >2</td>\n",
       "            </tr>\n",
       "            <tr>\n",
       "                        <th id=\"T_7aee71b6_4942_11eb_90b9_0242ac110002level0_row8\" class=\"row_heading level0 row8\" >8</th>\n",
       "                        <td id=\"T_7aee71b6_4942_11eb_90b9_0242ac110002row8_col0\" class=\"data row8 col0\" >Ordinal Features</td>\n",
       "                        <td id=\"T_7aee71b6_4942_11eb_90b9_0242ac110002row8_col1\" class=\"data row8 col1\" >False</td>\n",
       "            </tr>\n",
       "            <tr>\n",
       "                        <th id=\"T_7aee71b6_4942_11eb_90b9_0242ac110002level0_row9\" class=\"row_heading level0 row9\" >9</th>\n",
       "                        <td id=\"T_7aee71b6_4942_11eb_90b9_0242ac110002row9_col0\" class=\"data row9 col0\" >High Cardinality Features</td>\n",
       "                        <td id=\"T_7aee71b6_4942_11eb_90b9_0242ac110002row9_col1\" class=\"data row9 col1\" >False</td>\n",
       "            </tr>\n",
       "            <tr>\n",
       "                        <th id=\"T_7aee71b6_4942_11eb_90b9_0242ac110002level0_row10\" class=\"row_heading level0 row10\" >10</th>\n",
       "                        <td id=\"T_7aee71b6_4942_11eb_90b9_0242ac110002row10_col0\" class=\"data row10 col0\" >High Cardinality Method</td>\n",
       "                        <td id=\"T_7aee71b6_4942_11eb_90b9_0242ac110002row10_col1\" class=\"data row10 col1\" >None</td>\n",
       "            </tr>\n",
       "            <tr>\n",
       "                        <th id=\"T_7aee71b6_4942_11eb_90b9_0242ac110002level0_row11\" class=\"row_heading level0 row11\" >11</th>\n",
       "                        <td id=\"T_7aee71b6_4942_11eb_90b9_0242ac110002row11_col0\" class=\"data row11 col0\" >Transformed Train Set</td>\n",
       "                        <td id=\"T_7aee71b6_4942_11eb_90b9_0242ac110002row11_col1\" class=\"data row11 col1\" >(406708, 18)</td>\n",
       "            </tr>\n",
       "            <tr>\n",
       "                        <th id=\"T_7aee71b6_4942_11eb_90b9_0242ac110002level0_row12\" class=\"row_heading level0 row12\" >12</th>\n",
       "                        <td id=\"T_7aee71b6_4942_11eb_90b9_0242ac110002row12_col0\" class=\"data row12 col0\" >Transformed Test Set</td>\n",
       "                        <td id=\"T_7aee71b6_4942_11eb_90b9_0242ac110002row12_col1\" class=\"data row12 col1\" >(174304, 18)</td>\n",
       "            </tr>\n",
       "            <tr>\n",
       "                        <th id=\"T_7aee71b6_4942_11eb_90b9_0242ac110002level0_row13\" class=\"row_heading level0 row13\" >13</th>\n",
       "                        <td id=\"T_7aee71b6_4942_11eb_90b9_0242ac110002row13_col0\" class=\"data row13 col0\" >Shuffle Train-Test</td>\n",
       "                        <td id=\"T_7aee71b6_4942_11eb_90b9_0242ac110002row13_col1\" class=\"data row13 col1\" >True</td>\n",
       "            </tr>\n",
       "            <tr>\n",
       "                        <th id=\"T_7aee71b6_4942_11eb_90b9_0242ac110002level0_row14\" class=\"row_heading level0 row14\" >14</th>\n",
       "                        <td id=\"T_7aee71b6_4942_11eb_90b9_0242ac110002row14_col0\" class=\"data row14 col0\" >Stratify Train-Test</td>\n",
       "                        <td id=\"T_7aee71b6_4942_11eb_90b9_0242ac110002row14_col1\" class=\"data row14 col1\" >False</td>\n",
       "            </tr>\n",
       "            <tr>\n",
       "                        <th id=\"T_7aee71b6_4942_11eb_90b9_0242ac110002level0_row15\" class=\"row_heading level0 row15\" >15</th>\n",
       "                        <td id=\"T_7aee71b6_4942_11eb_90b9_0242ac110002row15_col0\" class=\"data row15 col0\" >Fold Generator</td>\n",
       "                        <td id=\"T_7aee71b6_4942_11eb_90b9_0242ac110002row15_col1\" class=\"data row15 col1\" >StratifiedKFold</td>\n",
       "            </tr>\n",
       "            <tr>\n",
       "                        <th id=\"T_7aee71b6_4942_11eb_90b9_0242ac110002level0_row16\" class=\"row_heading level0 row16\" >16</th>\n",
       "                        <td id=\"T_7aee71b6_4942_11eb_90b9_0242ac110002row16_col0\" class=\"data row16 col0\" >Fold Number</td>\n",
       "                        <td id=\"T_7aee71b6_4942_11eb_90b9_0242ac110002row16_col1\" class=\"data row16 col1\" >3</td>\n",
       "            </tr>\n",
       "            <tr>\n",
       "                        <th id=\"T_7aee71b6_4942_11eb_90b9_0242ac110002level0_row17\" class=\"row_heading level0 row17\" >17</th>\n",
       "                        <td id=\"T_7aee71b6_4942_11eb_90b9_0242ac110002row17_col0\" class=\"data row17 col0\" >CPU Jobs</td>\n",
       "                        <td id=\"T_7aee71b6_4942_11eb_90b9_0242ac110002row17_col1\" class=\"data row17 col1\" >-1</td>\n",
       "            </tr>\n",
       "            <tr>\n",
       "                        <th id=\"T_7aee71b6_4942_11eb_90b9_0242ac110002level0_row18\" class=\"row_heading level0 row18\" >18</th>\n",
       "                        <td id=\"T_7aee71b6_4942_11eb_90b9_0242ac110002row18_col0\" class=\"data row18 col0\" >Use GPU</td>\n",
       "                        <td id=\"T_7aee71b6_4942_11eb_90b9_0242ac110002row18_col1\" class=\"data row18 col1\" >False</td>\n",
       "            </tr>\n",
       "            <tr>\n",
       "                        <th id=\"T_7aee71b6_4942_11eb_90b9_0242ac110002level0_row19\" class=\"row_heading level0 row19\" >19</th>\n",
       "                        <td id=\"T_7aee71b6_4942_11eb_90b9_0242ac110002row19_col0\" class=\"data row19 col0\" >Log Experiment</td>\n",
       "                        <td id=\"T_7aee71b6_4942_11eb_90b9_0242ac110002row19_col1\" class=\"data row19 col1\" >False</td>\n",
       "            </tr>\n",
       "            <tr>\n",
       "                        <th id=\"T_7aee71b6_4942_11eb_90b9_0242ac110002level0_row20\" class=\"row_heading level0 row20\" >20</th>\n",
       "                        <td id=\"T_7aee71b6_4942_11eb_90b9_0242ac110002row20_col0\" class=\"data row20 col0\" >Experiment Name</td>\n",
       "                        <td id=\"T_7aee71b6_4942_11eb_90b9_0242ac110002row20_col1\" class=\"data row20 col1\" >imblearn</td>\n",
       "            </tr>\n",
       "            <tr>\n",
       "                        <th id=\"T_7aee71b6_4942_11eb_90b9_0242ac110002level0_row21\" class=\"row_heading level0 row21\" >21</th>\n",
       "                        <td id=\"T_7aee71b6_4942_11eb_90b9_0242ac110002row21_col0\" class=\"data row21 col0\" >USI</td>\n",
       "                        <td id=\"T_7aee71b6_4942_11eb_90b9_0242ac110002row21_col1\" class=\"data row21 col1\" >03f9</td>\n",
       "            </tr>\n",
       "            <tr>\n",
       "                        <th id=\"T_7aee71b6_4942_11eb_90b9_0242ac110002level0_row22\" class=\"row_heading level0 row22\" >22</th>\n",
       "                        <td id=\"T_7aee71b6_4942_11eb_90b9_0242ac110002row22_col0\" class=\"data row22 col0\" >Imputation Type</td>\n",
       "                        <td id=\"T_7aee71b6_4942_11eb_90b9_0242ac110002row22_col1\" class=\"data row22 col1\" >simple</td>\n",
       "            </tr>\n",
       "            <tr>\n",
       "                        <th id=\"T_7aee71b6_4942_11eb_90b9_0242ac110002level0_row23\" class=\"row_heading level0 row23\" >23</th>\n",
       "                        <td id=\"T_7aee71b6_4942_11eb_90b9_0242ac110002row23_col0\" class=\"data row23 col0\" >Iterative Imputation Iteration</td>\n",
       "                        <td id=\"T_7aee71b6_4942_11eb_90b9_0242ac110002row23_col1\" class=\"data row23 col1\" >None</td>\n",
       "            </tr>\n",
       "            <tr>\n",
       "                        <th id=\"T_7aee71b6_4942_11eb_90b9_0242ac110002level0_row24\" class=\"row_heading level0 row24\" >24</th>\n",
       "                        <td id=\"T_7aee71b6_4942_11eb_90b9_0242ac110002row24_col0\" class=\"data row24 col0\" >Numeric Imputer</td>\n",
       "                        <td id=\"T_7aee71b6_4942_11eb_90b9_0242ac110002row24_col1\" class=\"data row24 col1\" >mean</td>\n",
       "            </tr>\n",
       "            <tr>\n",
       "                        <th id=\"T_7aee71b6_4942_11eb_90b9_0242ac110002level0_row25\" class=\"row_heading level0 row25\" >25</th>\n",
       "                        <td id=\"T_7aee71b6_4942_11eb_90b9_0242ac110002row25_col0\" class=\"data row25 col0\" >Iterative Imputation Numeric Model</td>\n",
       "                        <td id=\"T_7aee71b6_4942_11eb_90b9_0242ac110002row25_col1\" class=\"data row25 col1\" >None</td>\n",
       "            </tr>\n",
       "            <tr>\n",
       "                        <th id=\"T_7aee71b6_4942_11eb_90b9_0242ac110002level0_row26\" class=\"row_heading level0 row26\" >26</th>\n",
       "                        <td id=\"T_7aee71b6_4942_11eb_90b9_0242ac110002row26_col0\" class=\"data row26 col0\" >Categorical Imputer</td>\n",
       "                        <td id=\"T_7aee71b6_4942_11eb_90b9_0242ac110002row26_col1\" class=\"data row26 col1\" >constant</td>\n",
       "            </tr>\n",
       "            <tr>\n",
       "                        <th id=\"T_7aee71b6_4942_11eb_90b9_0242ac110002level0_row27\" class=\"row_heading level0 row27\" >27</th>\n",
       "                        <td id=\"T_7aee71b6_4942_11eb_90b9_0242ac110002row27_col0\" class=\"data row27 col0\" >Iterative Imputation Categorical Model</td>\n",
       "                        <td id=\"T_7aee71b6_4942_11eb_90b9_0242ac110002row27_col1\" class=\"data row27 col1\" >None</td>\n",
       "            </tr>\n",
       "            <tr>\n",
       "                        <th id=\"T_7aee71b6_4942_11eb_90b9_0242ac110002level0_row28\" class=\"row_heading level0 row28\" >28</th>\n",
       "                        <td id=\"T_7aee71b6_4942_11eb_90b9_0242ac110002row28_col0\" class=\"data row28 col0\" >Unknown Categoricals Handling</td>\n",
       "                        <td id=\"T_7aee71b6_4942_11eb_90b9_0242ac110002row28_col1\" class=\"data row28 col1\" >least_frequent</td>\n",
       "            </tr>\n",
       "            <tr>\n",
       "                        <th id=\"T_7aee71b6_4942_11eb_90b9_0242ac110002level0_row29\" class=\"row_heading level0 row29\" >29</th>\n",
       "                        <td id=\"T_7aee71b6_4942_11eb_90b9_0242ac110002row29_col0\" class=\"data row29 col0\" >Normalize</td>\n",
       "                        <td id=\"T_7aee71b6_4942_11eb_90b9_0242ac110002row29_col1\" class=\"data row29 col1\" >True</td>\n",
       "            </tr>\n",
       "            <tr>\n",
       "                        <th id=\"T_7aee71b6_4942_11eb_90b9_0242ac110002level0_row30\" class=\"row_heading level0 row30\" >30</th>\n",
       "                        <td id=\"T_7aee71b6_4942_11eb_90b9_0242ac110002row30_col0\" class=\"data row30 col0\" >Normalize Method</td>\n",
       "                        <td id=\"T_7aee71b6_4942_11eb_90b9_0242ac110002row30_col1\" class=\"data row30 col1\" >minmax</td>\n",
       "            </tr>\n",
       "            <tr>\n",
       "                        <th id=\"T_7aee71b6_4942_11eb_90b9_0242ac110002level0_row31\" class=\"row_heading level0 row31\" >31</th>\n",
       "                        <td id=\"T_7aee71b6_4942_11eb_90b9_0242ac110002row31_col0\" class=\"data row31 col0\" >Transformation</td>\n",
       "                        <td id=\"T_7aee71b6_4942_11eb_90b9_0242ac110002row31_col1\" class=\"data row31 col1\" >False</td>\n",
       "            </tr>\n",
       "            <tr>\n",
       "                        <th id=\"T_7aee71b6_4942_11eb_90b9_0242ac110002level0_row32\" class=\"row_heading level0 row32\" >32</th>\n",
       "                        <td id=\"T_7aee71b6_4942_11eb_90b9_0242ac110002row32_col0\" class=\"data row32 col0\" >Transformation Method</td>\n",
       "                        <td id=\"T_7aee71b6_4942_11eb_90b9_0242ac110002row32_col1\" class=\"data row32 col1\" >None</td>\n",
       "            </tr>\n",
       "            <tr>\n",
       "                        <th id=\"T_7aee71b6_4942_11eb_90b9_0242ac110002level0_row33\" class=\"row_heading level0 row33\" >33</th>\n",
       "                        <td id=\"T_7aee71b6_4942_11eb_90b9_0242ac110002row33_col0\" class=\"data row33 col0\" >PCA</td>\n",
       "                        <td id=\"T_7aee71b6_4942_11eb_90b9_0242ac110002row33_col1\" class=\"data row33 col1\" >False</td>\n",
       "            </tr>\n",
       "            <tr>\n",
       "                        <th id=\"T_7aee71b6_4942_11eb_90b9_0242ac110002level0_row34\" class=\"row_heading level0 row34\" >34</th>\n",
       "                        <td id=\"T_7aee71b6_4942_11eb_90b9_0242ac110002row34_col0\" class=\"data row34 col0\" >PCA Method</td>\n",
       "                        <td id=\"T_7aee71b6_4942_11eb_90b9_0242ac110002row34_col1\" class=\"data row34 col1\" >None</td>\n",
       "            </tr>\n",
       "            <tr>\n",
       "                        <th id=\"T_7aee71b6_4942_11eb_90b9_0242ac110002level0_row35\" class=\"row_heading level0 row35\" >35</th>\n",
       "                        <td id=\"T_7aee71b6_4942_11eb_90b9_0242ac110002row35_col0\" class=\"data row35 col0\" >PCA Components</td>\n",
       "                        <td id=\"T_7aee71b6_4942_11eb_90b9_0242ac110002row35_col1\" class=\"data row35 col1\" >None</td>\n",
       "            </tr>\n",
       "            <tr>\n",
       "                        <th id=\"T_7aee71b6_4942_11eb_90b9_0242ac110002level0_row36\" class=\"row_heading level0 row36\" >36</th>\n",
       "                        <td id=\"T_7aee71b6_4942_11eb_90b9_0242ac110002row36_col0\" class=\"data row36 col0\" >Ignore Low Variance</td>\n",
       "                        <td id=\"T_7aee71b6_4942_11eb_90b9_0242ac110002row36_col1\" class=\"data row36 col1\" >False</td>\n",
       "            </tr>\n",
       "            <tr>\n",
       "                        <th id=\"T_7aee71b6_4942_11eb_90b9_0242ac110002level0_row37\" class=\"row_heading level0 row37\" >37</th>\n",
       "                        <td id=\"T_7aee71b6_4942_11eb_90b9_0242ac110002row37_col0\" class=\"data row37 col0\" >Combine Rare Levels</td>\n",
       "                        <td id=\"T_7aee71b6_4942_11eb_90b9_0242ac110002row37_col1\" class=\"data row37 col1\" >False</td>\n",
       "            </tr>\n",
       "            <tr>\n",
       "                        <th id=\"T_7aee71b6_4942_11eb_90b9_0242ac110002level0_row38\" class=\"row_heading level0 row38\" >38</th>\n",
       "                        <td id=\"T_7aee71b6_4942_11eb_90b9_0242ac110002row38_col0\" class=\"data row38 col0\" >Rare Level Threshold</td>\n",
       "                        <td id=\"T_7aee71b6_4942_11eb_90b9_0242ac110002row38_col1\" class=\"data row38 col1\" >None</td>\n",
       "            </tr>\n",
       "            <tr>\n",
       "                        <th id=\"T_7aee71b6_4942_11eb_90b9_0242ac110002level0_row39\" class=\"row_heading level0 row39\" >39</th>\n",
       "                        <td id=\"T_7aee71b6_4942_11eb_90b9_0242ac110002row39_col0\" class=\"data row39 col0\" >Numeric Binning</td>\n",
       "                        <td id=\"T_7aee71b6_4942_11eb_90b9_0242ac110002row39_col1\" class=\"data row39 col1\" >False</td>\n",
       "            </tr>\n",
       "            <tr>\n",
       "                        <th id=\"T_7aee71b6_4942_11eb_90b9_0242ac110002level0_row40\" class=\"row_heading level0 row40\" >40</th>\n",
       "                        <td id=\"T_7aee71b6_4942_11eb_90b9_0242ac110002row40_col0\" class=\"data row40 col0\" >Remove Outliers</td>\n",
       "                        <td id=\"T_7aee71b6_4942_11eb_90b9_0242ac110002row40_col1\" class=\"data row40 col1\" >False</td>\n",
       "            </tr>\n",
       "            <tr>\n",
       "                        <th id=\"T_7aee71b6_4942_11eb_90b9_0242ac110002level0_row41\" class=\"row_heading level0 row41\" >41</th>\n",
       "                        <td id=\"T_7aee71b6_4942_11eb_90b9_0242ac110002row41_col0\" class=\"data row41 col0\" >Outliers Threshold</td>\n",
       "                        <td id=\"T_7aee71b6_4942_11eb_90b9_0242ac110002row41_col1\" class=\"data row41 col1\" >None</td>\n",
       "            </tr>\n",
       "            <tr>\n",
       "                        <th id=\"T_7aee71b6_4942_11eb_90b9_0242ac110002level0_row42\" class=\"row_heading level0 row42\" >42</th>\n",
       "                        <td id=\"T_7aee71b6_4942_11eb_90b9_0242ac110002row42_col0\" class=\"data row42 col0\" >Remove Multicollinearity</td>\n",
       "                        <td id=\"T_7aee71b6_4942_11eb_90b9_0242ac110002row42_col1\" class=\"data row42 col1\" >False</td>\n",
       "            </tr>\n",
       "            <tr>\n",
       "                        <th id=\"T_7aee71b6_4942_11eb_90b9_0242ac110002level0_row43\" class=\"row_heading level0 row43\" >43</th>\n",
       "                        <td id=\"T_7aee71b6_4942_11eb_90b9_0242ac110002row43_col0\" class=\"data row43 col0\" >Multicollinearity Threshold</td>\n",
       "                        <td id=\"T_7aee71b6_4942_11eb_90b9_0242ac110002row43_col1\" class=\"data row43 col1\" >None</td>\n",
       "            </tr>\n",
       "            <tr>\n",
       "                        <th id=\"T_7aee71b6_4942_11eb_90b9_0242ac110002level0_row44\" class=\"row_heading level0 row44\" >44</th>\n",
       "                        <td id=\"T_7aee71b6_4942_11eb_90b9_0242ac110002row44_col0\" class=\"data row44 col0\" >Clustering</td>\n",
       "                        <td id=\"T_7aee71b6_4942_11eb_90b9_0242ac110002row44_col1\" class=\"data row44 col1\" >False</td>\n",
       "            </tr>\n",
       "            <tr>\n",
       "                        <th id=\"T_7aee71b6_4942_11eb_90b9_0242ac110002level0_row45\" class=\"row_heading level0 row45\" >45</th>\n",
       "                        <td id=\"T_7aee71b6_4942_11eb_90b9_0242ac110002row45_col0\" class=\"data row45 col0\" >Clustering Iteration</td>\n",
       "                        <td id=\"T_7aee71b6_4942_11eb_90b9_0242ac110002row45_col1\" class=\"data row45 col1\" >None</td>\n",
       "            </tr>\n",
       "            <tr>\n",
       "                        <th id=\"T_7aee71b6_4942_11eb_90b9_0242ac110002level0_row46\" class=\"row_heading level0 row46\" >46</th>\n",
       "                        <td id=\"T_7aee71b6_4942_11eb_90b9_0242ac110002row46_col0\" class=\"data row46 col0\" >Polynomial Features</td>\n",
       "                        <td id=\"T_7aee71b6_4942_11eb_90b9_0242ac110002row46_col1\" class=\"data row46 col1\" >False</td>\n",
       "            </tr>\n",
       "            <tr>\n",
       "                        <th id=\"T_7aee71b6_4942_11eb_90b9_0242ac110002level0_row47\" class=\"row_heading level0 row47\" >47</th>\n",
       "                        <td id=\"T_7aee71b6_4942_11eb_90b9_0242ac110002row47_col0\" class=\"data row47 col0\" >Polynomial Degree</td>\n",
       "                        <td id=\"T_7aee71b6_4942_11eb_90b9_0242ac110002row47_col1\" class=\"data row47 col1\" >None</td>\n",
       "            </tr>\n",
       "            <tr>\n",
       "                        <th id=\"T_7aee71b6_4942_11eb_90b9_0242ac110002level0_row48\" class=\"row_heading level0 row48\" >48</th>\n",
       "                        <td id=\"T_7aee71b6_4942_11eb_90b9_0242ac110002row48_col0\" class=\"data row48 col0\" >Trignometry Features</td>\n",
       "                        <td id=\"T_7aee71b6_4942_11eb_90b9_0242ac110002row48_col1\" class=\"data row48 col1\" >False</td>\n",
       "            </tr>\n",
       "            <tr>\n",
       "                        <th id=\"T_7aee71b6_4942_11eb_90b9_0242ac110002level0_row49\" class=\"row_heading level0 row49\" >49</th>\n",
       "                        <td id=\"T_7aee71b6_4942_11eb_90b9_0242ac110002row49_col0\" class=\"data row49 col0\" >Polynomial Threshold</td>\n",
       "                        <td id=\"T_7aee71b6_4942_11eb_90b9_0242ac110002row49_col1\" class=\"data row49 col1\" >None</td>\n",
       "            </tr>\n",
       "            <tr>\n",
       "                        <th id=\"T_7aee71b6_4942_11eb_90b9_0242ac110002level0_row50\" class=\"row_heading level0 row50\" >50</th>\n",
       "                        <td id=\"T_7aee71b6_4942_11eb_90b9_0242ac110002row50_col0\" class=\"data row50 col0\" >Group Features</td>\n",
       "                        <td id=\"T_7aee71b6_4942_11eb_90b9_0242ac110002row50_col1\" class=\"data row50 col1\" >False</td>\n",
       "            </tr>\n",
       "            <tr>\n",
       "                        <th id=\"T_7aee71b6_4942_11eb_90b9_0242ac110002level0_row51\" class=\"row_heading level0 row51\" >51</th>\n",
       "                        <td id=\"T_7aee71b6_4942_11eb_90b9_0242ac110002row51_col0\" class=\"data row51 col0\" >Feature Selection</td>\n",
       "                        <td id=\"T_7aee71b6_4942_11eb_90b9_0242ac110002row51_col1\" class=\"data row51 col1\" >False</td>\n",
       "            </tr>\n",
       "            <tr>\n",
       "                        <th id=\"T_7aee71b6_4942_11eb_90b9_0242ac110002level0_row52\" class=\"row_heading level0 row52\" >52</th>\n",
       "                        <td id=\"T_7aee71b6_4942_11eb_90b9_0242ac110002row52_col0\" class=\"data row52 col0\" >Features Selection Threshold</td>\n",
       "                        <td id=\"T_7aee71b6_4942_11eb_90b9_0242ac110002row52_col1\" class=\"data row52 col1\" >None</td>\n",
       "            </tr>\n",
       "            <tr>\n",
       "                        <th id=\"T_7aee71b6_4942_11eb_90b9_0242ac110002level0_row53\" class=\"row_heading level0 row53\" >53</th>\n",
       "                        <td id=\"T_7aee71b6_4942_11eb_90b9_0242ac110002row53_col0\" class=\"data row53 col0\" >Feature Interaction</td>\n",
       "                        <td id=\"T_7aee71b6_4942_11eb_90b9_0242ac110002row53_col1\" class=\"data row53 col1\" >False</td>\n",
       "            </tr>\n",
       "            <tr>\n",
       "                        <th id=\"T_7aee71b6_4942_11eb_90b9_0242ac110002level0_row54\" class=\"row_heading level0 row54\" >54</th>\n",
       "                        <td id=\"T_7aee71b6_4942_11eb_90b9_0242ac110002row54_col0\" class=\"data row54 col0\" >Feature Ratio</td>\n",
       "                        <td id=\"T_7aee71b6_4942_11eb_90b9_0242ac110002row54_col1\" class=\"data row54 col1\" >False</td>\n",
       "            </tr>\n",
       "            <tr>\n",
       "                        <th id=\"T_7aee71b6_4942_11eb_90b9_0242ac110002level0_row55\" class=\"row_heading level0 row55\" >55</th>\n",
       "                        <td id=\"T_7aee71b6_4942_11eb_90b9_0242ac110002row55_col0\" class=\"data row55 col0\" >Interaction Threshold</td>\n",
       "                        <td id=\"T_7aee71b6_4942_11eb_90b9_0242ac110002row55_col1\" class=\"data row55 col1\" >None</td>\n",
       "            </tr>\n",
       "            <tr>\n",
       "                        <th id=\"T_7aee71b6_4942_11eb_90b9_0242ac110002level0_row56\" class=\"row_heading level0 row56\" >56</th>\n",
       "                        <td id=\"T_7aee71b6_4942_11eb_90b9_0242ac110002row56_col0\" class=\"data row56 col0\" >Fix Imbalance</td>\n",
       "                        <td id=\"T_7aee71b6_4942_11eb_90b9_0242ac110002row56_col1\" class=\"data row56 col1\" >True</td>\n",
       "            </tr>\n",
       "            <tr>\n",
       "                        <th id=\"T_7aee71b6_4942_11eb_90b9_0242ac110002level0_row57\" class=\"row_heading level0 row57\" >57</th>\n",
       "                        <td id=\"T_7aee71b6_4942_11eb_90b9_0242ac110002row57_col0\" class=\"data row57 col0\" >Fix Imbalance Method</td>\n",
       "                        <td id=\"T_7aee71b6_4942_11eb_90b9_0242ac110002row57_col1\" class=\"data row57 col1\" >SMOTEENN</td>\n",
       "            </tr>\n",
       "    </tbody></table>"
      ],
      "text/plain": [
       "<pandas.io.formats.style.Styler at 0x7fef0047b760>"
      ]
     },
     "metadata": {},
     "output_type": "display_data"
    }
   ],
   "source": [
    "su_grand     = setup(data = df_su, target = target_col[0],\n",
    "                     categorical_features = features_cat_pycaret_pre_process,\n",
    "                     normalize = True, normalize_method = 'minmax',\n",
    "                     fix_imbalance = True, fix_imbalance_method = the_smote,\n",
    "                     train_size = 0.7, fold = 3, session_id = 59, use_gpu = su_use_gpu,\n",
    "                     log_experiment = su_log_exp, experiment_name = su_name_exp, log_profile = su_log_profile,\n",
    "                     #profile = True\n",
    "                     silent = su_silent\n",
    "                     )"
   ]
  },
  {
   "cell_type": "code",
   "execution_count": 37,
   "metadata": {
    "jupyter": {
     "outputs_hidden": true
    }
   },
   "outputs": [
    {
     "name": "stdout",
     "output_type": "stream",
     "text": [
      "item= 4 type= <class 'pandas.core.series.Series'> (581012,)\n",
      "item= 25 type= <class 'pandas.core.frame.DataFrame'> (581012, 13)\n",
      "item= 30 type= <class 'pandas.core.series.Series'> (406708,)\n",
      "item= 35 type= <class 'pandas.core.frame.DataFrame'> (174304, 18)\n",
      "item= 36 type= <class 'pandas.core.frame.DataFrame'> (581012, 18)\n",
      "item= 38 type= <class 'pandas.core.series.Series'> (174304,)\n",
      "item= 40 type= <class 'pandas.core.frame.DataFrame'> (406708, 18)\n"
     ]
    },
    {
     "data": {
      "text/plain": [
       "{'X_train': 40, 'y_train': 30, 'X_test': 35, 'y_test': 38}"
      ]
     },
     "execution_count": 37,
     "metadata": {},
     "output_type": "execute_result"
    }
   ],
   "source": [
    "dict_su_data = find_train_test_data_from_pycaret_setup(su_grand,\n",
    "                                        train_size=int(0.7*len(df_su)), test_size=int(0.3*len(df_su)))\n",
    "dict_su_data"
   ]
  },
  {
   "cell_type": "code",
   "execution_count": 38,
   "metadata": {
    "jupyter": {
     "outputs_hidden": true
    }
   },
   "outputs": [
    {
     "data": {
      "text/plain": [
       "Int64Index([386294,  93226,   1249, 298742, 469966, 397767,  91286, 324927,\n",
       "            245109, 411449,\n",
       "            ...\n",
       "            528664, 468432, 128653, 222831, 550590, 528447,  23996, 127908,\n",
       "            543892, 431852],\n",
       "           dtype='int64', length=406708)"
      ]
     },
     "execution_count": 38,
     "metadata": {},
     "output_type": "execute_result"
    }
   ],
   "source": [
    "su_train_indices = su_grand[dict_su_data['X_train']].index\n",
    "su_test_indices  = su_grand[dict_su_data['X_test']].index\n",
    "su_train_indices"
   ]
  },
  {
   "cell_type": "code",
   "execution_count": 39,
   "metadata": {
    "jupyter": {
     "outputs_hidden": true
    }
   },
   "outputs": [
    {
     "data": {
      "text/html": [
       "<div>\n",
       "<style scoped>\n",
       "    .dataframe tbody tr th:only-of-type {\n",
       "        vertical-align: middle;\n",
       "    }\n",
       "\n",
       "    .dataframe tbody tr th {\n",
       "        vertical-align: top;\n",
       "    }\n",
       "\n",
       "    .dataframe thead th {\n",
       "        text-align: right;\n",
       "    }\n",
       "</style>\n",
       "<table border=\"1\" class=\"dataframe\">\n",
       "  <thead>\n",
       "    <tr style=\"text-align: right;\">\n",
       "      <th></th>\n",
       "      <th>elevation</th>\n",
       "      <th>aspect</th>\n",
       "      <th>slope</th>\n",
       "      <th>HD_hydrology</th>\n",
       "      <th>VD_hydrology</th>\n",
       "      <th>HD_roadways</th>\n",
       "      <th>hillshade_9am</th>\n",
       "      <th>hillshade_noon</th>\n",
       "      <th>hillshade_3pm</th>\n",
       "      <th>HD_fire_points</th>\n",
       "      <th>wilderness_index</th>\n",
       "      <th>geologic_zone</th>\n",
       "      <th>cover_type</th>\n",
       "    </tr>\n",
       "  </thead>\n",
       "  <tbody>\n",
       "    <tr>\n",
       "      <th>386294</th>\n",
       "      <td>2954</td>\n",
       "      <td>19</td>\n",
       "      <td>17</td>\n",
       "      <td>552</td>\n",
       "      <td>159</td>\n",
       "      <td>3094</td>\n",
       "      <td>206</td>\n",
       "      <td>203</td>\n",
       "      <td>130</td>\n",
       "      <td>886</td>\n",
       "      <td>2</td>\n",
       "      <td>7</td>\n",
       "      <td>2</td>\n",
       "    </tr>\n",
       "    <tr>\n",
       "      <th>93226</th>\n",
       "      <td>2926</td>\n",
       "      <td>295</td>\n",
       "      <td>11</td>\n",
       "      <td>306</td>\n",
       "      <td>17</td>\n",
       "      <td>5651</td>\n",
       "      <td>190</td>\n",
       "      <td>237</td>\n",
       "      <td>187</td>\n",
       "      <td>3361</td>\n",
       "      <td>0</td>\n",
       "      <td>2</td>\n",
       "      <td>2</td>\n",
       "    </tr>\n",
       "    <tr>\n",
       "      <th>1249</th>\n",
       "      <td>3178</td>\n",
       "      <td>263</td>\n",
       "      <td>9</td>\n",
       "      <td>272</td>\n",
       "      <td>58</td>\n",
       "      <td>5807</td>\n",
       "      <td>197</td>\n",
       "      <td>245</td>\n",
       "      <td>187</td>\n",
       "      <td>2941</td>\n",
       "      <td>0</td>\n",
       "      <td>2</td>\n",
       "      <td>2</td>\n",
       "    </tr>\n",
       "    <tr>\n",
       "      <th>298742</th>\n",
       "      <td>2971</td>\n",
       "      <td>132</td>\n",
       "      <td>15</td>\n",
       "      <td>90</td>\n",
       "      <td>9</td>\n",
       "      <td>888</td>\n",
       "      <td>242</td>\n",
       "      <td>232</td>\n",
       "      <td>115</td>\n",
       "      <td>175</td>\n",
       "      <td>2</td>\n",
       "      <td>7</td>\n",
       "      <td>2</td>\n",
       "    </tr>\n",
       "    <tr>\n",
       "      <th>469966</th>\n",
       "      <td>3294</td>\n",
       "      <td>1</td>\n",
       "      <td>12</td>\n",
       "      <td>446</td>\n",
       "      <td>98</td>\n",
       "      <td>2758</td>\n",
       "      <td>203</td>\n",
       "      <td>217</td>\n",
       "      <td>152</td>\n",
       "      <td>2325</td>\n",
       "      <td>2</td>\n",
       "      <td>7</td>\n",
       "      <td>1</td>\n",
       "    </tr>\n",
       "    <tr>\n",
       "      <th>...</th>\n",
       "      <td>...</td>\n",
       "      <td>...</td>\n",
       "      <td>...</td>\n",
       "      <td>...</td>\n",
       "      <td>...</td>\n",
       "      <td>...</td>\n",
       "      <td>...</td>\n",
       "      <td>...</td>\n",
       "      <td>...</td>\n",
       "      <td>...</td>\n",
       "      <td>...</td>\n",
       "      <td>...</td>\n",
       "      <td>...</td>\n",
       "    </tr>\n",
       "    <tr>\n",
       "      <th>528447</th>\n",
       "      <td>3070</td>\n",
       "      <td>250</td>\n",
       "      <td>19</td>\n",
       "      <td>335</td>\n",
       "      <td>44</td>\n",
       "      <td>3443</td>\n",
       "      <td>177</td>\n",
       "      <td>250</td>\n",
       "      <td>209</td>\n",
       "      <td>1549</td>\n",
       "      <td>2</td>\n",
       "      <td>7</td>\n",
       "      <td>1</td>\n",
       "    </tr>\n",
       "    <tr>\n",
       "      <th>23996</th>\n",
       "      <td>2860</td>\n",
       "      <td>45</td>\n",
       "      <td>7</td>\n",
       "      <td>402</td>\n",
       "      <td>88</td>\n",
       "      <td>3548</td>\n",
       "      <td>222</td>\n",
       "      <td>224</td>\n",
       "      <td>137</td>\n",
       "      <td>6032</td>\n",
       "      <td>0</td>\n",
       "      <td>7</td>\n",
       "      <td>1</td>\n",
       "    </tr>\n",
       "    <tr>\n",
       "      <th>127908</th>\n",
       "      <td>3011</td>\n",
       "      <td>90</td>\n",
       "      <td>7</td>\n",
       "      <td>150</td>\n",
       "      <td>14</td>\n",
       "      <td>4279</td>\n",
       "      <td>231</td>\n",
       "      <td>229</td>\n",
       "      <td>130</td>\n",
       "      <td>684</td>\n",
       "      <td>0</td>\n",
       "      <td>7</td>\n",
       "      <td>2</td>\n",
       "    </tr>\n",
       "    <tr>\n",
       "      <th>543892</th>\n",
       "      <td>3216</td>\n",
       "      <td>1</td>\n",
       "      <td>17</td>\n",
       "      <td>366</td>\n",
       "      <td>69</td>\n",
       "      <td>4152</td>\n",
       "      <td>194</td>\n",
       "      <td>206</td>\n",
       "      <td>148</td>\n",
       "      <td>930</td>\n",
       "      <td>2</td>\n",
       "      <td>7</td>\n",
       "      <td>1</td>\n",
       "    </tr>\n",
       "    <tr>\n",
       "      <th>431852</th>\n",
       "      <td>3190</td>\n",
       "      <td>47</td>\n",
       "      <td>23</td>\n",
       "      <td>390</td>\n",
       "      <td>119</td>\n",
       "      <td>3408</td>\n",
       "      <td>221</td>\n",
       "      <td>183</td>\n",
       "      <td>84</td>\n",
       "      <td>1674</td>\n",
       "      <td>2</td>\n",
       "      <td>7</td>\n",
       "      <td>1</td>\n",
       "    </tr>\n",
       "  </tbody>\n",
       "</table>\n",
       "<p>406708 rows × 13 columns</p>\n",
       "</div>"
      ],
      "text/plain": [
       "        elevation  aspect  slope  HD_hydrology  VD_hydrology  HD_roadways  \\\n",
       "386294       2954      19     17           552           159         3094   \n",
       "93226        2926     295     11           306            17         5651   \n",
       "1249         3178     263      9           272            58         5807   \n",
       "298742       2971     132     15            90             9          888   \n",
       "469966       3294       1     12           446            98         2758   \n",
       "...           ...     ...    ...           ...           ...          ...   \n",
       "528447       3070     250     19           335            44         3443   \n",
       "23996        2860      45      7           402            88         3548   \n",
       "127908       3011      90      7           150            14         4279   \n",
       "543892       3216       1     17           366            69         4152   \n",
       "431852       3190      47     23           390           119         3408   \n",
       "\n",
       "        hillshade_9am  hillshade_noon  hillshade_3pm  HD_fire_points  \\\n",
       "386294            206             203            130             886   \n",
       "93226             190             237            187            3361   \n",
       "1249              197             245            187            2941   \n",
       "298742            242             232            115             175   \n",
       "469966            203             217            152            2325   \n",
       "...               ...             ...            ...             ...   \n",
       "528447            177             250            209            1549   \n",
       "23996             222             224            137            6032   \n",
       "127908            231             229            130             684   \n",
       "543892            194             206            148             930   \n",
       "431852            221             183             84            1674   \n",
       "\n",
       "        wilderness_index  geologic_zone  cover_type  \n",
       "386294                 2              7           2  \n",
       "93226                  0              2           2  \n",
       "1249                   0              2           2  \n",
       "298742                 2              7           2  \n",
       "469966                 2              7           1  \n",
       "...                  ...            ...         ...  \n",
       "528447                 2              7           1  \n",
       "23996                  0              7           1  \n",
       "127908                 0              7           2  \n",
       "543892                 2              7           1  \n",
       "431852                 2              7           1  \n",
       "\n",
       "[406708 rows x 13 columns]"
      ]
     },
     "execution_count": 39,
     "metadata": {},
     "output_type": "execute_result"
    }
   ],
   "source": [
    "df_su.loc[su_train_indices]"
   ]
  },
  {
   "cell_type": "code",
   "execution_count": 40,
   "metadata": {
    "jupyter": {
     "outputs_hidden": true
    }
   },
   "outputs": [
    {
     "data": {
      "text/plain": [
       "18"
      ]
     },
     "execution_count": 40,
     "metadata": {},
     "output_type": "execute_result"
    },
    {
     "data": {
      "text/plain": [
       "Index(['elevation', 'aspect', 'slope', 'HD_hydrology', 'VD_hydrology',\n",
       "       'HD_roadways', 'hillshade_9am', 'hillshade_noon', 'hillshade_3pm',\n",
       "       'HD_fire_points', 'wilderness_index_0', 'wilderness_index_1',\n",
       "       'wilderness_index_2', 'wilderness_index_3', 'geologic_zone_1',\n",
       "       'geologic_zone_2', 'geologic_zone_5', 'geologic_zone_7'],\n",
       "      dtype='object')"
      ]
     },
     "execution_count": 40,
     "metadata": {},
     "output_type": "execute_result"
    },
    {
     "data": {
      "text/plain": [
       "Index(['wilderness_index_0', 'wilderness_index_1', 'wilderness_index_2',\n",
       "       'wilderness_index_3', 'geologic_zone_1', 'geologic_zone_2',\n",
       "       'geologic_zone_5', 'geologic_zone_7'],\n",
       "      dtype='object')"
      ]
     },
     "execution_count": 40,
     "metadata": {},
     "output_type": "execute_result"
    }
   ],
   "source": [
    "columns_X_train = su_grand[dict_su_data['X_train']].columns\n",
    "len(columns_X_train)\n",
    "columns_X_train\n",
    "columns_X_train[features_cat_imblearn]"
   ]
  },
  {
   "cell_type": "code",
   "execution_count": null,
   "metadata": {
    "jupyter": {
     "outputs_hidden": true
    }
   },
   "outputs": [],
   "source": []
  },
  {
   "cell_type": "markdown",
   "metadata": {},
   "source": [
    "### `compare_models`"
   ]
  },
  {
   "cell_type": "code",
   "execution_count": 41,
   "metadata": {
    "jupyter": {
     "outputs_hidden": true
    }
   },
   "outputs": [
    {
     "data": {
      "text/html": [
       "<div>\n",
       "<style scoped>\n",
       "    .dataframe tbody tr th:only-of-type {\n",
       "        vertical-align: middle;\n",
       "    }\n",
       "\n",
       "    .dataframe tbody tr th {\n",
       "        vertical-align: top;\n",
       "    }\n",
       "\n",
       "    .dataframe thead th {\n",
       "        text-align: right;\n",
       "    }\n",
       "</style>\n",
       "<table border=\"1\" class=\"dataframe\">\n",
       "  <thead>\n",
       "    <tr style=\"text-align: right;\">\n",
       "      <th></th>\n",
       "      <th>Name</th>\n",
       "      <th>Display Name</th>\n",
       "      <th>Score Function</th>\n",
       "      <th>Scorer</th>\n",
       "      <th>Target</th>\n",
       "      <th>Args</th>\n",
       "      <th>Greater is Better</th>\n",
       "      <th>Multiclass</th>\n",
       "      <th>Custom</th>\n",
       "    </tr>\n",
       "    <tr>\n",
       "      <th>ID</th>\n",
       "      <th></th>\n",
       "      <th></th>\n",
       "      <th></th>\n",
       "      <th></th>\n",
       "      <th></th>\n",
       "      <th></th>\n",
       "      <th></th>\n",
       "      <th></th>\n",
       "      <th></th>\n",
       "    </tr>\n",
       "  </thead>\n",
       "  <tbody>\n",
       "    <tr>\n",
       "      <th>acc</th>\n",
       "      <td>Accuracy</td>\n",
       "      <td>Accuracy</td>\n",
       "      <td>&lt;function accuracy_score at 0x7fef645ae820&gt;</td>\n",
       "      <td>accuracy</td>\n",
       "      <td>pred</td>\n",
       "      <td>{}</td>\n",
       "      <td>True</td>\n",
       "      <td>True</td>\n",
       "      <td>False</td>\n",
       "    </tr>\n",
       "    <tr>\n",
       "      <th>precision</th>\n",
       "      <td>Precision</td>\n",
       "      <td>Prec.</td>\n",
       "      <td>&lt;function binary_multiclass_score_func.&lt;locals...</td>\n",
       "      <td>make_scorer(wrapper, average=weighted)</td>\n",
       "      <td>pred</td>\n",
       "      <td>{'average': 'weighted'}</td>\n",
       "      <td>True</td>\n",
       "      <td>True</td>\n",
       "      <td>False</td>\n",
       "    </tr>\n",
       "    <tr>\n",
       "      <th>f1</th>\n",
       "      <td>F1</td>\n",
       "      <td>F1</td>\n",
       "      <td>&lt;function binary_multiclass_score_func.&lt;locals...</td>\n",
       "      <td>make_scorer(wrapper, average=weighted)</td>\n",
       "      <td>pred</td>\n",
       "      <td>{'average': 'weighted'}</td>\n",
       "      <td>True</td>\n",
       "      <td>True</td>\n",
       "      <td>False</td>\n",
       "    </tr>\n",
       "    <tr>\n",
       "      <th>re_wgt</th>\n",
       "      <td>Recall Weighted</td>\n",
       "      <td>Recall Weighted</td>\n",
       "      <td>&lt;function recall_score at 0x7fef645b7670&gt;</td>\n",
       "      <td>make_scorer(recall_score, average=weighted)</td>\n",
       "      <td>pred</td>\n",
       "      <td>{'average': 'weighted'}</td>\n",
       "      <td>True</td>\n",
       "      <td>True</td>\n",
       "      <td>True</td>\n",
       "    </tr>\n",
       "    <tr>\n",
       "      <th>pr_macro</th>\n",
       "      <td>Precision Macro</td>\n",
       "      <td>Precision Macro</td>\n",
       "      <td>&lt;function precision_score at 0x7fef645b7550&gt;</td>\n",
       "      <td>make_scorer(precision_score, average=macro)</td>\n",
       "      <td>pred</td>\n",
       "      <td>{'average': 'macro'}</td>\n",
       "      <td>True</td>\n",
       "      <td>True</td>\n",
       "      <td>True</td>\n",
       "    </tr>\n",
       "    <tr>\n",
       "      <th>re_macro</th>\n",
       "      <td>Recall Macro</td>\n",
       "      <td>Recall Macro</td>\n",
       "      <td>&lt;function recall_score at 0x7fef645b7670&gt;</td>\n",
       "      <td>make_scorer(recall_score, average=macro)</td>\n",
       "      <td>pred</td>\n",
       "      <td>{'average': 'macro'}</td>\n",
       "      <td>True</td>\n",
       "      <td>True</td>\n",
       "      <td>True</td>\n",
       "    </tr>\n",
       "    <tr>\n",
       "      <th>f1_macro</th>\n",
       "      <td>F1 Macro</td>\n",
       "      <td>F1 Macro</td>\n",
       "      <td>&lt;function f1_score at 0x7fef645b7040&gt;</td>\n",
       "      <td>make_scorer(f1_score, average=macro)</td>\n",
       "      <td>pred</td>\n",
       "      <td>{'average': 'macro'}</td>\n",
       "      <td>True</td>\n",
       "      <td>True</td>\n",
       "      <td>True</td>\n",
       "    </tr>\n",
       "  </tbody>\n",
       "</table>\n",
       "</div>"
      ],
      "text/plain": [
       "                      Name     Display Name  \\\n",
       "ID                                            \n",
       "acc               Accuracy         Accuracy   \n",
       "precision        Precision            Prec.   \n",
       "f1                      F1               F1   \n",
       "re_wgt     Recall Weighted  Recall Weighted   \n",
       "pr_macro   Precision Macro  Precision Macro   \n",
       "re_macro      Recall Macro     Recall Macro   \n",
       "f1_macro          F1 Macro         F1 Macro   \n",
       "\n",
       "                                              Score Function  \\\n",
       "ID                                                             \n",
       "acc              <function accuracy_score at 0x7fef645ae820>   \n",
       "precision  <function binary_multiclass_score_func.<locals...   \n",
       "f1         <function binary_multiclass_score_func.<locals...   \n",
       "re_wgt             <function recall_score at 0x7fef645b7670>   \n",
       "pr_macro        <function precision_score at 0x7fef645b7550>   \n",
       "re_macro           <function recall_score at 0x7fef645b7670>   \n",
       "f1_macro               <function f1_score at 0x7fef645b7040>   \n",
       "\n",
       "                                                Scorer Target  \\\n",
       "ID                                                              \n",
       "acc                                           accuracy   pred   \n",
       "precision       make_scorer(wrapper, average=weighted)   pred   \n",
       "f1              make_scorer(wrapper, average=weighted)   pred   \n",
       "re_wgt     make_scorer(recall_score, average=weighted)   pred   \n",
       "pr_macro   make_scorer(precision_score, average=macro)   pred   \n",
       "re_macro      make_scorer(recall_score, average=macro)   pred   \n",
       "f1_macro          make_scorer(f1_score, average=macro)   pred   \n",
       "\n",
       "                              Args  Greater is Better  Multiclass  Custom  \n",
       "ID                                                                         \n",
       "acc                             {}               True        True   False  \n",
       "precision  {'average': 'weighted'}               True        True   False  \n",
       "f1         {'average': 'weighted'}               True        True   False  \n",
       "re_wgt     {'average': 'weighted'}               True        True    True  \n",
       "pr_macro      {'average': 'macro'}               True        True    True  \n",
       "re_macro      {'average': 'macro'}               True        True    True  \n",
       "f1_macro      {'average': 'macro'}               True        True    True  "
      ]
     },
     "execution_count": 41,
     "metadata": {},
     "output_type": "execute_result"
    }
   ],
   "source": [
    "specify_metrics()\n",
    "get_metrics()"
   ]
  },
  {
   "cell_type": "code",
   "execution_count": 42,
   "metadata": {
    "jupyter": {
     "outputs_hidden": true
    }
   },
   "outputs": [
    {
     "data": {
      "text/html": [
       "<style  type=\"text/css\" >\n",
       "    #T_b6258a88_4962_11eb_90b9_0242ac110002 th {\n",
       "          text-align: left;\n",
       "    }#T_b6258a88_4962_11eb_90b9_0242ac110002row0_col0,#T_b6258a88_4962_11eb_90b9_0242ac110002row1_col0,#T_b6258a88_4962_11eb_90b9_0242ac110002row1_col1,#T_b6258a88_4962_11eb_90b9_0242ac110002row1_col2,#T_b6258a88_4962_11eb_90b9_0242ac110002row1_col3,#T_b6258a88_4962_11eb_90b9_0242ac110002row1_col4,#T_b6258a88_4962_11eb_90b9_0242ac110002row1_col5,#T_b6258a88_4962_11eb_90b9_0242ac110002row1_col6,#T_b6258a88_4962_11eb_90b9_0242ac110002row1_col7{\n",
       "            text-align:  left;\n",
       "            text-align:  left;\n",
       "        }#T_b6258a88_4962_11eb_90b9_0242ac110002row0_col1,#T_b6258a88_4962_11eb_90b9_0242ac110002row0_col2,#T_b6258a88_4962_11eb_90b9_0242ac110002row0_col3,#T_b6258a88_4962_11eb_90b9_0242ac110002row0_col4,#T_b6258a88_4962_11eb_90b9_0242ac110002row0_col5,#T_b6258a88_4962_11eb_90b9_0242ac110002row0_col6,#T_b6258a88_4962_11eb_90b9_0242ac110002row0_col7{\n",
       "            text-align:  left;\n",
       "            text-align:  left;\n",
       "            background-color:  yellow;\n",
       "        }#T_b6258a88_4962_11eb_90b9_0242ac110002row0_col8{\n",
       "            text-align:  left;\n",
       "            text-align:  left;\n",
       "            background-color:  yellow;\n",
       "            background-color:  lightgrey;\n",
       "        }#T_b6258a88_4962_11eb_90b9_0242ac110002row1_col8{\n",
       "            text-align:  left;\n",
       "            text-align:  left;\n",
       "            background-color:  lightgrey;\n",
       "        }</style><table id=\"T_b6258a88_4962_11eb_90b9_0242ac110002\" ><thead>    <tr>        <th class=\"blank level0\" ></th>        <th class=\"col_heading level0 col0\" >Model</th>        <th class=\"col_heading level0 col1\" >Accuracy</th>        <th class=\"col_heading level0 col2\" >Prec.</th>        <th class=\"col_heading level0 col3\" >F1</th>        <th class=\"col_heading level0 col4\" >Recall Weighted</th>        <th class=\"col_heading level0 col5\" >Precision Macro</th>        <th class=\"col_heading level0 col6\" >Recall Macro</th>        <th class=\"col_heading level0 col7\" >F1 Macro</th>        <th class=\"col_heading level0 col8\" >TT (Sec)</th>    </tr></thead><tbody>\n",
       "                <tr>\n",
       "                        <th id=\"T_b6258a88_4962_11eb_90b9_0242ac110002level0_row0\" class=\"row_heading level0 row0\" >dt</th>\n",
       "                        <td id=\"T_b6258a88_4962_11eb_90b9_0242ac110002row0_col0\" class=\"data row0 col0\" >Decision Tree Classifier</td>\n",
       "                        <td id=\"T_b6258a88_4962_11eb_90b9_0242ac110002row0_col1\" class=\"data row0 col1\" >0.9102</td>\n",
       "                        <td id=\"T_b6258a88_4962_11eb_90b9_0242ac110002row0_col2\" class=\"data row0 col2\" >0.9102</td>\n",
       "                        <td id=\"T_b6258a88_4962_11eb_90b9_0242ac110002row0_col3\" class=\"data row0 col3\" >0.9102</td>\n",
       "                        <td id=\"T_b6258a88_4962_11eb_90b9_0242ac110002row0_col4\" class=\"data row0 col4\" >0.9102</td>\n",
       "                        <td id=\"T_b6258a88_4962_11eb_90b9_0242ac110002row0_col5\" class=\"data row0 col5\" >0.8581</td>\n",
       "                        <td id=\"T_b6258a88_4962_11eb_90b9_0242ac110002row0_col6\" class=\"data row0 col6\" >0.8610</td>\n",
       "                        <td id=\"T_b6258a88_4962_11eb_90b9_0242ac110002row0_col7\" class=\"data row0 col7\" >0.8595</td>\n",
       "                        <td id=\"T_b6258a88_4962_11eb_90b9_0242ac110002row0_col8\" class=\"data row0 col8\" >722.1567</td>\n",
       "            </tr>\n",
       "            <tr>\n",
       "                        <th id=\"T_b6258a88_4962_11eb_90b9_0242ac110002level0_row1\" class=\"row_heading level0 row1\" >catboost</th>\n",
       "                        <td id=\"T_b6258a88_4962_11eb_90b9_0242ac110002row1_col0\" class=\"data row1 col0\" >CatBoost Classifier</td>\n",
       "                        <td id=\"T_b6258a88_4962_11eb_90b9_0242ac110002row1_col1\" class=\"data row1 col1\" >0.8737</td>\n",
       "                        <td id=\"T_b6258a88_4962_11eb_90b9_0242ac110002row1_col2\" class=\"data row1 col2\" >0.8737</td>\n",
       "                        <td id=\"T_b6258a88_4962_11eb_90b9_0242ac110002row1_col3\" class=\"data row1 col3\" >0.8734</td>\n",
       "                        <td id=\"T_b6258a88_4962_11eb_90b9_0242ac110002row1_col4\" class=\"data row1 col4\" >0.8737</td>\n",
       "                        <td id=\"T_b6258a88_4962_11eb_90b9_0242ac110002row1_col5\" class=\"data row1 col5\" >0.8445</td>\n",
       "                        <td id=\"T_b6258a88_4962_11eb_90b9_0242ac110002row1_col6\" class=\"data row1 col6\" >0.8478</td>\n",
       "                        <td id=\"T_b6258a88_4962_11eb_90b9_0242ac110002row1_col7\" class=\"data row1 col7\" >0.8456</td>\n",
       "                        <td id=\"T_b6258a88_4962_11eb_90b9_0242ac110002row1_col8\" class=\"data row1 col8\" >853.6000</td>\n",
       "            </tr>\n",
       "    </tbody></table>"
      ],
      "text/plain": [
       "<pandas.io.formats.style.Styler at 0x7fef359a7070>"
      ]
     },
     "metadata": {},
     "output_type": "display_data"
    }
   ],
   "source": [
    "models_imbl = compare_models(include=models_to_run, sort='Accuracy', n_select=len(models_to_run))"
   ]
  },
  {
   "cell_type": "code",
   "execution_count": 43,
   "metadata": {
    "jupyter": {
     "outputs_hidden": true
    }
   },
   "outputs": [
    {
     "data": {
      "text/plain": [
       "[DecisionTreeClassifier(ccp_alpha=0.0, class_weight=None, criterion='gini',\n",
       "                        max_depth=None, max_features=None, max_leaf_nodes=None,\n",
       "                        min_impurity_decrease=0.0, min_impurity_split=None,\n",
       "                        min_samples_leaf=1, min_samples_split=2,\n",
       "                        min_weight_fraction_leaf=0.0, presort='deprecated',\n",
       "                        random_state=59, splitter='best'),\n",
       " <catboost.core.CatBoostClassifier at 0x7fef0046d9a0>]"
      ]
     },
     "execution_count": 43,
     "metadata": {},
     "output_type": "execute_result"
    }
   ],
   "source": [
    "models_imbl"
   ]
  },
  {
   "cell_type": "markdown",
   "metadata": {},
   "source": [
    "### make all dataframes"
   ]
  },
  {
   "cell_type": "code",
   "execution_count": 44,
   "metadata": {
    "jupyter": {
     "outputs_hidden": true
    }
   },
   "outputs": [
    {
     "name": "stdout",
     "output_type": "stream",
     "text": [
      "multiple models\n"
     ]
    },
    {
     "data": {
      "text/plain": [
       "[DecisionTreeClassifier(ccp_alpha=0.0, class_weight=None, criterion='gini',\n",
       "                        max_depth=None, max_features=None, max_leaf_nodes=None,\n",
       "                        min_impurity_decrease=0.0, min_impurity_split=None,\n",
       "                        min_samples_leaf=1, min_samples_split=2,\n",
       "                        min_weight_fraction_leaf=0.0, presort='deprecated',\n",
       "                        random_state=59, splitter='best'),\n",
       " <catboost.core.CatBoostClassifier at 0x7fef0046d9a0>]"
      ]
     },
     "execution_count": 44,
     "metadata": {},
     "output_type": "execute_result"
    }
   ],
   "source": [
    "result_models_list = []\n",
    "if len(models_to_run)==1:\n",
    "    print('only 1 model')\n",
    "    result_models_list.append(models_imbl)\n",
    "else:\n",
    "    print('multiple models')\n",
    "    result_models_list = models_imbl\n",
    "\n",
    "result_models_list"
   ]
  },
  {
   "cell_type": "code",
   "execution_count": 45,
   "metadata": {
    "jupyter": {
     "outputs_hidden": true
    }
   },
   "outputs": [],
   "source": [
    "grand_dataframe_creation(result_models_list, df_su, su_train_indices, su_name_exp)"
   ]
  },
  {
   "cell_type": "code",
   "execution_count": 46,
   "metadata": {
    "jupyter": {
     "outputs_hidden": true
    }
   },
   "outputs": [
    {
     "data": {
      "text/html": [
       "<div>\n",
       "<style scoped>\n",
       "    .dataframe tbody tr th:only-of-type {\n",
       "        vertical-align: middle;\n",
       "    }\n",
       "\n",
       "    .dataframe tbody tr th {\n",
       "        vertical-align: top;\n",
       "    }\n",
       "\n",
       "    .dataframe thead th {\n",
       "        text-align: right;\n",
       "    }\n",
       "</style>\n",
       "<table border=\"1\" class=\"dataframe\">\n",
       "  <thead>\n",
       "    <tr style=\"text-align: right;\">\n",
       "      <th></th>\n",
       "      <th>Model</th>\n",
       "      <th>Accuracy</th>\n",
       "      <th>Prec.</th>\n",
       "      <th>F1</th>\n",
       "      <th>Recall Weighted</th>\n",
       "      <th>Precision Macro</th>\n",
       "      <th>Recall Macro</th>\n",
       "      <th>F1 Macro</th>\n",
       "      <th>TT (Sec)</th>\n",
       "    </tr>\n",
       "  </thead>\n",
       "  <tbody>\n",
       "    <tr>\n",
       "      <th>0</th>\n",
       "      <td>Decision Tree Classifier</td>\n",
       "      <td>0.9102</td>\n",
       "      <td>0.9102</td>\n",
       "      <td>0.9102</td>\n",
       "      <td>0.9102</td>\n",
       "      <td>0.8581</td>\n",
       "      <td>0.8610</td>\n",
       "      <td>0.8595</td>\n",
       "      <td>722.1567</td>\n",
       "    </tr>\n",
       "    <tr>\n",
       "      <th>1</th>\n",
       "      <td>CatBoost Classifier</td>\n",
       "      <td>0.8737</td>\n",
       "      <td>0.8737</td>\n",
       "      <td>0.8734</td>\n",
       "      <td>0.8737</td>\n",
       "      <td>0.8445</td>\n",
       "      <td>0.8478</td>\n",
       "      <td>0.8456</td>\n",
       "      <td>853.6000</td>\n",
       "    </tr>\n",
       "  </tbody>\n",
       "</table>\n",
       "</div>"
      ],
      "text/plain": [
       "                      Model  Accuracy   Prec.      F1  Recall Weighted  \\\n",
       "0  Decision Tree Classifier    0.9102  0.9102  0.9102           0.9102   \n",
       "1       CatBoost Classifier    0.8737  0.8737  0.8734           0.8737   \n",
       "\n",
       "   Precision Macro  Recall Macro  F1 Macro  TT (Sec)  \n",
       "0           0.8581        0.8610    0.8595  722.1567  \n",
       "1           0.8445        0.8478    0.8456  853.6000  "
      ]
     },
     "execution_count": 46,
     "metadata": {},
     "output_type": "execute_result"
    }
   ],
   "source": [
    "df_pycaret_model_metrics"
   ]
  },
  {
   "cell_type": "code",
   "execution_count": 47,
   "metadata": {
    "jupyter": {
     "outputs_hidden": true
    }
   },
   "outputs": [
    {
     "data": {
      "text/html": [
       "<div>\n",
       "<style scoped>\n",
       "    .dataframe tbody tr th:only-of-type {\n",
       "        vertical-align: middle;\n",
       "    }\n",
       "\n",
       "    .dataframe tbody tr th {\n",
       "        vertical-align: top;\n",
       "    }\n",
       "\n",
       "    .dataframe thead th {\n",
       "        text-align: right;\n",
       "    }\n",
       "</style>\n",
       "<table border=\"1\" class=\"dataframe\">\n",
       "  <thead>\n",
       "    <tr style=\"text-align: right;\">\n",
       "      <th></th>\n",
       "      <th>model</th>\n",
       "      <th>data</th>\n",
       "      <th>class</th>\n",
       "      <th>precision</th>\n",
       "      <th>recall</th>\n",
       "      <th>f1-score</th>\n",
       "      <th>support</th>\n",
       "    </tr>\n",
       "  </thead>\n",
       "  <tbody>\n",
       "    <tr>\n",
       "      <th>0</th>\n",
       "      <td>Decision Tree Classifier</td>\n",
       "      <td>train</td>\n",
       "      <td>1</td>\n",
       "      <td>0.999012</td>\n",
       "      <td>1.000000</td>\n",
       "      <td>0.999506</td>\n",
       "      <td>148628</td>\n",
       "    </tr>\n",
       "    <tr>\n",
       "      <th>1</th>\n",
       "      <td>Decision Tree Classifier</td>\n",
       "      <td>train</td>\n",
       "      <td>2</td>\n",
       "      <td>0.998109</td>\n",
       "      <td>1.000000</td>\n",
       "      <td>0.999053</td>\n",
       "      <td>197906</td>\n",
       "    </tr>\n",
       "    <tr>\n",
       "      <th>2</th>\n",
       "      <td>Decision Tree Classifier</td>\n",
       "      <td>train</td>\n",
       "      <td>3</td>\n",
       "      <td>0.991198</td>\n",
       "      <td>0.986854</td>\n",
       "      <td>0.989021</td>\n",
       "      <td>25103</td>\n",
       "    </tr>\n",
       "    <tr>\n",
       "      <th>3</th>\n",
       "      <td>Decision Tree Classifier</td>\n",
       "      <td>train</td>\n",
       "      <td>4</td>\n",
       "      <td>0.968816</td>\n",
       "      <td>0.953694</td>\n",
       "      <td>0.961196</td>\n",
       "      <td>1922</td>\n",
       "    </tr>\n",
       "    <tr>\n",
       "      <th>4</th>\n",
       "      <td>Decision Tree Classifier</td>\n",
       "      <td>train</td>\n",
       "      <td>5</td>\n",
       "      <td>0.998133</td>\n",
       "      <td>0.962641</td>\n",
       "      <td>0.980066</td>\n",
       "      <td>6665</td>\n",
       "    </tr>\n",
       "    <tr>\n",
       "      <th>5</th>\n",
       "      <td>Decision Tree Classifier</td>\n",
       "      <td>train</td>\n",
       "      <td>6</td>\n",
       "      <td>0.981271</td>\n",
       "      <td>0.980623</td>\n",
       "      <td>0.980947</td>\n",
       "      <td>12128</td>\n",
       "    </tr>\n",
       "    <tr>\n",
       "      <th>6</th>\n",
       "      <td>Decision Tree Classifier</td>\n",
       "      <td>train</td>\n",
       "      <td>7</td>\n",
       "      <td>1.000000</td>\n",
       "      <td>0.990457</td>\n",
       "      <td>0.995206</td>\n",
       "      <td>14356</td>\n",
       "    </tr>\n",
       "    <tr>\n",
       "      <th>7</th>\n",
       "      <td>CatBoost Classifier</td>\n",
       "      <td>train</td>\n",
       "      <td>1</td>\n",
       "      <td>0.887013</td>\n",
       "      <td>0.851461</td>\n",
       "      <td>0.868874</td>\n",
       "      <td>148628</td>\n",
       "    </tr>\n",
       "    <tr>\n",
       "      <th>8</th>\n",
       "      <td>CatBoost Classifier</td>\n",
       "      <td>train</td>\n",
       "      <td>2</td>\n",
       "      <td>0.886075</td>\n",
       "      <td>0.904258</td>\n",
       "      <td>0.895074</td>\n",
       "      <td>197906</td>\n",
       "    </tr>\n",
       "    <tr>\n",
       "      <th>9</th>\n",
       "      <td>CatBoost Classifier</td>\n",
       "      <td>train</td>\n",
       "      <td>3</td>\n",
       "      <td>0.870257</td>\n",
       "      <td>0.925587</td>\n",
       "      <td>0.897070</td>\n",
       "      <td>25103</td>\n",
       "    </tr>\n",
       "    <tr>\n",
       "      <th>10</th>\n",
       "      <td>CatBoost Classifier</td>\n",
       "      <td>train</td>\n",
       "      <td>4</td>\n",
       "      <td>0.877615</td>\n",
       "      <td>0.873049</td>\n",
       "      <td>0.875326</td>\n",
       "      <td>1922</td>\n",
       "    </tr>\n",
       "    <tr>\n",
       "      <th>11</th>\n",
       "      <td>CatBoost Classifier</td>\n",
       "      <td>train</td>\n",
       "      <td>5</td>\n",
       "      <td>0.811567</td>\n",
       "      <td>0.726332</td>\n",
       "      <td>0.766587</td>\n",
       "      <td>6665</td>\n",
       "    </tr>\n",
       "    <tr>\n",
       "      <th>12</th>\n",
       "      <td>CatBoost Classifier</td>\n",
       "      <td>train</td>\n",
       "      <td>6</td>\n",
       "      <td>0.814738</td>\n",
       "      <td>0.844162</td>\n",
       "      <td>0.829189</td>\n",
       "      <td>12128</td>\n",
       "    </tr>\n",
       "    <tr>\n",
       "      <th>13</th>\n",
       "      <td>CatBoost Classifier</td>\n",
       "      <td>train</td>\n",
       "      <td>7</td>\n",
       "      <td>0.894494</td>\n",
       "      <td>0.930134</td>\n",
       "      <td>0.911966</td>\n",
       "      <td>14356</td>\n",
       "    </tr>\n",
       "  </tbody>\n",
       "</table>\n",
       "</div>"
      ],
      "text/plain": [
       "                       model   data class  precision    recall  f1-score  \\\n",
       "0   Decision Tree Classifier  train     1   0.999012  1.000000  0.999506   \n",
       "1   Decision Tree Classifier  train     2   0.998109  1.000000  0.999053   \n",
       "2   Decision Tree Classifier  train     3   0.991198  0.986854  0.989021   \n",
       "3   Decision Tree Classifier  train     4   0.968816  0.953694  0.961196   \n",
       "4   Decision Tree Classifier  train     5   0.998133  0.962641  0.980066   \n",
       "5   Decision Tree Classifier  train     6   0.981271  0.980623  0.980947   \n",
       "6   Decision Tree Classifier  train     7   1.000000  0.990457  0.995206   \n",
       "7        CatBoost Classifier  train     1   0.887013  0.851461  0.868874   \n",
       "8        CatBoost Classifier  train     2   0.886075  0.904258  0.895074   \n",
       "9        CatBoost Classifier  train     3   0.870257  0.925587  0.897070   \n",
       "10       CatBoost Classifier  train     4   0.877615  0.873049  0.875326   \n",
       "11       CatBoost Classifier  train     5   0.811567  0.726332  0.766587   \n",
       "12       CatBoost Classifier  train     6   0.814738  0.844162  0.829189   \n",
       "13       CatBoost Classifier  train     7   0.894494  0.930134  0.911966   \n",
       "\n",
       "    support  \n",
       "0    148628  \n",
       "1    197906  \n",
       "2     25103  \n",
       "3      1922  \n",
       "4      6665  \n",
       "5     12128  \n",
       "6     14356  \n",
       "7    148628  \n",
       "8    197906  \n",
       "9     25103  \n",
       "10     1922  \n",
       "11     6665  \n",
       "12    12128  \n",
       "13    14356  "
      ]
     },
     "execution_count": 47,
     "metadata": {},
     "output_type": "execute_result"
    }
   ],
   "source": [
    "df_report_by_class"
   ]
  },
  {
   "cell_type": "code",
   "execution_count": 48,
   "metadata": {
    "jupyter": {
     "outputs_hidden": true
    }
   },
   "outputs": [
    {
     "data": {
      "text/html": [
       "<div>\n",
       "<style scoped>\n",
       "    .dataframe tbody tr th:only-of-type {\n",
       "        vertical-align: middle;\n",
       "    }\n",
       "\n",
       "    .dataframe tbody tr th {\n",
       "        vertical-align: top;\n",
       "    }\n",
       "\n",
       "    .dataframe thead th {\n",
       "        text-align: right;\n",
       "    }\n",
       "</style>\n",
       "<table border=\"1\" class=\"dataframe\">\n",
       "  <thead>\n",
       "    <tr style=\"text-align: right;\">\n",
       "      <th></th>\n",
       "      <th>model</th>\n",
       "      <th>data</th>\n",
       "      <th>accuracy</th>\n",
       "      <th>macro_precision</th>\n",
       "      <th>macro_recall</th>\n",
       "      <th>macro_f1-score</th>\n",
       "      <th>weight_precision</th>\n",
       "      <th>weight_recall</th>\n",
       "      <th>weight_f1-score</th>\n",
       "    </tr>\n",
       "  </thead>\n",
       "  <tbody>\n",
       "    <tr>\n",
       "      <th>0</th>\n",
       "      <td>Decision Tree Classifier</td>\n",
       "      <td>train</td>\n",
       "      <td>0.997443</td>\n",
       "      <td>0.990934</td>\n",
       "      <td>0.982038</td>\n",
       "      <td>0.986428</td>\n",
       "      <td>0.997439</td>\n",
       "      <td>0.997443</td>\n",
       "      <td>0.997434</td>\n",
       "    </tr>\n",
       "    <tr>\n",
       "      <th>1</th>\n",
       "      <td>CatBoost Classifier</td>\n",
       "      <td>train</td>\n",
       "      <td>0.882338</td>\n",
       "      <td>0.863109</td>\n",
       "      <td>0.864997</td>\n",
       "      <td>0.863441</td>\n",
       "      <td>0.882351</td>\n",
       "      <td>0.882338</td>\n",
       "      <td>0.882055</td>\n",
       "    </tr>\n",
       "  </tbody>\n",
       "</table>\n",
       "</div>"
      ],
      "text/plain": [
       "                      model   data  accuracy  macro_precision  macro_recall  \\\n",
       "0  Decision Tree Classifier  train  0.997443         0.990934      0.982038   \n",
       "1       CatBoost Classifier  train  0.882338         0.863109      0.864997   \n",
       "\n",
       "   macro_f1-score  weight_precision  weight_recall  weight_f1-score  \n",
       "0        0.986428          0.997439       0.997443         0.997434  \n",
       "1        0.863441          0.882351       0.882338         0.882055  "
      ]
     },
     "execution_count": 48,
     "metadata": {},
     "output_type": "execute_result"
    }
   ],
   "source": [
    "df_report_summary"
   ]
  },
  {
   "cell_type": "markdown",
   "metadata": {},
   "source": [
    "### investigate results"
   ]
  },
  {
   "cell_type": "code",
   "execution_count": 49,
   "metadata": {
    "jupyter": {
     "outputs_hidden": true
    }
   },
   "outputs": [
    {
     "data": {
      "image/png": "[encoded data removed]",
      "text/plain": [
       "<Figure size 576x396 with 1 Axes>"
      ]
     },
     "metadata": {},
     "output_type": "display_data"
    }
   ],
   "source": [
    "plot_model(models_imbl[0], plot='error')"
   ]
  },
  {
   "cell_type": "code",
   "execution_count": 50,
   "metadata": {
    "jupyter": {
     "outputs_hidden": true
    }
   },
   "outputs": [
    {
     "data": {
      "image/png": "[encoded data removed]",
      "text/plain": [
       "<Figure size 576x396 with 2 Axes>"
      ]
     },
     "metadata": {},
     "output_type": "display_data"
    }
   ],
   "source": [
    "plot_model(models_imbl[0], plot='class_report')"
   ]
  },
  {
   "cell_type": "code",
   "execution_count": 51,
   "metadata": {
    "jupyter": {
     "outputs_hidden": true
    }
   },
   "outputs": [
    {
     "data": {
      "image/png": "[encoded data removed]",
      "text/plain": [
       "<Figure size 576x396 with 1 Axes>"
      ]
     },
     "metadata": {},
     "output_type": "display_data"
    }
   ],
   "source": [
    "plot_model(models_imbl[1], plot='error')"
   ]
  },
  {
   "cell_type": "code",
   "execution_count": 52,
   "metadata": {
    "jupyter": {
     "outputs_hidden": true
    }
   },
   "outputs": [
    {
     "data": {
      "image/png": "[encoded data removed]",
      "text/plain": [
       "<Figure size 576x396 with 2 Axes>"
      ]
     },
     "metadata": {},
     "output_type": "display_data"
    }
   ],
   "source": [
    "plot_model(models_imbl[1], plot='class_report')"
   ]
  },
  {
   "cell_type": "code",
   "execution_count": null,
   "metadata": {
    "jupyter": {
     "outputs_hidden": true
    }
   },
   "outputs": [],
   "source": []
  },
  {
   "cell_type": "markdown",
   "metadata": {
    "jupyter": {
     "outputs_hidden": true
    }
   },
   "source": [
    "# pickle result dataframes\n",
    "### need `protocol=4` to read on local machine (default=5 when run on Paperspace)\n",
    "https://docs.python.org/3/library/pickle.html"
   ]
  },
  {
   "cell_type": "code",
   "execution_count": 53,
   "metadata": {
    "jupyter": {
     "outputs_hidden": true
    }
   },
   "outputs": [],
   "source": [
    "df_pycaret_model_metrics.to_pickle(pycaret_results_dir + 'imblearn_geologic_df_pycaret_model_metrics_2_models.pkl', protocol=4)\n",
    "df_report_by_class.to_pickle(pycaret_results_dir + 'imblearn_geologic_df_report_by_class_2_models.pkl', protocol=4)\n",
    "df_report_summary.to_pickle(pycaret_results_dir + 'imblearn_geologic_df_report_summary_2_models.pkl',   protocol=4)"
   ]
  },
  {
   "cell_type": "code",
   "execution_count": null,
   "metadata": {
    "jupyter": {
     "outputs_hidden": true
    }
   },
   "outputs": [],
   "source": []
  },
  {
   "cell_type": "code",
   "execution_count": null,
   "metadata": {
    "jupyter": {
     "outputs_hidden": true
    }
   },
   "outputs": [],
   "source": []
  },
  {
   "cell_type": "code",
   "execution_count": null,
   "metadata": {
    "jupyter": {
     "outputs_hidden": true
    }
   },
   "outputs": [],
   "source": []
  },
  {
   "cell_type": "code",
   "execution_count": null,
   "metadata": {
    "jupyter": {
     "outputs_hidden": true
    }
   },
   "outputs": [],
   "source": []
  },
  {
   "cell_type": "code",
   "execution_count": null,
   "metadata": {
    "jupyter": {
     "outputs_hidden": true
    }
   },
   "outputs": [],
   "source": []
  },
  {
   "cell_type": "code",
   "execution_count": null,
   "metadata": {
    "jupyter": {
     "outputs_hidden": true
    }
   },
   "outputs": [],
   "source": []
  },
  {
   "cell_type": "markdown",
   "metadata": {},
   "source": [
    "# CONCLUSIONS"
   ]
  },
  {
   "cell_type": "code",
   "execution_count": null,
   "metadata": {
    "jupyter": {
     "outputs_hidden": true
    }
   },
   "outputs": [],
   "source": []
  },
  {
   "cell_type": "code",
   "execution_count": null,
   "metadata": {
    "jupyter": {
     "outputs_hidden": true
    }
   },
   "outputs": [],
   "source": []
  },
  {
   "cell_type": "code",
   "execution_count": null,
   "metadata": {
    "jupyter": {
     "outputs_hidden": true
    }
   },
   "outputs": [],
   "source": []
  },
  {
   "cell_type": "code",
   "execution_count": null,
   "metadata": {
    "jupyter": {
     "outputs_hidden": true
    }
   },
   "outputs": [],
   "source": []
  },
  {
   "cell_type": "code",
   "execution_count": null,
   "metadata": {
    "jupyter": {
     "outputs_hidden": true
    }
   },
   "outputs": [],
   "source": []
  },
  {
   "cell_type": "code",
   "execution_count": null,
   "metadata": {
    "jupyter": {
     "outputs_hidden": true
    }
   },
   "outputs": [],
   "source": []
  },
  {
   "cell_type": "code",
   "execution_count": null,
   "metadata": {
    "jupyter": {
     "outputs_hidden": true
    }
   },
   "outputs": [],
   "source": []
  },
  {
   "cell_type": "code",
   "execution_count": null,
   "metadata": {
    "jupyter": {
     "outputs_hidden": true
    }
   },
   "outputs": [],
   "source": []
  },
  {
   "cell_type": "code",
   "execution_count": null,
   "metadata": {
    "jupyter": {
     "outputs_hidden": true
    }
   },
   "outputs": [],
   "source": []
  },
  {
   "cell_type": "code",
   "execution_count": null,
   "metadata": {
    "jupyter": {
     "outputs_hidden": true
    }
   },
   "outputs": [],
   "source": []
  },
  {
   "cell_type": "code",
   "execution_count": null,
   "metadata": {
    "jupyter": {
     "outputs_hidden": true
    }
   },
   "outputs": [],
   "source": []
  },
  {
   "cell_type": "code",
   "execution_count": null,
   "metadata": {
    "jupyter": {
     "outputs_hidden": true
    }
   },
   "outputs": [],
   "source": []
  }
 ],
 "metadata": {
  "kernelspec": {
   "display_name": "Python 3",
   "language": "python",
   "name": "python3"
  },
  "language_info": {
   "codemirror_mode": {
    "name": "ipython",
    "version": 3
   },
   "file_extension": ".py",
   "mimetype": "text/x-python",
   "name": "python",
   "nbconvert_exporter": "python",
   "pygments_lexer": "ipython3",
   "version": "3.7.8"
  }
 },
 "nbformat": 4,
 "nbformat_minor": 4
}
