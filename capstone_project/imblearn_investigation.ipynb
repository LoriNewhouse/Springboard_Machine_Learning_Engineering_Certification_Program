{
 "cells": [
  {
   "cell_type": "code",
   "execution_count": null,
   "metadata": {},
   "outputs": [],
   "source": []
  },
  {
   "cell_type": "code",
   "execution_count": 1,
   "metadata": {},
   "outputs": [],
   "source": [
    "from IPython.core.interactiveshell import InteractiveShell\n",
    "InteractiveShell.ast_node_interactivity = 'all'"
   ]
  },
  {
   "cell_type": "code",
   "execution_count": 2,
   "metadata": {},
   "outputs": [],
   "source": [
    "import pandas as pd\n",
    "import numpy as np"
   ]
  },
  {
   "cell_type": "code",
   "execution_count": 3,
   "metadata": {},
   "outputs": [],
   "source": [
    "import matplotlib.pyplot as plt\n",
    "import seaborn as sns"
   ]
  },
  {
   "cell_type": "code",
   "execution_count": 4,
   "metadata": {},
   "outputs": [],
   "source": [
    "from pprint import pprint as pp"
   ]
  },
  {
   "cell_type": "code",
   "execution_count": 5,
   "metadata": {},
   "outputs": [],
   "source": [
    "from sklearn.model_selection import train_test_split"
   ]
  },
  {
   "cell_type": "code",
   "execution_count": 6,
   "metadata": {},
   "outputs": [],
   "source": [
    "from collections import Counter\n",
    "from imblearn.over_sampling import SMOTENC\n",
    "from imblearn.combine import SMOTEENN\n",
    "from imblearn.under_sampling import EditedNearestNeighbours"
   ]
  },
  {
   "cell_type": "code",
   "execution_count": null,
   "metadata": {},
   "outputs": [],
   "source": []
  },
  {
   "cell_type": "markdown",
   "metadata": {},
   "source": [
    "# OBJECTIVE\n",
    "- get familiar with `imblearn` to address class imbalance\n",
    "- preliminary work to incorporating `imblearn` in `pycaret` processing pipeline"
   ]
  },
  {
   "cell_type": "markdown",
   "metadata": {},
   "source": [
    "# CONTENTS\n",
    "### preamble\n",
    "### read wrangled data from pickle\n",
    "### function to build feature columns list\n",
    "### function to get target name from target integer value\n",
    "### train-test split\n",
    "### `imbalanced_learn` investigation methods\n",
    "### try with `df_data_to_use`\n",
    "- oversample only\n",
    "- oversample and clean\n",
    "- plot target distributions\n",
    "- plot increase factor   \n",
    "   \n",
    "### try with only small classes"
   ]
  },
  {
   "cell_type": "code",
   "execution_count": null,
   "metadata": {
    "collapsed": true
   },
   "outputs": [],
   "source": []
  },
  {
   "cell_type": "markdown",
   "metadata": {},
   "source": [
    "# preamble\n",
    "### logical to control dataset sizes for modeling\n",
    "##### `True` gives very small train and test set sizes for developing and debugging notebook\n",
    "##### `False` splits entire dataset into train and test"
   ]
  },
  {
   "cell_type": "code",
   "execution_count": 7,
   "metadata": {},
   "outputs": [],
   "source": [
    "use_small_data_set = True\n",
    "#use_small_data_set = False"
   ]
  },
  {
   "cell_type": "markdown",
   "metadata": {},
   "source": [
    "### pickle file name"
   ]
  },
  {
   "cell_type": "code",
   "execution_count": 8,
   "metadata": {},
   "outputs": [],
   "source": [
    "running_on_local_machine = True\n",
    "#running_on_local_machine = False\n",
    "\n",
    "if running_on_local_machine:\n",
    "    pickle_file_name = 'data/wrangled_data_update_soil.pkl'\n",
    "else:\n",
    "    pickle_file_name = '/storage/wrangled_data_update_soil.pkl'"
   ]
  },
  {
   "cell_type": "code",
   "execution_count": null,
   "metadata": {},
   "outputs": [],
   "source": []
  },
  {
   "cell_type": "markdown",
   "metadata": {},
   "source": [
    "# read wrangled data from pickle"
   ]
  },
  {
   "cell_type": "code",
   "execution_count": 9,
   "metadata": {},
   "outputs": [],
   "source": [
    "df_data = pd.read_pickle(pickle_file_name)"
   ]
  },
  {
   "cell_type": "code",
   "execution_count": 10,
   "metadata": {},
   "outputs": [
    {
     "data": {
      "text/plain": [
       "(581012, 71)"
      ]
     },
     "execution_count": 10,
     "metadata": {},
     "output_type": "execute_result"
    },
    {
     "data": {
      "text/plain": [
       "Index(['elevation', 'aspect', 'slope', 'HD_hydrology', 'VD_hydrology',\n",
       "       'HD_roadways', 'hillshade_9am', 'hillshade_noon', 'hillshade_3pm',\n",
       "       'HD_fire_points', 'wild_area_rawah', 'wild_area_neota',\n",
       "       'wild_area_comanche_peak', 'wild_area_cache_la_poudre', 'soil_type_1',\n",
       "       'soil_type_2', 'soil_type_3', 'soil_type_4', 'soil_type_5',\n",
       "       'soil_type_6', 'soil_type_7', 'soil_type_8', 'soil_type_9',\n",
       "       'soil_type_10', 'soil_type_11', 'soil_type_12', 'soil_type_13',\n",
       "       'soil_type_14', 'soil_type_15', 'soil_type_16', 'soil_type_17',\n",
       "       'soil_type_18', 'soil_type_19', 'soil_type_20', 'soil_type_21',\n",
       "       'soil_type_22', 'soil_type_23', 'soil_type_24', 'soil_type_25',\n",
       "       'soil_type_26', 'soil_type_27', 'soil_type_28', 'soil_type_29',\n",
       "       'soil_type_30', 'soil_type_31', 'soil_type_32', 'soil_type_33',\n",
       "       'soil_type_34', 'soil_type_35', 'soil_type_36', 'soil_type_37',\n",
       "       'soil_type_38', 'soil_type_39', 'soil_type_40', 'cover_type',\n",
       "       'wilderness_index', 'wilderness_area', 'soil_index', 'climatic_zone',\n",
       "       'geologic_zone', 'both_zones', 'mms_elevation', 'mms_aspect',\n",
       "       'mms_slope', 'mms_HD_hydrology', 'mms_VD_hydrology', 'mms_HD_roadways',\n",
       "       'mms_hillshade_9am', 'mms_hillshade_noon', 'mms_hillshade_3pm',\n",
       "       'mms_HD_fire_points'],\n",
       "      dtype='object')"
      ]
     },
     "execution_count": 10,
     "metadata": {},
     "output_type": "execute_result"
    },
    {
     "data": {
      "text/html": [
       "<div>\n",
       "<style scoped>\n",
       "    .dataframe tbody tr th:only-of-type {\n",
       "        vertical-align: middle;\n",
       "    }\n",
       "\n",
       "    .dataframe tbody tr th {\n",
       "        vertical-align: top;\n",
       "    }\n",
       "\n",
       "    .dataframe thead th {\n",
       "        text-align: right;\n",
       "    }\n",
       "</style>\n",
       "<table border=\"1\" class=\"dataframe\">\n",
       "  <thead>\n",
       "    <tr style=\"text-align: right;\">\n",
       "      <th></th>\n",
       "      <th>elevation</th>\n",
       "      <th>aspect</th>\n",
       "      <th>slope</th>\n",
       "      <th>HD_hydrology</th>\n",
       "      <th>VD_hydrology</th>\n",
       "      <th>HD_roadways</th>\n",
       "      <th>hillshade_9am</th>\n",
       "      <th>hillshade_noon</th>\n",
       "      <th>hillshade_3pm</th>\n",
       "      <th>HD_fire_points</th>\n",
       "      <th>...</th>\n",
       "      <th>mms_elevation</th>\n",
       "      <th>mms_aspect</th>\n",
       "      <th>mms_slope</th>\n",
       "      <th>mms_HD_hydrology</th>\n",
       "      <th>mms_VD_hydrology</th>\n",
       "      <th>mms_HD_roadways</th>\n",
       "      <th>mms_hillshade_9am</th>\n",
       "      <th>mms_hillshade_noon</th>\n",
       "      <th>mms_hillshade_3pm</th>\n",
       "      <th>mms_HD_fire_points</th>\n",
       "    </tr>\n",
       "  </thead>\n",
       "  <tbody>\n",
       "    <tr>\n",
       "      <th>0</th>\n",
       "      <td>2596</td>\n",
       "      <td>51</td>\n",
       "      <td>3</td>\n",
       "      <td>258</td>\n",
       "      <td>0</td>\n",
       "      <td>510</td>\n",
       "      <td>221</td>\n",
       "      <td>232</td>\n",
       "      <td>148</td>\n",
       "      <td>6279</td>\n",
       "      <td>...</td>\n",
       "      <td>0.368684</td>\n",
       "      <td>0.141667</td>\n",
       "      <td>0.045455</td>\n",
       "      <td>0.184681</td>\n",
       "      <td>0.223514</td>\n",
       "      <td>0.071659</td>\n",
       "      <td>0.870079</td>\n",
       "      <td>0.913386</td>\n",
       "      <td>0.582677</td>\n",
       "      <td>0.875366</td>\n",
       "    </tr>\n",
       "    <tr>\n",
       "      <th>1</th>\n",
       "      <td>2590</td>\n",
       "      <td>56</td>\n",
       "      <td>2</td>\n",
       "      <td>212</td>\n",
       "      <td>-6</td>\n",
       "      <td>390</td>\n",
       "      <td>220</td>\n",
       "      <td>235</td>\n",
       "      <td>151</td>\n",
       "      <td>6225</td>\n",
       "      <td>...</td>\n",
       "      <td>0.365683</td>\n",
       "      <td>0.155556</td>\n",
       "      <td>0.030303</td>\n",
       "      <td>0.151754</td>\n",
       "      <td>0.215762</td>\n",
       "      <td>0.054798</td>\n",
       "      <td>0.866142</td>\n",
       "      <td>0.925197</td>\n",
       "      <td>0.594488</td>\n",
       "      <td>0.867838</td>\n",
       "    </tr>\n",
       "    <tr>\n",
       "      <th>2</th>\n",
       "      <td>2804</td>\n",
       "      <td>139</td>\n",
       "      <td>9</td>\n",
       "      <td>268</td>\n",
       "      <td>65</td>\n",
       "      <td>3180</td>\n",
       "      <td>234</td>\n",
       "      <td>238</td>\n",
       "      <td>135</td>\n",
       "      <td>6121</td>\n",
       "      <td>...</td>\n",
       "      <td>0.472736</td>\n",
       "      <td>0.386111</td>\n",
       "      <td>0.136364</td>\n",
       "      <td>0.191840</td>\n",
       "      <td>0.307494</td>\n",
       "      <td>0.446817</td>\n",
       "      <td>0.921260</td>\n",
       "      <td>0.937008</td>\n",
       "      <td>0.531496</td>\n",
       "      <td>0.853339</td>\n",
       "    </tr>\n",
       "    <tr>\n",
       "      <th>3</th>\n",
       "      <td>2785</td>\n",
       "      <td>155</td>\n",
       "      <td>18</td>\n",
       "      <td>242</td>\n",
       "      <td>118</td>\n",
       "      <td>3090</td>\n",
       "      <td>238</td>\n",
       "      <td>238</td>\n",
       "      <td>122</td>\n",
       "      <td>6211</td>\n",
       "      <td>...</td>\n",
       "      <td>0.463232</td>\n",
       "      <td>0.430556</td>\n",
       "      <td>0.272727</td>\n",
       "      <td>0.173228</td>\n",
       "      <td>0.375969</td>\n",
       "      <td>0.434172</td>\n",
       "      <td>0.937008</td>\n",
       "      <td>0.937008</td>\n",
       "      <td>0.480315</td>\n",
       "      <td>0.865886</td>\n",
       "    </tr>\n",
       "    <tr>\n",
       "      <th>4</th>\n",
       "      <td>2595</td>\n",
       "      <td>45</td>\n",
       "      <td>2</td>\n",
       "      <td>153</td>\n",
       "      <td>-1</td>\n",
       "      <td>391</td>\n",
       "      <td>220</td>\n",
       "      <td>234</td>\n",
       "      <td>150</td>\n",
       "      <td>6172</td>\n",
       "      <td>...</td>\n",
       "      <td>0.368184</td>\n",
       "      <td>0.125000</td>\n",
       "      <td>0.030303</td>\n",
       "      <td>0.109520</td>\n",
       "      <td>0.222222</td>\n",
       "      <td>0.054939</td>\n",
       "      <td>0.866142</td>\n",
       "      <td>0.921260</td>\n",
       "      <td>0.590551</td>\n",
       "      <td>0.860449</td>\n",
       "    </tr>\n",
       "  </tbody>\n",
       "</table>\n",
       "<p>5 rows × 71 columns</p>\n",
       "</div>"
      ],
      "text/plain": [
       "   elevation  aspect  slope  HD_hydrology  VD_hydrology  HD_roadways  \\\n",
       "0       2596      51      3           258             0          510   \n",
       "1       2590      56      2           212            -6          390   \n",
       "2       2804     139      9           268            65         3180   \n",
       "3       2785     155     18           242           118         3090   \n",
       "4       2595      45      2           153            -1          391   \n",
       "\n",
       "   hillshade_9am  hillshade_noon  hillshade_3pm  HD_fire_points  ...  \\\n",
       "0            221             232            148            6279  ...   \n",
       "1            220             235            151            6225  ...   \n",
       "2            234             238            135            6121  ...   \n",
       "3            238             238            122            6211  ...   \n",
       "4            220             234            150            6172  ...   \n",
       "\n",
       "   mms_elevation  mms_aspect  mms_slope  mms_HD_hydrology  mms_VD_hydrology  \\\n",
       "0       0.368684    0.141667   0.045455          0.184681          0.223514   \n",
       "1       0.365683    0.155556   0.030303          0.151754          0.215762   \n",
       "2       0.472736    0.386111   0.136364          0.191840          0.307494   \n",
       "3       0.463232    0.430556   0.272727          0.173228          0.375969   \n",
       "4       0.368184    0.125000   0.030303          0.109520          0.222222   \n",
       "\n",
       "   mms_HD_roadways  mms_hillshade_9am  mms_hillshade_noon  mms_hillshade_3pm  \\\n",
       "0         0.071659           0.870079            0.913386           0.582677   \n",
       "1         0.054798           0.866142            0.925197           0.594488   \n",
       "2         0.446817           0.921260            0.937008           0.531496   \n",
       "3         0.434172           0.937008            0.937008           0.480315   \n",
       "4         0.054939           0.866142            0.921260           0.590551   \n",
       "\n",
       "   mms_HD_fire_points  \n",
       "0            0.875366  \n",
       "1            0.867838  \n",
       "2            0.853339  \n",
       "3            0.865886  \n",
       "4            0.860449  \n",
       "\n",
       "[5 rows x 71 columns]"
      ]
     },
     "execution_count": 10,
     "metadata": {},
     "output_type": "execute_result"
    }
   ],
   "source": [
    "df_data.shape\n",
    "df_data.columns\n",
    "df_data.head()"
   ]
  },
  {
   "cell_type": "markdown",
   "metadata": {},
   "source": [
    "### define lists of column names"
   ]
  },
  {
   "cell_type": "code",
   "execution_count": 11,
   "metadata": {},
   "outputs": [
    {
     "name": "stdout",
     "output_type": "stream",
     "text": [
      "numerical_cols:\n",
      "['elevation',\n",
      " 'aspect',\n",
      " 'slope',\n",
      " 'HD_hydrology',\n",
      " 'VD_hydrology',\n",
      " 'HD_roadways',\n",
      " 'hillshade_9am',\n",
      " 'hillshade_noon',\n",
      " 'hillshade_3pm',\n",
      " 'HD_fire_points']\n",
      "\n",
      "scaled_numerical_cols:\n",
      "['mms_elevation',\n",
      " 'mms_aspect',\n",
      " 'mms_slope',\n",
      " 'mms_HD_hydrology',\n",
      " 'mms_VD_hydrology',\n",
      " 'mms_HD_roadways',\n",
      " 'mms_hillshade_9am',\n",
      " 'mms_hillshade_noon',\n",
      " 'mms_hillshade_3pm',\n",
      " 'mms_HD_fire_points']\n",
      "\n",
      "wild_area_cols:\n",
      "['wild_area_rawah',\n",
      " 'wild_area_neota',\n",
      " 'wild_area_comanche_peak',\n",
      " 'wild_area_cache_la_poudre']\n",
      "\n",
      "soil_type_cols:\n",
      "['soil_type_1',\n",
      " 'soil_type_2',\n",
      " 'soil_type_3',\n",
      " 'soil_type_4',\n",
      " 'soil_type_5',\n",
      " 'soil_type_6',\n",
      " 'soil_type_7',\n",
      " 'soil_type_8',\n",
      " 'soil_type_9',\n",
      " 'soil_type_10',\n",
      " 'soil_type_11',\n",
      " 'soil_type_12',\n",
      " 'soil_type_13',\n",
      " 'soil_type_14',\n",
      " 'soil_type_15',\n",
      " 'soil_type_16',\n",
      " 'soil_type_17',\n",
      " 'soil_type_18',\n",
      " 'soil_type_19',\n",
      " 'soil_type_20',\n",
      " 'soil_type_21',\n",
      " 'soil_type_22',\n",
      " 'soil_type_23',\n",
      " 'soil_type_24',\n",
      " 'soil_type_25',\n",
      " 'soil_type_26',\n",
      " 'soil_type_27',\n",
      " 'soil_type_28',\n",
      " 'soil_type_29',\n",
      " 'soil_type_30',\n",
      " 'soil_type_31',\n",
      " 'soil_type_32',\n",
      " 'soil_type_33',\n",
      " 'soil_type_34',\n",
      " 'soil_type_35',\n",
      " 'soil_type_36',\n",
      " 'soil_type_37',\n",
      " 'soil_type_38',\n",
      " 'soil_type_39',\n",
      " 'soil_type_40']\n",
      "\n",
      "soil_cluster_cols:\n",
      "['climatic_zone', 'geologic_zone', 'both_zones']\n",
      "\n",
      "reverse_one_hot_cols:\n",
      "['wilderness_index', 'wilderness_area', 'soil_index']\n",
      "\n",
      "target_col:\n",
      "['cover_type']\n",
      "\n",
      "target_names:\n",
      "['spruce_fir',\n",
      " 'lodgepole_pine',\n",
      " 'ponderosa_pine',\n",
      " 'cottonwood_willow',\n",
      " 'aspen',\n",
      " 'douglas_fir',\n",
      " 'krummholz']\n"
     ]
    }
   ],
   "source": [
    "column = 'wild_area_'\n",
    "areas = ['rawah', 'neota', 'comanche_peak', 'cache_la_poudre']\n",
    "wild_area_cols = []\n",
    "for i in areas:\n",
    "    wild_area_cols.append(column + i)\n",
    "\n",
    "column = 'soil_type_'\n",
    "soil_type_cols = []\n",
    "for i in range(1,41):\n",
    "    soil_type_cols.append(column + str(i))\n",
    "\n",
    "numerical_cols = ['elevation', 'aspect', 'slope', 'HD_hydrology', 'VD_hydrology', 'HD_roadways',\n",
    "                  'hillshade_9am', 'hillshade_noon', 'hillshade_3pm', 'HD_fire_points']\n",
    "\n",
    "scaled_numerical_cols = []\n",
    "for col in numerical_cols:\n",
    "    scaled_numerical_cols.append('mms_' + col)\n",
    "\n",
    "target_col = ['cover_type']\n",
    "\n",
    "target_names = ['spruce_fir', 'lodgepole_pine', 'ponderosa_pine', 'cottonwood_willow', 'aspen', 'douglas_fir', 'krummholz']\n",
    "\n",
    "reverse_one_hot_cols = ['wilderness_index', 'wilderness_area', 'soil_index']\n",
    "\n",
    "soil_cluster_cols = ['climatic_zone', 'geologic_zone', 'both_zones']\n",
    "\n",
    "print('numerical_cols:')\n",
    "pp(numerical_cols)\n",
    "\n",
    "print('\\nscaled_numerical_cols:')\n",
    "pp(scaled_numerical_cols)\n",
    "\n",
    "print('\\nwild_area_cols:')\n",
    "pp(wild_area_cols)\n",
    "\n",
    "print('\\nsoil_type_cols:')\n",
    "pp(soil_type_cols)\n",
    "\n",
    "print('\\nsoil_cluster_cols:')\n",
    "pp(soil_cluster_cols)\n",
    "\n",
    "print('\\nreverse_one_hot_cols:')\n",
    "pp(reverse_one_hot_cols)\n",
    "\n",
    "print('\\ntarget_col:')\n",
    "pp(target_col)\n",
    "\n",
    "print('\\ntarget_names:')\n",
    "pp(target_names)"
   ]
  },
  {
   "cell_type": "code",
   "execution_count": 12,
   "metadata": {},
   "outputs": [
    {
     "data": {
      "text/plain": [
       "71"
      ]
     },
     "execution_count": 12,
     "metadata": {},
     "output_type": "execute_result"
    }
   ],
   "source": [
    "len(df_data.columns)"
   ]
  },
  {
   "cell_type": "code",
   "execution_count": 13,
   "metadata": {},
   "outputs": [
    {
     "data": {
      "text/plain": [
       "71"
      ]
     },
     "execution_count": 13,
     "metadata": {},
     "output_type": "execute_result"
    }
   ],
   "source": [
    "len(numerical_cols + scaled_numerical_cols + wild_area_cols\n",
    "    + soil_type_cols + reverse_one_hot_cols + target_col + soil_cluster_cols)"
   ]
  },
  {
   "cell_type": "markdown",
   "metadata": {},
   "source": [
    "# function to build feature columns list"
   ]
  },
  {
   "cell_type": "code",
   "execution_count": 14,
   "metadata": {},
   "outputs": [],
   "source": [
    "def make_feature_columns_list(numerical_scaled, wild_area_one_hot, soil_type_one_hot, soil_type_cluster='none'):\n",
    "    feature_cols_list = []\n",
    "    \n",
    "    if numerical_scaled:\n",
    "        feature_cols_list += scaled_numerical_cols\n",
    "    else:\n",
    "        feature_cols_list += numerical_cols\n",
    "    \n",
    "    if wild_area_one_hot:\n",
    "        feature_cols_list += wild_area_cols\n",
    "    else:\n",
    "        feature_cols_list.append(reverse_one_hot_cols[0])\n",
    "    \n",
    "    if soil_type_one_hot:\n",
    "        feature_cols_list += soil_type_cols\n",
    "    elif soil_type_cluster=='none':\n",
    "        feature_cols_list.append(reverse_one_hot_cols[2])\n",
    "    elif soil_type_cluster=='climatic':\n",
    "        feature_cols_list.append(soil_cluster_cols[0])\n",
    "    elif soil_type_cluster=='geologic':\n",
    "        feature_cols_list.append(soil_cluster_cols[1])\n",
    "    elif soil_type_cluster=='both':\n",
    "        feature_cols_list.append(soil_cluster_cols[2])\n",
    "    else:\n",
    "        print('ERROR ERROR ERROR ERROR in selection of soil type columns')\n",
    "    \n",
    "    return feature_cols_list"
   ]
  },
  {
   "cell_type": "code",
   "execution_count": 15,
   "metadata": {},
   "outputs": [
    {
     "name": "stdout",
     "output_type": "stream",
     "text": [
      "['mms_elevation',\n",
      " 'mms_aspect',\n",
      " 'mms_slope',\n",
      " 'mms_HD_hydrology',\n",
      " 'mms_VD_hydrology',\n",
      " 'mms_HD_roadways',\n",
      " 'mms_hillshade_9am',\n",
      " 'mms_hillshade_noon',\n",
      " 'mms_hillshade_3pm',\n",
      " 'mms_HD_fire_points',\n",
      " 'wilderness_index',\n",
      " 'both_zones']\n"
     ]
    }
   ],
   "source": [
    "temp_list = make_feature_columns_list(numerical_scaled=True, wild_area_one_hot=False,\n",
    "                                      soil_type_one_hot=False, soil_type_cluster='both')\n",
    "pp(temp_list)"
   ]
  },
  {
   "cell_type": "markdown",
   "metadata": {},
   "source": [
    "# function to get target name from target integer value"
   ]
  },
  {
   "cell_type": "code",
   "execution_count": 16,
   "metadata": {},
   "outputs": [
    {
     "data": {
      "text/plain": [
       "'lodgepole_pine'"
      ]
     },
     "execution_count": 16,
     "metadata": {},
     "output_type": "execute_result"
    }
   ],
   "source": [
    "get_target_name_from_integer = lambda i : target_names[i-1]\n",
    "get_target_name_from_integer(2)"
   ]
  },
  {
   "cell_type": "markdown",
   "metadata": {},
   "source": [
    "# train-test split"
   ]
  },
  {
   "cell_type": "code",
   "execution_count": 17,
   "metadata": {},
   "outputs": [
    {
     "data": {
      "text/plain": [
       "['mms_elevation',\n",
       " 'mms_aspect',\n",
       " 'mms_slope',\n",
       " 'mms_HD_hydrology',\n",
       " 'mms_VD_hydrology',\n",
       " 'mms_HD_roadways',\n",
       " 'mms_hillshade_9am',\n",
       " 'mms_hillshade_noon',\n",
       " 'mms_hillshade_3pm',\n",
       " 'mms_HD_fire_points',\n",
       " 'wilderness_index',\n",
       " 'soil_index']"
      ]
     },
     "execution_count": 17,
     "metadata": {},
     "output_type": "execute_result"
    }
   ],
   "source": [
    "feature_cols_to_use = make_feature_columns_list(numerical_scaled=True, wild_area_one_hot=False,\n",
    "                                                soil_type_one_hot=False, soil_type_cluster='none')\n",
    "feature_cols_to_use"
   ]
  },
  {
   "cell_type": "code",
   "execution_count": 18,
   "metadata": {},
   "outputs": [],
   "source": [
    "if use_small_data_set:\n",
    "    train_sample_size = 10000\n",
    "    test_sample_size  = 3000\n",
    "\n",
    "    X_train, X_test, y_train, y_test = train_test_split(df_data[feature_cols_to_use], df_data[target_col[0]],\n",
    "                                       train_size=train_sample_size, test_size=test_sample_size, random_state=59)\n",
    "\n",
    "else:\n",
    "    X_train, X_test, y_train, y_test = train_test_split(df_data[feature_cols_to_use], df_data[target_col[0]],\n",
    "                                       train_size=0.7, random_state=59)\n",
    "    "
   ]
  },
  {
   "cell_type": "code",
   "execution_count": 19,
   "metadata": {},
   "outputs": [
    {
     "data": {
      "text/plain": [
       "(10000, 12)"
      ]
     },
     "execution_count": 19,
     "metadata": {},
     "output_type": "execute_result"
    },
    {
     "data": {
      "text/plain": [
       "(3000, 12)"
      ]
     },
     "execution_count": 19,
     "metadata": {},
     "output_type": "execute_result"
    }
   ],
   "source": [
    "X_train.shape\n",
    "X_test.shape"
   ]
  },
  {
   "cell_type": "markdown",
   "metadata": {},
   "source": [
    "### make dataframe with test and train"
   ]
  },
  {
   "cell_type": "code",
   "execution_count": 20,
   "metadata": {},
   "outputs": [
    {
     "data": {
      "text/plain": [
       "(13000, 13)"
      ]
     },
     "execution_count": 20,
     "metadata": {},
     "output_type": "execute_result"
    },
    {
     "data": {
      "text/html": [
       "<div>\n",
       "<style scoped>\n",
       "    .dataframe tbody tr th:only-of-type {\n",
       "        vertical-align: middle;\n",
       "    }\n",
       "\n",
       "    .dataframe tbody tr th {\n",
       "        vertical-align: top;\n",
       "    }\n",
       "\n",
       "    .dataframe thead th {\n",
       "        text-align: right;\n",
       "    }\n",
       "</style>\n",
       "<table border=\"1\" class=\"dataframe\">\n",
       "  <thead>\n",
       "    <tr style=\"text-align: right;\">\n",
       "      <th></th>\n",
       "      <th>mms_elevation</th>\n",
       "      <th>mms_aspect</th>\n",
       "      <th>mms_slope</th>\n",
       "      <th>mms_HD_hydrology</th>\n",
       "      <th>mms_VD_hydrology</th>\n",
       "      <th>mms_HD_roadways</th>\n",
       "      <th>mms_hillshade_9am</th>\n",
       "      <th>mms_hillshade_noon</th>\n",
       "      <th>mms_hillshade_3pm</th>\n",
       "      <th>mms_HD_fire_points</th>\n",
       "      <th>wilderness_index</th>\n",
       "      <th>soil_index</th>\n",
       "      <th>cover_type</th>\n",
       "    </tr>\n",
       "  </thead>\n",
       "  <tbody>\n",
       "    <tr>\n",
       "      <th>61999</th>\n",
       "      <td>0.605803</td>\n",
       "      <td>0.288889</td>\n",
       "      <td>0.242424</td>\n",
       "      <td>0.375089</td>\n",
       "      <td>0.156331</td>\n",
       "      <td>0.574680</td>\n",
       "      <td>0.968504</td>\n",
       "      <td>0.854331</td>\n",
       "      <td>0.374016</td>\n",
       "      <td>0.660533</td>\n",
       "      <td>0</td>\n",
       "      <td>29</td>\n",
       "      <td>2</td>\n",
       "    </tr>\n",
       "    <tr>\n",
       "      <th>235978</th>\n",
       "      <td>0.715858</td>\n",
       "      <td>0.133333</td>\n",
       "      <td>0.181818</td>\n",
       "      <td>0.021475</td>\n",
       "      <td>0.220930</td>\n",
       "      <td>0.307433</td>\n",
       "      <td>0.881890</td>\n",
       "      <td>0.838583</td>\n",
       "      <td>0.472441</td>\n",
       "      <td>0.399136</td>\n",
       "      <td>0</td>\n",
       "      <td>39</td>\n",
       "      <td>7</td>\n",
       "    </tr>\n",
       "    <tr>\n",
       "      <th>532990</th>\n",
       "      <td>0.635318</td>\n",
       "      <td>0.533333</td>\n",
       "      <td>0.227273</td>\n",
       "      <td>0.471725</td>\n",
       "      <td>0.337209</td>\n",
       "      <td>0.080933</td>\n",
       "      <td>0.858268</td>\n",
       "      <td>0.988189</td>\n",
       "      <td>0.641732</td>\n",
       "      <td>0.248432</td>\n",
       "      <td>2</td>\n",
       "      <td>23</td>\n",
       "      <td>2</td>\n",
       "    </tr>\n",
       "    <tr>\n",
       "      <th>471312</th>\n",
       "      <td>0.694347</td>\n",
       "      <td>0.997222</td>\n",
       "      <td>0.227273</td>\n",
       "      <td>0.730136</td>\n",
       "      <td>0.520672</td>\n",
       "      <td>0.294787</td>\n",
       "      <td>0.775591</td>\n",
       "      <td>0.834646</td>\n",
       "      <td>0.594488</td>\n",
       "      <td>0.304475</td>\n",
       "      <td>2</td>\n",
       "      <td>24</td>\n",
       "      <td>7</td>\n",
       "    </tr>\n",
       "    <tr>\n",
       "      <th>254885</th>\n",
       "      <td>0.236118</td>\n",
       "      <td>0.194444</td>\n",
       "      <td>0.363636</td>\n",
       "      <td>0.212598</td>\n",
       "      <td>0.255814</td>\n",
       "      <td>0.130673</td>\n",
       "      <td>0.933071</td>\n",
       "      <td>0.732283</td>\n",
       "      <td>0.263780</td>\n",
       "      <td>0.099819</td>\n",
       "      <td>3</td>\n",
       "      <td>10</td>\n",
       "      <td>3</td>\n",
       "    </tr>\n",
       "  </tbody>\n",
       "</table>\n",
       "</div>"
      ],
      "text/plain": [
       "        mms_elevation  mms_aspect  mms_slope  mms_HD_hydrology  \\\n",
       "61999        0.605803    0.288889   0.242424          0.375089   \n",
       "235978       0.715858    0.133333   0.181818          0.021475   \n",
       "532990       0.635318    0.533333   0.227273          0.471725   \n",
       "471312       0.694347    0.997222   0.227273          0.730136   \n",
       "254885       0.236118    0.194444   0.363636          0.212598   \n",
       "\n",
       "        mms_VD_hydrology  mms_HD_roadways  mms_hillshade_9am  \\\n",
       "61999           0.156331         0.574680           0.968504   \n",
       "235978          0.220930         0.307433           0.881890   \n",
       "532990          0.337209         0.080933           0.858268   \n",
       "471312          0.520672         0.294787           0.775591   \n",
       "254885          0.255814         0.130673           0.933071   \n",
       "\n",
       "        mms_hillshade_noon  mms_hillshade_3pm  mms_HD_fire_points  \\\n",
       "61999             0.854331           0.374016            0.660533   \n",
       "235978            0.838583           0.472441            0.399136   \n",
       "532990            0.988189           0.641732            0.248432   \n",
       "471312            0.834646           0.594488            0.304475   \n",
       "254885            0.732283           0.263780            0.099819   \n",
       "\n",
       "        wilderness_index  soil_index  cover_type  \n",
       "61999                  0          29           2  \n",
       "235978                 0          39           7  \n",
       "532990                 2          23           2  \n",
       "471312                 2          24           7  \n",
       "254885                 3          10           3  "
      ]
     },
     "execution_count": 20,
     "metadata": {},
     "output_type": "execute_result"
    }
   ],
   "source": [
    "df_data_to_use = (pd.concat([X_train, y_train], axis=1)).append(pd.concat([X_test, y_test], axis=1))\n",
    "df_data_to_use.shape\n",
    "df_data_to_use.head()"
   ]
  },
  {
   "cell_type": "markdown",
   "metadata": {},
   "source": [
    "### distribution of target values"
   ]
  },
  {
   "cell_type": "code",
   "execution_count": 21,
   "metadata": {},
   "outputs": [
    {
     "data": {
      "text/html": [
       "<div>\n",
       "<style scoped>\n",
       "    .dataframe tbody tr th:only-of-type {\n",
       "        vertical-align: middle;\n",
       "    }\n",
       "\n",
       "    .dataframe tbody tr th {\n",
       "        vertical-align: top;\n",
       "    }\n",
       "\n",
       "    .dataframe thead th {\n",
       "        text-align: right;\n",
       "    }\n",
       "</style>\n",
       "<table border=\"1\" class=\"dataframe\">\n",
       "  <thead>\n",
       "    <tr style=\"text-align: right;\">\n",
       "      <th></th>\n",
       "      <th>cover_type</th>\n",
       "      <th>original</th>\n",
       "      <th>train</th>\n",
       "      <th>test</th>\n",
       "      <th>target_name</th>\n",
       "    </tr>\n",
       "  </thead>\n",
       "  <tbody>\n",
       "    <tr>\n",
       "      <th>0</th>\n",
       "      <td>2</td>\n",
       "      <td>0.487599</td>\n",
       "      <td>0.4842</td>\n",
       "      <td>0.489667</td>\n",
       "      <td>lodgepole_pine</td>\n",
       "    </tr>\n",
       "    <tr>\n",
       "      <th>1</th>\n",
       "      <td>1</td>\n",
       "      <td>0.364605</td>\n",
       "      <td>0.3656</td>\n",
       "      <td>0.367667</td>\n",
       "      <td>spruce_fir</td>\n",
       "    </tr>\n",
       "    <tr>\n",
       "      <th>2</th>\n",
       "      <td>3</td>\n",
       "      <td>0.061537</td>\n",
       "      <td>0.0629</td>\n",
       "      <td>0.060333</td>\n",
       "      <td>ponderosa_pine</td>\n",
       "    </tr>\n",
       "    <tr>\n",
       "      <th>3</th>\n",
       "      <td>7</td>\n",
       "      <td>0.035300</td>\n",
       "      <td>0.0361</td>\n",
       "      <td>0.031000</td>\n",
       "      <td>krummholz</td>\n",
       "    </tr>\n",
       "    <tr>\n",
       "      <th>4</th>\n",
       "      <td>6</td>\n",
       "      <td>0.029891</td>\n",
       "      <td>0.0308</td>\n",
       "      <td>0.030000</td>\n",
       "      <td>douglas_fir</td>\n",
       "    </tr>\n",
       "    <tr>\n",
       "      <th>5</th>\n",
       "      <td>5</td>\n",
       "      <td>0.016339</td>\n",
       "      <td>0.0159</td>\n",
       "      <td>0.016000</td>\n",
       "      <td>aspen</td>\n",
       "    </tr>\n",
       "    <tr>\n",
       "      <th>6</th>\n",
       "      <td>4</td>\n",
       "      <td>0.004728</td>\n",
       "      <td>0.0045</td>\n",
       "      <td>0.005333</td>\n",
       "      <td>cottonwood_willow</td>\n",
       "    </tr>\n",
       "  </tbody>\n",
       "</table>\n",
       "</div>"
      ],
      "text/plain": [
       "   cover_type  original   train      test        target_name\n",
       "0           2  0.487599  0.4842  0.489667     lodgepole_pine\n",
       "1           1  0.364605  0.3656  0.367667         spruce_fir\n",
       "2           3  0.061537  0.0629  0.060333     ponderosa_pine\n",
       "3           7  0.035300  0.0361  0.031000          krummholz\n",
       "4           6  0.029891  0.0308  0.030000        douglas_fir\n",
       "5           5  0.016339  0.0159  0.016000              aspen\n",
       "6           4  0.004728  0.0045  0.005333  cottonwood_willow"
      ]
     },
     "execution_count": 21,
     "metadata": {},
     "output_type": "execute_result"
    }
   ],
   "source": [
    "target_values = df_data[target_col]\n",
    "target_dist_orig = target_values.value_counts() / len(target_values)\n",
    "#target_dist_orig\n",
    "\n",
    "target_values = pd.DataFrame(y_train)\n",
    "target_dist_train = target_values.value_counts() / len(target_values)\n",
    "#target_dist_train\n",
    "\n",
    "target_values = pd.DataFrame(y_test)\n",
    "target_dist_test = target_values.value_counts() / len(target_values)\n",
    "#target_dist_test\n",
    "\n",
    "df_target_dist = pd.DataFrame(zip(target_dist_orig, target_dist_train, target_dist_test),\n",
    "                              columns=['original', 'train', 'test'],\n",
    "                              index=target_dist_orig.reset_index()[target_col[0]].values)\n",
    "#df_target_dist\n",
    "\n",
    "df_target_dist = df_target_dist.reset_index().rename(columns={'index':target_col[0]})\n",
    "#df_target_dist\n",
    "\n",
    "df_target_dist['target_name'] = df_target_dist[target_col[0]].apply(get_target_name_from_integer)\n",
    "\n",
    "df_target_dist"
   ]
  },
  {
   "cell_type": "code",
   "execution_count": 22,
   "metadata": {},
   "outputs": [
    {
     "data": {
      "image/png": "[encoded data removed]",
      "text/plain": [
       "<Figure size 432x288 with 1 Axes>"
      ]
     },
     "metadata": {
      "needs_background": "light"
     },
     "output_type": "display_data"
    }
   ],
   "source": [
    "for_plot = ['target_name', 'original', 'train', 'test']\n",
    "_ = df_target_dist[for_plot].set_index('target_name').plot.bar();\n",
    "_ = plt.title('target class distribution');\n",
    "_ = plt.xlabel('')\n",
    "_ = plt.ylabel('fraction')"
   ]
  },
  {
   "cell_type": "code",
   "execution_count": null,
   "metadata": {},
   "outputs": [],
   "source": []
  },
  {
   "cell_type": "markdown",
   "metadata": {},
   "source": [
    "# `imbalanced_learn` investigation methods"
   ]
  },
  {
   "cell_type": "markdown",
   "metadata": {},
   "source": [
    "### dictionary for over sample amounts by target value"
   ]
  },
  {
   "cell_type": "code",
   "execution_count": 52,
   "metadata": {
    "collapsed": true
   },
   "outputs": [
    {
     "name": "stdout",
     "output_type": "stream",
     "text": [
      "3 1.5\n",
      "4 2\n",
      "5 3\n"
     ]
    }
   ],
   "source": [
    "temp = {3:1.5, 4:2, 5:3}\n",
    "for target, factor in temp.items():\n",
    "    print(target, factor)"
   ]
  },
  {
   "cell_type": "code",
   "execution_count": 23,
   "metadata": {},
   "outputs": [
    {
     "data": {
      "text/plain": [
       "cover_type\n",
       "2             283301\n",
       "1             211840\n",
       "3              35754\n",
       "7              20510\n",
       "6              17367\n",
       "5               9493\n",
       "4               2747\n",
       "dtype: int64"
      ]
     },
     "execution_count": 23,
     "metadata": {},
     "output_type": "execute_result"
    },
    {
     "data": {
      "text/plain": [
       "2747"
      ]
     },
     "execution_count": 23,
     "metadata": {},
     "output_type": "execute_result"
    }
   ],
   "source": [
    "target_counts = df_data[target_col].value_counts()\n",
    "target_counts\n",
    "target_counts.loc[4].values[0]"
   ]
  },
  {
   "cell_type": "code",
   "execution_count": 24,
   "metadata": {},
   "outputs": [],
   "source": [
    "def create_dict_target_count(orig_counts, factors_count):\n",
    "    dict_target_count = {}\n",
    "    for index in range(len(factors_count)):\n",
    "        dict_target_count[index+1] = int(orig_counts.loc[index+1].values[0] * factors_count[index])\n",
    "    \n",
    "    list_classes_clean = []\n",
    "    for index in range(len(factors_count)):\n",
    "        if factors_count[index] != 1:\n",
    "            list_classes_clean.append(index+1)\n",
    "    \n",
    "    return dict_target_count, list_classes_clean"
   ]
  },
  {
   "cell_type": "code",
   "execution_count": 25,
   "metadata": {},
   "outputs": [
    {
     "data": {
      "text/plain": [
       "({1: 211840, 2: 566602, 3: 107262, 4: 10988, 5: 47465, 6: 104202, 7: 143570},\n",
       " [2, 3, 4, 5, 6, 7])"
      ]
     },
     "execution_count": 25,
     "metadata": {},
     "output_type": "execute_result"
    }
   ],
   "source": [
    "target_factors = [1, 2, 3, 4, 5, 6, 7]\n",
    "create_dict_target_count(target_counts, target_factors)"
   ]
  },
  {
   "cell_type": "markdown",
   "metadata": {},
   "source": [
    "### method to perform oversampling and cleaning"
   ]
  },
  {
   "cell_type": "code",
   "execution_count": 26,
   "metadata": {},
   "outputs": [
    {
     "data": {
      "text/plain": [
       "['mms_elevation',\n",
       " 'mms_aspect',\n",
       " 'mms_slope',\n",
       " 'mms_HD_hydrology',\n",
       " 'mms_VD_hydrology',\n",
       " 'mms_HD_roadways',\n",
       " 'mms_hillshade_9am',\n",
       " 'mms_hillshade_noon',\n",
       " 'mms_hillshade_3pm',\n",
       " 'mms_HD_fire_points',\n",
       " 'wilderness_index',\n",
       " 'soil_index']"
      ]
     },
     "execution_count": 26,
     "metadata": {},
     "output_type": "execute_result"
    },
    {
     "data": {
      "text/plain": [
       "12"
      ]
     },
     "execution_count": 26,
     "metadata": {},
     "output_type": "execute_result"
    },
    {
     "data": {
      "text/plain": [
       "[10, 11]"
      ]
     },
     "execution_count": 26,
     "metadata": {},
     "output_type": "execute_result"
    },
    {
     "data": {
      "text/plain": [
       "['cover_type']"
      ]
     },
     "execution_count": 26,
     "metadata": {},
     "output_type": "execute_result"
    }
   ],
   "source": [
    "feature_cols_imbl = feature_cols_to_use\n",
    "\n",
    "feature_cols_imbl\n",
    "num_features = len(feature_cols_imbl)\n",
    "num_features\n",
    "\n",
    "cat_cols_imbl = [num_features-2, num_features-1]\n",
    "cat_cols_imbl\n",
    "\n",
    "target_col"
   ]
  },
  {
   "cell_type": "code",
   "execution_count": 61,
   "metadata": {
    "collapsed": true
   },
   "outputs": [],
   "source": [
    "def over_sample_to_specified_counts(df_data_input, dict_target_counts, do_cleaning=False,\n",
    "                                    ENN_neighbors=3, ENN_kind='all', ENN_sampling='all'):\n",
    "    \n",
    "    smote_nc = SMOTENC(categorical_features=cat_cols_imbl, random_state=59,\n",
    "                       sampling_strategy=dict_target_counts)\n",
    "    \n",
    "    if do_cleaning:\n",
    "        the_enn   = EditedNearestNeighbours(sampling_strategy=ENN_sampling,\n",
    "                                            n_neighbors=ENN_neighbors, kind_sel=ENN_kind)\n",
    "        the_smote = SMOTEENN(random_state=59, smote=smote_nc, enn=the_enn)\n",
    "\n",
    "    else:\n",
    "        the_smote = smote_nc\n",
    "    \n",
    "    X_smote, y_smote = the_smote.fit_resample(df_data_input[feature_cols_imbl], df_data_input[target_col])\n",
    "    \n",
    "    #print(type(X_smote), X_smote.shape)\n",
    "    #print(type(y_smote), y_smote.shape)\n",
    "    \n",
    "    df_smote_nc = pd.concat([X_smote, y_smote], axis=1)\n",
    "    \n",
    "    dict_smote_count = Counter(df_smote_nc['cover_type'])\n",
    "    #print('SMOTE result:')\n",
    "    #print(new_counts)\n",
    "    \n",
    "    sum_target_counts = 0\n",
    "    for count in dict_target_counts.values():\n",
    "        sum_target_counts += count\n",
    "    \n",
    "    f1 = lambda a, b: (a-b)/a\n",
    "    dict_cleaned = {}\n",
    "    #for index in range(len(dict_target_counts)):\n",
    "    #    dict_cleaned[index+1] = f1(dict_target_counts[index+1], dict_smote_count[index+1])\n",
    "    for target in dict_target_counts:\n",
    "        dict_cleaned[target] = f1(dict_target_counts[target], dict_smote_count[target])\n",
    "    \n",
    "    \n",
    "    \n",
    "    \n",
    "    print('number samples:')\n",
    "    print('   total specified target counts = ', sum_target_counts)\n",
    "    print('   SMOTE result = ', X_smote.shape[0])\n",
    "    print('   fraction cleaned total = ', f1(sum_target_counts, X_smote.shape[0]))\n",
    "    print('   fraction cleaned by target = \\n   ', dict_cleaned)\n",
    "        \n",
    "    #df_smote_nc = pd.concat([X_smote, y_smote], axis=1)\n",
    "    return df_smote_nc"
   ]
  },
  {
   "cell_type": "code",
   "execution_count": null,
   "metadata": {},
   "outputs": [],
   "source": []
  },
  {
   "cell_type": "markdown",
   "metadata": {},
   "source": [
    "# try with `df_data_to_use`"
   ]
  },
  {
   "cell_type": "markdown",
   "metadata": {},
   "source": [
    "### oversample only"
   ]
  },
  {
   "cell_type": "code",
   "execution_count": 36,
   "metadata": {
    "collapsed": true
   },
   "outputs": [
    {
     "data": {
      "text/plain": [
       "{1: 4759, 2: 6311, 3: 2430, 4: 183, 5: 621, 6: 1194, 7: 1362}"
      ]
     },
     "execution_count": 36,
     "metadata": {},
     "output_type": "execute_result"
    },
    {
     "data": {
      "text/plain": [
       "[3, 4, 5, 6, 7]"
      ]
     },
     "execution_count": 36,
     "metadata": {},
     "output_type": "execute_result"
    }
   ],
   "source": [
    "target_counts_orig = df_data_to_use[target_col].value_counts()\n",
    "target_factors = [1, 1, 3, 3, 3, 3, 3]\n",
    "dict_target_count, list_classes_clean = create_dict_target_count(target_counts_orig, target_factors)\n",
    "dict_target_count\n",
    "list_classes_clean"
   ]
  },
  {
   "cell_type": "code",
   "execution_count": 37,
   "metadata": {},
   "outputs": [
    {
     "name": "stdout",
     "output_type": "stream",
     "text": [
      "number samples:\n",
      "   total specified target counts =  16860\n",
      "   SMOTE result =  16860\n",
      "   fraction cleaned total =  0.0\n",
      "   fraction cleaned by target = \n",
      "    {1: 0.0, 2: 0.0, 3: 0.0, 4: 0.0, 5: 0.0, 6: 0.0, 7: 0.0}\n"
     ]
    }
   ],
   "source": [
    "df_os_no_clean = over_sample_to_specified_counts(df_data_to_use, dict_target_count)"
   ]
  },
  {
   "cell_type": "code",
   "execution_count": 38,
   "metadata": {},
   "outputs": [
    {
     "data": {
      "text/html": [
       "<div>\n",
       "<style scoped>\n",
       "    .dataframe tbody tr th:only-of-type {\n",
       "        vertical-align: middle;\n",
       "    }\n",
       "\n",
       "    .dataframe tbody tr th {\n",
       "        vertical-align: top;\n",
       "    }\n",
       "\n",
       "    .dataframe thead th {\n",
       "        text-align: right;\n",
       "    }\n",
       "</style>\n",
       "<table border=\"1\" class=\"dataframe\">\n",
       "  <thead>\n",
       "    <tr style=\"text-align: right;\">\n",
       "      <th></th>\n",
       "      <th>mms_elevation</th>\n",
       "      <th>mms_aspect</th>\n",
       "      <th>mms_slope</th>\n",
       "      <th>mms_HD_hydrology</th>\n",
       "      <th>mms_VD_hydrology</th>\n",
       "      <th>mms_HD_roadways</th>\n",
       "      <th>mms_hillshade_9am</th>\n",
       "      <th>mms_hillshade_noon</th>\n",
       "      <th>mms_hillshade_3pm</th>\n",
       "      <th>mms_HD_fire_points</th>\n",
       "      <th>wilderness_index</th>\n",
       "      <th>soil_index</th>\n",
       "      <th>cover_type</th>\n",
       "    </tr>\n",
       "  </thead>\n",
       "  <tbody>\n",
       "    <tr>\n",
       "      <th>0</th>\n",
       "      <td>0.605803</td>\n",
       "      <td>0.288889</td>\n",
       "      <td>0.242424</td>\n",
       "      <td>0.375089</td>\n",
       "      <td>0.156331</td>\n",
       "      <td>0.574680</td>\n",
       "      <td>0.968504</td>\n",
       "      <td>0.854331</td>\n",
       "      <td>0.374016</td>\n",
       "      <td>0.660533</td>\n",
       "      <td>0</td>\n",
       "      <td>29</td>\n",
       "      <td>2</td>\n",
       "    </tr>\n",
       "    <tr>\n",
       "      <th>1</th>\n",
       "      <td>0.715858</td>\n",
       "      <td>0.133333</td>\n",
       "      <td>0.181818</td>\n",
       "      <td>0.021475</td>\n",
       "      <td>0.220930</td>\n",
       "      <td>0.307433</td>\n",
       "      <td>0.881890</td>\n",
       "      <td>0.838583</td>\n",
       "      <td>0.472441</td>\n",
       "      <td>0.399136</td>\n",
       "      <td>0</td>\n",
       "      <td>39</td>\n",
       "      <td>7</td>\n",
       "    </tr>\n",
       "    <tr>\n",
       "      <th>2</th>\n",
       "      <td>0.635318</td>\n",
       "      <td>0.533333</td>\n",
       "      <td>0.227273</td>\n",
       "      <td>0.471725</td>\n",
       "      <td>0.337209</td>\n",
       "      <td>0.080933</td>\n",
       "      <td>0.858268</td>\n",
       "      <td>0.988189</td>\n",
       "      <td>0.641732</td>\n",
       "      <td>0.248432</td>\n",
       "      <td>2</td>\n",
       "      <td>23</td>\n",
       "      <td>2</td>\n",
       "    </tr>\n",
       "    <tr>\n",
       "      <th>3</th>\n",
       "      <td>0.694347</td>\n",
       "      <td>0.997222</td>\n",
       "      <td>0.227273</td>\n",
       "      <td>0.730136</td>\n",
       "      <td>0.520672</td>\n",
       "      <td>0.294787</td>\n",
       "      <td>0.775591</td>\n",
       "      <td>0.834646</td>\n",
       "      <td>0.594488</td>\n",
       "      <td>0.304475</td>\n",
       "      <td>2</td>\n",
       "      <td>24</td>\n",
       "      <td>7</td>\n",
       "    </tr>\n",
       "    <tr>\n",
       "      <th>4</th>\n",
       "      <td>0.236118</td>\n",
       "      <td>0.194444</td>\n",
       "      <td>0.363636</td>\n",
       "      <td>0.212598</td>\n",
       "      <td>0.255814</td>\n",
       "      <td>0.130673</td>\n",
       "      <td>0.933071</td>\n",
       "      <td>0.732283</td>\n",
       "      <td>0.263780</td>\n",
       "      <td>0.099819</td>\n",
       "      <td>3</td>\n",
       "      <td>10</td>\n",
       "      <td>3</td>\n",
       "    </tr>\n",
       "  </tbody>\n",
       "</table>\n",
       "</div>"
      ],
      "text/plain": [
       "   mms_elevation  mms_aspect  mms_slope  mms_HD_hydrology  mms_VD_hydrology  \\\n",
       "0       0.605803    0.288889   0.242424          0.375089          0.156331   \n",
       "1       0.715858    0.133333   0.181818          0.021475          0.220930   \n",
       "2       0.635318    0.533333   0.227273          0.471725          0.337209   \n",
       "3       0.694347    0.997222   0.227273          0.730136          0.520672   \n",
       "4       0.236118    0.194444   0.363636          0.212598          0.255814   \n",
       "\n",
       "   mms_HD_roadways  mms_hillshade_9am  mms_hillshade_noon  mms_hillshade_3pm  \\\n",
       "0         0.574680           0.968504            0.854331           0.374016   \n",
       "1         0.307433           0.881890            0.838583           0.472441   \n",
       "2         0.080933           0.858268            0.988189           0.641732   \n",
       "3         0.294787           0.775591            0.834646           0.594488   \n",
       "4         0.130673           0.933071            0.732283           0.263780   \n",
       "\n",
       "   mms_HD_fire_points  wilderness_index  soil_index  cover_type  \n",
       "0            0.660533                 0          29           2  \n",
       "1            0.399136                 0          39           7  \n",
       "2            0.248432                 2          23           2  \n",
       "3            0.304475                 2          24           7  \n",
       "4            0.099819                 3          10           3  "
      ]
     },
     "execution_count": 38,
     "metadata": {},
     "output_type": "execute_result"
    }
   ],
   "source": [
    "df_os_no_clean.head()"
   ]
  },
  {
   "cell_type": "code",
   "execution_count": null,
   "metadata": {
    "collapsed": true
   },
   "outputs": [],
   "source": []
  },
  {
   "cell_type": "markdown",
   "metadata": {},
   "source": [
    "### oversample and clean"
   ]
  },
  {
   "cell_type": "code",
   "execution_count": 39,
   "metadata": {},
   "outputs": [
    {
     "data": {
      "text/plain": [
       "({1: 4759, 2: 6311, 3: 2592, 4: 207, 5: 703, 6: 1353, 7: 1452},\n",
       " [3, 4, 5, 6, 7])"
      ]
     },
     "execution_count": 39,
     "metadata": {},
     "output_type": "execute_result"
    }
   ],
   "source": [
    "target_counts_orig = df_data_to_use[target_col].value_counts()\n",
    "target_factors = [1, 1, 3.2, 3.4, 3.4, 3.4, 3.2]\n",
    "dict_target_count, list_classes_clean = create_dict_target_count(target_counts_orig, target_factors)\n",
    "dict_target_count, list_classes_clean"
   ]
  },
  {
   "cell_type": "code",
   "execution_count": 40,
   "metadata": {},
   "outputs": [
    {
     "name": "stdout",
     "output_type": "stream",
     "text": [
      "number samples:\n",
      "   total specified target counts =  17377\n",
      "   SMOTE result =  16842\n",
      "   fraction cleaned total =  0.030787822984404672\n",
      "   fraction cleaned by target = \n",
      "    {1: 0.0, 2: 0.0, 3: 0.06867283950617284, 4: 0.13526570048309178, 5: 0.14935988620199148, 6: 0.09682187730968218, 7: 0.0640495867768595}\n"
     ]
    }
   ],
   "source": [
    "df_os_clean = over_sample_to_specified_counts(df_data_to_use, dict_target_count, True,\n",
    "                                              ENN_neighbors=3, ENN_kind='mode', ENN_sampling=list_classes_clean)"
   ]
  },
  {
   "cell_type": "code",
   "execution_count": null,
   "metadata": {
    "collapsed": true
   },
   "outputs": [],
   "source": []
  },
  {
   "cell_type": "markdown",
   "metadata": {},
   "source": [
    "### plot target distributions"
   ]
  },
  {
   "cell_type": "code",
   "execution_count": 41,
   "metadata": {},
   "outputs": [
    {
     "data": {
      "text/html": [
       "<div>\n",
       "<style scoped>\n",
       "    .dataframe tbody tr th:only-of-type {\n",
       "        vertical-align: middle;\n",
       "    }\n",
       "\n",
       "    .dataframe tbody tr th {\n",
       "        vertical-align: top;\n",
       "    }\n",
       "\n",
       "    .dataframe thead th {\n",
       "        text-align: right;\n",
       "    }\n",
       "</style>\n",
       "<table border=\"1\" class=\"dataframe\">\n",
       "  <thead>\n",
       "    <tr style=\"text-align: right;\">\n",
       "      <th></th>\n",
       "      <th>cover_type</th>\n",
       "      <th>original</th>\n",
       "      <th>train</th>\n",
       "      <th>test</th>\n",
       "      <th>target_name</th>\n",
       "      <th>os_no_clean</th>\n",
       "      <th>os_clean</th>\n",
       "    </tr>\n",
       "  </thead>\n",
       "  <tbody>\n",
       "    <tr>\n",
       "      <th>0</th>\n",
       "      <td>2</td>\n",
       "      <td>0.487599</td>\n",
       "      <td>0.4842</td>\n",
       "      <td>0.489667</td>\n",
       "      <td>lodgepole_pine</td>\n",
       "      <td>0.374318</td>\n",
       "      <td>0.374718</td>\n",
       "    </tr>\n",
       "    <tr>\n",
       "      <th>1</th>\n",
       "      <td>1</td>\n",
       "      <td>0.364605</td>\n",
       "      <td>0.3656</td>\n",
       "      <td>0.367667</td>\n",
       "      <td>spruce_fir</td>\n",
       "      <td>0.282266</td>\n",
       "      <td>0.282567</td>\n",
       "    </tr>\n",
       "    <tr>\n",
       "      <th>2</th>\n",
       "      <td>3</td>\n",
       "      <td>0.061537</td>\n",
       "      <td>0.0629</td>\n",
       "      <td>0.060333</td>\n",
       "      <td>ponderosa_pine</td>\n",
       "      <td>0.144128</td>\n",
       "      <td>0.143332</td>\n",
       "    </tr>\n",
       "    <tr>\n",
       "      <th>3</th>\n",
       "      <td>7</td>\n",
       "      <td>0.035300</td>\n",
       "      <td>0.0361</td>\n",
       "      <td>0.031000</td>\n",
       "      <td>krummholz</td>\n",
       "      <td>0.080783</td>\n",
       "      <td>0.080691</td>\n",
       "    </tr>\n",
       "    <tr>\n",
       "      <th>4</th>\n",
       "      <td>6</td>\n",
       "      <td>0.029891</td>\n",
       "      <td>0.0308</td>\n",
       "      <td>0.030000</td>\n",
       "      <td>douglas_fir</td>\n",
       "      <td>0.070819</td>\n",
       "      <td>0.072557</td>\n",
       "    </tr>\n",
       "    <tr>\n",
       "      <th>5</th>\n",
       "      <td>5</td>\n",
       "      <td>0.016339</td>\n",
       "      <td>0.0159</td>\n",
       "      <td>0.016000</td>\n",
       "      <td>aspen</td>\n",
       "      <td>0.036833</td>\n",
       "      <td>0.035506</td>\n",
       "    </tr>\n",
       "    <tr>\n",
       "      <th>6</th>\n",
       "      <td>4</td>\n",
       "      <td>0.004728</td>\n",
       "      <td>0.0045</td>\n",
       "      <td>0.005333</td>\n",
       "      <td>cottonwood_willow</td>\n",
       "      <td>0.010854</td>\n",
       "      <td>0.010628</td>\n",
       "    </tr>\n",
       "  </tbody>\n",
       "</table>\n",
       "</div>"
      ],
      "text/plain": [
       "   cover_type  original   train      test        target_name  os_no_clean  \\\n",
       "0           2  0.487599  0.4842  0.489667     lodgepole_pine     0.374318   \n",
       "1           1  0.364605  0.3656  0.367667         spruce_fir     0.282266   \n",
       "2           3  0.061537  0.0629  0.060333     ponderosa_pine     0.144128   \n",
       "3           7  0.035300  0.0361  0.031000          krummholz     0.080783   \n",
       "4           6  0.029891  0.0308  0.030000        douglas_fir     0.070819   \n",
       "5           5  0.016339  0.0159  0.016000              aspen     0.036833   \n",
       "6           4  0.004728  0.0045  0.005333  cottonwood_willow     0.010854   \n",
       "\n",
       "   os_clean  \n",
       "0  0.374718  \n",
       "1  0.282567  \n",
       "2  0.143332  \n",
       "3  0.080691  \n",
       "4  0.072557  \n",
       "5  0.035506  \n",
       "6  0.010628  "
      ]
     },
     "execution_count": 41,
     "metadata": {},
     "output_type": "execute_result"
    },
    {
     "data": {
      "image/png": "[encoded data removed]",
      "text/plain": [
       "<Figure size 432x288 with 1 Axes>"
      ]
     },
     "metadata": {
      "needs_background": "light"
     },
     "output_type": "display_data"
    }
   ],
   "source": [
    "temp_series = df_os_no_clean[target_col].value_counts() / df_os_no_clean.shape[0]\n",
    "target_dist_os_no_clean = pd.DataFrame(temp_series, columns=['os_no_clean']).reset_index()\n",
    "\n",
    "temp_series = df_os_clean[target_col].value_counts() / df_os_clean.shape[0]\n",
    "target_dist_os_clean = pd.DataFrame(temp_series, columns=['os_clean']).reset_index()\n",
    "\n",
    "df_target_dist_imbl = pd.merge(df_target_dist, target_dist_os_no_clean,\n",
    "                               how='left', left_on='cover_type', right_on='cover_type')\n",
    "\n",
    "df_target_dist_imbl = pd.merge(df_target_dist_imbl, target_dist_os_clean,\n",
    "                               how='left', left_on='cover_type', right_on='cover_type')\n",
    "\n",
    "df_target_dist_imbl\n",
    "\n",
    "for_plot = ['target_name', 'original', 'os_no_clean', 'os_clean']\n",
    "_ = df_target_dist_imbl[for_plot].set_index('target_name').plot.bar();\n",
    "_ = plt.title('target class distribution');\n",
    "_ = plt.xlabel('')\n",
    "_ = plt.ylabel('fraction')"
   ]
  },
  {
   "cell_type": "code",
   "execution_count": null,
   "metadata": {
    "collapsed": true
   },
   "outputs": [],
   "source": []
  },
  {
   "cell_type": "markdown",
   "metadata": {},
   "source": [
    "### plot increase factor"
   ]
  },
  {
   "cell_type": "code",
   "execution_count": 42,
   "metadata": {},
   "outputs": [
    {
     "data": {
      "text/html": [
       "<div>\n",
       "<style scoped>\n",
       "    .dataframe tbody tr th:only-of-type {\n",
       "        vertical-align: middle;\n",
       "    }\n",
       "\n",
       "    .dataframe tbody tr th {\n",
       "        vertical-align: top;\n",
       "    }\n",
       "\n",
       "    .dataframe thead th {\n",
       "        text-align: right;\n",
       "    }\n",
       "</style>\n",
       "<table border=\"1\" class=\"dataframe\">\n",
       "  <thead>\n",
       "    <tr style=\"text-align: right;\">\n",
       "      <th></th>\n",
       "      <th>cover_type</th>\n",
       "      <th>original</th>\n",
       "      <th>os_no_clean</th>\n",
       "      <th>os_clean</th>\n",
       "      <th>ratio_os</th>\n",
       "      <th>ratio_os_clean</th>\n",
       "      <th>target_name</th>\n",
       "    </tr>\n",
       "  </thead>\n",
       "  <tbody>\n",
       "    <tr>\n",
       "      <th>0</th>\n",
       "      <td>2</td>\n",
       "      <td>6311</td>\n",
       "      <td>6311</td>\n",
       "      <td>6311</td>\n",
       "      <td>1.0</td>\n",
       "      <td>1.000000</td>\n",
       "      <td>lodgepole_pine</td>\n",
       "    </tr>\n",
       "    <tr>\n",
       "      <th>1</th>\n",
       "      <td>1</td>\n",
       "      <td>4759</td>\n",
       "      <td>4759</td>\n",
       "      <td>4759</td>\n",
       "      <td>1.0</td>\n",
       "      <td>1.000000</td>\n",
       "      <td>spruce_fir</td>\n",
       "    </tr>\n",
       "    <tr>\n",
       "      <th>2</th>\n",
       "      <td>3</td>\n",
       "      <td>810</td>\n",
       "      <td>2430</td>\n",
       "      <td>2414</td>\n",
       "      <td>3.0</td>\n",
       "      <td>2.980247</td>\n",
       "      <td>ponderosa_pine</td>\n",
       "    </tr>\n",
       "    <tr>\n",
       "      <th>3</th>\n",
       "      <td>7</td>\n",
       "      <td>454</td>\n",
       "      <td>1362</td>\n",
       "      <td>1359</td>\n",
       "      <td>3.0</td>\n",
       "      <td>2.993392</td>\n",
       "      <td>krummholz</td>\n",
       "    </tr>\n",
       "    <tr>\n",
       "      <th>4</th>\n",
       "      <td>6</td>\n",
       "      <td>398</td>\n",
       "      <td>1194</td>\n",
       "      <td>1222</td>\n",
       "      <td>3.0</td>\n",
       "      <td>3.070352</td>\n",
       "      <td>douglas_fir</td>\n",
       "    </tr>\n",
       "    <tr>\n",
       "      <th>5</th>\n",
       "      <td>5</td>\n",
       "      <td>207</td>\n",
       "      <td>621</td>\n",
       "      <td>598</td>\n",
       "      <td>3.0</td>\n",
       "      <td>2.888889</td>\n",
       "      <td>aspen</td>\n",
       "    </tr>\n",
       "    <tr>\n",
       "      <th>6</th>\n",
       "      <td>4</td>\n",
       "      <td>61</td>\n",
       "      <td>183</td>\n",
       "      <td>179</td>\n",
       "      <td>3.0</td>\n",
       "      <td>2.934426</td>\n",
       "      <td>cottonwood_willow</td>\n",
       "    </tr>\n",
       "  </tbody>\n",
       "</table>\n",
       "</div>"
      ],
      "text/plain": [
       "   cover_type  original  os_no_clean  os_clean  ratio_os  ratio_os_clean  \\\n",
       "0           2      6311         6311      6311       1.0        1.000000   \n",
       "1           1      4759         4759      4759       1.0        1.000000   \n",
       "2           3       810         2430      2414       3.0        2.980247   \n",
       "3           7       454         1362      1359       3.0        2.993392   \n",
       "4           6       398         1194      1222       3.0        3.070352   \n",
       "5           5       207          621       598       3.0        2.888889   \n",
       "6           4        61          183       179       3.0        2.934426   \n",
       "\n",
       "         target_name  \n",
       "0     lodgepole_pine  \n",
       "1         spruce_fir  \n",
       "2     ponderosa_pine  \n",
       "3          krummholz  \n",
       "4        douglas_fir  \n",
       "5              aspen  \n",
       "6  cottonwood_willow  "
      ]
     },
     "execution_count": 42,
     "metadata": {},
     "output_type": "execute_result"
    },
    {
     "data": {
      "image/png": "[encoded data removed]",
      "text/plain": [
       "<Figure size 432x288 with 1 Axes>"
      ]
     },
     "metadata": {
      "needs_background": "light"
     },
     "output_type": "display_data"
    }
   ],
   "source": [
    "temp_series = df_data_to_use[target_col].value_counts()\n",
    "target_count_original = pd.DataFrame(temp_series, columns=['original']).reset_index()\n",
    "\n",
    "temp_series = df_os_no_clean[target_col].value_counts()\n",
    "target_count_os_no_clean = pd.DataFrame(temp_series, columns=['os_no_clean']).reset_index()\n",
    "\n",
    "temp_series = df_os_clean[target_col].value_counts()\n",
    "target_count_os_clean = pd.DataFrame(temp_series, columns=['os_clean']).reset_index()\n",
    "\n",
    "df_target_count_imbl = pd.merge(target_count_original, target_count_os_no_clean,\n",
    "                               how='left', left_on='cover_type', right_on='cover_type')\n",
    "\n",
    "df_target_count_imbl = pd.merge(df_target_count_imbl, target_count_os_clean,\n",
    "                               how='left', left_on='cover_type', right_on='cover_type')\n",
    "\n",
    "df_target_count_imbl['ratio_os'] = df_target_count_imbl['os_no_clean'] / df_target_count_imbl['original']\n",
    "df_target_count_imbl['ratio_os_clean'] = df_target_count_imbl['os_clean'] / df_target_count_imbl['original']\n",
    "\n",
    "df_target_count_imbl['target_name'] = df_target_count_imbl[target_col[0]].apply(get_target_name_from_integer)\n",
    "\n",
    "df_target_count_imbl\n",
    "\n",
    "for_plot = ['target_name', 'ratio_os', 'ratio_os_clean']\n",
    "_ = df_target_count_imbl[for_plot].set_index('target_name').plot.bar();\n",
    "_ = plt.title('target class increase');\n",
    "_ = plt.xlabel('')\n",
    "_ = plt.ylabel('factor')\n",
    "_ = plt.ylim(bottom=2.8, top=3.1)"
   ]
  },
  {
   "cell_type": "code",
   "execution_count": null,
   "metadata": {
    "collapsed": true
   },
   "outputs": [],
   "source": []
  },
  {
   "cell_type": "markdown",
   "metadata": {},
   "source": [
    "# try with only small classes"
   ]
  },
  {
   "cell_type": "code",
   "execution_count": 54,
   "metadata": {},
   "outputs": [
    {
     "data": {
      "text/html": [
       "<div>\n",
       "<style scoped>\n",
       "    .dataframe tbody tr th:only-of-type {\n",
       "        vertical-align: middle;\n",
       "    }\n",
       "\n",
       "    .dataframe tbody tr th {\n",
       "        vertical-align: top;\n",
       "    }\n",
       "\n",
       "    .dataframe thead th {\n",
       "        text-align: right;\n",
       "    }\n",
       "</style>\n",
       "<table border=\"1\" class=\"dataframe\">\n",
       "  <thead>\n",
       "    <tr style=\"text-align: right;\">\n",
       "      <th></th>\n",
       "      <th>mms_elevation</th>\n",
       "      <th>mms_aspect</th>\n",
       "      <th>mms_slope</th>\n",
       "      <th>mms_HD_hydrology</th>\n",
       "      <th>mms_VD_hydrology</th>\n",
       "      <th>mms_HD_roadways</th>\n",
       "      <th>mms_hillshade_9am</th>\n",
       "      <th>mms_hillshade_noon</th>\n",
       "      <th>mms_hillshade_3pm</th>\n",
       "      <th>mms_HD_fire_points</th>\n",
       "      <th>wilderness_index</th>\n",
       "      <th>soil_index</th>\n",
       "      <th>cover_type</th>\n",
       "    </tr>\n",
       "  </thead>\n",
       "  <tbody>\n",
       "    <tr>\n",
       "      <th>235978</th>\n",
       "      <td>0.715858</td>\n",
       "      <td>0.133333</td>\n",
       "      <td>0.181818</td>\n",
       "      <td>0.021475</td>\n",
       "      <td>0.220930</td>\n",
       "      <td>0.307433</td>\n",
       "      <td>0.881890</td>\n",
       "      <td>0.838583</td>\n",
       "      <td>0.472441</td>\n",
       "      <td>0.399136</td>\n",
       "      <td>0</td>\n",
       "      <td>39</td>\n",
       "      <td>7</td>\n",
       "    </tr>\n",
       "    <tr>\n",
       "      <th>471312</th>\n",
       "      <td>0.694347</td>\n",
       "      <td>0.997222</td>\n",
       "      <td>0.227273</td>\n",
       "      <td>0.730136</td>\n",
       "      <td>0.520672</td>\n",
       "      <td>0.294787</td>\n",
       "      <td>0.775591</td>\n",
       "      <td>0.834646</td>\n",
       "      <td>0.594488</td>\n",
       "      <td>0.304475</td>\n",
       "      <td>2</td>\n",
       "      <td>24</td>\n",
       "      <td>7</td>\n",
       "    </tr>\n",
       "    <tr>\n",
       "      <th>254885</th>\n",
       "      <td>0.236118</td>\n",
       "      <td>0.194444</td>\n",
       "      <td>0.363636</td>\n",
       "      <td>0.212598</td>\n",
       "      <td>0.255814</td>\n",
       "      <td>0.130673</td>\n",
       "      <td>0.933071</td>\n",
       "      <td>0.732283</td>\n",
       "      <td>0.263780</td>\n",
       "      <td>0.099819</td>\n",
       "      <td>3</td>\n",
       "      <td>10</td>\n",
       "      <td>3</td>\n",
       "    </tr>\n",
       "    <tr>\n",
       "      <th>227200</th>\n",
       "      <td>0.169085</td>\n",
       "      <td>0.908333</td>\n",
       "      <td>0.378788</td>\n",
       "      <td>0.128848</td>\n",
       "      <td>0.385013</td>\n",
       "      <td>0.011943</td>\n",
       "      <td>0.594488</td>\n",
       "      <td>0.795276</td>\n",
       "      <td>0.736220</td>\n",
       "      <td>0.069566</td>\n",
       "      <td>3</td>\n",
       "      <td>10</td>\n",
       "      <td>3</td>\n",
       "    </tr>\n",
       "    <tr>\n",
       "      <th>576568</th>\n",
       "      <td>0.306153</td>\n",
       "      <td>0.266667</td>\n",
       "      <td>0.348485</td>\n",
       "      <td>0.107373</td>\n",
       "      <td>0.321705</td>\n",
       "      <td>0.106084</td>\n",
       "      <td>0.980315</td>\n",
       "      <td>0.787402</td>\n",
       "      <td>0.263780</td>\n",
       "      <td>0.170640</td>\n",
       "      <td>2</td>\n",
       "      <td>4</td>\n",
       "      <td>3</td>\n",
       "    </tr>\n",
       "  </tbody>\n",
       "</table>\n",
       "</div>"
      ],
      "text/plain": [
       "        mms_elevation  mms_aspect  mms_slope  mms_HD_hydrology  \\\n",
       "235978       0.715858    0.133333   0.181818          0.021475   \n",
       "471312       0.694347    0.997222   0.227273          0.730136   \n",
       "254885       0.236118    0.194444   0.363636          0.212598   \n",
       "227200       0.169085    0.908333   0.378788          0.128848   \n",
       "576568       0.306153    0.266667   0.348485          0.107373   \n",
       "\n",
       "        mms_VD_hydrology  mms_HD_roadways  mms_hillshade_9am  \\\n",
       "235978          0.220930         0.307433           0.881890   \n",
       "471312          0.520672         0.294787           0.775591   \n",
       "254885          0.255814         0.130673           0.933071   \n",
       "227200          0.385013         0.011943           0.594488   \n",
       "576568          0.321705         0.106084           0.980315   \n",
       "\n",
       "        mms_hillshade_noon  mms_hillshade_3pm  mms_HD_fire_points  \\\n",
       "235978            0.838583           0.472441            0.399136   \n",
       "471312            0.834646           0.594488            0.304475   \n",
       "254885            0.732283           0.263780            0.099819   \n",
       "227200            0.795276           0.736220            0.069566   \n",
       "576568            0.787402           0.263780            0.170640   \n",
       "\n",
       "        wilderness_index  soil_index  cover_type  \n",
       "235978                 0          39           7  \n",
       "471312                 2          24           7  \n",
       "254885                 3          10           3  \n",
       "227200                 3          10           3  \n",
       "576568                 2           4           3  "
      ]
     },
     "execution_count": 54,
     "metadata": {},
     "output_type": "execute_result"
    },
    {
     "data": {
      "text/plain": [
       "cover_type\n",
       "3             810\n",
       "7             454\n",
       "6             398\n",
       "5             207\n",
       "4              61\n",
       "dtype: int64"
      ]
     },
     "execution_count": 54,
     "metadata": {},
     "output_type": "execute_result"
    }
   ],
   "source": [
    "df_data_small_classes = df_data_to_use[(df_data_to_use[target_col[0]]!=1) & (df_data_to_use[target_col[0]]!=2)]\n",
    "df_data_small_classes.head()\n",
    "target_counts_small_classes = df_data_small_classes[target_col].value_counts()\n",
    "target_counts_small_classes"
   ]
  },
  {
   "cell_type": "code",
   "execution_count": null,
   "metadata": {
    "collapsed": true
   },
   "outputs": [],
   "source": []
  },
  {
   "cell_type": "code",
   "execution_count": 55,
   "metadata": {
    "collapsed": true
   },
   "outputs": [],
   "source": [
    "def create_dict_target_count_new(orig_counts, dict_factors):\n",
    "    dict_target_count = {}\n",
    "    list_classes_clean = []\n",
    "    \n",
    "    for target, factor in dict_factors.items():\n",
    "        dict_target_count[target] = int(orig_counts.loc[target].values[0] * factor)\n",
    "        \n",
    "        if factor != 1:\n",
    "            list_classes_clean.append(target)\n",
    "    \n",
    "    return dict_target_count, list_classes_clean"
   ]
  },
  {
   "cell_type": "code",
   "execution_count": 59,
   "metadata": {},
   "outputs": [
    {
     "data": {
      "text/plain": [
       "{3: 2430, 4: 183, 5: 621, 6: 1194, 7: 1362}"
      ]
     },
     "execution_count": 59,
     "metadata": {},
     "output_type": "execute_result"
    },
    {
     "data": {
      "text/plain": [
       "[3, 4, 5, 6, 7]"
      ]
     },
     "execution_count": 59,
     "metadata": {},
     "output_type": "execute_result"
    }
   ],
   "source": [
    "dict_factors = {3:3, 4:3, 5:3, 6:3, 7:3}\n",
    "dict_target_count, list_classes_clean = create_dict_target_count_new(target_counts_small_classes, dict_factors)\n",
    "dict_target_count\n",
    "list_classes_clean"
   ]
  },
  {
   "cell_type": "code",
   "execution_count": 62,
   "metadata": {},
   "outputs": [
    {
     "name": "stderr",
     "output_type": "stream",
     "text": [
      "C:\\Users\\LoriN\\anaconda3\\envs\\p3_7_pycaret\\lib\\site-packages\\imblearn\\utils\\_validation.py:326: UserWarning: After over-sampling, the number of samples (2430) in class 3 will be larger than the number of samples in the majority class (class #3 -> 810)\n",
      "  n_samples_majority,\n",
      "C:\\Users\\LoriN\\anaconda3\\envs\\p3_7_pycaret\\lib\\site-packages\\imblearn\\utils\\_validation.py:326: UserWarning: After over-sampling, the number of samples (1194) in class 6 will be larger than the number of samples in the majority class (class #3 -> 810)\n",
      "  n_samples_majority,\n",
      "C:\\Users\\LoriN\\anaconda3\\envs\\p3_7_pycaret\\lib\\site-packages\\imblearn\\utils\\_validation.py:326: UserWarning: After over-sampling, the number of samples (1362) in class 7 will be larger than the number of samples in the majority class (class #3 -> 810)\n",
      "  n_samples_majority,\n"
     ]
    },
    {
     "name": "stdout",
     "output_type": "stream",
     "text": [
      "number samples:\n",
      "   total specified target counts =  5790\n",
      "   SMOTE result =  5790\n",
      "   fraction cleaned total =  0.0\n",
      "   fraction cleaned by target = \n",
      "    {3: 0.0, 4: 0.0, 5: 0.0, 6: 0.0, 7: 0.0}\n"
     ]
    }
   ],
   "source": [
    "df_only = over_sample_to_specified_counts(df_data_small_classes, dict_target_count)"
   ]
  },
  {
   "cell_type": "code",
   "execution_count": 63,
   "metadata": {},
   "outputs": [
    {
     "data": {
      "text/html": [
       "<div>\n",
       "<style scoped>\n",
       "    .dataframe tbody tr th:only-of-type {\n",
       "        vertical-align: middle;\n",
       "    }\n",
       "\n",
       "    .dataframe tbody tr th {\n",
       "        vertical-align: top;\n",
       "    }\n",
       "\n",
       "    .dataframe thead th {\n",
       "        text-align: right;\n",
       "    }\n",
       "</style>\n",
       "<table border=\"1\" class=\"dataframe\">\n",
       "  <thead>\n",
       "    <tr style=\"text-align: right;\">\n",
       "      <th></th>\n",
       "      <th>mms_elevation</th>\n",
       "      <th>mms_aspect</th>\n",
       "      <th>mms_slope</th>\n",
       "      <th>mms_HD_hydrology</th>\n",
       "      <th>mms_VD_hydrology</th>\n",
       "      <th>mms_HD_roadways</th>\n",
       "      <th>mms_hillshade_9am</th>\n",
       "      <th>mms_hillshade_noon</th>\n",
       "      <th>mms_hillshade_3pm</th>\n",
       "      <th>mms_HD_fire_points</th>\n",
       "      <th>wilderness_index</th>\n",
       "      <th>soil_index</th>\n",
       "      <th>cover_type</th>\n",
       "    </tr>\n",
       "  </thead>\n",
       "  <tbody>\n",
       "    <tr>\n",
       "      <th>0</th>\n",
       "      <td>0.715858</td>\n",
       "      <td>0.133333</td>\n",
       "      <td>0.181818</td>\n",
       "      <td>0.021475</td>\n",
       "      <td>0.220930</td>\n",
       "      <td>0.307433</td>\n",
       "      <td>0.881890</td>\n",
       "      <td>0.838583</td>\n",
       "      <td>0.472441</td>\n",
       "      <td>0.399136</td>\n",
       "      <td>0</td>\n",
       "      <td>39</td>\n",
       "      <td>7</td>\n",
       "    </tr>\n",
       "    <tr>\n",
       "      <th>1</th>\n",
       "      <td>0.694347</td>\n",
       "      <td>0.997222</td>\n",
       "      <td>0.227273</td>\n",
       "      <td>0.730136</td>\n",
       "      <td>0.520672</td>\n",
       "      <td>0.294787</td>\n",
       "      <td>0.775591</td>\n",
       "      <td>0.834646</td>\n",
       "      <td>0.594488</td>\n",
       "      <td>0.304475</td>\n",
       "      <td>2</td>\n",
       "      <td>24</td>\n",
       "      <td>7</td>\n",
       "    </tr>\n",
       "    <tr>\n",
       "      <th>2</th>\n",
       "      <td>0.236118</td>\n",
       "      <td>0.194444</td>\n",
       "      <td>0.363636</td>\n",
       "      <td>0.212598</td>\n",
       "      <td>0.255814</td>\n",
       "      <td>0.130673</td>\n",
       "      <td>0.933071</td>\n",
       "      <td>0.732283</td>\n",
       "      <td>0.263780</td>\n",
       "      <td>0.099819</td>\n",
       "      <td>3</td>\n",
       "      <td>10</td>\n",
       "      <td>3</td>\n",
       "    </tr>\n",
       "    <tr>\n",
       "      <th>3</th>\n",
       "      <td>0.169085</td>\n",
       "      <td>0.908333</td>\n",
       "      <td>0.378788</td>\n",
       "      <td>0.128848</td>\n",
       "      <td>0.385013</td>\n",
       "      <td>0.011943</td>\n",
       "      <td>0.594488</td>\n",
       "      <td>0.795276</td>\n",
       "      <td>0.736220</td>\n",
       "      <td>0.069566</td>\n",
       "      <td>3</td>\n",
       "      <td>10</td>\n",
       "      <td>3</td>\n",
       "    </tr>\n",
       "    <tr>\n",
       "      <th>4</th>\n",
       "      <td>0.306153</td>\n",
       "      <td>0.266667</td>\n",
       "      <td>0.348485</td>\n",
       "      <td>0.107373</td>\n",
       "      <td>0.321705</td>\n",
       "      <td>0.106084</td>\n",
       "      <td>0.980315</td>\n",
       "      <td>0.787402</td>\n",
       "      <td>0.263780</td>\n",
       "      <td>0.170640</td>\n",
       "      <td>2</td>\n",
       "      <td>4</td>\n",
       "      <td>3</td>\n",
       "    </tr>\n",
       "  </tbody>\n",
       "</table>\n",
       "</div>"
      ],
      "text/plain": [
       "   mms_elevation  mms_aspect  mms_slope  mms_HD_hydrology  mms_VD_hydrology  \\\n",
       "0       0.715858    0.133333   0.181818          0.021475          0.220930   \n",
       "1       0.694347    0.997222   0.227273          0.730136          0.520672   \n",
       "2       0.236118    0.194444   0.363636          0.212598          0.255814   \n",
       "3       0.169085    0.908333   0.378788          0.128848          0.385013   \n",
       "4       0.306153    0.266667   0.348485          0.107373          0.321705   \n",
       "\n",
       "   mms_HD_roadways  mms_hillshade_9am  mms_hillshade_noon  mms_hillshade_3pm  \\\n",
       "0         0.307433           0.881890            0.838583           0.472441   \n",
       "1         0.294787           0.775591            0.834646           0.594488   \n",
       "2         0.130673           0.933071            0.732283           0.263780   \n",
       "3         0.011943           0.594488            0.795276           0.736220   \n",
       "4         0.106084           0.980315            0.787402           0.263780   \n",
       "\n",
       "   mms_HD_fire_points  wilderness_index  soil_index  cover_type  \n",
       "0            0.399136                 0          39           7  \n",
       "1            0.304475                 2          24           7  \n",
       "2            0.099819                 3          10           3  \n",
       "3            0.069566                 3          10           3  \n",
       "4            0.170640                 2           4           3  "
      ]
     },
     "execution_count": 63,
     "metadata": {},
     "output_type": "execute_result"
    }
   ],
   "source": [
    "df_only.head()"
   ]
  },
  {
   "cell_type": "code",
   "execution_count": 64,
   "metadata": {},
   "outputs": [
    {
     "name": "stderr",
     "output_type": "stream",
     "text": [
      "C:\\Users\\LoriN\\anaconda3\\envs\\p3_7_pycaret\\lib\\site-packages\\imblearn\\utils\\_validation.py:326: UserWarning: After over-sampling, the number of samples (2430) in class 3 will be larger than the number of samples in the majority class (class #3 -> 810)\n",
      "  n_samples_majority,\n",
      "C:\\Users\\LoriN\\anaconda3\\envs\\p3_7_pycaret\\lib\\site-packages\\imblearn\\utils\\_validation.py:326: UserWarning: After over-sampling, the number of samples (1194) in class 6 will be larger than the number of samples in the majority class (class #3 -> 810)\n",
      "  n_samples_majority,\n",
      "C:\\Users\\LoriN\\anaconda3\\envs\\p3_7_pycaret\\lib\\site-packages\\imblearn\\utils\\_validation.py:326: UserWarning: After over-sampling, the number of samples (1362) in class 7 will be larger than the number of samples in the majority class (class #3 -> 810)\n",
      "  n_samples_majority,\n"
     ]
    },
    {
     "name": "stdout",
     "output_type": "stream",
     "text": [
      "number samples:\n",
      "   total specified target counts =  5790\n",
      "   SMOTE result =  5475\n",
      "   fraction cleaned total =  0.054404145077720206\n",
      "   fraction cleaned by target = \n",
      "    {3: 0.05185185185185185, 4: 0.16393442622950818, 5: 0.061191626409017714, 6: 0.09380234505862646, 7: 0.006607929515418502}\n"
     ]
    }
   ],
   "source": [
    "df_only_clean = over_sample_to_specified_counts(df_data_small_classes, dict_target_count, True,\n",
    "                                                ENN_neighbors=3, ENN_kind='mode', ENN_sampling=list_classes_clean)"
   ]
  },
  {
   "cell_type": "code",
   "execution_count": null,
   "metadata": {
    "collapsed": true
   },
   "outputs": [],
   "source": []
  },
  {
   "cell_type": "code",
   "execution_count": null,
   "metadata": {
    "collapsed": true
   },
   "outputs": [],
   "source": []
  },
  {
   "cell_type": "code",
   "execution_count": null,
   "metadata": {
    "collapsed": true
   },
   "outputs": [],
   "source": []
  },
  {
   "cell_type": "code",
   "execution_count": null,
   "metadata": {
    "collapsed": true
   },
   "outputs": [],
   "source": []
  }
 ],
 "metadata": {
  "kernelspec": {
   "display_name": "Python 3",
   "language": "python",
   "name": "python3"
  },
  "language_info": {
   "codemirror_mode": {
    "name": "ipython",
    "version": 3
   },
   "file_extension": ".py",
   "mimetype": "text/x-python",
   "name": "python",
   "nbconvert_exporter": "python",
   "pygments_lexer": "ipython3",
   "version": "3.7.8"
  }
 },
 "nbformat": 4,
 "nbformat_minor": 4
}
