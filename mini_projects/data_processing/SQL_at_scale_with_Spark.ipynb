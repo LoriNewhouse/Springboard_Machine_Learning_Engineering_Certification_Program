{
 "cells": [
  {
   "cell_type": "markdown",
   "metadata": {
    "application/vnd.databricks.v1+cell": {
     "inputWidgets": {},
     "nuid": "75ff6819-c58b-43c3-96e9-39eee3794f7c",
     "showTitle": false,
     "title": ""
    }
   },
   "source": [
    "## SQL at Scale with Spark SQL\n",
    "\n",
    "Welcome to the SQL mini project. For this project, you will use the Databricks Platform and work through a series of exercises using Spark SQL. The dataset size may not be too big but the intent here is to familiarize yourself with the Spark SQL interface which scales easily to huge datasets, without you having to worry about changing your SQL queries. \n",
    "\n",
    "The data you need is present in the mini-project folder in the form of three CSV files. This data will be imported in Databricks to create the following tables under the __`country_club`__ database.\n",
    "\n",
    "<br>\n",
    "1. The __`bookings`__ table,\n",
    "2. The __`facilities`__ table, and\n",
    "3. The __`members`__ table.\n",
    "\n",
    "You will be uploading these datasets shortly into the Databricks platform to understand how to create a database within minutes! Once the database and the tables are populated, you will be focusing on the mini-project questions.\n",
    "\n",
    "In the mini project, you'll be asked a series of questions. You can solve them using the databricks platform, but for the final deliverable,\n",
    "please download this notebook as an IPython notebook (__`File -> Export -> IPython Notebook`__) and upload it to your GitHub."
   ]
  },
  {
   "cell_type": "markdown",
   "metadata": {
    "application/vnd.databricks.v1+cell": {
     "inputWidgets": {},
     "nuid": "6fdf4851-9738-4946-822c-d8c0678775d4",
     "showTitle": false,
     "title": ""
    }
   },
   "source": [
    "### Creating the Database\n",
    "\n",
    "We will first create our database in which we will be creating our three tables of interest"
   ]
  },
  {
   "cell_type": "code",
   "execution_count": 0,
   "metadata": {
    "application/vnd.databricks.v1+cell": {
     "inputWidgets": {},
     "nuid": "b63c60a0-e114-4b2f-be37-a1e85416a3e0",
     "showTitle": false,
     "title": ""
    }
   },
   "outputs": [
    {
     "data": {
      "text/html": [
       "<style scoped>\n",
       "  .ansiout {\n",
       "    display: block;\n",
       "    unicode-bidi: embed;\n",
       "    white-space: pre-wrap;\n",
       "    word-wrap: break-word;\n",
       "    word-break: break-all;\n",
       "    font-family: \"Source Code Pro\", \"Menlo\", monospace;;\n",
       "    font-size: 13px;\n",
       "    color: #555;\n",
       "    margin-left: 4px;\n",
       "    line-height: 19px;\n",
       "  }\n",
       "</style>"
      ]
     },
     "metadata": {
      "application/vnd.databricks.v1+output": {
       "arguments": {},
       "data": "",
       "errorSummary": "",
       "type": "ipynbError"
      }
     },
     "output_type": "display_data"
    }
   ],
   "source": [
    "%sql \n",
    "drop database if exists country_club cascade;\n",
    "create database country_club;\n",
    "show databases;"
   ]
  },
  {
   "cell_type": "markdown",
   "metadata": {
    "application/vnd.databricks.v1+cell": {
     "inputWidgets": {},
     "nuid": "d94eb42b-cb9a-4410-803c-059f06b380c8",
     "showTitle": false,
     "title": ""
    }
   },
   "source": [
    "### Creating the Tables\n",
    "\n",
    "In this section, we will be creating the three tables of interest and populate them with the data from the CSV files already available to you. \n",
    "To get started, first upload the three CSV files to the DBFS as depicted in the following figure\n",
    "\n",
    "![](https://i.imgur.com/QcCruBr.png)\n",
    "\n",
    "\n",
    "Once you have done this, please remember to execute the following code to build the dataframes which will be saved as tables in our database"
   ]
  },
  {
   "cell_type": "code",
   "execution_count": 0,
   "metadata": {
    "application/vnd.databricks.v1+cell": {
     "inputWidgets": {},
     "nuid": "73302c4d-6e85-4d79-a034-1699a655a71a",
     "showTitle": false,
     "title": ""
    }
   },
   "outputs": [
    {
     "data": {
      "text/html": [
       "<style scoped>\n",
       "  .ansiout {\n",
       "    display: block;\n",
       "    unicode-bidi: embed;\n",
       "    white-space: pre-wrap;\n",
       "    word-wrap: break-word;\n",
       "    word-break: break-all;\n",
       "    font-family: \"Source Code Pro\", \"Menlo\", monospace;;\n",
       "    font-size: 13px;\n",
       "    color: #555;\n",
       "    margin-left: 4px;\n",
       "    line-height: 19px;\n",
       "  }\n",
       "</style>"
      ]
     },
     "metadata": {
      "application/vnd.databricks.v1+output": {
       "arguments": {},
       "data": "",
       "errorSummary": "",
       "type": "ipynbError"
      }
     },
     "output_type": "display_data"
    }
   ],
   "source": [
    "# File location and type\n",
    "file_location_bookings = \"/FileStore/tables/Bookings.csv\"\n",
    "file_location_facilities = \"/FileStore/tables/Facilities.csv\"\n",
    "file_location_members = \"/FileStore/tables/Members.csv\"\n",
    "\n",
    "file_type = \"csv\"\n",
    "\n",
    "# CSV options\n",
    "infer_schema = \"true\"\n",
    "first_row_is_header = \"true\"\n",
    "delimiter = \",\"\n",
    "\n",
    "# The applied options are for CSV files. For other file types, these will be ignored.\n",
    "bookings_df = (spark.read.format(file_type) \n",
    "                    .option(\"inferSchema\", infer_schema) \n",
    "                    .option(\"header\", first_row_is_header) \n",
    "                    .option(\"sep\", delimiter) \n",
    "                    .load(file_location_bookings))\n",
    "\n",
    "facilities_df = (spark.read.format(file_type) \n",
    "                      .option(\"inferSchema\", infer_schema) \n",
    "                      .option(\"header\", first_row_is_header) \n",
    "                      .option(\"sep\", delimiter) \n",
    "                      .load(file_location_facilities))\n",
    "\n",
    "members_df = (spark.read.format(file_type) \n",
    "                      .option(\"inferSchema\", infer_schema) \n",
    "                      .option(\"header\", first_row_is_header) \n",
    "                      .option(\"sep\", delimiter) \n",
    "                      .load(file_location_members))"
   ]
  },
  {
   "cell_type": "markdown",
   "metadata": {
    "application/vnd.databricks.v1+cell": {
     "inputWidgets": {},
     "nuid": "8f9b0e22-94f7-45a4-8db6-3345b89b2cf5",
     "showTitle": false,
     "title": ""
    }
   },
   "source": [
    "### Viewing the dataframe schemas\n",
    "\n",
    "We can take a look at the schemas of our potential tables to be written to our database soon"
   ]
  },
  {
   "cell_type": "code",
   "execution_count": 0,
   "metadata": {
    "application/vnd.databricks.v1+cell": {
     "inputWidgets": {},
     "nuid": "afeff963-a75e-4c18-bf24-eb378fde311e",
     "showTitle": false,
     "title": ""
    }
   },
   "outputs": [
    {
     "data": {
      "text/html": [
       "<style scoped>\n",
       "  .ansiout {\n",
       "    display: block;\n",
       "    unicode-bidi: embed;\n",
       "    white-space: pre-wrap;\n",
       "    word-wrap: break-word;\n",
       "    word-break: break-all;\n",
       "    font-family: \"Source Code Pro\", \"Menlo\", monospace;;\n",
       "    font-size: 13px;\n",
       "    color: #555;\n",
       "    margin-left: 4px;\n",
       "    line-height: 19px;\n",
       "  }\n",
       "</style>"
      ]
     },
     "metadata": {
      "application/vnd.databricks.v1+output": {
       "arguments": {},
       "data": "",
       "errorSummary": "",
       "type": "ipynbError"
      }
     },
     "output_type": "display_data"
    }
   ],
   "source": [
    "print('Bookings Schema')\n",
    "print('number rows =', bookings_df.count())\n",
    "bookings_df.printSchema()\n",
    "\n",
    "print('\\nFacilities Schema')\n",
    "print('number rows =', facilities_df.count())\n",
    "facilities_df.printSchema()\n",
    "\n",
    "print('\\nMembers Schema')\n",
    "print('number rows =', members_df.count())\n",
    "members_df.printSchema()"
   ]
  },
  {
   "cell_type": "markdown",
   "metadata": {
    "application/vnd.databricks.v1+cell": {
     "inputWidgets": {},
     "nuid": "ed577b36-e2c5-448d-b23b-53b85524dac4",
     "showTitle": false,
     "title": ""
    }
   },
   "source": [
    "### Create permanent tables\n",
    "We will be creating three permanent tables here in our __`country_club`__ database as we discussed previously with the following code"
   ]
  },
  {
   "cell_type": "code",
   "execution_count": 0,
   "metadata": {
    "application/vnd.databricks.v1+cell": {
     "inputWidgets": {},
     "nuid": "0ed24041-8807-466c-b75e-ca088864fd0f",
     "showTitle": false,
     "title": ""
    }
   },
   "outputs": [
    {
     "data": {
      "text/html": [
       "<style scoped>\n",
       "  .ansiout {\n",
       "    display: block;\n",
       "    unicode-bidi: embed;\n",
       "    white-space: pre-wrap;\n",
       "    word-wrap: break-word;\n",
       "    word-break: break-all;\n",
       "    font-family: \"Source Code Pro\", \"Menlo\", monospace;;\n",
       "    font-size: 13px;\n",
       "    color: #555;\n",
       "    margin-left: 4px;\n",
       "    line-height: 19px;\n",
       "  }\n",
       "</style>"
      ]
     },
     "metadata": {
      "application/vnd.databricks.v1+output": {
       "arguments": {},
       "data": "",
       "errorSummary": "",
       "type": "ipynbError"
      }
     },
     "output_type": "display_data"
    }
   ],
   "source": [
    "permanent_table_name_bookings = \"country_club.Bookings\"\n",
    "bookings_df.write.format(\"parquet\").saveAsTable(permanent_table_name_bookings)\n",
    "\n",
    "permanent_table_name_facilities = \"country_club.Facilities\"\n",
    "facilities_df.write.format(\"parquet\").saveAsTable(permanent_table_name_facilities)\n",
    "\n",
    "permanent_table_name_members = \"country_club.Members\"\n",
    "members_df.write.format(\"parquet\").saveAsTable(permanent_table_name_members)"
   ]
  },
  {
   "cell_type": "code",
   "execution_count": 0,
   "metadata": {
    "application/vnd.databricks.v1+cell": {
     "inputWidgets": {},
     "nuid": "ca907028-17ca-45fd-9795-2c9853234a79",
     "showTitle": false,
     "title": ""
    }
   },
   "outputs": [
    {
     "data": {
      "text/html": [
       "<style scoped>\n",
       "  .ansiout {\n",
       "    display: block;\n",
       "    unicode-bidi: embed;\n",
       "    white-space: pre-wrap;\n",
       "    word-wrap: break-word;\n",
       "    word-break: break-all;\n",
       "    font-family: \"Source Code Pro\", \"Menlo\", monospace;;\n",
       "    font-size: 13px;\n",
       "    color: #555;\n",
       "    margin-left: 4px;\n",
       "    line-height: 19px;\n",
       "  }\n",
       "</style>"
      ]
     },
     "metadata": {
      "application/vnd.databricks.v1+output": {
       "arguments": {},
       "data": "",
       "errorSummary": "",
       "type": "ipynbError"
      }
     },
     "output_type": "display_data"
    }
   ],
   "source": []
  },
  {
   "cell_type": "markdown",
   "metadata": {
    "application/vnd.databricks.v1+cell": {
     "inputWidgets": {},
     "nuid": "5eda30b7-b6d3-414d-83ac-9ba8f0c41591",
     "showTitle": false,
     "title": ""
    }
   },
   "source": [
    "# START AGAIN HERE"
   ]
  },
  {
   "cell_type": "markdown",
   "metadata": {
    "application/vnd.databricks.v1+cell": {
     "inputWidgets": {},
     "nuid": "a9cf5303-0a8c-4c58-82af-2a063998084b",
     "showTitle": false,
     "title": ""
    }
   },
   "source": [
    "### Refresh tables and check them"
   ]
  },
  {
   "cell_type": "code",
   "execution_count": 0,
   "metadata": {
    "application/vnd.databricks.v1+cell": {
     "inputWidgets": {},
     "nuid": "3f8b9853-5022-44dd-ad84-230d6bad499c",
     "showTitle": false,
     "title": ""
    }
   },
   "outputs": [
    {
     "data": {
      "text/html": [
       "<style scoped>\n",
       "  .table-result-container {\n",
       "    max-height: 300px;\n",
       "    overflow: auto;\n",
       "  }\n",
       "  table, th, td {\n",
       "    border: 1px solid black;\n",
       "    border-collapse: collapse;\n",
       "  }\n",
       "  th, td {\n",
       "    padding: 5px;\n",
       "  }\n",
       "  th {\n",
       "    text-align: left;\n",
       "  }\n",
       "</style><div class='table-result-container'><table class='table-result'><thead style='background-color: white'><tr><th>database</th><th>tableName</th><th>isTemporary</th></tr></thead><tbody><tr><td>country_club</td><td>bookings</td><td>false</td></tr><tr><td>country_club</td><td>facilities</td><td>false</td></tr><tr><td>country_club</td><td>members</td><td>false</td></tr></tbody></table></div>"
      ]
     },
     "metadata": {
      "application/vnd.databricks.v1+output": {
       "addedWidgets": {},
       "aggData": [],
       "aggError": "",
       "aggOverflow": false,
       "aggSchema": [],
       "aggSeriesLimitReached": false,
       "aggType": "",
       "arguments": {},
       "columnCustomDisplayInfos": {},
       "data": [
        [
         "country_club",
         "bookings",
         false
        ],
        [
         "country_club",
         "facilities",
         false
        ],
        [
         "country_club",
         "members",
         false
        ]
       ],
       "datasetInfos": [],
       "dbfsResultPath": null,
       "isJsonSchema": true,
       "overflow": false,
       "plotOptions": {
        "customPlotOptions": {},
        "displayType": "table",
        "pivotAggregation": null,
        "pivotColumns": null,
        "xColumns": null,
        "yColumns": null
       },
       "removedWidgets": [],
       "schema": [
        {
         "metadata": "{}",
         "name": "database",
         "type": "\"string\""
        },
        {
         "metadata": "{}",
         "name": "tableName",
         "type": "\"string\""
        },
        {
         "metadata": "{}",
         "name": "isTemporary",
         "type": "\"boolean\""
        }
       ],
       "type": "table"
      }
     },
     "output_type": "display_data"
    }
   ],
   "source": [
    "%sql\n",
    "use country_club;\n",
    "REFRESH table bookings;\n",
    "REFRESH table facilities;\n",
    "REFRESH table members;\n",
    "show tables;"
   ]
  },
  {
   "cell_type": "markdown",
   "metadata": {
    "application/vnd.databricks.v1+cell": {
     "inputWidgets": {},
     "nuid": "c29f7dfe-4b0f-4473-a09f-caf77a575aaa",
     "showTitle": false,
     "title": ""
    }
   },
   "source": [
    "### Test a sample SQL query\n",
    "\n",
    "__Note:__ You can use __`%sql`__ at the beginning of a cell and write SQL queries directly as seen in the following cell. Neat isn't it!"
   ]
  },
  {
   "cell_type": "code",
   "execution_count": 0,
   "metadata": {
    "application/vnd.databricks.v1+cell": {
     "inputWidgets": {},
     "nuid": "ea39f84d-c4a0-466f-9f59-e558876a2dc3",
     "showTitle": false,
     "title": ""
    }
   },
   "outputs": [
    {
     "data": {
      "text/html": [
       "<style scoped>\n",
       "  .table-result-container {\n",
       "    max-height: 300px;\n",
       "    overflow: auto;\n",
       "  }\n",
       "  table, th, td {\n",
       "    border: 1px solid black;\n",
       "    border-collapse: collapse;\n",
       "  }\n",
       "  th, td {\n",
       "    padding: 5px;\n",
       "  }\n",
       "  th {\n",
       "    text-align: left;\n",
       "  }\n",
       "</style><div class='table-result-container'><table class='table-result'><thead style='background-color: white'><tr><th>bookid</th><th>facid</th><th>memid</th><th>starttime</th><th>slots</th></tr></thead><tbody><tr><td>0</td><td>3</td><td>1</td><td>2012-07-03 11:00:00</td><td>2</td></tr><tr><td>1</td><td>4</td><td>1</td><td>2012-07-03 08:00:00</td><td>2</td></tr><tr><td>2</td><td>6</td><td>0</td><td>2012-07-03 18:00:00</td><td>2</td></tr></tbody></table></div>"
      ]
     },
     "metadata": {
      "application/vnd.databricks.v1+output": {
       "addedWidgets": {},
       "aggData": [],
       "aggError": "",
       "aggOverflow": false,
       "aggSchema": [],
       "aggSeriesLimitReached": false,
       "aggType": "",
       "arguments": {},
       "columnCustomDisplayInfos": {},
       "data": [
        [
         0,
         3,
         1,
         "2012-07-03 11:00:00",
         2
        ],
        [
         1,
         4,
         1,
         "2012-07-03 08:00:00",
         2
        ],
        [
         2,
         6,
         0,
         "2012-07-03 18:00:00",
         2
        ]
       ],
       "datasetInfos": [],
       "dbfsResultPath": null,
       "isJsonSchema": true,
       "overflow": false,
       "plotOptions": {
        "customPlotOptions": {},
        "displayType": "table",
        "pivotAggregation": null,
        "pivotColumns": null,
        "xColumns": null,
        "yColumns": null
       },
       "removedWidgets": [],
       "schema": [
        {
         "metadata": "{}",
         "name": "bookid",
         "type": "\"integer\""
        },
        {
         "metadata": "{}",
         "name": "facid",
         "type": "\"integer\""
        },
        {
         "metadata": "{}",
         "name": "memid",
         "type": "\"integer\""
        },
        {
         "metadata": "{}",
         "name": "starttime",
         "type": "\"string\""
        },
        {
         "metadata": "{}",
         "name": "slots",
         "type": "\"integer\""
        }
       ],
       "type": "table"
      }
     },
     "output_type": "display_data"
    }
   ],
   "source": [
    "%sql\n",
    "select * from bookings limit 3"
   ]
  },
  {
   "cell_type": "code",
   "execution_count": 0,
   "metadata": {
    "application/vnd.databricks.v1+cell": {
     "inputWidgets": {},
     "nuid": "70e85957-ac13-492b-a1c0-d10340ea179a",
     "showTitle": false,
     "title": ""
    }
   },
   "outputs": [],
   "source": []
  },
  {
   "cell_type": "markdown",
   "metadata": {
    "application/vnd.databricks.v1+cell": {
     "inputWidgets": {},
     "nuid": "1c05b9e9-c3bb-4123-95d0-f07d2d39f3ec",
     "showTitle": false,
     "title": ""
    }
   },
   "source": [
    "#### Q1: Some of the facilities charge a fee to members, but some do not. Please list the names of the facilities that do."
   ]
  },
  {
   "cell_type": "markdown",
   "metadata": {
    "application/vnd.databricks.v1+cell": {
     "inputWidgets": {},
     "nuid": "cf15c954-4edb-43ce-aef3-e8ef5b2c3b83",
     "showTitle": false,
     "title": ""
    }
   },
   "source": [
    "###### Q1: ANSWER"
   ]
  },
  {
   "cell_type": "code",
   "execution_count": 0,
   "metadata": {
    "application/vnd.databricks.v1+cell": {
     "inputWidgets": {},
     "nuid": "6becd93f-8b44-44a8-bbd0-8484c3a24d6d",
     "showTitle": false,
     "title": ""
    }
   },
   "outputs": [
    {
     "data": {
      "text/html": [
       "<style scoped>\n",
       "  .table-result-container {\n",
       "    max-height: 300px;\n",
       "    overflow: auto;\n",
       "  }\n",
       "  table, th, td {\n",
       "    border: 1px solid black;\n",
       "    border-collapse: collapse;\n",
       "  }\n",
       "  th, td {\n",
       "    padding: 5px;\n",
       "  }\n",
       "  th {\n",
       "    text-align: left;\n",
       "  }\n",
       "</style><div class='table-result-container'><table class='table-result'><thead style='background-color: white'><tr><th>name</th></tr></thead><tbody><tr><td>Tennis Court 1</td></tr><tr><td>Tennis Court 2</td></tr><tr><td>Massage Room 1</td></tr><tr><td>Massage Room 2</td></tr><tr><td>Squash Court</td></tr></tbody></table></div>"
      ]
     },
     "metadata": {
      "application/vnd.databricks.v1+output": {
       "addedWidgets": {},
       "aggData": [],
       "aggError": "",
       "aggOverflow": false,
       "aggSchema": [],
       "aggSeriesLimitReached": false,
       "aggType": "",
       "arguments": {},
       "columnCustomDisplayInfos": {},
       "data": [
        [
         "Tennis Court 1"
        ],
        [
         "Tennis Court 2"
        ],
        [
         "Massage Room 1"
        ],
        [
         "Massage Room 2"
        ],
        [
         "Squash Court"
        ]
       ],
       "datasetInfos": [],
       "dbfsResultPath": null,
       "isJsonSchema": true,
       "overflow": false,
       "plotOptions": {
        "customPlotOptions": {},
        "displayType": "table",
        "pivotAggregation": null,
        "pivotColumns": null,
        "xColumns": null,
        "yColumns": null
       },
       "removedWidgets": [],
       "schema": [
        {
         "metadata": "{}",
         "name": "name",
         "type": "\"string\""
        }
       ],
       "type": "table"
      }
     },
     "output_type": "display_data"
    }
   ],
   "source": [
    "%sql\n",
    "select name\n",
    "  from facilities\n",
    "  where membercost > 0"
   ]
  },
  {
   "cell_type": "code",
   "execution_count": 0,
   "metadata": {
    "application/vnd.databricks.v1+cell": {
     "inputWidgets": {},
     "nuid": "2fc25794-0a31-4e4e-a6dc-07ab490296ab",
     "showTitle": false,
     "title": ""
    }
   },
   "outputs": [],
   "source": []
  },
  {
   "cell_type": "markdown",
   "metadata": {
    "application/vnd.databricks.v1+cell": {
     "inputWidgets": {},
     "nuid": "249d0a0e-2f4b-48d5-9def-4011e92434e4",
     "showTitle": false,
     "title": ""
    }
   },
   "source": [
    "####  Q2: How many facilities do not charge a fee to members?"
   ]
  },
  {
   "cell_type": "markdown",
   "metadata": {
    "application/vnd.databricks.v1+cell": {
     "inputWidgets": {},
     "nuid": "54de42d2-4997-417e-8538-c2c16681020d",
     "showTitle": false,
     "title": ""
    }
   },
   "source": [
    "###### get facilities that do not charge fee to members"
   ]
  },
  {
   "cell_type": "code",
   "execution_count": 0,
   "metadata": {
    "application/vnd.databricks.v1+cell": {
     "inputWidgets": {},
     "nuid": "a110a0ac-b45a-4f2c-8985-2d516a840116",
     "showTitle": false,
     "title": ""
    }
   },
   "outputs": [
    {
     "data": {
      "text/html": [
       "<style scoped>\n",
       "  .table-result-container {\n",
       "    max-height: 300px;\n",
       "    overflow: auto;\n",
       "  }\n",
       "  table, th, td {\n",
       "    border: 1px solid black;\n",
       "    border-collapse: collapse;\n",
       "  }\n",
       "  th, td {\n",
       "    padding: 5px;\n",
       "  }\n",
       "  th {\n",
       "    text-align: left;\n",
       "  }\n",
       "</style><div class='table-result-container'><table class='table-result'><thead style='background-color: white'><tr><th>name</th></tr></thead><tbody><tr><td>Badminton Court</td></tr><tr><td>Table Tennis</td></tr><tr><td>Snooker Table</td></tr><tr><td>Pool Table</td></tr></tbody></table></div>"
      ]
     },
     "metadata": {
      "application/vnd.databricks.v1+output": {
       "addedWidgets": {},
       "aggData": [],
       "aggError": "",
       "aggOverflow": false,
       "aggSchema": [],
       "aggSeriesLimitReached": false,
       "aggType": "",
       "arguments": {},
       "columnCustomDisplayInfos": {},
       "data": [
        [
         "Badminton Court"
        ],
        [
         "Table Tennis"
        ],
        [
         "Snooker Table"
        ],
        [
         "Pool Table"
        ]
       ],
       "datasetInfos": [],
       "dbfsResultPath": null,
       "isJsonSchema": true,
       "overflow": false,
       "plotOptions": {
        "customPlotOptions": {},
        "displayType": "table",
        "pivotAggregation": null,
        "pivotColumns": null,
        "xColumns": null,
        "yColumns": null
       },
       "removedWidgets": [],
       "schema": [
        {
         "metadata": "{}",
         "name": "name",
         "type": "\"string\""
        }
       ],
       "type": "table"
      }
     },
     "output_type": "display_data"
    }
   ],
   "source": [
    "%sql\n",
    "select name\n",
    "  from facilities\n",
    "  where membercost = 0"
   ]
  },
  {
   "cell_type": "markdown",
   "metadata": {
    "application/vnd.databricks.v1+cell": {
     "inputWidgets": {},
     "nuid": "eb0285ed-586b-44bc-ad1f-86c339cd0311",
     "showTitle": false,
     "title": ""
    }
   },
   "source": [
    "###### Q2: ANSWER"
   ]
  },
  {
   "cell_type": "code",
   "execution_count": 0,
   "metadata": {
    "application/vnd.databricks.v1+cell": {
     "inputWidgets": {},
     "nuid": "2257dbc6-9b65-4979-86c7-871ab8719c9e",
     "showTitle": false,
     "title": ""
    }
   },
   "outputs": [
    {
     "data": {
      "text/html": [
       "<style scoped>\n",
       "  .table-result-container {\n",
       "    max-height: 300px;\n",
       "    overflow: auto;\n",
       "  }\n",
       "  table, th, td {\n",
       "    border: 1px solid black;\n",
       "    border-collapse: collapse;\n",
       "  }\n",
       "  th, td {\n",
       "    padding: 5px;\n",
       "  }\n",
       "  th {\n",
       "    text-align: left;\n",
       "  }\n",
       "</style><div class='table-result-container'><table class='table-result'><thead style='background-color: white'><tr><th>member_free_facilities</th></tr></thead><tbody><tr><td>4</td></tr></tbody></table></div>"
      ]
     },
     "metadata": {
      "application/vnd.databricks.v1+output": {
       "addedWidgets": {},
       "aggData": [],
       "aggError": "",
       "aggOverflow": false,
       "aggSchema": [],
       "aggSeriesLimitReached": false,
       "aggType": "",
       "arguments": {},
       "columnCustomDisplayInfos": {},
       "data": [
        [
         4
        ]
       ],
       "datasetInfos": [],
       "dbfsResultPath": null,
       "isJsonSchema": true,
       "overflow": false,
       "plotOptions": {
        "customPlotOptions": {},
        "displayType": "table",
        "pivotAggregation": null,
        "pivotColumns": null,
        "xColumns": null,
        "yColumns": null
       },
       "removedWidgets": [],
       "schema": [
        {
         "metadata": "{}",
         "name": "member_free_facilities",
         "type": "\"long\""
        }
       ],
       "type": "table"
      }
     },
     "output_type": "display_data"
    }
   ],
   "source": [
    "%sql\n",
    "select count(name) as member_free_facilities\n",
    "  from facilities\n",
    "  where membercost = 0"
   ]
  },
  {
   "cell_type": "code",
   "execution_count": 0,
   "metadata": {
    "application/vnd.databricks.v1+cell": {
     "inputWidgets": {},
     "nuid": "31258381-8530-4722-8ffa-1ee8c3c4a944",
     "showTitle": false,
     "title": ""
    }
   },
   "outputs": [],
   "source": []
  },
  {
   "cell_type": "markdown",
   "metadata": {
    "application/vnd.databricks.v1+cell": {
     "inputWidgets": {},
     "nuid": "41c2a580-a625-40db-a3fe-9d6f9ca44e9b",
     "showTitle": false,
     "title": ""
    }
   },
   "source": [
    "#### Q3: How can you produce a list of facilities that charge a fee to members, where the fee is less than 20% of the facility's monthly maintenance cost? \n",
    "#### Return the facid, facility name, member cost, and monthly maintenance of the facilities in question."
   ]
  },
  {
   "cell_type": "markdown",
   "metadata": {
    "application/vnd.databricks.v1+cell": {
     "inputWidgets": {},
     "nuid": "6492df3d-449d-424d-8692-25cb30df4799",
     "showTitle": false,
     "title": ""
    }
   },
   "source": [
    "###### get all facilities meeting criteria"
   ]
  },
  {
   "cell_type": "code",
   "execution_count": 0,
   "metadata": {
    "application/vnd.databricks.v1+cell": {
     "inputWidgets": {},
     "nuid": "49208d48-2407-47be-b87d-2660340726bf",
     "showTitle": false,
     "title": ""
    }
   },
   "outputs": [
    {
     "data": {
      "text/html": [
       "<style scoped>\n",
       "  .table-result-container {\n",
       "    max-height: 300px;\n",
       "    overflow: auto;\n",
       "  }\n",
       "  table, th, td {\n",
       "    border: 1px solid black;\n",
       "    border-collapse: collapse;\n",
       "  }\n",
       "  th, td {\n",
       "    padding: 5px;\n",
       "  }\n",
       "  th {\n",
       "    text-align: left;\n",
       "  }\n",
       "</style><div class='table-result-container'><table class='table-result'><thead style='background-color: white'><tr><th>facid</th><th>name</th><th>membercost</th><th>guestcost</th><th>initialoutlay</th><th>monthlymaintenance</th></tr></thead><tbody><tr><td>0</td><td>Tennis Court 1</td><td>5.0</td><td>25.0</td><td>10000</td><td>200</td></tr><tr><td>1</td><td>Tennis Court 2</td><td>5.0</td><td>25.0</td><td>8000</td><td>200</td></tr><tr><td>2</td><td>Badminton Court</td><td>0.0</td><td>15.5</td><td>4000</td><td>50</td></tr><tr><td>3</td><td>Table Tennis</td><td>0.0</td><td>5.0</td><td>320</td><td>10</td></tr><tr><td>4</td><td>Massage Room 1</td><td>9.9</td><td>80.0</td><td>4000</td><td>3000</td></tr><tr><td>5</td><td>Massage Room 2</td><td>9.9</td><td>80.0</td><td>4000</td><td>3000</td></tr><tr><td>6</td><td>Squash Court</td><td>3.5</td><td>17.5</td><td>5000</td><td>80</td></tr><tr><td>7</td><td>Snooker Table</td><td>0.0</td><td>5.0</td><td>450</td><td>15</td></tr><tr><td>8</td><td>Pool Table</td><td>0.0</td><td>5.0</td><td>400</td><td>15</td></tr></tbody></table></div>"
      ]
     },
     "metadata": {
      "application/vnd.databricks.v1+output": {
       "addedWidgets": {},
       "aggData": [],
       "aggError": "",
       "aggOverflow": false,
       "aggSchema": [],
       "aggSeriesLimitReached": false,
       "aggType": "",
       "arguments": {},
       "columnCustomDisplayInfos": {},
       "data": [
        [
         0,
         "Tennis Court 1",
         5,
         25,
         10000,
         200
        ],
        [
         1,
         "Tennis Court 2",
         5,
         25,
         8000,
         200
        ],
        [
         2,
         "Badminton Court",
         0,
         15.5,
         4000,
         50
        ],
        [
         3,
         "Table Tennis",
         0,
         5,
         320,
         10
        ],
        [
         4,
         "Massage Room 1",
         9.9,
         80,
         4000,
         3000
        ],
        [
         5,
         "Massage Room 2",
         9.9,
         80,
         4000,
         3000
        ],
        [
         6,
         "Squash Court",
         3.5,
         17.5,
         5000,
         80
        ],
        [
         7,
         "Snooker Table",
         0,
         5,
         450,
         15
        ],
        [
         8,
         "Pool Table",
         0,
         5,
         400,
         15
        ]
       ],
       "datasetInfos": [],
       "dbfsResultPath": null,
       "isJsonSchema": true,
       "overflow": false,
       "plotOptions": {
        "customPlotOptions": {},
        "displayType": "table",
        "pivotAggregation": null,
        "pivotColumns": null,
        "xColumns": null,
        "yColumns": null
       },
       "removedWidgets": [],
       "schema": [
        {
         "metadata": "{}",
         "name": "facid",
         "type": "\"integer\""
        },
        {
         "metadata": "{}",
         "name": "name",
         "type": "\"string\""
        },
        {
         "metadata": "{}",
         "name": "membercost",
         "type": "\"double\""
        },
        {
         "metadata": "{}",
         "name": "guestcost",
         "type": "\"double\""
        },
        {
         "metadata": "{}",
         "name": "initialoutlay",
         "type": "\"integer\""
        },
        {
         "metadata": "{}",
         "name": "monthlymaintenance",
         "type": "\"integer\""
        }
       ],
       "type": "table"
      }
     },
     "output_type": "display_data"
    }
   ],
   "source": [
    "%sql\n",
    "select *\n",
    "  from facilities\n",
    "  where membercost < 0.20 * monthlymaintenance"
   ]
  },
  {
   "cell_type": "markdown",
   "metadata": {
    "application/vnd.databricks.v1+cell": {
     "inputWidgets": {},
     "nuid": "6ec7166f-919b-4f66-9b4a-429a5eaeec1b",
     "showTitle": false,
     "title": ""
    }
   },
   "source": [
    "###### Q3: ANSWER"
   ]
  },
  {
   "cell_type": "code",
   "execution_count": 0,
   "metadata": {
    "application/vnd.databricks.v1+cell": {
     "inputWidgets": {},
     "nuid": "ec06e1f9-45cf-4b12-9a0f-43701aa149ed",
     "showTitle": false,
     "title": ""
    }
   },
   "outputs": [
    {
     "data": {
      "text/html": [
       "<style scoped>\n",
       "  .table-result-container {\n",
       "    max-height: 300px;\n",
       "    overflow: auto;\n",
       "  }\n",
       "  table, th, td {\n",
       "    border: 1px solid black;\n",
       "    border-collapse: collapse;\n",
       "  }\n",
       "  th, td {\n",
       "    padding: 5px;\n",
       "  }\n",
       "  th {\n",
       "    text-align: left;\n",
       "  }\n",
       "</style><div class='table-result-container'><table class='table-result'><thead style='background-color: white'><tr><th>facid</th><th>name</th><th>membercost</th><th>monthlymaintenance</th></tr></thead><tbody><tr><td>0</td><td>Tennis Court 1</td><td>5.0</td><td>200</td></tr><tr><td>1</td><td>Tennis Court 2</td><td>5.0</td><td>200</td></tr><tr><td>4</td><td>Massage Room 1</td><td>9.9</td><td>3000</td></tr><tr><td>5</td><td>Massage Room 2</td><td>9.9</td><td>3000</td></tr><tr><td>6</td><td>Squash Court</td><td>3.5</td><td>80</td></tr></tbody></table></div>"
      ]
     },
     "metadata": {
      "application/vnd.databricks.v1+output": {
       "addedWidgets": {},
       "aggData": [],
       "aggError": "",
       "aggOverflow": false,
       "aggSchema": [],
       "aggSeriesLimitReached": false,
       "aggType": "",
       "arguments": {},
       "columnCustomDisplayInfos": {},
       "data": [
        [
         0,
         "Tennis Court 1",
         5,
         200
        ],
        [
         1,
         "Tennis Court 2",
         5,
         200
        ],
        [
         4,
         "Massage Room 1",
         9.9,
         3000
        ],
        [
         5,
         "Massage Room 2",
         9.9,
         3000
        ],
        [
         6,
         "Squash Court",
         3.5,
         80
        ]
       ],
       "datasetInfos": [],
       "dbfsResultPath": null,
       "isJsonSchema": true,
       "overflow": false,
       "plotOptions": {
        "customPlotOptions": {},
        "displayType": "table",
        "pivotAggregation": null,
        "pivotColumns": null,
        "xColumns": null,
        "yColumns": null
       },
       "removedWidgets": [],
       "schema": [
        {
         "metadata": "{}",
         "name": "facid",
         "type": "\"integer\""
        },
        {
         "metadata": "{}",
         "name": "name",
         "type": "\"string\""
        },
        {
         "metadata": "{}",
         "name": "membercost",
         "type": "\"double\""
        },
        {
         "metadata": "{}",
         "name": "monthlymaintenance",
         "type": "\"integer\""
        }
       ],
       "type": "table"
      }
     },
     "output_type": "display_data"
    }
   ],
   "source": [
    "%sql\n",
    "select facid, name, membercost, monthlymaintenance\n",
    "  from facilities\n",
    "  where membercost > 0 and membercost < 0.20 * monthlymaintenance"
   ]
  },
  {
   "cell_type": "code",
   "execution_count": 0,
   "metadata": {
    "application/vnd.databricks.v1+cell": {
     "inputWidgets": {},
     "nuid": "8baa0ccf-68bd-486c-b20a-7e9c92ef5c29",
     "showTitle": false,
     "title": ""
    }
   },
   "outputs": [],
   "source": []
  },
  {
   "cell_type": "markdown",
   "metadata": {
    "application/vnd.databricks.v1+cell": {
     "inputWidgets": {},
     "nuid": "c0031c68-65d8-4c6f-ab73-f63f223132e8",
     "showTitle": false,
     "title": ""
    }
   },
   "source": [
    "#### Q4: How can you retrieve the details of facilities with ID 1 and 5? Write the query without using the OR operator."
   ]
  },
  {
   "cell_type": "markdown",
   "metadata": {
    "application/vnd.databricks.v1+cell": {
     "inputWidgets": {},
     "nuid": "5ff2955d-fe34-4acd-ad80-c08db5a69f53",
     "showTitle": false,
     "title": ""
    }
   },
   "source": [
    "###### Q4: ANSWER"
   ]
  },
  {
   "cell_type": "code",
   "execution_count": 0,
   "metadata": {
    "application/vnd.databricks.v1+cell": {
     "inputWidgets": {},
     "nuid": "a3d53a1d-b169-4c9a-8f88-e3a27c7496f7",
     "showTitle": false,
     "title": ""
    }
   },
   "outputs": [
    {
     "data": {
      "text/html": [
       "<style scoped>\n",
       "  .table-result-container {\n",
       "    max-height: 300px;\n",
       "    overflow: auto;\n",
       "  }\n",
       "  table, th, td {\n",
       "    border: 1px solid black;\n",
       "    border-collapse: collapse;\n",
       "  }\n",
       "  th, td {\n",
       "    padding: 5px;\n",
       "  }\n",
       "  th {\n",
       "    text-align: left;\n",
       "  }\n",
       "</style><div class='table-result-container'><table class='table-result'><thead style='background-color: white'><tr><th>facid</th><th>name</th><th>membercost</th><th>guestcost</th><th>initialoutlay</th><th>monthlymaintenance</th></tr></thead><tbody><tr><td>1</td><td>Tennis Court 2</td><td>5.0</td><td>25.0</td><td>8000</td><td>200</td></tr><tr><td>5</td><td>Massage Room 2</td><td>9.9</td><td>80.0</td><td>4000</td><td>3000</td></tr></tbody></table></div>"
      ]
     },
     "metadata": {
      "application/vnd.databricks.v1+output": {
       "addedWidgets": {},
       "aggData": [],
       "aggError": "",
       "aggOverflow": false,
       "aggSchema": [],
       "aggSeriesLimitReached": false,
       "aggType": "",
       "arguments": {},
       "columnCustomDisplayInfos": {},
       "data": [
        [
         1,
         "Tennis Court 2",
         5,
         25,
         8000,
         200
        ],
        [
         5,
         "Massage Room 2",
         9.9,
         80,
         4000,
         3000
        ]
       ],
       "datasetInfos": [],
       "dbfsResultPath": null,
       "isJsonSchema": true,
       "overflow": false,
       "plotOptions": {
        "customPlotOptions": {},
        "displayType": "table",
        "pivotAggregation": null,
        "pivotColumns": null,
        "xColumns": null,
        "yColumns": null
       },
       "removedWidgets": [],
       "schema": [
        {
         "metadata": "{}",
         "name": "facid",
         "type": "\"integer\""
        },
        {
         "metadata": "{}",
         "name": "name",
         "type": "\"string\""
        },
        {
         "metadata": "{}",
         "name": "membercost",
         "type": "\"double\""
        },
        {
         "metadata": "{}",
         "name": "guestcost",
         "type": "\"double\""
        },
        {
         "metadata": "{}",
         "name": "initialoutlay",
         "type": "\"integer\""
        },
        {
         "metadata": "{}",
         "name": "monthlymaintenance",
         "type": "\"integer\""
        }
       ],
       "type": "table"
      }
     },
     "output_type": "display_data"
    }
   ],
   "source": [
    "%sql\n",
    "select *\n",
    "  from facilities\n",
    "  where facid in (1,5)"
   ]
  },
  {
   "cell_type": "code",
   "execution_count": 0,
   "metadata": {
    "application/vnd.databricks.v1+cell": {
     "inputWidgets": {},
     "nuid": "a0833046-e003-440e-a195-c1216a21c751",
     "showTitle": false,
     "title": ""
    }
   },
   "outputs": [],
   "source": []
  },
  {
   "cell_type": "markdown",
   "metadata": {
    "application/vnd.databricks.v1+cell": {
     "inputWidgets": {},
     "nuid": "83ac20e7-0edb-4203-ae00-df39342797c8",
     "showTitle": false,
     "title": ""
    }
   },
   "source": [
    "#### Q5: How can you produce a list of facilities, with each labelled as 'cheap' or 'expensive', depending on if their monthly maintenance cost is more than $100? \n",
    "#### Return the name and monthly maintenance of the facilities in question."
   ]
  },
  {
   "cell_type": "markdown",
   "metadata": {
    "application/vnd.databricks.v1+cell": {
     "inputWidgets": {},
     "nuid": "4871e53c-190f-438d-b893-7728878881f3",
     "showTitle": false,
     "title": ""
    }
   },
   "source": [
    "###### Q5: ANSWER"
   ]
  },
  {
   "cell_type": "code",
   "execution_count": 0,
   "metadata": {
    "application/vnd.databricks.v1+cell": {
     "inputWidgets": {},
     "nuid": "ee32c190-7433-4191-8553-8e83abf00df3",
     "showTitle": false,
     "title": ""
    }
   },
   "outputs": [
    {
     "data": {
      "text/html": [
       "<style scoped>\n",
       "  .table-result-container {\n",
       "    max-height: 300px;\n",
       "    overflow: auto;\n",
       "  }\n",
       "  table, th, td {\n",
       "    border: 1px solid black;\n",
       "    border-collapse: collapse;\n",
       "  }\n",
       "  th, td {\n",
       "    padding: 5px;\n",
       "  }\n",
       "  th {\n",
       "    text-align: left;\n",
       "  }\n",
       "</style><div class='table-result-container'><table class='table-result'><thead style='background-color: white'><tr><th>name</th><th>monthlymaintenance</th><th>cost_label</th></tr></thead><tbody><tr><td>Tennis Court 1</td><td>200</td><td>expensive</td></tr><tr><td>Tennis Court 2</td><td>200</td><td>expensive</td></tr><tr><td>Badminton Court</td><td>50</td><td>cheap</td></tr><tr><td>Table Tennis</td><td>10</td><td>cheap</td></tr><tr><td>Massage Room 1</td><td>3000</td><td>expensive</td></tr><tr><td>Massage Room 2</td><td>3000</td><td>expensive</td></tr><tr><td>Squash Court</td><td>80</td><td>cheap</td></tr><tr><td>Snooker Table</td><td>15</td><td>cheap</td></tr><tr><td>Pool Table</td><td>15</td><td>cheap</td></tr></tbody></table></div>"
      ]
     },
     "metadata": {
      "application/vnd.databricks.v1+output": {
       "addedWidgets": {},
       "aggData": [],
       "aggError": "",
       "aggOverflow": false,
       "aggSchema": [],
       "aggSeriesLimitReached": false,
       "aggType": "",
       "arguments": {},
       "columnCustomDisplayInfos": {},
       "data": [
        [
         "Tennis Court 1",
         200,
         "expensive"
        ],
        [
         "Tennis Court 2",
         200,
         "expensive"
        ],
        [
         "Badminton Court",
         50,
         "cheap"
        ],
        [
         "Table Tennis",
         10,
         "cheap"
        ],
        [
         "Massage Room 1",
         3000,
         "expensive"
        ],
        [
         "Massage Room 2",
         3000,
         "expensive"
        ],
        [
         "Squash Court",
         80,
         "cheap"
        ],
        [
         "Snooker Table",
         15,
         "cheap"
        ],
        [
         "Pool Table",
         15,
         "cheap"
        ]
       ],
       "datasetInfos": [],
       "dbfsResultPath": null,
       "isJsonSchema": true,
       "overflow": false,
       "plotOptions": {
        "customPlotOptions": {},
        "displayType": "table",
        "pivotAggregation": null,
        "pivotColumns": null,
        "xColumns": null,
        "yColumns": null
       },
       "removedWidgets": [],
       "schema": [
        {
         "metadata": "{}",
         "name": "name",
         "type": "\"string\""
        },
        {
         "metadata": "{}",
         "name": "monthlymaintenance",
         "type": "\"integer\""
        },
        {
         "metadata": "{}",
         "name": "cost_label",
         "type": "\"string\""
        }
       ],
       "type": "table"
      }
     },
     "output_type": "display_data"
    }
   ],
   "source": [
    "%sql\n",
    "select name, monthlymaintenance,\n",
    "       case when monthlymaintenance > 100 then 'expensive'\n",
    "       else 'cheap' end as cost_label\n",
    "  from facilities"
   ]
  },
  {
   "cell_type": "code",
   "execution_count": 0,
   "metadata": {
    "application/vnd.databricks.v1+cell": {
     "inputWidgets": {},
     "nuid": "b4fd3808-4533-4fae-a83a-505c419f6b48",
     "showTitle": false,
     "title": ""
    }
   },
   "outputs": [],
   "source": []
  },
  {
   "cell_type": "markdown",
   "metadata": {
    "application/vnd.databricks.v1+cell": {
     "inputWidgets": {},
     "nuid": "c9b20851-d7e2-4979-b27a-08b66a320225",
     "showTitle": false,
     "title": ""
    }
   },
   "source": [
    "#### Q6: You'd like to get the first and last name of the last member(s) who signed up. Do not use the LIMIT clause for your solution."
   ]
  },
  {
   "cell_type": "markdown",
   "metadata": {
    "application/vnd.databricks.v1+cell": {
     "inputWidgets": {},
     "nuid": "a04c271e-0f2d-4a20-8e70-de40ba07067b",
     "showTitle": false,
     "title": ""
    }
   },
   "source": [
    "###### get list of members and their sign-up date"
   ]
  },
  {
   "cell_type": "code",
   "execution_count": 0,
   "metadata": {
    "application/vnd.databricks.v1+cell": {
     "inputWidgets": {},
     "nuid": "c2196a4f-0e37-44a6-a794-9b7b9aac1b00",
     "showTitle": false,
     "title": ""
    }
   },
   "outputs": [
    {
     "data": {
      "text/html": [
       "<style scoped>\n",
       "  .table-result-container {\n",
       "    max-height: 300px;\n",
       "    overflow: auto;\n",
       "  }\n",
       "  table, th, td {\n",
       "    border: 1px solid black;\n",
       "    border-collapse: collapse;\n",
       "  }\n",
       "  th, td {\n",
       "    padding: 5px;\n",
       "  }\n",
       "  th {\n",
       "    text-align: left;\n",
       "  }\n",
       "</style><div class='table-result-container'><table class='table-result'><thead style='background-color: white'><tr><th>surname</th><th>firstname</th><th>joindate</th></tr></thead><tbody><tr><td>GUEST</td><td>GUEST</td><td>2012-07-01 00:00:00</td></tr><tr><td>Smith</td><td>Darren</td><td>2012-07-02 12:02:05</td></tr><tr><td>Smith</td><td>Tracy</td><td>2012-07-02 12:08:23</td></tr><tr><td>Rownam</td><td>Tim</td><td>2012-07-03 09:32:15</td></tr><tr><td>Joplette</td><td>Janice</td><td>2012-07-03 10:25:05</td></tr><tr><td>Butters</td><td>Gerald</td><td>2012-07-09 10:44:09</td></tr><tr><td>Tracy</td><td>Burton</td><td>2012-07-15 08:52:55</td></tr><tr><td>Dare</td><td>Nancy</td><td>2012-07-25 08:59:12</td></tr><tr><td>Boothe</td><td>Tim</td><td>2012-07-25 16:02:35</td></tr><tr><td>Stibbons</td><td>Ponder</td><td>2012-07-25 17:09:05</td></tr><tr><td>Owen</td><td>Charles</td><td>2012-08-03 19:42:37</td></tr><tr><td>Jones</td><td>David</td><td>2012-08-06 16:32:55</td></tr><tr><td>Baker</td><td>Anne</td><td>2012-08-10 14:23:22</td></tr><tr><td>Farrell</td><td>Jemima</td><td>2012-08-10 14:28:01</td></tr><tr><td>Smith</td><td>Jack</td><td>2012-08-10 16:22:05</td></tr><tr><td>Bader</td><td>Florence</td><td>2012-08-10 17:52:03</td></tr><tr><td>Baker</td><td>Timothy</td><td>2012-08-15 10:34:25</td></tr><tr><td>Pinker</td><td>David</td><td>2012-08-16 11:32:47</td></tr><tr><td>Genting</td><td>Matthew</td><td>2012-08-19 14:55:55</td></tr><tr><td>Mackenzie</td><td>Anna</td><td>2012-08-26 09:32:05</td></tr><tr><td>Coplin</td><td>Joan</td><td>2012-08-29 08:32:41</td></tr><tr><td>Sarwin</td><td>Ramnaresh</td><td>2012-09-01 08:44:42</td></tr><tr><td>Jones</td><td>Douglas</td><td>2012-09-02 18:43:05</td></tr><tr><td>Rumney</td><td>Henrietta</td><td>2012-09-05 08:42:35</td></tr><tr><td>Farrell</td><td>David</td><td>2012-09-15 08:22:05</td></tr><tr><td>Worthington-Smyth</td><td>Henry</td><td>2012-09-17 12:27:15</td></tr><tr><td>Purview</td><td>Millicent</td><td>2012-09-18 19:04:01</td></tr><tr><td>Tupperware</td><td>Hyacinth</td><td>2012-09-18 19:32:05</td></tr><tr><td>Hunt</td><td>John</td><td>2012-09-19 11:32:45</td></tr><tr><td>Crumpet</td><td>Erica</td><td>2012-09-22 08:36:38</td></tr><tr><td>Smith</td><td>Darren</td><td>2012-09-26 18:08:45</td></tr></tbody></table></div>"
      ]
     },
     "metadata": {
      "application/vnd.databricks.v1+output": {
       "addedWidgets": {},
       "aggData": [],
       "aggError": "",
       "aggOverflow": false,
       "aggSchema": [],
       "aggSeriesLimitReached": false,
       "aggType": "",
       "arguments": {},
       "columnCustomDisplayInfos": {},
       "data": [
        [
         "GUEST",
         "GUEST",
         "2012-07-01 00:00:00"
        ],
        [
         "Smith",
         "Darren",
         "2012-07-02 12:02:05"
        ],
        [
         "Smith",
         "Tracy",
         "2012-07-02 12:08:23"
        ],
        [
         "Rownam",
         "Tim",
         "2012-07-03 09:32:15"
        ],
        [
         "Joplette",
         "Janice",
         "2012-07-03 10:25:05"
        ],
        [
         "Butters",
         "Gerald",
         "2012-07-09 10:44:09"
        ],
        [
         "Tracy",
         "Burton",
         "2012-07-15 08:52:55"
        ],
        [
         "Dare",
         "Nancy",
         "2012-07-25 08:59:12"
        ],
        [
         "Boothe",
         "Tim",
         "2012-07-25 16:02:35"
        ],
        [
         "Stibbons",
         "Ponder",
         "2012-07-25 17:09:05"
        ],
        [
         "Owen",
         "Charles",
         "2012-08-03 19:42:37"
        ],
        [
         "Jones",
         "David",
         "2012-08-06 16:32:55"
        ],
        [
         "Baker",
         "Anne",
         "2012-08-10 14:23:22"
        ],
        [
         "Farrell",
         "Jemima",
         "2012-08-10 14:28:01"
        ],
        [
         "Smith",
         "Jack",
         "2012-08-10 16:22:05"
        ],
        [
         "Bader",
         "Florence",
         "2012-08-10 17:52:03"
        ],
        [
         "Baker",
         "Timothy",
         "2012-08-15 10:34:25"
        ],
        [
         "Pinker",
         "David",
         "2012-08-16 11:32:47"
        ],
        [
         "Genting",
         "Matthew",
         "2012-08-19 14:55:55"
        ],
        [
         "Mackenzie",
         "Anna",
         "2012-08-26 09:32:05"
        ],
        [
         "Coplin",
         "Joan",
         "2012-08-29 08:32:41"
        ],
        [
         "Sarwin",
         "Ramnaresh",
         "2012-09-01 08:44:42"
        ],
        [
         "Jones",
         "Douglas",
         "2012-09-02 18:43:05"
        ],
        [
         "Rumney",
         "Henrietta",
         "2012-09-05 08:42:35"
        ],
        [
         "Farrell",
         "David",
         "2012-09-15 08:22:05"
        ],
        [
         "Worthington-Smyth",
         "Henry",
         "2012-09-17 12:27:15"
        ],
        [
         "Purview",
         "Millicent",
         "2012-09-18 19:04:01"
        ],
        [
         "Tupperware",
         "Hyacinth",
         "2012-09-18 19:32:05"
        ],
        [
         "Hunt",
         "John",
         "2012-09-19 11:32:45"
        ],
        [
         "Crumpet",
         "Erica",
         "2012-09-22 08:36:38"
        ],
        [
         "Smith",
         "Darren",
         "2012-09-26 18:08:45"
        ]
       ],
       "datasetInfos": [],
       "dbfsResultPath": null,
       "isJsonSchema": true,
       "overflow": false,
       "plotOptions": {
        "customPlotOptions": {},
        "displayType": "table",
        "pivotAggregation": null,
        "pivotColumns": null,
        "xColumns": null,
        "yColumns": null
       },
       "removedWidgets": [],
       "schema": [
        {
         "metadata": "{}",
         "name": "surname",
         "type": "\"string\""
        },
        {
         "metadata": "{}",
         "name": "firstname",
         "type": "\"string\""
        },
        {
         "metadata": "{}",
         "name": "joindate",
         "type": "\"string\""
        }
       ],
       "type": "table"
      }
     },
     "output_type": "display_data"
    }
   ],
   "source": [
    "%sql\n",
    "select surname, firstname, joindate\n",
    "  from members"
   ]
  },
  {
   "cell_type": "markdown",
   "metadata": {
    "application/vnd.databricks.v1+cell": {
     "inputWidgets": {},
     "nuid": "2200c79a-d270-4251-98cc-05e666f78da9",
     "showTitle": false,
     "title": ""
    }
   },
   "source": [
    "###### find most recent sign-up date"
   ]
  },
  {
   "cell_type": "code",
   "execution_count": 0,
   "metadata": {
    "application/vnd.databricks.v1+cell": {
     "inputWidgets": {},
     "nuid": "3062bee0-9de6-4d05-b2b1-cfacdfb3cfca",
     "showTitle": false,
     "title": ""
    }
   },
   "outputs": [
    {
     "data": {
      "text/html": [
       "<style scoped>\n",
       "  .table-result-container {\n",
       "    max-height: 300px;\n",
       "    overflow: auto;\n",
       "  }\n",
       "  table, th, td {\n",
       "    border: 1px solid black;\n",
       "    border-collapse: collapse;\n",
       "  }\n",
       "  th, td {\n",
       "    padding: 5px;\n",
       "  }\n",
       "  th {\n",
       "    text-align: left;\n",
       "  }\n",
       "</style><div class='table-result-container'><table class='table-result'><thead style='background-color: white'><tr><th>max_date</th></tr></thead><tbody><tr><td>2012-09-26 18:08:45</td></tr></tbody></table></div>"
      ]
     },
     "metadata": {
      "application/vnd.databricks.v1+output": {
       "addedWidgets": {},
       "aggData": [],
       "aggError": "",
       "aggOverflow": false,
       "aggSchema": [],
       "aggSeriesLimitReached": false,
       "aggType": "",
       "arguments": {},
       "columnCustomDisplayInfos": {},
       "data": [
        [
         "2012-09-26 18:08:45"
        ]
       ],
       "datasetInfos": [],
       "dbfsResultPath": null,
       "isJsonSchema": true,
       "overflow": false,
       "plotOptions": {
        "customPlotOptions": {},
        "displayType": "table",
        "pivotAggregation": null,
        "pivotColumns": null,
        "xColumns": null,
        "yColumns": null
       },
       "removedWidgets": [],
       "schema": [
        {
         "metadata": "{}",
         "name": "max_date",
         "type": "\"string\""
        }
       ],
       "type": "table"
      }
     },
     "output_type": "display_data"
    }
   ],
   "source": [
    "%sql\n",
    "select max(joindate) as max_date\n",
    "  from members"
   ]
  },
  {
   "cell_type": "markdown",
   "metadata": {
    "application/vnd.databricks.v1+cell": {
     "inputWidgets": {},
     "nuid": "13459c20-6f5d-497e-87c9-f2cd9d4e8968",
     "showTitle": false,
     "title": ""
    }
   },
   "source": [
    "###### this approach to answer give performance warning"
   ]
  },
  {
   "cell_type": "code",
   "execution_count": 0,
   "metadata": {
    "application/vnd.databricks.v1+cell": {
     "inputWidgets": {},
     "nuid": "de54d076-e883-4db0-90ac-8a9a4c9076b8",
     "showTitle": false,
     "title": ""
    }
   },
   "outputs": [
    {
     "data": {
      "text/html": [
       "<style scoped>\n",
       "  .table-result-container {\n",
       "    max-height: 300px;\n",
       "    overflow: auto;\n",
       "  }\n",
       "  table, th, td {\n",
       "    border: 1px solid black;\n",
       "    border-collapse: collapse;\n",
       "  }\n",
       "  th, td {\n",
       "    padding: 5px;\n",
       "  }\n",
       "  th {\n",
       "    text-align: left;\n",
       "  }\n",
       "</style><div class='table-result-container'><table class='table-result'><thead style='background-color: white'><tr><th>surname</th><th>firstname</th><th>joindate</th></tr></thead><tbody><tr><td>Smith</td><td>Darren</td><td>2012-09-26 18:08:45</td></tr></tbody></table></div>"
      ]
     },
     "metadata": {
      "application/vnd.databricks.v1+output": {
       "addedWidgets": {},
       "aggData": [],
       "aggError": "",
       "aggOverflow": false,
       "aggSchema": [],
       "aggSeriesLimitReached": false,
       "aggType": "",
       "arguments": {},
       "columnCustomDisplayInfos": {},
       "data": [
        [
         "Smith",
         "Darren",
         "2012-09-26 18:08:45"
        ]
       ],
       "datasetInfos": [],
       "dbfsResultPath": null,
       "isJsonSchema": true,
       "overflow": false,
       "plotOptions": {
        "customPlotOptions": {},
        "displayType": "table",
        "pivotAggregation": null,
        "pivotColumns": null,
        "xColumns": null,
        "yColumns": null
       },
       "removedWidgets": [],
       "schema": [
        {
         "metadata": "{}",
         "name": "surname",
         "type": "\"string\""
        },
        {
         "metadata": "{}",
         "name": "firstname",
         "type": "\"string\""
        },
        {
         "metadata": "{}",
         "name": "joindate",
         "type": "\"string\""
        }
       ],
       "type": "table"
      }
     },
     "output_type": "display_data"
    }
   ],
   "source": [
    "%sql\n",
    "select surname, firstname, joindate\n",
    "  from members\n",
    "  where joindate = (select max(joindate) from members)"
   ]
  },
  {
   "cell_type": "markdown",
   "metadata": {
    "application/vnd.databricks.v1+cell": {
     "inputWidgets": {},
     "nuid": "e9f9586e-fa5a-4b9a-ae97-deb645b5d73d",
     "showTitle": false,
     "title": ""
    }
   },
   "source": [
    "###### Q6: ANSWER (no performance warning)"
   ]
  },
  {
   "cell_type": "code",
   "execution_count": 0,
   "metadata": {
    "application/vnd.databricks.v1+cell": {
     "inputWidgets": {},
     "nuid": "9c2b09fe-7cdc-4c4d-bf5a-22d84a6cc696",
     "showTitle": false,
     "title": ""
    }
   },
   "outputs": [
    {
     "data": {
      "text/html": [
       "<style scoped>\n",
       "  .table-result-container {\n",
       "    max-height: 300px;\n",
       "    overflow: auto;\n",
       "  }\n",
       "  table, th, td {\n",
       "    border: 1px solid black;\n",
       "    border-collapse: collapse;\n",
       "  }\n",
       "  th, td {\n",
       "    padding: 5px;\n",
       "  }\n",
       "  th {\n",
       "    text-align: left;\n",
       "  }\n",
       "</style><div class='table-result-container'><table class='table-result'><thead style='background-color: white'><tr><th>surname</th><th>firstname</th><th>joindate</th></tr></thead><tbody><tr><td>Smith</td><td>Darren</td><td>2012-09-26 18:08:45</td></tr></tbody></table></div>"
      ]
     },
     "metadata": {
      "application/vnd.databricks.v1+output": {
       "addedWidgets": {},
       "aggData": [],
       "aggError": "",
       "aggOverflow": false,
       "aggSchema": [],
       "aggSeriesLimitReached": false,
       "aggType": "",
       "arguments": {},
       "columnCustomDisplayInfos": {},
       "data": [
        [
         "Smith",
         "Darren",
         "2012-09-26 18:08:45"
        ]
       ],
       "datasetInfos": [],
       "dbfsResultPath": null,
       "isJsonSchema": true,
       "overflow": false,
       "plotOptions": {
        "customPlotOptions": {},
        "displayType": "table",
        "pivotAggregation": null,
        "pivotColumns": null,
        "xColumns": null,
        "yColumns": null
       },
       "removedWidgets": [],
       "schema": [
        {
         "metadata": "{}",
         "name": "surname",
         "type": "\"string\""
        },
        {
         "metadata": "{}",
         "name": "firstname",
         "type": "\"string\""
        },
        {
         "metadata": "{}",
         "name": "joindate",
         "type": "\"string\""
        }
       ],
       "type": "table"
      }
     },
     "output_type": "display_data"
    }
   ],
   "source": [
    "%sql\n",
    "select surname, firstname, joindate\n",
    "from members\n",
    "where joindate in (select max(joindate) from members)"
   ]
  },
  {
   "cell_type": "code",
   "execution_count": 0,
   "metadata": {
    "application/vnd.databricks.v1+cell": {
     "inputWidgets": {},
     "nuid": "bf7a352f-666c-471c-b690-f57016586f3e",
     "showTitle": false,
     "title": ""
    }
   },
   "outputs": [],
   "source": []
  },
  {
   "cell_type": "markdown",
   "metadata": {
    "application/vnd.databricks.v1+cell": {
     "inputWidgets": {},
     "nuid": "90ef5ce8-ddaf-4d06-8d00-2a3c8ef7daf2",
     "showTitle": false,
     "title": ""
    }
   },
   "source": [
    "####  Q7: How can you produce a list of all members who have used a tennis court?\n",
    "- Include in your output the name of the court, and the name of the member formatted as a single column. \n",
    "- Ensure no duplicate data\n",
    "- Also order by the member name."
   ]
  },
  {
   "cell_type": "markdown",
   "metadata": {
    "application/vnd.databricks.v1+cell": {
     "inputWidgets": {},
     "nuid": "df506e1f-be55-43ff-8aae-3bc8348e75f0",
     "showTitle": false,
     "title": ""
    }
   },
   "source": [
    "###### get list of tennis court facilities"
   ]
  },
  {
   "cell_type": "code",
   "execution_count": 0,
   "metadata": {
    "application/vnd.databricks.v1+cell": {
     "inputWidgets": {},
     "nuid": "76fa4a20-ee67-4ba4-bbca-9d6fb5329069",
     "showTitle": false,
     "title": ""
    }
   },
   "outputs": [
    {
     "data": {
      "text/html": [
       "<style scoped>\n",
       "  .table-result-container {\n",
       "    max-height: 300px;\n",
       "    overflow: auto;\n",
       "  }\n",
       "  table, th, td {\n",
       "    border: 1px solid black;\n",
       "    border-collapse: collapse;\n",
       "  }\n",
       "  th, td {\n",
       "    padding: 5px;\n",
       "  }\n",
       "  th {\n",
       "    text-align: left;\n",
       "  }\n",
       "</style><div class='table-result-container'><table class='table-result'><thead style='background-color: white'><tr><th>facid</th><th>name</th><th>membercost</th><th>guestcost</th><th>initialoutlay</th><th>monthlymaintenance</th></tr></thead><tbody><tr><td>0</td><td>Tennis Court 1</td><td>5.0</td><td>25.0</td><td>10000</td><td>200</td></tr><tr><td>1</td><td>Tennis Court 2</td><td>5.0</td><td>25.0</td><td>8000</td><td>200</td></tr></tbody></table></div>"
      ]
     },
     "metadata": {
      "application/vnd.databricks.v1+output": {
       "addedWidgets": {},
       "aggData": [],
       "aggError": "",
       "aggOverflow": false,
       "aggSchema": [],
       "aggSeriesLimitReached": false,
       "aggType": "",
       "arguments": {},
       "columnCustomDisplayInfos": {},
       "data": [
        [
         0,
         "Tennis Court 1",
         5,
         25,
         10000,
         200
        ],
        [
         1,
         "Tennis Court 2",
         5,
         25,
         8000,
         200
        ]
       ],
       "datasetInfos": [],
       "dbfsResultPath": null,
       "isJsonSchema": true,
       "overflow": false,
       "plotOptions": {
        "customPlotOptions": {},
        "displayType": "table",
        "pivotAggregation": null,
        "pivotColumns": null,
        "xColumns": null,
        "yColumns": null
       },
       "removedWidgets": [],
       "schema": [
        {
         "metadata": "{}",
         "name": "facid",
         "type": "\"integer\""
        },
        {
         "metadata": "{}",
         "name": "name",
         "type": "\"string\""
        },
        {
         "metadata": "{}",
         "name": "membercost",
         "type": "\"double\""
        },
        {
         "metadata": "{}",
         "name": "guestcost",
         "type": "\"double\""
        },
        {
         "metadata": "{}",
         "name": "initialoutlay",
         "type": "\"integer\""
        },
        {
         "metadata": "{}",
         "name": "monthlymaintenance",
         "type": "\"integer\""
        }
       ],
       "type": "table"
      }
     },
     "output_type": "display_data"
    }
   ],
   "source": [
    "%sql\n",
    "select *\n",
    "  from facilities\n",
    "  where name like '%Tennis Court%'"
   ]
  },
  {
   "cell_type": "markdown",
   "metadata": {
    "application/vnd.databricks.v1+cell": {
     "inputWidgets": {},
     "nuid": "bda7fbb4-e8c0-4fc0-b4c1-27fe48330907",
     "showTitle": false,
     "title": ""
    }
   },
   "source": [
    "###### add column for full member name"
   ]
  },
  {
   "cell_type": "code",
   "execution_count": 0,
   "metadata": {
    "application/vnd.databricks.v1+cell": {
     "inputWidgets": {},
     "nuid": "39f474cb-a6fd-4063-bfa3-b892c6e62b5b",
     "showTitle": false,
     "title": ""
    }
   },
   "outputs": [
    {
     "data": {
      "text/html": [
       "<style scoped>\n",
       "  .table-result-container {\n",
       "    max-height: 300px;\n",
       "    overflow: auto;\n",
       "  }\n",
       "  table, th, td {\n",
       "    border: 1px solid black;\n",
       "    border-collapse: collapse;\n",
       "  }\n",
       "  th, td {\n",
       "    padding: 5px;\n",
       "  }\n",
       "  th {\n",
       "    text-align: left;\n",
       "  }\n",
       "</style><div class='table-result-container'><table class='table-result'><thead style='background-color: white'><tr><th>memid</th><th>zipcode</th><th>surname</th><th>firstname</th><th>temp_value</th><th>full_name</th></tr></thead><tbody><tr><td>0</td><td>0</td><td>GUEST</td><td>GUEST</td><td>0</td><td>GUEST GUEST</td></tr><tr><td>1</td><td>4321</td><td>Smith</td><td>Darren</td><td>4322</td><td>Darren Smith</td></tr><tr><td>2</td><td>4321</td><td>Smith</td><td>Tracy</td><td>4323</td><td>Tracy Smith</td></tr><tr><td>3</td><td>23423</td><td>Rownam</td><td>Tim</td><td>23426</td><td>Tim Rownam</td></tr><tr><td>4</td><td>234</td><td>Joplette</td><td>Janice</td><td>238</td><td>Janice Joplette</td></tr></tbody></table></div>"
      ]
     },
     "metadata": {
      "application/vnd.databricks.v1+output": {
       "addedWidgets": {},
       "aggData": [],
       "aggError": "",
       "aggOverflow": false,
       "aggSchema": [],
       "aggSeriesLimitReached": false,
       "aggType": "",
       "arguments": {},
       "columnCustomDisplayInfos": {},
       "data": [
        [
         0,
         0,
         "GUEST",
         "GUEST",
         0,
         "GUEST GUEST"
        ],
        [
         1,
         4321,
         "Smith",
         "Darren",
         4322,
         "Darren Smith"
        ],
        [
         2,
         4321,
         "Smith",
         "Tracy",
         4323,
         "Tracy Smith"
        ],
        [
         3,
         23423,
         "Rownam",
         "Tim",
         23426,
         "Tim Rownam"
        ],
        [
         4,
         234,
         "Joplette",
         "Janice",
         238,
         "Janice Joplette"
        ]
       ],
       "datasetInfos": [],
       "dbfsResultPath": null,
       "isJsonSchema": true,
       "overflow": false,
       "plotOptions": {
        "customPlotOptions": {},
        "displayType": "table",
        "pivotAggregation": null,
        "pivotColumns": null,
        "xColumns": null,
        "yColumns": null
       },
       "removedWidgets": [],
       "schema": [
        {
         "metadata": "{}",
         "name": "memid",
         "type": "\"integer\""
        },
        {
         "metadata": "{}",
         "name": "zipcode",
         "type": "\"integer\""
        },
        {
         "metadata": "{}",
         "name": "surname",
         "type": "\"string\""
        },
        {
         "metadata": "{}",
         "name": "firstname",
         "type": "\"string\""
        },
        {
         "metadata": "{}",
         "name": "temp_value",
         "type": "\"integer\""
        },
        {
         "metadata": "{}",
         "name": "full_name",
         "type": "\"string\""
        }
       ],
       "type": "table"
      }
     },
     "output_type": "display_data"
    }
   ],
   "source": [
    "%sql\n",
    "select memid, zipcode, surname, firstname,\n",
    "       (memid + zipcode) as temp_value,\n",
    "       concat_ws(' ', firstname,surname) as full_name\n",
    "  from members\n",
    "  limit 5"
   ]
  },
  {
   "cell_type": "markdown",
   "metadata": {
    "application/vnd.databricks.v1+cell": {
     "inputWidgets": {},
     "nuid": "7cefd3bc-51ef-4308-beb7-b41b39086731",
     "showTitle": false,
     "title": ""
    }
   },
   "source": [
    "###### join bookings and facilities"
   ]
  },
  {
   "cell_type": "code",
   "execution_count": 0,
   "metadata": {
    "application/vnd.databricks.v1+cell": {
     "inputWidgets": {},
     "nuid": "bb8d0828-d3b2-4dc0-95b7-f8e4511ceb67",
     "showTitle": false,
     "title": ""
    }
   },
   "outputs": [
    {
     "data": {
      "text/html": [
       "<style scoped>\n",
       "  .table-result-container {\n",
       "    max-height: 300px;\n",
       "    overflow: auto;\n",
       "  }\n",
       "  table, th, td {\n",
       "    border: 1px solid black;\n",
       "    border-collapse: collapse;\n",
       "  }\n",
       "  th, td {\n",
       "    padding: 5px;\n",
       "  }\n",
       "  th {\n",
       "    text-align: left;\n",
       "  }\n",
       "</style><div class='table-result-container'><table class='table-result'><thead style='background-color: white'><tr><th>b_facid</th><th>memid</th><th>f_facid</th><th>name</th></tr></thead><tbody><tr><td>0</td><td>2</td><td>0</td><td>Tennis Court 1</td></tr><tr><td>0</td><td>2</td><td>0</td><td>Tennis Court 1</td></tr><tr><td>1</td><td>0</td><td>1</td><td>Tennis Court 2</td></tr><tr><td>0</td><td>0</td><td>0</td><td>Tennis Court 1</td></tr><tr><td>0</td><td>0</td><td>0</td><td>Tennis Court 1</td></tr><tr><td>0</td><td>2</td><td>0</td><td>Tennis Court 1</td></tr><tr><td>0</td><td>2</td><td>0</td><td>Tennis Court 1</td></tr><tr><td>0</td><td>0</td><td>0</td><td>Tennis Court 1</td></tr><tr><td>0</td><td>2</td><td>0</td><td>Tennis Court 1</td></tr><tr><td>1</td><td>3</td><td>1</td><td>Tennis Court 2</td></tr><tr><td>0</td><td>3</td><td>0</td><td>Tennis Court 1</td></tr><tr><td>0</td><td>2</td><td>0</td><td>Tennis Court 1</td></tr><tr><td>1</td><td>1</td><td>1</td><td>Tennis Court 2</td></tr><tr><td>1</td><td>1</td><td>1</td><td>Tennis Court 2</td></tr><tr><td>0</td><td>2</td><td>0</td><td>Tennis Court 1</td></tr><tr><td>0</td><td>2</td><td>0</td><td>Tennis Court 1</td></tr><tr><td>0</td><td>2</td><td>0</td><td>Tennis Court 1</td></tr><tr><td>1</td><td>0</td><td>1</td><td>Tennis Court 2</td></tr><tr><td>1</td><td>1</td><td>1</td><td>Tennis Court 2</td></tr><tr><td>0</td><td>0</td><td>0</td><td>Tennis Court 1</td></tr><tr><td>0</td><td>0</td><td>0</td><td>Tennis Court 1</td></tr><tr><td>0</td><td>4</td><td>0</td><td>Tennis Court 1</td></tr><tr><td>0</td><td>2</td><td>0</td><td>Tennis Court 1</td></tr><tr><td>0</td><td>0</td><td>0</td><td>Tennis Court 1</td></tr><tr><td>0</td><td>0</td><td>0</td><td>Tennis Court 1</td></tr><tr><td>0</td><td>2</td><td>0</td><td>Tennis Court 1</td></tr><tr><td>0</td><td>2</td><td>0</td><td>Tennis Court 1</td></tr><tr><td>1</td><td>0</td><td>1</td><td>Tennis Court 2</td></tr><tr><td>1</td><td>0</td><td>1</td><td>Tennis Court 2</td></tr><tr><td>0</td><td>0</td><td>0</td><td>Tennis Court 1</td></tr><tr><td>0</td><td>2</td><td>0</td><td>Tennis Court 1</td></tr><tr><td>1</td><td>1</td><td>1</td><td>Tennis Court 2</td></tr><tr><td>0</td><td>2</td><td>0</td><td>Tennis Court 1</td></tr><tr><td>0</td><td>4</td><td>0</td><td>Tennis Court 1</td></tr><tr><td>0</td><td>3</td><td>0</td><td>Tennis Court 1</td></tr><tr><td>1</td><td>1</td><td>1</td><td>Tennis Court 2</td></tr><tr><td>0</td><td>2</td><td>0</td><td>Tennis Court 1</td></tr><tr><td>0</td><td>4</td><td>0</td><td>Tennis Court 1</td></tr><tr><td>0</td><td>3</td><td>0</td><td>Tennis Court 1</td></tr><tr><td>1</td><td>3</td><td>1</td><td>Tennis Court 2</td></tr><tr><td>1</td><td>3</td><td>1</td><td>Tennis Court 2</td></tr><tr><td>1</td><td>0</td><td>1</td><td>Tennis Court 2</td></tr><tr><td>0</td><td>2</td><td>0</td><td>Tennis Court 1</td></tr><tr><td>0</td><td>0</td><td>0</td><td>Tennis Court 1</td></tr><tr><td>0</td><td>2</td><td>0</td><td>Tennis Court 1</td></tr><tr><td>1</td><td>0</td><td>1</td><td>Tennis Court 2</td></tr><tr><td>1</td><td>0</td><td>1</td><td>Tennis Court 2</td></tr><tr><td>1</td><td>3</td><td>1</td><td>Tennis Court 2</td></tr><tr><td>0</td><td>5</td><td>0</td><td>Tennis Court 1</td></tr><tr><td>0</td><td>5</td><td>0</td><td>Tennis Court 1</td></tr><tr><td>1</td><td>1</td><td>1</td><td>Tennis Court 2</td></tr><tr><td>1</td><td>0</td><td>1</td><td>Tennis Court 2</td></tr><tr><td>0</td><td>5</td><td>0</td><td>Tennis Court 1</td></tr><tr><td>0</td><td>5</td><td>0</td><td>Tennis Court 1</td></tr><tr><td>1</td><td>1</td><td>1</td><td>Tennis Court 2</td></tr><tr><td>1</td><td>4</td><td>1</td><td>Tennis Court 2</td></tr><tr><td>0</td><td>5</td><td>0</td><td>Tennis Court 1</td></tr><tr><td>0</td><td>5</td><td>0</td><td>Tennis Court 1</td></tr><tr><td>1</td><td>0</td><td>1</td><td>Tennis Court 2</td></tr><tr><td>1</td><td>0</td><td>1</td><td>Tennis Court 2</td></tr><tr><td>0</td><td>2</td><td>0</td><td>Tennis Court 1</td></tr><tr><td>0</td><td>4</td><td>0</td><td>Tennis Court 1</td></tr><tr><td>0</td><td>5</td><td>0</td><td>Tennis Court 1</td></tr><tr><td>0</td><td>0</td><td>0</td><td>Tennis Court 1</td></tr><tr><td>0</td><td>5</td><td>0</td><td>Tennis Court 1</td></tr><tr><td>1</td><td>1</td><td>1</td><td>Tennis Court 2</td></tr><tr><td>1</td><td>0</td><td>1</td><td>Tennis Court 2</td></tr><tr><td>1</td><td>0</td><td>1</td><td>Tennis Court 2</td></tr><tr><td>0</td><td>3</td><td>0</td><td>Tennis Court 1</td></tr><tr><td>0</td><td>5</td><td>0</td><td>Tennis Court 1</td></tr><tr><td>0</td><td>5</td><td>0</td><td>Tennis Court 1</td></tr><tr><td>0</td><td>5</td><td>0</td><td>Tennis Court 1</td></tr><tr><td>0</td><td>0</td><td>0</td><td>Tennis Court 1</td></tr><tr><td>1</td><td>2</td><td>1</td><td>Tennis Court 2</td></tr><tr><td>1</td><td>3</td><td>1</td><td>Tennis Court 2</td></tr><tr><td>1</td><td>4</td><td>1</td><td>Tennis Court 2</td></tr><tr><td>0</td><td>0</td><td>0</td><td>Tennis Court 1</td></tr><tr><td>0</td><td>5</td><td>0</td><td>Tennis Court 1</td></tr><tr><td>0</td><td>5</td><td>0</td><td>Tennis Court 1</td></tr><tr><td>0</td><td>4</td><td>0</td><td>Tennis Court 1</td></tr><tr><td>1</td><td>1</td><td>1</td><td>Tennis Court 2</td></tr><tr><td>1</td><td>0</td><td>1</td><td>Tennis Court 2</td></tr><tr><td>0</td><td>5</td><td>0</td><td>Tennis Court 1</td></tr><tr><td>0</td><td>0</td><td>0</td><td>Tennis Court 1</td></tr><tr><td>0</td><td>2</td><td>0</td><td>Tennis Court 1</td></tr><tr><td>1</td><td>0</td><td>1</td><td>Tennis Court 2</td></tr><tr><td>1</td><td>0</td><td>1</td><td>Tennis Court 2</td></tr><tr><td>1</td><td>5</td><td>1</td><td>Tennis Court 2</td></tr><tr><td>0</td><td>0</td><td>0</td><td>Tennis Court 1</td></tr><tr><td>0</td><td>0</td><td>0</td><td>Tennis Court 1</td></tr><tr><td>0</td><td>5</td><td>0</td><td>Tennis Court 1</td></tr><tr><td>1</td><td>1</td><td>1</td><td>Tennis Court 2</td></tr><tr><td>1</td><td>4</td><td>1</td><td>Tennis Court 2</td></tr><tr><td>1</td><td>4</td><td>1</td><td>Tennis Court 2</td></tr><tr><td>1</td><td>0</td><td>1</td><td>Tennis Court 2</td></tr><tr><td>1</td><td>4</td><td>1</td><td>Tennis Court 2</td></tr><tr><td>0</td><td>0</td><td>0</td><td>Tennis Court 1</td></tr><tr><td>0</td><td>4</td><td>0</td><td>Tennis Court 1</td></tr><tr><td>0</td><td>5</td><td>0</td><td>Tennis Court 1</td></tr><tr><td>1</td><td>4</td><td>1</td><td>Tennis Court 2</td></tr><tr><td>1</td><td>0</td><td>1</td><td>Tennis Court 2</td></tr><tr><td>1</td><td>1</td><td>1</td><td>Tennis Court 2</td></tr><tr><td>0</td><td>5</td><td>0</td><td>Tennis Court 1</td></tr><tr><td>0</td><td>0</td><td>0</td><td>Tennis Court 1</td></tr><tr><td>0</td><td>0</td><td>0</td><td>Tennis Court 1</td></tr><tr><td>1</td><td>1</td><td>1</td><td>Tennis Court 2</td></tr><tr><td>1</td><td>0</td><td>1</td><td>Tennis Court 2</td></tr><tr><td>1</td><td>4</td><td>1</td><td>Tennis Court 2</td></tr><tr><td>0</td><td>4</td><td>0</td><td>Tennis Court 1</td></tr><tr><td>0</td><td>0</td><td>0</td><td>Tennis Court 1</td></tr><tr><td>0</td><td>4</td><td>0</td><td>Tennis Court 1</td></tr><tr><td>1</td><td>8</td><td>1</td><td>Tennis Court 2</td></tr><tr><td>1</td><td>8</td><td>1</td><td>Tennis Court 2</td></tr><tr><td>1</td><td>8</td><td>1</td><td>Tennis Court 2</td></tr><tr><td>1</td><td>1</td><td>1</td><td>Tennis Court 2</td></tr><tr><td>1</td><td>0</td><td>1</td><td>Tennis Court 2</td></tr><tr><td>1</td><td>6</td><td>1</td><td>Tennis Court 2</td></tr><tr><td>0</td><td>4</td><td>0</td><td>Tennis Court 1</td></tr><tr><td>0</td><td>5</td><td>0</td><td>Tennis Court 1</td></tr><tr><td>0</td><td>6</td><td>0</td><td>Tennis Court 1</td></tr><tr><td>0</td><td>6</td><td>0</td><td>Tennis Court 1</td></tr><tr><td>1</td><td>0</td><td>1</td><td>Tennis Court 2</td></tr><tr><td>1</td><td>7</td><td>1</td><td>Tennis Court 2</td></tr><tr><td>1</td><td>0</td><td>1</td><td>Tennis Court 2</td></tr><tr><td>1</td><td>0</td><td>1</td><td>Tennis Court 2</td></tr><tr><td>1</td><td>0</td><td>1</td><td>Tennis Court 2</td></tr><tr><td>0</td><td>7</td><td>0</td><td>Tennis Court 1</td></tr><tr><td>0</td><td>4</td><td>0</td><td>Tennis Court 1</td></tr><tr><td>0</td><td>5</td><td>0</td><td>Tennis Court 1</td></tr><tr><td>0</td><td>2</td><td>0</td><td>Tennis Court 1</td></tr><tr><td>1</td><td>1</td><td>1</td><td>Tennis Court 2</td></tr><tr><td>1</td><td>0</td><td>1</td><td>Tennis Court 2</td></tr><tr><td>1</td><td>0</td><td>1</td><td>Tennis Court 2</td></tr><tr><td>1</td><td>7</td><td>1</td><td>Tennis Court 2</td></tr><tr><td>0</td><td>7</td><td>0</td><td>Tennis Court 1</td></tr><tr><td>0</td><td>2</td><td>0</td><td>Tennis Court 1</td></tr><tr><td>0</td><td>6</td><td>0</td><td>Tennis Court 1</td></tr><tr><td>0</td><td>5</td><td>0</td><td>Tennis Court 1</td></tr><tr><td>0</td><td>0</td><td>0</td><td>Tennis Court 1</td></tr><tr><td>1</td><td>8</td><td>1</td><td>Tennis Court 2</td></tr><tr><td>1</td><td>0</td><td>1</td><td>Tennis Court 2</td></tr><tr><td>1</td><td>8</td><td>1</td><td>Tennis Court 2</td></tr><tr><td>0</td><td>5</td><td>0</td><td>Tennis Court 1</td></tr><tr><td>0</td><td>6</td><td>0</td><td>Tennis Court 1</td></tr><tr><td>0</td><td>7</td><td>0</td><td>Tennis Court 1</td></tr><tr><td>1</td><td>8</td><td>1</td><td>Tennis Court 2</td></tr><tr><td>1</td><td>7</td><td>1</td><td>Tennis Court 2</td></tr><tr><td>1</td><td>2</td><td>1</td><td>Tennis Court 2</td></tr><tr><td>1</td><td>1</td><td>1</td><td>Tennis Court 2</td></tr><tr><td>0</td><td>7</td><td>0</td><td>Tennis Court 1</td></tr><tr><td>0</td><td>0</td><td>0</td><td>Tennis Court 1</td></tr><tr><td>0</td><td>0</td><td>0</td><td>Tennis Court 1</td></tr><tr><td>0</td><td>5</td><td>0</td><td>Tennis Court 1</td></tr><tr><td>0</td><td>0</td><td>0</td><td>Tennis Court 1</td></tr><tr><td>1</td><td>0</td><td>1</td><td>Tennis Court 2</td></tr><tr><td>1</td><td>7</td><td>1</td><td>Tennis Court 2</td></tr><tr><td>0</td><td>5</td><td>0</td><td>Tennis Court 1</td></tr><tr><td>0</td><td>5</td><td>0</td><td>Tennis Court 1</td></tr><tr><td>1</td><td>8</td><td>1</td><td>Tennis Court 2</td></tr><tr><td>1</td><td>8</td><td>1</td><td>Tennis Court 2</td></tr><tr><td>0</td><td>8</td><td>0</td><td>Tennis Court 1</td></tr><tr><td>0</td><td>5</td><td>0</td><td>Tennis Court 1</td></tr><tr><td>0</td><td>7</td><td>0</td><td>Tennis Court 1</td></tr><tr><td>0</td><td>5</td><td>0</td><td>Tennis Court 1</td></tr><tr><td>1</td><td>8</td><td>1</td><td>Tennis Court 2</td></tr><tr><td>1</td><td>8</td><td>1</td><td>Tennis Court 2</td></tr><tr><td>1</td><td>0</td><td>1</td><td>Tennis Court 2</td></tr><tr><td>1</td><td>5</td><td>1</td><td>Tennis Court 2</td></tr><tr><td>1</td><td>0</td><td>1</td><td>Tennis Court 2</td></tr><tr><td>0</td><td>5</td><td>0</td><td>Tennis Court 1</td></tr><tr><td>0</td><td>0</td><td>0</td><td>Tennis Court 1</td></tr><tr><td>0</td><td>6</td><td>0</td><td>Tennis Court 1</td></tr><tr><td>1</td><td>8</td><td>1</td><td>Tennis Court 2</td></tr><tr><td>1</td><td>0</td><td>1</td><td>Tennis Court 2</td></tr><tr><td>1</td><td>7</td><td>1</td><td>Tennis Court 2</td></tr><tr><td>1</td><td>8</td><td>1</td><td>Tennis Court 2</td></tr><tr><td>0</td><td>6</td><td>0</td><td>Tennis Court 1</td></tr><tr><td>1</td><td>9</td><td>1</td><td>Tennis Court 2</td></tr><tr><td>1</td><td>0</td><td>1</td><td>Tennis Court 2</td></tr><tr><td>1</td><td>8</td><td>1</td><td>Tennis Court 2</td></tr><tr><td>1</td><td>0</td><td>1</td><td>Tennis Court 2</td></tr><tr><td>0</td><td>2</td><td>0</td><td>Tennis Court 1</td></tr><tr><td>0</td><td>5</td><td>0</td><td>Tennis Court 1</td></tr><tr><td>0</td><td>7</td><td>0</td><td>Tennis Court 1</td></tr><tr><td>0</td><td>7</td><td>0</td><td>Tennis Court 1</td></tr><tr><td>1</td><td>0</td><td>1</td><td>Tennis Court 2</td></tr><tr><td>1</td><td>7</td><td>1</td><td>Tennis Court 2</td></tr><tr><td>1</td><td>9</td><td>1</td><td>Tennis Court 2</td></tr><tr><td>1</td><td>9</td><td>1</td><td>Tennis Court 2</td></tr><tr><td>1</td><td>1</td><td>1</td><td>Tennis Court 2</td></tr><tr><td>0</td><td>7</td><td>0</td><td>Tennis Court 1</td></tr><tr><td>0</td><td>0</td><td>0</td><td>Tennis Court 1</td></tr><tr><td>0</td><td>2</td><td>0</td><td>Tennis Court 1</td></tr><tr><td>0</td><td>0</td><td>0</td><td>Tennis Court 1</td></tr><tr><td>0</td><td>7</td><td>0</td><td>Tennis Court 1</td></tr><tr><td>0</td><td>5</td><td>0</td><td>Tennis Court 1</td></tr><tr><td>0</td><td>7</td><td>0</td><td>Tennis Court 1</td></tr><tr><td>1</td><td>8</td><td>1</td><td>Tennis Court 2</td></tr><tr><td>1</td><td>3</td><td>1</td><td>Tennis Court 2</td></tr><tr><td>1</td><td>0</td><td>1</td><td>Tennis Court 2</td></tr><tr><td>1</td><td>9</td><td>1</td><td>Tennis Court 2</td></tr><tr><td>1</td><td>9</td><td>1</td><td>Tennis Court 2</td></tr><tr><td>0</td><td>10</td><td>0</td><td>Tennis Court 1</td></tr><tr><td>1</td><td>0</td><td>1</td><td>Tennis Court 2</td></tr><tr><td>1</td><td>8</td><td>1</td><td>Tennis Court 2</td></tr><tr><td>1</td><td>7</td><td>1</td><td>Tennis Court 2</td></tr><tr><td>0</td><td>10</td><td>0</td><td>Tennis Court 1</td></tr><tr><td>0</td><td>6</td><td>0</td><td>Tennis Court 1</td></tr><tr><td>0</td><td>5</td><td>0</td><td>Tennis Court 1</td></tr><tr><td>0</td><td>6</td><td>0</td><td>Tennis Court 1</td></tr><tr><td>1</td><td>0</td><td>1</td><td>Tennis Court 2</td></tr><tr><td>1</td><td>10</td><td>1</td><td>Tennis Court 2</td></tr><tr><td>1</td><td>10</td><td>1</td><td>Tennis Court 2</td></tr><tr><td>1</td><td>9</td><td>1</td><td>Tennis Court 2</td></tr><tr><td>0</td><td>6</td><td>0</td><td>Tennis Court 1</td></tr><tr><td>0</td><td>7</td><td>0</td><td>Tennis Court 1</td></tr><tr><td>0</td><td>10</td><td>0</td><td>Tennis Court 1</td></tr><tr><td>1</td><td>10</td><td>1</td><td>Tennis Court 2</td></tr><tr><td>1</td><td>0</td><td>1</td><td>Tennis Court 2</td></tr><tr><td>1</td><td>8</td><td>1</td><td>Tennis Court 2</td></tr><tr><td>1</td><td>0</td><td>1</td><td>Tennis Court 2</td></tr><tr><td>0</td><td>3</td><td>0</td><td>Tennis Court 1</td></tr><tr><td>0</td><td>2</td><td>0</td><td>Tennis Court 1</td></tr><tr><td>0</td><td>5</td><td>0</td><td>Tennis Court 1</td></tr><tr><td>0</td><td>2</td><td>0</td><td>Tennis Court 1</td></tr><tr><td>0</td><td>8</td><td>0</td><td>Tennis Court 1</td></tr><tr><td>1</td><td>10</td><td>1</td><td>Tennis Court 2</td></tr><tr><td>1</td><td>8</td><td>1</td><td>Tennis Court 2</td></tr><tr><td>1</td><td>9</td><td>1</td><td>Tennis Court 2</td></tr><tr><td>1</td><td>0</td><td>1</td><td>Tennis Court 2</td></tr><tr><td>1</td><td>10</td><td>1</td><td>Tennis Court 2</td></tr><tr><td>0</td><td>0</td><td>0</td><td>Tennis Court 1</td></tr><tr><td>0</td><td>5</td><td>0</td><td>Tennis Court 1</td></tr><tr><td>0</td><td>0</td><td>0</td><td>Tennis Court 1</td></tr><tr><td>0</td><td>4</td><td>0</td><td>Tennis Court 1</td></tr><tr><td>0</td><td>0</td><td>0</td><td>Tennis Court 1</td></tr><tr><td>0</td><td>12</td><td>0</td><td>Tennis Court 1</td></tr><tr><td>0</td><td>4</td><td>0</td><td>Tennis Court 1</td></tr><tr><td>1</td><td>11</td><td>1</td><td>Tennis Court 2</td></tr><tr><td>1</td><td>0</td><td>1</td><td>Tennis Court 2</td></tr><tr><td>1</td><td>0</td><td>1</td><td>Tennis Court 2</td></tr><tr><td>1</td><td>0</td><td>1</td><td>Tennis Court 2</td></tr><tr><td>1</td><td>8</td><td>1</td><td>Tennis Court 2</td></tr><tr><td>1</td><td>0</td><td>1</td><td>Tennis Court 2</td></tr><tr><td>0</td><td>0</td><td>0</td><td>Tennis Court 1</td></tr><tr><td>0</td><td>7</td><td>0</td><td>Tennis Court 1</td></tr><tr><td>0</td><td>14</td><td>0</td><td>Tennis Court 1</td></tr><tr><td>0</td><td>0</td><td>0</td><td>Tennis Court 1</td></tr><tr><td>0</td><td>6</td><td>0</td><td>Tennis Court 1</td></tr><tr><td>0</td><td>0</td><td>0</td><td>Tennis Court 1</td></tr><tr><td>1</td><td>0</td><td>1</td><td>Tennis Court 2</td></tr><tr><td>1</td><td>9</td><td>1</td><td>Tennis Court 2</td></tr><tr><td>1</td><td>8</td><td>1</td><td>Tennis Court 2</td></tr><tr><td>0</td><td>4</td><td>0</td><td>Tennis Court 1</td></tr><tr><td>0</td><td>0</td><td>0</td><td>Tennis Court 1</td></tr><tr><td>0</td><td>6</td><td>0</td><td>Tennis Court 1</td></tr><tr><td>0</td><td>0</td><td>0</td><td>Tennis Court 1</td></tr><tr><td>1</td><td>12</td><td>1</td><td>Tennis Court 2</td></tr><tr><td>1</td><td>6</td><td>1</td><td>Tennis Court 2</td></tr><tr><td>1</td><td>10</td><td>1</td><td>Tennis Court 2</td></tr><tr><td>1</td><td>11</td><td>1</td><td>Tennis Court 2</td></tr><tr><td>1</td><td>0</td><td>1</td><td>Tennis Court 2</td></tr><tr><td>1</td><td>11</td><td>1</td><td>Tennis Court 2</td></tr><tr><td>0</td><td>7</td><td>0</td><td>Tennis Court 1</td></tr><tr><td>0</td><td>14</td><td>0</td><td>Tennis Court 1</td></tr><tr><td>0</td><td>11</td><td>0</td><td>Tennis Court 1</td></tr><tr><td>0</td><td>0</td><td>0</td><td>Tennis Court 1</td></tr><tr><td>0</td><td>10</td><td>0</td><td>Tennis Court 1</td></tr><tr><td>1</td><td>11</td><td>1</td><td>Tennis Court 2</td></tr><tr><td>1</td><td>8</td><td>1</td><td>Tennis Court 2</td></tr><tr><td>1</td><td>0</td><td>1</td><td>Tennis Court 2</td></tr><tr><td>1</td><td>0</td><td>1</td><td>Tennis Court 2</td></tr><tr><td>0</td><td>0</td><td>0</td><td>Tennis Court 1</td></tr><tr><td>0</td><td>6</td><td>0</td><td>Tennis Court 1</td></tr><tr><td>0</td><td>5</td><td>0</td><td>Tennis Court 1</td></tr><tr><td>0</td><td>14</td><td>0</td><td>Tennis Court 1</td></tr><tr><td>0</td><td>0</td><td>0</td><td>Tennis Court 1</td></tr><tr><td>0</td><td>7</td><td>0</td><td>Tennis Court 1</td></tr><tr><td>1</td><td>0</td><td>1</td><td>Tennis Court 2</td></tr><tr><td>1</td><td>8</td><td>1</td><td>Tennis Court 2</td></tr><tr><td>1</td><td>12</td><td>1</td><td>Tennis Court 2</td></tr><tr><td>1</td><td>11</td><td>1</td><td>Tennis Court 2</td></tr><tr><td>1</td><td>12</td><td>1</td><td>Tennis Court 2</td></tr><tr><td>1</td><td>8</td><td>1</td><td>Tennis Court 2</td></tr><tr><td>0</td><td>4</td><td>0</td><td>Tennis Court 1</td></tr><tr><td>0</td><td>0</td><td>0</td><td>Tennis Court 1</td></tr><tr><td>0</td><td>5</td><td>0</td><td>Tennis Court 1</td></tr><tr><td>0</td><td>14</td><td>0</td><td>Tennis Court 1</td></tr><tr><td>0</td><td>0</td><td>0</td><td>Tennis Court 1</td></tr><tr><td>0</td><td>0</td><td>0</td><td>Tennis Court 1</td></tr><tr><td>1</td><td>12</td><td>1</td><td>Tennis Court 2</td></tr><tr><td>1</td><td>0</td><td>1</td><td>Tennis Court 2</td></tr><tr><td>1</td><td>11</td><td>1</td><td>Tennis Court 2</td></tr><tr><td>1</td><td>8</td><td>1</td><td>Tennis Court 2</td></tr><tr><td>1</td><td>12</td><td>1</td><td>Tennis Court 2</td></tr><tr><td>0</td><td>0</td><td>0</td><td>Tennis Court 1</td></tr><tr><td>0</td><td>14</td><td>0</td><td>Tennis Court 1</td></tr><tr><td>0</td><td>6</td><td>0</td><td>Tennis Court 1</td></tr><tr><td>0</td><td>10</td><td>0</td><td>Tennis Court 1</td></tr><tr><td>0</td><td>14</td><td>0</td><td>Tennis Court 1</td></tr><tr><td>1</td><td>10</td><td>1</td><td>Tennis Court 2</td></tr><tr><td>1</td><td>0</td><td>1</td><td>Tennis Court 2</td></tr><tr><td>1</td><td>11</td><td>1</td><td>Tennis Court 2</td></tr><tr><td>1</td><td>0</td><td>1</td><td>Tennis Court 2</td></tr><tr><td>1</td><td>16</td><td>1</td><td>Tennis Court 2</td></tr><tr><td>0</td><td>5</td><td>0</td><td>Tennis Court 1</td></tr><tr><td>0</td><td>0</td><td>0</td><td>Tennis Court 1</td></tr><tr><td>0</td><td>5</td><td>0</td><td>Tennis Court 1</td></tr><tr><td>0</td><td>0</td><td>0</td><td>Tennis Court 1</td></tr><tr><td>1</td><td>8</td><td>1</td><td>Tennis Court 2</td></tr><tr><td>1</td><td>15</td><td>1</td><td>Tennis Court 2</td></tr><tr><td>1</td><td>0</td><td>1</td><td>Tennis Court 2</td></tr><tr><td>1</td><td>7</td><td>1</td><td>Tennis Court 2</td></tr><tr><td>1</td><td>12</td><td>1</td><td>Tennis Court 2</td></tr><tr><td>0</td><td>12</td><td>0</td><td>Tennis Court 1</td></tr><tr><td>0</td><td>16</td><td>0</td><td>Tennis Court 1</td></tr><tr><td>0</td><td>6</td><td>0</td><td>Tennis Court 1</td></tr><tr><td>0</td><td>6</td><td>0</td><td>Tennis Court 1</td></tr><tr><td>1</td><td>10</td><td>1</td><td>Tennis Court 2</td></tr><tr><td>1</td><td>7</td><td>1</td><td>Tennis Court 2</td></tr><tr><td>1</td><td>10</td><td>1</td><td>Tennis Court 2</td></tr><tr><td>1</td><td>0</td><td>1</td><td>Tennis Court 2</td></tr><tr><td>0</td><td>10</td><td>0</td><td>Tennis Court 1</td></tr><tr><td>0</td><td>10</td><td>0</td><td>Tennis Court 1</td></tr><tr><td>0</td><td>14</td><td>0</td><td>Tennis Court 1</td></tr><tr><td>0</td><td>4</td><td>0</td><td>Tennis Court 1</td></tr><tr><td>0</td><td>14</td><td>0</td><td>Tennis Court 1</td></tr><tr><td>0</td><td>16</td><td>0</td><td>Tennis Court 1</td></tr><tr><td>1</td><td>9</td><td>1</td><td>Tennis Court 2</td></tr><tr><td>1</td><td>16</td><td>1</td><td>Tennis Court 2</td></tr><tr><td>1</td><td>0</td><td>1</td><td>Tennis Court 2</td></tr><tr><td>1</td><td>10</td><td>1</td><td>Tennis Court 2</td></tr><tr><td>1</td><td>6</td><td>1</td><td>Tennis Court 2</td></tr><tr><td>1</td><td>8</td><td>1</td><td>Tennis Court 2</td></tr><tr><td>0</td><td>14</td><td>0</td><td>Tennis Court 1</td></tr><tr><td>0</td><td>0</td><td>0</td><td>Tennis Court 1</td></tr><tr><td>0</td><td>0</td><td>0</td><td>Tennis Court 1</td></tr><tr><td>1</td><td>11</td><td>1</td><td>Tennis Court 2</td></tr><tr><td>1</td><td>9</td><td>1</td><td>Tennis Court 2</td></tr><tr><td>1</td><td>10</td><td>1</td><td>Tennis Court 2</td></tr><tr><td>1</td><td>7</td><td>1</td><td>Tennis Court 2</td></tr><tr><td>1</td><td>10</td><td>1</td><td>Tennis Court 2</td></tr><tr><td>0</td><td>11</td><td>0</td><td>Tennis Court 1</td></tr><tr><td>0</td><td>5</td><td>0</td><td>Tennis Court 1</td></tr><tr><td>0</td><td>0</td><td>0</td><td>Tennis Court 1</td></tr><tr><td>0</td><td>16</td><td>0</td><td>Tennis Court 1</td></tr><tr><td>0</td><td>11</td><td>0</td><td>Tennis Court 1</td></tr><tr><td>1</td><td>0</td><td>1</td><td>Tennis Court 2</td></tr><tr><td>1</td><td>0</td><td>1</td><td>Tennis Court 2</td></tr><tr><td>1</td><td>0</td><td>1</td><td>Tennis Court 2</td></tr><tr><td>1</td><td>7</td><td>1</td><td>Tennis Court 2</td></tr><tr><td>1</td><td>12</td><td>1</td><td>Tennis Court 2</td></tr><tr><td>0</td><td>11</td><td>0</td><td>Tennis Court 1</td></tr><tr><td>0</td><td>14</td><td>0</td><td>Tennis Court 1</td></tr><tr><td>0</td><td>10</td><td>0</td><td>Tennis Court 1</td></tr><tr><td>0</td><td>5</td><td>0</td><td>Tennis Court 1</td></tr><tr><td>0</td><td>12</td><td>0</td><td>Tennis Court 1</td></tr><tr><td>1</td><td>12</td><td>1</td><td>Tennis Court 2</td></tr><tr><td>1</td><td>11</td><td>1</td><td>Tennis Court 2</td></tr><tr><td>1</td><td>0</td><td>1</td><td>Tennis Court 2</td></tr><tr><td>1</td><td>16</td><td>1</td><td>Tennis Court 2</td></tr><tr><td>1</td><td>10</td><td>1</td><td>Tennis Court 2</td></tr><tr><td>1</td><td>9</td><td>1</td><td>Tennis Court 2</td></tr><tr><td>1</td><td>15</td><td>1</td><td>Tennis Court 2</td></tr><tr><td>0</td><td>14</td><td>0</td><td>Tennis Court 1</td></tr><tr><td>0</td><td>2</td><td>0</td><td>Tennis Court 1</td></tr><tr><td>0</td><td>0</td><td>0</td><td>Tennis Court 1</td></tr><tr><td>0</td><td>6</td><td>0</td><td>Tennis Court 1</td></tr><tr><td>0</td><td>16</td><td>0</td><td>Tennis Court 1</td></tr><tr><td>0</td><td>8</td><td>0</td><td>Tennis Court 1</td></tr><tr><td>1</td><td>12</td><td>1</td><td>Tennis Court 2</td></tr><tr><td>1</td><td>9</td><td>1</td><td>Tennis Court 2</td></tr><tr><td>1</td><td>0</td><td>1</td><td>Tennis Court 2</td></tr><tr><td>1</td><td>8</td><td>1</td><td>Tennis Court 2</td></tr><tr><td>1</td><td>10</td><td>1</td><td>Tennis Court 2</td></tr><tr><td>1</td><td>12</td><td>1</td><td>Tennis Court 2</td></tr><tr><td>0</td><td>8</td><td>0</td><td>Tennis Court 1</td></tr><tr><td>0</td><td>7</td><td>0</td><td>Tennis Court 1</td></tr><tr><td>0</td><td>0</td><td>0</td><td>Tennis Court 1</td></tr><tr><td>0</td><td>5</td><td>0</td><td>Tennis Court 1</td></tr><tr><td>0</td><td>0</td><td>0</td><td>Tennis Court 1</td></tr><tr><td>0</td><td>17</td><td>0</td><td>Tennis Court 1</td></tr><tr><td>1</td><td>9</td><td>1</td><td>Tennis Court 2</td></tr><tr><td>1</td><td>11</td><td>1</td><td>Tennis Court 2</td></tr><tr><td>1</td><td>0</td><td>1</td><td>Tennis Court 2</td></tr><tr><td>1</td><td>15</td><td>1</td><td>Tennis Court 2</td></tr><tr><td>0</td><td>11</td><td>0</td><td>Tennis Court 1</td></tr><tr><td>0</td><td>6</td><td>0</td><td>Tennis Court 1</td></tr><tr><td>0</td><td>11</td><td>0</td><td>Tennis Court 1</td></tr><tr><td>0</td><td>0</td><td>0</td><td>Tennis Court 1</td></tr><tr><td>0</td><td>6</td><td>0</td><td>Tennis Court 1</td></tr><tr><td>0</td><td>5</td><td>0</td><td>Tennis Court 1</td></tr><tr><td>1</td><td>12</td><td>1</td><td>Tennis Court 2</td></tr><tr><td>1</td><td>11</td><td>1</td><td>Tennis Court 2</td></tr><tr><td>1</td><td>0</td><td>1</td><td>Tennis Court 2</td></tr><tr><td>1</td><td>13</td><td>1</td><td>Tennis Court 2</td></tr><tr><td>1</td><td>0</td><td>1</td><td>Tennis Court 2</td></tr><tr><td>0</td><td>0</td><td>0</td><td>Tennis Court 1</td></tr><tr><td>0</td><td>5</td><td>0</td><td>Tennis Court 1</td></tr><tr><td>0</td><td>17</td><td>0</td><td>Tennis Court 1</td></tr><tr><td>0</td><td>7</td><td>0</td><td>Tennis Court 1</td></tr><tr><td>0</td><td>0</td><td>0</td><td>Tennis Court 1</td></tr><tr><td>1</td><td>12</td><td>1</td><td>Tennis Court 2</td></tr><tr><td>1</td><td>0</td><td>1</td><td>Tennis Court 2</td></tr><tr><td>1</td><td>9</td><td>1</td><td>Tennis Court 2</td></tr><tr><td>1</td><td>8</td><td>1</td><td>Tennis Court 2</td></tr><tr><td>1</td><td>9</td><td>1</td><td>Tennis Court 2</td></tr><tr><td>1</td><td>10</td><td>1</td><td>Tennis Court 2</td></tr><tr><td>0</td><td>11</td><td>0</td><td>Tennis Court 1</td></tr><tr><td>0</td><td>14</td><td>0</td><td>Tennis Court 1</td></tr><tr><td>0</td><td>10</td><td>0</td><td>Tennis Court 1</td></tr><tr><td>0</td><td>17</td><td>0</td><td>Tennis Court 1</td></tr><tr><td>0</td><td>6</td><td>0</td><td>Tennis Court 1</td></tr><tr><td>0</td><td>16</td><td>0</td><td>Tennis Court 1</td></tr><tr><td>1</td><td>12</td><td>1</td><td>Tennis Court 2</td></tr><tr><td>1</td><td>11</td><td>1</td><td>Tennis Court 2</td></tr><tr><td>1</td><td>9</td><td>1</td><td>Tennis Court 2</td></tr><tr><td>1</td><td>12</td><td>1</td><td>Tennis Court 2</td></tr><tr><td>0</td><td>0</td><td>0</td><td>Tennis Court 1</td></tr><tr><td>0</td><td>7</td><td>0</td><td>Tennis Court 1</td></tr><tr><td>0</td><td>10</td><td>0</td><td>Tennis Court 1</td></tr><tr><td>0</td><td>0</td><td>0</td><td>Tennis Court 1</td></tr><tr><td>0</td><td>9</td><td>0</td><td>Tennis Court 1</td></tr><tr><td>0</td><td>0</td><td>0</td><td>Tennis Court 1</td></tr><tr><td>1</td><td>12</td><td>1</td><td>Tennis Court 2</td></tr><tr><td>1</td><td>10</td><td>1</td><td>Tennis Court 2</td></tr><tr><td>1</td><td>9</td><td>1</td><td>Tennis Court 2</td></tr><tr><td>1</td><td>10</td><td>1</td><td>Tennis Court 2</td></tr><tr><td>1</td><td>8</td><td>1</td><td>Tennis Court 2</td></tr><tr><td>0</td><td>0</td><td>0</td><td>Tennis Court 1</td></tr><tr><td>0</td><td>17</td><td>0</td><td>Tennis Court 1</td></tr><tr><td>0</td><td>5</td><td>0</td><td>Tennis Court 1</td></tr><tr><td>0</td><td>0</td><td>0</td><td>Tennis Court 1</td></tr><tr><td>0</td><td>5</td><td>0</td><td>Tennis Court 1</td></tr><tr><td>1</td><td>8</td><td>1</td><td>Tennis Court 2</td></tr><tr><td>1</td><td>10</td><td>1</td><td>Tennis Court 2</td></tr><tr><td>1</td><td>11</td><td>1</td><td>Tennis Court 2</td></tr><tr><td>1</td><td>0</td><td>1</td><td>Tennis Court 2</td></tr><tr><td>1</td><td>0</td><td>1</td><td>Tennis Court 2</td></tr><tr><td>0</td><td>5</td><td>0</td><td>Tennis Court 1</td></tr><tr><td>0</td><td>0</td><td>0</td><td>Tennis Court 1</td></tr><tr><td>0</td><td>11</td><td>0</td><td>Tennis Court 1</td></tr><tr><td>0</td><td>6</td><td>0</td><td>Tennis Court 1</td></tr><tr><td>0</td><td>2</td><td>0</td><td>Tennis Court 1</td></tr><tr><td>0</td><td>5</td><td>0</td><td>Tennis Court 1</td></tr><tr><td>1</td><td>0</td><td>1</td><td>Tennis Court 2</td></tr><tr><td>1</td><td>0</td><td>1</td><td>Tennis Court 2</td></tr><tr><td>1</td><td>12</td><td>1</td><td>Tennis Court 2</td></tr><tr><td>1</td><td>8</td><td>1</td><td>Tennis Court 2</td></tr><tr><td>1</td><td>10</td><td>1</td><td>Tennis Court 2</td></tr><tr><td>1</td><td>8</td><td>1</td><td>Tennis Court 2</td></tr><tr><td>0</td><td>0</td><td>0</td><td>Tennis Court 1</td></tr><tr><td>0</td><td>17</td><td>0</td><td>Tennis Court 1</td></tr><tr><td>0</td><td>7</td><td>0</td><td>Tennis Court 1</td></tr><tr><td>0</td><td>6</td><td>0</td><td>Tennis Court 1</td></tr><tr><td>0</td><td>4</td><td>0</td><td>Tennis Court 1</td></tr><tr><td>1</td><td>0</td><td>1</td><td>Tennis Court 2</td></tr><tr><td>1</td><td>11</td><td>1</td><td>Tennis Court 2</td></tr><tr><td>1</td><td>10</td><td>1</td><td>Tennis Court 2</td></tr><tr><td>1</td><td>12</td><td>1</td><td>Tennis Court 2</td></tr><tr><td>1</td><td>0</td><td>1</td><td>Tennis Court 2</td></tr><tr><td>1</td><td>12</td><td>1</td><td>Tennis Court 2</td></tr><tr><td>0</td><td>10</td><td>0</td><td>Tennis Court 1</td></tr><tr><td>0</td><td>0</td><td>0</td><td>Tennis Court 1</td></tr><tr><td>0</td><td>12</td><td>0</td><td>Tennis Court 1</td></tr><tr><td>0</td><td>5</td><td>0</td><td>Tennis Court 1</td></tr><tr><td>0</td><td>6</td><td>0</td><td>Tennis Court 1</td></tr><tr><td>1</td><td>15</td><td>1</td><td>Tennis Court 2</td></tr><tr><td>1</td><td>11</td><td>1</td><td>Tennis Court 2</td></tr><tr><td>1</td><td>10</td><td>1</td><td>Tennis Court 2</td></tr><tr><td>1</td><td>0</td><td>1</td><td>Tennis Court 2</td></tr><tr><td>0</td><td>0</td><td>0</td><td>Tennis Court 1</td></tr><tr><td>0</td><td>11</td><td>0</td><td>Tennis Court 1</td></tr><tr><td>0</td><td>14</td><td>0</td><td>Tennis Court 1</td></tr><tr><td>0</td><td>0</td><td>0</td><td>Tennis Court 1</td></tr><tr><td>0</td><td>16</td><td>0</td><td>Tennis Court 1</td></tr><tr><td>1</td><td>12</td><td>1</td><td>Tennis Court 2</td></tr><tr><td>1</td><td>0</td><td>1</td><td>Tennis Court 2</td></tr><tr><td>1</td><td>0</td><td>1</td><td>Tennis Court 2</td></tr><tr><td>1</td><td>8</td><td>1</td><td>Tennis Court 2</td></tr><tr><td>1</td><td>11</td><td>1</td><td>Tennis Court 2</td></tr><tr><td>0</td><td>11</td><td>0</td><td>Tennis Court 1</td></tr><tr><td>0</td><td>0</td><td>0</td><td>Tennis Court 1</td></tr><tr><td>0</td><td>10</td><td>0</td><td>Tennis Court 1</td></tr><tr><td>0</td><td>0</td><td>0</td><td>Tennis Court 1</td></tr><tr><td>0</td><td>5</td><td>0</td><td>Tennis Court 1</td></tr><tr><td>0</td><td>0</td><td>0</td><td>Tennis Court 1</td></tr><tr><td>1</td><td>0</td><td>1</td><td>Tennis Court 2</td></tr><tr><td>1</td><td>8</td><td>1</td><td>Tennis Court 2</td></tr><tr><td>1</td><td>0</td><td>1</td><td>Tennis Court 2</td></tr><tr><td>1</td><td>0</td><td>1</td><td>Tennis Court 2</td></tr><tr><td>1</td><td>9</td><td>1</td><td>Tennis Court 2</td></tr><tr><td>1</td><td>24</td><td>1</td><td>Tennis Court 2</td></tr><tr><td>0</td><td>22</td><td>0</td><td>Tennis Court 1</td></tr><tr><td>0</td><td>12</td><td>0</td><td>Tennis Court 1</td></tr><tr><td>0</td><td>0</td><td>0</td><td>Tennis Court 1</td></tr><tr><td>0</td><td>2</td><td>0</td><td>Tennis Court 1</td></tr><tr><td>0</td><td>6</td><td>0</td><td>Tennis Court 1</td></tr><tr><td>0</td><td>17</td><td>0</td><td>Tennis Court 1</td></tr><tr><td>1</td><td>1</td><td>1</td><td>Tennis Court 2</td></tr><tr><td>1</td><td>10</td><td>1</td><td>Tennis Court 2</td></tr><tr><td>1</td><td>24</td><td>1</td><td>Tennis Court 2</td></tr><tr><td>1</td><td>8</td><td>1</td><td>Tennis Court 2</td></tr><tr><td>1</td><td>12</td><td>1</td><td>Tennis Court 2</td></tr><tr><td>0</td><td>17</td><td>0</td><td>Tennis Court 1</td></tr><tr><td>0</td><td>11</td><td>0</td><td>Tennis Court 1</td></tr><tr><td>0</td><td>22</td><td>0</td><td>Tennis Court 1</td></tr><tr><td>0</td><td>11</td><td>0</td><td>Tennis Court 1</td></tr><tr><td>0</td><td>4</td><td>0</td><td>Tennis Court 1</td></tr><tr><td>1</td><td>0</td><td>1</td><td>Tennis Court 2</td></tr><tr><td>1</td><td>8</td><td>1</td><td>Tennis Court 2</td></tr><tr><td>1</td><td>0</td><td>1</td><td>Tennis Court 2</td></tr><tr><td>1</td><td>9</td><td>1</td><td>Tennis Court 2</td></tr><tr><td>1</td><td>12</td><td>1</td><td>Tennis Court 2</td></tr><tr><td>0</td><td>0</td><td>0</td><td>Tennis Court 1</td></tr><tr><td>0</td><td>14</td><td>0</td><td>Tennis Court 1</td></tr><tr><td>0</td><td>0</td><td>0</td><td>Tennis Court 1</td></tr><tr><td>0</td><td>11</td><td>0</td><td>Tennis Court 1</td></tr><tr><td>0</td><td>17</td><td>0</td><td>Tennis Court 1</td></tr><tr><td>0</td><td>14</td><td>0</td><td>Tennis Court 1</td></tr><tr><td>1</td><td>9</td><td>1</td><td>Tennis Court 2</td></tr><tr><td>1</td><td>12</td><td>1</td><td>Tennis Court 2</td></tr><tr><td>1</td><td>11</td><td>1</td><td>Tennis Court 2</td></tr><tr><td>1</td><td>24</td><td>1</td><td>Tennis Court 2</td></tr><tr><td>1</td><td>12</td><td>1</td><td>Tennis Court 2</td></tr><tr><td>1</td><td>9</td><td>1</td><td>Tennis Court 2</td></tr><tr><td>0</td><td>5</td><td>0</td><td>Tennis Court 1</td></tr><tr><td>0</td><td>0</td><td>0</td><td>Tennis Court 1</td></tr><tr><td>0</td><td>7</td><td>0</td><td>Tennis Court 1</td></tr><tr><td>0</td><td>0</td><td>0</td><td>Tennis Court 1</td></tr><tr><td>0</td><td>11</td><td>0</td><td>Tennis Court 1</td></tr><tr><td>0</td><td>17</td><td>0</td><td>Tennis Court 1</td></tr><tr><td>0</td><td>16</td><td>0</td><td>Tennis Court 1</td></tr><tr><td>1</td><td>10</td><td>1</td><td>Tennis Court 2</td></tr><tr><td>1</td><td>24</td><td>1</td><td>Tennis Court 2</td></tr><tr><td>1</td><td>9</td><td>1</td><td>Tennis Court 2</td></tr><tr><td>1</td><td>0</td><td>1</td><td>Tennis Court 2</td></tr><tr><td>1</td><td>9</td><td>1</td><td>Tennis Court 2</td></tr><tr><td>0</td><td>5</td><td>0</td><td>Tennis Court 1</td></tr><tr><td>0</td><td>16</td><td>0</td><td>Tennis Court 1</td></tr><tr><td>0</td><td>26</td><td>0</td><td>Tennis Court 1</td></tr><tr><td>0</td><td>7</td><td>0</td><td>Tennis Court 1</td></tr><tr><td>0</td><td>0</td><td>0</td><td>Tennis Court 1</td></tr><tr><td>0</td><td>24</td><td>0</td><td>Tennis Court 1</td></tr><tr><td>1</td><td>8</td><td>1</td><td>Tennis Court 2</td></tr><tr><td>1</td><td>0</td><td>1</td><td>Tennis Court 2</td></tr><tr><td>1</td><td>16</td><td>1</td><td>Tennis Court 2</td></tr><tr><td>1</td><td>10</td><td>1</td><td>Tennis Court 2</td></tr><tr><td>1</td><td>15</td><td>1</td><td>Tennis Court 2</td></tr><tr><td>1</td><td>0</td><td>1</td><td>Tennis Court 2</td></tr><tr><td>0</td><td>22</td><td>0</td><td>Tennis Court 1</td></tr><tr><td>0</td><td>14</td><td>0</td><td>Tennis Court 1</td></tr><tr><td>0</td><td>0</td><td>0</td><td>Tennis Court 1</td></tr><tr><td>0</td><td>14</td><td>0</td><td>Tennis Court 1</td></tr><tr><td>0</td><td>10</td><td>0</td><td>Tennis Court 1</td></tr><tr><td>1</td><td>24</td><td>1</td><td>Tennis Court 2</td></tr><tr><td>1</td><td>0</td><td>1</td><td>Tennis Court 2</td></tr><tr><td>1</td><td>0</td><td>1</td><td>Tennis Court 2</td></tr><tr><td>1</td><td>15</td><td>1</td><td>Tennis Court 2</td></tr><tr><td>1</td><td>0</td><td>1</td><td>Tennis Court 2</td></tr><tr><td>1</td><td>12</td><td>1</td><td>Tennis Court 2</td></tr><tr><td>1</td><td>0</td><td>1</td><td>Tennis Court 2</td></tr><tr><td>0</td><td>5</td><td>0</td><td>Tennis Court 1</td></tr><tr><td>0</td><td>6</td><td>0</td><td>Tennis Court 1</td></tr><tr><td>0</td><td>7</td><td>0</td><td>Tennis Court 1</td></tr><tr><td>0</td><td>17</td><td>0</td><td>Tennis Court 1</td></tr><tr><td>0</td><td>11</td><td>0</td><td>Tennis Court 1</td></tr><tr><td>0</td><td>26</td><td>0</td><td>Tennis Court 1</td></tr><tr><td>1</td><td>9</td><td>1</td><td>Tennis Court 2</td></tr><tr><td>1</td><td>11</td><td>1</td><td>Tennis Court 2</td></tr><tr><td>1</td><td>8</td><td>1</td><td>Tennis Court 2</td></tr><tr><td>1</td><td>12</td><td>1</td><td>Tennis Court 2</td></tr><tr><td>1</td><td>11</td><td>1</td><td>Tennis Court 2</td></tr><tr><td>1</td><td>9</td><td>1</td><td>Tennis Court 2</td></tr><tr><td>1</td><td>11</td><td>1</td><td>Tennis Court 2</td></tr><tr><td>0</td><td>22</td><td>0</td><td>Tennis Court 1</td></tr><tr><td>0</td><td>0</td><td>0</td><td>Tennis Court 1</td></tr><tr><td>0</td><td>4</td><td>0</td><td>Tennis Court 1</td></tr><tr><td>0</td><td>26</td><td>0</td><td>Tennis Court 1</td></tr><tr><td>0</td><td>5</td><td>0</td><td>Tennis Court 1</td></tr><tr><td>0</td><td>0</td><td>0</td><td>Tennis Court 1</td></tr><tr><td>0</td><td>16</td><td>0</td><td>Tennis Court 1</td></tr><tr><td>1</td><td>11</td><td>1</td><td>Tennis Court 2</td></tr><tr><td>1</td><td>0</td><td>1</td><td>Tennis Court 2</td></tr><tr><td>1</td><td>14</td><td>1</td><td>Tennis Court 2</td></tr><tr><td>1</td><td>11</td><td>1</td><td>Tennis Court 2</td></tr><tr><td>1</td><td>0</td><td>1</td><td>Tennis Court 2</td></tr><tr><td>1</td><td>10</td><td>1</td><td>Tennis Court 2</td></tr><tr><td>0</td><td>5</td><td>0</td><td>Tennis Court 1</td></tr><tr><td>0</td><td>0</td><td>0</td><td>Tennis Court 1</td></tr><tr><td>0</td><td>7</td><td>0</td><td>Tennis Court 1</td></tr><tr><td>0</td><td>10</td><td>0</td><td>Tennis Court 1</td></tr><tr><td>0</td><td>0</td><td>0</td><td>Tennis Court 1</td></tr><tr><td>1</td><td>8</td><td>1</td><td>Tennis Court 2</td></tr><tr><td>1</td><td>11</td><td>1</td><td>Tennis Court 2</td></tr><tr><td>1</td><td>0</td><td>1</td><td>Tennis Court 2</td></tr><tr><td>1</td><td>12</td><td>1</td><td>Tennis Court 2</td></tr><tr><td>1</td><td>8</td><td>1</td><td>Tennis Court 2</td></tr><tr><td>1</td><td>24</td><td>1</td><td>Tennis Court 2</td></tr><tr><td>0</td><td>6</td><td>0</td><td>Tennis Court 1</td></tr><tr><td>0</td><td>17</td><td>0</td><td>Tennis Court 1</td></tr><tr><td>0</td><td>5</td><td>0</td><td>Tennis Court 1</td></tr><tr><td>0</td><td>3</td><td>0</td><td>Tennis Court 1</td></tr><tr><td>0</td><td>0</td><td>0</td><td>Tennis Court 1</td></tr><tr><td>0</td><td>26</td><td>0</td><td>Tennis Court 1</td></tr><tr><td>0</td><td>0</td><td>0</td><td>Tennis Court 1</td></tr><tr><td>1</td><td>11</td><td>1</td><td>Tennis Court 2</td></tr><tr><td>1</td><td>8</td><td>1</td><td>Tennis Court 2</td></tr><tr><td>1</td><td>0</td><td>1</td><td>Tennis Court 2</td></tr><tr><td>1</td><td>0</td><td>1</td><td>Tennis Court 2</td></tr><tr><td>0</td><td>0</td><td>0</td><td>Tennis Court 1</td></tr><tr><td>0</td><td>11</td><td>0</td><td>Tennis Court 1</td></tr><tr><td>0</td><td>7</td><td>0</td><td>Tennis Court 1</td></tr><tr><td>0</td><td>17</td><td>0</td><td>Tennis Court 1</td></tr><tr><td>1</td><td>10</td><td>1</td><td>Tennis Court 2</td></tr><tr><td>1</td><td>11</td><td>1</td><td>Tennis Court 2</td></tr><tr><td>1</td><td>24</td><td>1</td><td>Tennis Court 2</td></tr><tr><td>1</td><td>12</td><td>1</td><td>Tennis Court 2</td></tr><tr><td>0</td><td>0</td><td>0</td><td>Tennis Court 1</td></tr><tr><td>0</td><td>11</td><td>0</td><td>Tennis Court 1</td></tr><tr><td>0</td><td>6</td><td>0</td><td>Tennis Court 1</td></tr><tr><td>0</td><td>0</td><td>0</td><td>Tennis Court 1</td></tr><tr><td>0</td><td>24</td><td>0</td><td>Tennis Court 1</td></tr><tr><td>0</td><td>10</td><td>0</td><td>Tennis Court 1</td></tr><tr><td>1</td><td>8</td><td>1</td><td>Tennis Court 2</td></tr><tr><td>1</td><td>0</td><td>1</td><td>Tennis Court 2</td></tr><tr><td>1</td><td>16</td><td>1</td><td>Tennis Court 2</td></tr><tr><td>1</td><td>8</td><td>1</td><td>Tennis Court 2</td></tr><tr><td>1</td><td>12</td><td>1</td><td>Tennis Court 2</td></tr><tr><td>1</td><td>0</td><td>1</td><td>Tennis Court 2</td></tr><tr><td>0</td><td>22</td><td>0</td><td>Tennis Court 1</td></tr><tr><td>0</td><td>0</td><td>0</td><td>Tennis Court 1</td></tr><tr><td>0</td><td>13</td><td>0</td><td>Tennis Court 1</td></tr><tr><td>0</td><td>7</td><td>0</td><td>Tennis Court 1</td></tr><tr><td>0</td><td>0</td><td>0</td><td>Tennis Court 1</td></tr><tr><td>0</td><td>26</td><td>0</td><td>Tennis Court 1</td></tr><tr><td>1</td><td>8</td><td>1</td><td>Tennis Court 2</td></tr><tr><td>1</td><td>9</td><td>1</td><td>Tennis Court 2</td></tr><tr><td>1</td><td>0</td><td>1</td><td>Tennis Court 2</td></tr><tr><td>1</td><td>0</td><td>1</td><td>Tennis Court 2</td></tr><tr><td>1</td><td>8</td><td>1</td><td>Tennis Court 2</td></tr><tr><td>1</td><td>9</td><td>1</td><td>Tennis Court 2</td></tr><tr><td>1</td><td>8</td><td>1</td><td>Tennis Court 2</td></tr><tr><td>0</td><td>28</td><td>0</td><td>Tennis Court 1</td></tr><tr><td>0</td><td>6</td><td>0</td><td>Tennis Court 1</td></tr><tr><td>0</td><td>11</td><td>0</td><td>Tennis Court 1</td></tr><tr><td>0</td><td>16</td><td>0</td><td>Tennis Court 1</td></tr><tr><td>0</td><td>5</td><td>0</td><td>Tennis Court 1</td></tr><tr><td>0</td><td>28</td><td>0</td><td>Tennis Court 1</td></tr><tr><td>0</td><td>14</td><td>0</td><td>Tennis Court 1</td></tr><tr><td>1</td><td>10</td><td>1</td><td>Tennis Court 2</td></tr><tr><td>1</td><td>12</td><td>1</td><td>Tennis Court 2</td></tr><tr><td>1</td><td>0</td><td>1</td><td>Tennis Court 2</td></tr><tr><td>1</td><td>11</td><td>1</td><td>Tennis Court 2</td></tr><tr><td>1</td><td>10</td><td>1</td><td>Tennis Court 2</td></tr><tr><td>0</td><td>16</td><td>0</td><td>Tennis Court 1</td></tr><tr><td>0</td><td>28</td><td>0</td><td>Tennis Court 1</td></tr><tr><td>0</td><td>0</td><td>0</td><td>Tennis Court 1</td></tr><tr><td>0</td><td>28</td><td>0</td><td>Tennis Court 1</td></tr><tr><td>0</td><td>24</td><td>0</td><td>Tennis Court 1</td></tr><tr><td>0</td><td>14</td><td>0</td><td>Tennis Court 1</td></tr><tr><td>1</td><td>0</td><td>1</td><td>Tennis Court 2</td></tr><tr><td>1</td><td>1</td><td>1</td><td>Tennis Court 2</td></tr><tr><td>1</td><td>0</td><td>1</td><td>Tennis Court 2</td></tr><tr><td>1</td><td>4</td><td>1</td><td>Tennis Court 2</td></tr><tr><td>1</td><td>10</td><td>1</td><td>Tennis Court 2</td></tr><tr><td>0</td><td>14</td><td>0</td><td>Tennis Court 1</td></tr><tr><td>0</td><td>0</td><td>0</td><td>Tennis Court 1</td></tr><tr><td>0</td><td>0</td><td>0</td><td>Tennis Court 1</td></tr><tr><td>0</td><td>17</td><td>0</td><td>Tennis Court 1</td></tr><tr><td>0</td><td>26</td><td>0</td><td>Tennis Court 1</td></tr><tr><td>0</td><td>5</td><td>0</td><td>Tennis Court 1</td></tr><tr><td>1</td><td>11</td><td>1</td><td>Tennis Court 2</td></tr><tr><td>1</td><td>10</td><td>1</td><td>Tennis Court 2</td></tr><tr><td>1</td><td>30</td><td>1</td><td>Tennis Court 2</td></tr><tr><td>1</td><td>10</td><td>1</td><td>Tennis Court 2</td></tr><tr><td>1</td><td>9</td><td>1</td><td>Tennis Court 2</td></tr><tr><td>1</td><td>0</td><td>1</td><td>Tennis Court 2</td></tr><tr><td>1</td><td>24</td><td>1</td><td>Tennis Court 2</td></tr><tr><td>0</td><td>26</td><td>0</td><td>Tennis Court 1</td></tr><tr><td>0</td><td>11</td><td>0</td><td>Tennis Court 1</td></tr><tr><td>0</td><td>22</td><td>0</td><td>Tennis Court 1</td></tr><tr><td>0</td><td>16</td><td>0</td><td>Tennis Court 1</td></tr><tr><td>0</td><td>5</td><td>0</td><td>Tennis Court 1</td></tr><tr><td>0</td><td>17</td><td>0</td><td>Tennis Court 1</td></tr><tr><td>1</td><td>12</td><td>1</td><td>Tennis Court 2</td></tr><tr><td>1</td><td>16</td><td>1</td><td>Tennis Court 2</td></tr><tr><td>1</td><td>1</td><td>1</td><td>Tennis Court 2</td></tr><tr><td>1</td><td>9</td><td>1</td><td>Tennis Court 2</td></tr><tr><td>1</td><td>10</td><td>1</td><td>Tennis Court 2</td></tr><tr><td>1</td><td>27</td><td>1</td><td>Tennis Court 2</td></tr><tr><td>0</td><td>0</td><td>0</td><td>Tennis Court 1</td></tr><tr><td>0</td><td>11</td><td>0</td><td>Tennis Court 1</td></tr><tr><td>0</td><td>0</td><td>0</td><td>Tennis Court 1</td></tr><tr><td>0</td><td>6</td><td>0</td><td>Tennis Court 1</td></tr><tr><td>0</td><td>14</td><td>0</td><td>Tennis Court 1</td></tr><tr><td>0</td><td>10</td><td>0</td><td>Tennis Court 1</td></tr><tr><td>1</td><td>5</td><td>1</td><td>Tennis Court 2</td></tr><tr><td>1</td><td>10</td><td>1</td><td>Tennis Court 2</td></tr><tr><td>1</td><td>8</td><td>1</td><td>Tennis Court 2</td></tr><tr><td>1</td><td>15</td><td>1</td><td>Tennis Court 2</td></tr><tr><td>1</td><td>12</td><td>1</td><td>Tennis Court 2</td></tr><tr><td>1</td><td>0</td><td>1</td><td>Tennis Court 2</td></tr><tr><td>0</td><td>7</td><td>0</td><td>Tennis Court 1</td></tr><tr><td>0</td><td>10</td><td>0</td><td>Tennis Court 1</td></tr><tr><td>0</td><td>15</td><td>0</td><td>Tennis Court 1</td></tr><tr><td>0</td><td>26</td><td>0</td><td>Tennis Court 1</td></tr><tr><td>0</td><td>35</td><td>0</td><td>Tennis Court 1</td></tr><tr><td>0</td><td>2</td><td>0</td><td>Tennis Court 1</td></tr><tr><td>0</td><td>17</td><td>0</td><td>Tennis Court 1</td></tr><tr><td>1</td><td>0</td><td>1</td><td>Tennis Court 2</td></tr><tr><td>1</td><td>24</td><td>1</td><td>Tennis Court 2</td></tr><tr><td>1</td><td>8</td><td>1</td><td>Tennis Court 2</td></tr><tr><td>1</td><td>24</td><td>1</td><td>Tennis Court 2</td></tr><tr><td>1</td><td>15</td><td>1</td><td>Tennis Court 2</td></tr><tr><td>1</td><td>35</td><td>1</td><td>Tennis Court 2</td></tr><tr><td>1</td><td>0</td><td>1</td><td>Tennis Court 2</td></tr><tr><td>0</td><td>0</td><td>0</td><td>Tennis Court 1</td></tr><tr><td>0</td><td>35</td><td>0</td><td>Tennis Court 1</td></tr><tr><td>0</td><td>0</td><td>0</td><td>Tennis Court 1</td></tr><tr><td>0</td><td>14</td><td>0</td><td>Tennis Court 1</td></tr><tr><td>0</td><td>11</td><td>0</td><td>Tennis Court 1</td></tr><tr><td>1</td><td>28</td><td>1</td><td>Tennis Court 2</td></tr><tr><td>1</td><td>10</td><td>1</td><td>Tennis Court 2</td></tr><tr><td>1</td><td>10</td><td>1</td><td>Tennis Court 2</td></tr><tr><td>1</td><td>16</td><td>1</td><td>Tennis Court 2</td></tr><tr><td>1</td><td>0</td><td>1</td><td>Tennis Court 2</td></tr><tr><td>1</td><td>24</td><td>1</td><td>Tennis Court 2</td></tr><tr><td>0</td><td>12</td><td>0</td><td>Tennis Court 1</td></tr><tr><td>0</td><td>2</td><td>0</td><td>Tennis Court 1</td></tr><tr><td>0</td><td>16</td><td>0</td><td>Tennis Court 1</td></tr><tr><td>0</td><td>0</td><td>0</td><td>Tennis Court 1</td></tr><tr><td>0</td><td>11</td><td>0</td><td>Tennis Court 1</td></tr><tr><td>1</td><td>9</td><td>1</td><td>Tennis Court 2</td></tr><tr><td>1</td><td>12</td><td>1</td><td>Tennis Court 2</td></tr><tr><td>1</td><td>0</td><td>1</td><td>Tennis Court 2</td></tr><tr><td>1</td><td>12</td><td>1</td><td>Tennis Court 2</td></tr><tr><td>1</td><td>11</td><td>1</td><td>Tennis Court 2</td></tr><tr><td>1</td><td>35</td><td>1</td><td>Tennis Court 2</td></tr><tr><td>1</td><td>0</td><td>1</td><td>Tennis Court 2</td></tr><tr><td>0</td><td>5</td><td>0</td><td>Tennis Court 1</td></tr><tr><td>0</td><td>0</td><td>0</td><td>Tennis Court 1</td></tr><tr><td>0</td><td>6</td><td>0</td><td>Tennis Court 1</td></tr><tr><td>0</td><td>11</td><td>0</td><td>Tennis Court 1</td></tr><tr><td>0</td><td>0</td><td>0</td><td>Tennis Court 1</td></tr><tr><td>0</td><td>22</td><td>0</td><td>Tennis Court 1</td></tr><tr><td>1</td><td>0</td><td>1</td><td>Tennis Court 2</td></tr><tr><td>1</td><td>0</td><td>1</td><td>Tennis Court 2</td></tr><tr><td>1</td><td>9</td><td>1</td><td>Tennis Court 2</td></tr><tr><td>1</td><td>35</td><td>1</td><td>Tennis Court 2</td></tr><tr><td>1</td><td>12</td><td>1</td><td>Tennis Court 2</td></tr><tr><td>1</td><td>11</td><td>1</td><td>Tennis Court 2</td></tr><tr><td>0</td><td>11</td><td>0</td><td>Tennis Court 1</td></tr><tr><td>0</td><td>6</td><td>0</td><td>Tennis Court 1</td></tr><tr><td>0</td><td>17</td><td>0</td><td>Tennis Court 1</td></tr><tr><td>0</td><td>26</td><td>0</td><td>Tennis Court 1</td></tr><tr><td>0</td><td>0</td><td>0</td><td>Tennis Court 1</td></tr><tr><td>1</td><td>0</td><td>1</td><td>Tennis Court 2</td></tr><tr><td>1</td><td>8</td><td>1</td><td>Tennis Court 2</td></tr><tr><td>1</td><td>0</td><td>1</td><td>Tennis Court 2</td></tr><tr><td>1</td><td>35</td><td>1</td><td>Tennis Court 2</td></tr><tr><td>1</td><td>10</td><td>1</td><td>Tennis Court 2</td></tr><tr><td>0</td><td>35</td><td>0</td><td>Tennis Court 1</td></tr><tr><td>0</td><td>16</td><td>0</td><td>Tennis Court 1</td></tr><tr><td>0</td><td>28</td><td>0</td><td>Tennis Court 1</td></tr><tr><td>0</td><td>0</td><td>0</td><td>Tennis Court 1</td></tr><tr><td>0</td><td>0</td><td>0</td><td>Tennis Court 1</td></tr><tr><td>0</td><td>0</td><td>0</td><td>Tennis Court 1</td></tr><tr><td>1</td><td>10</td><td>1</td><td>Tennis Court 2</td></tr><tr><td>1</td><td>0</td><td>1</td><td>Tennis Court 2</td></tr><tr><td>1</td><td>8</td><td>1</td><td>Tennis Court 2</td></tr><tr><td>1</td><td>0</td><td>1</td><td>Tennis Court 2</td></tr><tr><td>1</td><td>0</td><td>1</td><td>Tennis Court 2</td></tr><tr><td>0</td><td>0</td><td>0</td><td>Tennis Court 1</td></tr><tr><td>0</td><td>11</td><td>0</td><td>Tennis Court 1</td></tr><tr><td>0</td><td>6</td><td>0</td><td>Tennis Court 1</td></tr><tr><td>0</td><td>28</td><td>0</td><td>Tennis Court 1</td></tr><tr><td>0</td><td>20</td><td>0</td><td>Tennis Court 1</td></tr><tr><td>1</td><td>0</td><td>1</td><td>Tennis Court 2</td></tr><tr><td>1</td><td>8</td><td>1</td><td>Tennis Court 2</td></tr><tr><td>1</td><td>10</td><td>1</td><td>Tennis Court 2</td></tr><tr><td>1</td><td>12</td><td>1</td><td>Tennis Court 2</td></tr><tr><td>1</td><td>0</td><td>1</td><td>Tennis Court 2</td></tr><tr><td>1</td><td>10</td><td>1</td><td>Tennis Court 2</td></tr><tr><td>0</td><td>4</td><td>0</td><td>Tennis Court 1</td></tr><tr><td>0</td><td>35</td><td>0</td><td>Tennis Court 1</td></tr><tr><td>0</td><td>0</td><td>0</td><td>Tennis Court 1</td></tr><tr><td>0</td><td>36</td><td>0</td><td>Tennis Court 1</td></tr><tr><td>0</td><td>24</td><td>0</td><td>Tennis Court 1</td></tr><tr><td>0</td><td>0</td><td>0</td><td>Tennis Court 1</td></tr><tr><td>0</td><td>24</td><td>0</td><td>Tennis Court 1</td></tr><tr><td>1</td><td>8</td><td>1</td><td>Tennis Court 2</td></tr><tr><td>1</td><td>0</td><td>1</td><td>Tennis Court 2</td></tr><tr><td>1</td><td>10</td><td>1</td><td>Tennis Court 2</td></tr><tr><td>1</td><td>11</td><td>1</td><td>Tennis Court 2</td></tr><tr><td>1</td><td>10</td><td>1</td><td>Tennis Court 2</td></tr><tr><td>1</td><td>8</td><td>1</td><td>Tennis Court 2</td></tr></tbody></table></div>"
      ]
     },
     "metadata": {
      "application/vnd.databricks.v1+output": {
       "addedWidgets": {},
       "aggData": [],
       "aggError": "",
       "aggOverflow": false,
       "aggSchema": [],
       "aggSeriesLimitReached": false,
       "aggType": "",
       "arguments": {},
       "columnCustomDisplayInfos": {},
       "data": [
        [
         0,
         2,
         0,
         "Tennis Court 1"
        ],
        [
         0,
         2,
         0,
         "Tennis Court 1"
        ],
        [
         1,
         0,
         1,
         "Tennis Court 2"
        ],
        [
         0,
         0,
         0,
         "Tennis Court 1"
        ],
        [
         0,
         0,
         0,
         "Tennis Court 1"
        ],
        [
         0,
         2,
         0,
         "Tennis Court 1"
        ],
        [
         0,
         2,
         0,
         "Tennis Court 1"
        ],
        [
         0,
         0,
         0,
         "Tennis Court 1"
        ],
        [
         0,
         2,
         0,
         "Tennis Court 1"
        ],
        [
         1,
         3,
         1,
         "Tennis Court 2"
        ],
        [
         0,
         3,
         0,
         "Tennis Court 1"
        ],
        [
         0,
         2,
         0,
         "Tennis Court 1"
        ],
        [
         1,
         1,
         1,
         "Tennis Court 2"
        ],
        [
         1,
         1,
         1,
         "Tennis Court 2"
        ],
        [
         0,
         2,
         0,
         "Tennis Court 1"
        ],
        [
         0,
         2,
         0,
         "Tennis Court 1"
        ],
        [
         0,
         2,
         0,
         "Tennis Court 1"
        ],
        [
         1,
         0,
         1,
         "Tennis Court 2"
        ],
        [
         1,
         1,
         1,
         "Tennis Court 2"
        ],
        [
         0,
         0,
         0,
         "Tennis Court 1"
        ],
        [
         0,
         0,
         0,
         "Tennis Court 1"
        ],
        [
         0,
         4,
         0,
         "Tennis Court 1"
        ],
        [
         0,
         2,
         0,
         "Tennis Court 1"
        ],
        [
         0,
         0,
         0,
         "Tennis Court 1"
        ],
        [
         0,
         0,
         0,
         "Tennis Court 1"
        ],
        [
         0,
         2,
         0,
         "Tennis Court 1"
        ],
        [
         0,
         2,
         0,
         "Tennis Court 1"
        ],
        [
         1,
         0,
         1,
         "Tennis Court 2"
        ],
        [
         1,
         0,
         1,
         "Tennis Court 2"
        ],
        [
         0,
         0,
         0,
         "Tennis Court 1"
        ],
        [
         0,
         2,
         0,
         "Tennis Court 1"
        ],
        [
         1,
         1,
         1,
         "Tennis Court 2"
        ],
        [
         0,
         2,
         0,
         "Tennis Court 1"
        ],
        [
         0,
         4,
         0,
         "Tennis Court 1"
        ],
        [
         0,
         3,
         0,
         "Tennis Court 1"
        ],
        [
         1,
         1,
         1,
         "Tennis Court 2"
        ],
        [
         0,
         2,
         0,
         "Tennis Court 1"
        ],
        [
         0,
         4,
         0,
         "Tennis Court 1"
        ],
        [
         0,
         3,
         0,
         "Tennis Court 1"
        ],
        [
         1,
         3,
         1,
         "Tennis Court 2"
        ],
        [
         1,
         3,
         1,
         "Tennis Court 2"
        ],
        [
         1,
         0,
         1,
         "Tennis Court 2"
        ],
        [
         0,
         2,
         0,
         "Tennis Court 1"
        ],
        [
         0,
         0,
         0,
         "Tennis Court 1"
        ],
        [
         0,
         2,
         0,
         "Tennis Court 1"
        ],
        [
         1,
         0,
         1,
         "Tennis Court 2"
        ],
        [
         1,
         0,
         1,
         "Tennis Court 2"
        ],
        [
         1,
         3,
         1,
         "Tennis Court 2"
        ],
        [
         0,
         5,
         0,
         "Tennis Court 1"
        ],
        [
         0,
         5,
         0,
         "Tennis Court 1"
        ],
        [
         1,
         1,
         1,
         "Tennis Court 2"
        ],
        [
         1,
         0,
         1,
         "Tennis Court 2"
        ],
        [
         0,
         5,
         0,
         "Tennis Court 1"
        ],
        [
         0,
         5,
         0,
         "Tennis Court 1"
        ],
        [
         1,
         1,
         1,
         "Tennis Court 2"
        ],
        [
         1,
         4,
         1,
         "Tennis Court 2"
        ],
        [
         0,
         5,
         0,
         "Tennis Court 1"
        ],
        [
         0,
         5,
         0,
         "Tennis Court 1"
        ],
        [
         1,
         0,
         1,
         "Tennis Court 2"
        ],
        [
         1,
         0,
         1,
         "Tennis Court 2"
        ],
        [
         0,
         2,
         0,
         "Tennis Court 1"
        ],
        [
         0,
         4,
         0,
         "Tennis Court 1"
        ],
        [
         0,
         5,
         0,
         "Tennis Court 1"
        ],
        [
         0,
         0,
         0,
         "Tennis Court 1"
        ],
        [
         0,
         5,
         0,
         "Tennis Court 1"
        ],
        [
         1,
         1,
         1,
         "Tennis Court 2"
        ],
        [
         1,
         0,
         1,
         "Tennis Court 2"
        ],
        [
         1,
         0,
         1,
         "Tennis Court 2"
        ],
        [
         0,
         3,
         0,
         "Tennis Court 1"
        ],
        [
         0,
         5,
         0,
         "Tennis Court 1"
        ],
        [
         0,
         5,
         0,
         "Tennis Court 1"
        ],
        [
         0,
         5,
         0,
         "Tennis Court 1"
        ],
        [
         0,
         0,
         0,
         "Tennis Court 1"
        ],
        [
         1,
         2,
         1,
         "Tennis Court 2"
        ],
        [
         1,
         3,
         1,
         "Tennis Court 2"
        ],
        [
         1,
         4,
         1,
         "Tennis Court 2"
        ],
        [
         0,
         0,
         0,
         "Tennis Court 1"
        ],
        [
         0,
         5,
         0,
         "Tennis Court 1"
        ],
        [
         0,
         5,
         0,
         "Tennis Court 1"
        ],
        [
         0,
         4,
         0,
         "Tennis Court 1"
        ],
        [
         1,
         1,
         1,
         "Tennis Court 2"
        ],
        [
         1,
         0,
         1,
         "Tennis Court 2"
        ],
        [
         0,
         5,
         0,
         "Tennis Court 1"
        ],
        [
         0,
         0,
         0,
         "Tennis Court 1"
        ],
        [
         0,
         2,
         0,
         "Tennis Court 1"
        ],
        [
         1,
         0,
         1,
         "Tennis Court 2"
        ],
        [
         1,
         0,
         1,
         "Tennis Court 2"
        ],
        [
         1,
         5,
         1,
         "Tennis Court 2"
        ],
        [
         0,
         0,
         0,
         "Tennis Court 1"
        ],
        [
         0,
         0,
         0,
         "Tennis Court 1"
        ],
        [
         0,
         5,
         0,
         "Tennis Court 1"
        ],
        [
         1,
         1,
         1,
         "Tennis Court 2"
        ],
        [
         1,
         4,
         1,
         "Tennis Court 2"
        ],
        [
         1,
         4,
         1,
         "Tennis Court 2"
        ],
        [
         1,
         0,
         1,
         "Tennis Court 2"
        ],
        [
         1,
         4,
         1,
         "Tennis Court 2"
        ],
        [
         0,
         0,
         0,
         "Tennis Court 1"
        ],
        [
         0,
         4,
         0,
         "Tennis Court 1"
        ],
        [
         0,
         5,
         0,
         "Tennis Court 1"
        ],
        [
         1,
         4,
         1,
         "Tennis Court 2"
        ],
        [
         1,
         0,
         1,
         "Tennis Court 2"
        ],
        [
         1,
         1,
         1,
         "Tennis Court 2"
        ],
        [
         0,
         5,
         0,
         "Tennis Court 1"
        ],
        [
         0,
         0,
         0,
         "Tennis Court 1"
        ],
        [
         0,
         0,
         0,
         "Tennis Court 1"
        ],
        [
         1,
         1,
         1,
         "Tennis Court 2"
        ],
        [
         1,
         0,
         1,
         "Tennis Court 2"
        ],
        [
         1,
         4,
         1,
         "Tennis Court 2"
        ],
        [
         0,
         4,
         0,
         "Tennis Court 1"
        ],
        [
         0,
         0,
         0,
         "Tennis Court 1"
        ],
        [
         0,
         4,
         0,
         "Tennis Court 1"
        ],
        [
         1,
         8,
         1,
         "Tennis Court 2"
        ],
        [
         1,
         8,
         1,
         "Tennis Court 2"
        ],
        [
         1,
         8,
         1,
         "Tennis Court 2"
        ],
        [
         1,
         1,
         1,
         "Tennis Court 2"
        ],
        [
         1,
         0,
         1,
         "Tennis Court 2"
        ],
        [
         1,
         6,
         1,
         "Tennis Court 2"
        ],
        [
         0,
         4,
         0,
         "Tennis Court 1"
        ],
        [
         0,
         5,
         0,
         "Tennis Court 1"
        ],
        [
         0,
         6,
         0,
         "Tennis Court 1"
        ],
        [
         0,
         6,
         0,
         "Tennis Court 1"
        ],
        [
         1,
         0,
         1,
         "Tennis Court 2"
        ],
        [
         1,
         7,
         1,
         "Tennis Court 2"
        ],
        [
         1,
         0,
         1,
         "Tennis Court 2"
        ],
        [
         1,
         0,
         1,
         "Tennis Court 2"
        ],
        [
         1,
         0,
         1,
         "Tennis Court 2"
        ],
        [
         0,
         7,
         0,
         "Tennis Court 1"
        ],
        [
         0,
         4,
         0,
         "Tennis Court 1"
        ],
        [
         0,
         5,
         0,
         "Tennis Court 1"
        ],
        [
         0,
         2,
         0,
         "Tennis Court 1"
        ],
        [
         1,
         1,
         1,
         "Tennis Court 2"
        ],
        [
         1,
         0,
         1,
         "Tennis Court 2"
        ],
        [
         1,
         0,
         1,
         "Tennis Court 2"
        ],
        [
         1,
         7,
         1,
         "Tennis Court 2"
        ],
        [
         0,
         7,
         0,
         "Tennis Court 1"
        ],
        [
         0,
         2,
         0,
         "Tennis Court 1"
        ],
        [
         0,
         6,
         0,
         "Tennis Court 1"
        ],
        [
         0,
         5,
         0,
         "Tennis Court 1"
        ],
        [
         0,
         0,
         0,
         "Tennis Court 1"
        ],
        [
         1,
         8,
         1,
         "Tennis Court 2"
        ],
        [
         1,
         0,
         1,
         "Tennis Court 2"
        ],
        [
         1,
         8,
         1,
         "Tennis Court 2"
        ],
        [
         0,
         5,
         0,
         "Tennis Court 1"
        ],
        [
         0,
         6,
         0,
         "Tennis Court 1"
        ],
        [
         0,
         7,
         0,
         "Tennis Court 1"
        ],
        [
         1,
         8,
         1,
         "Tennis Court 2"
        ],
        [
         1,
         7,
         1,
         "Tennis Court 2"
        ],
        [
         1,
         2,
         1,
         "Tennis Court 2"
        ],
        [
         1,
         1,
         1,
         "Tennis Court 2"
        ],
        [
         0,
         7,
         0,
         "Tennis Court 1"
        ],
        [
         0,
         0,
         0,
         "Tennis Court 1"
        ],
        [
         0,
         0,
         0,
         "Tennis Court 1"
        ],
        [
         0,
         5,
         0,
         "Tennis Court 1"
        ],
        [
         0,
         0,
         0,
         "Tennis Court 1"
        ],
        [
         1,
         0,
         1,
         "Tennis Court 2"
        ],
        [
         1,
         7,
         1,
         "Tennis Court 2"
        ],
        [
         0,
         5,
         0,
         "Tennis Court 1"
        ],
        [
         0,
         5,
         0,
         "Tennis Court 1"
        ],
        [
         1,
         8,
         1,
         "Tennis Court 2"
        ],
        [
         1,
         8,
         1,
         "Tennis Court 2"
        ],
        [
         0,
         8,
         0,
         "Tennis Court 1"
        ],
        [
         0,
         5,
         0,
         "Tennis Court 1"
        ],
        [
         0,
         7,
         0,
         "Tennis Court 1"
        ],
        [
         0,
         5,
         0,
         "Tennis Court 1"
        ],
        [
         1,
         8,
         1,
         "Tennis Court 2"
        ],
        [
         1,
         8,
         1,
         "Tennis Court 2"
        ],
        [
         1,
         0,
         1,
         "Tennis Court 2"
        ],
        [
         1,
         5,
         1,
         "Tennis Court 2"
        ],
        [
         1,
         0,
         1,
         "Tennis Court 2"
        ],
        [
         0,
         5,
         0,
         "Tennis Court 1"
        ],
        [
         0,
         0,
         0,
         "Tennis Court 1"
        ],
        [
         0,
         6,
         0,
         "Tennis Court 1"
        ],
        [
         1,
         8,
         1,
         "Tennis Court 2"
        ],
        [
         1,
         0,
         1,
         "Tennis Court 2"
        ],
        [
         1,
         7,
         1,
         "Tennis Court 2"
        ],
        [
         1,
         8,
         1,
         "Tennis Court 2"
        ],
        [
         0,
         6,
         0,
         "Tennis Court 1"
        ],
        [
         1,
         9,
         1,
         "Tennis Court 2"
        ],
        [
         1,
         0,
         1,
         "Tennis Court 2"
        ],
        [
         1,
         8,
         1,
         "Tennis Court 2"
        ],
        [
         1,
         0,
         1,
         "Tennis Court 2"
        ],
        [
         0,
         2,
         0,
         "Tennis Court 1"
        ],
        [
         0,
         5,
         0,
         "Tennis Court 1"
        ],
        [
         0,
         7,
         0,
         "Tennis Court 1"
        ],
        [
         0,
         7,
         0,
         "Tennis Court 1"
        ],
        [
         1,
         0,
         1,
         "Tennis Court 2"
        ],
        [
         1,
         7,
         1,
         "Tennis Court 2"
        ],
        [
         1,
         9,
         1,
         "Tennis Court 2"
        ],
        [
         1,
         9,
         1,
         "Tennis Court 2"
        ],
        [
         1,
         1,
         1,
         "Tennis Court 2"
        ],
        [
         0,
         7,
         0,
         "Tennis Court 1"
        ],
        [
         0,
         0,
         0,
         "Tennis Court 1"
        ],
        [
         0,
         2,
         0,
         "Tennis Court 1"
        ],
        [
         0,
         0,
         0,
         "Tennis Court 1"
        ],
        [
         0,
         7,
         0,
         "Tennis Court 1"
        ],
        [
         0,
         5,
         0,
         "Tennis Court 1"
        ],
        [
         0,
         7,
         0,
         "Tennis Court 1"
        ],
        [
         1,
         8,
         1,
         "Tennis Court 2"
        ],
        [
         1,
         3,
         1,
         "Tennis Court 2"
        ],
        [
         1,
         0,
         1,
         "Tennis Court 2"
        ],
        [
         1,
         9,
         1,
         "Tennis Court 2"
        ],
        [
         1,
         9,
         1,
         "Tennis Court 2"
        ],
        [
         0,
         10,
         0,
         "Tennis Court 1"
        ],
        [
         1,
         0,
         1,
         "Tennis Court 2"
        ],
        [
         1,
         8,
         1,
         "Tennis Court 2"
        ],
        [
         1,
         7,
         1,
         "Tennis Court 2"
        ],
        [
         0,
         10,
         0,
         "Tennis Court 1"
        ],
        [
         0,
         6,
         0,
         "Tennis Court 1"
        ],
        [
         0,
         5,
         0,
         "Tennis Court 1"
        ],
        [
         0,
         6,
         0,
         "Tennis Court 1"
        ],
        [
         1,
         0,
         1,
         "Tennis Court 2"
        ],
        [
         1,
         10,
         1,
         "Tennis Court 2"
        ],
        [
         1,
         10,
         1,
         "Tennis Court 2"
        ],
        [
         1,
         9,
         1,
         "Tennis Court 2"
        ],
        [
         0,
         6,
         0,
         "Tennis Court 1"
        ],
        [
         0,
         7,
         0,
         "Tennis Court 1"
        ],
        [
         0,
         10,
         0,
         "Tennis Court 1"
        ],
        [
         1,
         10,
         1,
         "Tennis Court 2"
        ],
        [
         1,
         0,
         1,
         "Tennis Court 2"
        ],
        [
         1,
         8,
         1,
         "Tennis Court 2"
        ],
        [
         1,
         0,
         1,
         "Tennis Court 2"
        ],
        [
         0,
         3,
         0,
         "Tennis Court 1"
        ],
        [
         0,
         2,
         0,
         "Tennis Court 1"
        ],
        [
         0,
         5,
         0,
         "Tennis Court 1"
        ],
        [
         0,
         2,
         0,
         "Tennis Court 1"
        ],
        [
         0,
         8,
         0,
         "Tennis Court 1"
        ],
        [
         1,
         10,
         1,
         "Tennis Court 2"
        ],
        [
         1,
         8,
         1,
         "Tennis Court 2"
        ],
        [
         1,
         9,
         1,
         "Tennis Court 2"
        ],
        [
         1,
         0,
         1,
         "Tennis Court 2"
        ],
        [
         1,
         10,
         1,
         "Tennis Court 2"
        ],
        [
         0,
         0,
         0,
         "Tennis Court 1"
        ],
        [
         0,
         5,
         0,
         "Tennis Court 1"
        ],
        [
         0,
         0,
         0,
         "Tennis Court 1"
        ],
        [
         0,
         4,
         0,
         "Tennis Court 1"
        ],
        [
         0,
         0,
         0,
         "Tennis Court 1"
        ],
        [
         0,
         12,
         0,
         "Tennis Court 1"
        ],
        [
         0,
         4,
         0,
         "Tennis Court 1"
        ],
        [
         1,
         11,
         1,
         "Tennis Court 2"
        ],
        [
         1,
         0,
         1,
         "Tennis Court 2"
        ],
        [
         1,
         0,
         1,
         "Tennis Court 2"
        ],
        [
         1,
         0,
         1,
         "Tennis Court 2"
        ],
        [
         1,
         8,
         1,
         "Tennis Court 2"
        ],
        [
         1,
         0,
         1,
         "Tennis Court 2"
        ],
        [
         0,
         0,
         0,
         "Tennis Court 1"
        ],
        [
         0,
         7,
         0,
         "Tennis Court 1"
        ],
        [
         0,
         14,
         0,
         "Tennis Court 1"
        ],
        [
         0,
         0,
         0,
         "Tennis Court 1"
        ],
        [
         0,
         6,
         0,
         "Tennis Court 1"
        ],
        [
         0,
         0,
         0,
         "Tennis Court 1"
        ],
        [
         1,
         0,
         1,
         "Tennis Court 2"
        ],
        [
         1,
         9,
         1,
         "Tennis Court 2"
        ],
        [
         1,
         8,
         1,
         "Tennis Court 2"
        ],
        [
         0,
         4,
         0,
         "Tennis Court 1"
        ],
        [
         0,
         0,
         0,
         "Tennis Court 1"
        ],
        [
         0,
         6,
         0,
         "Tennis Court 1"
        ],
        [
         0,
         0,
         0,
         "Tennis Court 1"
        ],
        [
         1,
         12,
         1,
         "Tennis Court 2"
        ],
        [
         1,
         6,
         1,
         "Tennis Court 2"
        ],
        [
         1,
         10,
         1,
         "Tennis Court 2"
        ],
        [
         1,
         11,
         1,
         "Tennis Court 2"
        ],
        [
         1,
         0,
         1,
         "Tennis Court 2"
        ],
        [
         1,
         11,
         1,
         "Tennis Court 2"
        ],
        [
         0,
         7,
         0,
         "Tennis Court 1"
        ],
        [
         0,
         14,
         0,
         "Tennis Court 1"
        ],
        [
         0,
         11,
         0,
         "Tennis Court 1"
        ],
        [
         0,
         0,
         0,
         "Tennis Court 1"
        ],
        [
         0,
         10,
         0,
         "Tennis Court 1"
        ],
        [
         1,
         11,
         1,
         "Tennis Court 2"
        ],
        [
         1,
         8,
         1,
         "Tennis Court 2"
        ],
        [
         1,
         0,
         1,
         "Tennis Court 2"
        ],
        [
         1,
         0,
         1,
         "Tennis Court 2"
        ],
        [
         0,
         0,
         0,
         "Tennis Court 1"
        ],
        [
         0,
         6,
         0,
         "Tennis Court 1"
        ],
        [
         0,
         5,
         0,
         "Tennis Court 1"
        ],
        [
         0,
         14,
         0,
         "Tennis Court 1"
        ],
        [
         0,
         0,
         0,
         "Tennis Court 1"
        ],
        [
         0,
         7,
         0,
         "Tennis Court 1"
        ],
        [
         1,
         0,
         1,
         "Tennis Court 2"
        ],
        [
         1,
         8,
         1,
         "Tennis Court 2"
        ],
        [
         1,
         12,
         1,
         "Tennis Court 2"
        ],
        [
         1,
         11,
         1,
         "Tennis Court 2"
        ],
        [
         1,
         12,
         1,
         "Tennis Court 2"
        ],
        [
         1,
         8,
         1,
         "Tennis Court 2"
        ],
        [
         0,
         4,
         0,
         "Tennis Court 1"
        ],
        [
         0,
         0,
         0,
         "Tennis Court 1"
        ],
        [
         0,
         5,
         0,
         "Tennis Court 1"
        ],
        [
         0,
         14,
         0,
         "Tennis Court 1"
        ],
        [
         0,
         0,
         0,
         "Tennis Court 1"
        ],
        [
         0,
         0,
         0,
         "Tennis Court 1"
        ],
        [
         1,
         12,
         1,
         "Tennis Court 2"
        ],
        [
         1,
         0,
         1,
         "Tennis Court 2"
        ],
        [
         1,
         11,
         1,
         "Tennis Court 2"
        ],
        [
         1,
         8,
         1,
         "Tennis Court 2"
        ],
        [
         1,
         12,
         1,
         "Tennis Court 2"
        ],
        [
         0,
         0,
         0,
         "Tennis Court 1"
        ],
        [
         0,
         14,
         0,
         "Tennis Court 1"
        ],
        [
         0,
         6,
         0,
         "Tennis Court 1"
        ],
        [
         0,
         10,
         0,
         "Tennis Court 1"
        ],
        [
         0,
         14,
         0,
         "Tennis Court 1"
        ],
        [
         1,
         10,
         1,
         "Tennis Court 2"
        ],
        [
         1,
         0,
         1,
         "Tennis Court 2"
        ],
        [
         1,
         11,
         1,
         "Tennis Court 2"
        ],
        [
         1,
         0,
         1,
         "Tennis Court 2"
        ],
        [
         1,
         16,
         1,
         "Tennis Court 2"
        ],
        [
         0,
         5,
         0,
         "Tennis Court 1"
        ],
        [
         0,
         0,
         0,
         "Tennis Court 1"
        ],
        [
         0,
         5,
         0,
         "Tennis Court 1"
        ],
        [
         0,
         0,
         0,
         "Tennis Court 1"
        ],
        [
         1,
         8,
         1,
         "Tennis Court 2"
        ],
        [
         1,
         15,
         1,
         "Tennis Court 2"
        ],
        [
         1,
         0,
         1,
         "Tennis Court 2"
        ],
        [
         1,
         7,
         1,
         "Tennis Court 2"
        ],
        [
         1,
         12,
         1,
         "Tennis Court 2"
        ],
        [
         0,
         12,
         0,
         "Tennis Court 1"
        ],
        [
         0,
         16,
         0,
         "Tennis Court 1"
        ],
        [
         0,
         6,
         0,
         "Tennis Court 1"
        ],
        [
         0,
         6,
         0,
         "Tennis Court 1"
        ],
        [
         1,
         10,
         1,
         "Tennis Court 2"
        ],
        [
         1,
         7,
         1,
         "Tennis Court 2"
        ],
        [
         1,
         10,
         1,
         "Tennis Court 2"
        ],
        [
         1,
         0,
         1,
         "Tennis Court 2"
        ],
        [
         0,
         10,
         0,
         "Tennis Court 1"
        ],
        [
         0,
         10,
         0,
         "Tennis Court 1"
        ],
        [
         0,
         14,
         0,
         "Tennis Court 1"
        ],
        [
         0,
         4,
         0,
         "Tennis Court 1"
        ],
        [
         0,
         14,
         0,
         "Tennis Court 1"
        ],
        [
         0,
         16,
         0,
         "Tennis Court 1"
        ],
        [
         1,
         9,
         1,
         "Tennis Court 2"
        ],
        [
         1,
         16,
         1,
         "Tennis Court 2"
        ],
        [
         1,
         0,
         1,
         "Tennis Court 2"
        ],
        [
         1,
         10,
         1,
         "Tennis Court 2"
        ],
        [
         1,
         6,
         1,
         "Tennis Court 2"
        ],
        [
         1,
         8,
         1,
         "Tennis Court 2"
        ],
        [
         0,
         14,
         0,
         "Tennis Court 1"
        ],
        [
         0,
         0,
         0,
         "Tennis Court 1"
        ],
        [
         0,
         0,
         0,
         "Tennis Court 1"
        ],
        [
         1,
         11,
         1,
         "Tennis Court 2"
        ],
        [
         1,
         9,
         1,
         "Tennis Court 2"
        ],
        [
         1,
         10,
         1,
         "Tennis Court 2"
        ],
        [
         1,
         7,
         1,
         "Tennis Court 2"
        ],
        [
         1,
         10,
         1,
         "Tennis Court 2"
        ],
        [
         0,
         11,
         0,
         "Tennis Court 1"
        ],
        [
         0,
         5,
         0,
         "Tennis Court 1"
        ],
        [
         0,
         0,
         0,
         "Tennis Court 1"
        ],
        [
         0,
         16,
         0,
         "Tennis Court 1"
        ],
        [
         0,
         11,
         0,
         "Tennis Court 1"
        ],
        [
         1,
         0,
         1,
         "Tennis Court 2"
        ],
        [
         1,
         0,
         1,
         "Tennis Court 2"
        ],
        [
         1,
         0,
         1,
         "Tennis Court 2"
        ],
        [
         1,
         7,
         1,
         "Tennis Court 2"
        ],
        [
         1,
         12,
         1,
         "Tennis Court 2"
        ],
        [
         0,
         11,
         0,
         "Tennis Court 1"
        ],
        [
         0,
         14,
         0,
         "Tennis Court 1"
        ],
        [
         0,
         10,
         0,
         "Tennis Court 1"
        ],
        [
         0,
         5,
         0,
         "Tennis Court 1"
        ],
        [
         0,
         12,
         0,
         "Tennis Court 1"
        ],
        [
         1,
         12,
         1,
         "Tennis Court 2"
        ],
        [
         1,
         11,
         1,
         "Tennis Court 2"
        ],
        [
         1,
         0,
         1,
         "Tennis Court 2"
        ],
        [
         1,
         16,
         1,
         "Tennis Court 2"
        ],
        [
         1,
         10,
         1,
         "Tennis Court 2"
        ],
        [
         1,
         9,
         1,
         "Tennis Court 2"
        ],
        [
         1,
         15,
         1,
         "Tennis Court 2"
        ],
        [
         0,
         14,
         0,
         "Tennis Court 1"
        ],
        [
         0,
         2,
         0,
         "Tennis Court 1"
        ],
        [
         0,
         0,
         0,
         "Tennis Court 1"
        ],
        [
         0,
         6,
         0,
         "Tennis Court 1"
        ],
        [
         0,
         16,
         0,
         "Tennis Court 1"
        ],
        [
         0,
         8,
         0,
         "Tennis Court 1"
        ],
        [
         1,
         12,
         1,
         "Tennis Court 2"
        ],
        [
         1,
         9,
         1,
         "Tennis Court 2"
        ],
        [
         1,
         0,
         1,
         "Tennis Court 2"
        ],
        [
         1,
         8,
         1,
         "Tennis Court 2"
        ],
        [
         1,
         10,
         1,
         "Tennis Court 2"
        ],
        [
         1,
         12,
         1,
         "Tennis Court 2"
        ],
        [
         0,
         8,
         0,
         "Tennis Court 1"
        ],
        [
         0,
         7,
         0,
         "Tennis Court 1"
        ],
        [
         0,
         0,
         0,
         "Tennis Court 1"
        ],
        [
         0,
         5,
         0,
         "Tennis Court 1"
        ],
        [
         0,
         0,
         0,
         "Tennis Court 1"
        ],
        [
         0,
         17,
         0,
         "Tennis Court 1"
        ],
        [
         1,
         9,
         1,
         "Tennis Court 2"
        ],
        [
         1,
         11,
         1,
         "Tennis Court 2"
        ],
        [
         1,
         0,
         1,
         "Tennis Court 2"
        ],
        [
         1,
         15,
         1,
         "Tennis Court 2"
        ],
        [
         0,
         11,
         0,
         "Tennis Court 1"
        ],
        [
         0,
         6,
         0,
         "Tennis Court 1"
        ],
        [
         0,
         11,
         0,
         "Tennis Court 1"
        ],
        [
         0,
         0,
         0,
         "Tennis Court 1"
        ],
        [
         0,
         6,
         0,
         "Tennis Court 1"
        ],
        [
         0,
         5,
         0,
         "Tennis Court 1"
        ],
        [
         1,
         12,
         1,
         "Tennis Court 2"
        ],
        [
         1,
         11,
         1,
         "Tennis Court 2"
        ],
        [
         1,
         0,
         1,
         "Tennis Court 2"
        ],
        [
         1,
         13,
         1,
         "Tennis Court 2"
        ],
        [
         1,
         0,
         1,
         "Tennis Court 2"
        ],
        [
         0,
         0,
         0,
         "Tennis Court 1"
        ],
        [
         0,
         5,
         0,
         "Tennis Court 1"
        ],
        [
         0,
         17,
         0,
         "Tennis Court 1"
        ],
        [
         0,
         7,
         0,
         "Tennis Court 1"
        ],
        [
         0,
         0,
         0,
         "Tennis Court 1"
        ],
        [
         1,
         12,
         1,
         "Tennis Court 2"
        ],
        [
         1,
         0,
         1,
         "Tennis Court 2"
        ],
        [
         1,
         9,
         1,
         "Tennis Court 2"
        ],
        [
         1,
         8,
         1,
         "Tennis Court 2"
        ],
        [
         1,
         9,
         1,
         "Tennis Court 2"
        ],
        [
         1,
         10,
         1,
         "Tennis Court 2"
        ],
        [
         0,
         11,
         0,
         "Tennis Court 1"
        ],
        [
         0,
         14,
         0,
         "Tennis Court 1"
        ],
        [
         0,
         10,
         0,
         "Tennis Court 1"
        ],
        [
         0,
         17,
         0,
         "Tennis Court 1"
        ],
        [
         0,
         6,
         0,
         "Tennis Court 1"
        ],
        [
         0,
         16,
         0,
         "Tennis Court 1"
        ],
        [
         1,
         12,
         1,
         "Tennis Court 2"
        ],
        [
         1,
         11,
         1,
         "Tennis Court 2"
        ],
        [
         1,
         9,
         1,
         "Tennis Court 2"
        ],
        [
         1,
         12,
         1,
         "Tennis Court 2"
        ],
        [
         0,
         0,
         0,
         "Tennis Court 1"
        ],
        [
         0,
         7,
         0,
         "Tennis Court 1"
        ],
        [
         0,
         10,
         0,
         "Tennis Court 1"
        ],
        [
         0,
         0,
         0,
         "Tennis Court 1"
        ],
        [
         0,
         9,
         0,
         "Tennis Court 1"
        ],
        [
         0,
         0,
         0,
         "Tennis Court 1"
        ],
        [
         1,
         12,
         1,
         "Tennis Court 2"
        ],
        [
         1,
         10,
         1,
         "Tennis Court 2"
        ],
        [
         1,
         9,
         1,
         "Tennis Court 2"
        ],
        [
         1,
         10,
         1,
         "Tennis Court 2"
        ],
        [
         1,
         8,
         1,
         "Tennis Court 2"
        ],
        [
         0,
         0,
         0,
         "Tennis Court 1"
        ],
        [
         0,
         17,
         0,
         "Tennis Court 1"
        ],
        [
         0,
         5,
         0,
         "Tennis Court 1"
        ],
        [
         0,
         0,
         0,
         "Tennis Court 1"
        ],
        [
         0,
         5,
         0,
         "Tennis Court 1"
        ],
        [
         1,
         8,
         1,
         "Tennis Court 2"
        ],
        [
         1,
         10,
         1,
         "Tennis Court 2"
        ],
        [
         1,
         11,
         1,
         "Tennis Court 2"
        ],
        [
         1,
         0,
         1,
         "Tennis Court 2"
        ],
        [
         1,
         0,
         1,
         "Tennis Court 2"
        ],
        [
         0,
         5,
         0,
         "Tennis Court 1"
        ],
        [
         0,
         0,
         0,
         "Tennis Court 1"
        ],
        [
         0,
         11,
         0,
         "Tennis Court 1"
        ],
        [
         0,
         6,
         0,
         "Tennis Court 1"
        ],
        [
         0,
         2,
         0,
         "Tennis Court 1"
        ],
        [
         0,
         5,
         0,
         "Tennis Court 1"
        ],
        [
         1,
         0,
         1,
         "Tennis Court 2"
        ],
        [
         1,
         0,
         1,
         "Tennis Court 2"
        ],
        [
         1,
         12,
         1,
         "Tennis Court 2"
        ],
        [
         1,
         8,
         1,
         "Tennis Court 2"
        ],
        [
         1,
         10,
         1,
         "Tennis Court 2"
        ],
        [
         1,
         8,
         1,
         "Tennis Court 2"
        ],
        [
         0,
         0,
         0,
         "Tennis Court 1"
        ],
        [
         0,
         17,
         0,
         "Tennis Court 1"
        ],
        [
         0,
         7,
         0,
         "Tennis Court 1"
        ],
        [
         0,
         6,
         0,
         "Tennis Court 1"
        ],
        [
         0,
         4,
         0,
         "Tennis Court 1"
        ],
        [
         1,
         0,
         1,
         "Tennis Court 2"
        ],
        [
         1,
         11,
         1,
         "Tennis Court 2"
        ],
        [
         1,
         10,
         1,
         "Tennis Court 2"
        ],
        [
         1,
         12,
         1,
         "Tennis Court 2"
        ],
        [
         1,
         0,
         1,
         "Tennis Court 2"
        ],
        [
         1,
         12,
         1,
         "Tennis Court 2"
        ],
        [
         0,
         10,
         0,
         "Tennis Court 1"
        ],
        [
         0,
         0,
         0,
         "Tennis Court 1"
        ],
        [
         0,
         12,
         0,
         "Tennis Court 1"
        ],
        [
         0,
         5,
         0,
         "Tennis Court 1"
        ],
        [
         0,
         6,
         0,
         "Tennis Court 1"
        ],
        [
         1,
         15,
         1,
         "Tennis Court 2"
        ],
        [
         1,
         11,
         1,
         "Tennis Court 2"
        ],
        [
         1,
         10,
         1,
         "Tennis Court 2"
        ],
        [
         1,
         0,
         1,
         "Tennis Court 2"
        ],
        [
         0,
         0,
         0,
         "Tennis Court 1"
        ],
        [
         0,
         11,
         0,
         "Tennis Court 1"
        ],
        [
         0,
         14,
         0,
         "Tennis Court 1"
        ],
        [
         0,
         0,
         0,
         "Tennis Court 1"
        ],
        [
         0,
         16,
         0,
         "Tennis Court 1"
        ],
        [
         1,
         12,
         1,
         "Tennis Court 2"
        ],
        [
         1,
         0,
         1,
         "Tennis Court 2"
        ],
        [
         1,
         0,
         1,
         "Tennis Court 2"
        ],
        [
         1,
         8,
         1,
         "Tennis Court 2"
        ],
        [
         1,
         11,
         1,
         "Tennis Court 2"
        ],
        [
         0,
         11,
         0,
         "Tennis Court 1"
        ],
        [
         0,
         0,
         0,
         "Tennis Court 1"
        ],
        [
         0,
         10,
         0,
         "Tennis Court 1"
        ],
        [
         0,
         0,
         0,
         "Tennis Court 1"
        ],
        [
         0,
         5,
         0,
         "Tennis Court 1"
        ],
        [
         0,
         0,
         0,
         "Tennis Court 1"
        ],
        [
         1,
         0,
         1,
         "Tennis Court 2"
        ],
        [
         1,
         8,
         1,
         "Tennis Court 2"
        ],
        [
         1,
         0,
         1,
         "Tennis Court 2"
        ],
        [
         1,
         0,
         1,
         "Tennis Court 2"
        ],
        [
         1,
         9,
         1,
         "Tennis Court 2"
        ],
        [
         1,
         24,
         1,
         "Tennis Court 2"
        ],
        [
         0,
         22,
         0,
         "Tennis Court 1"
        ],
        [
         0,
         12,
         0,
         "Tennis Court 1"
        ],
        [
         0,
         0,
         0,
         "Tennis Court 1"
        ],
        [
         0,
         2,
         0,
         "Tennis Court 1"
        ],
        [
         0,
         6,
         0,
         "Tennis Court 1"
        ],
        [
         0,
         17,
         0,
         "Tennis Court 1"
        ],
        [
         1,
         1,
         1,
         "Tennis Court 2"
        ],
        [
         1,
         10,
         1,
         "Tennis Court 2"
        ],
        [
         1,
         24,
         1,
         "Tennis Court 2"
        ],
        [
         1,
         8,
         1,
         "Tennis Court 2"
        ],
        [
         1,
         12,
         1,
         "Tennis Court 2"
        ],
        [
         0,
         17,
         0,
         "Tennis Court 1"
        ],
        [
         0,
         11,
         0,
         "Tennis Court 1"
        ],
        [
         0,
         22,
         0,
         "Tennis Court 1"
        ],
        [
         0,
         11,
         0,
         "Tennis Court 1"
        ],
        [
         0,
         4,
         0,
         "Tennis Court 1"
        ],
        [
         1,
         0,
         1,
         "Tennis Court 2"
        ],
        [
         1,
         8,
         1,
         "Tennis Court 2"
        ],
        [
         1,
         0,
         1,
         "Tennis Court 2"
        ],
        [
         1,
         9,
         1,
         "Tennis Court 2"
        ],
        [
         1,
         12,
         1,
         "Tennis Court 2"
        ],
        [
         0,
         0,
         0,
         "Tennis Court 1"
        ],
        [
         0,
         14,
         0,
         "Tennis Court 1"
        ],
        [
         0,
         0,
         0,
         "Tennis Court 1"
        ],
        [
         0,
         11,
         0,
         "Tennis Court 1"
        ],
        [
         0,
         17,
         0,
         "Tennis Court 1"
        ],
        [
         0,
         14,
         0,
         "Tennis Court 1"
        ],
        [
         1,
         9,
         1,
         "Tennis Court 2"
        ],
        [
         1,
         12,
         1,
         "Tennis Court 2"
        ],
        [
         1,
         11,
         1,
         "Tennis Court 2"
        ],
        [
         1,
         24,
         1,
         "Tennis Court 2"
        ],
        [
         1,
         12,
         1,
         "Tennis Court 2"
        ],
        [
         1,
         9,
         1,
         "Tennis Court 2"
        ],
        [
         0,
         5,
         0,
         "Tennis Court 1"
        ],
        [
         0,
         0,
         0,
         "Tennis Court 1"
        ],
        [
         0,
         7,
         0,
         "Tennis Court 1"
        ],
        [
         0,
         0,
         0,
         "Tennis Court 1"
        ],
        [
         0,
         11,
         0,
         "Tennis Court 1"
        ],
        [
         0,
         17,
         0,
         "Tennis Court 1"
        ],
        [
         0,
         16,
         0,
         "Tennis Court 1"
        ],
        [
         1,
         10,
         1,
         "Tennis Court 2"
        ],
        [
         1,
         24,
         1,
         "Tennis Court 2"
        ],
        [
         1,
         9,
         1,
         "Tennis Court 2"
        ],
        [
         1,
         0,
         1,
         "Tennis Court 2"
        ],
        [
         1,
         9,
         1,
         "Tennis Court 2"
        ],
        [
         0,
         5,
         0,
         "Tennis Court 1"
        ],
        [
         0,
         16,
         0,
         "Tennis Court 1"
        ],
        [
         0,
         26,
         0,
         "Tennis Court 1"
        ],
        [
         0,
         7,
         0,
         "Tennis Court 1"
        ],
        [
         0,
         0,
         0,
         "Tennis Court 1"
        ],
        [
         0,
         24,
         0,
         "Tennis Court 1"
        ],
        [
         1,
         8,
         1,
         "Tennis Court 2"
        ],
        [
         1,
         0,
         1,
         "Tennis Court 2"
        ],
        [
         1,
         16,
         1,
         "Tennis Court 2"
        ],
        [
         1,
         10,
         1,
         "Tennis Court 2"
        ],
        [
         1,
         15,
         1,
         "Tennis Court 2"
        ],
        [
         1,
         0,
         1,
         "Tennis Court 2"
        ],
        [
         0,
         22,
         0,
         "Tennis Court 1"
        ],
        [
         0,
         14,
         0,
         "Tennis Court 1"
        ],
        [
         0,
         0,
         0,
         "Tennis Court 1"
        ],
        [
         0,
         14,
         0,
         "Tennis Court 1"
        ],
        [
         0,
         10,
         0,
         "Tennis Court 1"
        ],
        [
         1,
         24,
         1,
         "Tennis Court 2"
        ],
        [
         1,
         0,
         1,
         "Tennis Court 2"
        ],
        [
         1,
         0,
         1,
         "Tennis Court 2"
        ],
        [
         1,
         15,
         1,
         "Tennis Court 2"
        ],
        [
         1,
         0,
         1,
         "Tennis Court 2"
        ],
        [
         1,
         12,
         1,
         "Tennis Court 2"
        ],
        [
         1,
         0,
         1,
         "Tennis Court 2"
        ],
        [
         0,
         5,
         0,
         "Tennis Court 1"
        ],
        [
         0,
         6,
         0,
         "Tennis Court 1"
        ],
        [
         0,
         7,
         0,
         "Tennis Court 1"
        ],
        [
         0,
         17,
         0,
         "Tennis Court 1"
        ],
        [
         0,
         11,
         0,
         "Tennis Court 1"
        ],
        [
         0,
         26,
         0,
         "Tennis Court 1"
        ],
        [
         1,
         9,
         1,
         "Tennis Court 2"
        ],
        [
         1,
         11,
         1,
         "Tennis Court 2"
        ],
        [
         1,
         8,
         1,
         "Tennis Court 2"
        ],
        [
         1,
         12,
         1,
         "Tennis Court 2"
        ],
        [
         1,
         11,
         1,
         "Tennis Court 2"
        ],
        [
         1,
         9,
         1,
         "Tennis Court 2"
        ],
        [
         1,
         11,
         1,
         "Tennis Court 2"
        ],
        [
         0,
         22,
         0,
         "Tennis Court 1"
        ],
        [
         0,
         0,
         0,
         "Tennis Court 1"
        ],
        [
         0,
         4,
         0,
         "Tennis Court 1"
        ],
        [
         0,
         26,
         0,
         "Tennis Court 1"
        ],
        [
         0,
         5,
         0,
         "Tennis Court 1"
        ],
        [
         0,
         0,
         0,
         "Tennis Court 1"
        ],
        [
         0,
         16,
         0,
         "Tennis Court 1"
        ],
        [
         1,
         11,
         1,
         "Tennis Court 2"
        ],
        [
         1,
         0,
         1,
         "Tennis Court 2"
        ],
        [
         1,
         14,
         1,
         "Tennis Court 2"
        ],
        [
         1,
         11,
         1,
         "Tennis Court 2"
        ],
        [
         1,
         0,
         1,
         "Tennis Court 2"
        ],
        [
         1,
         10,
         1,
         "Tennis Court 2"
        ],
        [
         0,
         5,
         0,
         "Tennis Court 1"
        ],
        [
         0,
         0,
         0,
         "Tennis Court 1"
        ],
        [
         0,
         7,
         0,
         "Tennis Court 1"
        ],
        [
         0,
         10,
         0,
         "Tennis Court 1"
        ],
        [
         0,
         0,
         0,
         "Tennis Court 1"
        ],
        [
         1,
         8,
         1,
         "Tennis Court 2"
        ],
        [
         1,
         11,
         1,
         "Tennis Court 2"
        ],
        [
         1,
         0,
         1,
         "Tennis Court 2"
        ],
        [
         1,
         12,
         1,
         "Tennis Court 2"
        ],
        [
         1,
         8,
         1,
         "Tennis Court 2"
        ],
        [
         1,
         24,
         1,
         "Tennis Court 2"
        ],
        [
         0,
         6,
         0,
         "Tennis Court 1"
        ],
        [
         0,
         17,
         0,
         "Tennis Court 1"
        ],
        [
         0,
         5,
         0,
         "Tennis Court 1"
        ],
        [
         0,
         3,
         0,
         "Tennis Court 1"
        ],
        [
         0,
         0,
         0,
         "Tennis Court 1"
        ],
        [
         0,
         26,
         0,
         "Tennis Court 1"
        ],
        [
         0,
         0,
         0,
         "Tennis Court 1"
        ],
        [
         1,
         11,
         1,
         "Tennis Court 2"
        ],
        [
         1,
         8,
         1,
         "Tennis Court 2"
        ],
        [
         1,
         0,
         1,
         "Tennis Court 2"
        ],
        [
         1,
         0,
         1,
         "Tennis Court 2"
        ],
        [
         0,
         0,
         0,
         "Tennis Court 1"
        ],
        [
         0,
         11,
         0,
         "Tennis Court 1"
        ],
        [
         0,
         7,
         0,
         "Tennis Court 1"
        ],
        [
         0,
         17,
         0,
         "Tennis Court 1"
        ],
        [
         1,
         10,
         1,
         "Tennis Court 2"
        ],
        [
         1,
         11,
         1,
         "Tennis Court 2"
        ],
        [
         1,
         24,
         1,
         "Tennis Court 2"
        ],
        [
         1,
         12,
         1,
         "Tennis Court 2"
        ],
        [
         0,
         0,
         0,
         "Tennis Court 1"
        ],
        [
         0,
         11,
         0,
         "Tennis Court 1"
        ],
        [
         0,
         6,
         0,
         "Tennis Court 1"
        ],
        [
         0,
         0,
         0,
         "Tennis Court 1"
        ],
        [
         0,
         24,
         0,
         "Tennis Court 1"
        ],
        [
         0,
         10,
         0,
         "Tennis Court 1"
        ],
        [
         1,
         8,
         1,
         "Tennis Court 2"
        ],
        [
         1,
         0,
         1,
         "Tennis Court 2"
        ],
        [
         1,
         16,
         1,
         "Tennis Court 2"
        ],
        [
         1,
         8,
         1,
         "Tennis Court 2"
        ],
        [
         1,
         12,
         1,
         "Tennis Court 2"
        ],
        [
         1,
         0,
         1,
         "Tennis Court 2"
        ],
        [
         0,
         22,
         0,
         "Tennis Court 1"
        ],
        [
         0,
         0,
         0,
         "Tennis Court 1"
        ],
        [
         0,
         13,
         0,
         "Tennis Court 1"
        ],
        [
         0,
         7,
         0,
         "Tennis Court 1"
        ],
        [
         0,
         0,
         0,
         "Tennis Court 1"
        ],
        [
         0,
         26,
         0,
         "Tennis Court 1"
        ],
        [
         1,
         8,
         1,
         "Tennis Court 2"
        ],
        [
         1,
         9,
         1,
         "Tennis Court 2"
        ],
        [
         1,
         0,
         1,
         "Tennis Court 2"
        ],
        [
         1,
         0,
         1,
         "Tennis Court 2"
        ],
        [
         1,
         8,
         1,
         "Tennis Court 2"
        ],
        [
         1,
         9,
         1,
         "Tennis Court 2"
        ],
        [
         1,
         8,
         1,
         "Tennis Court 2"
        ],
        [
         0,
         28,
         0,
         "Tennis Court 1"
        ],
        [
         0,
         6,
         0,
         "Tennis Court 1"
        ],
        [
         0,
         11,
         0,
         "Tennis Court 1"
        ],
        [
         0,
         16,
         0,
         "Tennis Court 1"
        ],
        [
         0,
         5,
         0,
         "Tennis Court 1"
        ],
        [
         0,
         28,
         0,
         "Tennis Court 1"
        ],
        [
         0,
         14,
         0,
         "Tennis Court 1"
        ],
        [
         1,
         10,
         1,
         "Tennis Court 2"
        ],
        [
         1,
         12,
         1,
         "Tennis Court 2"
        ],
        [
         1,
         0,
         1,
         "Tennis Court 2"
        ],
        [
         1,
         11,
         1,
         "Tennis Court 2"
        ],
        [
         1,
         10,
         1,
         "Tennis Court 2"
        ],
        [
         0,
         16,
         0,
         "Tennis Court 1"
        ],
        [
         0,
         28,
         0,
         "Tennis Court 1"
        ],
        [
         0,
         0,
         0,
         "Tennis Court 1"
        ],
        [
         0,
         28,
         0,
         "Tennis Court 1"
        ],
        [
         0,
         24,
         0,
         "Tennis Court 1"
        ],
        [
         0,
         14,
         0,
         "Tennis Court 1"
        ],
        [
         1,
         0,
         1,
         "Tennis Court 2"
        ],
        [
         1,
         1,
         1,
         "Tennis Court 2"
        ],
        [
         1,
         0,
         1,
         "Tennis Court 2"
        ],
        [
         1,
         4,
         1,
         "Tennis Court 2"
        ],
        [
         1,
         10,
         1,
         "Tennis Court 2"
        ],
        [
         0,
         14,
         0,
         "Tennis Court 1"
        ],
        [
         0,
         0,
         0,
         "Tennis Court 1"
        ],
        [
         0,
         0,
         0,
         "Tennis Court 1"
        ],
        [
         0,
         17,
         0,
         "Tennis Court 1"
        ],
        [
         0,
         26,
         0,
         "Tennis Court 1"
        ],
        [
         0,
         5,
         0,
         "Tennis Court 1"
        ],
        [
         1,
         11,
         1,
         "Tennis Court 2"
        ],
        [
         1,
         10,
         1,
         "Tennis Court 2"
        ],
        [
         1,
         30,
         1,
         "Tennis Court 2"
        ],
        [
         1,
         10,
         1,
         "Tennis Court 2"
        ],
        [
         1,
         9,
         1,
         "Tennis Court 2"
        ],
        [
         1,
         0,
         1,
         "Tennis Court 2"
        ],
        [
         1,
         24,
         1,
         "Tennis Court 2"
        ],
        [
         0,
         26,
         0,
         "Tennis Court 1"
        ],
        [
         0,
         11,
         0,
         "Tennis Court 1"
        ],
        [
         0,
         22,
         0,
         "Tennis Court 1"
        ],
        [
         0,
         16,
         0,
         "Tennis Court 1"
        ],
        [
         0,
         5,
         0,
         "Tennis Court 1"
        ],
        [
         0,
         17,
         0,
         "Tennis Court 1"
        ],
        [
         1,
         12,
         1,
         "Tennis Court 2"
        ],
        [
         1,
         16,
         1,
         "Tennis Court 2"
        ],
        [
         1,
         1,
         1,
         "Tennis Court 2"
        ],
        [
         1,
         9,
         1,
         "Tennis Court 2"
        ],
        [
         1,
         10,
         1,
         "Tennis Court 2"
        ],
        [
         1,
         27,
         1,
         "Tennis Court 2"
        ],
        [
         0,
         0,
         0,
         "Tennis Court 1"
        ],
        [
         0,
         11,
         0,
         "Tennis Court 1"
        ],
        [
         0,
         0,
         0,
         "Tennis Court 1"
        ],
        [
         0,
         6,
         0,
         "Tennis Court 1"
        ],
        [
         0,
         14,
         0,
         "Tennis Court 1"
        ],
        [
         0,
         10,
         0,
         "Tennis Court 1"
        ],
        [
         1,
         5,
         1,
         "Tennis Court 2"
        ],
        [
         1,
         10,
         1,
         "Tennis Court 2"
        ],
        [
         1,
         8,
         1,
         "Tennis Court 2"
        ],
        [
         1,
         15,
         1,
         "Tennis Court 2"
        ],
        [
         1,
         12,
         1,
         "Tennis Court 2"
        ],
        [
         1,
         0,
         1,
         "Tennis Court 2"
        ],
        [
         0,
         7,
         0,
         "Tennis Court 1"
        ],
        [
         0,
         10,
         0,
         "Tennis Court 1"
        ],
        [
         0,
         15,
         0,
         "Tennis Court 1"
        ],
        [
         0,
         26,
         0,
         "Tennis Court 1"
        ],
        [
         0,
         35,
         0,
         "Tennis Court 1"
        ],
        [
         0,
         2,
         0,
         "Tennis Court 1"
        ],
        [
         0,
         17,
         0,
         "Tennis Court 1"
        ],
        [
         1,
         0,
         1,
         "Tennis Court 2"
        ],
        [
         1,
         24,
         1,
         "Tennis Court 2"
        ],
        [
         1,
         8,
         1,
         "Tennis Court 2"
        ],
        [
         1,
         24,
         1,
         "Tennis Court 2"
        ],
        [
         1,
         15,
         1,
         "Tennis Court 2"
        ],
        [
         1,
         35,
         1,
         "Tennis Court 2"
        ],
        [
         1,
         0,
         1,
         "Tennis Court 2"
        ],
        [
         0,
         0,
         0,
         "Tennis Court 1"
        ],
        [
         0,
         35,
         0,
         "Tennis Court 1"
        ],
        [
         0,
         0,
         0,
         "Tennis Court 1"
        ],
        [
         0,
         14,
         0,
         "Tennis Court 1"
        ],
        [
         0,
         11,
         0,
         "Tennis Court 1"
        ],
        [
         1,
         28,
         1,
         "Tennis Court 2"
        ],
        [
         1,
         10,
         1,
         "Tennis Court 2"
        ],
        [
         1,
         10,
         1,
         "Tennis Court 2"
        ],
        [
         1,
         16,
         1,
         "Tennis Court 2"
        ],
        [
         1,
         0,
         1,
         "Tennis Court 2"
        ],
        [
         1,
         24,
         1,
         "Tennis Court 2"
        ],
        [
         0,
         12,
         0,
         "Tennis Court 1"
        ],
        [
         0,
         2,
         0,
         "Tennis Court 1"
        ],
        [
         0,
         16,
         0,
         "Tennis Court 1"
        ],
        [
         0,
         0,
         0,
         "Tennis Court 1"
        ],
        [
         0,
         11,
         0,
         "Tennis Court 1"
        ],
        [
         1,
         9,
         1,
         "Tennis Court 2"
        ],
        [
         1,
         12,
         1,
         "Tennis Court 2"
        ],
        [
         1,
         0,
         1,
         "Tennis Court 2"
        ],
        [
         1,
         12,
         1,
         "Tennis Court 2"
        ],
        [
         1,
         11,
         1,
         "Tennis Court 2"
        ],
        [
         1,
         35,
         1,
         "Tennis Court 2"
        ],
        [
         1,
         0,
         1,
         "Tennis Court 2"
        ],
        [
         0,
         5,
         0,
         "Tennis Court 1"
        ],
        [
         0,
         0,
         0,
         "Tennis Court 1"
        ],
        [
         0,
         6,
         0,
         "Tennis Court 1"
        ],
        [
         0,
         11,
         0,
         "Tennis Court 1"
        ],
        [
         0,
         0,
         0,
         "Tennis Court 1"
        ],
        [
         0,
         22,
         0,
         "Tennis Court 1"
        ],
        [
         1,
         0,
         1,
         "Tennis Court 2"
        ],
        [
         1,
         0,
         1,
         "Tennis Court 2"
        ],
        [
         1,
         9,
         1,
         "Tennis Court 2"
        ],
        [
         1,
         35,
         1,
         "Tennis Court 2"
        ],
        [
         1,
         12,
         1,
         "Tennis Court 2"
        ],
        [
         1,
         11,
         1,
         "Tennis Court 2"
        ],
        [
         0,
         11,
         0,
         "Tennis Court 1"
        ],
        [
         0,
         6,
         0,
         "Tennis Court 1"
        ],
        [
         0,
         17,
         0,
         "Tennis Court 1"
        ],
        [
         0,
         26,
         0,
         "Tennis Court 1"
        ],
        [
         0,
         0,
         0,
         "Tennis Court 1"
        ],
        [
         1,
         0,
         1,
         "Tennis Court 2"
        ],
        [
         1,
         8,
         1,
         "Tennis Court 2"
        ],
        [
         1,
         0,
         1,
         "Tennis Court 2"
        ],
        [
         1,
         35,
         1,
         "Tennis Court 2"
        ],
        [
         1,
         10,
         1,
         "Tennis Court 2"
        ],
        [
         0,
         35,
         0,
         "Tennis Court 1"
        ],
        [
         0,
         16,
         0,
         "Tennis Court 1"
        ],
        [
         0,
         28,
         0,
         "Tennis Court 1"
        ],
        [
         0,
         0,
         0,
         "Tennis Court 1"
        ],
        [
         0,
         0,
         0,
         "Tennis Court 1"
        ],
        [
         0,
         0,
         0,
         "Tennis Court 1"
        ],
        [
         1,
         10,
         1,
         "Tennis Court 2"
        ],
        [
         1,
         0,
         1,
         "Tennis Court 2"
        ],
        [
         1,
         8,
         1,
         "Tennis Court 2"
        ],
        [
         1,
         0,
         1,
         "Tennis Court 2"
        ],
        [
         1,
         0,
         1,
         "Tennis Court 2"
        ],
        [
         0,
         0,
         0,
         "Tennis Court 1"
        ],
        [
         0,
         11,
         0,
         "Tennis Court 1"
        ],
        [
         0,
         6,
         0,
         "Tennis Court 1"
        ],
        [
         0,
         28,
         0,
         "Tennis Court 1"
        ],
        [
         0,
         20,
         0,
         "Tennis Court 1"
        ],
        [
         1,
         0,
         1,
         "Tennis Court 2"
        ],
        [
         1,
         8,
         1,
         "Tennis Court 2"
        ],
        [
         1,
         10,
         1,
         "Tennis Court 2"
        ],
        [
         1,
         12,
         1,
         "Tennis Court 2"
        ],
        [
         1,
         0,
         1,
         "Tennis Court 2"
        ],
        [
         1,
         10,
         1,
         "Tennis Court 2"
        ],
        [
         0,
         4,
         0,
         "Tennis Court 1"
        ],
        [
         0,
         35,
         0,
         "Tennis Court 1"
        ],
        [
         0,
         0,
         0,
         "Tennis Court 1"
        ],
        [
         0,
         36,
         0,
         "Tennis Court 1"
        ],
        [
         0,
         24,
         0,
         "Tennis Court 1"
        ],
        [
         0,
         0,
         0,
         "Tennis Court 1"
        ],
        [
         0,
         24,
         0,
         "Tennis Court 1"
        ],
        [
         1,
         8,
         1,
         "Tennis Court 2"
        ],
        [
         1,
         0,
         1,
         "Tennis Court 2"
        ],
        [
         1,
         10,
         1,
         "Tennis Court 2"
        ],
        [
         1,
         11,
         1,
         "Tennis Court 2"
        ],
        [
         1,
         10,
         1,
         "Tennis Court 2"
        ],
        [
         1,
         8,
         1,
         "Tennis Court 2"
        ]
       ],
       "datasetInfos": [],
       "dbfsResultPath": null,
       "isJsonSchema": true,
       "overflow": false,
       "plotOptions": {
        "customPlotOptions": {},
        "displayType": "table",
        "pivotAggregation": null,
        "pivotColumns": null,
        "xColumns": null,
        "yColumns": null
       },
       "removedWidgets": [],
       "schema": [
        {
         "metadata": "{}",
         "name": "b_facid",
         "type": "\"integer\""
        },
        {
         "metadata": "{}",
         "name": "memid",
         "type": "\"integer\""
        },
        {
         "metadata": "{}",
         "name": "f_facid",
         "type": "\"integer\""
        },
        {
         "metadata": "{}",
         "name": "name",
         "type": "\"string\""
        }
       ],
       "type": "table"
      }
     },
     "output_type": "display_data"
    }
   ],
   "source": [
    "%sql\n",
    "select bookings.facid as b_facid,\n",
    "       bookings.memid,\n",
    "       facilities.facid as f_facid,\n",
    "       facilities.name\n",
    "\n",
    "  from bookings\n",
    "  left join facilities\n",
    "  on bookings.facid = facilities.facid\n",
    "  where name like '%Tennis Court%'"
   ]
  },
  {
   "cell_type": "markdown",
   "metadata": {
    "application/vnd.databricks.v1+cell": {
     "inputWidgets": {},
     "nuid": "97e75db8-66a8-4a80-8069-fbf9278ecde8",
     "showTitle": false,
     "title": ""
    }
   },
   "source": [
    "###### join bookings, facilities, and members"
   ]
  },
  {
   "cell_type": "code",
   "execution_count": 0,
   "metadata": {
    "application/vnd.databricks.v1+cell": {
     "inputWidgets": {},
     "nuid": "500ea4f4-4533-4286-82c6-33da53908746",
     "showTitle": false,
     "title": ""
    }
   },
   "outputs": [
    {
     "data": {
      "text/html": [
       "<style scoped>\n",
       "  .table-result-container {\n",
       "    max-height: 300px;\n",
       "    overflow: auto;\n",
       "  }\n",
       "  table, th, td {\n",
       "    border: 1px solid black;\n",
       "    border-collapse: collapse;\n",
       "  }\n",
       "  th, td {\n",
       "    padding: 5px;\n",
       "  }\n",
       "  th {\n",
       "    text-align: left;\n",
       "  }\n",
       "</style><div class='table-result-container'><table class='table-result'><thead style='background-color: white'><tr><th>b_facid</th><th>b_memid</th><th>f_facid</th><th>name</th><th>m_memid</th><th>surname</th><th>firstname</th><th>fullname</th></tr></thead><tbody><tr><td>0</td><td>2</td><td>0</td><td>Tennis Court 1</td><td>2</td><td>Smith</td><td>Tracy</td><td>Tracy Smith</td></tr><tr><td>0</td><td>2</td><td>0</td><td>Tennis Court 1</td><td>2</td><td>Smith</td><td>Tracy</td><td>Tracy Smith</td></tr><tr><td>1</td><td>0</td><td>1</td><td>Tennis Court 2</td><td>0</td><td>GUEST</td><td>GUEST</td><td>GUEST GUEST</td></tr><tr><td>0</td><td>0</td><td>0</td><td>Tennis Court 1</td><td>0</td><td>GUEST</td><td>GUEST</td><td>GUEST GUEST</td></tr><tr><td>0</td><td>0</td><td>0</td><td>Tennis Court 1</td><td>0</td><td>GUEST</td><td>GUEST</td><td>GUEST GUEST</td></tr><tr><td>0</td><td>2</td><td>0</td><td>Tennis Court 1</td><td>2</td><td>Smith</td><td>Tracy</td><td>Tracy Smith</td></tr><tr><td>0</td><td>2</td><td>0</td><td>Tennis Court 1</td><td>2</td><td>Smith</td><td>Tracy</td><td>Tracy Smith</td></tr><tr><td>0</td><td>0</td><td>0</td><td>Tennis Court 1</td><td>0</td><td>GUEST</td><td>GUEST</td><td>GUEST GUEST</td></tr><tr><td>0</td><td>2</td><td>0</td><td>Tennis Court 1</td><td>2</td><td>Smith</td><td>Tracy</td><td>Tracy Smith</td></tr><tr><td>1</td><td>3</td><td>1</td><td>Tennis Court 2</td><td>3</td><td>Rownam</td><td>Tim</td><td>Tim Rownam</td></tr><tr><td>0</td><td>3</td><td>0</td><td>Tennis Court 1</td><td>3</td><td>Rownam</td><td>Tim</td><td>Tim Rownam</td></tr><tr><td>0</td><td>2</td><td>0</td><td>Tennis Court 1</td><td>2</td><td>Smith</td><td>Tracy</td><td>Tracy Smith</td></tr><tr><td>1</td><td>1</td><td>1</td><td>Tennis Court 2</td><td>1</td><td>Smith</td><td>Darren</td><td>Darren Smith</td></tr><tr><td>1</td><td>1</td><td>1</td><td>Tennis Court 2</td><td>1</td><td>Smith</td><td>Darren</td><td>Darren Smith</td></tr><tr><td>0</td><td>2</td><td>0</td><td>Tennis Court 1</td><td>2</td><td>Smith</td><td>Tracy</td><td>Tracy Smith</td></tr><tr><td>0</td><td>2</td><td>0</td><td>Tennis Court 1</td><td>2</td><td>Smith</td><td>Tracy</td><td>Tracy Smith</td></tr><tr><td>0</td><td>2</td><td>0</td><td>Tennis Court 1</td><td>2</td><td>Smith</td><td>Tracy</td><td>Tracy Smith</td></tr><tr><td>1</td><td>0</td><td>1</td><td>Tennis Court 2</td><td>0</td><td>GUEST</td><td>GUEST</td><td>GUEST GUEST</td></tr><tr><td>1</td><td>1</td><td>1</td><td>Tennis Court 2</td><td>1</td><td>Smith</td><td>Darren</td><td>Darren Smith</td></tr><tr><td>0</td><td>0</td><td>0</td><td>Tennis Court 1</td><td>0</td><td>GUEST</td><td>GUEST</td><td>GUEST GUEST</td></tr><tr><td>0</td><td>0</td><td>0</td><td>Tennis Court 1</td><td>0</td><td>GUEST</td><td>GUEST</td><td>GUEST GUEST</td></tr><tr><td>0</td><td>4</td><td>0</td><td>Tennis Court 1</td><td>4</td><td>Joplette</td><td>Janice</td><td>Janice Joplette</td></tr><tr><td>0</td><td>2</td><td>0</td><td>Tennis Court 1</td><td>2</td><td>Smith</td><td>Tracy</td><td>Tracy Smith</td></tr><tr><td>0</td><td>0</td><td>0</td><td>Tennis Court 1</td><td>0</td><td>GUEST</td><td>GUEST</td><td>GUEST GUEST</td></tr><tr><td>0</td><td>0</td><td>0</td><td>Tennis Court 1</td><td>0</td><td>GUEST</td><td>GUEST</td><td>GUEST GUEST</td></tr><tr><td>0</td><td>2</td><td>0</td><td>Tennis Court 1</td><td>2</td><td>Smith</td><td>Tracy</td><td>Tracy Smith</td></tr><tr><td>0</td><td>2</td><td>0</td><td>Tennis Court 1</td><td>2</td><td>Smith</td><td>Tracy</td><td>Tracy Smith</td></tr><tr><td>1</td><td>0</td><td>1</td><td>Tennis Court 2</td><td>0</td><td>GUEST</td><td>GUEST</td><td>GUEST GUEST</td></tr><tr><td>1</td><td>0</td><td>1</td><td>Tennis Court 2</td><td>0</td><td>GUEST</td><td>GUEST</td><td>GUEST GUEST</td></tr><tr><td>0</td><td>0</td><td>0</td><td>Tennis Court 1</td><td>0</td><td>GUEST</td><td>GUEST</td><td>GUEST GUEST</td></tr><tr><td>0</td><td>2</td><td>0</td><td>Tennis Court 1</td><td>2</td><td>Smith</td><td>Tracy</td><td>Tracy Smith</td></tr><tr><td>1</td><td>1</td><td>1</td><td>Tennis Court 2</td><td>1</td><td>Smith</td><td>Darren</td><td>Darren Smith</td></tr><tr><td>0</td><td>2</td><td>0</td><td>Tennis Court 1</td><td>2</td><td>Smith</td><td>Tracy</td><td>Tracy Smith</td></tr><tr><td>0</td><td>4</td><td>0</td><td>Tennis Court 1</td><td>4</td><td>Joplette</td><td>Janice</td><td>Janice Joplette</td></tr><tr><td>0</td><td>3</td><td>0</td><td>Tennis Court 1</td><td>3</td><td>Rownam</td><td>Tim</td><td>Tim Rownam</td></tr><tr><td>1</td><td>1</td><td>1</td><td>Tennis Court 2</td><td>1</td><td>Smith</td><td>Darren</td><td>Darren Smith</td></tr><tr><td>0</td><td>2</td><td>0</td><td>Tennis Court 1</td><td>2</td><td>Smith</td><td>Tracy</td><td>Tracy Smith</td></tr><tr><td>0</td><td>4</td><td>0</td><td>Tennis Court 1</td><td>4</td><td>Joplette</td><td>Janice</td><td>Janice Joplette</td></tr><tr><td>0</td><td>3</td><td>0</td><td>Tennis Court 1</td><td>3</td><td>Rownam</td><td>Tim</td><td>Tim Rownam</td></tr><tr><td>1</td><td>3</td><td>1</td><td>Tennis Court 2</td><td>3</td><td>Rownam</td><td>Tim</td><td>Tim Rownam</td></tr><tr><td>1</td><td>3</td><td>1</td><td>Tennis Court 2</td><td>3</td><td>Rownam</td><td>Tim</td><td>Tim Rownam</td></tr><tr><td>1</td><td>0</td><td>1</td><td>Tennis Court 2</td><td>0</td><td>GUEST</td><td>GUEST</td><td>GUEST GUEST</td></tr><tr><td>0</td><td>2</td><td>0</td><td>Tennis Court 1</td><td>2</td><td>Smith</td><td>Tracy</td><td>Tracy Smith</td></tr><tr><td>0</td><td>0</td><td>0</td><td>Tennis Court 1</td><td>0</td><td>GUEST</td><td>GUEST</td><td>GUEST GUEST</td></tr><tr><td>0</td><td>2</td><td>0</td><td>Tennis Court 1</td><td>2</td><td>Smith</td><td>Tracy</td><td>Tracy Smith</td></tr><tr><td>1</td><td>0</td><td>1</td><td>Tennis Court 2</td><td>0</td><td>GUEST</td><td>GUEST</td><td>GUEST GUEST</td></tr><tr><td>1</td><td>0</td><td>1</td><td>Tennis Court 2</td><td>0</td><td>GUEST</td><td>GUEST</td><td>GUEST GUEST</td></tr><tr><td>1</td><td>3</td><td>1</td><td>Tennis Court 2</td><td>3</td><td>Rownam</td><td>Tim</td><td>Tim Rownam</td></tr><tr><td>0</td><td>5</td><td>0</td><td>Tennis Court 1</td><td>5</td><td>Butters</td><td>Gerald</td><td>Gerald Butters</td></tr><tr><td>0</td><td>5</td><td>0</td><td>Tennis Court 1</td><td>5</td><td>Butters</td><td>Gerald</td><td>Gerald Butters</td></tr><tr><td>1</td><td>1</td><td>1</td><td>Tennis Court 2</td><td>1</td><td>Smith</td><td>Darren</td><td>Darren Smith</td></tr><tr><td>1</td><td>0</td><td>1</td><td>Tennis Court 2</td><td>0</td><td>GUEST</td><td>GUEST</td><td>GUEST GUEST</td></tr><tr><td>0</td><td>5</td><td>0</td><td>Tennis Court 1</td><td>5</td><td>Butters</td><td>Gerald</td><td>Gerald Butters</td></tr><tr><td>0</td><td>5</td><td>0</td><td>Tennis Court 1</td><td>5</td><td>Butters</td><td>Gerald</td><td>Gerald Butters</td></tr><tr><td>1</td><td>1</td><td>1</td><td>Tennis Court 2</td><td>1</td><td>Smith</td><td>Darren</td><td>Darren Smith</td></tr><tr><td>1</td><td>4</td><td>1</td><td>Tennis Court 2</td><td>4</td><td>Joplette</td><td>Janice</td><td>Janice Joplette</td></tr><tr><td>0</td><td>5</td><td>0</td><td>Tennis Court 1</td><td>5</td><td>Butters</td><td>Gerald</td><td>Gerald Butters</td></tr><tr><td>0</td><td>5</td><td>0</td><td>Tennis Court 1</td><td>5</td><td>Butters</td><td>Gerald</td><td>Gerald Butters</td></tr><tr><td>1</td><td>0</td><td>1</td><td>Tennis Court 2</td><td>0</td><td>GUEST</td><td>GUEST</td><td>GUEST GUEST</td></tr><tr><td>1</td><td>0</td><td>1</td><td>Tennis Court 2</td><td>0</td><td>GUEST</td><td>GUEST</td><td>GUEST GUEST</td></tr><tr><td>0</td><td>2</td><td>0</td><td>Tennis Court 1</td><td>2</td><td>Smith</td><td>Tracy</td><td>Tracy Smith</td></tr><tr><td>0</td><td>4</td><td>0</td><td>Tennis Court 1</td><td>4</td><td>Joplette</td><td>Janice</td><td>Janice Joplette</td></tr><tr><td>0</td><td>5</td><td>0</td><td>Tennis Court 1</td><td>5</td><td>Butters</td><td>Gerald</td><td>Gerald Butters</td></tr><tr><td>0</td><td>0</td><td>0</td><td>Tennis Court 1</td><td>0</td><td>GUEST</td><td>GUEST</td><td>GUEST GUEST</td></tr><tr><td>0</td><td>5</td><td>0</td><td>Tennis Court 1</td><td>5</td><td>Butters</td><td>Gerald</td><td>Gerald Butters</td></tr><tr><td>1</td><td>1</td><td>1</td><td>Tennis Court 2</td><td>1</td><td>Smith</td><td>Darren</td><td>Darren Smith</td></tr><tr><td>1</td><td>0</td><td>1</td><td>Tennis Court 2</td><td>0</td><td>GUEST</td><td>GUEST</td><td>GUEST GUEST</td></tr><tr><td>1</td><td>0</td><td>1</td><td>Tennis Court 2</td><td>0</td><td>GUEST</td><td>GUEST</td><td>GUEST GUEST</td></tr><tr><td>0</td><td>3</td><td>0</td><td>Tennis Court 1</td><td>3</td><td>Rownam</td><td>Tim</td><td>Tim Rownam</td></tr><tr><td>0</td><td>5</td><td>0</td><td>Tennis Court 1</td><td>5</td><td>Butters</td><td>Gerald</td><td>Gerald Butters</td></tr><tr><td>0</td><td>5</td><td>0</td><td>Tennis Court 1</td><td>5</td><td>Butters</td><td>Gerald</td><td>Gerald Butters</td></tr><tr><td>0</td><td>5</td><td>0</td><td>Tennis Court 1</td><td>5</td><td>Butters</td><td>Gerald</td><td>Gerald Butters</td></tr><tr><td>0</td><td>0</td><td>0</td><td>Tennis Court 1</td><td>0</td><td>GUEST</td><td>GUEST</td><td>GUEST GUEST</td></tr><tr><td>1</td><td>2</td><td>1</td><td>Tennis Court 2</td><td>2</td><td>Smith</td><td>Tracy</td><td>Tracy Smith</td></tr><tr><td>1</td><td>3</td><td>1</td><td>Tennis Court 2</td><td>3</td><td>Rownam</td><td>Tim</td><td>Tim Rownam</td></tr><tr><td>1</td><td>4</td><td>1</td><td>Tennis Court 2</td><td>4</td><td>Joplette</td><td>Janice</td><td>Janice Joplette</td></tr><tr><td>0</td><td>0</td><td>0</td><td>Tennis Court 1</td><td>0</td><td>GUEST</td><td>GUEST</td><td>GUEST GUEST</td></tr><tr><td>0</td><td>5</td><td>0</td><td>Tennis Court 1</td><td>5</td><td>Butters</td><td>Gerald</td><td>Gerald Butters</td></tr><tr><td>0</td><td>5</td><td>0</td><td>Tennis Court 1</td><td>5</td><td>Butters</td><td>Gerald</td><td>Gerald Butters</td></tr><tr><td>0</td><td>4</td><td>0</td><td>Tennis Court 1</td><td>4</td><td>Joplette</td><td>Janice</td><td>Janice Joplette</td></tr><tr><td>1</td><td>1</td><td>1</td><td>Tennis Court 2</td><td>1</td><td>Smith</td><td>Darren</td><td>Darren Smith</td></tr><tr><td>1</td><td>0</td><td>1</td><td>Tennis Court 2</td><td>0</td><td>GUEST</td><td>GUEST</td><td>GUEST GUEST</td></tr><tr><td>0</td><td>5</td><td>0</td><td>Tennis Court 1</td><td>5</td><td>Butters</td><td>Gerald</td><td>Gerald Butters</td></tr><tr><td>0</td><td>0</td><td>0</td><td>Tennis Court 1</td><td>0</td><td>GUEST</td><td>GUEST</td><td>GUEST GUEST</td></tr><tr><td>0</td><td>2</td><td>0</td><td>Tennis Court 1</td><td>2</td><td>Smith</td><td>Tracy</td><td>Tracy Smith</td></tr><tr><td>1</td><td>0</td><td>1</td><td>Tennis Court 2</td><td>0</td><td>GUEST</td><td>GUEST</td><td>GUEST GUEST</td></tr><tr><td>1</td><td>0</td><td>1</td><td>Tennis Court 2</td><td>0</td><td>GUEST</td><td>GUEST</td><td>GUEST GUEST</td></tr><tr><td>1</td><td>5</td><td>1</td><td>Tennis Court 2</td><td>5</td><td>Butters</td><td>Gerald</td><td>Gerald Butters</td></tr><tr><td>0</td><td>0</td><td>0</td><td>Tennis Court 1</td><td>0</td><td>GUEST</td><td>GUEST</td><td>GUEST GUEST</td></tr><tr><td>0</td><td>0</td><td>0</td><td>Tennis Court 1</td><td>0</td><td>GUEST</td><td>GUEST</td><td>GUEST GUEST</td></tr><tr><td>0</td><td>5</td><td>0</td><td>Tennis Court 1</td><td>5</td><td>Butters</td><td>Gerald</td><td>Gerald Butters</td></tr><tr><td>1</td><td>1</td><td>1</td><td>Tennis Court 2</td><td>1</td><td>Smith</td><td>Darren</td><td>Darren Smith</td></tr><tr><td>1</td><td>4</td><td>1</td><td>Tennis Court 2</td><td>4</td><td>Joplette</td><td>Janice</td><td>Janice Joplette</td></tr><tr><td>1</td><td>4</td><td>1</td><td>Tennis Court 2</td><td>4</td><td>Joplette</td><td>Janice</td><td>Janice Joplette</td></tr><tr><td>1</td><td>0</td><td>1</td><td>Tennis Court 2</td><td>0</td><td>GUEST</td><td>GUEST</td><td>GUEST GUEST</td></tr><tr><td>1</td><td>4</td><td>1</td><td>Tennis Court 2</td><td>4</td><td>Joplette</td><td>Janice</td><td>Janice Joplette</td></tr><tr><td>0</td><td>0</td><td>0</td><td>Tennis Court 1</td><td>0</td><td>GUEST</td><td>GUEST</td><td>GUEST GUEST</td></tr><tr><td>0</td><td>4</td><td>0</td><td>Tennis Court 1</td><td>4</td><td>Joplette</td><td>Janice</td><td>Janice Joplette</td></tr><tr><td>0</td><td>5</td><td>0</td><td>Tennis Court 1</td><td>5</td><td>Butters</td><td>Gerald</td><td>Gerald Butters</td></tr><tr><td>1</td><td>4</td><td>1</td><td>Tennis Court 2</td><td>4</td><td>Joplette</td><td>Janice</td><td>Janice Joplette</td></tr><tr><td>1</td><td>0</td><td>1</td><td>Tennis Court 2</td><td>0</td><td>GUEST</td><td>GUEST</td><td>GUEST GUEST</td></tr><tr><td>1</td><td>1</td><td>1</td><td>Tennis Court 2</td><td>1</td><td>Smith</td><td>Darren</td><td>Darren Smith</td></tr><tr><td>0</td><td>5</td><td>0</td><td>Tennis Court 1</td><td>5</td><td>Butters</td><td>Gerald</td><td>Gerald Butters</td></tr><tr><td>0</td><td>0</td><td>0</td><td>Tennis Court 1</td><td>0</td><td>GUEST</td><td>GUEST</td><td>GUEST GUEST</td></tr><tr><td>0</td><td>0</td><td>0</td><td>Tennis Court 1</td><td>0</td><td>GUEST</td><td>GUEST</td><td>GUEST GUEST</td></tr><tr><td>1</td><td>1</td><td>1</td><td>Tennis Court 2</td><td>1</td><td>Smith</td><td>Darren</td><td>Darren Smith</td></tr><tr><td>1</td><td>0</td><td>1</td><td>Tennis Court 2</td><td>0</td><td>GUEST</td><td>GUEST</td><td>GUEST GUEST</td></tr><tr><td>1</td><td>4</td><td>1</td><td>Tennis Court 2</td><td>4</td><td>Joplette</td><td>Janice</td><td>Janice Joplette</td></tr><tr><td>0</td><td>4</td><td>0</td><td>Tennis Court 1</td><td>4</td><td>Joplette</td><td>Janice</td><td>Janice Joplette</td></tr><tr><td>0</td><td>0</td><td>0</td><td>Tennis Court 1</td><td>0</td><td>GUEST</td><td>GUEST</td><td>GUEST GUEST</td></tr><tr><td>0</td><td>4</td><td>0</td><td>Tennis Court 1</td><td>4</td><td>Joplette</td><td>Janice</td><td>Janice Joplette</td></tr><tr><td>1</td><td>8</td><td>1</td><td>Tennis Court 2</td><td>8</td><td>Boothe</td><td>Tim</td><td>Tim Boothe</td></tr><tr><td>1</td><td>8</td><td>1</td><td>Tennis Court 2</td><td>8</td><td>Boothe</td><td>Tim</td><td>Tim Boothe</td></tr><tr><td>1</td><td>8</td><td>1</td><td>Tennis Court 2</td><td>8</td><td>Boothe</td><td>Tim</td><td>Tim Boothe</td></tr><tr><td>1</td><td>1</td><td>1</td><td>Tennis Court 2</td><td>1</td><td>Smith</td><td>Darren</td><td>Darren Smith</td></tr><tr><td>1</td><td>0</td><td>1</td><td>Tennis Court 2</td><td>0</td><td>GUEST</td><td>GUEST</td><td>GUEST GUEST</td></tr><tr><td>1</td><td>6</td><td>1</td><td>Tennis Court 2</td><td>6</td><td>Tracy</td><td>Burton</td><td>Burton Tracy</td></tr><tr><td>0</td><td>4</td><td>0</td><td>Tennis Court 1</td><td>4</td><td>Joplette</td><td>Janice</td><td>Janice Joplette</td></tr><tr><td>0</td><td>5</td><td>0</td><td>Tennis Court 1</td><td>5</td><td>Butters</td><td>Gerald</td><td>Gerald Butters</td></tr><tr><td>0</td><td>6</td><td>0</td><td>Tennis Court 1</td><td>6</td><td>Tracy</td><td>Burton</td><td>Burton Tracy</td></tr><tr><td>0</td><td>6</td><td>0</td><td>Tennis Court 1</td><td>6</td><td>Tracy</td><td>Burton</td><td>Burton Tracy</td></tr><tr><td>1</td><td>0</td><td>1</td><td>Tennis Court 2</td><td>0</td><td>GUEST</td><td>GUEST</td><td>GUEST GUEST</td></tr><tr><td>1</td><td>7</td><td>1</td><td>Tennis Court 2</td><td>7</td><td>Dare</td><td>Nancy</td><td>Nancy Dare</td></tr><tr><td>1</td><td>0</td><td>1</td><td>Tennis Court 2</td><td>0</td><td>GUEST</td><td>GUEST</td><td>GUEST GUEST</td></tr><tr><td>1</td><td>0</td><td>1</td><td>Tennis Court 2</td><td>0</td><td>GUEST</td><td>GUEST</td><td>GUEST GUEST</td></tr><tr><td>1</td><td>0</td><td>1</td><td>Tennis Court 2</td><td>0</td><td>GUEST</td><td>GUEST</td><td>GUEST GUEST</td></tr><tr><td>0</td><td>7</td><td>0</td><td>Tennis Court 1</td><td>7</td><td>Dare</td><td>Nancy</td><td>Nancy Dare</td></tr><tr><td>0</td><td>4</td><td>0</td><td>Tennis Court 1</td><td>4</td><td>Joplette</td><td>Janice</td><td>Janice Joplette</td></tr><tr><td>0</td><td>5</td><td>0</td><td>Tennis Court 1</td><td>5</td><td>Butters</td><td>Gerald</td><td>Gerald Butters</td></tr><tr><td>0</td><td>2</td><td>0</td><td>Tennis Court 1</td><td>2</td><td>Smith</td><td>Tracy</td><td>Tracy Smith</td></tr><tr><td>1</td><td>1</td><td>1</td><td>Tennis Court 2</td><td>1</td><td>Smith</td><td>Darren</td><td>Darren Smith</td></tr><tr><td>1</td><td>0</td><td>1</td><td>Tennis Court 2</td><td>0</td><td>GUEST</td><td>GUEST</td><td>GUEST GUEST</td></tr><tr><td>1</td><td>0</td><td>1</td><td>Tennis Court 2</td><td>0</td><td>GUEST</td><td>GUEST</td><td>GUEST GUEST</td></tr><tr><td>1</td><td>7</td><td>1</td><td>Tennis Court 2</td><td>7</td><td>Dare</td><td>Nancy</td><td>Nancy Dare</td></tr><tr><td>0</td><td>7</td><td>0</td><td>Tennis Court 1</td><td>7</td><td>Dare</td><td>Nancy</td><td>Nancy Dare</td></tr><tr><td>0</td><td>2</td><td>0</td><td>Tennis Court 1</td><td>2</td><td>Smith</td><td>Tracy</td><td>Tracy Smith</td></tr><tr><td>0</td><td>6</td><td>0</td><td>Tennis Court 1</td><td>6</td><td>Tracy</td><td>Burton</td><td>Burton Tracy</td></tr><tr><td>0</td><td>5</td><td>0</td><td>Tennis Court 1</td><td>5</td><td>Butters</td><td>Gerald</td><td>Gerald Butters</td></tr><tr><td>0</td><td>0</td><td>0</td><td>Tennis Court 1</td><td>0</td><td>GUEST</td><td>GUEST</td><td>GUEST GUEST</td></tr><tr><td>1</td><td>8</td><td>1</td><td>Tennis Court 2</td><td>8</td><td>Boothe</td><td>Tim</td><td>Tim Boothe</td></tr><tr><td>1</td><td>0</td><td>1</td><td>Tennis Court 2</td><td>0</td><td>GUEST</td><td>GUEST</td><td>GUEST GUEST</td></tr><tr><td>1</td><td>8</td><td>1</td><td>Tennis Court 2</td><td>8</td><td>Boothe</td><td>Tim</td><td>Tim Boothe</td></tr><tr><td>0</td><td>5</td><td>0</td><td>Tennis Court 1</td><td>5</td><td>Butters</td><td>Gerald</td><td>Gerald Butters</td></tr><tr><td>0</td><td>6</td><td>0</td><td>Tennis Court 1</td><td>6</td><td>Tracy</td><td>Burton</td><td>Burton Tracy</td></tr><tr><td>0</td><td>7</td><td>0</td><td>Tennis Court 1</td><td>7</td><td>Dare</td><td>Nancy</td><td>Nancy Dare</td></tr><tr><td>1</td><td>8</td><td>1</td><td>Tennis Court 2</td><td>8</td><td>Boothe</td><td>Tim</td><td>Tim Boothe</td></tr><tr><td>1</td><td>7</td><td>1</td><td>Tennis Court 2</td><td>7</td><td>Dare</td><td>Nancy</td><td>Nancy Dare</td></tr><tr><td>1</td><td>2</td><td>1</td><td>Tennis Court 2</td><td>2</td><td>Smith</td><td>Tracy</td><td>Tracy Smith</td></tr><tr><td>1</td><td>1</td><td>1</td><td>Tennis Court 2</td><td>1</td><td>Smith</td><td>Darren</td><td>Darren Smith</td></tr><tr><td>0</td><td>7</td><td>0</td><td>Tennis Court 1</td><td>7</td><td>Dare</td><td>Nancy</td><td>Nancy Dare</td></tr><tr><td>0</td><td>0</td><td>0</td><td>Tennis Court 1</td><td>0</td><td>GUEST</td><td>GUEST</td><td>GUEST GUEST</td></tr><tr><td>0</td><td>0</td><td>0</td><td>Tennis Court 1</td><td>0</td><td>GUEST</td><td>GUEST</td><td>GUEST GUEST</td></tr><tr><td>0</td><td>5</td><td>0</td><td>Tennis Court 1</td><td>5</td><td>Butters</td><td>Gerald</td><td>Gerald Butters</td></tr><tr><td>0</td><td>0</td><td>0</td><td>Tennis Court 1</td><td>0</td><td>GUEST</td><td>GUEST</td><td>GUEST GUEST</td></tr><tr><td>1</td><td>0</td><td>1</td><td>Tennis Court 2</td><td>0</td><td>GUEST</td><td>GUEST</td><td>GUEST GUEST</td></tr><tr><td>1</td><td>7</td><td>1</td><td>Tennis Court 2</td><td>7</td><td>Dare</td><td>Nancy</td><td>Nancy Dare</td></tr><tr><td>0</td><td>5</td><td>0</td><td>Tennis Court 1</td><td>5</td><td>Butters</td><td>Gerald</td><td>Gerald Butters</td></tr><tr><td>0</td><td>5</td><td>0</td><td>Tennis Court 1</td><td>5</td><td>Butters</td><td>Gerald</td><td>Gerald Butters</td></tr><tr><td>1</td><td>8</td><td>1</td><td>Tennis Court 2</td><td>8</td><td>Boothe</td><td>Tim</td><td>Tim Boothe</td></tr><tr><td>1</td><td>8</td><td>1</td><td>Tennis Court 2</td><td>8</td><td>Boothe</td><td>Tim</td><td>Tim Boothe</td></tr><tr><td>0</td><td>8</td><td>0</td><td>Tennis Court 1</td><td>8</td><td>Boothe</td><td>Tim</td><td>Tim Boothe</td></tr><tr><td>0</td><td>5</td><td>0</td><td>Tennis Court 1</td><td>5</td><td>Butters</td><td>Gerald</td><td>Gerald Butters</td></tr><tr><td>0</td><td>7</td><td>0</td><td>Tennis Court 1</td><td>7</td><td>Dare</td><td>Nancy</td><td>Nancy Dare</td></tr><tr><td>0</td><td>5</td><td>0</td><td>Tennis Court 1</td><td>5</td><td>Butters</td><td>Gerald</td><td>Gerald Butters</td></tr><tr><td>1</td><td>8</td><td>1</td><td>Tennis Court 2</td><td>8</td><td>Boothe</td><td>Tim</td><td>Tim Boothe</td></tr><tr><td>1</td><td>8</td><td>1</td><td>Tennis Court 2</td><td>8</td><td>Boothe</td><td>Tim</td><td>Tim Boothe</td></tr><tr><td>1</td><td>0</td><td>1</td><td>Tennis Court 2</td><td>0</td><td>GUEST</td><td>GUEST</td><td>GUEST GUEST</td></tr><tr><td>1</td><td>5</td><td>1</td><td>Tennis Court 2</td><td>5</td><td>Butters</td><td>Gerald</td><td>Gerald Butters</td></tr><tr><td>1</td><td>0</td><td>1</td><td>Tennis Court 2</td><td>0</td><td>GUEST</td><td>GUEST</td><td>GUEST GUEST</td></tr><tr><td>0</td><td>5</td><td>0</td><td>Tennis Court 1</td><td>5</td><td>Butters</td><td>Gerald</td><td>Gerald Butters</td></tr><tr><td>0</td><td>0</td><td>0</td><td>Tennis Court 1</td><td>0</td><td>GUEST</td><td>GUEST</td><td>GUEST GUEST</td></tr><tr><td>0</td><td>6</td><td>0</td><td>Tennis Court 1</td><td>6</td><td>Tracy</td><td>Burton</td><td>Burton Tracy</td></tr><tr><td>1</td><td>8</td><td>1</td><td>Tennis Court 2</td><td>8</td><td>Boothe</td><td>Tim</td><td>Tim Boothe</td></tr><tr><td>1</td><td>0</td><td>1</td><td>Tennis Court 2</td><td>0</td><td>GUEST</td><td>GUEST</td><td>GUEST GUEST</td></tr><tr><td>1</td><td>7</td><td>1</td><td>Tennis Court 2</td><td>7</td><td>Dare</td><td>Nancy</td><td>Nancy Dare</td></tr><tr><td>1</td><td>8</td><td>1</td><td>Tennis Court 2</td><td>8</td><td>Boothe</td><td>Tim</td><td>Tim Boothe</td></tr><tr><td>0</td><td>6</td><td>0</td><td>Tennis Court 1</td><td>6</td><td>Tracy</td><td>Burton</td><td>Burton Tracy</td></tr><tr><td>1</td><td>9</td><td>1</td><td>Tennis Court 2</td><td>9</td><td>Stibbons</td><td>Ponder</td><td>Ponder Stibbons</td></tr><tr><td>1</td><td>0</td><td>1</td><td>Tennis Court 2</td><td>0</td><td>GUEST</td><td>GUEST</td><td>GUEST GUEST</td></tr><tr><td>1</td><td>8</td><td>1</td><td>Tennis Court 2</td><td>8</td><td>Boothe</td><td>Tim</td><td>Tim Boothe</td></tr><tr><td>1</td><td>0</td><td>1</td><td>Tennis Court 2</td><td>0</td><td>GUEST</td><td>GUEST</td><td>GUEST GUEST</td></tr><tr><td>0</td><td>2</td><td>0</td><td>Tennis Court 1</td><td>2</td><td>Smith</td><td>Tracy</td><td>Tracy Smith</td></tr><tr><td>0</td><td>5</td><td>0</td><td>Tennis Court 1</td><td>5</td><td>Butters</td><td>Gerald</td><td>Gerald Butters</td></tr><tr><td>0</td><td>7</td><td>0</td><td>Tennis Court 1</td><td>7</td><td>Dare</td><td>Nancy</td><td>Nancy Dare</td></tr><tr><td>0</td><td>7</td><td>0</td><td>Tennis Court 1</td><td>7</td><td>Dare</td><td>Nancy</td><td>Nancy Dare</td></tr><tr><td>1</td><td>0</td><td>1</td><td>Tennis Court 2</td><td>0</td><td>GUEST</td><td>GUEST</td><td>GUEST GUEST</td></tr><tr><td>1</td><td>7</td><td>1</td><td>Tennis Court 2</td><td>7</td><td>Dare</td><td>Nancy</td><td>Nancy Dare</td></tr><tr><td>1</td><td>9</td><td>1</td><td>Tennis Court 2</td><td>9</td><td>Stibbons</td><td>Ponder</td><td>Ponder Stibbons</td></tr><tr><td>1</td><td>9</td><td>1</td><td>Tennis Court 2</td><td>9</td><td>Stibbons</td><td>Ponder</td><td>Ponder Stibbons</td></tr><tr><td>1</td><td>1</td><td>1</td><td>Tennis Court 2</td><td>1</td><td>Smith</td><td>Darren</td><td>Darren Smith</td></tr><tr><td>0</td><td>7</td><td>0</td><td>Tennis Court 1</td><td>7</td><td>Dare</td><td>Nancy</td><td>Nancy Dare</td></tr><tr><td>0</td><td>0</td><td>0</td><td>Tennis Court 1</td><td>0</td><td>GUEST</td><td>GUEST</td><td>GUEST GUEST</td></tr><tr><td>0</td><td>2</td><td>0</td><td>Tennis Court 1</td><td>2</td><td>Smith</td><td>Tracy</td><td>Tracy Smith</td></tr><tr><td>0</td><td>0</td><td>0</td><td>Tennis Court 1</td><td>0</td><td>GUEST</td><td>GUEST</td><td>GUEST GUEST</td></tr><tr><td>0</td><td>7</td><td>0</td><td>Tennis Court 1</td><td>7</td><td>Dare</td><td>Nancy</td><td>Nancy Dare</td></tr><tr><td>0</td><td>5</td><td>0</td><td>Tennis Court 1</td><td>5</td><td>Butters</td><td>Gerald</td><td>Gerald Butters</td></tr><tr><td>0</td><td>7</td><td>0</td><td>Tennis Court 1</td><td>7</td><td>Dare</td><td>Nancy</td><td>Nancy Dare</td></tr><tr><td>1</td><td>8</td><td>1</td><td>Tennis Court 2</td><td>8</td><td>Boothe</td><td>Tim</td><td>Tim Boothe</td></tr><tr><td>1</td><td>3</td><td>1</td><td>Tennis Court 2</td><td>3</td><td>Rownam</td><td>Tim</td><td>Tim Rownam</td></tr><tr><td>1</td><td>0</td><td>1</td><td>Tennis Court 2</td><td>0</td><td>GUEST</td><td>GUEST</td><td>GUEST GUEST</td></tr><tr><td>1</td><td>9</td><td>1</td><td>Tennis Court 2</td><td>9</td><td>Stibbons</td><td>Ponder</td><td>Ponder Stibbons</td></tr><tr><td>1</td><td>9</td><td>1</td><td>Tennis Court 2</td><td>9</td><td>Stibbons</td><td>Ponder</td><td>Ponder Stibbons</td></tr><tr><td>0</td><td>10</td><td>0</td><td>Tennis Court 1</td><td>10</td><td>Owen</td><td>Charles</td><td>Charles Owen</td></tr><tr><td>1</td><td>0</td><td>1</td><td>Tennis Court 2</td><td>0</td><td>GUEST</td><td>GUEST</td><td>GUEST GUEST</td></tr><tr><td>1</td><td>8</td><td>1</td><td>Tennis Court 2</td><td>8</td><td>Boothe</td><td>Tim</td><td>Tim Boothe</td></tr><tr><td>1</td><td>7</td><td>1</td><td>Tennis Court 2</td><td>7</td><td>Dare</td><td>Nancy</td><td>Nancy Dare</td></tr><tr><td>0</td><td>10</td><td>0</td><td>Tennis Court 1</td><td>10</td><td>Owen</td><td>Charles</td><td>Charles Owen</td></tr><tr><td>0</td><td>6</td><td>0</td><td>Tennis Court 1</td><td>6</td><td>Tracy</td><td>Burton</td><td>Burton Tracy</td></tr><tr><td>0</td><td>5</td><td>0</td><td>Tennis Court 1</td><td>5</td><td>Butters</td><td>Gerald</td><td>Gerald Butters</td></tr><tr><td>0</td><td>6</td><td>0</td><td>Tennis Court 1</td><td>6</td><td>Tracy</td><td>Burton</td><td>Burton Tracy</td></tr><tr><td>1</td><td>0</td><td>1</td><td>Tennis Court 2</td><td>0</td><td>GUEST</td><td>GUEST</td><td>GUEST GUEST</td></tr><tr><td>1</td><td>10</td><td>1</td><td>Tennis Court 2</td><td>10</td><td>Owen</td><td>Charles</td><td>Charles Owen</td></tr><tr><td>1</td><td>10</td><td>1</td><td>Tennis Court 2</td><td>10</td><td>Owen</td><td>Charles</td><td>Charles Owen</td></tr><tr><td>1</td><td>9</td><td>1</td><td>Tennis Court 2</td><td>9</td><td>Stibbons</td><td>Ponder</td><td>Ponder Stibbons</td></tr><tr><td>0</td><td>6</td><td>0</td><td>Tennis Court 1</td><td>6</td><td>Tracy</td><td>Burton</td><td>Burton Tracy</td></tr><tr><td>0</td><td>7</td><td>0</td><td>Tennis Court 1</td><td>7</td><td>Dare</td><td>Nancy</td><td>Nancy Dare</td></tr><tr><td>0</td><td>10</td><td>0</td><td>Tennis Court 1</td><td>10</td><td>Owen</td><td>Charles</td><td>Charles Owen</td></tr><tr><td>1</td><td>10</td><td>1</td><td>Tennis Court 2</td><td>10</td><td>Owen</td><td>Charles</td><td>Charles Owen</td></tr><tr><td>1</td><td>0</td><td>1</td><td>Tennis Court 2</td><td>0</td><td>GUEST</td><td>GUEST</td><td>GUEST GUEST</td></tr><tr><td>1</td><td>8</td><td>1</td><td>Tennis Court 2</td><td>8</td><td>Boothe</td><td>Tim</td><td>Tim Boothe</td></tr><tr><td>1</td><td>0</td><td>1</td><td>Tennis Court 2</td><td>0</td><td>GUEST</td><td>GUEST</td><td>GUEST GUEST</td></tr><tr><td>0</td><td>3</td><td>0</td><td>Tennis Court 1</td><td>3</td><td>Rownam</td><td>Tim</td><td>Tim Rownam</td></tr><tr><td>0</td><td>2</td><td>0</td><td>Tennis Court 1</td><td>2</td><td>Smith</td><td>Tracy</td><td>Tracy Smith</td></tr><tr><td>0</td><td>5</td><td>0</td><td>Tennis Court 1</td><td>5</td><td>Butters</td><td>Gerald</td><td>Gerald Butters</td></tr><tr><td>0</td><td>2</td><td>0</td><td>Tennis Court 1</td><td>2</td><td>Smith</td><td>Tracy</td><td>Tracy Smith</td></tr><tr><td>0</td><td>8</td><td>0</td><td>Tennis Court 1</td><td>8</td><td>Boothe</td><td>Tim</td><td>Tim Boothe</td></tr><tr><td>1</td><td>10</td><td>1</td><td>Tennis Court 2</td><td>10</td><td>Owen</td><td>Charles</td><td>Charles Owen</td></tr><tr><td>1</td><td>8</td><td>1</td><td>Tennis Court 2</td><td>8</td><td>Boothe</td><td>Tim</td><td>Tim Boothe</td></tr><tr><td>1</td><td>9</td><td>1</td><td>Tennis Court 2</td><td>9</td><td>Stibbons</td><td>Ponder</td><td>Ponder Stibbons</td></tr><tr><td>1</td><td>0</td><td>1</td><td>Tennis Court 2</td><td>0</td><td>GUEST</td><td>GUEST</td><td>GUEST GUEST</td></tr><tr><td>1</td><td>10</td><td>1</td><td>Tennis Court 2</td><td>10</td><td>Owen</td><td>Charles</td><td>Charles Owen</td></tr><tr><td>0</td><td>0</td><td>0</td><td>Tennis Court 1</td><td>0</td><td>GUEST</td><td>GUEST</td><td>GUEST GUEST</td></tr><tr><td>0</td><td>5</td><td>0</td><td>Tennis Court 1</td><td>5</td><td>Butters</td><td>Gerald</td><td>Gerald Butters</td></tr><tr><td>0</td><td>0</td><td>0</td><td>Tennis Court 1</td><td>0</td><td>GUEST</td><td>GUEST</td><td>GUEST GUEST</td></tr><tr><td>0</td><td>4</td><td>0</td><td>Tennis Court 1</td><td>4</td><td>Joplette</td><td>Janice</td><td>Janice Joplette</td></tr><tr><td>0</td><td>0</td><td>0</td><td>Tennis Court 1</td><td>0</td><td>GUEST</td><td>GUEST</td><td>GUEST GUEST</td></tr><tr><td>0</td><td>12</td><td>0</td><td>Tennis Court 1</td><td>12</td><td>Baker</td><td>Anne</td><td>Anne Baker</td></tr><tr><td>0</td><td>4</td><td>0</td><td>Tennis Court 1</td><td>4</td><td>Joplette</td><td>Janice</td><td>Janice Joplette</td></tr><tr><td>1</td><td>11</td><td>1</td><td>Tennis Court 2</td><td>11</td><td>Jones</td><td>David</td><td>David Jones</td></tr><tr><td>1</td><td>0</td><td>1</td><td>Tennis Court 2</td><td>0</td><td>GUEST</td><td>GUEST</td><td>GUEST GUEST</td></tr><tr><td>1</td><td>0</td><td>1</td><td>Tennis Court 2</td><td>0</td><td>GUEST</td><td>GUEST</td><td>GUEST GUEST</td></tr><tr><td>1</td><td>0</td><td>1</td><td>Tennis Court 2</td><td>0</td><td>GUEST</td><td>GUEST</td><td>GUEST GUEST</td></tr><tr><td>1</td><td>8</td><td>1</td><td>Tennis Court 2</td><td>8</td><td>Boothe</td><td>Tim</td><td>Tim Boothe</td></tr><tr><td>1</td><td>0</td><td>1</td><td>Tennis Court 2</td><td>0</td><td>GUEST</td><td>GUEST</td><td>GUEST GUEST</td></tr><tr><td>0</td><td>0</td><td>0</td><td>Tennis Court 1</td><td>0</td><td>GUEST</td><td>GUEST</td><td>GUEST GUEST</td></tr><tr><td>0</td><td>7</td><td>0</td><td>Tennis Court 1</td><td>7</td><td>Dare</td><td>Nancy</td><td>Nancy Dare</td></tr><tr><td>0</td><td>14</td><td>0</td><td>Tennis Court 1</td><td>14</td><td>Smith</td><td>Jack</td><td>Jack Smith</td></tr><tr><td>0</td><td>0</td><td>0</td><td>Tennis Court 1</td><td>0</td><td>GUEST</td><td>GUEST</td><td>GUEST GUEST</td></tr><tr><td>0</td><td>6</td><td>0</td><td>Tennis Court 1</td><td>6</td><td>Tracy</td><td>Burton</td><td>Burton Tracy</td></tr><tr><td>0</td><td>0</td><td>0</td><td>Tennis Court 1</td><td>0</td><td>GUEST</td><td>GUEST</td><td>GUEST GUEST</td></tr><tr><td>1</td><td>0</td><td>1</td><td>Tennis Court 2</td><td>0</td><td>GUEST</td><td>GUEST</td><td>GUEST GUEST</td></tr><tr><td>1</td><td>9</td><td>1</td><td>Tennis Court 2</td><td>9</td><td>Stibbons</td><td>Ponder</td><td>Ponder Stibbons</td></tr><tr><td>1</td><td>8</td><td>1</td><td>Tennis Court 2</td><td>8</td><td>Boothe</td><td>Tim</td><td>Tim Boothe</td></tr><tr><td>0</td><td>4</td><td>0</td><td>Tennis Court 1</td><td>4</td><td>Joplette</td><td>Janice</td><td>Janice Joplette</td></tr><tr><td>0</td><td>0</td><td>0</td><td>Tennis Court 1</td><td>0</td><td>GUEST</td><td>GUEST</td><td>GUEST GUEST</td></tr><tr><td>0</td><td>6</td><td>0</td><td>Tennis Court 1</td><td>6</td><td>Tracy</td><td>Burton</td><td>Burton Tracy</td></tr><tr><td>0</td><td>0</td><td>0</td><td>Tennis Court 1</td><td>0</td><td>GUEST</td><td>GUEST</td><td>GUEST GUEST</td></tr><tr><td>1</td><td>12</td><td>1</td><td>Tennis Court 2</td><td>12</td><td>Baker</td><td>Anne</td><td>Anne Baker</td></tr><tr><td>1</td><td>6</td><td>1</td><td>Tennis Court 2</td><td>6</td><td>Tracy</td><td>Burton</td><td>Burton Tracy</td></tr><tr><td>1</td><td>10</td><td>1</td><td>Tennis Court 2</td><td>10</td><td>Owen</td><td>Charles</td><td>Charles Owen</td></tr><tr><td>1</td><td>11</td><td>1</td><td>Tennis Court 2</td><td>11</td><td>Jones</td><td>David</td><td>David Jones</td></tr><tr><td>1</td><td>0</td><td>1</td><td>Tennis Court 2</td><td>0</td><td>GUEST</td><td>GUEST</td><td>GUEST GUEST</td></tr><tr><td>1</td><td>11</td><td>1</td><td>Tennis Court 2</td><td>11</td><td>Jones</td><td>David</td><td>David Jones</td></tr><tr><td>0</td><td>7</td><td>0</td><td>Tennis Court 1</td><td>7</td><td>Dare</td><td>Nancy</td><td>Nancy Dare</td></tr><tr><td>0</td><td>14</td><td>0</td><td>Tennis Court 1</td><td>14</td><td>Smith</td><td>Jack</td><td>Jack Smith</td></tr><tr><td>0</td><td>11</td><td>0</td><td>Tennis Court 1</td><td>11</td><td>Jones</td><td>David</td><td>David Jones</td></tr><tr><td>0</td><td>0</td><td>0</td><td>Tennis Court 1</td><td>0</td><td>GUEST</td><td>GUEST</td><td>GUEST GUEST</td></tr><tr><td>0</td><td>10</td><td>0</td><td>Tennis Court 1</td><td>10</td><td>Owen</td><td>Charles</td><td>Charles Owen</td></tr><tr><td>1</td><td>11</td><td>1</td><td>Tennis Court 2</td><td>11</td><td>Jones</td><td>David</td><td>David Jones</td></tr><tr><td>1</td><td>8</td><td>1</td><td>Tennis Court 2</td><td>8</td><td>Boothe</td><td>Tim</td><td>Tim Boothe</td></tr><tr><td>1</td><td>0</td><td>1</td><td>Tennis Court 2</td><td>0</td><td>GUEST</td><td>GUEST</td><td>GUEST GUEST</td></tr><tr><td>1</td><td>0</td><td>1</td><td>Tennis Court 2</td><td>0</td><td>GUEST</td><td>GUEST</td><td>GUEST GUEST</td></tr><tr><td>0</td><td>0</td><td>0</td><td>Tennis Court 1</td><td>0</td><td>GUEST</td><td>GUEST</td><td>GUEST GUEST</td></tr><tr><td>0</td><td>6</td><td>0</td><td>Tennis Court 1</td><td>6</td><td>Tracy</td><td>Burton</td><td>Burton Tracy</td></tr><tr><td>0</td><td>5</td><td>0</td><td>Tennis Court 1</td><td>5</td><td>Butters</td><td>Gerald</td><td>Gerald Butters</td></tr><tr><td>0</td><td>14</td><td>0</td><td>Tennis Court 1</td><td>14</td><td>Smith</td><td>Jack</td><td>Jack Smith</td></tr><tr><td>0</td><td>0</td><td>0</td><td>Tennis Court 1</td><td>0</td><td>GUEST</td><td>GUEST</td><td>GUEST GUEST</td></tr><tr><td>0</td><td>7</td><td>0</td><td>Tennis Court 1</td><td>7</td><td>Dare</td><td>Nancy</td><td>Nancy Dare</td></tr><tr><td>1</td><td>0</td><td>1</td><td>Tennis Court 2</td><td>0</td><td>GUEST</td><td>GUEST</td><td>GUEST GUEST</td></tr><tr><td>1</td><td>8</td><td>1</td><td>Tennis Court 2</td><td>8</td><td>Boothe</td><td>Tim</td><td>Tim Boothe</td></tr><tr><td>1</td><td>12</td><td>1</td><td>Tennis Court 2</td><td>12</td><td>Baker</td><td>Anne</td><td>Anne Baker</td></tr><tr><td>1</td><td>11</td><td>1</td><td>Tennis Court 2</td><td>11</td><td>Jones</td><td>David</td><td>David Jones</td></tr><tr><td>1</td><td>12</td><td>1</td><td>Tennis Court 2</td><td>12</td><td>Baker</td><td>Anne</td><td>Anne Baker</td></tr><tr><td>1</td><td>8</td><td>1</td><td>Tennis Court 2</td><td>8</td><td>Boothe</td><td>Tim</td><td>Tim Boothe</td></tr><tr><td>0</td><td>4</td><td>0</td><td>Tennis Court 1</td><td>4</td><td>Joplette</td><td>Janice</td><td>Janice Joplette</td></tr><tr><td>0</td><td>0</td><td>0</td><td>Tennis Court 1</td><td>0</td><td>GUEST</td><td>GUEST</td><td>GUEST GUEST</td></tr><tr><td>0</td><td>5</td><td>0</td><td>Tennis Court 1</td><td>5</td><td>Butters</td><td>Gerald</td><td>Gerald Butters</td></tr><tr><td>0</td><td>14</td><td>0</td><td>Tennis Court 1</td><td>14</td><td>Smith</td><td>Jack</td><td>Jack Smith</td></tr><tr><td>0</td><td>0</td><td>0</td><td>Tennis Court 1</td><td>0</td><td>GUEST</td><td>GUEST</td><td>GUEST GUEST</td></tr><tr><td>0</td><td>0</td><td>0</td><td>Tennis Court 1</td><td>0</td><td>GUEST</td><td>GUEST</td><td>GUEST GUEST</td></tr><tr><td>1</td><td>12</td><td>1</td><td>Tennis Court 2</td><td>12</td><td>Baker</td><td>Anne</td><td>Anne Baker</td></tr><tr><td>1</td><td>0</td><td>1</td><td>Tennis Court 2</td><td>0</td><td>GUEST</td><td>GUEST</td><td>GUEST GUEST</td></tr><tr><td>1</td><td>11</td><td>1</td><td>Tennis Court 2</td><td>11</td><td>Jones</td><td>David</td><td>David Jones</td></tr><tr><td>1</td><td>8</td><td>1</td><td>Tennis Court 2</td><td>8</td><td>Boothe</td><td>Tim</td><td>Tim Boothe</td></tr><tr><td>1</td><td>12</td><td>1</td><td>Tennis Court 2</td><td>12</td><td>Baker</td><td>Anne</td><td>Anne Baker</td></tr><tr><td>0</td><td>0</td><td>0</td><td>Tennis Court 1</td><td>0</td><td>GUEST</td><td>GUEST</td><td>GUEST GUEST</td></tr><tr><td>0</td><td>14</td><td>0</td><td>Tennis Court 1</td><td>14</td><td>Smith</td><td>Jack</td><td>Jack Smith</td></tr><tr><td>0</td><td>6</td><td>0</td><td>Tennis Court 1</td><td>6</td><td>Tracy</td><td>Burton</td><td>Burton Tracy</td></tr><tr><td>0</td><td>10</td><td>0</td><td>Tennis Court 1</td><td>10</td><td>Owen</td><td>Charles</td><td>Charles Owen</td></tr><tr><td>0</td><td>14</td><td>0</td><td>Tennis Court 1</td><td>14</td><td>Smith</td><td>Jack</td><td>Jack Smith</td></tr><tr><td>1</td><td>10</td><td>1</td><td>Tennis Court 2</td><td>10</td><td>Owen</td><td>Charles</td><td>Charles Owen</td></tr><tr><td>1</td><td>0</td><td>1</td><td>Tennis Court 2</td><td>0</td><td>GUEST</td><td>GUEST</td><td>GUEST GUEST</td></tr><tr><td>1</td><td>11</td><td>1</td><td>Tennis Court 2</td><td>11</td><td>Jones</td><td>David</td><td>David Jones</td></tr><tr><td>1</td><td>0</td><td>1</td><td>Tennis Court 2</td><td>0</td><td>GUEST</td><td>GUEST</td><td>GUEST GUEST</td></tr><tr><td>1</td><td>16</td><td>1</td><td>Tennis Court 2</td><td>16</td><td>Baker</td><td>Timothy</td><td>Timothy Baker</td></tr><tr><td>0</td><td>5</td><td>0</td><td>Tennis Court 1</td><td>5</td><td>Butters</td><td>Gerald</td><td>Gerald Butters</td></tr><tr><td>0</td><td>0</td><td>0</td><td>Tennis Court 1</td><td>0</td><td>GUEST</td><td>GUEST</td><td>GUEST GUEST</td></tr><tr><td>0</td><td>5</td><td>0</td><td>Tennis Court 1</td><td>5</td><td>Butters</td><td>Gerald</td><td>Gerald Butters</td></tr><tr><td>0</td><td>0</td><td>0</td><td>Tennis Court 1</td><td>0</td><td>GUEST</td><td>GUEST</td><td>GUEST GUEST</td></tr><tr><td>1</td><td>8</td><td>1</td><td>Tennis Court 2</td><td>8</td><td>Boothe</td><td>Tim</td><td>Tim Boothe</td></tr><tr><td>1</td><td>15</td><td>1</td><td>Tennis Court 2</td><td>15</td><td>Bader</td><td>Florence</td><td>Florence Bader</td></tr><tr><td>1</td><td>0</td><td>1</td><td>Tennis Court 2</td><td>0</td><td>GUEST</td><td>GUEST</td><td>GUEST GUEST</td></tr><tr><td>1</td><td>7</td><td>1</td><td>Tennis Court 2</td><td>7</td><td>Dare</td><td>Nancy</td><td>Nancy Dare</td></tr><tr><td>1</td><td>12</td><td>1</td><td>Tennis Court 2</td><td>12</td><td>Baker</td><td>Anne</td><td>Anne Baker</td></tr><tr><td>0</td><td>12</td><td>0</td><td>Tennis Court 1</td><td>12</td><td>Baker</td><td>Anne</td><td>Anne Baker</td></tr><tr><td>0</td><td>16</td><td>0</td><td>Tennis Court 1</td><td>16</td><td>Baker</td><td>Timothy</td><td>Timothy Baker</td></tr><tr><td>0</td><td>6</td><td>0</td><td>Tennis Court 1</td><td>6</td><td>Tracy</td><td>Burton</td><td>Burton Tracy</td></tr><tr><td>0</td><td>6</td><td>0</td><td>Tennis Court 1</td><td>6</td><td>Tracy</td><td>Burton</td><td>Burton Tracy</td></tr><tr><td>1</td><td>10</td><td>1</td><td>Tennis Court 2</td><td>10</td><td>Owen</td><td>Charles</td><td>Charles Owen</td></tr><tr><td>1</td><td>7</td><td>1</td><td>Tennis Court 2</td><td>7</td><td>Dare</td><td>Nancy</td><td>Nancy Dare</td></tr><tr><td>1</td><td>10</td><td>1</td><td>Tennis Court 2</td><td>10</td><td>Owen</td><td>Charles</td><td>Charles Owen</td></tr><tr><td>1</td><td>0</td><td>1</td><td>Tennis Court 2</td><td>0</td><td>GUEST</td><td>GUEST</td><td>GUEST GUEST</td></tr><tr><td>0</td><td>10</td><td>0</td><td>Tennis Court 1</td><td>10</td><td>Owen</td><td>Charles</td><td>Charles Owen</td></tr><tr><td>0</td><td>10</td><td>0</td><td>Tennis Court 1</td><td>10</td><td>Owen</td><td>Charles</td><td>Charles Owen</td></tr><tr><td>0</td><td>14</td><td>0</td><td>Tennis Court 1</td><td>14</td><td>Smith</td><td>Jack</td><td>Jack Smith</td></tr><tr><td>0</td><td>4</td><td>0</td><td>Tennis Court 1</td><td>4</td><td>Joplette</td><td>Janice</td><td>Janice Joplette</td></tr><tr><td>0</td><td>14</td><td>0</td><td>Tennis Court 1</td><td>14</td><td>Smith</td><td>Jack</td><td>Jack Smith</td></tr><tr><td>0</td><td>16</td><td>0</td><td>Tennis Court 1</td><td>16</td><td>Baker</td><td>Timothy</td><td>Timothy Baker</td></tr><tr><td>1</td><td>9</td><td>1</td><td>Tennis Court 2</td><td>9</td><td>Stibbons</td><td>Ponder</td><td>Ponder Stibbons</td></tr><tr><td>1</td><td>16</td><td>1</td><td>Tennis Court 2</td><td>16</td><td>Baker</td><td>Timothy</td><td>Timothy Baker</td></tr><tr><td>1</td><td>0</td><td>1</td><td>Tennis Court 2</td><td>0</td><td>GUEST</td><td>GUEST</td><td>GUEST GUEST</td></tr><tr><td>1</td><td>10</td><td>1</td><td>Tennis Court 2</td><td>10</td><td>Owen</td><td>Charles</td><td>Charles Owen</td></tr><tr><td>1</td><td>6</td><td>1</td><td>Tennis Court 2</td><td>6</td><td>Tracy</td><td>Burton</td><td>Burton Tracy</td></tr><tr><td>1</td><td>8</td><td>1</td><td>Tennis Court 2</td><td>8</td><td>Boothe</td><td>Tim</td><td>Tim Boothe</td></tr><tr><td>0</td><td>14</td><td>0</td><td>Tennis Court 1</td><td>14</td><td>Smith</td><td>Jack</td><td>Jack Smith</td></tr><tr><td>0</td><td>0</td><td>0</td><td>Tennis Court 1</td><td>0</td><td>GUEST</td><td>GUEST</td><td>GUEST GUEST</td></tr><tr><td>0</td><td>0</td><td>0</td><td>Tennis Court 1</td><td>0</td><td>GUEST</td><td>GUEST</td><td>GUEST GUEST</td></tr><tr><td>1</td><td>11</td><td>1</td><td>Tennis Court 2</td><td>11</td><td>Jones</td><td>David</td><td>David Jones</td></tr><tr><td>1</td><td>9</td><td>1</td><td>Tennis Court 2</td><td>9</td><td>Stibbons</td><td>Ponder</td><td>Ponder Stibbons</td></tr><tr><td>1</td><td>10</td><td>1</td><td>Tennis Court 2</td><td>10</td><td>Owen</td><td>Charles</td><td>Charles Owen</td></tr><tr><td>1</td><td>7</td><td>1</td><td>Tennis Court 2</td><td>7</td><td>Dare</td><td>Nancy</td><td>Nancy Dare</td></tr><tr><td>1</td><td>10</td><td>1</td><td>Tennis Court 2</td><td>10</td><td>Owen</td><td>Charles</td><td>Charles Owen</td></tr><tr><td>0</td><td>11</td><td>0</td><td>Tennis Court 1</td><td>11</td><td>Jones</td><td>David</td><td>David Jones</td></tr><tr><td>0</td><td>5</td><td>0</td><td>Tennis Court 1</td><td>5</td><td>Butters</td><td>Gerald</td><td>Gerald Butters</td></tr><tr><td>0</td><td>0</td><td>0</td><td>Tennis Court 1</td><td>0</td><td>GUEST</td><td>GUEST</td><td>GUEST GUEST</td></tr><tr><td>0</td><td>16</td><td>0</td><td>Tennis Court 1</td><td>16</td><td>Baker</td><td>Timothy</td><td>Timothy Baker</td></tr><tr><td>0</td><td>11</td><td>0</td><td>Tennis Court 1</td><td>11</td><td>Jones</td><td>David</td><td>David Jones</td></tr><tr><td>1</td><td>0</td><td>1</td><td>Tennis Court 2</td><td>0</td><td>GUEST</td><td>GUEST</td><td>GUEST GUEST</td></tr><tr><td>1</td><td>0</td><td>1</td><td>Tennis Court 2</td><td>0</td><td>GUEST</td><td>GUEST</td><td>GUEST GUEST</td></tr><tr><td>1</td><td>0</td><td>1</td><td>Tennis Court 2</td><td>0</td><td>GUEST</td><td>GUEST</td><td>GUEST GUEST</td></tr><tr><td>1</td><td>7</td><td>1</td><td>Tennis Court 2</td><td>7</td><td>Dare</td><td>Nancy</td><td>Nancy Dare</td></tr><tr><td>1</td><td>12</td><td>1</td><td>Tennis Court 2</td><td>12</td><td>Baker</td><td>Anne</td><td>Anne Baker</td></tr><tr><td>0</td><td>11</td><td>0</td><td>Tennis Court 1</td><td>11</td><td>Jones</td><td>David</td><td>David Jones</td></tr><tr><td>0</td><td>14</td><td>0</td><td>Tennis Court 1</td><td>14</td><td>Smith</td><td>Jack</td><td>Jack Smith</td></tr><tr><td>0</td><td>10</td><td>0</td><td>Tennis Court 1</td><td>10</td><td>Owen</td><td>Charles</td><td>Charles Owen</td></tr><tr><td>0</td><td>5</td><td>0</td><td>Tennis Court 1</td><td>5</td><td>Butters</td><td>Gerald</td><td>Gerald Butters</td></tr><tr><td>0</td><td>12</td><td>0</td><td>Tennis Court 1</td><td>12</td><td>Baker</td><td>Anne</td><td>Anne Baker</td></tr><tr><td>1</td><td>12</td><td>1</td><td>Tennis Court 2</td><td>12</td><td>Baker</td><td>Anne</td><td>Anne Baker</td></tr><tr><td>1</td><td>11</td><td>1</td><td>Tennis Court 2</td><td>11</td><td>Jones</td><td>David</td><td>David Jones</td></tr><tr><td>1</td><td>0</td><td>1</td><td>Tennis Court 2</td><td>0</td><td>GUEST</td><td>GUEST</td><td>GUEST GUEST</td></tr><tr><td>1</td><td>16</td><td>1</td><td>Tennis Court 2</td><td>16</td><td>Baker</td><td>Timothy</td><td>Timothy Baker</td></tr><tr><td>1</td><td>10</td><td>1</td><td>Tennis Court 2</td><td>10</td><td>Owen</td><td>Charles</td><td>Charles Owen</td></tr><tr><td>1</td><td>9</td><td>1</td><td>Tennis Court 2</td><td>9</td><td>Stibbons</td><td>Ponder</td><td>Ponder Stibbons</td></tr><tr><td>1</td><td>15</td><td>1</td><td>Tennis Court 2</td><td>15</td><td>Bader</td><td>Florence</td><td>Florence Bader</td></tr><tr><td>0</td><td>14</td><td>0</td><td>Tennis Court 1</td><td>14</td><td>Smith</td><td>Jack</td><td>Jack Smith</td></tr><tr><td>0</td><td>2</td><td>0</td><td>Tennis Court 1</td><td>2</td><td>Smith</td><td>Tracy</td><td>Tracy Smith</td></tr><tr><td>0</td><td>0</td><td>0</td><td>Tennis Court 1</td><td>0</td><td>GUEST</td><td>GUEST</td><td>GUEST GUEST</td></tr><tr><td>0</td><td>6</td><td>0</td><td>Tennis Court 1</td><td>6</td><td>Tracy</td><td>Burton</td><td>Burton Tracy</td></tr><tr><td>0</td><td>16</td><td>0</td><td>Tennis Court 1</td><td>16</td><td>Baker</td><td>Timothy</td><td>Timothy Baker</td></tr><tr><td>0</td><td>8</td><td>0</td><td>Tennis Court 1</td><td>8</td><td>Boothe</td><td>Tim</td><td>Tim Boothe</td></tr><tr><td>1</td><td>12</td><td>1</td><td>Tennis Court 2</td><td>12</td><td>Baker</td><td>Anne</td><td>Anne Baker</td></tr><tr><td>1</td><td>9</td><td>1</td><td>Tennis Court 2</td><td>9</td><td>Stibbons</td><td>Ponder</td><td>Ponder Stibbons</td></tr><tr><td>1</td><td>0</td><td>1</td><td>Tennis Court 2</td><td>0</td><td>GUEST</td><td>GUEST</td><td>GUEST GUEST</td></tr><tr><td>1</td><td>8</td><td>1</td><td>Tennis Court 2</td><td>8</td><td>Boothe</td><td>Tim</td><td>Tim Boothe</td></tr><tr><td>1</td><td>10</td><td>1</td><td>Tennis Court 2</td><td>10</td><td>Owen</td><td>Charles</td><td>Charles Owen</td></tr><tr><td>1</td><td>12</td><td>1</td><td>Tennis Court 2</td><td>12</td><td>Baker</td><td>Anne</td><td>Anne Baker</td></tr><tr><td>0</td><td>8</td><td>0</td><td>Tennis Court 1</td><td>8</td><td>Boothe</td><td>Tim</td><td>Tim Boothe</td></tr><tr><td>0</td><td>7</td><td>0</td><td>Tennis Court 1</td><td>7</td><td>Dare</td><td>Nancy</td><td>Nancy Dare</td></tr><tr><td>0</td><td>0</td><td>0</td><td>Tennis Court 1</td><td>0</td><td>GUEST</td><td>GUEST</td><td>GUEST GUEST</td></tr><tr><td>0</td><td>5</td><td>0</td><td>Tennis Court 1</td><td>5</td><td>Butters</td><td>Gerald</td><td>Gerald Butters</td></tr><tr><td>0</td><td>0</td><td>0</td><td>Tennis Court 1</td><td>0</td><td>GUEST</td><td>GUEST</td><td>GUEST GUEST</td></tr><tr><td>0</td><td>17</td><td>0</td><td>Tennis Court 1</td><td>17</td><td>Pinker</td><td>David</td><td>David Pinker</td></tr><tr><td>1</td><td>9</td><td>1</td><td>Tennis Court 2</td><td>9</td><td>Stibbons</td><td>Ponder</td><td>Ponder Stibbons</td></tr><tr><td>1</td><td>11</td><td>1</td><td>Tennis Court 2</td><td>11</td><td>Jones</td><td>David</td><td>David Jones</td></tr><tr><td>1</td><td>0</td><td>1</td><td>Tennis Court 2</td><td>0</td><td>GUEST</td><td>GUEST</td><td>GUEST GUEST</td></tr><tr><td>1</td><td>15</td><td>1</td><td>Tennis Court 2</td><td>15</td><td>Bader</td><td>Florence</td><td>Florence Bader</td></tr><tr><td>0</td><td>11</td><td>0</td><td>Tennis Court 1</td><td>11</td><td>Jones</td><td>David</td><td>David Jones</td></tr><tr><td>0</td><td>6</td><td>0</td><td>Tennis Court 1</td><td>6</td><td>Tracy</td><td>Burton</td><td>Burton Tracy</td></tr><tr><td>0</td><td>11</td><td>0</td><td>Tennis Court 1</td><td>11</td><td>Jones</td><td>David</td><td>David Jones</td></tr><tr><td>0</td><td>0</td><td>0</td><td>Tennis Court 1</td><td>0</td><td>GUEST</td><td>GUEST</td><td>GUEST GUEST</td></tr><tr><td>0</td><td>6</td><td>0</td><td>Tennis Court 1</td><td>6</td><td>Tracy</td><td>Burton</td><td>Burton Tracy</td></tr><tr><td>0</td><td>5</td><td>0</td><td>Tennis Court 1</td><td>5</td><td>Butters</td><td>Gerald</td><td>Gerald Butters</td></tr><tr><td>1</td><td>12</td><td>1</td><td>Tennis Court 2</td><td>12</td><td>Baker</td><td>Anne</td><td>Anne Baker</td></tr><tr><td>1</td><td>11</td><td>1</td><td>Tennis Court 2</td><td>11</td><td>Jones</td><td>David</td><td>David Jones</td></tr><tr><td>1</td><td>0</td><td>1</td><td>Tennis Court 2</td><td>0</td><td>GUEST</td><td>GUEST</td><td>GUEST GUEST</td></tr><tr><td>1</td><td>13</td><td>1</td><td>Tennis Court 2</td><td>13</td><td>Farrell</td><td>Jemima</td><td>Jemima Farrell</td></tr><tr><td>1</td><td>0</td><td>1</td><td>Tennis Court 2</td><td>0</td><td>GUEST</td><td>GUEST</td><td>GUEST GUEST</td></tr><tr><td>0</td><td>0</td><td>0</td><td>Tennis Court 1</td><td>0</td><td>GUEST</td><td>GUEST</td><td>GUEST GUEST</td></tr><tr><td>0</td><td>5</td><td>0</td><td>Tennis Court 1</td><td>5</td><td>Butters</td><td>Gerald</td><td>Gerald Butters</td></tr><tr><td>0</td><td>17</td><td>0</td><td>Tennis Court 1</td><td>17</td><td>Pinker</td><td>David</td><td>David Pinker</td></tr><tr><td>0</td><td>7</td><td>0</td><td>Tennis Court 1</td><td>7</td><td>Dare</td><td>Nancy</td><td>Nancy Dare</td></tr><tr><td>0</td><td>0</td><td>0</td><td>Tennis Court 1</td><td>0</td><td>GUEST</td><td>GUEST</td><td>GUEST GUEST</td></tr><tr><td>1</td><td>12</td><td>1</td><td>Tennis Court 2</td><td>12</td><td>Baker</td><td>Anne</td><td>Anne Baker</td></tr><tr><td>1</td><td>0</td><td>1</td><td>Tennis Court 2</td><td>0</td><td>GUEST</td><td>GUEST</td><td>GUEST GUEST</td></tr><tr><td>1</td><td>9</td><td>1</td><td>Tennis Court 2</td><td>9</td><td>Stibbons</td><td>Ponder</td><td>Ponder Stibbons</td></tr><tr><td>1</td><td>8</td><td>1</td><td>Tennis Court 2</td><td>8</td><td>Boothe</td><td>Tim</td><td>Tim Boothe</td></tr><tr><td>1</td><td>9</td><td>1</td><td>Tennis Court 2</td><td>9</td><td>Stibbons</td><td>Ponder</td><td>Ponder Stibbons</td></tr><tr><td>1</td><td>10</td><td>1</td><td>Tennis Court 2</td><td>10</td><td>Owen</td><td>Charles</td><td>Charles Owen</td></tr><tr><td>0</td><td>11</td><td>0</td><td>Tennis Court 1</td><td>11</td><td>Jones</td><td>David</td><td>David Jones</td></tr><tr><td>0</td><td>14</td><td>0</td><td>Tennis Court 1</td><td>14</td><td>Smith</td><td>Jack</td><td>Jack Smith</td></tr><tr><td>0</td><td>10</td><td>0</td><td>Tennis Court 1</td><td>10</td><td>Owen</td><td>Charles</td><td>Charles Owen</td></tr><tr><td>0</td><td>17</td><td>0</td><td>Tennis Court 1</td><td>17</td><td>Pinker</td><td>David</td><td>David Pinker</td></tr><tr><td>0</td><td>6</td><td>0</td><td>Tennis Court 1</td><td>6</td><td>Tracy</td><td>Burton</td><td>Burton Tracy</td></tr><tr><td>0</td><td>16</td><td>0</td><td>Tennis Court 1</td><td>16</td><td>Baker</td><td>Timothy</td><td>Timothy Baker</td></tr><tr><td>1</td><td>12</td><td>1</td><td>Tennis Court 2</td><td>12</td><td>Baker</td><td>Anne</td><td>Anne Baker</td></tr><tr><td>1</td><td>11</td><td>1</td><td>Tennis Court 2</td><td>11</td><td>Jones</td><td>David</td><td>David Jones</td></tr><tr><td>1</td><td>9</td><td>1</td><td>Tennis Court 2</td><td>9</td><td>Stibbons</td><td>Ponder</td><td>Ponder Stibbons</td></tr><tr><td>1</td><td>12</td><td>1</td><td>Tennis Court 2</td><td>12</td><td>Baker</td><td>Anne</td><td>Anne Baker</td></tr><tr><td>0</td><td>0</td><td>0</td><td>Tennis Court 1</td><td>0</td><td>GUEST</td><td>GUEST</td><td>GUEST GUEST</td></tr><tr><td>0</td><td>7</td><td>0</td><td>Tennis Court 1</td><td>7</td><td>Dare</td><td>Nancy</td><td>Nancy Dare</td></tr><tr><td>0</td><td>10</td><td>0</td><td>Tennis Court 1</td><td>10</td><td>Owen</td><td>Charles</td><td>Charles Owen</td></tr><tr><td>0</td><td>0</td><td>0</td><td>Tennis Court 1</td><td>0</td><td>GUEST</td><td>GUEST</td><td>GUEST GUEST</td></tr><tr><td>0</td><td>9</td><td>0</td><td>Tennis Court 1</td><td>9</td><td>Stibbons</td><td>Ponder</td><td>Ponder Stibbons</td></tr><tr><td>0</td><td>0</td><td>0</td><td>Tennis Court 1</td><td>0</td><td>GUEST</td><td>GUEST</td><td>GUEST GUEST</td></tr><tr><td>1</td><td>12</td><td>1</td><td>Tennis Court 2</td><td>12</td><td>Baker</td><td>Anne</td><td>Anne Baker</td></tr><tr><td>1</td><td>10</td><td>1</td><td>Tennis Court 2</td><td>10</td><td>Owen</td><td>Charles</td><td>Charles Owen</td></tr><tr><td>1</td><td>9</td><td>1</td><td>Tennis Court 2</td><td>9</td><td>Stibbons</td><td>Ponder</td><td>Ponder Stibbons</td></tr><tr><td>1</td><td>10</td><td>1</td><td>Tennis Court 2</td><td>10</td><td>Owen</td><td>Charles</td><td>Charles Owen</td></tr><tr><td>1</td><td>8</td><td>1</td><td>Tennis Court 2</td><td>8</td><td>Boothe</td><td>Tim</td><td>Tim Boothe</td></tr><tr><td>0</td><td>0</td><td>0</td><td>Tennis Court 1</td><td>0</td><td>GUEST</td><td>GUEST</td><td>GUEST GUEST</td></tr><tr><td>0</td><td>17</td><td>0</td><td>Tennis Court 1</td><td>17</td><td>Pinker</td><td>David</td><td>David Pinker</td></tr><tr><td>0</td><td>5</td><td>0</td><td>Tennis Court 1</td><td>5</td><td>Butters</td><td>Gerald</td><td>Gerald Butters</td></tr><tr><td>0</td><td>0</td><td>0</td><td>Tennis Court 1</td><td>0</td><td>GUEST</td><td>GUEST</td><td>GUEST GUEST</td></tr><tr><td>0</td><td>5</td><td>0</td><td>Tennis Court 1</td><td>5</td><td>Butters</td><td>Gerald</td><td>Gerald Butters</td></tr><tr><td>1</td><td>8</td><td>1</td><td>Tennis Court 2</td><td>8</td><td>Boothe</td><td>Tim</td><td>Tim Boothe</td></tr><tr><td>1</td><td>10</td><td>1</td><td>Tennis Court 2</td><td>10</td><td>Owen</td><td>Charles</td><td>Charles Owen</td></tr><tr><td>1</td><td>11</td><td>1</td><td>Tennis Court 2</td><td>11</td><td>Jones</td><td>David</td><td>David Jones</td></tr><tr><td>1</td><td>0</td><td>1</td><td>Tennis Court 2</td><td>0</td><td>GUEST</td><td>GUEST</td><td>GUEST GUEST</td></tr><tr><td>1</td><td>0</td><td>1</td><td>Tennis Court 2</td><td>0</td><td>GUEST</td><td>GUEST</td><td>GUEST GUEST</td></tr><tr><td>0</td><td>5</td><td>0</td><td>Tennis Court 1</td><td>5</td><td>Butters</td><td>Gerald</td><td>Gerald Butters</td></tr><tr><td>0</td><td>0</td><td>0</td><td>Tennis Court 1</td><td>0</td><td>GUEST</td><td>GUEST</td><td>GUEST GUEST</td></tr><tr><td>0</td><td>11</td><td>0</td><td>Tennis Court 1</td><td>11</td><td>Jones</td><td>David</td><td>David Jones</td></tr><tr><td>0</td><td>6</td><td>0</td><td>Tennis Court 1</td><td>6</td><td>Tracy</td><td>Burton</td><td>Burton Tracy</td></tr><tr><td>0</td><td>2</td><td>0</td><td>Tennis Court 1</td><td>2</td><td>Smith</td><td>Tracy</td><td>Tracy Smith</td></tr><tr><td>0</td><td>5</td><td>0</td><td>Tennis Court 1</td><td>5</td><td>Butters</td><td>Gerald</td><td>Gerald Butters</td></tr><tr><td>1</td><td>0</td><td>1</td><td>Tennis Court 2</td><td>0</td><td>GUEST</td><td>GUEST</td><td>GUEST GUEST</td></tr><tr><td>1</td><td>0</td><td>1</td><td>Tennis Court 2</td><td>0</td><td>GUEST</td><td>GUEST</td><td>GUEST GUEST</td></tr><tr><td>1</td><td>12</td><td>1</td><td>Tennis Court 2</td><td>12</td><td>Baker</td><td>Anne</td><td>Anne Baker</td></tr><tr><td>1</td><td>8</td><td>1</td><td>Tennis Court 2</td><td>8</td><td>Boothe</td><td>Tim</td><td>Tim Boothe</td></tr><tr><td>1</td><td>10</td><td>1</td><td>Tennis Court 2</td><td>10</td><td>Owen</td><td>Charles</td><td>Charles Owen</td></tr><tr><td>1</td><td>8</td><td>1</td><td>Tennis Court 2</td><td>8</td><td>Boothe</td><td>Tim</td><td>Tim Boothe</td></tr><tr><td>0</td><td>0</td><td>0</td><td>Tennis Court 1</td><td>0</td><td>GUEST</td><td>GUEST</td><td>GUEST GUEST</td></tr><tr><td>0</td><td>17</td><td>0</td><td>Tennis Court 1</td><td>17</td><td>Pinker</td><td>David</td><td>David Pinker</td></tr><tr><td>0</td><td>7</td><td>0</td><td>Tennis Court 1</td><td>7</td><td>Dare</td><td>Nancy</td><td>Nancy Dare</td></tr><tr><td>0</td><td>6</td><td>0</td><td>Tennis Court 1</td><td>6</td><td>Tracy</td><td>Burton</td><td>Burton Tracy</td></tr><tr><td>0</td><td>4</td><td>0</td><td>Tennis Court 1</td><td>4</td><td>Joplette</td><td>Janice</td><td>Janice Joplette</td></tr><tr><td>1</td><td>0</td><td>1</td><td>Tennis Court 2</td><td>0</td><td>GUEST</td><td>GUEST</td><td>GUEST GUEST</td></tr><tr><td>1</td><td>11</td><td>1</td><td>Tennis Court 2</td><td>11</td><td>Jones</td><td>David</td><td>David Jones</td></tr><tr><td>1</td><td>10</td><td>1</td><td>Tennis Court 2</td><td>10</td><td>Owen</td><td>Charles</td><td>Charles Owen</td></tr><tr><td>1</td><td>12</td><td>1</td><td>Tennis Court 2</td><td>12</td><td>Baker</td><td>Anne</td><td>Anne Baker</td></tr><tr><td>1</td><td>0</td><td>1</td><td>Tennis Court 2</td><td>0</td><td>GUEST</td><td>GUEST</td><td>GUEST GUEST</td></tr><tr><td>1</td><td>12</td><td>1</td><td>Tennis Court 2</td><td>12</td><td>Baker</td><td>Anne</td><td>Anne Baker</td></tr><tr><td>0</td><td>10</td><td>0</td><td>Tennis Court 1</td><td>10</td><td>Owen</td><td>Charles</td><td>Charles Owen</td></tr><tr><td>0</td><td>0</td><td>0</td><td>Tennis Court 1</td><td>0</td><td>GUEST</td><td>GUEST</td><td>GUEST GUEST</td></tr><tr><td>0</td><td>12</td><td>0</td><td>Tennis Court 1</td><td>12</td><td>Baker</td><td>Anne</td><td>Anne Baker</td></tr><tr><td>0</td><td>5</td><td>0</td><td>Tennis Court 1</td><td>5</td><td>Butters</td><td>Gerald</td><td>Gerald Butters</td></tr><tr><td>0</td><td>6</td><td>0</td><td>Tennis Court 1</td><td>6</td><td>Tracy</td><td>Burton</td><td>Burton Tracy</td></tr><tr><td>1</td><td>15</td><td>1</td><td>Tennis Court 2</td><td>15</td><td>Bader</td><td>Florence</td><td>Florence Bader</td></tr><tr><td>1</td><td>11</td><td>1</td><td>Tennis Court 2</td><td>11</td><td>Jones</td><td>David</td><td>David Jones</td></tr><tr><td>1</td><td>10</td><td>1</td><td>Tennis Court 2</td><td>10</td><td>Owen</td><td>Charles</td><td>Charles Owen</td></tr><tr><td>1</td><td>0</td><td>1</td><td>Tennis Court 2</td><td>0</td><td>GUEST</td><td>GUEST</td><td>GUEST GUEST</td></tr><tr><td>0</td><td>0</td><td>0</td><td>Tennis Court 1</td><td>0</td><td>GUEST</td><td>GUEST</td><td>GUEST GUEST</td></tr><tr><td>0</td><td>11</td><td>0</td><td>Tennis Court 1</td><td>11</td><td>Jones</td><td>David</td><td>David Jones</td></tr><tr><td>0</td><td>14</td><td>0</td><td>Tennis Court 1</td><td>14</td><td>Smith</td><td>Jack</td><td>Jack Smith</td></tr><tr><td>0</td><td>0</td><td>0</td><td>Tennis Court 1</td><td>0</td><td>GUEST</td><td>GUEST</td><td>GUEST GUEST</td></tr><tr><td>0</td><td>16</td><td>0</td><td>Tennis Court 1</td><td>16</td><td>Baker</td><td>Timothy</td><td>Timothy Baker</td></tr><tr><td>1</td><td>12</td><td>1</td><td>Tennis Court 2</td><td>12</td><td>Baker</td><td>Anne</td><td>Anne Baker</td></tr><tr><td>1</td><td>0</td><td>1</td><td>Tennis Court 2</td><td>0</td><td>GUEST</td><td>GUEST</td><td>GUEST GUEST</td></tr><tr><td>1</td><td>0</td><td>1</td><td>Tennis Court 2</td><td>0</td><td>GUEST</td><td>GUEST</td><td>GUEST GUEST</td></tr><tr><td>1</td><td>8</td><td>1</td><td>Tennis Court 2</td><td>8</td><td>Boothe</td><td>Tim</td><td>Tim Boothe</td></tr><tr><td>1</td><td>11</td><td>1</td><td>Tennis Court 2</td><td>11</td><td>Jones</td><td>David</td><td>David Jones</td></tr><tr><td>0</td><td>11</td><td>0</td><td>Tennis Court 1</td><td>11</td><td>Jones</td><td>David</td><td>David Jones</td></tr><tr><td>0</td><td>0</td><td>0</td><td>Tennis Court 1</td><td>0</td><td>GUEST</td><td>GUEST</td><td>GUEST GUEST</td></tr><tr><td>0</td><td>10</td><td>0</td><td>Tennis Court 1</td><td>10</td><td>Owen</td><td>Charles</td><td>Charles Owen</td></tr><tr><td>0</td><td>0</td><td>0</td><td>Tennis Court 1</td><td>0</td><td>GUEST</td><td>GUEST</td><td>GUEST GUEST</td></tr><tr><td>0</td><td>5</td><td>0</td><td>Tennis Court 1</td><td>5</td><td>Butters</td><td>Gerald</td><td>Gerald Butters</td></tr><tr><td>0</td><td>0</td><td>0</td><td>Tennis Court 1</td><td>0</td><td>GUEST</td><td>GUEST</td><td>GUEST GUEST</td></tr><tr><td>1</td><td>0</td><td>1</td><td>Tennis Court 2</td><td>0</td><td>GUEST</td><td>GUEST</td><td>GUEST GUEST</td></tr><tr><td>1</td><td>8</td><td>1</td><td>Tennis Court 2</td><td>8</td><td>Boothe</td><td>Tim</td><td>Tim Boothe</td></tr><tr><td>1</td><td>0</td><td>1</td><td>Tennis Court 2</td><td>0</td><td>GUEST</td><td>GUEST</td><td>GUEST GUEST</td></tr><tr><td>1</td><td>0</td><td>1</td><td>Tennis Court 2</td><td>0</td><td>GUEST</td><td>GUEST</td><td>GUEST GUEST</td></tr><tr><td>1</td><td>9</td><td>1</td><td>Tennis Court 2</td><td>9</td><td>Stibbons</td><td>Ponder</td><td>Ponder Stibbons</td></tr><tr><td>1</td><td>24</td><td>1</td><td>Tennis Court 2</td><td>24</td><td>Sarwin</td><td>Ramnaresh</td><td>Ramnaresh Sarwin</td></tr><tr><td>0</td><td>22</td><td>0</td><td>Tennis Court 1</td><td>22</td><td>Coplin</td><td>Joan</td><td>Joan Coplin</td></tr><tr><td>0</td><td>12</td><td>0</td><td>Tennis Court 1</td><td>12</td><td>Baker</td><td>Anne</td><td>Anne Baker</td></tr><tr><td>0</td><td>0</td><td>0</td><td>Tennis Court 1</td><td>0</td><td>GUEST</td><td>GUEST</td><td>GUEST GUEST</td></tr><tr><td>0</td><td>2</td><td>0</td><td>Tennis Court 1</td><td>2</td><td>Smith</td><td>Tracy</td><td>Tracy Smith</td></tr><tr><td>0</td><td>6</td><td>0</td><td>Tennis Court 1</td><td>6</td><td>Tracy</td><td>Burton</td><td>Burton Tracy</td></tr><tr><td>0</td><td>17</td><td>0</td><td>Tennis Court 1</td><td>17</td><td>Pinker</td><td>David</td><td>David Pinker</td></tr><tr><td>1</td><td>1</td><td>1</td><td>Tennis Court 2</td><td>1</td><td>Smith</td><td>Darren</td><td>Darren Smith</td></tr><tr><td>1</td><td>10</td><td>1</td><td>Tennis Court 2</td><td>10</td><td>Owen</td><td>Charles</td><td>Charles Owen</td></tr><tr><td>1</td><td>24</td><td>1</td><td>Tennis Court 2</td><td>24</td><td>Sarwin</td><td>Ramnaresh</td><td>Ramnaresh Sarwin</td></tr><tr><td>1</td><td>8</td><td>1</td><td>Tennis Court 2</td><td>8</td><td>Boothe</td><td>Tim</td><td>Tim Boothe</td></tr><tr><td>1</td><td>12</td><td>1</td><td>Tennis Court 2</td><td>12</td><td>Baker</td><td>Anne</td><td>Anne Baker</td></tr><tr><td>0</td><td>17</td><td>0</td><td>Tennis Court 1</td><td>17</td><td>Pinker</td><td>David</td><td>David Pinker</td></tr><tr><td>0</td><td>11</td><td>0</td><td>Tennis Court 1</td><td>11</td><td>Jones</td><td>David</td><td>David Jones</td></tr><tr><td>0</td><td>22</td><td>0</td><td>Tennis Court 1</td><td>22</td><td>Coplin</td><td>Joan</td><td>Joan Coplin</td></tr><tr><td>0</td><td>11</td><td>0</td><td>Tennis Court 1</td><td>11</td><td>Jones</td><td>David</td><td>David Jones</td></tr><tr><td>0</td><td>4</td><td>0</td><td>Tennis Court 1</td><td>4</td><td>Joplette</td><td>Janice</td><td>Janice Joplette</td></tr><tr><td>1</td><td>0</td><td>1</td><td>Tennis Court 2</td><td>0</td><td>GUEST</td><td>GUEST</td><td>GUEST GUEST</td></tr><tr><td>1</td><td>8</td><td>1</td><td>Tennis Court 2</td><td>8</td><td>Boothe</td><td>Tim</td><td>Tim Boothe</td></tr><tr><td>1</td><td>0</td><td>1</td><td>Tennis Court 2</td><td>0</td><td>GUEST</td><td>GUEST</td><td>GUEST GUEST</td></tr><tr><td>1</td><td>9</td><td>1</td><td>Tennis Court 2</td><td>9</td><td>Stibbons</td><td>Ponder</td><td>Ponder Stibbons</td></tr><tr><td>1</td><td>12</td><td>1</td><td>Tennis Court 2</td><td>12</td><td>Baker</td><td>Anne</td><td>Anne Baker</td></tr><tr><td>0</td><td>0</td><td>0</td><td>Tennis Court 1</td><td>0</td><td>GUEST</td><td>GUEST</td><td>GUEST GUEST</td></tr><tr><td>0</td><td>14</td><td>0</td><td>Tennis Court 1</td><td>14</td><td>Smith</td><td>Jack</td><td>Jack Smith</td></tr><tr><td>0</td><td>0</td><td>0</td><td>Tennis Court 1</td><td>0</td><td>GUEST</td><td>GUEST</td><td>GUEST GUEST</td></tr><tr><td>0</td><td>11</td><td>0</td><td>Tennis Court 1</td><td>11</td><td>Jones</td><td>David</td><td>David Jones</td></tr><tr><td>0</td><td>17</td><td>0</td><td>Tennis Court 1</td><td>17</td><td>Pinker</td><td>David</td><td>David Pinker</td></tr><tr><td>0</td><td>14</td><td>0</td><td>Tennis Court 1</td><td>14</td><td>Smith</td><td>Jack</td><td>Jack Smith</td></tr><tr><td>1</td><td>9</td><td>1</td><td>Tennis Court 2</td><td>9</td><td>Stibbons</td><td>Ponder</td><td>Ponder Stibbons</td></tr><tr><td>1</td><td>12</td><td>1</td><td>Tennis Court 2</td><td>12</td><td>Baker</td><td>Anne</td><td>Anne Baker</td></tr><tr><td>1</td><td>11</td><td>1</td><td>Tennis Court 2</td><td>11</td><td>Jones</td><td>David</td><td>David Jones</td></tr><tr><td>1</td><td>24</td><td>1</td><td>Tennis Court 2</td><td>24</td><td>Sarwin</td><td>Ramnaresh</td><td>Ramnaresh Sarwin</td></tr><tr><td>1</td><td>12</td><td>1</td><td>Tennis Court 2</td><td>12</td><td>Baker</td><td>Anne</td><td>Anne Baker</td></tr><tr><td>1</td><td>9</td><td>1</td><td>Tennis Court 2</td><td>9</td><td>Stibbons</td><td>Ponder</td><td>Ponder Stibbons</td></tr><tr><td>0</td><td>5</td><td>0</td><td>Tennis Court 1</td><td>5</td><td>Butters</td><td>Gerald</td><td>Gerald Butters</td></tr><tr><td>0</td><td>0</td><td>0</td><td>Tennis Court 1</td><td>0</td><td>GUEST</td><td>GUEST</td><td>GUEST GUEST</td></tr><tr><td>0</td><td>7</td><td>0</td><td>Tennis Court 1</td><td>7</td><td>Dare</td><td>Nancy</td><td>Nancy Dare</td></tr><tr><td>0</td><td>0</td><td>0</td><td>Tennis Court 1</td><td>0</td><td>GUEST</td><td>GUEST</td><td>GUEST GUEST</td></tr><tr><td>0</td><td>11</td><td>0</td><td>Tennis Court 1</td><td>11</td><td>Jones</td><td>David</td><td>David Jones</td></tr><tr><td>0</td><td>17</td><td>0</td><td>Tennis Court 1</td><td>17</td><td>Pinker</td><td>David</td><td>David Pinker</td></tr><tr><td>0</td><td>16</td><td>0</td><td>Tennis Court 1</td><td>16</td><td>Baker</td><td>Timothy</td><td>Timothy Baker</td></tr><tr><td>1</td><td>10</td><td>1</td><td>Tennis Court 2</td><td>10</td><td>Owen</td><td>Charles</td><td>Charles Owen</td></tr><tr><td>1</td><td>24</td><td>1</td><td>Tennis Court 2</td><td>24</td><td>Sarwin</td><td>Ramnaresh</td><td>Ramnaresh Sarwin</td></tr><tr><td>1</td><td>9</td><td>1</td><td>Tennis Court 2</td><td>9</td><td>Stibbons</td><td>Ponder</td><td>Ponder Stibbons</td></tr><tr><td>1</td><td>0</td><td>1</td><td>Tennis Court 2</td><td>0</td><td>GUEST</td><td>GUEST</td><td>GUEST GUEST</td></tr><tr><td>1</td><td>9</td><td>1</td><td>Tennis Court 2</td><td>9</td><td>Stibbons</td><td>Ponder</td><td>Ponder Stibbons</td></tr><tr><td>0</td><td>5</td><td>0</td><td>Tennis Court 1</td><td>5</td><td>Butters</td><td>Gerald</td><td>Gerald Butters</td></tr><tr><td>0</td><td>16</td><td>0</td><td>Tennis Court 1</td><td>16</td><td>Baker</td><td>Timothy</td><td>Timothy Baker</td></tr><tr><td>0</td><td>26</td><td>0</td><td>Tennis Court 1</td><td>26</td><td>Jones</td><td>Douglas</td><td>Douglas Jones</td></tr><tr><td>0</td><td>7</td><td>0</td><td>Tennis Court 1</td><td>7</td><td>Dare</td><td>Nancy</td><td>Nancy Dare</td></tr><tr><td>0</td><td>0</td><td>0</td><td>Tennis Court 1</td><td>0</td><td>GUEST</td><td>GUEST</td><td>GUEST GUEST</td></tr><tr><td>0</td><td>24</td><td>0</td><td>Tennis Court 1</td><td>24</td><td>Sarwin</td><td>Ramnaresh</td><td>Ramnaresh Sarwin</td></tr><tr><td>1</td><td>8</td><td>1</td><td>Tennis Court 2</td><td>8</td><td>Boothe</td><td>Tim</td><td>Tim Boothe</td></tr><tr><td>1</td><td>0</td><td>1</td><td>Tennis Court 2</td><td>0</td><td>GUEST</td><td>GUEST</td><td>GUEST GUEST</td></tr><tr><td>1</td><td>16</td><td>1</td><td>Tennis Court 2</td><td>16</td><td>Baker</td><td>Timothy</td><td>Timothy Baker</td></tr><tr><td>1</td><td>10</td><td>1</td><td>Tennis Court 2</td><td>10</td><td>Owen</td><td>Charles</td><td>Charles Owen</td></tr><tr><td>1</td><td>15</td><td>1</td><td>Tennis Court 2</td><td>15</td><td>Bader</td><td>Florence</td><td>Florence Bader</td></tr><tr><td>1</td><td>0</td><td>1</td><td>Tennis Court 2</td><td>0</td><td>GUEST</td><td>GUEST</td><td>GUEST GUEST</td></tr><tr><td>0</td><td>22</td><td>0</td><td>Tennis Court 1</td><td>22</td><td>Coplin</td><td>Joan</td><td>Joan Coplin</td></tr><tr><td>0</td><td>14</td><td>0</td><td>Tennis Court 1</td><td>14</td><td>Smith</td><td>Jack</td><td>Jack Smith</td></tr><tr><td>0</td><td>0</td><td>0</td><td>Tennis Court 1</td><td>0</td><td>GUEST</td><td>GUEST</td><td>GUEST GUEST</td></tr><tr><td>0</td><td>14</td><td>0</td><td>Tennis Court 1</td><td>14</td><td>Smith</td><td>Jack</td><td>Jack Smith</td></tr><tr><td>0</td><td>10</td><td>0</td><td>Tennis Court 1</td><td>10</td><td>Owen</td><td>Charles</td><td>Charles Owen</td></tr><tr><td>1</td><td>24</td><td>1</td><td>Tennis Court 2</td><td>24</td><td>Sarwin</td><td>Ramnaresh</td><td>Ramnaresh Sarwin</td></tr><tr><td>1</td><td>0</td><td>1</td><td>Tennis Court 2</td><td>0</td><td>GUEST</td><td>GUEST</td><td>GUEST GUEST</td></tr><tr><td>1</td><td>0</td><td>1</td><td>Tennis Court 2</td><td>0</td><td>GUEST</td><td>GUEST</td><td>GUEST GUEST</td></tr><tr><td>1</td><td>15</td><td>1</td><td>Tennis Court 2</td><td>15</td><td>Bader</td><td>Florence</td><td>Florence Bader</td></tr><tr><td>1</td><td>0</td><td>1</td><td>Tennis Court 2</td><td>0</td><td>GUEST</td><td>GUEST</td><td>GUEST GUEST</td></tr><tr><td>1</td><td>12</td><td>1</td><td>Tennis Court 2</td><td>12</td><td>Baker</td><td>Anne</td><td>Anne Baker</td></tr><tr><td>1</td><td>0</td><td>1</td><td>Tennis Court 2</td><td>0</td><td>GUEST</td><td>GUEST</td><td>GUEST GUEST</td></tr><tr><td>0</td><td>5</td><td>0</td><td>Tennis Court 1</td><td>5</td><td>Butters</td><td>Gerald</td><td>Gerald Butters</td></tr><tr><td>0</td><td>6</td><td>0</td><td>Tennis Court 1</td><td>6</td><td>Tracy</td><td>Burton</td><td>Burton Tracy</td></tr><tr><td>0</td><td>7</td><td>0</td><td>Tennis Court 1</td><td>7</td><td>Dare</td><td>Nancy</td><td>Nancy Dare</td></tr><tr><td>0</td><td>17</td><td>0</td><td>Tennis Court 1</td><td>17</td><td>Pinker</td><td>David</td><td>David Pinker</td></tr><tr><td>0</td><td>11</td><td>0</td><td>Tennis Court 1</td><td>11</td><td>Jones</td><td>David</td><td>David Jones</td></tr><tr><td>0</td><td>26</td><td>0</td><td>Tennis Court 1</td><td>26</td><td>Jones</td><td>Douglas</td><td>Douglas Jones</td></tr><tr><td>1</td><td>9</td><td>1</td><td>Tennis Court 2</td><td>9</td><td>Stibbons</td><td>Ponder</td><td>Ponder Stibbons</td></tr><tr><td>1</td><td>11</td><td>1</td><td>Tennis Court 2</td><td>11</td><td>Jones</td><td>David</td><td>David Jones</td></tr><tr><td>1</td><td>8</td><td>1</td><td>Tennis Court 2</td><td>8</td><td>Boothe</td><td>Tim</td><td>Tim Boothe</td></tr><tr><td>1</td><td>12</td><td>1</td><td>Tennis Court 2</td><td>12</td><td>Baker</td><td>Anne</td><td>Anne Baker</td></tr><tr><td>1</td><td>11</td><td>1</td><td>Tennis Court 2</td><td>11</td><td>Jones</td><td>David</td><td>David Jones</td></tr><tr><td>1</td><td>9</td><td>1</td><td>Tennis Court 2</td><td>9</td><td>Stibbons</td><td>Ponder</td><td>Ponder Stibbons</td></tr><tr><td>1</td><td>11</td><td>1</td><td>Tennis Court 2</td><td>11</td><td>Jones</td><td>David</td><td>David Jones</td></tr><tr><td>0</td><td>22</td><td>0</td><td>Tennis Court 1</td><td>22</td><td>Coplin</td><td>Joan</td><td>Joan Coplin</td></tr><tr><td>0</td><td>0</td><td>0</td><td>Tennis Court 1</td><td>0</td><td>GUEST</td><td>GUEST</td><td>GUEST GUEST</td></tr><tr><td>0</td><td>4</td><td>0</td><td>Tennis Court 1</td><td>4</td><td>Joplette</td><td>Janice</td><td>Janice Joplette</td></tr><tr><td>0</td><td>26</td><td>0</td><td>Tennis Court 1</td><td>26</td><td>Jones</td><td>Douglas</td><td>Douglas Jones</td></tr><tr><td>0</td><td>5</td><td>0</td><td>Tennis Court 1</td><td>5</td><td>Butters</td><td>Gerald</td><td>Gerald Butters</td></tr><tr><td>0</td><td>0</td><td>0</td><td>Tennis Court 1</td><td>0</td><td>GUEST</td><td>GUEST</td><td>GUEST GUEST</td></tr><tr><td>0</td><td>16</td><td>0</td><td>Tennis Court 1</td><td>16</td><td>Baker</td><td>Timothy</td><td>Timothy Baker</td></tr><tr><td>1</td><td>11</td><td>1</td><td>Tennis Court 2</td><td>11</td><td>Jones</td><td>David</td><td>David Jones</td></tr><tr><td>1</td><td>0</td><td>1</td><td>Tennis Court 2</td><td>0</td><td>GUEST</td><td>GUEST</td><td>GUEST GUEST</td></tr><tr><td>1</td><td>14</td><td>1</td><td>Tennis Court 2</td><td>14</td><td>Smith</td><td>Jack</td><td>Jack Smith</td></tr><tr><td>1</td><td>11</td><td>1</td><td>Tennis Court 2</td><td>11</td><td>Jones</td><td>David</td><td>David Jones</td></tr><tr><td>1</td><td>0</td><td>1</td><td>Tennis Court 2</td><td>0</td><td>GUEST</td><td>GUEST</td><td>GUEST GUEST</td></tr><tr><td>1</td><td>10</td><td>1</td><td>Tennis Court 2</td><td>10</td><td>Owen</td><td>Charles</td><td>Charles Owen</td></tr><tr><td>0</td><td>5</td><td>0</td><td>Tennis Court 1</td><td>5</td><td>Butters</td><td>Gerald</td><td>Gerald Butters</td></tr><tr><td>0</td><td>0</td><td>0</td><td>Tennis Court 1</td><td>0</td><td>GUEST</td><td>GUEST</td><td>GUEST GUEST</td></tr><tr><td>0</td><td>7</td><td>0</td><td>Tennis Court 1</td><td>7</td><td>Dare</td><td>Nancy</td><td>Nancy Dare</td></tr><tr><td>0</td><td>10</td><td>0</td><td>Tennis Court 1</td><td>10</td><td>Owen</td><td>Charles</td><td>Charles Owen</td></tr><tr><td>0</td><td>0</td><td>0</td><td>Tennis Court 1</td><td>0</td><td>GUEST</td><td>GUEST</td><td>GUEST GUEST</td></tr><tr><td>1</td><td>8</td><td>1</td><td>Tennis Court 2</td><td>8</td><td>Boothe</td><td>Tim</td><td>Tim Boothe</td></tr><tr><td>1</td><td>11</td><td>1</td><td>Tennis Court 2</td><td>11</td><td>Jones</td><td>David</td><td>David Jones</td></tr><tr><td>1</td><td>0</td><td>1</td><td>Tennis Court 2</td><td>0</td><td>GUEST</td><td>GUEST</td><td>GUEST GUEST</td></tr><tr><td>1</td><td>12</td><td>1</td><td>Tennis Court 2</td><td>12</td><td>Baker</td><td>Anne</td><td>Anne Baker</td></tr><tr><td>1</td><td>8</td><td>1</td><td>Tennis Court 2</td><td>8</td><td>Boothe</td><td>Tim</td><td>Tim Boothe</td></tr><tr><td>1</td><td>24</td><td>1</td><td>Tennis Court 2</td><td>24</td><td>Sarwin</td><td>Ramnaresh</td><td>Ramnaresh Sarwin</td></tr><tr><td>0</td><td>6</td><td>0</td><td>Tennis Court 1</td><td>6</td><td>Tracy</td><td>Burton</td><td>Burton Tracy</td></tr><tr><td>0</td><td>17</td><td>0</td><td>Tennis Court 1</td><td>17</td><td>Pinker</td><td>David</td><td>David Pinker</td></tr><tr><td>0</td><td>5</td><td>0</td><td>Tennis Court 1</td><td>5</td><td>Butters</td><td>Gerald</td><td>Gerald Butters</td></tr><tr><td>0</td><td>3</td><td>0</td><td>Tennis Court 1</td><td>3</td><td>Rownam</td><td>Tim</td><td>Tim Rownam</td></tr><tr><td>0</td><td>0</td><td>0</td><td>Tennis Court 1</td><td>0</td><td>GUEST</td><td>GUEST</td><td>GUEST GUEST</td></tr><tr><td>0</td><td>26</td><td>0</td><td>Tennis Court 1</td><td>26</td><td>Jones</td><td>Douglas</td><td>Douglas Jones</td></tr><tr><td>0</td><td>0</td><td>0</td><td>Tennis Court 1</td><td>0</td><td>GUEST</td><td>GUEST</td><td>GUEST GUEST</td></tr><tr><td>1</td><td>11</td><td>1</td><td>Tennis Court 2</td><td>11</td><td>Jones</td><td>David</td><td>David Jones</td></tr><tr><td>1</td><td>8</td><td>1</td><td>Tennis Court 2</td><td>8</td><td>Boothe</td><td>Tim</td><td>Tim Boothe</td></tr><tr><td>1</td><td>0</td><td>1</td><td>Tennis Court 2</td><td>0</td><td>GUEST</td><td>GUEST</td><td>GUEST GUEST</td></tr><tr><td>1</td><td>0</td><td>1</td><td>Tennis Court 2</td><td>0</td><td>GUEST</td><td>GUEST</td><td>GUEST GUEST</td></tr><tr><td>0</td><td>0</td><td>0</td><td>Tennis Court 1</td><td>0</td><td>GUEST</td><td>GUEST</td><td>GUEST GUEST</td></tr><tr><td>0</td><td>11</td><td>0</td><td>Tennis Court 1</td><td>11</td><td>Jones</td><td>David</td><td>David Jones</td></tr><tr><td>0</td><td>7</td><td>0</td><td>Tennis Court 1</td><td>7</td><td>Dare</td><td>Nancy</td><td>Nancy Dare</td></tr><tr><td>0</td><td>17</td><td>0</td><td>Tennis Court 1</td><td>17</td><td>Pinker</td><td>David</td><td>David Pinker</td></tr><tr><td>1</td><td>10</td><td>1</td><td>Tennis Court 2</td><td>10</td><td>Owen</td><td>Charles</td><td>Charles Owen</td></tr><tr><td>1</td><td>11</td><td>1</td><td>Tennis Court 2</td><td>11</td><td>Jones</td><td>David</td><td>David Jones</td></tr><tr><td>1</td><td>24</td><td>1</td><td>Tennis Court 2</td><td>24</td><td>Sarwin</td><td>Ramnaresh</td><td>Ramnaresh Sarwin</td></tr><tr><td>1</td><td>12</td><td>1</td><td>Tennis Court 2</td><td>12</td><td>Baker</td><td>Anne</td><td>Anne Baker</td></tr><tr><td>0</td><td>0</td><td>0</td><td>Tennis Court 1</td><td>0</td><td>GUEST</td><td>GUEST</td><td>GUEST GUEST</td></tr><tr><td>0</td><td>11</td><td>0</td><td>Tennis Court 1</td><td>11</td><td>Jones</td><td>David</td><td>David Jones</td></tr><tr><td>0</td><td>6</td><td>0</td><td>Tennis Court 1</td><td>6</td><td>Tracy</td><td>Burton</td><td>Burton Tracy</td></tr><tr><td>0</td><td>0</td><td>0</td><td>Tennis Court 1</td><td>0</td><td>GUEST</td><td>GUEST</td><td>GUEST GUEST</td></tr><tr><td>0</td><td>24</td><td>0</td><td>Tennis Court 1</td><td>24</td><td>Sarwin</td><td>Ramnaresh</td><td>Ramnaresh Sarwin</td></tr><tr><td>0</td><td>10</td><td>0</td><td>Tennis Court 1</td><td>10</td><td>Owen</td><td>Charles</td><td>Charles Owen</td></tr><tr><td>1</td><td>8</td><td>1</td><td>Tennis Court 2</td><td>8</td><td>Boothe</td><td>Tim</td><td>Tim Boothe</td></tr><tr><td>1</td><td>0</td><td>1</td><td>Tennis Court 2</td><td>0</td><td>GUEST</td><td>GUEST</td><td>GUEST GUEST</td></tr><tr><td>1</td><td>16</td><td>1</td><td>Tennis Court 2</td><td>16</td><td>Baker</td><td>Timothy</td><td>Timothy Baker</td></tr><tr><td>1</td><td>8</td><td>1</td><td>Tennis Court 2</td><td>8</td><td>Boothe</td><td>Tim</td><td>Tim Boothe</td></tr><tr><td>1</td><td>12</td><td>1</td><td>Tennis Court 2</td><td>12</td><td>Baker</td><td>Anne</td><td>Anne Baker</td></tr><tr><td>1</td><td>0</td><td>1</td><td>Tennis Court 2</td><td>0</td><td>GUEST</td><td>GUEST</td><td>GUEST GUEST</td></tr><tr><td>0</td><td>22</td><td>0</td><td>Tennis Court 1</td><td>22</td><td>Coplin</td><td>Joan</td><td>Joan Coplin</td></tr><tr><td>0</td><td>0</td><td>0</td><td>Tennis Court 1</td><td>0</td><td>GUEST</td><td>GUEST</td><td>GUEST GUEST</td></tr><tr><td>0</td><td>13</td><td>0</td><td>Tennis Court 1</td><td>13</td><td>Farrell</td><td>Jemima</td><td>Jemima Farrell</td></tr><tr><td>0</td><td>7</td><td>0</td><td>Tennis Court 1</td><td>7</td><td>Dare</td><td>Nancy</td><td>Nancy Dare</td></tr><tr><td>0</td><td>0</td><td>0</td><td>Tennis Court 1</td><td>0</td><td>GUEST</td><td>GUEST</td><td>GUEST GUEST</td></tr><tr><td>0</td><td>26</td><td>0</td><td>Tennis Court 1</td><td>26</td><td>Jones</td><td>Douglas</td><td>Douglas Jones</td></tr><tr><td>1</td><td>8</td><td>1</td><td>Tennis Court 2</td><td>8</td><td>Boothe</td><td>Tim</td><td>Tim Boothe</td></tr><tr><td>1</td><td>9</td><td>1</td><td>Tennis Court 2</td><td>9</td><td>Stibbons</td><td>Ponder</td><td>Ponder Stibbons</td></tr><tr><td>1</td><td>0</td><td>1</td><td>Tennis Court 2</td><td>0</td><td>GUEST</td><td>GUEST</td><td>GUEST GUEST</td></tr><tr><td>1</td><td>0</td><td>1</td><td>Tennis Court 2</td><td>0</td><td>GUEST</td><td>GUEST</td><td>GUEST GUEST</td></tr><tr><td>1</td><td>8</td><td>1</td><td>Tennis Court 2</td><td>8</td><td>Boothe</td><td>Tim</td><td>Tim Boothe</td></tr><tr><td>1</td><td>9</td><td>1</td><td>Tennis Court 2</td><td>9</td><td>Stibbons</td><td>Ponder</td><td>Ponder Stibbons</td></tr><tr><td>1</td><td>8</td><td>1</td><td>Tennis Court 2</td><td>8</td><td>Boothe</td><td>Tim</td><td>Tim Boothe</td></tr><tr><td>0</td><td>28</td><td>0</td><td>Tennis Court 1</td><td>28</td><td>Farrell</td><td>David</td><td>David Farrell</td></tr><tr><td>0</td><td>6</td><td>0</td><td>Tennis Court 1</td><td>6</td><td>Tracy</td><td>Burton</td><td>Burton Tracy</td></tr><tr><td>0</td><td>11</td><td>0</td><td>Tennis Court 1</td><td>11</td><td>Jones</td><td>David</td><td>David Jones</td></tr><tr><td>0</td><td>16</td><td>0</td><td>Tennis Court 1</td><td>16</td><td>Baker</td><td>Timothy</td><td>Timothy Baker</td></tr><tr><td>0</td><td>5</td><td>0</td><td>Tennis Court 1</td><td>5</td><td>Butters</td><td>Gerald</td><td>Gerald Butters</td></tr><tr><td>0</td><td>28</td><td>0</td><td>Tennis Court 1</td><td>28</td><td>Farrell</td><td>David</td><td>David Farrell</td></tr><tr><td>0</td><td>14</td><td>0</td><td>Tennis Court 1</td><td>14</td><td>Smith</td><td>Jack</td><td>Jack Smith</td></tr><tr><td>1</td><td>10</td><td>1</td><td>Tennis Court 2</td><td>10</td><td>Owen</td><td>Charles</td><td>Charles Owen</td></tr><tr><td>1</td><td>12</td><td>1</td><td>Tennis Court 2</td><td>12</td><td>Baker</td><td>Anne</td><td>Anne Baker</td></tr><tr><td>1</td><td>0</td><td>1</td><td>Tennis Court 2</td><td>0</td><td>GUEST</td><td>GUEST</td><td>GUEST GUEST</td></tr><tr><td>1</td><td>11</td><td>1</td><td>Tennis Court 2</td><td>11</td><td>Jones</td><td>David</td><td>David Jones</td></tr><tr><td>1</td><td>10</td><td>1</td><td>Tennis Court 2</td><td>10</td><td>Owen</td><td>Charles</td><td>Charles Owen</td></tr><tr><td>0</td><td>16</td><td>0</td><td>Tennis Court 1</td><td>16</td><td>Baker</td><td>Timothy</td><td>Timothy Baker</td></tr><tr><td>0</td><td>28</td><td>0</td><td>Tennis Court 1</td><td>28</td><td>Farrell</td><td>David</td><td>David Farrell</td></tr><tr><td>0</td><td>0</td><td>0</td><td>Tennis Court 1</td><td>0</td><td>GUEST</td><td>GUEST</td><td>GUEST GUEST</td></tr><tr><td>0</td><td>28</td><td>0</td><td>Tennis Court 1</td><td>28</td><td>Farrell</td><td>David</td><td>David Farrell</td></tr><tr><td>0</td><td>24</td><td>0</td><td>Tennis Court 1</td><td>24</td><td>Sarwin</td><td>Ramnaresh</td><td>Ramnaresh Sarwin</td></tr><tr><td>0</td><td>14</td><td>0</td><td>Tennis Court 1</td><td>14</td><td>Smith</td><td>Jack</td><td>Jack Smith</td></tr><tr><td>1</td><td>0</td><td>1</td><td>Tennis Court 2</td><td>0</td><td>GUEST</td><td>GUEST</td><td>GUEST GUEST</td></tr><tr><td>1</td><td>1</td><td>1</td><td>Tennis Court 2</td><td>1</td><td>Smith</td><td>Darren</td><td>Darren Smith</td></tr><tr><td>1</td><td>0</td><td>1</td><td>Tennis Court 2</td><td>0</td><td>GUEST</td><td>GUEST</td><td>GUEST GUEST</td></tr><tr><td>1</td><td>4</td><td>1</td><td>Tennis Court 2</td><td>4</td><td>Joplette</td><td>Janice</td><td>Janice Joplette</td></tr><tr><td>1</td><td>10</td><td>1</td><td>Tennis Court 2</td><td>10</td><td>Owen</td><td>Charles</td><td>Charles Owen</td></tr><tr><td>0</td><td>14</td><td>0</td><td>Tennis Court 1</td><td>14</td><td>Smith</td><td>Jack</td><td>Jack Smith</td></tr><tr><td>0</td><td>0</td><td>0</td><td>Tennis Court 1</td><td>0</td><td>GUEST</td><td>GUEST</td><td>GUEST GUEST</td></tr><tr><td>0</td><td>0</td><td>0</td><td>Tennis Court 1</td><td>0</td><td>GUEST</td><td>GUEST</td><td>GUEST GUEST</td></tr><tr><td>0</td><td>17</td><td>0</td><td>Tennis Court 1</td><td>17</td><td>Pinker</td><td>David</td><td>David Pinker</td></tr><tr><td>0</td><td>26</td><td>0</td><td>Tennis Court 1</td><td>26</td><td>Jones</td><td>Douglas</td><td>Douglas Jones</td></tr><tr><td>0</td><td>5</td><td>0</td><td>Tennis Court 1</td><td>5</td><td>Butters</td><td>Gerald</td><td>Gerald Butters</td></tr><tr><td>1</td><td>11</td><td>1</td><td>Tennis Court 2</td><td>11</td><td>Jones</td><td>David</td><td>David Jones</td></tr><tr><td>1</td><td>10</td><td>1</td><td>Tennis Court 2</td><td>10</td><td>Owen</td><td>Charles</td><td>Charles Owen</td></tr><tr><td>1</td><td>30</td><td>1</td><td>Tennis Court 2</td><td>30</td><td>Purview</td><td>Millicent</td><td>Millicent Purview</td></tr><tr><td>1</td><td>10</td><td>1</td><td>Tennis Court 2</td><td>10</td><td>Owen</td><td>Charles</td><td>Charles Owen</td></tr><tr><td>1</td><td>9</td><td>1</td><td>Tennis Court 2</td><td>9</td><td>Stibbons</td><td>Ponder</td><td>Ponder Stibbons</td></tr><tr><td>1</td><td>0</td><td>1</td><td>Tennis Court 2</td><td>0</td><td>GUEST</td><td>GUEST</td><td>GUEST GUEST</td></tr><tr><td>1</td><td>24</td><td>1</td><td>Tennis Court 2</td><td>24</td><td>Sarwin</td><td>Ramnaresh</td><td>Ramnaresh Sarwin</td></tr><tr><td>0</td><td>26</td><td>0</td><td>Tennis Court 1</td><td>26</td><td>Jones</td><td>Douglas</td><td>Douglas Jones</td></tr><tr><td>0</td><td>11</td><td>0</td><td>Tennis Court 1</td><td>11</td><td>Jones</td><td>David</td><td>David Jones</td></tr><tr><td>0</td><td>22</td><td>0</td><td>Tennis Court 1</td><td>22</td><td>Coplin</td><td>Joan</td><td>Joan Coplin</td></tr><tr><td>0</td><td>16</td><td>0</td><td>Tennis Court 1</td><td>16</td><td>Baker</td><td>Timothy</td><td>Timothy Baker</td></tr><tr><td>0</td><td>5</td><td>0</td><td>Tennis Court 1</td><td>5</td><td>Butters</td><td>Gerald</td><td>Gerald Butters</td></tr><tr><td>0</td><td>17</td><td>0</td><td>Tennis Court 1</td><td>17</td><td>Pinker</td><td>David</td><td>David Pinker</td></tr><tr><td>1</td><td>12</td><td>1</td><td>Tennis Court 2</td><td>12</td><td>Baker</td><td>Anne</td><td>Anne Baker</td></tr><tr><td>1</td><td>16</td><td>1</td><td>Tennis Court 2</td><td>16</td><td>Baker</td><td>Timothy</td><td>Timothy Baker</td></tr><tr><td>1</td><td>1</td><td>1</td><td>Tennis Court 2</td><td>1</td><td>Smith</td><td>Darren</td><td>Darren Smith</td></tr><tr><td>1</td><td>9</td><td>1</td><td>Tennis Court 2</td><td>9</td><td>Stibbons</td><td>Ponder</td><td>Ponder Stibbons</td></tr><tr><td>1</td><td>10</td><td>1</td><td>Tennis Court 2</td><td>10</td><td>Owen</td><td>Charles</td><td>Charles Owen</td></tr><tr><td>1</td><td>27</td><td>1</td><td>Tennis Court 2</td><td>27</td><td>Rumney</td><td>Henrietta</td><td>Henrietta Rumney</td></tr><tr><td>0</td><td>0</td><td>0</td><td>Tennis Court 1</td><td>0</td><td>GUEST</td><td>GUEST</td><td>GUEST GUEST</td></tr><tr><td>0</td><td>11</td><td>0</td><td>Tennis Court 1</td><td>11</td><td>Jones</td><td>David</td><td>David Jones</td></tr><tr><td>0</td><td>0</td><td>0</td><td>Tennis Court 1</td><td>0</td><td>GUEST</td><td>GUEST</td><td>GUEST GUEST</td></tr><tr><td>0</td><td>6</td><td>0</td><td>Tennis Court 1</td><td>6</td><td>Tracy</td><td>Burton</td><td>Burton Tracy</td></tr><tr><td>0</td><td>14</td><td>0</td><td>Tennis Court 1</td><td>14</td><td>Smith</td><td>Jack</td><td>Jack Smith</td></tr><tr><td>0</td><td>10</td><td>0</td><td>Tennis Court 1</td><td>10</td><td>Owen</td><td>Charles</td><td>Charles Owen</td></tr><tr><td>1</td><td>5</td><td>1</td><td>Tennis Court 2</td><td>5</td><td>Butters</td><td>Gerald</td><td>Gerald Butters</td></tr><tr><td>1</td><td>10</td><td>1</td><td>Tennis Court 2</td><td>10</td><td>Owen</td><td>Charles</td><td>Charles Owen</td></tr><tr><td>1</td><td>8</td><td>1</td><td>Tennis Court 2</td><td>8</td><td>Boothe</td><td>Tim</td><td>Tim Boothe</td></tr><tr><td>1</td><td>15</td><td>1</td><td>Tennis Court 2</td><td>15</td><td>Bader</td><td>Florence</td><td>Florence Bader</td></tr><tr><td>1</td><td>12</td><td>1</td><td>Tennis Court 2</td><td>12</td><td>Baker</td><td>Anne</td><td>Anne Baker</td></tr><tr><td>1</td><td>0</td><td>1</td><td>Tennis Court 2</td><td>0</td><td>GUEST</td><td>GUEST</td><td>GUEST GUEST</td></tr><tr><td>0</td><td>7</td><td>0</td><td>Tennis Court 1</td><td>7</td><td>Dare</td><td>Nancy</td><td>Nancy Dare</td></tr><tr><td>0</td><td>10</td><td>0</td><td>Tennis Court 1</td><td>10</td><td>Owen</td><td>Charles</td><td>Charles Owen</td></tr><tr><td>0</td><td>15</td><td>0</td><td>Tennis Court 1</td><td>15</td><td>Bader</td><td>Florence</td><td>Florence Bader</td></tr><tr><td>0</td><td>26</td><td>0</td><td>Tennis Court 1</td><td>26</td><td>Jones</td><td>Douglas</td><td>Douglas Jones</td></tr><tr><td>0</td><td>35</td><td>0</td><td>Tennis Court 1</td><td>35</td><td>Hunt</td><td>John</td><td>John Hunt</td></tr><tr><td>0</td><td>2</td><td>0</td><td>Tennis Court 1</td><td>2</td><td>Smith</td><td>Tracy</td><td>Tracy Smith</td></tr><tr><td>0</td><td>17</td><td>0</td><td>Tennis Court 1</td><td>17</td><td>Pinker</td><td>David</td><td>David Pinker</td></tr><tr><td>1</td><td>0</td><td>1</td><td>Tennis Court 2</td><td>0</td><td>GUEST</td><td>GUEST</td><td>GUEST GUEST</td></tr><tr><td>1</td><td>24</td><td>1</td><td>Tennis Court 2</td><td>24</td><td>Sarwin</td><td>Ramnaresh</td><td>Ramnaresh Sarwin</td></tr><tr><td>1</td><td>8</td><td>1</td><td>Tennis Court 2</td><td>8</td><td>Boothe</td><td>Tim</td><td>Tim Boothe</td></tr><tr><td>1</td><td>24</td><td>1</td><td>Tennis Court 2</td><td>24</td><td>Sarwin</td><td>Ramnaresh</td><td>Ramnaresh Sarwin</td></tr><tr><td>1</td><td>15</td><td>1</td><td>Tennis Court 2</td><td>15</td><td>Bader</td><td>Florence</td><td>Florence Bader</td></tr><tr><td>1</td><td>35</td><td>1</td><td>Tennis Court 2</td><td>35</td><td>Hunt</td><td>John</td><td>John Hunt</td></tr><tr><td>1</td><td>0</td><td>1</td><td>Tennis Court 2</td><td>0</td><td>GUEST</td><td>GUEST</td><td>GUEST GUEST</td></tr><tr><td>0</td><td>0</td><td>0</td><td>Tennis Court 1</td><td>0</td><td>GUEST</td><td>GUEST</td><td>GUEST GUEST</td></tr><tr><td>0</td><td>35</td><td>0</td><td>Tennis Court 1</td><td>35</td><td>Hunt</td><td>John</td><td>John Hunt</td></tr><tr><td>0</td><td>0</td><td>0</td><td>Tennis Court 1</td><td>0</td><td>GUEST</td><td>GUEST</td><td>GUEST GUEST</td></tr><tr><td>0</td><td>14</td><td>0</td><td>Tennis Court 1</td><td>14</td><td>Smith</td><td>Jack</td><td>Jack Smith</td></tr><tr><td>0</td><td>11</td><td>0</td><td>Tennis Court 1</td><td>11</td><td>Jones</td><td>David</td><td>David Jones</td></tr><tr><td>1</td><td>28</td><td>1</td><td>Tennis Court 2</td><td>28</td><td>Farrell</td><td>David</td><td>David Farrell</td></tr><tr><td>1</td><td>10</td><td>1</td><td>Tennis Court 2</td><td>10</td><td>Owen</td><td>Charles</td><td>Charles Owen</td></tr><tr><td>1</td><td>10</td><td>1</td><td>Tennis Court 2</td><td>10</td><td>Owen</td><td>Charles</td><td>Charles Owen</td></tr><tr><td>1</td><td>16</td><td>1</td><td>Tennis Court 2</td><td>16</td><td>Baker</td><td>Timothy</td><td>Timothy Baker</td></tr><tr><td>1</td><td>0</td><td>1</td><td>Tennis Court 2</td><td>0</td><td>GUEST</td><td>GUEST</td><td>GUEST GUEST</td></tr><tr><td>1</td><td>24</td><td>1</td><td>Tennis Court 2</td><td>24</td><td>Sarwin</td><td>Ramnaresh</td><td>Ramnaresh Sarwin</td></tr><tr><td>0</td><td>12</td><td>0</td><td>Tennis Court 1</td><td>12</td><td>Baker</td><td>Anne</td><td>Anne Baker</td></tr><tr><td>0</td><td>2</td><td>0</td><td>Tennis Court 1</td><td>2</td><td>Smith</td><td>Tracy</td><td>Tracy Smith</td></tr><tr><td>0</td><td>16</td><td>0</td><td>Tennis Court 1</td><td>16</td><td>Baker</td><td>Timothy</td><td>Timothy Baker</td></tr><tr><td>0</td><td>0</td><td>0</td><td>Tennis Court 1</td><td>0</td><td>GUEST</td><td>GUEST</td><td>GUEST GUEST</td></tr><tr><td>0</td><td>11</td><td>0</td><td>Tennis Court 1</td><td>11</td><td>Jones</td><td>David</td><td>David Jones</td></tr><tr><td>1</td><td>9</td><td>1</td><td>Tennis Court 2</td><td>9</td><td>Stibbons</td><td>Ponder</td><td>Ponder Stibbons</td></tr><tr><td>1</td><td>12</td><td>1</td><td>Tennis Court 2</td><td>12</td><td>Baker</td><td>Anne</td><td>Anne Baker</td></tr><tr><td>1</td><td>0</td><td>1</td><td>Tennis Court 2</td><td>0</td><td>GUEST</td><td>GUEST</td><td>GUEST GUEST</td></tr><tr><td>1</td><td>12</td><td>1</td><td>Tennis Court 2</td><td>12</td><td>Baker</td><td>Anne</td><td>Anne Baker</td></tr><tr><td>1</td><td>11</td><td>1</td><td>Tennis Court 2</td><td>11</td><td>Jones</td><td>David</td><td>David Jones</td></tr><tr><td>1</td><td>35</td><td>1</td><td>Tennis Court 2</td><td>35</td><td>Hunt</td><td>John</td><td>John Hunt</td></tr><tr><td>1</td><td>0</td><td>1</td><td>Tennis Court 2</td><td>0</td><td>GUEST</td><td>GUEST</td><td>GUEST GUEST</td></tr><tr><td>0</td><td>5</td><td>0</td><td>Tennis Court 1</td><td>5</td><td>Butters</td><td>Gerald</td><td>Gerald Butters</td></tr><tr><td>0</td><td>0</td><td>0</td><td>Tennis Court 1</td><td>0</td><td>GUEST</td><td>GUEST</td><td>GUEST GUEST</td></tr><tr><td>0</td><td>6</td><td>0</td><td>Tennis Court 1</td><td>6</td><td>Tracy</td><td>Burton</td><td>Burton Tracy</td></tr><tr><td>0</td><td>11</td><td>0</td><td>Tennis Court 1</td><td>11</td><td>Jones</td><td>David</td><td>David Jones</td></tr><tr><td>0</td><td>0</td><td>0</td><td>Tennis Court 1</td><td>0</td><td>GUEST</td><td>GUEST</td><td>GUEST GUEST</td></tr><tr><td>0</td><td>22</td><td>0</td><td>Tennis Court 1</td><td>22</td><td>Coplin</td><td>Joan</td><td>Joan Coplin</td></tr><tr><td>1</td><td>0</td><td>1</td><td>Tennis Court 2</td><td>0</td><td>GUEST</td><td>GUEST</td><td>GUEST GUEST</td></tr><tr><td>1</td><td>0</td><td>1</td><td>Tennis Court 2</td><td>0</td><td>GUEST</td><td>GUEST</td><td>GUEST GUEST</td></tr><tr><td>1</td><td>9</td><td>1</td><td>Tennis Court 2</td><td>9</td><td>Stibbons</td><td>Ponder</td><td>Ponder Stibbons</td></tr><tr><td>1</td><td>35</td><td>1</td><td>Tennis Court 2</td><td>35</td><td>Hunt</td><td>John</td><td>John Hunt</td></tr><tr><td>1</td><td>12</td><td>1</td><td>Tennis Court 2</td><td>12</td><td>Baker</td><td>Anne</td><td>Anne Baker</td></tr><tr><td>1</td><td>11</td><td>1</td><td>Tennis Court 2</td><td>11</td><td>Jones</td><td>David</td><td>David Jones</td></tr><tr><td>0</td><td>11</td><td>0</td><td>Tennis Court 1</td><td>11</td><td>Jones</td><td>David</td><td>David Jones</td></tr><tr><td>0</td><td>6</td><td>0</td><td>Tennis Court 1</td><td>6</td><td>Tracy</td><td>Burton</td><td>Burton Tracy</td></tr><tr><td>0</td><td>17</td><td>0</td><td>Tennis Court 1</td><td>17</td><td>Pinker</td><td>David</td><td>David Pinker</td></tr><tr><td>0</td><td>26</td><td>0</td><td>Tennis Court 1</td><td>26</td><td>Jones</td><td>Douglas</td><td>Douglas Jones</td></tr><tr><td>0</td><td>0</td><td>0</td><td>Tennis Court 1</td><td>0</td><td>GUEST</td><td>GUEST</td><td>GUEST GUEST</td></tr><tr><td>1</td><td>0</td><td>1</td><td>Tennis Court 2</td><td>0</td><td>GUEST</td><td>GUEST</td><td>GUEST GUEST</td></tr><tr><td>1</td><td>8</td><td>1</td><td>Tennis Court 2</td><td>8</td><td>Boothe</td><td>Tim</td><td>Tim Boothe</td></tr><tr><td>1</td><td>0</td><td>1</td><td>Tennis Court 2</td><td>0</td><td>GUEST</td><td>GUEST</td><td>GUEST GUEST</td></tr><tr><td>1</td><td>35</td><td>1</td><td>Tennis Court 2</td><td>35</td><td>Hunt</td><td>John</td><td>John Hunt</td></tr><tr><td>1</td><td>10</td><td>1</td><td>Tennis Court 2</td><td>10</td><td>Owen</td><td>Charles</td><td>Charles Owen</td></tr><tr><td>0</td><td>35</td><td>0</td><td>Tennis Court 1</td><td>35</td><td>Hunt</td><td>John</td><td>John Hunt</td></tr><tr><td>0</td><td>16</td><td>0</td><td>Tennis Court 1</td><td>16</td><td>Baker</td><td>Timothy</td><td>Timothy Baker</td></tr><tr><td>0</td><td>28</td><td>0</td><td>Tennis Court 1</td><td>28</td><td>Farrell</td><td>David</td><td>David Farrell</td></tr><tr><td>0</td><td>0</td><td>0</td><td>Tennis Court 1</td><td>0</td><td>GUEST</td><td>GUEST</td><td>GUEST GUEST</td></tr><tr><td>0</td><td>0</td><td>0</td><td>Tennis Court 1</td><td>0</td><td>GUEST</td><td>GUEST</td><td>GUEST GUEST</td></tr><tr><td>0</td><td>0</td><td>0</td><td>Tennis Court 1</td><td>0</td><td>GUEST</td><td>GUEST</td><td>GUEST GUEST</td></tr><tr><td>1</td><td>10</td><td>1</td><td>Tennis Court 2</td><td>10</td><td>Owen</td><td>Charles</td><td>Charles Owen</td></tr><tr><td>1</td><td>0</td><td>1</td><td>Tennis Court 2</td><td>0</td><td>GUEST</td><td>GUEST</td><td>GUEST GUEST</td></tr><tr><td>1</td><td>8</td><td>1</td><td>Tennis Court 2</td><td>8</td><td>Boothe</td><td>Tim</td><td>Tim Boothe</td></tr><tr><td>1</td><td>0</td><td>1</td><td>Tennis Court 2</td><td>0</td><td>GUEST</td><td>GUEST</td><td>GUEST GUEST</td></tr><tr><td>1</td><td>0</td><td>1</td><td>Tennis Court 2</td><td>0</td><td>GUEST</td><td>GUEST</td><td>GUEST GUEST</td></tr><tr><td>0</td><td>0</td><td>0</td><td>Tennis Court 1</td><td>0</td><td>GUEST</td><td>GUEST</td><td>GUEST GUEST</td></tr><tr><td>0</td><td>11</td><td>0</td><td>Tennis Court 1</td><td>11</td><td>Jones</td><td>David</td><td>David Jones</td></tr><tr><td>0</td><td>6</td><td>0</td><td>Tennis Court 1</td><td>6</td><td>Tracy</td><td>Burton</td><td>Burton Tracy</td></tr><tr><td>0</td><td>28</td><td>0</td><td>Tennis Court 1</td><td>28</td><td>Farrell</td><td>David</td><td>David Farrell</td></tr><tr><td>0</td><td>20</td><td>0</td><td>Tennis Court 1</td><td>20</td><td>Genting</td><td>Matthew</td><td>Matthew Genting</td></tr><tr><td>1</td><td>0</td><td>1</td><td>Tennis Court 2</td><td>0</td><td>GUEST</td><td>GUEST</td><td>GUEST GUEST</td></tr><tr><td>1</td><td>8</td><td>1</td><td>Tennis Court 2</td><td>8</td><td>Boothe</td><td>Tim</td><td>Tim Boothe</td></tr><tr><td>1</td><td>10</td><td>1</td><td>Tennis Court 2</td><td>10</td><td>Owen</td><td>Charles</td><td>Charles Owen</td></tr><tr><td>1</td><td>12</td><td>1</td><td>Tennis Court 2</td><td>12</td><td>Baker</td><td>Anne</td><td>Anne Baker</td></tr><tr><td>1</td><td>0</td><td>1</td><td>Tennis Court 2</td><td>0</td><td>GUEST</td><td>GUEST</td><td>GUEST GUEST</td></tr><tr><td>1</td><td>10</td><td>1</td><td>Tennis Court 2</td><td>10</td><td>Owen</td><td>Charles</td><td>Charles Owen</td></tr><tr><td>0</td><td>4</td><td>0</td><td>Tennis Court 1</td><td>4</td><td>Joplette</td><td>Janice</td><td>Janice Joplette</td></tr><tr><td>0</td><td>35</td><td>0</td><td>Tennis Court 1</td><td>35</td><td>Hunt</td><td>John</td><td>John Hunt</td></tr><tr><td>0</td><td>0</td><td>0</td><td>Tennis Court 1</td><td>0</td><td>GUEST</td><td>GUEST</td><td>GUEST GUEST</td></tr><tr><td>0</td><td>36</td><td>0</td><td>Tennis Court 1</td><td>36</td><td>Crumpet</td><td>Erica</td><td>Erica Crumpet</td></tr><tr><td>0</td><td>24</td><td>0</td><td>Tennis Court 1</td><td>24</td><td>Sarwin</td><td>Ramnaresh</td><td>Ramnaresh Sarwin</td></tr><tr><td>0</td><td>0</td><td>0</td><td>Tennis Court 1</td><td>0</td><td>GUEST</td><td>GUEST</td><td>GUEST GUEST</td></tr><tr><td>0</td><td>24</td><td>0</td><td>Tennis Court 1</td><td>24</td><td>Sarwin</td><td>Ramnaresh</td><td>Ramnaresh Sarwin</td></tr><tr><td>1</td><td>8</td><td>1</td><td>Tennis Court 2</td><td>8</td><td>Boothe</td><td>Tim</td><td>Tim Boothe</td></tr><tr><td>1</td><td>0</td><td>1</td><td>Tennis Court 2</td><td>0</td><td>GUEST</td><td>GUEST</td><td>GUEST GUEST</td></tr><tr><td>1</td><td>10</td><td>1</td><td>Tennis Court 2</td><td>10</td><td>Owen</td><td>Charles</td><td>Charles Owen</td></tr><tr><td>1</td><td>11</td><td>1</td><td>Tennis Court 2</td><td>11</td><td>Jones</td><td>David</td><td>David Jones</td></tr><tr><td>1</td><td>10</td><td>1</td><td>Tennis Court 2</td><td>10</td><td>Owen</td><td>Charles</td><td>Charles Owen</td></tr><tr><td>1</td><td>8</td><td>1</td><td>Tennis Court 2</td><td>8</td><td>Boothe</td><td>Tim</td><td>Tim Boothe</td></tr></tbody></table></div>"
      ]
     },
     "metadata": {
      "application/vnd.databricks.v1+output": {
       "addedWidgets": {},
       "aggData": [],
       "aggError": "",
       "aggOverflow": false,
       "aggSchema": [],
       "aggSeriesLimitReached": false,
       "aggType": "",
       "arguments": {},
       "columnCustomDisplayInfos": {},
       "data": [
        [
         0,
         2,
         0,
         "Tennis Court 1",
         2,
         "Smith",
         "Tracy",
         "Tracy Smith"
        ],
        [
         0,
         2,
         0,
         "Tennis Court 1",
         2,
         "Smith",
         "Tracy",
         "Tracy Smith"
        ],
        [
         1,
         0,
         1,
         "Tennis Court 2",
         0,
         "GUEST",
         "GUEST",
         "GUEST GUEST"
        ],
        [
         0,
         0,
         0,
         "Tennis Court 1",
         0,
         "GUEST",
         "GUEST",
         "GUEST GUEST"
        ],
        [
         0,
         0,
         0,
         "Tennis Court 1",
         0,
         "GUEST",
         "GUEST",
         "GUEST GUEST"
        ],
        [
         0,
         2,
         0,
         "Tennis Court 1",
         2,
         "Smith",
         "Tracy",
         "Tracy Smith"
        ],
        [
         0,
         2,
         0,
         "Tennis Court 1",
         2,
         "Smith",
         "Tracy",
         "Tracy Smith"
        ],
        [
         0,
         0,
         0,
         "Tennis Court 1",
         0,
         "GUEST",
         "GUEST",
         "GUEST GUEST"
        ],
        [
         0,
         2,
         0,
         "Tennis Court 1",
         2,
         "Smith",
         "Tracy",
         "Tracy Smith"
        ],
        [
         1,
         3,
         1,
         "Tennis Court 2",
         3,
         "Rownam",
         "Tim",
         "Tim Rownam"
        ],
        [
         0,
         3,
         0,
         "Tennis Court 1",
         3,
         "Rownam",
         "Tim",
         "Tim Rownam"
        ],
        [
         0,
         2,
         0,
         "Tennis Court 1",
         2,
         "Smith",
         "Tracy",
         "Tracy Smith"
        ],
        [
         1,
         1,
         1,
         "Tennis Court 2",
         1,
         "Smith",
         "Darren",
         "Darren Smith"
        ],
        [
         1,
         1,
         1,
         "Tennis Court 2",
         1,
         "Smith",
         "Darren",
         "Darren Smith"
        ],
        [
         0,
         2,
         0,
         "Tennis Court 1",
         2,
         "Smith",
         "Tracy",
         "Tracy Smith"
        ],
        [
         0,
         2,
         0,
         "Tennis Court 1",
         2,
         "Smith",
         "Tracy",
         "Tracy Smith"
        ],
        [
         0,
         2,
         0,
         "Tennis Court 1",
         2,
         "Smith",
         "Tracy",
         "Tracy Smith"
        ],
        [
         1,
         0,
         1,
         "Tennis Court 2",
         0,
         "GUEST",
         "GUEST",
         "GUEST GUEST"
        ],
        [
         1,
         1,
         1,
         "Tennis Court 2",
         1,
         "Smith",
         "Darren",
         "Darren Smith"
        ],
        [
         0,
         0,
         0,
         "Tennis Court 1",
         0,
         "GUEST",
         "GUEST",
         "GUEST GUEST"
        ],
        [
         0,
         0,
         0,
         "Tennis Court 1",
         0,
         "GUEST",
         "GUEST",
         "GUEST GUEST"
        ],
        [
         0,
         4,
         0,
         "Tennis Court 1",
         4,
         "Joplette",
         "Janice",
         "Janice Joplette"
        ],
        [
         0,
         2,
         0,
         "Tennis Court 1",
         2,
         "Smith",
         "Tracy",
         "Tracy Smith"
        ],
        [
         0,
         0,
         0,
         "Tennis Court 1",
         0,
         "GUEST",
         "GUEST",
         "GUEST GUEST"
        ],
        [
         0,
         0,
         0,
         "Tennis Court 1",
         0,
         "GUEST",
         "GUEST",
         "GUEST GUEST"
        ],
        [
         0,
         2,
         0,
         "Tennis Court 1",
         2,
         "Smith",
         "Tracy",
         "Tracy Smith"
        ],
        [
         0,
         2,
         0,
         "Tennis Court 1",
         2,
         "Smith",
         "Tracy",
         "Tracy Smith"
        ],
        [
         1,
         0,
         1,
         "Tennis Court 2",
         0,
         "GUEST",
         "GUEST",
         "GUEST GUEST"
        ],
        [
         1,
         0,
         1,
         "Tennis Court 2",
         0,
         "GUEST",
         "GUEST",
         "GUEST GUEST"
        ],
        [
         0,
         0,
         0,
         "Tennis Court 1",
         0,
         "GUEST",
         "GUEST",
         "GUEST GUEST"
        ],
        [
         0,
         2,
         0,
         "Tennis Court 1",
         2,
         "Smith",
         "Tracy",
         "Tracy Smith"
        ],
        [
         1,
         1,
         1,
         "Tennis Court 2",
         1,
         "Smith",
         "Darren",
         "Darren Smith"
        ],
        [
         0,
         2,
         0,
         "Tennis Court 1",
         2,
         "Smith",
         "Tracy",
         "Tracy Smith"
        ],
        [
         0,
         4,
         0,
         "Tennis Court 1",
         4,
         "Joplette",
         "Janice",
         "Janice Joplette"
        ],
        [
         0,
         3,
         0,
         "Tennis Court 1",
         3,
         "Rownam",
         "Tim",
         "Tim Rownam"
        ],
        [
         1,
         1,
         1,
         "Tennis Court 2",
         1,
         "Smith",
         "Darren",
         "Darren Smith"
        ],
        [
         0,
         2,
         0,
         "Tennis Court 1",
         2,
         "Smith",
         "Tracy",
         "Tracy Smith"
        ],
        [
         0,
         4,
         0,
         "Tennis Court 1",
         4,
         "Joplette",
         "Janice",
         "Janice Joplette"
        ],
        [
         0,
         3,
         0,
         "Tennis Court 1",
         3,
         "Rownam",
         "Tim",
         "Tim Rownam"
        ],
        [
         1,
         3,
         1,
         "Tennis Court 2",
         3,
         "Rownam",
         "Tim",
         "Tim Rownam"
        ],
        [
         1,
         3,
         1,
         "Tennis Court 2",
         3,
         "Rownam",
         "Tim",
         "Tim Rownam"
        ],
        [
         1,
         0,
         1,
         "Tennis Court 2",
         0,
         "GUEST",
         "GUEST",
         "GUEST GUEST"
        ],
        [
         0,
         2,
         0,
         "Tennis Court 1",
         2,
         "Smith",
         "Tracy",
         "Tracy Smith"
        ],
        [
         0,
         0,
         0,
         "Tennis Court 1",
         0,
         "GUEST",
         "GUEST",
         "GUEST GUEST"
        ],
        [
         0,
         2,
         0,
         "Tennis Court 1",
         2,
         "Smith",
         "Tracy",
         "Tracy Smith"
        ],
        [
         1,
         0,
         1,
         "Tennis Court 2",
         0,
         "GUEST",
         "GUEST",
         "GUEST GUEST"
        ],
        [
         1,
         0,
         1,
         "Tennis Court 2",
         0,
         "GUEST",
         "GUEST",
         "GUEST GUEST"
        ],
        [
         1,
         3,
         1,
         "Tennis Court 2",
         3,
         "Rownam",
         "Tim",
         "Tim Rownam"
        ],
        [
         0,
         5,
         0,
         "Tennis Court 1",
         5,
         "Butters",
         "Gerald",
         "Gerald Butters"
        ],
        [
         0,
         5,
         0,
         "Tennis Court 1",
         5,
         "Butters",
         "Gerald",
         "Gerald Butters"
        ],
        [
         1,
         1,
         1,
         "Tennis Court 2",
         1,
         "Smith",
         "Darren",
         "Darren Smith"
        ],
        [
         1,
         0,
         1,
         "Tennis Court 2",
         0,
         "GUEST",
         "GUEST",
         "GUEST GUEST"
        ],
        [
         0,
         5,
         0,
         "Tennis Court 1",
         5,
         "Butters",
         "Gerald",
         "Gerald Butters"
        ],
        [
         0,
         5,
         0,
         "Tennis Court 1",
         5,
         "Butters",
         "Gerald",
         "Gerald Butters"
        ],
        [
         1,
         1,
         1,
         "Tennis Court 2",
         1,
         "Smith",
         "Darren",
         "Darren Smith"
        ],
        [
         1,
         4,
         1,
         "Tennis Court 2",
         4,
         "Joplette",
         "Janice",
         "Janice Joplette"
        ],
        [
         0,
         5,
         0,
         "Tennis Court 1",
         5,
         "Butters",
         "Gerald",
         "Gerald Butters"
        ],
        [
         0,
         5,
         0,
         "Tennis Court 1",
         5,
         "Butters",
         "Gerald",
         "Gerald Butters"
        ],
        [
         1,
         0,
         1,
         "Tennis Court 2",
         0,
         "GUEST",
         "GUEST",
         "GUEST GUEST"
        ],
        [
         1,
         0,
         1,
         "Tennis Court 2",
         0,
         "GUEST",
         "GUEST",
         "GUEST GUEST"
        ],
        [
         0,
         2,
         0,
         "Tennis Court 1",
         2,
         "Smith",
         "Tracy",
         "Tracy Smith"
        ],
        [
         0,
         4,
         0,
         "Tennis Court 1",
         4,
         "Joplette",
         "Janice",
         "Janice Joplette"
        ],
        [
         0,
         5,
         0,
         "Tennis Court 1",
         5,
         "Butters",
         "Gerald",
         "Gerald Butters"
        ],
        [
         0,
         0,
         0,
         "Tennis Court 1",
         0,
         "GUEST",
         "GUEST",
         "GUEST GUEST"
        ],
        [
         0,
         5,
         0,
         "Tennis Court 1",
         5,
         "Butters",
         "Gerald",
         "Gerald Butters"
        ],
        [
         1,
         1,
         1,
         "Tennis Court 2",
         1,
         "Smith",
         "Darren",
         "Darren Smith"
        ],
        [
         1,
         0,
         1,
         "Tennis Court 2",
         0,
         "GUEST",
         "GUEST",
         "GUEST GUEST"
        ],
        [
         1,
         0,
         1,
         "Tennis Court 2",
         0,
         "GUEST",
         "GUEST",
         "GUEST GUEST"
        ],
        [
         0,
         3,
         0,
         "Tennis Court 1",
         3,
         "Rownam",
         "Tim",
         "Tim Rownam"
        ],
        [
         0,
         5,
         0,
         "Tennis Court 1",
         5,
         "Butters",
         "Gerald",
         "Gerald Butters"
        ],
        [
         0,
         5,
         0,
         "Tennis Court 1",
         5,
         "Butters",
         "Gerald",
         "Gerald Butters"
        ],
        [
         0,
         5,
         0,
         "Tennis Court 1",
         5,
         "Butters",
         "Gerald",
         "Gerald Butters"
        ],
        [
         0,
         0,
         0,
         "Tennis Court 1",
         0,
         "GUEST",
         "GUEST",
         "GUEST GUEST"
        ],
        [
         1,
         2,
         1,
         "Tennis Court 2",
         2,
         "Smith",
         "Tracy",
         "Tracy Smith"
        ],
        [
         1,
         3,
         1,
         "Tennis Court 2",
         3,
         "Rownam",
         "Tim",
         "Tim Rownam"
        ],
        [
         1,
         4,
         1,
         "Tennis Court 2",
         4,
         "Joplette",
         "Janice",
         "Janice Joplette"
        ],
        [
         0,
         0,
         0,
         "Tennis Court 1",
         0,
         "GUEST",
         "GUEST",
         "GUEST GUEST"
        ],
        [
         0,
         5,
         0,
         "Tennis Court 1",
         5,
         "Butters",
         "Gerald",
         "Gerald Butters"
        ],
        [
         0,
         5,
         0,
         "Tennis Court 1",
         5,
         "Butters",
         "Gerald",
         "Gerald Butters"
        ],
        [
         0,
         4,
         0,
         "Tennis Court 1",
         4,
         "Joplette",
         "Janice",
         "Janice Joplette"
        ],
        [
         1,
         1,
         1,
         "Tennis Court 2",
         1,
         "Smith",
         "Darren",
         "Darren Smith"
        ],
        [
         1,
         0,
         1,
         "Tennis Court 2",
         0,
         "GUEST",
         "GUEST",
         "GUEST GUEST"
        ],
        [
         0,
         5,
         0,
         "Tennis Court 1",
         5,
         "Butters",
         "Gerald",
         "Gerald Butters"
        ],
        [
         0,
         0,
         0,
         "Tennis Court 1",
         0,
         "GUEST",
         "GUEST",
         "GUEST GUEST"
        ],
        [
         0,
         2,
         0,
         "Tennis Court 1",
         2,
         "Smith",
         "Tracy",
         "Tracy Smith"
        ],
        [
         1,
         0,
         1,
         "Tennis Court 2",
         0,
         "GUEST",
         "GUEST",
         "GUEST GUEST"
        ],
        [
         1,
         0,
         1,
         "Tennis Court 2",
         0,
         "GUEST",
         "GUEST",
         "GUEST GUEST"
        ],
        [
         1,
         5,
         1,
         "Tennis Court 2",
         5,
         "Butters",
         "Gerald",
         "Gerald Butters"
        ],
        [
         0,
         0,
         0,
         "Tennis Court 1",
         0,
         "GUEST",
         "GUEST",
         "GUEST GUEST"
        ],
        [
         0,
         0,
         0,
         "Tennis Court 1",
         0,
         "GUEST",
         "GUEST",
         "GUEST GUEST"
        ],
        [
         0,
         5,
         0,
         "Tennis Court 1",
         5,
         "Butters",
         "Gerald",
         "Gerald Butters"
        ],
        [
         1,
         1,
         1,
         "Tennis Court 2",
         1,
         "Smith",
         "Darren",
         "Darren Smith"
        ],
        [
         1,
         4,
         1,
         "Tennis Court 2",
         4,
         "Joplette",
         "Janice",
         "Janice Joplette"
        ],
        [
         1,
         4,
         1,
         "Tennis Court 2",
         4,
         "Joplette",
         "Janice",
         "Janice Joplette"
        ],
        [
         1,
         0,
         1,
         "Tennis Court 2",
         0,
         "GUEST",
         "GUEST",
         "GUEST GUEST"
        ],
        [
         1,
         4,
         1,
         "Tennis Court 2",
         4,
         "Joplette",
         "Janice",
         "Janice Joplette"
        ],
        [
         0,
         0,
         0,
         "Tennis Court 1",
         0,
         "GUEST",
         "GUEST",
         "GUEST GUEST"
        ],
        [
         0,
         4,
         0,
         "Tennis Court 1",
         4,
         "Joplette",
         "Janice",
         "Janice Joplette"
        ],
        [
         0,
         5,
         0,
         "Tennis Court 1",
         5,
         "Butters",
         "Gerald",
         "Gerald Butters"
        ],
        [
         1,
         4,
         1,
         "Tennis Court 2",
         4,
         "Joplette",
         "Janice",
         "Janice Joplette"
        ],
        [
         1,
         0,
         1,
         "Tennis Court 2",
         0,
         "GUEST",
         "GUEST",
         "GUEST GUEST"
        ],
        [
         1,
         1,
         1,
         "Tennis Court 2",
         1,
         "Smith",
         "Darren",
         "Darren Smith"
        ],
        [
         0,
         5,
         0,
         "Tennis Court 1",
         5,
         "Butters",
         "Gerald",
         "Gerald Butters"
        ],
        [
         0,
         0,
         0,
         "Tennis Court 1",
         0,
         "GUEST",
         "GUEST",
         "GUEST GUEST"
        ],
        [
         0,
         0,
         0,
         "Tennis Court 1",
         0,
         "GUEST",
         "GUEST",
         "GUEST GUEST"
        ],
        [
         1,
         1,
         1,
         "Tennis Court 2",
         1,
         "Smith",
         "Darren",
         "Darren Smith"
        ],
        [
         1,
         0,
         1,
         "Tennis Court 2",
         0,
         "GUEST",
         "GUEST",
         "GUEST GUEST"
        ],
        [
         1,
         4,
         1,
         "Tennis Court 2",
         4,
         "Joplette",
         "Janice",
         "Janice Joplette"
        ],
        [
         0,
         4,
         0,
         "Tennis Court 1",
         4,
         "Joplette",
         "Janice",
         "Janice Joplette"
        ],
        [
         0,
         0,
         0,
         "Tennis Court 1",
         0,
         "GUEST",
         "GUEST",
         "GUEST GUEST"
        ],
        [
         0,
         4,
         0,
         "Tennis Court 1",
         4,
         "Joplette",
         "Janice",
         "Janice Joplette"
        ],
        [
         1,
         8,
         1,
         "Tennis Court 2",
         8,
         "Boothe",
         "Tim",
         "Tim Boothe"
        ],
        [
         1,
         8,
         1,
         "Tennis Court 2",
         8,
         "Boothe",
         "Tim",
         "Tim Boothe"
        ],
        [
         1,
         8,
         1,
         "Tennis Court 2",
         8,
         "Boothe",
         "Tim",
         "Tim Boothe"
        ],
        [
         1,
         1,
         1,
         "Tennis Court 2",
         1,
         "Smith",
         "Darren",
         "Darren Smith"
        ],
        [
         1,
         0,
         1,
         "Tennis Court 2",
         0,
         "GUEST",
         "GUEST",
         "GUEST GUEST"
        ],
        [
         1,
         6,
         1,
         "Tennis Court 2",
         6,
         "Tracy",
         "Burton",
         "Burton Tracy"
        ],
        [
         0,
         4,
         0,
         "Tennis Court 1",
         4,
         "Joplette",
         "Janice",
         "Janice Joplette"
        ],
        [
         0,
         5,
         0,
         "Tennis Court 1",
         5,
         "Butters",
         "Gerald",
         "Gerald Butters"
        ],
        [
         0,
         6,
         0,
         "Tennis Court 1",
         6,
         "Tracy",
         "Burton",
         "Burton Tracy"
        ],
        [
         0,
         6,
         0,
         "Tennis Court 1",
         6,
         "Tracy",
         "Burton",
         "Burton Tracy"
        ],
        [
         1,
         0,
         1,
         "Tennis Court 2",
         0,
         "GUEST",
         "GUEST",
         "GUEST GUEST"
        ],
        [
         1,
         7,
         1,
         "Tennis Court 2",
         7,
         "Dare",
         "Nancy",
         "Nancy Dare"
        ],
        [
         1,
         0,
         1,
         "Tennis Court 2",
         0,
         "GUEST",
         "GUEST",
         "GUEST GUEST"
        ],
        [
         1,
         0,
         1,
         "Tennis Court 2",
         0,
         "GUEST",
         "GUEST",
         "GUEST GUEST"
        ],
        [
         1,
         0,
         1,
         "Tennis Court 2",
         0,
         "GUEST",
         "GUEST",
         "GUEST GUEST"
        ],
        [
         0,
         7,
         0,
         "Tennis Court 1",
         7,
         "Dare",
         "Nancy",
         "Nancy Dare"
        ],
        [
         0,
         4,
         0,
         "Tennis Court 1",
         4,
         "Joplette",
         "Janice",
         "Janice Joplette"
        ],
        [
         0,
         5,
         0,
         "Tennis Court 1",
         5,
         "Butters",
         "Gerald",
         "Gerald Butters"
        ],
        [
         0,
         2,
         0,
         "Tennis Court 1",
         2,
         "Smith",
         "Tracy",
         "Tracy Smith"
        ],
        [
         1,
         1,
         1,
         "Tennis Court 2",
         1,
         "Smith",
         "Darren",
         "Darren Smith"
        ],
        [
         1,
         0,
         1,
         "Tennis Court 2",
         0,
         "GUEST",
         "GUEST",
         "GUEST GUEST"
        ],
        [
         1,
         0,
         1,
         "Tennis Court 2",
         0,
         "GUEST",
         "GUEST",
         "GUEST GUEST"
        ],
        [
         1,
         7,
         1,
         "Tennis Court 2",
         7,
         "Dare",
         "Nancy",
         "Nancy Dare"
        ],
        [
         0,
         7,
         0,
         "Tennis Court 1",
         7,
         "Dare",
         "Nancy",
         "Nancy Dare"
        ],
        [
         0,
         2,
         0,
         "Tennis Court 1",
         2,
         "Smith",
         "Tracy",
         "Tracy Smith"
        ],
        [
         0,
         6,
         0,
         "Tennis Court 1",
         6,
         "Tracy",
         "Burton",
         "Burton Tracy"
        ],
        [
         0,
         5,
         0,
         "Tennis Court 1",
         5,
         "Butters",
         "Gerald",
         "Gerald Butters"
        ],
        [
         0,
         0,
         0,
         "Tennis Court 1",
         0,
         "GUEST",
         "GUEST",
         "GUEST GUEST"
        ],
        [
         1,
         8,
         1,
         "Tennis Court 2",
         8,
         "Boothe",
         "Tim",
         "Tim Boothe"
        ],
        [
         1,
         0,
         1,
         "Tennis Court 2",
         0,
         "GUEST",
         "GUEST",
         "GUEST GUEST"
        ],
        [
         1,
         8,
         1,
         "Tennis Court 2",
         8,
         "Boothe",
         "Tim",
         "Tim Boothe"
        ],
        [
         0,
         5,
         0,
         "Tennis Court 1",
         5,
         "Butters",
         "Gerald",
         "Gerald Butters"
        ],
        [
         0,
         6,
         0,
         "Tennis Court 1",
         6,
         "Tracy",
         "Burton",
         "Burton Tracy"
        ],
        [
         0,
         7,
         0,
         "Tennis Court 1",
         7,
         "Dare",
         "Nancy",
         "Nancy Dare"
        ],
        [
         1,
         8,
         1,
         "Tennis Court 2",
         8,
         "Boothe",
         "Tim",
         "Tim Boothe"
        ],
        [
         1,
         7,
         1,
         "Tennis Court 2",
         7,
         "Dare",
         "Nancy",
         "Nancy Dare"
        ],
        [
         1,
         2,
         1,
         "Tennis Court 2",
         2,
         "Smith",
         "Tracy",
         "Tracy Smith"
        ],
        [
         1,
         1,
         1,
         "Tennis Court 2",
         1,
         "Smith",
         "Darren",
         "Darren Smith"
        ],
        [
         0,
         7,
         0,
         "Tennis Court 1",
         7,
         "Dare",
         "Nancy",
         "Nancy Dare"
        ],
        [
         0,
         0,
         0,
         "Tennis Court 1",
         0,
         "GUEST",
         "GUEST",
         "GUEST GUEST"
        ],
        [
         0,
         0,
         0,
         "Tennis Court 1",
         0,
         "GUEST",
         "GUEST",
         "GUEST GUEST"
        ],
        [
         0,
         5,
         0,
         "Tennis Court 1",
         5,
         "Butters",
         "Gerald",
         "Gerald Butters"
        ],
        [
         0,
         0,
         0,
         "Tennis Court 1",
         0,
         "GUEST",
         "GUEST",
         "GUEST GUEST"
        ],
        [
         1,
         0,
         1,
         "Tennis Court 2",
         0,
         "GUEST",
         "GUEST",
         "GUEST GUEST"
        ],
        [
         1,
         7,
         1,
         "Tennis Court 2",
         7,
         "Dare",
         "Nancy",
         "Nancy Dare"
        ],
        [
         0,
         5,
         0,
         "Tennis Court 1",
         5,
         "Butters",
         "Gerald",
         "Gerald Butters"
        ],
        [
         0,
         5,
         0,
         "Tennis Court 1",
         5,
         "Butters",
         "Gerald",
         "Gerald Butters"
        ],
        [
         1,
         8,
         1,
         "Tennis Court 2",
         8,
         "Boothe",
         "Tim",
         "Tim Boothe"
        ],
        [
         1,
         8,
         1,
         "Tennis Court 2",
         8,
         "Boothe",
         "Tim",
         "Tim Boothe"
        ],
        [
         0,
         8,
         0,
         "Tennis Court 1",
         8,
         "Boothe",
         "Tim",
         "Tim Boothe"
        ],
        [
         0,
         5,
         0,
         "Tennis Court 1",
         5,
         "Butters",
         "Gerald",
         "Gerald Butters"
        ],
        [
         0,
         7,
         0,
         "Tennis Court 1",
         7,
         "Dare",
         "Nancy",
         "Nancy Dare"
        ],
        [
         0,
         5,
         0,
         "Tennis Court 1",
         5,
         "Butters",
         "Gerald",
         "Gerald Butters"
        ],
        [
         1,
         8,
         1,
         "Tennis Court 2",
         8,
         "Boothe",
         "Tim",
         "Tim Boothe"
        ],
        [
         1,
         8,
         1,
         "Tennis Court 2",
         8,
         "Boothe",
         "Tim",
         "Tim Boothe"
        ],
        [
         1,
         0,
         1,
         "Tennis Court 2",
         0,
         "GUEST",
         "GUEST",
         "GUEST GUEST"
        ],
        [
         1,
         5,
         1,
         "Tennis Court 2",
         5,
         "Butters",
         "Gerald",
         "Gerald Butters"
        ],
        [
         1,
         0,
         1,
         "Tennis Court 2",
         0,
         "GUEST",
         "GUEST",
         "GUEST GUEST"
        ],
        [
         0,
         5,
         0,
         "Tennis Court 1",
         5,
         "Butters",
         "Gerald",
         "Gerald Butters"
        ],
        [
         0,
         0,
         0,
         "Tennis Court 1",
         0,
         "GUEST",
         "GUEST",
         "GUEST GUEST"
        ],
        [
         0,
         6,
         0,
         "Tennis Court 1",
         6,
         "Tracy",
         "Burton",
         "Burton Tracy"
        ],
        [
         1,
         8,
         1,
         "Tennis Court 2",
         8,
         "Boothe",
         "Tim",
         "Tim Boothe"
        ],
        [
         1,
         0,
         1,
         "Tennis Court 2",
         0,
         "GUEST",
         "GUEST",
         "GUEST GUEST"
        ],
        [
         1,
         7,
         1,
         "Tennis Court 2",
         7,
         "Dare",
         "Nancy",
         "Nancy Dare"
        ],
        [
         1,
         8,
         1,
         "Tennis Court 2",
         8,
         "Boothe",
         "Tim",
         "Tim Boothe"
        ],
        [
         0,
         6,
         0,
         "Tennis Court 1",
         6,
         "Tracy",
         "Burton",
         "Burton Tracy"
        ],
        [
         1,
         9,
         1,
         "Tennis Court 2",
         9,
         "Stibbons",
         "Ponder",
         "Ponder Stibbons"
        ],
        [
         1,
         0,
         1,
         "Tennis Court 2",
         0,
         "GUEST",
         "GUEST",
         "GUEST GUEST"
        ],
        [
         1,
         8,
         1,
         "Tennis Court 2",
         8,
         "Boothe",
         "Tim",
         "Tim Boothe"
        ],
        [
         1,
         0,
         1,
         "Tennis Court 2",
         0,
         "GUEST",
         "GUEST",
         "GUEST GUEST"
        ],
        [
         0,
         2,
         0,
         "Tennis Court 1",
         2,
         "Smith",
         "Tracy",
         "Tracy Smith"
        ],
        [
         0,
         5,
         0,
         "Tennis Court 1",
         5,
         "Butters",
         "Gerald",
         "Gerald Butters"
        ],
        [
         0,
         7,
         0,
         "Tennis Court 1",
         7,
         "Dare",
         "Nancy",
         "Nancy Dare"
        ],
        [
         0,
         7,
         0,
         "Tennis Court 1",
         7,
         "Dare",
         "Nancy",
         "Nancy Dare"
        ],
        [
         1,
         0,
         1,
         "Tennis Court 2",
         0,
         "GUEST",
         "GUEST",
         "GUEST GUEST"
        ],
        [
         1,
         7,
         1,
         "Tennis Court 2",
         7,
         "Dare",
         "Nancy",
         "Nancy Dare"
        ],
        [
         1,
         9,
         1,
         "Tennis Court 2",
         9,
         "Stibbons",
         "Ponder",
         "Ponder Stibbons"
        ],
        [
         1,
         9,
         1,
         "Tennis Court 2",
         9,
         "Stibbons",
         "Ponder",
         "Ponder Stibbons"
        ],
        [
         1,
         1,
         1,
         "Tennis Court 2",
         1,
         "Smith",
         "Darren",
         "Darren Smith"
        ],
        [
         0,
         7,
         0,
         "Tennis Court 1",
         7,
         "Dare",
         "Nancy",
         "Nancy Dare"
        ],
        [
         0,
         0,
         0,
         "Tennis Court 1",
         0,
         "GUEST",
         "GUEST",
         "GUEST GUEST"
        ],
        [
         0,
         2,
         0,
         "Tennis Court 1",
         2,
         "Smith",
         "Tracy",
         "Tracy Smith"
        ],
        [
         0,
         0,
         0,
         "Tennis Court 1",
         0,
         "GUEST",
         "GUEST",
         "GUEST GUEST"
        ],
        [
         0,
         7,
         0,
         "Tennis Court 1",
         7,
         "Dare",
         "Nancy",
         "Nancy Dare"
        ],
        [
         0,
         5,
         0,
         "Tennis Court 1",
         5,
         "Butters",
         "Gerald",
         "Gerald Butters"
        ],
        [
         0,
         7,
         0,
         "Tennis Court 1",
         7,
         "Dare",
         "Nancy",
         "Nancy Dare"
        ],
        [
         1,
         8,
         1,
         "Tennis Court 2",
         8,
         "Boothe",
         "Tim",
         "Tim Boothe"
        ],
        [
         1,
         3,
         1,
         "Tennis Court 2",
         3,
         "Rownam",
         "Tim",
         "Tim Rownam"
        ],
        [
         1,
         0,
         1,
         "Tennis Court 2",
         0,
         "GUEST",
         "GUEST",
         "GUEST GUEST"
        ],
        [
         1,
         9,
         1,
         "Tennis Court 2",
         9,
         "Stibbons",
         "Ponder",
         "Ponder Stibbons"
        ],
        [
         1,
         9,
         1,
         "Tennis Court 2",
         9,
         "Stibbons",
         "Ponder",
         "Ponder Stibbons"
        ],
        [
         0,
         10,
         0,
         "Tennis Court 1",
         10,
         "Owen",
         "Charles",
         "Charles Owen"
        ],
        [
         1,
         0,
         1,
         "Tennis Court 2",
         0,
         "GUEST",
         "GUEST",
         "GUEST GUEST"
        ],
        [
         1,
         8,
         1,
         "Tennis Court 2",
         8,
         "Boothe",
         "Tim",
         "Tim Boothe"
        ],
        [
         1,
         7,
         1,
         "Tennis Court 2",
         7,
         "Dare",
         "Nancy",
         "Nancy Dare"
        ],
        [
         0,
         10,
         0,
         "Tennis Court 1",
         10,
         "Owen",
         "Charles",
         "Charles Owen"
        ],
        [
         0,
         6,
         0,
         "Tennis Court 1",
         6,
         "Tracy",
         "Burton",
         "Burton Tracy"
        ],
        [
         0,
         5,
         0,
         "Tennis Court 1",
         5,
         "Butters",
         "Gerald",
         "Gerald Butters"
        ],
        [
         0,
         6,
         0,
         "Tennis Court 1",
         6,
         "Tracy",
         "Burton",
         "Burton Tracy"
        ],
        [
         1,
         0,
         1,
         "Tennis Court 2",
         0,
         "GUEST",
         "GUEST",
         "GUEST GUEST"
        ],
        [
         1,
         10,
         1,
         "Tennis Court 2",
         10,
         "Owen",
         "Charles",
         "Charles Owen"
        ],
        [
         1,
         10,
         1,
         "Tennis Court 2",
         10,
         "Owen",
         "Charles",
         "Charles Owen"
        ],
        [
         1,
         9,
         1,
         "Tennis Court 2",
         9,
         "Stibbons",
         "Ponder",
         "Ponder Stibbons"
        ],
        [
         0,
         6,
         0,
         "Tennis Court 1",
         6,
         "Tracy",
         "Burton",
         "Burton Tracy"
        ],
        [
         0,
         7,
         0,
         "Tennis Court 1",
         7,
         "Dare",
         "Nancy",
         "Nancy Dare"
        ],
        [
         0,
         10,
         0,
         "Tennis Court 1",
         10,
         "Owen",
         "Charles",
         "Charles Owen"
        ],
        [
         1,
         10,
         1,
         "Tennis Court 2",
         10,
         "Owen",
         "Charles",
         "Charles Owen"
        ],
        [
         1,
         0,
         1,
         "Tennis Court 2",
         0,
         "GUEST",
         "GUEST",
         "GUEST GUEST"
        ],
        [
         1,
         8,
         1,
         "Tennis Court 2",
         8,
         "Boothe",
         "Tim",
         "Tim Boothe"
        ],
        [
         1,
         0,
         1,
         "Tennis Court 2",
         0,
         "GUEST",
         "GUEST",
         "GUEST GUEST"
        ],
        [
         0,
         3,
         0,
         "Tennis Court 1",
         3,
         "Rownam",
         "Tim",
         "Tim Rownam"
        ],
        [
         0,
         2,
         0,
         "Tennis Court 1",
         2,
         "Smith",
         "Tracy",
         "Tracy Smith"
        ],
        [
         0,
         5,
         0,
         "Tennis Court 1",
         5,
         "Butters",
         "Gerald",
         "Gerald Butters"
        ],
        [
         0,
         2,
         0,
         "Tennis Court 1",
         2,
         "Smith",
         "Tracy",
         "Tracy Smith"
        ],
        [
         0,
         8,
         0,
         "Tennis Court 1",
         8,
         "Boothe",
         "Tim",
         "Tim Boothe"
        ],
        [
         1,
         10,
         1,
         "Tennis Court 2",
         10,
         "Owen",
         "Charles",
         "Charles Owen"
        ],
        [
         1,
         8,
         1,
         "Tennis Court 2",
         8,
         "Boothe",
         "Tim",
         "Tim Boothe"
        ],
        [
         1,
         9,
         1,
         "Tennis Court 2",
         9,
         "Stibbons",
         "Ponder",
         "Ponder Stibbons"
        ],
        [
         1,
         0,
         1,
         "Tennis Court 2",
         0,
         "GUEST",
         "GUEST",
         "GUEST GUEST"
        ],
        [
         1,
         10,
         1,
         "Tennis Court 2",
         10,
         "Owen",
         "Charles",
         "Charles Owen"
        ],
        [
         0,
         0,
         0,
         "Tennis Court 1",
         0,
         "GUEST",
         "GUEST",
         "GUEST GUEST"
        ],
        [
         0,
         5,
         0,
         "Tennis Court 1",
         5,
         "Butters",
         "Gerald",
         "Gerald Butters"
        ],
        [
         0,
         0,
         0,
         "Tennis Court 1",
         0,
         "GUEST",
         "GUEST",
         "GUEST GUEST"
        ],
        [
         0,
         4,
         0,
         "Tennis Court 1",
         4,
         "Joplette",
         "Janice",
         "Janice Joplette"
        ],
        [
         0,
         0,
         0,
         "Tennis Court 1",
         0,
         "GUEST",
         "GUEST",
         "GUEST GUEST"
        ],
        [
         0,
         12,
         0,
         "Tennis Court 1",
         12,
         "Baker",
         "Anne",
         "Anne Baker"
        ],
        [
         0,
         4,
         0,
         "Tennis Court 1",
         4,
         "Joplette",
         "Janice",
         "Janice Joplette"
        ],
        [
         1,
         11,
         1,
         "Tennis Court 2",
         11,
         "Jones",
         "David",
         "David Jones"
        ],
        [
         1,
         0,
         1,
         "Tennis Court 2",
         0,
         "GUEST",
         "GUEST",
         "GUEST GUEST"
        ],
        [
         1,
         0,
         1,
         "Tennis Court 2",
         0,
         "GUEST",
         "GUEST",
         "GUEST GUEST"
        ],
        [
         1,
         0,
         1,
         "Tennis Court 2",
         0,
         "GUEST",
         "GUEST",
         "GUEST GUEST"
        ],
        [
         1,
         8,
         1,
         "Tennis Court 2",
         8,
         "Boothe",
         "Tim",
         "Tim Boothe"
        ],
        [
         1,
         0,
         1,
         "Tennis Court 2",
         0,
         "GUEST",
         "GUEST",
         "GUEST GUEST"
        ],
        [
         0,
         0,
         0,
         "Tennis Court 1",
         0,
         "GUEST",
         "GUEST",
         "GUEST GUEST"
        ],
        [
         0,
         7,
         0,
         "Tennis Court 1",
         7,
         "Dare",
         "Nancy",
         "Nancy Dare"
        ],
        [
         0,
         14,
         0,
         "Tennis Court 1",
         14,
         "Smith",
         "Jack",
         "Jack Smith"
        ],
        [
         0,
         0,
         0,
         "Tennis Court 1",
         0,
         "GUEST",
         "GUEST",
         "GUEST GUEST"
        ],
        [
         0,
         6,
         0,
         "Tennis Court 1",
         6,
         "Tracy",
         "Burton",
         "Burton Tracy"
        ],
        [
         0,
         0,
         0,
         "Tennis Court 1",
         0,
         "GUEST",
         "GUEST",
         "GUEST GUEST"
        ],
        [
         1,
         0,
         1,
         "Tennis Court 2",
         0,
         "GUEST",
         "GUEST",
         "GUEST GUEST"
        ],
        [
         1,
         9,
         1,
         "Tennis Court 2",
         9,
         "Stibbons",
         "Ponder",
         "Ponder Stibbons"
        ],
        [
         1,
         8,
         1,
         "Tennis Court 2",
         8,
         "Boothe",
         "Tim",
         "Tim Boothe"
        ],
        [
         0,
         4,
         0,
         "Tennis Court 1",
         4,
         "Joplette",
         "Janice",
         "Janice Joplette"
        ],
        [
         0,
         0,
         0,
         "Tennis Court 1",
         0,
         "GUEST",
         "GUEST",
         "GUEST GUEST"
        ],
        [
         0,
         6,
         0,
         "Tennis Court 1",
         6,
         "Tracy",
         "Burton",
         "Burton Tracy"
        ],
        [
         0,
         0,
         0,
         "Tennis Court 1",
         0,
         "GUEST",
         "GUEST",
         "GUEST GUEST"
        ],
        [
         1,
         12,
         1,
         "Tennis Court 2",
         12,
         "Baker",
         "Anne",
         "Anne Baker"
        ],
        [
         1,
         6,
         1,
         "Tennis Court 2",
         6,
         "Tracy",
         "Burton",
         "Burton Tracy"
        ],
        [
         1,
         10,
         1,
         "Tennis Court 2",
         10,
         "Owen",
         "Charles",
         "Charles Owen"
        ],
        [
         1,
         11,
         1,
         "Tennis Court 2",
         11,
         "Jones",
         "David",
         "David Jones"
        ],
        [
         1,
         0,
         1,
         "Tennis Court 2",
         0,
         "GUEST",
         "GUEST",
         "GUEST GUEST"
        ],
        [
         1,
         11,
         1,
         "Tennis Court 2",
         11,
         "Jones",
         "David",
         "David Jones"
        ],
        [
         0,
         7,
         0,
         "Tennis Court 1",
         7,
         "Dare",
         "Nancy",
         "Nancy Dare"
        ],
        [
         0,
         14,
         0,
         "Tennis Court 1",
         14,
         "Smith",
         "Jack",
         "Jack Smith"
        ],
        [
         0,
         11,
         0,
         "Tennis Court 1",
         11,
         "Jones",
         "David",
         "David Jones"
        ],
        [
         0,
         0,
         0,
         "Tennis Court 1",
         0,
         "GUEST",
         "GUEST",
         "GUEST GUEST"
        ],
        [
         0,
         10,
         0,
         "Tennis Court 1",
         10,
         "Owen",
         "Charles",
         "Charles Owen"
        ],
        [
         1,
         11,
         1,
         "Tennis Court 2",
         11,
         "Jones",
         "David",
         "David Jones"
        ],
        [
         1,
         8,
         1,
         "Tennis Court 2",
         8,
         "Boothe",
         "Tim",
         "Tim Boothe"
        ],
        [
         1,
         0,
         1,
         "Tennis Court 2",
         0,
         "GUEST",
         "GUEST",
         "GUEST GUEST"
        ],
        [
         1,
         0,
         1,
         "Tennis Court 2",
         0,
         "GUEST",
         "GUEST",
         "GUEST GUEST"
        ],
        [
         0,
         0,
         0,
         "Tennis Court 1",
         0,
         "GUEST",
         "GUEST",
         "GUEST GUEST"
        ],
        [
         0,
         6,
         0,
         "Tennis Court 1",
         6,
         "Tracy",
         "Burton",
         "Burton Tracy"
        ],
        [
         0,
         5,
         0,
         "Tennis Court 1",
         5,
         "Butters",
         "Gerald",
         "Gerald Butters"
        ],
        [
         0,
         14,
         0,
         "Tennis Court 1",
         14,
         "Smith",
         "Jack",
         "Jack Smith"
        ],
        [
         0,
         0,
         0,
         "Tennis Court 1",
         0,
         "GUEST",
         "GUEST",
         "GUEST GUEST"
        ],
        [
         0,
         7,
         0,
         "Tennis Court 1",
         7,
         "Dare",
         "Nancy",
         "Nancy Dare"
        ],
        [
         1,
         0,
         1,
         "Tennis Court 2",
         0,
         "GUEST",
         "GUEST",
         "GUEST GUEST"
        ],
        [
         1,
         8,
         1,
         "Tennis Court 2",
         8,
         "Boothe",
         "Tim",
         "Tim Boothe"
        ],
        [
         1,
         12,
         1,
         "Tennis Court 2",
         12,
         "Baker",
         "Anne",
         "Anne Baker"
        ],
        [
         1,
         11,
         1,
         "Tennis Court 2",
         11,
         "Jones",
         "David",
         "David Jones"
        ],
        [
         1,
         12,
         1,
         "Tennis Court 2",
         12,
         "Baker",
         "Anne",
         "Anne Baker"
        ],
        [
         1,
         8,
         1,
         "Tennis Court 2",
         8,
         "Boothe",
         "Tim",
         "Tim Boothe"
        ],
        [
         0,
         4,
         0,
         "Tennis Court 1",
         4,
         "Joplette",
         "Janice",
         "Janice Joplette"
        ],
        [
         0,
         0,
         0,
         "Tennis Court 1",
         0,
         "GUEST",
         "GUEST",
         "GUEST GUEST"
        ],
        [
         0,
         5,
         0,
         "Tennis Court 1",
         5,
         "Butters",
         "Gerald",
         "Gerald Butters"
        ],
        [
         0,
         14,
         0,
         "Tennis Court 1",
         14,
         "Smith",
         "Jack",
         "Jack Smith"
        ],
        [
         0,
         0,
         0,
         "Tennis Court 1",
         0,
         "GUEST",
         "GUEST",
         "GUEST GUEST"
        ],
        [
         0,
         0,
         0,
         "Tennis Court 1",
         0,
         "GUEST",
         "GUEST",
         "GUEST GUEST"
        ],
        [
         1,
         12,
         1,
         "Tennis Court 2",
         12,
         "Baker",
         "Anne",
         "Anne Baker"
        ],
        [
         1,
         0,
         1,
         "Tennis Court 2",
         0,
         "GUEST",
         "GUEST",
         "GUEST GUEST"
        ],
        [
         1,
         11,
         1,
         "Tennis Court 2",
         11,
         "Jones",
         "David",
         "David Jones"
        ],
        [
         1,
         8,
         1,
         "Tennis Court 2",
         8,
         "Boothe",
         "Tim",
         "Tim Boothe"
        ],
        [
         1,
         12,
         1,
         "Tennis Court 2",
         12,
         "Baker",
         "Anne",
         "Anne Baker"
        ],
        [
         0,
         0,
         0,
         "Tennis Court 1",
         0,
         "GUEST",
         "GUEST",
         "GUEST GUEST"
        ],
        [
         0,
         14,
         0,
         "Tennis Court 1",
         14,
         "Smith",
         "Jack",
         "Jack Smith"
        ],
        [
         0,
         6,
         0,
         "Tennis Court 1",
         6,
         "Tracy",
         "Burton",
         "Burton Tracy"
        ],
        [
         0,
         10,
         0,
         "Tennis Court 1",
         10,
         "Owen",
         "Charles",
         "Charles Owen"
        ],
        [
         0,
         14,
         0,
         "Tennis Court 1",
         14,
         "Smith",
         "Jack",
         "Jack Smith"
        ],
        [
         1,
         10,
         1,
         "Tennis Court 2",
         10,
         "Owen",
         "Charles",
         "Charles Owen"
        ],
        [
         1,
         0,
         1,
         "Tennis Court 2",
         0,
         "GUEST",
         "GUEST",
         "GUEST GUEST"
        ],
        [
         1,
         11,
         1,
         "Tennis Court 2",
         11,
         "Jones",
         "David",
         "David Jones"
        ],
        [
         1,
         0,
         1,
         "Tennis Court 2",
         0,
         "GUEST",
         "GUEST",
         "GUEST GUEST"
        ],
        [
         1,
         16,
         1,
         "Tennis Court 2",
         16,
         "Baker",
         "Timothy",
         "Timothy Baker"
        ],
        [
         0,
         5,
         0,
         "Tennis Court 1",
         5,
         "Butters",
         "Gerald",
         "Gerald Butters"
        ],
        [
         0,
         0,
         0,
         "Tennis Court 1",
         0,
         "GUEST",
         "GUEST",
         "GUEST GUEST"
        ],
        [
         0,
         5,
         0,
         "Tennis Court 1",
         5,
         "Butters",
         "Gerald",
         "Gerald Butters"
        ],
        [
         0,
         0,
         0,
         "Tennis Court 1",
         0,
         "GUEST",
         "GUEST",
         "GUEST GUEST"
        ],
        [
         1,
         8,
         1,
         "Tennis Court 2",
         8,
         "Boothe",
         "Tim",
         "Tim Boothe"
        ],
        [
         1,
         15,
         1,
         "Tennis Court 2",
         15,
         "Bader",
         "Florence",
         "Florence Bader"
        ],
        [
         1,
         0,
         1,
         "Tennis Court 2",
         0,
         "GUEST",
         "GUEST",
         "GUEST GUEST"
        ],
        [
         1,
         7,
         1,
         "Tennis Court 2",
         7,
         "Dare",
         "Nancy",
         "Nancy Dare"
        ],
        [
         1,
         12,
         1,
         "Tennis Court 2",
         12,
         "Baker",
         "Anne",
         "Anne Baker"
        ],
        [
         0,
         12,
         0,
         "Tennis Court 1",
         12,
         "Baker",
         "Anne",
         "Anne Baker"
        ],
        [
         0,
         16,
         0,
         "Tennis Court 1",
         16,
         "Baker",
         "Timothy",
         "Timothy Baker"
        ],
        [
         0,
         6,
         0,
         "Tennis Court 1",
         6,
         "Tracy",
         "Burton",
         "Burton Tracy"
        ],
        [
         0,
         6,
         0,
         "Tennis Court 1",
         6,
         "Tracy",
         "Burton",
         "Burton Tracy"
        ],
        [
         1,
         10,
         1,
         "Tennis Court 2",
         10,
         "Owen",
         "Charles",
         "Charles Owen"
        ],
        [
         1,
         7,
         1,
         "Tennis Court 2",
         7,
         "Dare",
         "Nancy",
         "Nancy Dare"
        ],
        [
         1,
         10,
         1,
         "Tennis Court 2",
         10,
         "Owen",
         "Charles",
         "Charles Owen"
        ],
        [
         1,
         0,
         1,
         "Tennis Court 2",
         0,
         "GUEST",
         "GUEST",
         "GUEST GUEST"
        ],
        [
         0,
         10,
         0,
         "Tennis Court 1",
         10,
         "Owen",
         "Charles",
         "Charles Owen"
        ],
        [
         0,
         10,
         0,
         "Tennis Court 1",
         10,
         "Owen",
         "Charles",
         "Charles Owen"
        ],
        [
         0,
         14,
         0,
         "Tennis Court 1",
         14,
         "Smith",
         "Jack",
         "Jack Smith"
        ],
        [
         0,
         4,
         0,
         "Tennis Court 1",
         4,
         "Joplette",
         "Janice",
         "Janice Joplette"
        ],
        [
         0,
         14,
         0,
         "Tennis Court 1",
         14,
         "Smith",
         "Jack",
         "Jack Smith"
        ],
        [
         0,
         16,
         0,
         "Tennis Court 1",
         16,
         "Baker",
         "Timothy",
         "Timothy Baker"
        ],
        [
         1,
         9,
         1,
         "Tennis Court 2",
         9,
         "Stibbons",
         "Ponder",
         "Ponder Stibbons"
        ],
        [
         1,
         16,
         1,
         "Tennis Court 2",
         16,
         "Baker",
         "Timothy",
         "Timothy Baker"
        ],
        [
         1,
         0,
         1,
         "Tennis Court 2",
         0,
         "GUEST",
         "GUEST",
         "GUEST GUEST"
        ],
        [
         1,
         10,
         1,
         "Tennis Court 2",
         10,
         "Owen",
         "Charles",
         "Charles Owen"
        ],
        [
         1,
         6,
         1,
         "Tennis Court 2",
         6,
         "Tracy",
         "Burton",
         "Burton Tracy"
        ],
        [
         1,
         8,
         1,
         "Tennis Court 2",
         8,
         "Boothe",
         "Tim",
         "Tim Boothe"
        ],
        [
         0,
         14,
         0,
         "Tennis Court 1",
         14,
         "Smith",
         "Jack",
         "Jack Smith"
        ],
        [
         0,
         0,
         0,
         "Tennis Court 1",
         0,
         "GUEST",
         "GUEST",
         "GUEST GUEST"
        ],
        [
         0,
         0,
         0,
         "Tennis Court 1",
         0,
         "GUEST",
         "GUEST",
         "GUEST GUEST"
        ],
        [
         1,
         11,
         1,
         "Tennis Court 2",
         11,
         "Jones",
         "David",
         "David Jones"
        ],
        [
         1,
         9,
         1,
         "Tennis Court 2",
         9,
         "Stibbons",
         "Ponder",
         "Ponder Stibbons"
        ],
        [
         1,
         10,
         1,
         "Tennis Court 2",
         10,
         "Owen",
         "Charles",
         "Charles Owen"
        ],
        [
         1,
         7,
         1,
         "Tennis Court 2",
         7,
         "Dare",
         "Nancy",
         "Nancy Dare"
        ],
        [
         1,
         10,
         1,
         "Tennis Court 2",
         10,
         "Owen",
         "Charles",
         "Charles Owen"
        ],
        [
         0,
         11,
         0,
         "Tennis Court 1",
         11,
         "Jones",
         "David",
         "David Jones"
        ],
        [
         0,
         5,
         0,
         "Tennis Court 1",
         5,
         "Butters",
         "Gerald",
         "Gerald Butters"
        ],
        [
         0,
         0,
         0,
         "Tennis Court 1",
         0,
         "GUEST",
         "GUEST",
         "GUEST GUEST"
        ],
        [
         0,
         16,
         0,
         "Tennis Court 1",
         16,
         "Baker",
         "Timothy",
         "Timothy Baker"
        ],
        [
         0,
         11,
         0,
         "Tennis Court 1",
         11,
         "Jones",
         "David",
         "David Jones"
        ],
        [
         1,
         0,
         1,
         "Tennis Court 2",
         0,
         "GUEST",
         "GUEST",
         "GUEST GUEST"
        ],
        [
         1,
         0,
         1,
         "Tennis Court 2",
         0,
         "GUEST",
         "GUEST",
         "GUEST GUEST"
        ],
        [
         1,
         0,
         1,
         "Tennis Court 2",
         0,
         "GUEST",
         "GUEST",
         "GUEST GUEST"
        ],
        [
         1,
         7,
         1,
         "Tennis Court 2",
         7,
         "Dare",
         "Nancy",
         "Nancy Dare"
        ],
        [
         1,
         12,
         1,
         "Tennis Court 2",
         12,
         "Baker",
         "Anne",
         "Anne Baker"
        ],
        [
         0,
         11,
         0,
         "Tennis Court 1",
         11,
         "Jones",
         "David",
         "David Jones"
        ],
        [
         0,
         14,
         0,
         "Tennis Court 1",
         14,
         "Smith",
         "Jack",
         "Jack Smith"
        ],
        [
         0,
         10,
         0,
         "Tennis Court 1",
         10,
         "Owen",
         "Charles",
         "Charles Owen"
        ],
        [
         0,
         5,
         0,
         "Tennis Court 1",
         5,
         "Butters",
         "Gerald",
         "Gerald Butters"
        ],
        [
         0,
         12,
         0,
         "Tennis Court 1",
         12,
         "Baker",
         "Anne",
         "Anne Baker"
        ],
        [
         1,
         12,
         1,
         "Tennis Court 2",
         12,
         "Baker",
         "Anne",
         "Anne Baker"
        ],
        [
         1,
         11,
         1,
         "Tennis Court 2",
         11,
         "Jones",
         "David",
         "David Jones"
        ],
        [
         1,
         0,
         1,
         "Tennis Court 2",
         0,
         "GUEST",
         "GUEST",
         "GUEST GUEST"
        ],
        [
         1,
         16,
         1,
         "Tennis Court 2",
         16,
         "Baker",
         "Timothy",
         "Timothy Baker"
        ],
        [
         1,
         10,
         1,
         "Tennis Court 2",
         10,
         "Owen",
         "Charles",
         "Charles Owen"
        ],
        [
         1,
         9,
         1,
         "Tennis Court 2",
         9,
         "Stibbons",
         "Ponder",
         "Ponder Stibbons"
        ],
        [
         1,
         15,
         1,
         "Tennis Court 2",
         15,
         "Bader",
         "Florence",
         "Florence Bader"
        ],
        [
         0,
         14,
         0,
         "Tennis Court 1",
         14,
         "Smith",
         "Jack",
         "Jack Smith"
        ],
        [
         0,
         2,
         0,
         "Tennis Court 1",
         2,
         "Smith",
         "Tracy",
         "Tracy Smith"
        ],
        [
         0,
         0,
         0,
         "Tennis Court 1",
         0,
         "GUEST",
         "GUEST",
         "GUEST GUEST"
        ],
        [
         0,
         6,
         0,
         "Tennis Court 1",
         6,
         "Tracy",
         "Burton",
         "Burton Tracy"
        ],
        [
         0,
         16,
         0,
         "Tennis Court 1",
         16,
         "Baker",
         "Timothy",
         "Timothy Baker"
        ],
        [
         0,
         8,
         0,
         "Tennis Court 1",
         8,
         "Boothe",
         "Tim",
         "Tim Boothe"
        ],
        [
         1,
         12,
         1,
         "Tennis Court 2",
         12,
         "Baker",
         "Anne",
         "Anne Baker"
        ],
        [
         1,
         9,
         1,
         "Tennis Court 2",
         9,
         "Stibbons",
         "Ponder",
         "Ponder Stibbons"
        ],
        [
         1,
         0,
         1,
         "Tennis Court 2",
         0,
         "GUEST",
         "GUEST",
         "GUEST GUEST"
        ],
        [
         1,
         8,
         1,
         "Tennis Court 2",
         8,
         "Boothe",
         "Tim",
         "Tim Boothe"
        ],
        [
         1,
         10,
         1,
         "Tennis Court 2",
         10,
         "Owen",
         "Charles",
         "Charles Owen"
        ],
        [
         1,
         12,
         1,
         "Tennis Court 2",
         12,
         "Baker",
         "Anne",
         "Anne Baker"
        ],
        [
         0,
         8,
         0,
         "Tennis Court 1",
         8,
         "Boothe",
         "Tim",
         "Tim Boothe"
        ],
        [
         0,
         7,
         0,
         "Tennis Court 1",
         7,
         "Dare",
         "Nancy",
         "Nancy Dare"
        ],
        [
         0,
         0,
         0,
         "Tennis Court 1",
         0,
         "GUEST",
         "GUEST",
         "GUEST GUEST"
        ],
        [
         0,
         5,
         0,
         "Tennis Court 1",
         5,
         "Butters",
         "Gerald",
         "Gerald Butters"
        ],
        [
         0,
         0,
         0,
         "Tennis Court 1",
         0,
         "GUEST",
         "GUEST",
         "GUEST GUEST"
        ],
        [
         0,
         17,
         0,
         "Tennis Court 1",
         17,
         "Pinker",
         "David",
         "David Pinker"
        ],
        [
         1,
         9,
         1,
         "Tennis Court 2",
         9,
         "Stibbons",
         "Ponder",
         "Ponder Stibbons"
        ],
        [
         1,
         11,
         1,
         "Tennis Court 2",
         11,
         "Jones",
         "David",
         "David Jones"
        ],
        [
         1,
         0,
         1,
         "Tennis Court 2",
         0,
         "GUEST",
         "GUEST",
         "GUEST GUEST"
        ],
        [
         1,
         15,
         1,
         "Tennis Court 2",
         15,
         "Bader",
         "Florence",
         "Florence Bader"
        ],
        [
         0,
         11,
         0,
         "Tennis Court 1",
         11,
         "Jones",
         "David",
         "David Jones"
        ],
        [
         0,
         6,
         0,
         "Tennis Court 1",
         6,
         "Tracy",
         "Burton",
         "Burton Tracy"
        ],
        [
         0,
         11,
         0,
         "Tennis Court 1",
         11,
         "Jones",
         "David",
         "David Jones"
        ],
        [
         0,
         0,
         0,
         "Tennis Court 1",
         0,
         "GUEST",
         "GUEST",
         "GUEST GUEST"
        ],
        [
         0,
         6,
         0,
         "Tennis Court 1",
         6,
         "Tracy",
         "Burton",
         "Burton Tracy"
        ],
        [
         0,
         5,
         0,
         "Tennis Court 1",
         5,
         "Butters",
         "Gerald",
         "Gerald Butters"
        ],
        [
         1,
         12,
         1,
         "Tennis Court 2",
         12,
         "Baker",
         "Anne",
         "Anne Baker"
        ],
        [
         1,
         11,
         1,
         "Tennis Court 2",
         11,
         "Jones",
         "David",
         "David Jones"
        ],
        [
         1,
         0,
         1,
         "Tennis Court 2",
         0,
         "GUEST",
         "GUEST",
         "GUEST GUEST"
        ],
        [
         1,
         13,
         1,
         "Tennis Court 2",
         13,
         "Farrell",
         "Jemima",
         "Jemima Farrell"
        ],
        [
         1,
         0,
         1,
         "Tennis Court 2",
         0,
         "GUEST",
         "GUEST",
         "GUEST GUEST"
        ],
        [
         0,
         0,
         0,
         "Tennis Court 1",
         0,
         "GUEST",
         "GUEST",
         "GUEST GUEST"
        ],
        [
         0,
         5,
         0,
         "Tennis Court 1",
         5,
         "Butters",
         "Gerald",
         "Gerald Butters"
        ],
        [
         0,
         17,
         0,
         "Tennis Court 1",
         17,
         "Pinker",
         "David",
         "David Pinker"
        ],
        [
         0,
         7,
         0,
         "Tennis Court 1",
         7,
         "Dare",
         "Nancy",
         "Nancy Dare"
        ],
        [
         0,
         0,
         0,
         "Tennis Court 1",
         0,
         "GUEST",
         "GUEST",
         "GUEST GUEST"
        ],
        [
         1,
         12,
         1,
         "Tennis Court 2",
         12,
         "Baker",
         "Anne",
         "Anne Baker"
        ],
        [
         1,
         0,
         1,
         "Tennis Court 2",
         0,
         "GUEST",
         "GUEST",
         "GUEST GUEST"
        ],
        [
         1,
         9,
         1,
         "Tennis Court 2",
         9,
         "Stibbons",
         "Ponder",
         "Ponder Stibbons"
        ],
        [
         1,
         8,
         1,
         "Tennis Court 2",
         8,
         "Boothe",
         "Tim",
         "Tim Boothe"
        ],
        [
         1,
         9,
         1,
         "Tennis Court 2",
         9,
         "Stibbons",
         "Ponder",
         "Ponder Stibbons"
        ],
        [
         1,
         10,
         1,
         "Tennis Court 2",
         10,
         "Owen",
         "Charles",
         "Charles Owen"
        ],
        [
         0,
         11,
         0,
         "Tennis Court 1",
         11,
         "Jones",
         "David",
         "David Jones"
        ],
        [
         0,
         14,
         0,
         "Tennis Court 1",
         14,
         "Smith",
         "Jack",
         "Jack Smith"
        ],
        [
         0,
         10,
         0,
         "Tennis Court 1",
         10,
         "Owen",
         "Charles",
         "Charles Owen"
        ],
        [
         0,
         17,
         0,
         "Tennis Court 1",
         17,
         "Pinker",
         "David",
         "David Pinker"
        ],
        [
         0,
         6,
         0,
         "Tennis Court 1",
         6,
         "Tracy",
         "Burton",
         "Burton Tracy"
        ],
        [
         0,
         16,
         0,
         "Tennis Court 1",
         16,
         "Baker",
         "Timothy",
         "Timothy Baker"
        ],
        [
         1,
         12,
         1,
         "Tennis Court 2",
         12,
         "Baker",
         "Anne",
         "Anne Baker"
        ],
        [
         1,
         11,
         1,
         "Tennis Court 2",
         11,
         "Jones",
         "David",
         "David Jones"
        ],
        [
         1,
         9,
         1,
         "Tennis Court 2",
         9,
         "Stibbons",
         "Ponder",
         "Ponder Stibbons"
        ],
        [
         1,
         12,
         1,
         "Tennis Court 2",
         12,
         "Baker",
         "Anne",
         "Anne Baker"
        ],
        [
         0,
         0,
         0,
         "Tennis Court 1",
         0,
         "GUEST",
         "GUEST",
         "GUEST GUEST"
        ],
        [
         0,
         7,
         0,
         "Tennis Court 1",
         7,
         "Dare",
         "Nancy",
         "Nancy Dare"
        ],
        [
         0,
         10,
         0,
         "Tennis Court 1",
         10,
         "Owen",
         "Charles",
         "Charles Owen"
        ],
        [
         0,
         0,
         0,
         "Tennis Court 1",
         0,
         "GUEST",
         "GUEST",
         "GUEST GUEST"
        ],
        [
         0,
         9,
         0,
         "Tennis Court 1",
         9,
         "Stibbons",
         "Ponder",
         "Ponder Stibbons"
        ],
        [
         0,
         0,
         0,
         "Tennis Court 1",
         0,
         "GUEST",
         "GUEST",
         "GUEST GUEST"
        ],
        [
         1,
         12,
         1,
         "Tennis Court 2",
         12,
         "Baker",
         "Anne",
         "Anne Baker"
        ],
        [
         1,
         10,
         1,
         "Tennis Court 2",
         10,
         "Owen",
         "Charles",
         "Charles Owen"
        ],
        [
         1,
         9,
         1,
         "Tennis Court 2",
         9,
         "Stibbons",
         "Ponder",
         "Ponder Stibbons"
        ],
        [
         1,
         10,
         1,
         "Tennis Court 2",
         10,
         "Owen",
         "Charles",
         "Charles Owen"
        ],
        [
         1,
         8,
         1,
         "Tennis Court 2",
         8,
         "Boothe",
         "Tim",
         "Tim Boothe"
        ],
        [
         0,
         0,
         0,
         "Tennis Court 1",
         0,
         "GUEST",
         "GUEST",
         "GUEST GUEST"
        ],
        [
         0,
         17,
         0,
         "Tennis Court 1",
         17,
         "Pinker",
         "David",
         "David Pinker"
        ],
        [
         0,
         5,
         0,
         "Tennis Court 1",
         5,
         "Butters",
         "Gerald",
         "Gerald Butters"
        ],
        [
         0,
         0,
         0,
         "Tennis Court 1",
         0,
         "GUEST",
         "GUEST",
         "GUEST GUEST"
        ],
        [
         0,
         5,
         0,
         "Tennis Court 1",
         5,
         "Butters",
         "Gerald",
         "Gerald Butters"
        ],
        [
         1,
         8,
         1,
         "Tennis Court 2",
         8,
         "Boothe",
         "Tim",
         "Tim Boothe"
        ],
        [
         1,
         10,
         1,
         "Tennis Court 2",
         10,
         "Owen",
         "Charles",
         "Charles Owen"
        ],
        [
         1,
         11,
         1,
         "Tennis Court 2",
         11,
         "Jones",
         "David",
         "David Jones"
        ],
        [
         1,
         0,
         1,
         "Tennis Court 2",
         0,
         "GUEST",
         "GUEST",
         "GUEST GUEST"
        ],
        [
         1,
         0,
         1,
         "Tennis Court 2",
         0,
         "GUEST",
         "GUEST",
         "GUEST GUEST"
        ],
        [
         0,
         5,
         0,
         "Tennis Court 1",
         5,
         "Butters",
         "Gerald",
         "Gerald Butters"
        ],
        [
         0,
         0,
         0,
         "Tennis Court 1",
         0,
         "GUEST",
         "GUEST",
         "GUEST GUEST"
        ],
        [
         0,
         11,
         0,
         "Tennis Court 1",
         11,
         "Jones",
         "David",
         "David Jones"
        ],
        [
         0,
         6,
         0,
         "Tennis Court 1",
         6,
         "Tracy",
         "Burton",
         "Burton Tracy"
        ],
        [
         0,
         2,
         0,
         "Tennis Court 1",
         2,
         "Smith",
         "Tracy",
         "Tracy Smith"
        ],
        [
         0,
         5,
         0,
         "Tennis Court 1",
         5,
         "Butters",
         "Gerald",
         "Gerald Butters"
        ],
        [
         1,
         0,
         1,
         "Tennis Court 2",
         0,
         "GUEST",
         "GUEST",
         "GUEST GUEST"
        ],
        [
         1,
         0,
         1,
         "Tennis Court 2",
         0,
         "GUEST",
         "GUEST",
         "GUEST GUEST"
        ],
        [
         1,
         12,
         1,
         "Tennis Court 2",
         12,
         "Baker",
         "Anne",
         "Anne Baker"
        ],
        [
         1,
         8,
         1,
         "Tennis Court 2",
         8,
         "Boothe",
         "Tim",
         "Tim Boothe"
        ],
        [
         1,
         10,
         1,
         "Tennis Court 2",
         10,
         "Owen",
         "Charles",
         "Charles Owen"
        ],
        [
         1,
         8,
         1,
         "Tennis Court 2",
         8,
         "Boothe",
         "Tim",
         "Tim Boothe"
        ],
        [
         0,
         0,
         0,
         "Tennis Court 1",
         0,
         "GUEST",
         "GUEST",
         "GUEST GUEST"
        ],
        [
         0,
         17,
         0,
         "Tennis Court 1",
         17,
         "Pinker",
         "David",
         "David Pinker"
        ],
        [
         0,
         7,
         0,
         "Tennis Court 1",
         7,
         "Dare",
         "Nancy",
         "Nancy Dare"
        ],
        [
         0,
         6,
         0,
         "Tennis Court 1",
         6,
         "Tracy",
         "Burton",
         "Burton Tracy"
        ],
        [
         0,
         4,
         0,
         "Tennis Court 1",
         4,
         "Joplette",
         "Janice",
         "Janice Joplette"
        ],
        [
         1,
         0,
         1,
         "Tennis Court 2",
         0,
         "GUEST",
         "GUEST",
         "GUEST GUEST"
        ],
        [
         1,
         11,
         1,
         "Tennis Court 2",
         11,
         "Jones",
         "David",
         "David Jones"
        ],
        [
         1,
         10,
         1,
         "Tennis Court 2",
         10,
         "Owen",
         "Charles",
         "Charles Owen"
        ],
        [
         1,
         12,
         1,
         "Tennis Court 2",
         12,
         "Baker",
         "Anne",
         "Anne Baker"
        ],
        [
         1,
         0,
         1,
         "Tennis Court 2",
         0,
         "GUEST",
         "GUEST",
         "GUEST GUEST"
        ],
        [
         1,
         12,
         1,
         "Tennis Court 2",
         12,
         "Baker",
         "Anne",
         "Anne Baker"
        ],
        [
         0,
         10,
         0,
         "Tennis Court 1",
         10,
         "Owen",
         "Charles",
         "Charles Owen"
        ],
        [
         0,
         0,
         0,
         "Tennis Court 1",
         0,
         "GUEST",
         "GUEST",
         "GUEST GUEST"
        ],
        [
         0,
         12,
         0,
         "Tennis Court 1",
         12,
         "Baker",
         "Anne",
         "Anne Baker"
        ],
        [
         0,
         5,
         0,
         "Tennis Court 1",
         5,
         "Butters",
         "Gerald",
         "Gerald Butters"
        ],
        [
         0,
         6,
         0,
         "Tennis Court 1",
         6,
         "Tracy",
         "Burton",
         "Burton Tracy"
        ],
        [
         1,
         15,
         1,
         "Tennis Court 2",
         15,
         "Bader",
         "Florence",
         "Florence Bader"
        ],
        [
         1,
         11,
         1,
         "Tennis Court 2",
         11,
         "Jones",
         "David",
         "David Jones"
        ],
        [
         1,
         10,
         1,
         "Tennis Court 2",
         10,
         "Owen",
         "Charles",
         "Charles Owen"
        ],
        [
         1,
         0,
         1,
         "Tennis Court 2",
         0,
         "GUEST",
         "GUEST",
         "GUEST GUEST"
        ],
        [
         0,
         0,
         0,
         "Tennis Court 1",
         0,
         "GUEST",
         "GUEST",
         "GUEST GUEST"
        ],
        [
         0,
         11,
         0,
         "Tennis Court 1",
         11,
         "Jones",
         "David",
         "David Jones"
        ],
        [
         0,
         14,
         0,
         "Tennis Court 1",
         14,
         "Smith",
         "Jack",
         "Jack Smith"
        ],
        [
         0,
         0,
         0,
         "Tennis Court 1",
         0,
         "GUEST",
         "GUEST",
         "GUEST GUEST"
        ],
        [
         0,
         16,
         0,
         "Tennis Court 1",
         16,
         "Baker",
         "Timothy",
         "Timothy Baker"
        ],
        [
         1,
         12,
         1,
         "Tennis Court 2",
         12,
         "Baker",
         "Anne",
         "Anne Baker"
        ],
        [
         1,
         0,
         1,
         "Tennis Court 2",
         0,
         "GUEST",
         "GUEST",
         "GUEST GUEST"
        ],
        [
         1,
         0,
         1,
         "Tennis Court 2",
         0,
         "GUEST",
         "GUEST",
         "GUEST GUEST"
        ],
        [
         1,
         8,
         1,
         "Tennis Court 2",
         8,
         "Boothe",
         "Tim",
         "Tim Boothe"
        ],
        [
         1,
         11,
         1,
         "Tennis Court 2",
         11,
         "Jones",
         "David",
         "David Jones"
        ],
        [
         0,
         11,
         0,
         "Tennis Court 1",
         11,
         "Jones",
         "David",
         "David Jones"
        ],
        [
         0,
         0,
         0,
         "Tennis Court 1",
         0,
         "GUEST",
         "GUEST",
         "GUEST GUEST"
        ],
        [
         0,
         10,
         0,
         "Tennis Court 1",
         10,
         "Owen",
         "Charles",
         "Charles Owen"
        ],
        [
         0,
         0,
         0,
         "Tennis Court 1",
         0,
         "GUEST",
         "GUEST",
         "GUEST GUEST"
        ],
        [
         0,
         5,
         0,
         "Tennis Court 1",
         5,
         "Butters",
         "Gerald",
         "Gerald Butters"
        ],
        [
         0,
         0,
         0,
         "Tennis Court 1",
         0,
         "GUEST",
         "GUEST",
         "GUEST GUEST"
        ],
        [
         1,
         0,
         1,
         "Tennis Court 2",
         0,
         "GUEST",
         "GUEST",
         "GUEST GUEST"
        ],
        [
         1,
         8,
         1,
         "Tennis Court 2",
         8,
         "Boothe",
         "Tim",
         "Tim Boothe"
        ],
        [
         1,
         0,
         1,
         "Tennis Court 2",
         0,
         "GUEST",
         "GUEST",
         "GUEST GUEST"
        ],
        [
         1,
         0,
         1,
         "Tennis Court 2",
         0,
         "GUEST",
         "GUEST",
         "GUEST GUEST"
        ],
        [
         1,
         9,
         1,
         "Tennis Court 2",
         9,
         "Stibbons",
         "Ponder",
         "Ponder Stibbons"
        ],
        [
         1,
         24,
         1,
         "Tennis Court 2",
         24,
         "Sarwin",
         "Ramnaresh",
         "Ramnaresh Sarwin"
        ],
        [
         0,
         22,
         0,
         "Tennis Court 1",
         22,
         "Coplin",
         "Joan",
         "Joan Coplin"
        ],
        [
         0,
         12,
         0,
         "Tennis Court 1",
         12,
         "Baker",
         "Anne",
         "Anne Baker"
        ],
        [
         0,
         0,
         0,
         "Tennis Court 1",
         0,
         "GUEST",
         "GUEST",
         "GUEST GUEST"
        ],
        [
         0,
         2,
         0,
         "Tennis Court 1",
         2,
         "Smith",
         "Tracy",
         "Tracy Smith"
        ],
        [
         0,
         6,
         0,
         "Tennis Court 1",
         6,
         "Tracy",
         "Burton",
         "Burton Tracy"
        ],
        [
         0,
         17,
         0,
         "Tennis Court 1",
         17,
         "Pinker",
         "David",
         "David Pinker"
        ],
        [
         1,
         1,
         1,
         "Tennis Court 2",
         1,
         "Smith",
         "Darren",
         "Darren Smith"
        ],
        [
         1,
         10,
         1,
         "Tennis Court 2",
         10,
         "Owen",
         "Charles",
         "Charles Owen"
        ],
        [
         1,
         24,
         1,
         "Tennis Court 2",
         24,
         "Sarwin",
         "Ramnaresh",
         "Ramnaresh Sarwin"
        ],
        [
         1,
         8,
         1,
         "Tennis Court 2",
         8,
         "Boothe",
         "Tim",
         "Tim Boothe"
        ],
        [
         1,
         12,
         1,
         "Tennis Court 2",
         12,
         "Baker",
         "Anne",
         "Anne Baker"
        ],
        [
         0,
         17,
         0,
         "Tennis Court 1",
         17,
         "Pinker",
         "David",
         "David Pinker"
        ],
        [
         0,
         11,
         0,
         "Tennis Court 1",
         11,
         "Jones",
         "David",
         "David Jones"
        ],
        [
         0,
         22,
         0,
         "Tennis Court 1",
         22,
         "Coplin",
         "Joan",
         "Joan Coplin"
        ],
        [
         0,
         11,
         0,
         "Tennis Court 1",
         11,
         "Jones",
         "David",
         "David Jones"
        ],
        [
         0,
         4,
         0,
         "Tennis Court 1",
         4,
         "Joplette",
         "Janice",
         "Janice Joplette"
        ],
        [
         1,
         0,
         1,
         "Tennis Court 2",
         0,
         "GUEST",
         "GUEST",
         "GUEST GUEST"
        ],
        [
         1,
         8,
         1,
         "Tennis Court 2",
         8,
         "Boothe",
         "Tim",
         "Tim Boothe"
        ],
        [
         1,
         0,
         1,
         "Tennis Court 2",
         0,
         "GUEST",
         "GUEST",
         "GUEST GUEST"
        ],
        [
         1,
         9,
         1,
         "Tennis Court 2",
         9,
         "Stibbons",
         "Ponder",
         "Ponder Stibbons"
        ],
        [
         1,
         12,
         1,
         "Tennis Court 2",
         12,
         "Baker",
         "Anne",
         "Anne Baker"
        ],
        [
         0,
         0,
         0,
         "Tennis Court 1",
         0,
         "GUEST",
         "GUEST",
         "GUEST GUEST"
        ],
        [
         0,
         14,
         0,
         "Tennis Court 1",
         14,
         "Smith",
         "Jack",
         "Jack Smith"
        ],
        [
         0,
         0,
         0,
         "Tennis Court 1",
         0,
         "GUEST",
         "GUEST",
         "GUEST GUEST"
        ],
        [
         0,
         11,
         0,
         "Tennis Court 1",
         11,
         "Jones",
         "David",
         "David Jones"
        ],
        [
         0,
         17,
         0,
         "Tennis Court 1",
         17,
         "Pinker",
         "David",
         "David Pinker"
        ],
        [
         0,
         14,
         0,
         "Tennis Court 1",
         14,
         "Smith",
         "Jack",
         "Jack Smith"
        ],
        [
         1,
         9,
         1,
         "Tennis Court 2",
         9,
         "Stibbons",
         "Ponder",
         "Ponder Stibbons"
        ],
        [
         1,
         12,
         1,
         "Tennis Court 2",
         12,
         "Baker",
         "Anne",
         "Anne Baker"
        ],
        [
         1,
         11,
         1,
         "Tennis Court 2",
         11,
         "Jones",
         "David",
         "David Jones"
        ],
        [
         1,
         24,
         1,
         "Tennis Court 2",
         24,
         "Sarwin",
         "Ramnaresh",
         "Ramnaresh Sarwin"
        ],
        [
         1,
         12,
         1,
         "Tennis Court 2",
         12,
         "Baker",
         "Anne",
         "Anne Baker"
        ],
        [
         1,
         9,
         1,
         "Tennis Court 2",
         9,
         "Stibbons",
         "Ponder",
         "Ponder Stibbons"
        ],
        [
         0,
         5,
         0,
         "Tennis Court 1",
         5,
         "Butters",
         "Gerald",
         "Gerald Butters"
        ],
        [
         0,
         0,
         0,
         "Tennis Court 1",
         0,
         "GUEST",
         "GUEST",
         "GUEST GUEST"
        ],
        [
         0,
         7,
         0,
         "Tennis Court 1",
         7,
         "Dare",
         "Nancy",
         "Nancy Dare"
        ],
        [
         0,
         0,
         0,
         "Tennis Court 1",
         0,
         "GUEST",
         "GUEST",
         "GUEST GUEST"
        ],
        [
         0,
         11,
         0,
         "Tennis Court 1",
         11,
         "Jones",
         "David",
         "David Jones"
        ],
        [
         0,
         17,
         0,
         "Tennis Court 1",
         17,
         "Pinker",
         "David",
         "David Pinker"
        ],
        [
         0,
         16,
         0,
         "Tennis Court 1",
         16,
         "Baker",
         "Timothy",
         "Timothy Baker"
        ],
        [
         1,
         10,
         1,
         "Tennis Court 2",
         10,
         "Owen",
         "Charles",
         "Charles Owen"
        ],
        [
         1,
         24,
         1,
         "Tennis Court 2",
         24,
         "Sarwin",
         "Ramnaresh",
         "Ramnaresh Sarwin"
        ],
        [
         1,
         9,
         1,
         "Tennis Court 2",
         9,
         "Stibbons",
         "Ponder",
         "Ponder Stibbons"
        ],
        [
         1,
         0,
         1,
         "Tennis Court 2",
         0,
         "GUEST",
         "GUEST",
         "GUEST GUEST"
        ],
        [
         1,
         9,
         1,
         "Tennis Court 2",
         9,
         "Stibbons",
         "Ponder",
         "Ponder Stibbons"
        ],
        [
         0,
         5,
         0,
         "Tennis Court 1",
         5,
         "Butters",
         "Gerald",
         "Gerald Butters"
        ],
        [
         0,
         16,
         0,
         "Tennis Court 1",
         16,
         "Baker",
         "Timothy",
         "Timothy Baker"
        ],
        [
         0,
         26,
         0,
         "Tennis Court 1",
         26,
         "Jones",
         "Douglas",
         "Douglas Jones"
        ],
        [
         0,
         7,
         0,
         "Tennis Court 1",
         7,
         "Dare",
         "Nancy",
         "Nancy Dare"
        ],
        [
         0,
         0,
         0,
         "Tennis Court 1",
         0,
         "GUEST",
         "GUEST",
         "GUEST GUEST"
        ],
        [
         0,
         24,
         0,
         "Tennis Court 1",
         24,
         "Sarwin",
         "Ramnaresh",
         "Ramnaresh Sarwin"
        ],
        [
         1,
         8,
         1,
         "Tennis Court 2",
         8,
         "Boothe",
         "Tim",
         "Tim Boothe"
        ],
        [
         1,
         0,
         1,
         "Tennis Court 2",
         0,
         "GUEST",
         "GUEST",
         "GUEST GUEST"
        ],
        [
         1,
         16,
         1,
         "Tennis Court 2",
         16,
         "Baker",
         "Timothy",
         "Timothy Baker"
        ],
        [
         1,
         10,
         1,
         "Tennis Court 2",
         10,
         "Owen",
         "Charles",
         "Charles Owen"
        ],
        [
         1,
         15,
         1,
         "Tennis Court 2",
         15,
         "Bader",
         "Florence",
         "Florence Bader"
        ],
        [
         1,
         0,
         1,
         "Tennis Court 2",
         0,
         "GUEST",
         "GUEST",
         "GUEST GUEST"
        ],
        [
         0,
         22,
         0,
         "Tennis Court 1",
         22,
         "Coplin",
         "Joan",
         "Joan Coplin"
        ],
        [
         0,
         14,
         0,
         "Tennis Court 1",
         14,
         "Smith",
         "Jack",
         "Jack Smith"
        ],
        [
         0,
         0,
         0,
         "Tennis Court 1",
         0,
         "GUEST",
         "GUEST",
         "GUEST GUEST"
        ],
        [
         0,
         14,
         0,
         "Tennis Court 1",
         14,
         "Smith",
         "Jack",
         "Jack Smith"
        ],
        [
         0,
         10,
         0,
         "Tennis Court 1",
         10,
         "Owen",
         "Charles",
         "Charles Owen"
        ],
        [
         1,
         24,
         1,
         "Tennis Court 2",
         24,
         "Sarwin",
         "Ramnaresh",
         "Ramnaresh Sarwin"
        ],
        [
         1,
         0,
         1,
         "Tennis Court 2",
         0,
         "GUEST",
         "GUEST",
         "GUEST GUEST"
        ],
        [
         1,
         0,
         1,
         "Tennis Court 2",
         0,
         "GUEST",
         "GUEST",
         "GUEST GUEST"
        ],
        [
         1,
         15,
         1,
         "Tennis Court 2",
         15,
         "Bader",
         "Florence",
         "Florence Bader"
        ],
        [
         1,
         0,
         1,
         "Tennis Court 2",
         0,
         "GUEST",
         "GUEST",
         "GUEST GUEST"
        ],
        [
         1,
         12,
         1,
         "Tennis Court 2",
         12,
         "Baker",
         "Anne",
         "Anne Baker"
        ],
        [
         1,
         0,
         1,
         "Tennis Court 2",
         0,
         "GUEST",
         "GUEST",
         "GUEST GUEST"
        ],
        [
         0,
         5,
         0,
         "Tennis Court 1",
         5,
         "Butters",
         "Gerald",
         "Gerald Butters"
        ],
        [
         0,
         6,
         0,
         "Tennis Court 1",
         6,
         "Tracy",
         "Burton",
         "Burton Tracy"
        ],
        [
         0,
         7,
         0,
         "Tennis Court 1",
         7,
         "Dare",
         "Nancy",
         "Nancy Dare"
        ],
        [
         0,
         17,
         0,
         "Tennis Court 1",
         17,
         "Pinker",
         "David",
         "David Pinker"
        ],
        [
         0,
         11,
         0,
         "Tennis Court 1",
         11,
         "Jones",
         "David",
         "David Jones"
        ],
        [
         0,
         26,
         0,
         "Tennis Court 1",
         26,
         "Jones",
         "Douglas",
         "Douglas Jones"
        ],
        [
         1,
         9,
         1,
         "Tennis Court 2",
         9,
         "Stibbons",
         "Ponder",
         "Ponder Stibbons"
        ],
        [
         1,
         11,
         1,
         "Tennis Court 2",
         11,
         "Jones",
         "David",
         "David Jones"
        ],
        [
         1,
         8,
         1,
         "Tennis Court 2",
         8,
         "Boothe",
         "Tim",
         "Tim Boothe"
        ],
        [
         1,
         12,
         1,
         "Tennis Court 2",
         12,
         "Baker",
         "Anne",
         "Anne Baker"
        ],
        [
         1,
         11,
         1,
         "Tennis Court 2",
         11,
         "Jones",
         "David",
         "David Jones"
        ],
        [
         1,
         9,
         1,
         "Tennis Court 2",
         9,
         "Stibbons",
         "Ponder",
         "Ponder Stibbons"
        ],
        [
         1,
         11,
         1,
         "Tennis Court 2",
         11,
         "Jones",
         "David",
         "David Jones"
        ],
        [
         0,
         22,
         0,
         "Tennis Court 1",
         22,
         "Coplin",
         "Joan",
         "Joan Coplin"
        ],
        [
         0,
         0,
         0,
         "Tennis Court 1",
         0,
         "GUEST",
         "GUEST",
         "GUEST GUEST"
        ],
        [
         0,
         4,
         0,
         "Tennis Court 1",
         4,
         "Joplette",
         "Janice",
         "Janice Joplette"
        ],
        [
         0,
         26,
         0,
         "Tennis Court 1",
         26,
         "Jones",
         "Douglas",
         "Douglas Jones"
        ],
        [
         0,
         5,
         0,
         "Tennis Court 1",
         5,
         "Butters",
         "Gerald",
         "Gerald Butters"
        ],
        [
         0,
         0,
         0,
         "Tennis Court 1",
         0,
         "GUEST",
         "GUEST",
         "GUEST GUEST"
        ],
        [
         0,
         16,
         0,
         "Tennis Court 1",
         16,
         "Baker",
         "Timothy",
         "Timothy Baker"
        ],
        [
         1,
         11,
         1,
         "Tennis Court 2",
         11,
         "Jones",
         "David",
         "David Jones"
        ],
        [
         1,
         0,
         1,
         "Tennis Court 2",
         0,
         "GUEST",
         "GUEST",
         "GUEST GUEST"
        ],
        [
         1,
         14,
         1,
         "Tennis Court 2",
         14,
         "Smith",
         "Jack",
         "Jack Smith"
        ],
        [
         1,
         11,
         1,
         "Tennis Court 2",
         11,
         "Jones",
         "David",
         "David Jones"
        ],
        [
         1,
         0,
         1,
         "Tennis Court 2",
         0,
         "GUEST",
         "GUEST",
         "GUEST GUEST"
        ],
        [
         1,
         10,
         1,
         "Tennis Court 2",
         10,
         "Owen",
         "Charles",
         "Charles Owen"
        ],
        [
         0,
         5,
         0,
         "Tennis Court 1",
         5,
         "Butters",
         "Gerald",
         "Gerald Butters"
        ],
        [
         0,
         0,
         0,
         "Tennis Court 1",
         0,
         "GUEST",
         "GUEST",
         "GUEST GUEST"
        ],
        [
         0,
         7,
         0,
         "Tennis Court 1",
         7,
         "Dare",
         "Nancy",
         "Nancy Dare"
        ],
        [
         0,
         10,
         0,
         "Tennis Court 1",
         10,
         "Owen",
         "Charles",
         "Charles Owen"
        ],
        [
         0,
         0,
         0,
         "Tennis Court 1",
         0,
         "GUEST",
         "GUEST",
         "GUEST GUEST"
        ],
        [
         1,
         8,
         1,
         "Tennis Court 2",
         8,
         "Boothe",
         "Tim",
         "Tim Boothe"
        ],
        [
         1,
         11,
         1,
         "Tennis Court 2",
         11,
         "Jones",
         "David",
         "David Jones"
        ],
        [
         1,
         0,
         1,
         "Tennis Court 2",
         0,
         "GUEST",
         "GUEST",
         "GUEST GUEST"
        ],
        [
         1,
         12,
         1,
         "Tennis Court 2",
         12,
         "Baker",
         "Anne",
         "Anne Baker"
        ],
        [
         1,
         8,
         1,
         "Tennis Court 2",
         8,
         "Boothe",
         "Tim",
         "Tim Boothe"
        ],
        [
         1,
         24,
         1,
         "Tennis Court 2",
         24,
         "Sarwin",
         "Ramnaresh",
         "Ramnaresh Sarwin"
        ],
        [
         0,
         6,
         0,
         "Tennis Court 1",
         6,
         "Tracy",
         "Burton",
         "Burton Tracy"
        ],
        [
         0,
         17,
         0,
         "Tennis Court 1",
         17,
         "Pinker",
         "David",
         "David Pinker"
        ],
        [
         0,
         5,
         0,
         "Tennis Court 1",
         5,
         "Butters",
         "Gerald",
         "Gerald Butters"
        ],
        [
         0,
         3,
         0,
         "Tennis Court 1",
         3,
         "Rownam",
         "Tim",
         "Tim Rownam"
        ],
        [
         0,
         0,
         0,
         "Tennis Court 1",
         0,
         "GUEST",
         "GUEST",
         "GUEST GUEST"
        ],
        [
         0,
         26,
         0,
         "Tennis Court 1",
         26,
         "Jones",
         "Douglas",
         "Douglas Jones"
        ],
        [
         0,
         0,
         0,
         "Tennis Court 1",
         0,
         "GUEST",
         "GUEST",
         "GUEST GUEST"
        ],
        [
         1,
         11,
         1,
         "Tennis Court 2",
         11,
         "Jones",
         "David",
         "David Jones"
        ],
        [
         1,
         8,
         1,
         "Tennis Court 2",
         8,
         "Boothe",
         "Tim",
         "Tim Boothe"
        ],
        [
         1,
         0,
         1,
         "Tennis Court 2",
         0,
         "GUEST",
         "GUEST",
         "GUEST GUEST"
        ],
        [
         1,
         0,
         1,
         "Tennis Court 2",
         0,
         "GUEST",
         "GUEST",
         "GUEST GUEST"
        ],
        [
         0,
         0,
         0,
         "Tennis Court 1",
         0,
         "GUEST",
         "GUEST",
         "GUEST GUEST"
        ],
        [
         0,
         11,
         0,
         "Tennis Court 1",
         11,
         "Jones",
         "David",
         "David Jones"
        ],
        [
         0,
         7,
         0,
         "Tennis Court 1",
         7,
         "Dare",
         "Nancy",
         "Nancy Dare"
        ],
        [
         0,
         17,
         0,
         "Tennis Court 1",
         17,
         "Pinker",
         "David",
         "David Pinker"
        ],
        [
         1,
         10,
         1,
         "Tennis Court 2",
         10,
         "Owen",
         "Charles",
         "Charles Owen"
        ],
        [
         1,
         11,
         1,
         "Tennis Court 2",
         11,
         "Jones",
         "David",
         "David Jones"
        ],
        [
         1,
         24,
         1,
         "Tennis Court 2",
         24,
         "Sarwin",
         "Ramnaresh",
         "Ramnaresh Sarwin"
        ],
        [
         1,
         12,
         1,
         "Tennis Court 2",
         12,
         "Baker",
         "Anne",
         "Anne Baker"
        ],
        [
         0,
         0,
         0,
         "Tennis Court 1",
         0,
         "GUEST",
         "GUEST",
         "GUEST GUEST"
        ],
        [
         0,
         11,
         0,
         "Tennis Court 1",
         11,
         "Jones",
         "David",
         "David Jones"
        ],
        [
         0,
         6,
         0,
         "Tennis Court 1",
         6,
         "Tracy",
         "Burton",
         "Burton Tracy"
        ],
        [
         0,
         0,
         0,
         "Tennis Court 1",
         0,
         "GUEST",
         "GUEST",
         "GUEST GUEST"
        ],
        [
         0,
         24,
         0,
         "Tennis Court 1",
         24,
         "Sarwin",
         "Ramnaresh",
         "Ramnaresh Sarwin"
        ],
        [
         0,
         10,
         0,
         "Tennis Court 1",
         10,
         "Owen",
         "Charles",
         "Charles Owen"
        ],
        [
         1,
         8,
         1,
         "Tennis Court 2",
         8,
         "Boothe",
         "Tim",
         "Tim Boothe"
        ],
        [
         1,
         0,
         1,
         "Tennis Court 2",
         0,
         "GUEST",
         "GUEST",
         "GUEST GUEST"
        ],
        [
         1,
         16,
         1,
         "Tennis Court 2",
         16,
         "Baker",
         "Timothy",
         "Timothy Baker"
        ],
        [
         1,
         8,
         1,
         "Tennis Court 2",
         8,
         "Boothe",
         "Tim",
         "Tim Boothe"
        ],
        [
         1,
         12,
         1,
         "Tennis Court 2",
         12,
         "Baker",
         "Anne",
         "Anne Baker"
        ],
        [
         1,
         0,
         1,
         "Tennis Court 2",
         0,
         "GUEST",
         "GUEST",
         "GUEST GUEST"
        ],
        [
         0,
         22,
         0,
         "Tennis Court 1",
         22,
         "Coplin",
         "Joan",
         "Joan Coplin"
        ],
        [
         0,
         0,
         0,
         "Tennis Court 1",
         0,
         "GUEST",
         "GUEST",
         "GUEST GUEST"
        ],
        [
         0,
         13,
         0,
         "Tennis Court 1",
         13,
         "Farrell",
         "Jemima",
         "Jemima Farrell"
        ],
        [
         0,
         7,
         0,
         "Tennis Court 1",
         7,
         "Dare",
         "Nancy",
         "Nancy Dare"
        ],
        [
         0,
         0,
         0,
         "Tennis Court 1",
         0,
         "GUEST",
         "GUEST",
         "GUEST GUEST"
        ],
        [
         0,
         26,
         0,
         "Tennis Court 1",
         26,
         "Jones",
         "Douglas",
         "Douglas Jones"
        ],
        [
         1,
         8,
         1,
         "Tennis Court 2",
         8,
         "Boothe",
         "Tim",
         "Tim Boothe"
        ],
        [
         1,
         9,
         1,
         "Tennis Court 2",
         9,
         "Stibbons",
         "Ponder",
         "Ponder Stibbons"
        ],
        [
         1,
         0,
         1,
         "Tennis Court 2",
         0,
         "GUEST",
         "GUEST",
         "GUEST GUEST"
        ],
        [
         1,
         0,
         1,
         "Tennis Court 2",
         0,
         "GUEST",
         "GUEST",
         "GUEST GUEST"
        ],
        [
         1,
         8,
         1,
         "Tennis Court 2",
         8,
         "Boothe",
         "Tim",
         "Tim Boothe"
        ],
        [
         1,
         9,
         1,
         "Tennis Court 2",
         9,
         "Stibbons",
         "Ponder",
         "Ponder Stibbons"
        ],
        [
         1,
         8,
         1,
         "Tennis Court 2",
         8,
         "Boothe",
         "Tim",
         "Tim Boothe"
        ],
        [
         0,
         28,
         0,
         "Tennis Court 1",
         28,
         "Farrell",
         "David",
         "David Farrell"
        ],
        [
         0,
         6,
         0,
         "Tennis Court 1",
         6,
         "Tracy",
         "Burton",
         "Burton Tracy"
        ],
        [
         0,
         11,
         0,
         "Tennis Court 1",
         11,
         "Jones",
         "David",
         "David Jones"
        ],
        [
         0,
         16,
         0,
         "Tennis Court 1",
         16,
         "Baker",
         "Timothy",
         "Timothy Baker"
        ],
        [
         0,
         5,
         0,
         "Tennis Court 1",
         5,
         "Butters",
         "Gerald",
         "Gerald Butters"
        ],
        [
         0,
         28,
         0,
         "Tennis Court 1",
         28,
         "Farrell",
         "David",
         "David Farrell"
        ],
        [
         0,
         14,
         0,
         "Tennis Court 1",
         14,
         "Smith",
         "Jack",
         "Jack Smith"
        ],
        [
         1,
         10,
         1,
         "Tennis Court 2",
         10,
         "Owen",
         "Charles",
         "Charles Owen"
        ],
        [
         1,
         12,
         1,
         "Tennis Court 2",
         12,
         "Baker",
         "Anne",
         "Anne Baker"
        ],
        [
         1,
         0,
         1,
         "Tennis Court 2",
         0,
         "GUEST",
         "GUEST",
         "GUEST GUEST"
        ],
        [
         1,
         11,
         1,
         "Tennis Court 2",
         11,
         "Jones",
         "David",
         "David Jones"
        ],
        [
         1,
         10,
         1,
         "Tennis Court 2",
         10,
         "Owen",
         "Charles",
         "Charles Owen"
        ],
        [
         0,
         16,
         0,
         "Tennis Court 1",
         16,
         "Baker",
         "Timothy",
         "Timothy Baker"
        ],
        [
         0,
         28,
         0,
         "Tennis Court 1",
         28,
         "Farrell",
         "David",
         "David Farrell"
        ],
        [
         0,
         0,
         0,
         "Tennis Court 1",
         0,
         "GUEST",
         "GUEST",
         "GUEST GUEST"
        ],
        [
         0,
         28,
         0,
         "Tennis Court 1",
         28,
         "Farrell",
         "David",
         "David Farrell"
        ],
        [
         0,
         24,
         0,
         "Tennis Court 1",
         24,
         "Sarwin",
         "Ramnaresh",
         "Ramnaresh Sarwin"
        ],
        [
         0,
         14,
         0,
         "Tennis Court 1",
         14,
         "Smith",
         "Jack",
         "Jack Smith"
        ],
        [
         1,
         0,
         1,
         "Tennis Court 2",
         0,
         "GUEST",
         "GUEST",
         "GUEST GUEST"
        ],
        [
         1,
         1,
         1,
         "Tennis Court 2",
         1,
         "Smith",
         "Darren",
         "Darren Smith"
        ],
        [
         1,
         0,
         1,
         "Tennis Court 2",
         0,
         "GUEST",
         "GUEST",
         "GUEST GUEST"
        ],
        [
         1,
         4,
         1,
         "Tennis Court 2",
         4,
         "Joplette",
         "Janice",
         "Janice Joplette"
        ],
        [
         1,
         10,
         1,
         "Tennis Court 2",
         10,
         "Owen",
         "Charles",
         "Charles Owen"
        ],
        [
         0,
         14,
         0,
         "Tennis Court 1",
         14,
         "Smith",
         "Jack",
         "Jack Smith"
        ],
        [
         0,
         0,
         0,
         "Tennis Court 1",
         0,
         "GUEST",
         "GUEST",
         "GUEST GUEST"
        ],
        [
         0,
         0,
         0,
         "Tennis Court 1",
         0,
         "GUEST",
         "GUEST",
         "GUEST GUEST"
        ],
        [
         0,
         17,
         0,
         "Tennis Court 1",
         17,
         "Pinker",
         "David",
         "David Pinker"
        ],
        [
         0,
         26,
         0,
         "Tennis Court 1",
         26,
         "Jones",
         "Douglas",
         "Douglas Jones"
        ],
        [
         0,
         5,
         0,
         "Tennis Court 1",
         5,
         "Butters",
         "Gerald",
         "Gerald Butters"
        ],
        [
         1,
         11,
         1,
         "Tennis Court 2",
         11,
         "Jones",
         "David",
         "David Jones"
        ],
        [
         1,
         10,
         1,
         "Tennis Court 2",
         10,
         "Owen",
         "Charles",
         "Charles Owen"
        ],
        [
         1,
         30,
         1,
         "Tennis Court 2",
         30,
         "Purview",
         "Millicent",
         "Millicent Purview"
        ],
        [
         1,
         10,
         1,
         "Tennis Court 2",
         10,
         "Owen",
         "Charles",
         "Charles Owen"
        ],
        [
         1,
         9,
         1,
         "Tennis Court 2",
         9,
         "Stibbons",
         "Ponder",
         "Ponder Stibbons"
        ],
        [
         1,
         0,
         1,
         "Tennis Court 2",
         0,
         "GUEST",
         "GUEST",
         "GUEST GUEST"
        ],
        [
         1,
         24,
         1,
         "Tennis Court 2",
         24,
         "Sarwin",
         "Ramnaresh",
         "Ramnaresh Sarwin"
        ],
        [
         0,
         26,
         0,
         "Tennis Court 1",
         26,
         "Jones",
         "Douglas",
         "Douglas Jones"
        ],
        [
         0,
         11,
         0,
         "Tennis Court 1",
         11,
         "Jones",
         "David",
         "David Jones"
        ],
        [
         0,
         22,
         0,
         "Tennis Court 1",
         22,
         "Coplin",
         "Joan",
         "Joan Coplin"
        ],
        [
         0,
         16,
         0,
         "Tennis Court 1",
         16,
         "Baker",
         "Timothy",
         "Timothy Baker"
        ],
        [
         0,
         5,
         0,
         "Tennis Court 1",
         5,
         "Butters",
         "Gerald",
         "Gerald Butters"
        ],
        [
         0,
         17,
         0,
         "Tennis Court 1",
         17,
         "Pinker",
         "David",
         "David Pinker"
        ],
        [
         1,
         12,
         1,
         "Tennis Court 2",
         12,
         "Baker",
         "Anne",
         "Anne Baker"
        ],
        [
         1,
         16,
         1,
         "Tennis Court 2",
         16,
         "Baker",
         "Timothy",
         "Timothy Baker"
        ],
        [
         1,
         1,
         1,
         "Tennis Court 2",
         1,
         "Smith",
         "Darren",
         "Darren Smith"
        ],
        [
         1,
         9,
         1,
         "Tennis Court 2",
         9,
         "Stibbons",
         "Ponder",
         "Ponder Stibbons"
        ],
        [
         1,
         10,
         1,
         "Tennis Court 2",
         10,
         "Owen",
         "Charles",
         "Charles Owen"
        ],
        [
         1,
         27,
         1,
         "Tennis Court 2",
         27,
         "Rumney",
         "Henrietta",
         "Henrietta Rumney"
        ],
        [
         0,
         0,
         0,
         "Tennis Court 1",
         0,
         "GUEST",
         "GUEST",
         "GUEST GUEST"
        ],
        [
         0,
         11,
         0,
         "Tennis Court 1",
         11,
         "Jones",
         "David",
         "David Jones"
        ],
        [
         0,
         0,
         0,
         "Tennis Court 1",
         0,
         "GUEST",
         "GUEST",
         "GUEST GUEST"
        ],
        [
         0,
         6,
         0,
         "Tennis Court 1",
         6,
         "Tracy",
         "Burton",
         "Burton Tracy"
        ],
        [
         0,
         14,
         0,
         "Tennis Court 1",
         14,
         "Smith",
         "Jack",
         "Jack Smith"
        ],
        [
         0,
         10,
         0,
         "Tennis Court 1",
         10,
         "Owen",
         "Charles",
         "Charles Owen"
        ],
        [
         1,
         5,
         1,
         "Tennis Court 2",
         5,
         "Butters",
         "Gerald",
         "Gerald Butters"
        ],
        [
         1,
         10,
         1,
         "Tennis Court 2",
         10,
         "Owen",
         "Charles",
         "Charles Owen"
        ],
        [
         1,
         8,
         1,
         "Tennis Court 2",
         8,
         "Boothe",
         "Tim",
         "Tim Boothe"
        ],
        [
         1,
         15,
         1,
         "Tennis Court 2",
         15,
         "Bader",
         "Florence",
         "Florence Bader"
        ],
        [
         1,
         12,
         1,
         "Tennis Court 2",
         12,
         "Baker",
         "Anne",
         "Anne Baker"
        ],
        [
         1,
         0,
         1,
         "Tennis Court 2",
         0,
         "GUEST",
         "GUEST",
         "GUEST GUEST"
        ],
        [
         0,
         7,
         0,
         "Tennis Court 1",
         7,
         "Dare",
         "Nancy",
         "Nancy Dare"
        ],
        [
         0,
         10,
         0,
         "Tennis Court 1",
         10,
         "Owen",
         "Charles",
         "Charles Owen"
        ],
        [
         0,
         15,
         0,
         "Tennis Court 1",
         15,
         "Bader",
         "Florence",
         "Florence Bader"
        ],
        [
         0,
         26,
         0,
         "Tennis Court 1",
         26,
         "Jones",
         "Douglas",
         "Douglas Jones"
        ],
        [
         0,
         35,
         0,
         "Tennis Court 1",
         35,
         "Hunt",
         "John",
         "John Hunt"
        ],
        [
         0,
         2,
         0,
         "Tennis Court 1",
         2,
         "Smith",
         "Tracy",
         "Tracy Smith"
        ],
        [
         0,
         17,
         0,
         "Tennis Court 1",
         17,
         "Pinker",
         "David",
         "David Pinker"
        ],
        [
         1,
         0,
         1,
         "Tennis Court 2",
         0,
         "GUEST",
         "GUEST",
         "GUEST GUEST"
        ],
        [
         1,
         24,
         1,
         "Tennis Court 2",
         24,
         "Sarwin",
         "Ramnaresh",
         "Ramnaresh Sarwin"
        ],
        [
         1,
         8,
         1,
         "Tennis Court 2",
         8,
         "Boothe",
         "Tim",
         "Tim Boothe"
        ],
        [
         1,
         24,
         1,
         "Tennis Court 2",
         24,
         "Sarwin",
         "Ramnaresh",
         "Ramnaresh Sarwin"
        ],
        [
         1,
         15,
         1,
         "Tennis Court 2",
         15,
         "Bader",
         "Florence",
         "Florence Bader"
        ],
        [
         1,
         35,
         1,
         "Tennis Court 2",
         35,
         "Hunt",
         "John",
         "John Hunt"
        ],
        [
         1,
         0,
         1,
         "Tennis Court 2",
         0,
         "GUEST",
         "GUEST",
         "GUEST GUEST"
        ],
        [
         0,
         0,
         0,
         "Tennis Court 1",
         0,
         "GUEST",
         "GUEST",
         "GUEST GUEST"
        ],
        [
         0,
         35,
         0,
         "Tennis Court 1",
         35,
         "Hunt",
         "John",
         "John Hunt"
        ],
        [
         0,
         0,
         0,
         "Tennis Court 1",
         0,
         "GUEST",
         "GUEST",
         "GUEST GUEST"
        ],
        [
         0,
         14,
         0,
         "Tennis Court 1",
         14,
         "Smith",
         "Jack",
         "Jack Smith"
        ],
        [
         0,
         11,
         0,
         "Tennis Court 1",
         11,
         "Jones",
         "David",
         "David Jones"
        ],
        [
         1,
         28,
         1,
         "Tennis Court 2",
         28,
         "Farrell",
         "David",
         "David Farrell"
        ],
        [
         1,
         10,
         1,
         "Tennis Court 2",
         10,
         "Owen",
         "Charles",
         "Charles Owen"
        ],
        [
         1,
         10,
         1,
         "Tennis Court 2",
         10,
         "Owen",
         "Charles",
         "Charles Owen"
        ],
        [
         1,
         16,
         1,
         "Tennis Court 2",
         16,
         "Baker",
         "Timothy",
         "Timothy Baker"
        ],
        [
         1,
         0,
         1,
         "Tennis Court 2",
         0,
         "GUEST",
         "GUEST",
         "GUEST GUEST"
        ],
        [
         1,
         24,
         1,
         "Tennis Court 2",
         24,
         "Sarwin",
         "Ramnaresh",
         "Ramnaresh Sarwin"
        ],
        [
         0,
         12,
         0,
         "Tennis Court 1",
         12,
         "Baker",
         "Anne",
         "Anne Baker"
        ],
        [
         0,
         2,
         0,
         "Tennis Court 1",
         2,
         "Smith",
         "Tracy",
         "Tracy Smith"
        ],
        [
         0,
         16,
         0,
         "Tennis Court 1",
         16,
         "Baker",
         "Timothy",
         "Timothy Baker"
        ],
        [
         0,
         0,
         0,
         "Tennis Court 1",
         0,
         "GUEST",
         "GUEST",
         "GUEST GUEST"
        ],
        [
         0,
         11,
         0,
         "Tennis Court 1",
         11,
         "Jones",
         "David",
         "David Jones"
        ],
        [
         1,
         9,
         1,
         "Tennis Court 2",
         9,
         "Stibbons",
         "Ponder",
         "Ponder Stibbons"
        ],
        [
         1,
         12,
         1,
         "Tennis Court 2",
         12,
         "Baker",
         "Anne",
         "Anne Baker"
        ],
        [
         1,
         0,
         1,
         "Tennis Court 2",
         0,
         "GUEST",
         "GUEST",
         "GUEST GUEST"
        ],
        [
         1,
         12,
         1,
         "Tennis Court 2",
         12,
         "Baker",
         "Anne",
         "Anne Baker"
        ],
        [
         1,
         11,
         1,
         "Tennis Court 2",
         11,
         "Jones",
         "David",
         "David Jones"
        ],
        [
         1,
         35,
         1,
         "Tennis Court 2",
         35,
         "Hunt",
         "John",
         "John Hunt"
        ],
        [
         1,
         0,
         1,
         "Tennis Court 2",
         0,
         "GUEST",
         "GUEST",
         "GUEST GUEST"
        ],
        [
         0,
         5,
         0,
         "Tennis Court 1",
         5,
         "Butters",
         "Gerald",
         "Gerald Butters"
        ],
        [
         0,
         0,
         0,
         "Tennis Court 1",
         0,
         "GUEST",
         "GUEST",
         "GUEST GUEST"
        ],
        [
         0,
         6,
         0,
         "Tennis Court 1",
         6,
         "Tracy",
         "Burton",
         "Burton Tracy"
        ],
        [
         0,
         11,
         0,
         "Tennis Court 1",
         11,
         "Jones",
         "David",
         "David Jones"
        ],
        [
         0,
         0,
         0,
         "Tennis Court 1",
         0,
         "GUEST",
         "GUEST",
         "GUEST GUEST"
        ],
        [
         0,
         22,
         0,
         "Tennis Court 1",
         22,
         "Coplin",
         "Joan",
         "Joan Coplin"
        ],
        [
         1,
         0,
         1,
         "Tennis Court 2",
         0,
         "GUEST",
         "GUEST",
         "GUEST GUEST"
        ],
        [
         1,
         0,
         1,
         "Tennis Court 2",
         0,
         "GUEST",
         "GUEST",
         "GUEST GUEST"
        ],
        [
         1,
         9,
         1,
         "Tennis Court 2",
         9,
         "Stibbons",
         "Ponder",
         "Ponder Stibbons"
        ],
        [
         1,
         35,
         1,
         "Tennis Court 2",
         35,
         "Hunt",
         "John",
         "John Hunt"
        ],
        [
         1,
         12,
         1,
         "Tennis Court 2",
         12,
         "Baker",
         "Anne",
         "Anne Baker"
        ],
        [
         1,
         11,
         1,
         "Tennis Court 2",
         11,
         "Jones",
         "David",
         "David Jones"
        ],
        [
         0,
         11,
         0,
         "Tennis Court 1",
         11,
         "Jones",
         "David",
         "David Jones"
        ],
        [
         0,
         6,
         0,
         "Tennis Court 1",
         6,
         "Tracy",
         "Burton",
         "Burton Tracy"
        ],
        [
         0,
         17,
         0,
         "Tennis Court 1",
         17,
         "Pinker",
         "David",
         "David Pinker"
        ],
        [
         0,
         26,
         0,
         "Tennis Court 1",
         26,
         "Jones",
         "Douglas",
         "Douglas Jones"
        ],
        [
         0,
         0,
         0,
         "Tennis Court 1",
         0,
         "GUEST",
         "GUEST",
         "GUEST GUEST"
        ],
        [
         1,
         0,
         1,
         "Tennis Court 2",
         0,
         "GUEST",
         "GUEST",
         "GUEST GUEST"
        ],
        [
         1,
         8,
         1,
         "Tennis Court 2",
         8,
         "Boothe",
         "Tim",
         "Tim Boothe"
        ],
        [
         1,
         0,
         1,
         "Tennis Court 2",
         0,
         "GUEST",
         "GUEST",
         "GUEST GUEST"
        ],
        [
         1,
         35,
         1,
         "Tennis Court 2",
         35,
         "Hunt",
         "John",
         "John Hunt"
        ],
        [
         1,
         10,
         1,
         "Tennis Court 2",
         10,
         "Owen",
         "Charles",
         "Charles Owen"
        ],
        [
         0,
         35,
         0,
         "Tennis Court 1",
         35,
         "Hunt",
         "John",
         "John Hunt"
        ],
        [
         0,
         16,
         0,
         "Tennis Court 1",
         16,
         "Baker",
         "Timothy",
         "Timothy Baker"
        ],
        [
         0,
         28,
         0,
         "Tennis Court 1",
         28,
         "Farrell",
         "David",
         "David Farrell"
        ],
        [
         0,
         0,
         0,
         "Tennis Court 1",
         0,
         "GUEST",
         "GUEST",
         "GUEST GUEST"
        ],
        [
         0,
         0,
         0,
         "Tennis Court 1",
         0,
         "GUEST",
         "GUEST",
         "GUEST GUEST"
        ],
        [
         0,
         0,
         0,
         "Tennis Court 1",
         0,
         "GUEST",
         "GUEST",
         "GUEST GUEST"
        ],
        [
         1,
         10,
         1,
         "Tennis Court 2",
         10,
         "Owen",
         "Charles",
         "Charles Owen"
        ],
        [
         1,
         0,
         1,
         "Tennis Court 2",
         0,
         "GUEST",
         "GUEST",
         "GUEST GUEST"
        ],
        [
         1,
         8,
         1,
         "Tennis Court 2",
         8,
         "Boothe",
         "Tim",
         "Tim Boothe"
        ],
        [
         1,
         0,
         1,
         "Tennis Court 2",
         0,
         "GUEST",
         "GUEST",
         "GUEST GUEST"
        ],
        [
         1,
         0,
         1,
         "Tennis Court 2",
         0,
         "GUEST",
         "GUEST",
         "GUEST GUEST"
        ],
        [
         0,
         0,
         0,
         "Tennis Court 1",
         0,
         "GUEST",
         "GUEST",
         "GUEST GUEST"
        ],
        [
         0,
         11,
         0,
         "Tennis Court 1",
         11,
         "Jones",
         "David",
         "David Jones"
        ],
        [
         0,
         6,
         0,
         "Tennis Court 1",
         6,
         "Tracy",
         "Burton",
         "Burton Tracy"
        ],
        [
         0,
         28,
         0,
         "Tennis Court 1",
         28,
         "Farrell",
         "David",
         "David Farrell"
        ],
        [
         0,
         20,
         0,
         "Tennis Court 1",
         20,
         "Genting",
         "Matthew",
         "Matthew Genting"
        ],
        [
         1,
         0,
         1,
         "Tennis Court 2",
         0,
         "GUEST",
         "GUEST",
         "GUEST GUEST"
        ],
        [
         1,
         8,
         1,
         "Tennis Court 2",
         8,
         "Boothe",
         "Tim",
         "Tim Boothe"
        ],
        [
         1,
         10,
         1,
         "Tennis Court 2",
         10,
         "Owen",
         "Charles",
         "Charles Owen"
        ],
        [
         1,
         12,
         1,
         "Tennis Court 2",
         12,
         "Baker",
         "Anne",
         "Anne Baker"
        ],
        [
         1,
         0,
         1,
         "Tennis Court 2",
         0,
         "GUEST",
         "GUEST",
         "GUEST GUEST"
        ],
        [
         1,
         10,
         1,
         "Tennis Court 2",
         10,
         "Owen",
         "Charles",
         "Charles Owen"
        ],
        [
         0,
         4,
         0,
         "Tennis Court 1",
         4,
         "Joplette",
         "Janice",
         "Janice Joplette"
        ],
        [
         0,
         35,
         0,
         "Tennis Court 1",
         35,
         "Hunt",
         "John",
         "John Hunt"
        ],
        [
         0,
         0,
         0,
         "Tennis Court 1",
         0,
         "GUEST",
         "GUEST",
         "GUEST GUEST"
        ],
        [
         0,
         36,
         0,
         "Tennis Court 1",
         36,
         "Crumpet",
         "Erica",
         "Erica Crumpet"
        ],
        [
         0,
         24,
         0,
         "Tennis Court 1",
         24,
         "Sarwin",
         "Ramnaresh",
         "Ramnaresh Sarwin"
        ],
        [
         0,
         0,
         0,
         "Tennis Court 1",
         0,
         "GUEST",
         "GUEST",
         "GUEST GUEST"
        ],
        [
         0,
         24,
         0,
         "Tennis Court 1",
         24,
         "Sarwin",
         "Ramnaresh",
         "Ramnaresh Sarwin"
        ],
        [
         1,
         8,
         1,
         "Tennis Court 2",
         8,
         "Boothe",
         "Tim",
         "Tim Boothe"
        ],
        [
         1,
         0,
         1,
         "Tennis Court 2",
         0,
         "GUEST",
         "GUEST",
         "GUEST GUEST"
        ],
        [
         1,
         10,
         1,
         "Tennis Court 2",
         10,
         "Owen",
         "Charles",
         "Charles Owen"
        ],
        [
         1,
         11,
         1,
         "Tennis Court 2",
         11,
         "Jones",
         "David",
         "David Jones"
        ],
        [
         1,
         10,
         1,
         "Tennis Court 2",
         10,
         "Owen",
         "Charles",
         "Charles Owen"
        ],
        [
         1,
         8,
         1,
         "Tennis Court 2",
         8,
         "Boothe",
         "Tim",
         "Tim Boothe"
        ]
       ],
       "datasetInfos": [],
       "dbfsResultPath": null,
       "isJsonSchema": true,
       "overflow": false,
       "plotOptions": {
        "customPlotOptions": {},
        "displayType": "table",
        "pivotAggregation": null,
        "pivotColumns": null,
        "xColumns": null,
        "yColumns": null
       },
       "removedWidgets": [],
       "schema": [
        {
         "metadata": "{}",
         "name": "b_facid",
         "type": "\"integer\""
        },
        {
         "metadata": "{}",
         "name": "b_memid",
         "type": "\"integer\""
        },
        {
         "metadata": "{}",
         "name": "f_facid",
         "type": "\"integer\""
        },
        {
         "metadata": "{}",
         "name": "name",
         "type": "\"string\""
        },
        {
         "metadata": "{}",
         "name": "m_memid",
         "type": "\"integer\""
        },
        {
         "metadata": "{}",
         "name": "surname",
         "type": "\"string\""
        },
        {
         "metadata": "{}",
         "name": "firstname",
         "type": "\"string\""
        },
        {
         "metadata": "{}",
         "name": "fullname",
         "type": "\"string\""
        }
       ],
       "type": "table"
      }
     },
     "output_type": "display_data"
    }
   ],
   "source": [
    "%sql\n",
    "select bookings.facid as b_facid,\n",
    "       bookings.memid as b_memid,\n",
    "       facilities.facid as f_facid,\n",
    "       facilities.name,\n",
    "       members.memid as m_memid,\n",
    "       members.surname,\n",
    "       members.firstname,\n",
    "       concat_ws(' ', firstname, surname) as fullname\n",
    "\n",
    "  from bookings\n",
    "  left join facilities\n",
    "  on bookings.facid = facilities.facid\n",
    "  \n",
    "  left join members\n",
    "  on bookings.memid = members.memid\n",
    "  \n",
    "  where name like '%Tennis Court%'\n",
    "  \n",
    "  "
   ]
  },
  {
   "cell_type": "markdown",
   "metadata": {
    "application/vnd.databricks.v1+cell": {
     "inputWidgets": {},
     "nuid": "fe75ea6d-4eb9-4df9-959b-60b614ab1164",
     "showTitle": false,
     "title": ""
    }
   },
   "source": [
    "###### try to eliminate duplicates (this output is ugly)"
   ]
  },
  {
   "cell_type": "code",
   "execution_count": 0,
   "metadata": {
    "application/vnd.databricks.v1+cell": {
     "inputWidgets": {},
     "nuid": "47f79ce4-e10a-43b2-9f39-cc0ee06e202f",
     "showTitle": false,
     "title": ""
    }
   },
   "outputs": [
    {
     "data": {
      "text/html": [
       "<style scoped>\n",
       "  .table-result-container {\n",
       "    max-height: 300px;\n",
       "    overflow: auto;\n",
       "  }\n",
       "  table, th, td {\n",
       "    border: 1px solid black;\n",
       "    border-collapse: collapse;\n",
       "  }\n",
       "  th, td {\n",
       "    padding: 5px;\n",
       "  }\n",
       "  th {\n",
       "    text-align: left;\n",
       "  }\n",
       "</style><div class='table-result-container'><table class='table-result'><thead style='background-color: white'><tr><th>named_struct(name, name, col2, concat_ws( , firstname, surname))</th><th>name</th><th>full_name</th></tr></thead><tbody><tr><td>List(Tennis Court 1, Janice Joplette)</td><td>Tennis Court 1</td><td>Janice Joplette</td></tr><tr><td>List(Tennis Court 1, Jack Smith)</td><td>Tennis Court 1</td><td>Jack Smith</td></tr><tr><td>List(Tennis Court 1, Matthew Genting)</td><td>Tennis Court 1</td><td>Matthew Genting</td></tr><tr><td>List(Tennis Court 2, Tracy Smith)</td><td>Tennis Court 2</td><td>Tracy Smith</td></tr><tr><td>List(Tennis Court 2, Nancy Dare)</td><td>Tennis Court 2</td><td>Nancy Dare</td></tr><tr><td>List(Tennis Court 1, John Hunt)</td><td>Tennis Court 1</td><td>John Hunt</td></tr><tr><td>List(Tennis Court 1, Charles Owen)</td><td>Tennis Court 1</td><td>Charles Owen</td></tr><tr><td>List(Tennis Court 1, Anne Baker)</td><td>Tennis Court 1</td><td>Anne Baker</td></tr><tr><td>List(Tennis Court 2, Florence Bader)</td><td>Tennis Court 2</td><td>Florence Bader</td></tr><tr><td>List(Tennis Court 1, Timothy Baker)</td><td>Tennis Court 1</td><td>Timothy Baker</td></tr><tr><td>List(Tennis Court 1, Erica Crumpet)</td><td>Tennis Court 1</td><td>Erica Crumpet</td></tr><tr><td>List(Tennis Court 1, GUEST GUEST)</td><td>Tennis Court 1</td><td>GUEST GUEST</td></tr><tr><td>List(Tennis Court 2, Gerald Butters)</td><td>Tennis Court 2</td><td>Gerald Butters</td></tr><tr><td>List(Tennis Court 2, David Jones)</td><td>Tennis Court 2</td><td>David Jones</td></tr><tr><td>List(Tennis Court 2, Jack Smith)</td><td>Tennis Court 2</td><td>Jack Smith</td></tr><tr><td>List(Tennis Court 2, GUEST GUEST)</td><td>Tennis Court 2</td><td>GUEST GUEST</td></tr><tr><td>List(Tennis Court 2, Jemima Farrell)</td><td>Tennis Court 2</td><td>Jemima Farrell</td></tr><tr><td>List(Tennis Court 2, Millicent Purview)</td><td>Tennis Court 2</td><td>Millicent Purview</td></tr><tr><td>List(Tennis Court 2, Darren Smith)</td><td>Tennis Court 2</td><td>Darren Smith</td></tr><tr><td>List(Tennis Court 1, Ramnaresh Sarwin)</td><td>Tennis Court 1</td><td>Ramnaresh Sarwin</td></tr><tr><td>List(Tennis Court 1, Nancy Dare)</td><td>Tennis Court 1</td><td>Nancy Dare</td></tr><tr><td>List(Tennis Court 1, Burton Tracy)</td><td>Tennis Court 1</td><td>Burton Tracy</td></tr><tr><td>List(Tennis Court 1, Tim Boothe)</td><td>Tennis Court 1</td><td>Tim Boothe</td></tr><tr><td>List(Tennis Court 1, David Jones)</td><td>Tennis Court 1</td><td>David Jones</td></tr><tr><td>List(Tennis Court 2, Anne Baker)</td><td>Tennis Court 2</td><td>Anne Baker</td></tr><tr><td>List(Tennis Court 1, Douglas Jones)</td><td>Tennis Court 1</td><td>Douglas Jones</td></tr><tr><td>List(Tennis Court 1, David Farrell)</td><td>Tennis Court 1</td><td>David Farrell</td></tr><tr><td>List(Tennis Court 2, Timothy Baker)</td><td>Tennis Court 2</td><td>Timothy Baker</td></tr><tr><td>List(Tennis Court 1, Tracy Smith)</td><td>Tennis Court 1</td><td>Tracy Smith</td></tr><tr><td>List(Tennis Court 1, Joan Coplin)</td><td>Tennis Court 1</td><td>Joan Coplin</td></tr><tr><td>List(Tennis Court 2, Janice Joplette)</td><td>Tennis Court 2</td><td>Janice Joplette</td></tr><tr><td>List(Tennis Court 1, Tim Rownam)</td><td>Tennis Court 1</td><td>Tim Rownam</td></tr><tr><td>List(Tennis Court 2, Burton Tracy)</td><td>Tennis Court 2</td><td>Burton Tracy</td></tr><tr><td>List(Tennis Court 1, Gerald Butters)</td><td>Tennis Court 1</td><td>Gerald Butters</td></tr><tr><td>List(Tennis Court 2, Ramnaresh Sarwin)</td><td>Tennis Court 2</td><td>Ramnaresh Sarwin</td></tr><tr><td>List(Tennis Court 1, Jemima Farrell)</td><td>Tennis Court 1</td><td>Jemima Farrell</td></tr><tr><td>List(Tennis Court 2, John Hunt)</td><td>Tennis Court 2</td><td>John Hunt</td></tr><tr><td>List(Tennis Court 2, Ponder Stibbons)</td><td>Tennis Court 2</td><td>Ponder Stibbons</td></tr><tr><td>List(Tennis Court 2, Tim Rownam)</td><td>Tennis Court 2</td><td>Tim Rownam</td></tr><tr><td>List(Tennis Court 2, David Farrell)</td><td>Tennis Court 2</td><td>David Farrell</td></tr><tr><td>List(Tennis Court 2, Henrietta Rumney)</td><td>Tennis Court 2</td><td>Henrietta Rumney</td></tr><tr><td>List(Tennis Court 1, Ponder Stibbons)</td><td>Tennis Court 1</td><td>Ponder Stibbons</td></tr><tr><td>List(Tennis Court 1, Florence Bader)</td><td>Tennis Court 1</td><td>Florence Bader</td></tr><tr><td>List(Tennis Court 1, David Pinker)</td><td>Tennis Court 1</td><td>David Pinker</td></tr><tr><td>List(Tennis Court 2, Tim Boothe)</td><td>Tennis Court 2</td><td>Tim Boothe</td></tr><tr><td>List(Tennis Court 2, Charles Owen)</td><td>Tennis Court 2</td><td>Charles Owen</td></tr></tbody></table></div>"
      ]
     },
     "metadata": {
      "application/vnd.databricks.v1+output": {
       "addedWidgets": {},
       "aggData": [],
       "aggError": "",
       "aggOverflow": false,
       "aggSchema": [],
       "aggSeriesLimitReached": false,
       "aggType": "",
       "arguments": {},
       "columnCustomDisplayInfos": {},
       "data": [
        [
         [
          "Tennis Court 1",
          "Janice Joplette"
         ],
         "Tennis Court 1",
         "Janice Joplette"
        ],
        [
         [
          "Tennis Court 1",
          "Jack Smith"
         ],
         "Tennis Court 1",
         "Jack Smith"
        ],
        [
         [
          "Tennis Court 1",
          "Matthew Genting"
         ],
         "Tennis Court 1",
         "Matthew Genting"
        ],
        [
         [
          "Tennis Court 2",
          "Tracy Smith"
         ],
         "Tennis Court 2",
         "Tracy Smith"
        ],
        [
         [
          "Tennis Court 2",
          "Nancy Dare"
         ],
         "Tennis Court 2",
         "Nancy Dare"
        ],
        [
         [
          "Tennis Court 1",
          "John Hunt"
         ],
         "Tennis Court 1",
         "John Hunt"
        ],
        [
         [
          "Tennis Court 1",
          "Charles Owen"
         ],
         "Tennis Court 1",
         "Charles Owen"
        ],
        [
         [
          "Tennis Court 1",
          "Anne Baker"
         ],
         "Tennis Court 1",
         "Anne Baker"
        ],
        [
         [
          "Tennis Court 2",
          "Florence Bader"
         ],
         "Tennis Court 2",
         "Florence Bader"
        ],
        [
         [
          "Tennis Court 1",
          "Timothy Baker"
         ],
         "Tennis Court 1",
         "Timothy Baker"
        ],
        [
         [
          "Tennis Court 1",
          "Erica Crumpet"
         ],
         "Tennis Court 1",
         "Erica Crumpet"
        ],
        [
         [
          "Tennis Court 1",
          "GUEST GUEST"
         ],
         "Tennis Court 1",
         "GUEST GUEST"
        ],
        [
         [
          "Tennis Court 2",
          "Gerald Butters"
         ],
         "Tennis Court 2",
         "Gerald Butters"
        ],
        [
         [
          "Tennis Court 2",
          "David Jones"
         ],
         "Tennis Court 2",
         "David Jones"
        ],
        [
         [
          "Tennis Court 2",
          "Jack Smith"
         ],
         "Tennis Court 2",
         "Jack Smith"
        ],
        [
         [
          "Tennis Court 2",
          "GUEST GUEST"
         ],
         "Tennis Court 2",
         "GUEST GUEST"
        ],
        [
         [
          "Tennis Court 2",
          "Jemima Farrell"
         ],
         "Tennis Court 2",
         "Jemima Farrell"
        ],
        [
         [
          "Tennis Court 2",
          "Millicent Purview"
         ],
         "Tennis Court 2",
         "Millicent Purview"
        ],
        [
         [
          "Tennis Court 2",
          "Darren Smith"
         ],
         "Tennis Court 2",
         "Darren Smith"
        ],
        [
         [
          "Tennis Court 1",
          "Ramnaresh Sarwin"
         ],
         "Tennis Court 1",
         "Ramnaresh Sarwin"
        ],
        [
         [
          "Tennis Court 1",
          "Nancy Dare"
         ],
         "Tennis Court 1",
         "Nancy Dare"
        ],
        [
         [
          "Tennis Court 1",
          "Burton Tracy"
         ],
         "Tennis Court 1",
         "Burton Tracy"
        ],
        [
         [
          "Tennis Court 1",
          "Tim Boothe"
         ],
         "Tennis Court 1",
         "Tim Boothe"
        ],
        [
         [
          "Tennis Court 1",
          "David Jones"
         ],
         "Tennis Court 1",
         "David Jones"
        ],
        [
         [
          "Tennis Court 2",
          "Anne Baker"
         ],
         "Tennis Court 2",
         "Anne Baker"
        ],
        [
         [
          "Tennis Court 1",
          "Douglas Jones"
         ],
         "Tennis Court 1",
         "Douglas Jones"
        ],
        [
         [
          "Tennis Court 1",
          "David Farrell"
         ],
         "Tennis Court 1",
         "David Farrell"
        ],
        [
         [
          "Tennis Court 2",
          "Timothy Baker"
         ],
         "Tennis Court 2",
         "Timothy Baker"
        ],
        [
         [
          "Tennis Court 1",
          "Tracy Smith"
         ],
         "Tennis Court 1",
         "Tracy Smith"
        ],
        [
         [
          "Tennis Court 1",
          "Joan Coplin"
         ],
         "Tennis Court 1",
         "Joan Coplin"
        ],
        [
         [
          "Tennis Court 2",
          "Janice Joplette"
         ],
         "Tennis Court 2",
         "Janice Joplette"
        ],
        [
         [
          "Tennis Court 1",
          "Tim Rownam"
         ],
         "Tennis Court 1",
         "Tim Rownam"
        ],
        [
         [
          "Tennis Court 2",
          "Burton Tracy"
         ],
         "Tennis Court 2",
         "Burton Tracy"
        ],
        [
         [
          "Tennis Court 1",
          "Gerald Butters"
         ],
         "Tennis Court 1",
         "Gerald Butters"
        ],
        [
         [
          "Tennis Court 2",
          "Ramnaresh Sarwin"
         ],
         "Tennis Court 2",
         "Ramnaresh Sarwin"
        ],
        [
         [
          "Tennis Court 1",
          "Jemima Farrell"
         ],
         "Tennis Court 1",
         "Jemima Farrell"
        ],
        [
         [
          "Tennis Court 2",
          "John Hunt"
         ],
         "Tennis Court 2",
         "John Hunt"
        ],
        [
         [
          "Tennis Court 2",
          "Ponder Stibbons"
         ],
         "Tennis Court 2",
         "Ponder Stibbons"
        ],
        [
         [
          "Tennis Court 2",
          "Tim Rownam"
         ],
         "Tennis Court 2",
         "Tim Rownam"
        ],
        [
         [
          "Tennis Court 2",
          "David Farrell"
         ],
         "Tennis Court 2",
         "David Farrell"
        ],
        [
         [
          "Tennis Court 2",
          "Henrietta Rumney"
         ],
         "Tennis Court 2",
         "Henrietta Rumney"
        ],
        [
         [
          "Tennis Court 1",
          "Ponder Stibbons"
         ],
         "Tennis Court 1",
         "Ponder Stibbons"
        ],
        [
         [
          "Tennis Court 1",
          "Florence Bader"
         ],
         "Tennis Court 1",
         "Florence Bader"
        ],
        [
         [
          "Tennis Court 1",
          "David Pinker"
         ],
         "Tennis Court 1",
         "David Pinker"
        ],
        [
         [
          "Tennis Court 2",
          "Tim Boothe"
         ],
         "Tennis Court 2",
         "Tim Boothe"
        ],
        [
         [
          "Tennis Court 2",
          "Charles Owen"
         ],
         "Tennis Court 2",
         "Charles Owen"
        ]
       ],
       "datasetInfos": [],
       "dbfsResultPath": null,
       "isJsonSchema": true,
       "overflow": false,
       "plotOptions": {
        "customPlotOptions": {},
        "displayType": "table",
        "pivotAggregation": null,
        "pivotColumns": null,
        "xColumns": null,
        "yColumns": null
       },
       "removedWidgets": [],
       "schema": [
        {
         "metadata": "{}",
         "name": "named_struct(name, name, col2, concat_ws( , firstname, surname))",
         "type": "{\"type\":\"struct\",\"fields\":[{\"name\":\"name\",\"type\":\"string\",\"nullable\":true,\"metadata\":{}},{\"name\":\"col2\",\"type\":\"string\",\"nullable\":false,\"metadata\":{}}]}"
        },
        {
         "metadata": "{}",
         "name": "name",
         "type": "\"string\""
        },
        {
         "metadata": "{}",
         "name": "full_name",
         "type": "\"string\""
        }
       ],
       "type": "table"
      }
     },
     "output_type": "display_data"
    }
   ],
   "source": [
    "%sql\n",
    "select distinct(facilities.name, concat_ws(' ', firstname, surname)),\n",
    "       facilities.name,\n",
    "       concat_ws(' ', firstname, surname) as full_name\n",
    "       \n",
    "\n",
    "  from bookings\n",
    "  left join facilities\n",
    "  on bookings.facid = facilities.facid\n",
    "  \n",
    "  left join members\n",
    "  on bookings.memid = members.memid\n",
    "  \n",
    "  where facilities.name like '%Tennis Court%'\n",
    "  \n",
    "  "
   ]
  },
  {
   "cell_type": "markdown",
   "metadata": {
    "application/vnd.databricks.v1+cell": {
     "inputWidgets": {},
     "nuid": "48b30784-7f5a-4ef5-92e3-22242262fbd8",
     "showTitle": false,
     "title": ""
    }
   },
   "source": [
    "###### Q7: ANSWER"
   ]
  },
  {
   "cell_type": "code",
   "execution_count": 0,
   "metadata": {
    "application/vnd.databricks.v1+cell": {
     "inputWidgets": {},
     "nuid": "2bfa0279-e7d2-4210-8255-80dc87c7a6ba",
     "showTitle": false,
     "title": ""
    }
   },
   "outputs": [
    {
     "data": {
      "text/html": [
       "<style scoped>\n",
       "  .table-result-container {\n",
       "    max-height: 300px;\n",
       "    overflow: auto;\n",
       "  }\n",
       "  table, th, td {\n",
       "    border: 1px solid black;\n",
       "    border-collapse: collapse;\n",
       "  }\n",
       "  th, td {\n",
       "    padding: 5px;\n",
       "  }\n",
       "  th {\n",
       "    text-align: left;\n",
       "  }\n",
       "</style><div class='table-result-container'><table class='table-result'><thead style='background-color: white'><tr><th>name</th><th>full_name</th><th>num_res</th></tr></thead><tbody><tr><td>Tennis Court 1</td><td>Anne Baker</td><td>6</td></tr><tr><td>Tennis Court 2</td><td>Anne Baker</td><td>35</td></tr><tr><td>Tennis Court 2</td><td>Burton Tracy</td><td>3</td></tr><tr><td>Tennis Court 1</td><td>Burton Tracy</td><td>31</td></tr><tr><td>Tennis Court 2</td><td>Charles Owen</td><td>41</td></tr><tr><td>Tennis Court 1</td><td>Charles Owen</td><td>17</td></tr><tr><td>Tennis Court 2</td><td>Darren Smith</td><td>19</td></tr><tr><td>Tennis Court 2</td><td>David Farrell</td><td>1</td></tr><tr><td>Tennis Court 1</td><td>David Farrell</td><td>6</td></tr><tr><td>Tennis Court 1</td><td>David Jones</td><td>25</td></tr><tr><td>Tennis Court 2</td><td>David Jones</td><td>30</td></tr><tr><td>Tennis Court 1</td><td>David Pinker</td><td>16</td></tr><tr><td>Tennis Court 1</td><td>Douglas Jones</td><td>9</td></tr><tr><td>Tennis Court 1</td><td>Erica Crumpet</td><td>1</td></tr><tr><td>Tennis Court 1</td><td>Florence Bader</td><td>1</td></tr><tr><td>Tennis Court 2</td><td>Florence Bader</td><td>8</td></tr><tr><td>Tennis Court 2</td><td>GUEST GUEST</td><td>113</td></tr><tr><td>Tennis Court 1</td><td>GUEST GUEST</td><td>100</td></tr><tr><td>Tennis Court 1</td><td>Gerald Butters</td><td>57</td></tr><tr><td>Tennis Court 2</td><td>Gerald Butters</td><td>3</td></tr><tr><td>Tennis Court 2</td><td>Henrietta Rumney</td><td>1</td></tr><tr><td>Tennis Court 2</td><td>Jack Smith</td><td>1</td></tr><tr><td>Tennis Court 1</td><td>Jack Smith</td><td>22</td></tr><tr><td>Tennis Court 2</td><td>Janice Joplette</td><td>8</td></tr><tr><td>Tennis Court 1</td><td>Janice Joplette</td><td>19</td></tr><tr><td>Tennis Court 1</td><td>Jemima Farrell</td><td>1</td></tr><tr><td>Tennis Court 2</td><td>Jemima Farrell</td><td>1</td></tr><tr><td>Tennis Court 1</td><td>Joan Coplin</td><td>7</td></tr><tr><td>Tennis Court 2</td><td>John Hunt</td><td>4</td></tr><tr><td>Tennis Court 1</td><td>John Hunt</td><td>4</td></tr><tr><td>Tennis Court 1</td><td>Matthew Genting</td><td>1</td></tr><tr><td>Tennis Court 2</td><td>Millicent Purview</td><td>1</td></tr><tr><td>Tennis Court 2</td><td>Nancy Dare</td><td>11</td></tr><tr><td>Tennis Court 1</td><td>Nancy Dare</td><td>25</td></tr><tr><td>Tennis Court 2</td><td>Ponder Stibbons</td><td>31</td></tr><tr><td>Tennis Court 1</td><td>Ponder Stibbons</td><td>1</td></tr><tr><td>Tennis Court 2</td><td>Ramnaresh Sarwin</td><td>11</td></tr><tr><td>Tennis Court 1</td><td>Ramnaresh Sarwin</td><td>5</td></tr><tr><td>Tennis Court 1</td><td>Tim Boothe</td><td>4</td></tr><tr><td>Tennis Court 2</td><td>Tim Boothe</td><td>52</td></tr><tr><td>Tennis Court 1</td><td>Tim Rownam</td><td>6</td></tr><tr><td>Tennis Court 2</td><td>Tim Rownam</td><td>6</td></tr><tr><td>Tennis Court 2</td><td>Timothy Baker</td><td>7</td></tr><tr><td>Tennis Court 1</td><td>Timothy Baker</td><td>14</td></tr><tr><td>Tennis Court 2</td><td>Tracy Smith</td><td>2</td></tr><tr><td>Tennis Court 1</td><td>Tracy Smith</td><td>30</td></tr></tbody></table></div>"
      ]
     },
     "metadata": {
      "application/vnd.databricks.v1+output": {
       "addedWidgets": {},
       "aggData": [],
       "aggError": "",
       "aggOverflow": false,
       "aggSchema": [],
       "aggSeriesLimitReached": false,
       "aggType": "",
       "arguments": {},
       "columnCustomDisplayInfos": {},
       "data": [
        [
         "Tennis Court 1",
         "Anne Baker",
         6
        ],
        [
         "Tennis Court 2",
         "Anne Baker",
         35
        ],
        [
         "Tennis Court 2",
         "Burton Tracy",
         3
        ],
        [
         "Tennis Court 1",
         "Burton Tracy",
         31
        ],
        [
         "Tennis Court 2",
         "Charles Owen",
         41
        ],
        [
         "Tennis Court 1",
         "Charles Owen",
         17
        ],
        [
         "Tennis Court 2",
         "Darren Smith",
         19
        ],
        [
         "Tennis Court 2",
         "David Farrell",
         1
        ],
        [
         "Tennis Court 1",
         "David Farrell",
         6
        ],
        [
         "Tennis Court 1",
         "David Jones",
         25
        ],
        [
         "Tennis Court 2",
         "David Jones",
         30
        ],
        [
         "Tennis Court 1",
         "David Pinker",
         16
        ],
        [
         "Tennis Court 1",
         "Douglas Jones",
         9
        ],
        [
         "Tennis Court 1",
         "Erica Crumpet",
         1
        ],
        [
         "Tennis Court 1",
         "Florence Bader",
         1
        ],
        [
         "Tennis Court 2",
         "Florence Bader",
         8
        ],
        [
         "Tennis Court 2",
         "GUEST GUEST",
         113
        ],
        [
         "Tennis Court 1",
         "GUEST GUEST",
         100
        ],
        [
         "Tennis Court 1",
         "Gerald Butters",
         57
        ],
        [
         "Tennis Court 2",
         "Gerald Butters",
         3
        ],
        [
         "Tennis Court 2",
         "Henrietta Rumney",
         1
        ],
        [
         "Tennis Court 2",
         "Jack Smith",
         1
        ],
        [
         "Tennis Court 1",
         "Jack Smith",
         22
        ],
        [
         "Tennis Court 2",
         "Janice Joplette",
         8
        ],
        [
         "Tennis Court 1",
         "Janice Joplette",
         19
        ],
        [
         "Tennis Court 1",
         "Jemima Farrell",
         1
        ],
        [
         "Tennis Court 2",
         "Jemima Farrell",
         1
        ],
        [
         "Tennis Court 1",
         "Joan Coplin",
         7
        ],
        [
         "Tennis Court 2",
         "John Hunt",
         4
        ],
        [
         "Tennis Court 1",
         "John Hunt",
         4
        ],
        [
         "Tennis Court 1",
         "Matthew Genting",
         1
        ],
        [
         "Tennis Court 2",
         "Millicent Purview",
         1
        ],
        [
         "Tennis Court 2",
         "Nancy Dare",
         11
        ],
        [
         "Tennis Court 1",
         "Nancy Dare",
         25
        ],
        [
         "Tennis Court 2",
         "Ponder Stibbons",
         31
        ],
        [
         "Tennis Court 1",
         "Ponder Stibbons",
         1
        ],
        [
         "Tennis Court 2",
         "Ramnaresh Sarwin",
         11
        ],
        [
         "Tennis Court 1",
         "Ramnaresh Sarwin",
         5
        ],
        [
         "Tennis Court 1",
         "Tim Boothe",
         4
        ],
        [
         "Tennis Court 2",
         "Tim Boothe",
         52
        ],
        [
         "Tennis Court 1",
         "Tim Rownam",
         6
        ],
        [
         "Tennis Court 2",
         "Tim Rownam",
         6
        ],
        [
         "Tennis Court 2",
         "Timothy Baker",
         7
        ],
        [
         "Tennis Court 1",
         "Timothy Baker",
         14
        ],
        [
         "Tennis Court 2",
         "Tracy Smith",
         2
        ],
        [
         "Tennis Court 1",
         "Tracy Smith",
         30
        ]
       ],
       "datasetInfos": [],
       "dbfsResultPath": null,
       "isJsonSchema": true,
       "overflow": false,
       "plotOptions": {
        "customPlotOptions": {},
        "displayType": "table",
        "pivotAggregation": null,
        "pivotColumns": null,
        "xColumns": null,
        "yColumns": null
       },
       "removedWidgets": [],
       "schema": [
        {
         "metadata": "{}",
         "name": "name",
         "type": "\"string\""
        },
        {
         "metadata": "{}",
         "name": "full_name",
         "type": "\"string\""
        },
        {
         "metadata": "{}",
         "name": "num_res",
         "type": "\"long\""
        }
       ],
       "type": "table"
      }
     },
     "output_type": "display_data"
    }
   ],
   "source": [
    "%sql\n",
    "select \n",
    "       facilities.name,\n",
    "       concat_ws(' ', firstname, surname) as full_name,\n",
    "       count(facilities.name) as num_res\n",
    "\n",
    "  from bookings\n",
    "  left join facilities\n",
    "  on bookings.facid = facilities.facid\n",
    "  \n",
    "  left join members\n",
    "  on bookings.memid = members.memid\n",
    "  \n",
    "  where name like '%Tennis Court%'\n",
    "  \n",
    "  group by facilities.name, full_name\n",
    "  \n",
    "  order by full_name\n",
    "  \n",
    "  "
   ]
  },
  {
   "cell_type": "code",
   "execution_count": 0,
   "metadata": {
    "application/vnd.databricks.v1+cell": {
     "inputWidgets": {},
     "nuid": "c9d0ecec-98e9-48f8-8a0c-de2b03fd6f29",
     "showTitle": false,
     "title": ""
    }
   },
   "outputs": [],
   "source": []
  },
  {
   "cell_type": "markdown",
   "metadata": {
    "application/vnd.databricks.v1+cell": {
     "inputWidgets": {},
     "nuid": "bf56b25e-44d6-4a3a-ad8f-5e77c45a7c70",
     "showTitle": false,
     "title": ""
    }
   },
   "source": [
    "#### Q8: How can you produce a list of bookings on the day of 2012-09-14 which will cost the member (or guest) more than $30? \n",
    "\n",
    "- Remember that guests have different costs to members (the listed costs are per half-hour 'slot')\n",
    "- The guest user's ID is always 0. \n",
    "\n",
    "#### Include in your output the name of the facility, the name of the member formatted as a single column, and the cost.\n",
    "\n",
    "- Order by descending cost, and do not use any subqueries."
   ]
  },
  {
   "cell_type": "markdown",
   "metadata": {
    "application/vnd.databricks.v1+cell": {
     "inputWidgets": {},
     "nuid": "1534018d-fb33-434e-bc1b-a2313032f0dc",
     "showTitle": false,
     "title": ""
    }
   },
   "source": [
    "###### I did Q9 before this one so look at it to see steps that got me to the next cell\n",
    "create column with daily cost   \n",
    "create column indicating if day is the one of interest"
   ]
  },
  {
   "cell_type": "code",
   "execution_count": 0,
   "metadata": {
    "application/vnd.databricks.v1+cell": {
     "inputWidgets": {},
     "nuid": "6eef9f67-a5c2-466b-9d74-bfcb154f07c4",
     "showTitle": false,
     "title": ""
    }
   },
   "outputs": [
    {
     "data": {
      "text/html": [
       "<style scoped>\n",
       "  .table-result-container {\n",
       "    max-height: 300px;\n",
       "    overflow: auto;\n",
       "  }\n",
       "  table, th, td {\n",
       "    border: 1px solid black;\n",
       "    border-collapse: collapse;\n",
       "  }\n",
       "  th, td {\n",
       "    padding: 5px;\n",
       "  }\n",
       "  th {\n",
       "    text-align: left;\n",
       "  }\n",
       "</style><div class='table-result-container'><table class='table-result'><thead style='background-color: white'><tr><th>b_facid</th><th>b_memid</th><th>starttime</th><th>slots</th><th>f_name</th><th>membercost</th><th>guestcost</th><th>m_memid</th><th>surname</th><th>firstname</th><th>the_cost</th><th>select_day</th></tr></thead><tbody><tr><td>3</td><td>1</td><td>2012-07-03 11:00:00</td><td>2</td><td>Table Tennis</td><td>0.0</td><td>5.0</td><td>1</td><td>Smith</td><td>Darren</td><td>0.0</td><td>0</td></tr><tr><td>4</td><td>1</td><td>2012-07-03 08:00:00</td><td>2</td><td>Massage Room 1</td><td>9.9</td><td>80.0</td><td>1</td><td>Smith</td><td>Darren</td><td>19.8</td><td>0</td></tr><tr><td>6</td><td>0</td><td>2012-07-03 18:00:00</td><td>2</td><td>Squash Court</td><td>3.5</td><td>17.5</td><td>0</td><td>GUEST</td><td>GUEST</td><td>35.0</td><td>0</td></tr><tr><td>7</td><td>1</td><td>2012-07-03 19:00:00</td><td>2</td><td>Snooker Table</td><td>0.0</td><td>5.0</td><td>1</td><td>Smith</td><td>Darren</td><td>0.0</td><td>0</td></tr><tr><td>8</td><td>1</td><td>2012-07-03 10:00:00</td><td>1</td><td>Pool Table</td><td>0.0</td><td>5.0</td><td>1</td><td>Smith</td><td>Darren</td><td>0.0</td><td>0</td></tr><tr><td>8</td><td>1</td><td>2012-07-03 15:00:00</td><td>1</td><td>Pool Table</td><td>0.0</td><td>5.0</td><td>1</td><td>Smith</td><td>Darren</td><td>0.0</td><td>0</td></tr><tr><td>0</td><td>2</td><td>2012-07-04 09:00:00</td><td>3</td><td>Tennis Court 1</td><td>5.0</td><td>25.0</td><td>2</td><td>Smith</td><td>Tracy</td><td>15.0</td><td>0</td></tr><tr><td>0</td><td>2</td><td>2012-07-04 15:00:00</td><td>3</td><td>Tennis Court 1</td><td>5.0</td><td>25.0</td><td>2</td><td>Smith</td><td>Tracy</td><td>15.0</td><td>0</td></tr><tr><td>4</td><td>3</td><td>2012-07-04 13:30:00</td><td>2</td><td>Massage Room 1</td><td>9.9</td><td>80.0</td><td>3</td><td>Rownam</td><td>Tim</td><td>19.8</td><td>0</td></tr><tr><td>4</td><td>0</td><td>2012-07-04 15:00:00</td><td>2</td><td>Massage Room 1</td><td>9.9</td><td>80.0</td><td>0</td><td>GUEST</td><td>GUEST</td><td>160.0</td><td>0</td></tr><tr><td>4</td><td>0</td><td>2012-07-04 17:30:00</td><td>2</td><td>Massage Room 1</td><td>9.9</td><td>80.0</td><td>0</td><td>GUEST</td><td>GUEST</td><td>160.0</td><td>0</td></tr><tr><td>6</td><td>0</td><td>2012-07-04 12:30:00</td><td>2</td><td>Squash Court</td><td>3.5</td><td>17.5</td><td>0</td><td>GUEST</td><td>GUEST</td><td>35.0</td><td>0</td></tr><tr><td>6</td><td>0</td><td>2012-07-04 14:00:00</td><td>2</td><td>Squash Court</td><td>3.5</td><td>17.5</td><td>0</td><td>GUEST</td><td>GUEST</td><td>35.0</td><td>0</td></tr><tr><td>6</td><td>1</td><td>2012-07-04 15:30:00</td><td>2</td><td>Squash Court</td><td>3.5</td><td>17.5</td><td>1</td><td>Smith</td><td>Darren</td><td>7.0</td><td>0</td></tr><tr><td>7</td><td>2</td><td>2012-07-04 14:00:00</td><td>2</td><td>Snooker Table</td><td>0.0</td><td>5.0</td><td>2</td><td>Smith</td><td>Tracy</td><td>0.0</td><td>0</td></tr><tr><td>8</td><td>2</td><td>2012-07-04 12:00:00</td><td>1</td><td>Pool Table</td><td>0.0</td><td>5.0</td><td>2</td><td>Smith</td><td>Tracy</td><td>0.0</td><td>0</td></tr><tr><td>8</td><td>3</td><td>2012-07-04 18:00:00</td><td>1</td><td>Pool Table</td><td>0.0</td><td>5.0</td><td>3</td><td>Rownam</td><td>Tim</td><td>0.0</td><td>0</td></tr><tr><td>1</td><td>0</td><td>2012-07-05 17:30:00</td><td>3</td><td>Tennis Court 2</td><td>5.0</td><td>25.0</td><td>0</td><td>GUEST</td><td>GUEST</td><td>75.0</td><td>0</td></tr><tr><td>2</td><td>1</td><td>2012-07-05 09:30:00</td><td>3</td><td>Badminton Court</td><td>0.0</td><td>15.5</td><td>1</td><td>Smith</td><td>Darren</td><td>0.0</td><td>0</td></tr><tr><td>3</td><td>3</td><td>2012-07-05 09:00:00</td><td>2</td><td>Table Tennis</td><td>0.0</td><td>5.0</td><td>3</td><td>Rownam</td><td>Tim</td><td>0.0</td><td>0</td></tr><tr><td>3</td><td>1</td><td>2012-07-05 19:00:00</td><td>2</td><td>Table Tennis</td><td>0.0</td><td>5.0</td><td>1</td><td>Smith</td><td>Darren</td><td>0.0</td><td>0</td></tr><tr><td>4</td><td>3</td><td>2012-07-05 18:30:00</td><td>2</td><td>Massage Room 1</td><td>9.9</td><td>80.0</td><td>3</td><td>Rownam</td><td>Tim</td><td>19.8</td><td>0</td></tr><tr><td>6</td><td>0</td><td>2012-07-05 13:00:00</td><td>2</td><td>Squash Court</td><td>3.5</td><td>17.5</td><td>0</td><td>GUEST</td><td>GUEST</td><td>35.0</td><td>0</td></tr><tr><td>6</td><td>1</td><td>2012-07-05 14:30:00</td><td>2</td><td>Squash Court</td><td>3.5</td><td>17.5</td><td>1</td><td>Smith</td><td>Darren</td><td>7.0</td><td>0</td></tr><tr><td>7</td><td>2</td><td>2012-07-05 18:30:00</td><td>2</td><td>Snooker Table</td><td>0.0</td><td>5.0</td><td>2</td><td>Smith</td><td>Tracy</td><td>0.0</td><td>0</td></tr><tr><td>8</td><td>3</td><td>2012-07-05 12:30:00</td><td>1</td><td>Pool Table</td><td>0.0</td><td>5.0</td><td>3</td><td>Rownam</td><td>Tim</td><td>0.0</td><td>0</td></tr><tr><td>0</td><td>0</td><td>2012-07-06 08:00:00</td><td>3</td><td>Tennis Court 1</td><td>5.0</td><td>25.0</td><td>0</td><td>GUEST</td><td>GUEST</td><td>75.0</td><td>0</td></tr><tr><td>0</td><td>0</td><td>2012-07-06 14:00:00</td><td>3</td><td>Tennis Court 1</td><td>5.0</td><td>25.0</td><td>0</td><td>GUEST</td><td>GUEST</td><td>75.0</td><td>0</td></tr><tr><td>0</td><td>2</td><td>2012-07-06 15:30:00</td><td>3</td><td>Tennis Court 1</td><td>5.0</td><td>25.0</td><td>2</td><td>Smith</td><td>Tracy</td><td>15.0</td><td>0</td></tr><tr><td>2</td><td>1</td><td>2012-07-06 17:00:00</td><td>3</td><td>Badminton Court</td><td>0.0</td><td>15.5</td><td>1</td><td>Smith</td><td>Darren</td><td>0.0</td><td>0</td></tr><tr><td>3</td><td>1</td><td>2012-07-06 11:00:00</td><td>2</td><td>Table Tennis</td><td>0.0</td><td>5.0</td><td>1</td><td>Smith</td><td>Darren</td><td>0.0</td><td>0</td></tr><tr><td>4</td><td>3</td><td>2012-07-06 12:00:00</td><td>2</td><td>Massage Room 1</td><td>9.9</td><td>80.0</td><td>3</td><td>Rownam</td><td>Tim</td><td>19.8</td><td>0</td></tr><tr><td>6</td><td>1</td><td>2012-07-06 14:00:00</td><td>2</td><td>Squash Court</td><td>3.5</td><td>17.5</td><td>1</td><td>Smith</td><td>Darren</td><td>7.0</td><td>0</td></tr><tr><td>7</td><td>2</td><td>2012-07-06 08:30:00</td><td>2</td><td>Snooker Table</td><td>0.0</td><td>5.0</td><td>2</td><td>Smith</td><td>Tracy</td><td>0.0</td><td>0</td></tr><tr><td>7</td><td>2</td><td>2012-07-06 13:30:00</td><td>2</td><td>Snooker Table</td><td>0.0</td><td>5.0</td><td>2</td><td>Smith</td><td>Tracy</td><td>0.0</td><td>0</td></tr><tr><td>8</td><td>3</td><td>2012-07-06 15:30:00</td><td>1</td><td>Pool Table</td><td>0.0</td><td>5.0</td><td>3</td><td>Rownam</td><td>Tim</td><td>0.0</td><td>0</td></tr><tr><td>0</td><td>2</td><td>2012-07-07 08:30:00</td><td>3</td><td>Tennis Court 1</td><td>5.0</td><td>25.0</td><td>2</td><td>Smith</td><td>Tracy</td><td>15.0</td><td>0</td></tr><tr><td>0</td><td>0</td><td>2012-07-07 12:30:00</td><td>3</td><td>Tennis Court 1</td><td>5.0</td><td>25.0</td><td>0</td><td>GUEST</td><td>GUEST</td><td>75.0</td><td>0</td></tr><tr><td>0</td><td>2</td><td>2012-07-07 14:30:00</td><td>3</td><td>Tennis Court 1</td><td>5.0</td><td>25.0</td><td>2</td><td>Smith</td><td>Tracy</td><td>15.0</td><td>0</td></tr><tr><td>1</td><td>3</td><td>2012-07-07 08:30:00</td><td>3</td><td>Tennis Court 2</td><td>5.0</td><td>25.0</td><td>3</td><td>Rownam</td><td>Tim</td><td>15.0</td><td>0</td></tr><tr><td>2</td><td>1</td><td>2012-07-07 09:00:00</td><td>3</td><td>Badminton Court</td><td>0.0</td><td>15.5</td><td>1</td><td>Smith</td><td>Darren</td><td>0.0</td><td>0</td></tr><tr><td>2</td><td>1</td><td>2012-07-07 11:30:00</td><td>3</td><td>Badminton Court</td><td>0.0</td><td>15.5</td><td>1</td><td>Smith</td><td>Darren</td><td>0.0</td><td>0</td></tr><tr><td>2</td><td>1</td><td>2012-07-07 16:00:00</td><td>3</td><td>Badminton Court</td><td>0.0</td><td>15.5</td><td>1</td><td>Smith</td><td>Darren</td><td>0.0</td><td>0</td></tr><tr><td>3</td><td>2</td><td>2012-07-07 12:30:00</td><td>2</td><td>Table Tennis</td><td>0.0</td><td>5.0</td><td>2</td><td>Smith</td><td>Tracy</td><td>0.0</td><td>0</td></tr><tr><td>4</td><td>3</td><td>2012-07-07 11:30:00</td><td>2</td><td>Massage Room 1</td><td>9.9</td><td>80.0</td><td>3</td><td>Rownam</td><td>Tim</td><td>19.8</td><td>0</td></tr><tr><td>4</td><td>3</td><td>2012-07-07 14:00:00</td><td>2</td><td>Massage Room 1</td><td>9.9</td><td>80.0</td><td>3</td><td>Rownam</td><td>Tim</td><td>19.8</td><td>0</td></tr><tr><td>4</td><td>0</td><td>2012-07-07 17:30:00</td><td>2</td><td>Massage Room 1</td><td>9.9</td><td>80.0</td><td>0</td><td>GUEST</td><td>GUEST</td><td>160.0</td><td>0</td></tr><tr><td>6</td><td>0</td><td>2012-07-07 08:30:00</td><td>2</td><td>Squash Court</td><td>3.5</td><td>17.5</td><td>0</td><td>GUEST</td><td>GUEST</td><td>35.0</td><td>0</td></tr><tr><td>6</td><td>1</td><td>2012-07-07 10:30:00</td><td>2</td><td>Squash Court</td><td>3.5</td><td>17.5</td><td>1</td><td>Smith</td><td>Darren</td><td>7.0</td><td>0</td></tr><tr><td>6</td><td>1</td><td>2012-07-07 14:30:00</td><td>2</td><td>Squash Court</td><td>3.5</td><td>17.5</td><td>1</td><td>Smith</td><td>Darren</td><td>7.0</td><td>0</td></tr><tr><td>6</td><td>0</td><td>2012-07-07 16:00:00</td><td>2</td><td>Squash Court</td><td>3.5</td><td>17.5</td><td>0</td><td>GUEST</td><td>GUEST</td><td>35.0</td><td>0</td></tr><tr><td>7</td><td>2</td><td>2012-07-07 11:30:00</td><td>2</td><td>Snooker Table</td><td>0.0</td><td>5.0</td><td>2</td><td>Smith</td><td>Tracy</td><td>0.0</td><td>0</td></tr><tr><td>8</td><td>3</td><td>2012-07-07 16:00:00</td><td>1</td><td>Pool Table</td><td>0.0</td><td>5.0</td><td>3</td><td>Rownam</td><td>Tim</td><td>0.0</td><td>0</td></tr><tr><td>8</td><td>3</td><td>2012-07-07 17:30:00</td><td>2</td><td>Pool Table</td><td>0.0</td><td>5.0</td><td>3</td><td>Rownam</td><td>Tim</td><td>0.0</td><td>0</td></tr><tr><td>0</td><td>3</td><td>2012-07-08 13:00:00</td><td>3</td><td>Tennis Court 1</td><td>5.0</td><td>25.0</td><td>3</td><td>Rownam</td><td>Tim</td><td>15.0</td><td>0</td></tr><tr><td>0</td><td>2</td><td>2012-07-08 17:30:00</td><td>3</td><td>Tennis Court 1</td><td>5.0</td><td>25.0</td><td>2</td><td>Smith</td><td>Tracy</td><td>15.0</td><td>0</td></tr><tr><td>1</td><td>1</td><td>2012-07-08 15:00:00</td><td>3</td><td>Tennis Court 2</td><td>5.0</td><td>25.0</td><td>1</td><td>Smith</td><td>Darren</td><td>15.0</td><td>0</td></tr><tr><td>1</td><td>1</td><td>2012-07-08 17:30:00</td><td>3</td><td>Tennis Court 2</td><td>5.0</td><td>25.0</td><td>1</td><td>Smith</td><td>Darren</td><td>15.0</td><td>0</td></tr><tr><td>3</td><td>1</td><td>2012-07-08 11:30:00</td><td>2</td><td>Table Tennis</td><td>0.0</td><td>5.0</td><td>1</td><td>Smith</td><td>Darren</td><td>0.0</td><td>0</td></tr><tr><td>3</td><td>3</td><td>2012-07-08 18:30:00</td><td>2</td><td>Table Tennis</td><td>0.0</td><td>5.0</td><td>3</td><td>Rownam</td><td>Tim</td><td>0.0</td><td>0</td></tr><tr><td>3</td><td>1</td><td>2012-07-08 19:30:00</td><td>2</td><td>Table Tennis</td><td>0.0</td><td>5.0</td><td>1</td><td>Smith</td><td>Darren</td><td>0.0</td><td>0</td></tr><tr><td>4</td><td>0</td><td>2012-07-08 11:00:00</td><td>2</td><td>Massage Room 1</td><td>9.9</td><td>80.0</td><td>0</td><td>GUEST</td><td>GUEST</td><td>160.0</td><td>0</td></tr><tr><td>4</td><td>2</td><td>2012-07-08 16:30:00</td><td>2</td><td>Massage Room 1</td><td>9.9</td><td>80.0</td><td>2</td><td>Smith</td><td>Tracy</td><td>19.8</td><td>0</td></tr><tr><td>4</td><td>0</td><td>2012-07-08 18:00:00</td><td>2</td><td>Massage Room 1</td><td>9.9</td><td>80.0</td><td>0</td><td>GUEST</td><td>GUEST</td><td>160.0</td><td>0</td></tr><tr><td>4</td><td>0</td><td>2012-07-08 19:30:00</td><td>2</td><td>Massage Room 1</td><td>9.9</td><td>80.0</td><td>0</td><td>GUEST</td><td>GUEST</td><td>160.0</td><td>0</td></tr><tr><td>6</td><td>0</td><td>2012-07-08 14:00:00</td><td>2</td><td>Squash Court</td><td>3.5</td><td>17.5</td><td>0</td><td>GUEST</td><td>GUEST</td><td>35.0</td><td>0</td></tr><tr><td>6</td><td>0</td><td>2012-07-08 18:30:00</td><td>2</td><td>Squash Court</td><td>3.5</td><td>17.5</td><td>0</td><td>GUEST</td><td>GUEST</td><td>35.0</td><td>0</td></tr><tr><td>7</td><td>2</td><td>2012-07-08 11:00:00</td><td>2</td><td>Snooker Table</td><td>0.0</td><td>5.0</td><td>2</td><td>Smith</td><td>Tracy</td><td>0.0</td><td>0</td></tr><tr><td>7</td><td>1</td><td>2012-07-08 16:30:00</td><td>2</td><td>Snooker Table</td><td>0.0</td><td>5.0</td><td>1</td><td>Smith</td><td>Darren</td><td>0.0</td><td>0</td></tr><tr><td>8</td><td>3</td><td>2012-07-08 10:00:00</td><td>1</td><td>Pool Table</td><td>0.0</td><td>5.0</td><td>3</td><td>Rownam</td><td>Tim</td><td>0.0</td><td>0</td></tr><tr><td>8</td><td>3</td><td>2012-07-08 16:30:00</td><td>1</td><td>Pool Table</td><td>0.0</td><td>5.0</td><td>3</td><td>Rownam</td><td>Tim</td><td>0.0</td><td>0</td></tr><tr><td>0</td><td>2</td><td>2012-07-09 12:30:00</td><td>3</td><td>Tennis Court 1</td><td>5.0</td><td>25.0</td><td>2</td><td>Smith</td><td>Tracy</td><td>15.0</td><td>0</td></tr><tr><td>0</td><td>2</td><td>2012-07-09 15:30:00</td><td>3</td><td>Tennis Court 1</td><td>5.0</td><td>25.0</td><td>2</td><td>Smith</td><td>Tracy</td><td>15.0</td><td>0</td></tr><tr><td>0</td><td>2</td><td>2012-07-09 19:00:00</td><td>3</td><td>Tennis Court 1</td><td>5.0</td><td>25.0</td><td>2</td><td>Smith</td><td>Tracy</td><td>15.0</td><td>0</td></tr><tr><td>1</td><td>0</td><td>2012-07-09 13:00:00</td><td>3</td><td>Tennis Court 2</td><td>5.0</td><td>25.0</td><td>0</td><td>GUEST</td><td>GUEST</td><td>75.0</td><td>0</td></tr><tr><td>1</td><td>1</td><td>2012-07-09 19:00:00</td><td>3</td><td>Tennis Court 2</td><td>5.0</td><td>25.0</td><td>1</td><td>Smith</td><td>Darren</td><td>15.0</td><td>0</td></tr><tr><td>2</td><td>1</td><td>2012-07-09 09:00:00</td><td>6</td><td>Badminton Court</td><td>0.0</td><td>15.5</td><td>1</td><td>Smith</td><td>Darren</td><td>0.0</td><td>0</td></tr><tr><td>2</td><td>0</td><td>2012-07-09 19:00:00</td><td>3</td><td>Badminton Court</td><td>0.0</td><td>15.5</td><td>0</td><td>GUEST</td><td>GUEST</td><td>46.5</td><td>0</td></tr><tr><td>3</td><td>3</td><td>2012-07-09 17:00:00</td><td>2</td><td>Table Tennis</td><td>0.0</td><td>5.0</td><td>3</td><td>Rownam</td><td>Tim</td><td>0.0</td><td>0</td></tr><tr><td>3</td><td>3</td><td>2012-07-09 18:30:00</td><td>2</td><td>Table Tennis</td><td>0.0</td><td>5.0</td><td>3</td><td>Rownam</td><td>Tim</td><td>0.0</td><td>0</td></tr><tr><td>4</td><td>2</td><td>2012-07-09 11:00:00</td><td>2</td><td>Massage Room 1</td><td>9.9</td><td>80.0</td><td>2</td><td>Smith</td><td>Tracy</td><td>19.8</td><td>0</td></tr><tr><td>4</td><td>3</td><td>2012-07-09 14:30:00</td><td>2</td><td>Massage Room 1</td><td>9.9</td><td>80.0</td><td>3</td><td>Rownam</td><td>Tim</td><td>19.8</td><td>0</td></tr><tr><td>6</td><td>0</td><td>2012-07-09 14:30:00</td><td>2</td><td>Squash Court</td><td>3.5</td><td>17.5</td><td>0</td><td>GUEST</td><td>GUEST</td><td>35.0</td><td>0</td></tr><tr><td>7</td><td>1</td><td>2012-07-09 15:30:00</td><td>2</td><td>Snooker Table</td><td>0.0</td><td>5.0</td><td>1</td><td>Smith</td><td>Darren</td><td>0.0</td><td>0</td></tr><tr><td>7</td><td>0</td><td>2012-07-09 18:30:00</td><td>4</td><td>Snooker Table</td><td>0.0</td><td>5.0</td><td>0</td><td>GUEST</td><td>GUEST</td><td>20.0</td><td>0</td></tr><tr><td>8</td><td>3</td><td>2012-07-09 09:30:00</td><td>1</td><td>Pool Table</td><td>0.0</td><td>5.0</td><td>3</td><td>Rownam</td><td>Tim</td><td>0.0</td><td>0</td></tr><tr><td>8</td><td>3</td><td>2012-07-09 16:30:00</td><td>1</td><td>Pool Table</td><td>0.0</td><td>5.0</td><td>3</td><td>Rownam</td><td>Tim</td><td>0.0</td><td>0</td></tr><tr><td>8</td><td>3</td><td>2012-07-09 20:00:00</td><td>1</td><td>Pool Table</td><td>0.0</td><td>5.0</td><td>3</td><td>Rownam</td><td>Tim</td><td>0.0</td><td>0</td></tr><tr><td>0</td><td>0</td><td>2012-07-10 11:30:00</td><td>3</td><td>Tennis Court 1</td><td>5.0</td><td>25.0</td><td>0</td><td>GUEST</td><td>GUEST</td><td>75.0</td><td>0</td></tr><tr><td>0</td><td>0</td><td>2012-07-10 16:00:00</td><td>3</td><td>Tennis Court 1</td><td>5.0</td><td>25.0</td><td>0</td><td>GUEST</td><td>GUEST</td><td>75.0</td><td>0</td></tr><tr><td>3</td><td>2</td><td>2012-07-10 08:00:00</td><td>2</td><td>Table Tennis</td><td>0.0</td><td>5.0</td><td>2</td><td>Smith</td><td>Tracy</td><td>0.0</td><td>0</td></tr><tr><td>3</td><td>1</td><td>2012-07-10 11:00:00</td><td>2</td><td>Table Tennis</td><td>0.0</td><td>5.0</td><td>1</td><td>Smith</td><td>Darren</td><td>0.0</td><td>0</td></tr><tr><td>3</td><td>3</td><td>2012-07-10 15:30:00</td><td>2</td><td>Table Tennis</td><td>0.0</td><td>5.0</td><td>3</td><td>Rownam</td><td>Tim</td><td>0.0</td><td>0</td></tr><tr><td>3</td><td>2</td><td>2012-07-10 16:30:00</td><td>2</td><td>Table Tennis</td><td>0.0</td><td>5.0</td><td>2</td><td>Smith</td><td>Tracy</td><td>0.0</td><td>0</td></tr><tr><td>3</td><td>1</td><td>2012-07-10 18:00:00</td><td>2</td><td>Table Tennis</td><td>0.0</td><td>5.0</td><td>1</td><td>Smith</td><td>Darren</td><td>0.0</td><td>0</td></tr><tr><td>4</td><td>0</td><td>2012-07-10 10:00:00</td><td>2</td><td>Massage Room 1</td><td>9.9</td><td>80.0</td><td>0</td><td>GUEST</td><td>GUEST</td><td>160.0</td><td>0</td></tr><tr><td>4</td><td>4</td><td>2012-07-10 11:30:00</td><td>2</td><td>Massage Room 1</td><td>9.9</td><td>80.0</td><td>4</td><td>Joplette</td><td>Janice</td><td>19.8</td><td>0</td></tr><tr><td>4</td><td>0</td><td>2012-07-10 15:00:00</td><td>2</td><td>Massage Room 1</td><td>9.9</td><td>80.0</td><td>0</td><td>GUEST</td><td>GUEST</td><td>160.0</td><td>0</td></tr><tr><td>4</td><td>3</td><td>2012-07-10 17:00:00</td><td>4</td><td>Massage Room 1</td><td>9.9</td><td>80.0</td><td>3</td><td>Rownam</td><td>Tim</td><td>39.6</td><td>0</td></tr><tr><td>5</td><td>0</td><td>2012-07-10 08:30:00</td><td>2</td><td>Massage Room 2</td><td>9.9</td><td>80.0</td><td>0</td><td>GUEST</td><td>GUEST</td><td>160.0</td><td>0</td></tr><tr><td>6</td><td>0</td><td>2012-07-10 14:30:00</td><td>2</td><td>Squash Court</td><td>3.5</td><td>17.5</td><td>0</td><td>GUEST</td><td>GUEST</td><td>35.0</td><td>0</td></tr><tr><td>6</td><td>0</td><td>2012-07-10 19:00:00</td><td>2</td><td>Squash Court</td><td>3.5</td><td>17.5</td><td>0</td><td>GUEST</td><td>GUEST</td><td>35.0</td><td>0</td></tr><tr><td>7</td><td>4</td><td>2012-07-10 08:30:00</td><td>2</td><td>Snooker Table</td><td>0.0</td><td>5.0</td><td>4</td><td>Joplette</td><td>Janice</td><td>0.0</td><td>0</td></tr><tr><td>7</td><td>2</td><td>2012-07-10 17:30:00</td><td>2</td><td>Snooker Table</td><td>0.0</td><td>5.0</td><td>2</td><td>Smith</td><td>Tracy</td><td>0.0</td><td>0</td></tr><tr><td>8</td><td>0</td><td>2012-07-10 11:30:00</td><td>1</td><td>Pool Table</td><td>0.0</td><td>5.0</td><td>0</td><td>GUEST</td><td>GUEST</td><td>5.0</td><td>0</td></tr><tr><td>8</td><td>3</td><td>2012-07-10 12:00:00</td><td>1</td><td>Pool Table</td><td>0.0</td><td>5.0</td><td>3</td><td>Rownam</td><td>Tim</td><td>0.0</td><td>0</td></tr><tr><td>8</td><td>3</td><td>2012-07-10 19:30:00</td><td>1</td><td>Pool Table</td><td>0.0</td><td>5.0</td><td>3</td><td>Rownam</td><td>Tim</td><td>0.0</td><td>0</td></tr><tr><td>0</td><td>4</td><td>2012-07-11 08:00:00</td><td>3</td><td>Tennis Court 1</td><td>5.0</td><td>25.0</td><td>4</td><td>Joplette</td><td>Janice</td><td>15.0</td><td>0</td></tr><tr><td>0</td><td>2</td><td>2012-07-11 10:00:00</td><td>3</td><td>Tennis Court 1</td><td>5.0</td><td>25.0</td><td>2</td><td>Smith</td><td>Tracy</td><td>15.0</td><td>0</td></tr><tr><td>0</td><td>0</td><td>2012-07-11 12:00:00</td><td>3</td><td>Tennis Court 1</td><td>5.0</td><td>25.0</td><td>0</td><td>GUEST</td><td>GUEST</td><td>75.0</td><td>0</td></tr><tr><td>0</td><td>0</td><td>2012-07-11 14:00:00</td><td>3</td><td>Tennis Court 1</td><td>5.0</td><td>25.0</td><td>0</td><td>GUEST</td><td>GUEST</td><td>75.0</td><td>0</td></tr><tr><td>0</td><td>2</td><td>2012-07-11 15:30:00</td><td>3</td><td>Tennis Court 1</td><td>5.0</td><td>25.0</td><td>2</td><td>Smith</td><td>Tracy</td><td>15.0</td><td>0</td></tr><tr><td>0</td><td>2</td><td>2012-07-11 18:30:00</td><td>3</td><td>Tennis Court 1</td><td>5.0</td><td>25.0</td><td>2</td><td>Smith</td><td>Tracy</td><td>15.0</td><td>0</td></tr><tr><td>1</td><td>0</td><td>2012-07-11 12:30:00</td><td>3</td><td>Tennis Court 2</td><td>5.0</td><td>25.0</td><td>0</td><td>GUEST</td><td>GUEST</td><td>75.0</td><td>0</td></tr><tr><td>1</td><td>0</td><td>2012-07-11 16:00:00</td><td>3</td><td>Tennis Court 2</td><td>5.0</td><td>25.0</td><td>0</td><td>GUEST</td><td>GUEST</td><td>75.0</td><td>0</td></tr><tr><td>4</td><td>1</td><td>2012-07-11 08:00:00</td><td>2</td><td>Massage Room 1</td><td>9.9</td><td>80.0</td><td>1</td><td>Smith</td><td>Darren</td><td>19.8</td><td>0</td></tr><tr><td>4</td><td>0</td><td>2012-07-11 09:00:00</td><td>2</td><td>Massage Room 1</td><td>9.9</td><td>80.0</td><td>0</td><td>GUEST</td><td>GUEST</td><td>160.0</td><td>0</td></tr><tr><td>4</td><td>3</td><td>2012-07-11 11:00:00</td><td>2</td><td>Massage Room 1</td><td>9.9</td><td>80.0</td><td>3</td><td>Rownam</td><td>Tim</td><td>19.8</td><td>0</td></tr><tr><td>4</td><td>0</td><td>2012-07-11 15:00:00</td><td>2</td><td>Massage Room 1</td><td>9.9</td><td>80.0</td><td>0</td><td>GUEST</td><td>GUEST</td><td>160.0</td><td>0</td></tr><tr><td>5</td><td>4</td><td>2012-07-11 17:00:00</td><td>2</td><td>Massage Room 2</td><td>9.9</td><td>80.0</td><td>4</td><td>Joplette</td><td>Janice</td><td>19.8</td><td>0</td></tr><tr><td>6</td><td>0</td><td>2012-07-11 14:00:00</td><td>2</td><td>Squash Court</td><td>3.5</td><td>17.5</td><td>0</td><td>GUEST</td><td>GUEST</td><td>35.0</td><td>0</td></tr><tr><td>6</td><td>0</td><td>2012-07-11 19:30:00</td><td>2</td><td>Squash Court</td><td>3.5</td><td>17.5</td><td>0</td><td>GUEST</td><td>GUEST</td><td>35.0</td><td>0</td></tr><tr><td>7</td><td>0</td><td>2012-07-11 08:00:00</td><td>2</td><td>Snooker Table</td><td>0.0</td><td>5.0</td><td>0</td><td>GUEST</td><td>GUEST</td><td>10.0</td><td>0</td></tr><tr><td>7</td><td>0</td><td>2012-07-11 14:00:00</td><td>2</td><td>Snooker Table</td><td>0.0</td><td>5.0</td><td>0</td><td>GUEST</td><td>GUEST</td><td>10.0</td><td>0</td></tr><tr><td>7</td><td>0</td><td>2012-07-11 16:30:00</td><td>2</td><td>Snooker Table</td><td>0.0</td><td>5.0</td><td>0</td><td>GUEST</td><td>GUEST</td><td>10.0</td><td>0</td></tr><tr><td>8</td><td>4</td><td>2012-07-11 11:00:00</td><td>1</td><td>Pool Table</td><td>0.0</td><td>5.0</td><td>4</td><td>Joplette</td><td>Janice</td><td>0.0</td><td>0</td></tr><tr><td>8</td><td>3</td><td>2012-07-11 13:00:00</td><td>1</td><td>Pool Table</td><td>0.0</td><td>5.0</td><td>3</td><td>Rownam</td><td>Tim</td><td>0.0</td><td>0</td></tr><tr><td>0</td><td>0</td><td>2012-07-12 13:30:00</td><td>3</td><td>Tennis Court 1</td><td>5.0</td><td>25.0</td><td>0</td><td>GUEST</td><td>GUEST</td><td>75.0</td><td>0</td></tr><tr><td>0</td><td>2</td><td>2012-07-12 16:30:00</td><td>3</td><td>Tennis Court 1</td><td>5.0</td><td>25.0</td><td>2</td><td>Smith</td><td>Tracy</td><td>15.0</td><td>0</td></tr><tr><td>1</td><td>1</td><td>2012-07-12 11:30:00</td><td>3</td><td>Tennis Court 2</td><td>5.0</td><td>25.0</td><td>1</td><td>Smith</td><td>Darren</td><td>15.0</td><td>0</td></tr><tr><td>2</td><td>1</td><td>2012-07-12 09:00:00</td><td>3</td><td>Badminton Court</td><td>0.0</td><td>15.5</td><td>1</td><td>Smith</td><td>Darren</td><td>0.0</td><td>0</td></tr><tr><td>2</td><td>1</td><td>2012-07-12 18:30:00</td><td>3</td><td>Badminton Court</td><td>0.0</td><td>15.5</td><td>1</td><td>Smith</td><td>Darren</td><td>0.0</td><td>0</td></tr><tr><td>3</td><td>3</td><td>2012-07-12 18:00:00</td><td>2</td><td>Table Tennis</td><td>0.0</td><td>5.0</td><td>3</td><td>Rownam</td><td>Tim</td><td>0.0</td><td>0</td></tr><tr><td>4</td><td>1</td><td>2012-07-12 16:00:00</td><td>2</td><td>Massage Room 1</td><td>9.9</td><td>80.0</td><td>1</td><td>Smith</td><td>Darren</td><td>19.8</td><td>0</td></tr><tr><td>6</td><td>0</td><td>2012-07-12 12:00:00</td><td>4</td><td>Squash Court</td><td>3.5</td><td>17.5</td><td>0</td><td>GUEST</td><td>GUEST</td><td>70.0</td><td>0</td></tr><tr><td>7</td><td>2</td><td>2012-07-12 08:00:00</td><td>2</td><td>Snooker Table</td><td>0.0</td><td>5.0</td><td>2</td><td>Smith</td><td>Tracy</td><td>0.0</td><td>0</td></tr><tr><td>7</td><td>4</td><td>2012-07-12 13:30:00</td><td>2</td><td>Snooker Table</td><td>0.0</td><td>5.0</td><td>4</td><td>Joplette</td><td>Janice</td><td>0.0</td><td>0</td></tr><tr><td>7</td><td>4</td><td>2012-07-12 16:00:00</td><td>2</td><td>Snooker Table</td><td>0.0</td><td>5.0</td><td>4</td><td>Joplette</td><td>Janice</td><td>0.0</td><td>0</td></tr><tr><td>8</td><td>3</td><td>2012-07-12 16:30:00</td><td>1</td><td>Pool Table</td><td>0.0</td><td>5.0</td><td>3</td><td>Rownam</td><td>Tim</td><td>0.0</td><td>0</td></tr><tr><td>0</td><td>2</td><td>2012-07-13 10:30:00</td><td>3</td><td>Tennis Court 1</td><td>5.0</td><td>25.0</td><td>2</td><td>Smith</td><td>Tracy</td><td>15.0</td><td>0</td></tr><tr><td>0</td><td>4</td><td>2012-07-13 14:00:00</td><td>3</td><td>Tennis Court 1</td><td>5.0</td><td>25.0</td><td>4</td><td>Joplette</td><td>Janice</td><td>15.0</td><td>0</td></tr><tr><td>0</td><td>3</td><td>2012-07-13 17:00:00</td><td>3</td><td>Tennis Court 1</td><td>5.0</td><td>25.0</td><td>3</td><td>Rownam</td><td>Tim</td><td>15.0</td><td>0</td></tr><tr><td>1</td><td>1</td><td>2012-07-13 15:00:00</td><td>3</td><td>Tennis Court 2</td><td>5.0</td><td>25.0</td><td>1</td><td>Smith</td><td>Darren</td><td>15.0</td><td>0</td></tr><tr><td>2</td><td>1</td><td>2012-07-13 09:00:00</td><td>3</td><td>Badminton Court</td><td>0.0</td><td>15.5</td><td>1</td><td>Smith</td><td>Darren</td><td>0.0</td><td>0</td></tr><tr><td>2</td><td>0</td><td>2012-07-13 15:00:00</td><td>3</td><td>Badminton Court</td><td>0.0</td><td>15.5</td><td>0</td><td>GUEST</td><td>GUEST</td><td>46.5</td><td>0</td></tr><tr><td>2</td><td>1</td><td>2012-07-13 16:30:00</td><td>3</td><td>Badminton Court</td><td>0.0</td><td>15.5</td><td>1</td><td>Smith</td><td>Darren</td><td>0.0</td><td>0</td></tr><tr><td>4</td><td>0</td><td>2012-07-13 11:00:00</td><td>2</td><td>Massage Room 1</td><td>9.9</td><td>80.0</td><td>0</td><td>GUEST</td><td>GUEST</td><td>160.0</td><td>0</td></tr><tr><td>4</td><td>0</td><td>2012-07-13 13:30:00</td><td>2</td><td>Massage Room 1</td><td>9.9</td><td>80.0</td><td>0</td><td>GUEST</td><td>GUEST</td><td>160.0</td><td>0</td></tr><tr><td>4</td><td>0</td><td>2012-07-13 15:00:00</td><td>2</td><td>Massage Room 1</td><td>9.9</td><td>80.0</td><td>0</td><td>GUEST</td><td>GUEST</td><td>160.0</td><td>0</td></tr><tr><td>4</td><td>3</td><td>2012-07-13 16:00:00</td><td>2</td><td>Massage Room 1</td><td>9.9</td><td>80.0</td><td>3</td><td>Rownam</td><td>Tim</td><td>19.8</td><td>0</td></tr><tr><td>4</td><td>4</td><td>2012-07-13 17:30:00</td><td>2</td><td>Massage Room 1</td><td>9.9</td><td>80.0</td><td>4</td><td>Joplette</td><td>Janice</td><td>19.8</td><td>0</td></tr><tr><td>6</td><td>0</td><td>2012-07-13 09:30:00</td><td>2</td><td>Squash Court</td><td>3.5</td><td>17.5</td><td>0</td><td>GUEST</td><td>GUEST</td><td>35.0</td><td>0</td></tr><tr><td>7</td><td>0</td><td>2012-07-13 08:00:00</td><td>2</td><td>Snooker Table</td><td>0.0</td><td>5.0</td><td>0</td><td>GUEST</td><td>GUEST</td><td>10.0</td><td>0</td></tr><tr><td>7</td><td>1</td><td>2012-07-13 11:00:00</td><td>2</td><td>Snooker Table</td><td>0.0</td><td>5.0</td><td>1</td><td>Smith</td><td>Darren</td><td>0.0</td><td>0</td></tr><tr><td>7</td><td>4</td><td>2012-07-13 12:30:00</td><td>2</td><td>Snooker Table</td><td>0.0</td><td>5.0</td><td>4</td><td>Joplette</td><td>Janice</td><td>0.0</td><td>0</td></tr><tr><td>8</td><td>0</td><td>2012-07-13 15:30:00</td><td>1</td><td>Pool Table</td><td>0.0</td><td>5.0</td><td>0</td><td>GUEST</td><td>GUEST</td><td>5.0</td><td>0</td></tr><tr><td>8</td><td>2</td><td>2012-07-13 18:30:00</td><td>1</td><td>Pool Table</td><td>0.0</td><td>5.0</td><td>2</td><td>Smith</td><td>Tracy</td><td>0.0</td><td>0</td></tr><tr><td>0</td><td>2</td><td>2012-07-14 08:30:00</td><td>3</td><td>Tennis Court 1</td><td>5.0</td><td>25.0</td><td>2</td><td>Smith</td><td>Tracy</td><td>15.0</td><td>0</td></tr><tr><td>0</td><td>4</td><td>2012-07-14 11:30:00</td><td>3</td><td>Tennis Court 1</td><td>5.0</td><td>25.0</td><td>4</td><td>Joplette</td><td>Janice</td><td>15.0</td><td>0</td></tr><tr><td>0</td><td>3</td><td>2012-07-14 15:00:00</td><td>3</td><td>Tennis Court 1</td><td>5.0</td><td>25.0</td><td>3</td><td>Rownam</td><td>Tim</td><td>15.0</td><td>0</td></tr><tr><td>1</td><td>3</td><td>2012-07-14 10:30:00</td><td>3</td><td>Tennis Court 2</td><td>5.0</td><td>25.0</td><td>3</td><td>Rownam</td><td>Tim</td><td>15.0</td><td>0</td></tr><tr><td>1</td><td>3</td><td>2012-07-14 12:30:00</td><td>3</td><td>Tennis Court 2</td><td>5.0</td><td>25.0</td><td>3</td><td>Rownam</td><td>Tim</td><td>15.0</td><td>0</td></tr><tr><td>1</td><td>0</td><td>2012-07-14 14:30:00</td><td>3</td><td>Tennis Court 2</td><td>5.0</td><td>25.0</td><td>0</td><td>GUEST</td><td>GUEST</td><td>75.0</td><td>0</td></tr><tr><td>2</td><td>1</td><td>2012-07-14 08:30:00</td><td>3</td><td>Badminton Court</td><td>0.0</td><td>15.5</td><td>1</td><td>Smith</td><td>Darren</td><td>0.0</td><td>0</td></tr><tr><td>3</td><td>2</td><td>2012-07-14 16:00:00</td><td>2</td><td>Table Tennis</td><td>0.0</td><td>5.0</td><td>2</td><td>Smith</td><td>Tracy</td><td>0.0</td><td>0</td></tr><tr><td>4</td><td>3</td><td>2012-07-14 08:00:00</td><td>2</td><td>Massage Room 1</td><td>9.9</td><td>80.0</td><td>3</td><td>Rownam</td><td>Tim</td><td>19.8</td><td>0</td></tr><tr><td>4</td><td>1</td><td>2012-07-14 14:30:00</td><td>2</td><td>Massage Room 1</td><td>9.9</td><td>80.0</td><td>1</td><td>Smith</td><td>Darren</td><td>19.8</td><td>0</td></tr><tr><td>6</td><td>0</td><td>2012-07-14 09:30:00</td><td>2</td><td>Squash Court</td><td>3.5</td><td>17.5</td><td>0</td><td>GUEST</td><td>GUEST</td><td>35.0</td><td>0</td></tr><tr><td>6</td><td>1</td><td>2012-07-14 12:30:00</td><td>2</td><td>Squash Court</td><td>3.5</td><td>17.5</td><td>1</td><td>Smith</td><td>Darren</td><td>7.0</td><td>0</td></tr><tr><td>6</td><td>0</td><td>2012-07-14 15:00:00</td><td>2</td><td>Squash Court</td><td>3.5</td><td>17.5</td><td>0</td><td>GUEST</td><td>GUEST</td><td>35.0</td><td>0</td></tr><tr><td>7</td><td>2</td><td>2012-07-14 12:30:00</td><td>2</td><td>Snooker Table</td><td>0.0</td><td>5.0</td><td>2</td><td>Smith</td><td>Tracy</td><td>0.0</td><td>0</td></tr><tr><td>7</td><td>2</td><td>2012-07-14 15:00:00</td><td>2</td><td>Snooker Table</td><td>0.0</td><td>5.0</td><td>2</td><td>Smith</td><td>Tracy</td><td>0.0</td><td>0</td></tr><tr><td>7</td><td>4</td><td>2012-07-14 16:30:00</td><td>2</td><td>Snooker Table</td><td>0.0</td><td>5.0</td><td>4</td><td>Joplette</td><td>Janice</td><td>0.0</td><td>0</td></tr><tr><td>7</td><td>1</td><td>2012-07-14 19:00:00</td><td>2</td><td>Snooker Table</td><td>0.0</td><td>5.0</td><td>1</td><td>Smith</td><td>Darren</td><td>0.0</td><td>0</td></tr><tr><td>8</td><td>3</td><td>2012-07-14 09:00:00</td><td>1</td><td>Pool Table</td><td>0.0</td><td>5.0</td><td>3</td><td>Rownam</td><td>Tim</td><td>0.0</td><td>0</td></tr><tr><td>8</td><td>1</td><td>2012-07-14 17:00:00</td><td>1</td><td>Pool Table</td><td>0.0</td><td>5.0</td><td>1</td><td>Smith</td><td>Darren</td><td>0.0</td><td>0</td></tr><tr><td>0</td><td>2</td><td>2012-07-15 08:00:00</td><td>3</td><td>Tennis Court 1</td><td>5.0</td><td>25.0</td><td>2</td><td>Smith</td><td>Tracy</td><td>15.0</td><td>0</td></tr><tr><td>0</td><td>0</td><td>2012-07-15 16:00:00</td><td>3</td><td>Tennis Court 1</td><td>5.0</td><td>25.0</td><td>0</td><td>GUEST</td><td>GUEST</td><td>75.0</td><td>0</td></tr><tr><td>0</td><td>2</td><td>2012-07-15 19:00:00</td><td>3</td><td>Tennis Court 1</td><td>5.0</td><td>25.0</td><td>2</td><td>Smith</td><td>Tracy</td><td>15.0</td><td>0</td></tr><tr><td>1</td><td>0</td><td>2012-07-15 10:00:00</td><td>3</td><td>Tennis Court 2</td><td>5.0</td><td>25.0</td><td>0</td><td>GUEST</td><td>GUEST</td><td>75.0</td><td>0</td></tr><tr><td>1</td><td>0</td><td>2012-07-15 12:00:00</td><td>3</td><td>Tennis Court 2</td><td>5.0</td><td>25.0</td><td>0</td><td>GUEST</td><td>GUEST</td><td>75.0</td><td>0</td></tr><tr><td>1</td><td>3</td><td>2012-07-15 15:30:00</td><td>3</td><td>Tennis Court 2</td><td>5.0</td><td>25.0</td><td>3</td><td>Rownam</td><td>Tim</td><td>15.0</td><td>0</td></tr><tr><td>2</td><td>1</td><td>2012-07-15 13:00:00</td><td>3</td><td>Badminton Court</td><td>0.0</td><td>15.5</td><td>1</td><td>Smith</td><td>Darren</td><td>0.0</td><td>0</td></tr><tr><td>3</td><td>1</td><td>2012-07-15 17:30:00</td><td>2</td><td>Table Tennis</td><td>0.0</td><td>5.0</td><td>1</td><td>Smith</td><td>Darren</td><td>0.0</td><td>0</td></tr><tr><td>4</td><td>3</td><td>2012-07-15 11:30:00</td><td>2</td><td>Massage Room 1</td><td>9.9</td><td>80.0</td><td>3</td><td>Rownam</td><td>Tim</td><td>19.8</td><td>0</td></tr><tr><td>4</td><td>0</td><td>2012-07-15 15:00:00</td><td>2</td><td>Massage Room 1</td><td>9.9</td><td>80.0</td><td>0</td><td>GUEST</td><td>GUEST</td><td>160.0</td><td>0</td></tr><tr><td>4</td><td>3</td><td>2012-07-15 17:30:00</td><td>2</td><td>Massage Room 1</td><td>9.9</td><td>80.0</td><td>3</td><td>Rownam</td><td>Tim</td><td>19.8</td><td>0</td></tr><tr><td>7</td><td>4</td><td>2012-07-15 14:30:00</td><td>2</td><td>Snooker Table</td><td>0.0</td><td>5.0</td><td>4</td><td>Joplette</td><td>Janice</td><td>0.0</td><td>0</td></tr><tr><td>7</td><td>4</td><td>2012-07-15 17:00:00</td><td>2</td><td>Snooker Table</td><td>0.0</td><td>5.0</td><td>4</td><td>Joplette</td><td>Janice</td><td>0.0</td><td>0</td></tr><tr><td>8</td><td>4</td><td>2012-07-15 10:00:00</td><td>1</td><td>Pool Table</td><td>0.0</td><td>5.0</td><td>4</td><td>Joplette</td><td>Janice</td><td>0.0</td><td>0</td></tr><tr><td>8</td><td>2</td><td>2012-07-15 12:00:00</td><td>1</td><td>Pool Table</td><td>0.0</td><td>5.0</td><td>2</td><td>Smith</td><td>Tracy</td><td>0.0</td><td>0</td></tr><tr><td>8</td><td>3</td><td>2012-07-15 12:30:00</td><td>1</td><td>Pool Table</td><td>0.0</td><td>5.0</td><td>3</td><td>Rownam</td><td>Tim</td><td>0.0</td><td>0</td></tr><tr><td>8</td><td>3</td><td>2012-07-15 13:30:00</td><td>1</td><td>Pool Table</td><td>0.0</td><td>5.0</td><td>3</td><td>Rownam</td><td>Tim</td><td>0.0</td><td>0</td></tr><tr><td>0</td><td>5</td><td>2012-07-16 11:00:00</td><td>3</td><td>Tennis Court 1</td><td>5.0</td><td>25.0</td><td>5</td><td>Butters</td><td>Gerald</td><td>15.0</td><td>0</td></tr><tr><td>0</td><td>5</td><td>2012-07-16 19:00:00</td><td>3</td><td>Tennis Court 1</td><td>5.0</td><td>25.0</td><td>5</td><td>Butters</td><td>Gerald</td><td>15.0</td><td>0</td></tr><tr><td>1</td><td>1</td><td>2012-07-16 08:00:00</td><td>3</td><td>Tennis Court 2</td><td>5.0</td><td>25.0</td><td>1</td><td>Smith</td><td>Darren</td><td>15.0</td><td>0</td></tr><tr><td>1</td><td>0</td><td>2012-07-16 12:30:00</td><td>3</td><td>Tennis Court 2</td><td>5.0</td><td>25.0</td><td>0</td><td>GUEST</td><td>GUEST</td><td>75.0</td><td>0</td></tr><tr><td>2</td><td>1</td><td>2012-07-16 16:30:00</td><td>3</td><td>Badminton Court</td><td>0.0</td><td>15.5</td><td>1</td><td>Smith</td><td>Darren</td><td>0.0</td><td>0</td></tr><tr><td>4</td><td>3</td><td>2012-07-16 09:00:00</td><td>2</td><td>Massage Room 1</td><td>9.9</td><td>80.0</td><td>3</td><td>Rownam</td><td>Tim</td><td>19.8</td><td>0</td></tr><tr><td>4</td><td>1</td><td>2012-07-16 11:00:00</td><td>2</td><td>Massage Room 1</td><td>9.9</td><td>80.0</td><td>1</td><td>Smith</td><td>Darren</td><td>19.8</td><td>0</td></tr><tr><td>4</td><td>3</td><td>2012-07-16 12:00:00</td><td>2</td><td>Massage Room 1</td><td>9.9</td><td>80.0</td><td>3</td><td>Rownam</td><td>Tim</td><td>19.8</td><td>0</td></tr><tr><td>4</td><td>3</td><td>2012-07-16 17:30:00</td><td>2</td><td>Massage Room 1</td><td>9.9</td><td>80.0</td><td>3</td><td>Rownam</td><td>Tim</td><td>19.8</td><td>0</td></tr><tr><td>6</td><td>0</td><td>2012-07-16 18:30:00</td><td>2</td><td>Squash Court</td><td>3.5</td><td>17.5</td><td>0</td><td>GUEST</td><td>GUEST</td><td>35.0</td><td>0</td></tr><tr><td>7</td><td>4</td><td>2012-07-16 08:00:00</td><td>2</td><td>Snooker Table</td><td>0.0</td><td>5.0</td><td>4</td><td>Joplette</td><td>Janice</td><td>0.0</td><td>0</td></tr><tr><td>7</td><td>2</td><td>2012-07-16 11:30:00</td><td>2</td><td>Snooker Table</td><td>0.0</td><td>5.0</td><td>2</td><td>Smith</td><td>Tracy</td><td>0.0</td><td>0</td></tr><tr><td>7</td><td>4</td><td>2012-07-16 12:30:00</td><td>2</td><td>Snooker Table</td><td>0.0</td><td>5.0</td><td>4</td><td>Joplette</td><td>Janice</td><td>0.0</td><td>0</td></tr><tr><td>7</td><td>5</td><td>2012-07-16 14:00:00</td><td>2</td><td>Snooker Table</td><td>0.0</td><td>5.0</td><td>5</td><td>Butters</td><td>Gerald</td><td>0.0</td><td>0</td></tr><tr><td>8</td><td>4</td><td>2012-07-16 12:00:00</td><td>1</td><td>Pool Table</td><td>0.0</td><td>5.0</td><td>4</td><td>Joplette</td><td>Janice</td><td>0.0</td><td>0</td></tr><tr><td>8</td><td>1</td><td>2012-07-16 15:00:00</td><td>1</td><td>Pool Table</td><td>0.0</td><td>5.0</td><td>1</td><td>Smith</td><td>Darren</td><td>0.0</td><td>0</td></tr><tr><td>8</td><td>4</td><td>2012-07-16 18:00:00</td><td>1</td><td>Pool Table</td><td>0.0</td><td>5.0</td><td>4</td><td>Joplette</td><td>Janice</td><td>0.0</td><td>0</td></tr><tr><td>8</td><td>3</td><td>2012-07-16 19:30:00</td><td>1</td><td>Pool Table</td><td>0.0</td><td>5.0</td><td>3</td><td>Rownam</td><td>Tim</td><td>0.0</td><td>0</td></tr><tr><td>0</td><td>5</td><td>2012-07-17 12:30:00</td><td>3</td><td>Tennis Court 1</td><td>5.0</td><td>25.0</td><td>5</td><td>Butters</td><td>Gerald</td><td>15.0</td><td>0</td></tr><tr><td>0</td><td>5</td><td>2012-07-17 18:00:00</td><td>3</td><td>Tennis Court 1</td><td>5.0</td><td>25.0</td><td>5</td><td>Butters</td><td>Gerald</td><td>15.0</td><td>0</td></tr><tr><td>1</td><td>1</td><td>2012-07-17 10:00:00</td><td>3</td><td>Tennis Court 2</td><td>5.0</td><td>25.0</td><td>1</td><td>Smith</td><td>Darren</td><td>15.0</td><td>0</td></tr><tr><td>1</td><td>4</td><td>2012-07-17 14:30:00</td><td>3</td><td>Tennis Court 2</td><td>5.0</td><td>25.0</td><td>4</td><td>Joplette</td><td>Janice</td><td>15.0</td><td>0</td></tr><tr><td>2</td><td>5</td><td>2012-07-17 10:30:00</td><td>3</td><td>Badminton Court</td><td>0.0</td><td>15.5</td><td>5</td><td>Butters</td><td>Gerald</td><td>0.0</td><td>0</td></tr><tr><td>2</td><td>1</td><td>2012-07-17 12:30:00</td><td>3</td><td>Badminton Court</td><td>0.0</td><td>15.5</td><td>1</td><td>Smith</td><td>Darren</td><td>0.0</td><td>0</td></tr><tr><td>2</td><td>1</td><td>2012-07-17 15:30:00</td><td>3</td><td>Badminton Court</td><td>0.0</td><td>15.5</td><td>1</td><td>Smith</td><td>Darren</td><td>0.0</td><td>0</td></tr><tr><td>2</td><td>2</td><td>2012-07-17 19:00:00</td><td>3</td><td>Badminton Court</td><td>0.0</td><td>15.5</td><td>2</td><td>Smith</td><td>Tracy</td><td>0.0</td><td>0</td></tr><tr><td>3</td><td>1</td><td>2012-07-17 14:00:00</td><td>2</td><td>Table Tennis</td><td>0.0</td><td>5.0</td><td>1</td><td>Smith</td><td>Darren</td><td>0.0</td><td>0</td></tr><tr><td>3</td><td>2</td><td>2012-07-17 15:00:00</td><td>2</td><td>Table Tennis</td><td>0.0</td><td>5.0</td><td>2</td><td>Smith</td><td>Tracy</td><td>0.0</td><td>0</td></tr><tr><td>4</td><td>0</td><td>2012-07-17 09:00:00</td><td>2</td><td>Massage Room 1</td><td>9.9</td><td>80.0</td><td>0</td><td>GUEST</td><td>GUEST</td><td>160.0</td><td>0</td></tr><tr><td>4</td><td>3</td><td>2012-07-17 10:30:00</td><td>2</td><td>Massage Room 1</td><td>9.9</td><td>80.0</td><td>3</td><td>Rownam</td><td>Tim</td><td>19.8</td><td>0</td></tr><tr><td>4</td><td>3</td><td>2012-07-17 12:00:00</td><td>2</td><td>Massage Room 1</td><td>9.9</td><td>80.0</td><td>3</td><td>Rownam</td><td>Tim</td><td>19.8</td><td>0</td></tr><tr><td>4</td><td>5</td><td>2012-07-17 16:00:00</td><td>2</td><td>Massage Room 1</td><td>9.9</td><td>80.0</td><td>5</td><td>Butters</td><td>Gerald</td><td>19.8</td><td>0</td></tr><tr><td>4</td><td>3</td><td>2012-07-17 18:30:00</td><td>2</td><td>Massage Room 1</td><td>9.9</td><td>80.0</td><td>3</td><td>Rownam</td><td>Tim</td><td>19.8</td><td>0</td></tr><tr><td>5</td><td>0</td><td>2012-07-17 13:30:00</td><td>2</td><td>Massage Room 2</td><td>9.9</td><td>80.0</td><td>0</td><td>GUEST</td><td>GUEST</td><td>160.0</td><td>0</td></tr><tr><td>6</td><td>4</td><td>2012-07-17 12:00:00</td><td>2</td><td>Squash Court</td><td>3.5</td><td>17.5</td><td>4</td><td>Joplette</td><td>Janice</td><td>7.0</td><td>0</td></tr><tr><td>6</td><td>0</td><td>2012-07-17 14:00:00</td><td>2</td><td>Squash Court</td><td>3.5</td><td>17.5</td><td>0</td><td>GUEST</td><td>GUEST</td><td>35.0</td><td>0</td></tr><tr><td>7</td><td>4</td><td>2012-07-17 08:00:00</td><td>2</td><td>Snooker Table</td><td>0.0</td><td>5.0</td><td>4</td><td>Joplette</td><td>Janice</td><td>0.0</td><td>0</td></tr><tr><td>7</td><td>5</td><td>2012-07-17 14:00:00</td><td>2</td><td>Snooker Table</td><td>0.0</td><td>5.0</td><td>5</td><td>Butters</td><td>Gerald</td><td>0.0</td><td>0</td></tr><tr><td>7</td><td>4</td><td>2012-07-17 16:00:00</td><td>2</td><td>Snooker Table</td><td>0.0</td><td>5.0</td><td>4</td><td>Joplette</td><td>Janice</td><td>0.0</td><td>0</td></tr><tr><td>8</td><td>3</td><td>2012-07-17 08:30:00</td><td>1</td><td>Pool Table</td><td>0.0</td><td>5.0</td><td>3</td><td>Rownam</td><td>Tim</td><td>0.0</td><td>0</td></tr><tr><td>8</td><td>2</td><td>2012-07-17 11:00:00</td><td>1</td><td>Pool Table</td><td>0.0</td><td>5.0</td><td>2</td><td>Smith</td><td>Tracy</td><td>0.0</td><td>0</td></tr><tr><td>8</td><td>3</td><td>2012-07-17 11:30:00</td><td>1</td><td>Pool Table</td><td>0.0</td><td>5.0</td><td>3</td><td>Rownam</td><td>Tim</td><td>0.0</td><td>0</td></tr><tr><td>8</td><td>3</td><td>2012-07-17 14:30:00</td><td>1</td><td>Pool Table</td><td>0.0</td><td>5.0</td><td>3</td><td>Rownam</td><td>Tim</td><td>0.0</td><td>0</td></tr><tr><td>8</td><td>0</td><td>2012-07-17 15:00:00</td><td>1</td><td>Pool Table</td><td>0.0</td><td>5.0</td><td>0</td><td>GUEST</td><td>GUEST</td><td>5.0</td><td>0</td></tr><tr><td>8</td><td>3</td><td>2012-07-17 15:30:00</td><td>1</td><td>Pool Table</td><td>0.0</td><td>5.0</td><td>3</td><td>Rownam</td><td>Tim</td><td>0.0</td><td>0</td></tr><tr><td>8</td><td>3</td><td>2012-07-17 18:00:00</td><td>1</td><td>Pool Table</td><td>0.0</td><td>5.0</td><td>3</td><td>Rownam</td><td>Tim</td><td>0.0</td><td>0</td></tr><tr><td>8</td><td>3</td><td>2012-07-17 20:00:00</td><td>1</td><td>Pool Table</td><td>0.0</td><td>5.0</td><td>3</td><td>Rownam</td><td>Tim</td><td>0.0</td><td>0</td></tr><tr><td>0</td><td>5</td><td>2012-07-18 13:00:00</td><td>3</td><td>Tennis Court 1</td><td>5.0</td><td>25.0</td><td>5</td><td>Butters</td><td>Gerald</td><td>15.0</td><td>0</td></tr><tr><td>0</td><td>5</td><td>2012-07-18 17:30:00</td><td>3</td><td>Tennis Court 1</td><td>5.0</td><td>25.0</td><td>5</td><td>Butters</td><td>Gerald</td><td>15.0</td><td>0</td></tr><tr><td>1</td><td>0</td><td>2012-07-18 14:00:00</td><td>3</td><td>Tennis Court 2</td><td>5.0</td><td>25.0</td><td>0</td><td>GUEST</td><td>GUEST</td><td>75.0</td><td>0</td></tr><tr><td>1</td><td>0</td><td>2012-07-18 16:30:00</td><td>3</td><td>Tennis Court 2</td><td>5.0</td><td>25.0</td><td>0</td><td>GUEST</td><td>GUEST</td><td>75.0</td><td>0</td></tr><tr><td>2</td><td>1</td><td>2012-07-18 14:00:00</td><td>3</td><td>Badminton Court</td><td>0.0</td><td>15.5</td><td>1</td><td>Smith</td><td>Darren</td><td>0.0</td><td>0</td></tr><tr><td>3</td><td>2</td><td>2012-07-18 11:30:00</td><td>2</td><td>Table Tennis</td><td>0.0</td><td>5.0</td><td>2</td><td>Smith</td><td>Tracy</td><td>0.0</td><td>0</td></tr><tr><td>3</td><td>3</td><td>2012-07-18 19:00:00</td><td>2</td><td>Table Tennis</td><td>0.0</td><td>5.0</td><td>3</td><td>Rownam</td><td>Tim</td><td>0.0</td><td>0</td></tr><tr><td>4</td><td>1</td><td>2012-07-18 08:30:00</td><td>2</td><td>Massage Room 1</td><td>9.9</td><td>80.0</td><td>1</td><td>Smith</td><td>Darren</td><td>19.8</td><td>0</td></tr><tr><td>4</td><td>4</td><td>2012-07-18 10:00:00</td><td>2</td><td>Massage Room 1</td><td>9.9</td><td>80.0</td><td>4</td><td>Joplette</td><td>Janice</td><td>19.8</td><td>0</td></tr><tr><td>4</td><td>5</td><td>2012-07-18 19:00:00</td><td>2</td><td>Massage Room 1</td><td>9.9</td><td>80.0</td><td>5</td><td>Butters</td><td>Gerald</td><td>19.8</td><td>0</td></tr><tr><td>5</td><td>0</td><td>2012-07-18 14:30:00</td><td>2</td><td>Massage Room 2</td><td>9.9</td><td>80.0</td><td>0</td><td>GUEST</td><td>GUEST</td><td>160.0</td><td>0</td></tr><tr><td>6</td><td>0</td><td>2012-07-18 10:30:00</td><td>2</td><td>Squash Court</td><td>3.5</td><td>17.5</td><td>0</td><td>GUEST</td><td>GUEST</td><td>35.0</td><td>0</td></tr><tr><td>6</td><td>0</td><td>2012-07-18 13:00:00</td><td>2</td><td>Squash Court</td><td>3.5</td><td>17.5</td><td>0</td><td>GUEST</td><td>GUEST</td><td>35.0</td><td>0</td></tr><tr><td>6</td><td>0</td><td>2012-07-18 15:00:00</td><td>2</td><td>Squash Court</td><td>3.5</td><td>17.5</td><td>0</td><td>GUEST</td><td>GUEST</td><td>35.0</td><td>0</td></tr><tr><td>6</td><td>1</td><td>2012-07-18 19:30:00</td><td>2</td><td>Squash Court</td><td>3.5</td><td>17.5</td><td>1</td><td>Smith</td><td>Darren</td><td>7.0</td><td>0</td></tr><tr><td>7</td><td>4</td><td>2012-07-18 08:30:00</td><td>2</td><td>Snooker Table</td><td>0.0</td><td>5.0</td><td>4</td><td>Joplette</td><td>Janice</td><td>0.0</td><td>0</td></tr><tr><td>7</td><td>4</td><td>2012-07-18 11:00:00</td><td>2</td><td>Snooker Table</td><td>0.0</td><td>5.0</td><td>4</td><td>Joplette</td><td>Janice</td><td>0.0</td><td>0</td></tr><tr><td>8</td><td>3</td><td>2012-07-18 11:00:00</td><td>1</td><td>Pool Table</td><td>0.0</td><td>5.0</td><td>3</td><td>Rownam</td><td>Tim</td><td>0.0</td><td>0</td></tr><tr><td>8</td><td>0</td><td>2012-07-18 13:00:00</td><td>1</td><td>Pool Table</td><td>0.0</td><td>5.0</td><td>0</td><td>GUEST</td><td>GUEST</td><td>5.0</td><td>0</td></tr><tr><td>8</td><td>3</td><td>2012-07-18 14:30:00</td><td>1</td><td>Pool Table</td><td>0.0</td><td>5.0</td><td>3</td><td>Rownam</td><td>Tim</td><td>0.0</td><td>0</td></tr><tr><td>8</td><td>4</td><td>2012-07-18 16:00:00</td><td>1</td><td>Pool Table</td><td>0.0</td><td>5.0</td><td>4</td><td>Joplette</td><td>Janice</td><td>0.0</td><td>0</td></tr><tr><td>8</td><td>3</td><td>2012-07-18 16:30:00</td><td>1</td><td>Pool Table</td><td>0.0</td><td>5.0</td><td>3</td><td>Rownam</td><td>Tim</td><td>0.0</td><td>0</td></tr><tr><td>8</td><td>4</td><td>2012-07-18 20:00:00</td><td>1</td><td>Pool Table</td><td>0.0</td><td>5.0</td><td>4</td><td>Joplette</td><td>Janice</td><td>0.0</td><td>0</td></tr><tr><td>0</td><td>2</td><td>2012-07-19 08:30:00</td><td>3</td><td>Tennis Court 1</td><td>5.0</td><td>25.0</td><td>2</td><td>Smith</td><td>Tracy</td><td>15.0</td><td>0</td></tr><tr><td>0</td><td>4</td><td>2012-07-19 10:30:00</td><td>3</td><td>Tennis Court 1</td><td>5.0</td><td>25.0</td><td>4</td><td>Joplette</td><td>Janice</td><td>15.0</td><td>0</td></tr><tr><td>0</td><td>5</td><td>2012-07-19 12:00:00</td><td>3</td><td>Tennis Court 1</td><td>5.0</td><td>25.0</td><td>5</td><td>Butters</td><td>Gerald</td><td>15.0</td><td>0</td></tr><tr><td>0</td><td>0</td><td>2012-07-19 13:30:00</td><td>3</td><td>Tennis Court 1</td><td>5.0</td><td>25.0</td><td>0</td><td>GUEST</td><td>GUEST</td><td>75.0</td><td>0</td></tr><tr><td>0</td><td>5</td><td>2012-07-19 16:30:00</td><td>3</td><td>Tennis Court 1</td><td>5.0</td><td>25.0</td><td>5</td><td>Butters</td><td>Gerald</td><td>15.0</td><td>0</td></tr><tr><td>1</td><td>1</td><td>2012-07-19 11:30:00</td><td>3</td><td>Tennis Court 2</td><td>5.0</td><td>25.0</td><td>1</td><td>Smith</td><td>Darren</td><td>15.0</td><td>0</td></tr><tr><td>1</td><td>0</td><td>2012-07-19 15:00:00</td><td>3</td><td>Tennis Court 2</td><td>5.0</td><td>25.0</td><td>0</td><td>GUEST</td><td>GUEST</td><td>75.0</td><td>0</td></tr><tr><td>1</td><td>0</td><td>2012-07-19 18:30:00</td><td>3</td><td>Tennis Court 2</td><td>5.0</td><td>25.0</td><td>0</td><td>GUEST</td><td>GUEST</td><td>75.0</td><td>0</td></tr><tr><td>2</td><td>1</td><td>2012-07-19 09:30:00</td><td>3</td><td>Badminton Court</td><td>0.0</td><td>15.5</td><td>1</td><td>Smith</td><td>Darren</td><td>0.0</td><td>0</td></tr><tr><td>2</td><td>0</td><td>2012-07-19 11:30:00</td><td>3</td><td>Badminton Court</td><td>0.0</td><td>15.5</td><td>0</td><td>GUEST</td><td>GUEST</td><td>46.5</td><td>0</td></tr><tr><td>2</td><td>1</td><td>2012-07-19 14:30:00</td><td>3</td><td>Badminton Court</td><td>0.0</td><td>15.5</td><td>1</td><td>Smith</td><td>Darren</td><td>0.0</td><td>0</td></tr><tr><td>2</td><td>2</td><td>2012-07-19 16:00:00</td><td>3</td><td>Badminton Court</td><td>0.0</td><td>15.5</td><td>2</td><td>Smith</td><td>Tracy</td><td>0.0</td><td>0</td></tr><tr><td>3</td><td>3</td><td>2012-07-19 08:30:00</td><td>2</td><td>Table Tennis</td><td>0.0</td><td>5.0</td><td>3</td><td>Rownam</td><td>Tim</td><td>0.0</td><td>0</td></tr><tr><td>3</td><td>3</td><td>2012-07-19 17:00:00</td><td>2</td><td>Table Tennis</td><td>0.0</td><td>5.0</td><td>3</td><td>Rownam</td><td>Tim</td><td>0.0</td><td>0</td></tr><tr><td>3</td><td>3</td><td>2012-07-19 18:30:00</td><td>2</td><td>Table Tennis</td><td>0.0</td><td>5.0</td><td>3</td><td>Rownam</td><td>Tim</td><td>0.0</td><td>0</td></tr><tr><td>4</td><td>3</td><td>2012-07-19 12:00:00</td><td>2</td><td>Massage Room 1</td><td>9.9</td><td>80.0</td><td>3</td><td>Rownam</td><td>Tim</td><td>19.8</td><td>0</td></tr><tr><td>4</td><td>5</td><td>2012-07-19 14:30:00</td><td>2</td><td>Massage Room 1</td><td>9.9</td><td>80.0</td><td>5</td><td>Butters</td><td>Gerald</td><td>19.8</td><td>0</td></tr><tr><td>4</td><td>0</td><td>2012-07-19 16:30:00</td><td>2</td><td>Massage Room 1</td><td>9.9</td><td>80.0</td><td>0</td><td>GUEST</td><td>GUEST</td><td>160.0</td><td>0</td></tr><tr><td>4</td><td>1</td><td>2012-07-19 18:30:00</td><td>2</td><td>Massage Room 1</td><td>9.9</td><td>80.0</td><td>1</td><td>Smith</td><td>Darren</td><td>19.8</td><td>0</td></tr><tr><td>4</td><td>0</td><td>2012-07-19 19:30:00</td><td>2</td><td>Massage Room 1</td><td>9.9</td><td>80.0</td><td>0</td><td>GUEST</td><td>GUEST</td><td>160.0</td><td>0</td></tr><tr><td>5</td><td>0</td><td>2012-07-19 08:30:00</td><td>2</td><td>Massage Room 2</td><td>9.9</td><td>80.0</td><td>0</td><td>GUEST</td><td>GUEST</td><td>160.0</td><td>0</td></tr><tr><td>6</td><td>4</td><td>2012-07-19 12:30:00</td><td>2</td><td>Squash Court</td><td>3.5</td><td>17.5</td><td>4</td><td>Joplette</td><td>Janice</td><td>7.0</td><td>0</td></tr><tr><td>6</td><td>2</td><td>2012-07-19 14:00:00</td><td>2</td><td>Squash Court</td><td>3.5</td><td>17.5</td><td>2</td><td>Smith</td><td>Tracy</td><td>7.0</td><td>0</td></tr><tr><td>6</td><td>0</td><td>2012-07-19 15:00:00</td><td>2</td><td>Squash Court</td><td>3.5</td><td>17.5</td><td>0</td><td>GUEST</td><td>GUEST</td><td>35.0</td><td>0</td></tr><tr><td>6</td><td>0</td><td>2012-07-19 16:30:00</td><td>2</td><td>Squash Court</td><td>3.5</td><td>17.5</td><td>0</td><td>GUEST</td><td>GUEST</td><td>35.0</td><td>0</td></tr><tr><td>7</td><td>2</td><td>2012-07-19 13:00:00</td><td>2</td><td>Snooker Table</td><td>0.0</td><td>5.0</td><td>2</td><td>Smith</td><td>Tracy</td><td>0.0</td><td>0</td></tr><tr><td>7</td><td>0</td><td>2012-07-19 14:00:00</td><td>2</td><td>Snooker Table</td><td>0.0</td><td>5.0</td><td>0</td><td>GUEST</td><td>GUEST</td><td>10.0</td><td>0</td></tr><tr><td>7</td><td>0</td><td>2012-07-19 16:30:00</td><td>2</td><td>Snooker Table</td><td>0.0</td><td>5.0</td><td>0</td><td>GUEST</td><td>GUEST</td><td>10.0</td><td>0</td></tr><tr><td>7</td><td>4</td><td>2012-07-19 17:30:00</td><td>4</td><td>Snooker Table</td><td>0.0</td><td>5.0</td><td>4</td><td>Joplette</td><td>Janice</td><td>0.0</td><td>0</td></tr><tr><td>8</td><td>3</td><td>2012-07-19 11:00:00</td><td>1</td><td>Pool Table</td><td>0.0</td><td>5.0</td><td>3</td><td>Rownam</td><td>Tim</td><td>0.0</td><td>0</td></tr><tr><td>8</td><td>1</td><td>2012-07-19 13:30:00</td><td>1</td><td>Pool Table</td><td>0.0</td><td>5.0</td><td>1</td><td>Smith</td><td>Darren</td><td>0.0</td><td>0</td></tr><tr><td>8</td><td>3</td><td>2012-07-19 14:30:00</td><td>1</td><td>Pool Table</td><td>0.0</td><td>5.0</td><td>3</td><td>Rownam</td><td>Tim</td><td>0.0</td><td>0</td></tr><tr><td>8</td><td>3</td><td>2012-07-19 18:00:00</td><td>1</td><td>Pool Table</td><td>0.0</td><td>5.0</td><td>3</td><td>Rownam</td><td>Tim</td><td>0.0</td><td>0</td></tr><tr><td>8</td><td>3</td><td>2012-07-19 20:00:00</td><td>1</td><td>Pool Table</td><td>0.0</td><td>5.0</td><td>3</td><td>Rownam</td><td>Tim</td><td>0.0</td><td>0</td></tr><tr><td>0</td><td>3</td><td>2012-07-20 08:00:00</td><td>3</td><td>Tennis Court 1</td><td>5.0</td><td>25.0</td><td>3</td><td>Rownam</td><td>Tim</td><td>15.0</td><td>0</td></tr><tr><td>0</td><td>5</td><td>2012-07-20 12:00:00</td><td>3</td><td>Tennis Court 1</td><td>5.0</td><td>25.0</td><td>5</td><td>Butters</td><td>Gerald</td><td>15.0</td><td>0</td></tr><tr><td>0</td><td>5</td><td>2012-07-20 14:00:00</td><td>3</td><td>Tennis Court 1</td><td>5.0</td><td>25.0</td><td>5</td><td>Butters</td><td>Gerald</td><td>15.0</td><td>0</td></tr><tr><td>0</td><td>5</td><td>2012-07-20 17:30:00</td><td>3</td><td>Tennis Court 1</td><td>5.0</td><td>25.0</td><td>5</td><td>Butters</td><td>Gerald</td><td>15.0</td><td>0</td></tr><tr><td>0</td><td>0</td><td>2012-07-20 19:00:00</td><td>3</td><td>Tennis Court 1</td><td>5.0</td><td>25.0</td><td>0</td><td>GUEST</td><td>GUEST</td><td>75.0</td><td>0</td></tr><tr><td>1</td><td>2</td><td>2012-07-20 08:30:00</td><td>3</td><td>Tennis Court 2</td><td>5.0</td><td>25.0</td><td>2</td><td>Smith</td><td>Tracy</td><td>15.0</td><td>0</td></tr><tr><td>1</td><td>3</td><td>2012-07-20 12:00:00</td><td>3</td><td>Tennis Court 2</td><td>5.0</td><td>25.0</td><td>3</td><td>Rownam</td><td>Tim</td><td>15.0</td><td>0</td></tr><tr><td>1</td><td>4</td><td>2012-07-20 13:30:00</td><td>3</td><td>Tennis Court 2</td><td>5.0</td><td>25.0</td><td>4</td><td>Joplette</td><td>Janice</td><td>15.0</td><td>0</td></tr><tr><td>2</td><td>1</td><td>2012-07-20 14:30:00</td><td>3</td><td>Badminton Court</td><td>0.0</td><td>15.5</td><td>1</td><td>Smith</td><td>Darren</td><td>0.0</td><td>0</td></tr><tr><td>3</td><td>3</td><td>2012-07-20 15:00:00</td><td>2</td><td>Table Tennis</td><td>0.0</td><td>5.0</td><td>3</td><td>Rownam</td><td>Tim</td><td>0.0</td><td>0</td></tr><tr><td>3</td><td>1</td><td>2012-07-20 17:30:00</td><td>2</td><td>Table Tennis</td><td>0.0</td><td>5.0</td><td>1</td><td>Smith</td><td>Darren</td><td>0.0</td><td>0</td></tr><tr><td>4</td><td>5</td><td>2012-07-20 08:00:00</td><td>2</td><td>Massage Room 1</td><td>9.9</td><td>80.0</td><td>5</td><td>Butters</td><td>Gerald</td><td>19.8</td><td>0</td></tr><tr><td>4</td><td>0</td><td>2012-07-20 13:00:00</td><td>2</td><td>Massage Room 1</td><td>9.9</td><td>80.0</td><td>0</td><td>GUEST</td><td>GUEST</td><td>160.0</td><td>0</td></tr><tr><td>4</td><td>1</td><td>2012-07-20 16:30:00</td><td>2</td><td>Massage Room 1</td><td>9.9</td><td>80.0</td><td>1</td><td>Smith</td><td>Darren</td><td>19.8</td><td>0</td></tr><tr><td>4</td><td>0</td><td>2012-07-20 17:30:00</td><td>2</td><td>Massage Room 1</td><td>9.9</td><td>80.0</td><td>0</td><td>GUEST</td><td>GUEST</td><td>160.0</td><td>0</td></tr><tr><td>4</td><td>3</td><td>2012-07-20 18:30:00</td><td>2</td><td>Massage Room 1</td><td>9.9</td><td>80.0</td><td>3</td><td>Rownam</td><td>Tim</td><td>19.8</td><td>0</td></tr><tr><td>6</td><td>0</td><td>2012-07-20 11:00:00</td><td>2</td><td>Squash Court</td><td>3.5</td><td>17.5</td><td>0</td><td>GUEST</td><td>GUEST</td><td>35.0</td><td>0</td></tr><tr><td>6</td><td>4</td><td>2012-07-20 12:30:00</td><td>2</td><td>Squash Court</td><td>3.5</td><td>17.5</td><td>4</td><td>Joplette</td><td>Janice</td><td>7.0</td><td>0</td></tr><tr><td>6</td><td>2</td><td>2012-07-20 15:00:00</td><td>2</td><td>Squash Court</td><td>3.5</td><td>17.5</td><td>2</td><td>Smith</td><td>Tracy</td><td>7.0</td><td>0</td></tr><tr><td>6</td><td>0</td><td>2012-07-20 16:00:00</td><td>4</td><td>Squash Court</td><td>3.5</td><td>17.5</td><td>0</td><td>GUEST</td><td>GUEST</td><td>70.0</td><td>0</td></tr><tr><td>7</td><td>2</td><td>2012-07-20 12:30:00</td><td>2</td><td>Snooker Table</td><td>0.0</td><td>5.0</td><td>2</td><td>Smith</td><td>Tracy</td><td>0.0</td><td>0</td></tr><tr><td>7</td><td>2</td><td>2012-07-20 16:00:00</td><td>2</td><td>Snooker Table</td><td>0.0</td><td>5.0</td><td>2</td><td>Smith</td><td>Tracy</td><td>0.0</td><td>0</td></tr><tr><td>7</td><td>4</td><td>2012-07-20 19:30:00</td><td>2</td><td>Snooker Table</td><td>0.0</td><td>5.0</td><td>4</td><td>Joplette</td><td>Janice</td><td>0.0</td><td>0</td></tr><tr><td>8</td><td>1</td><td>2012-07-20 09:00:00</td><td>1</td><td>Pool Table</td><td>0.0</td><td>5.0</td><td>1</td><td>Smith</td><td>Darren</td><td>0.0</td><td>0</td></tr><tr><td>8</td><td>2</td><td>2012-07-20 12:00:00</td><td>1</td><td>Pool Table</td><td>0.0</td><td>5.0</td><td>2</td><td>Smith</td><td>Tracy</td><td>0.0</td><td>0</td></tr><tr><td>8</td><td>3</td><td>2012-07-20 19:30:00</td><td>1</td><td>Pool Table</td><td>0.0</td><td>5.0</td><td>3</td><td>Rownam</td><td>Tim</td><td>0.0</td><td>0</td></tr><tr><td>0</td><td>0</td><td>2012-07-21 08:00:00</td><td>3</td><td>Tennis Court 1</td><td>5.0</td><td>25.0</td><td>0</td><td>GUEST</td><td>GUEST</td><td>75.0</td><td>0</td></tr><tr><td>0</td><td>5</td><td>2012-07-21 11:00:00</td><td>3</td><td>Tennis Court 1</td><td>5.0</td><td>25.0</td><td>5</td><td>Butters</td><td>Gerald</td><td>15.0</td><td>0</td></tr><tr><td>0</td><td>5</td><td>2012-07-21 13:30:00</td><td>3</td><td>Tennis Court 1</td><td>5.0</td><td>25.0</td><td>5</td><td>Butters</td><td>Gerald</td><td>15.0</td><td>0</td></tr><tr><td>0</td><td>4</td><td>2012-07-21 15:30:00</td><td>3</td><td>Tennis Court 1</td><td>5.0</td><td>25.0</td><td>4</td><td>Joplette</td><td>Janice</td><td>15.0</td><td>0</td></tr><tr><td>1</td><td>1</td><td>2012-07-21 09:30:00</td><td>3</td><td>Tennis Court 2</td><td>5.0</td><td>25.0</td><td>1</td><td>Smith</td><td>Darren</td><td>15.0</td><td>0</td></tr><tr><td>1</td><td>0</td><td>2012-07-21 11:00:00</td><td>3</td><td>Tennis Court 2</td><td>5.0</td><td>25.0</td><td>0</td><td>GUEST</td><td>GUEST</td><td>75.0</td><td>0</td></tr><tr><td>2</td><td>0</td><td>2012-07-21 10:30:00</td><td>3</td><td>Badminton Court</td><td>0.0</td><td>15.5</td><td>0</td><td>GUEST</td><td>GUEST</td><td>46.5</td><td>0</td></tr><tr><td>2</td><td>1</td><td>2012-07-21 13:30:00</td><td>3</td><td>Badminton Court</td><td>0.0</td><td>15.5</td><td>1</td><td>Smith</td><td>Darren</td><td>0.0</td><td>0</td></tr><tr><td>3</td><td>2</td><td>2012-07-21 08:00:00</td><td>2</td><td>Table Tennis</td><td>0.0</td><td>5.0</td><td>2</td><td>Smith</td><td>Tracy</td><td>0.0</td><td>0</td></tr><tr><td>4</td><td>0</td><td>2012-07-21 09:00:00</td><td>2</td><td>Massage Room 1</td><td>9.9</td><td>80.0</td><td>0</td><td>GUEST</td><td>GUEST</td><td>160.0</td><td>0</td></tr><tr><td>4</td><td>3</td><td>2012-07-21 10:30:00</td><td>2</td><td>Massage Room 1</td><td>9.9</td><td>80.0</td><td>3</td><td>Rownam</td><td>Tim</td><td>19.8</td><td>0</td></tr><tr><td>4</td><td>0</td><td>2012-07-21 14:00:00</td><td>4</td><td>Massage Room 1</td><td>9.9</td><td>80.0</td><td>0</td><td>GUEST</td><td>GUEST</td><td>320.0</td><td>0</td></tr><tr><td>4</td><td>3</td><td>2012-07-21 16:00:00</td><td>2</td><td>Massage Room 1</td><td>9.9</td><td>80.0</td><td>3</td><td>Rownam</td><td>Tim</td><td>19.8</td><td>0</td></tr><tr><td>4</td><td>1</td><td>2012-07-21 17:00:00</td><td>2</td><td>Massage Room 1</td><td>9.9</td><td>80.0</td><td>1</td><td>Smith</td><td>Darren</td><td>19.8</td><td>0</td></tr><tr><td>4</td><td>0</td><td>2012-07-21 19:00:00</td><td>2</td><td>Massage Room 1</td><td>9.9</td><td>80.0</td><td>0</td><td>GUEST</td><td>GUEST</td><td>160.0</td><td>0</td></tr><tr><td>6</td><td>4</td><td>2012-07-21 08:00:00</td><td>2</td><td>Squash Court</td><td>3.5</td><td>17.5</td><td>4</td><td>Joplette</td><td>Janice</td><td>7.0</td><td>0</td></tr><tr><td>6</td><td>0</td><td>2012-07-21 09:30:00</td><td>2</td><td>Squash Court</td><td>3.5</td><td>17.5</td><td>0</td><td>GUEST</td><td>GUEST</td><td>35.0</td><td>0</td></tr><tr><td>6</td><td>0</td><td>2012-07-21 12:00:00</td><td>2</td><td>Squash Court</td><td>3.5</td><td>17.5</td><td>0</td><td>GUEST</td><td>GUEST</td><td>35.0</td><td>0</td></tr><tr><td>8</td><td>3</td><td>2012-07-21 09:30:00</td><td>1</td><td>Pool Table</td><td>0.0</td><td>5.0</td><td>3</td><td>Rownam</td><td>Tim</td><td>0.0</td><td>0</td></tr><tr><td>8</td><td>3</td><td>2012-07-21 11:30:00</td><td>1</td><td>Pool Table</td><td>0.0</td><td>5.0</td><td>3</td><td>Rownam</td><td>Tim</td><td>0.0</td><td>0</td></tr><tr><td>8</td><td>3</td><td>2012-07-21 18:00:00</td><td>2</td><td>Pool Table</td><td>0.0</td><td>5.0</td><td>3</td><td>Rownam</td><td>Tim</td><td>0.0</td><td>0</td></tr><tr><td>8</td><td>3</td><td>2012-07-21 19:30:00</td><td>1</td><td>Pool Table</td><td>0.0</td><td>5.0</td><td>3</td><td>Rownam</td><td>Tim</td><td>0.0</td><td>0</td></tr><tr><td>0</td><td>5</td><td>2012-07-22 10:00:00</td><td>3</td><td>Tennis Court 1</td><td>5.0</td><td>25.0</td><td>5</td><td>Butters</td><td>Gerald</td><td>15.0</td><td>0</td></tr><tr><td>0</td><td>0</td><td>2012-07-22 16:00:00</td><td>3</td><td>Tennis Court 1</td><td>5.0</td><td>25.0</td><td>0</td><td>GUEST</td><td>GUEST</td><td>75.0</td><td>0</td></tr><tr><td>0</td><td>2</td><td>2012-07-22 18:00:00</td><td>3</td><td>Tennis Court 1</td><td>5.0</td><td>25.0</td><td>2</td><td>Smith</td><td>Tracy</td><td>15.0</td><td>0</td></tr><tr><td>1</td><td>0</td><td>2012-07-22 08:30:00</td><td>3</td><td>Tennis Court 2</td><td>5.0</td><td>25.0</td><td>0</td><td>GUEST</td><td>GUEST</td><td>75.0</td><td>0</td></tr><tr><td>1</td><td>0</td><td>2012-07-22 10:30:00</td><td>3</td><td>Tennis Court 2</td><td>5.0</td><td>25.0</td><td>0</td><td>GUEST</td><td>GUEST</td><td>75.0</td><td>0</td></tr><tr><td>1</td><td>5</td><td>2012-07-22 18:30:00</td><td>3</td><td>Tennis Court 2</td><td>5.0</td><td>25.0</td><td>5</td><td>Butters</td><td>Gerald</td><td>15.0</td><td>0</td></tr><tr><td>2</td><td>1</td><td>2012-07-22 08:30:00</td><td>3</td><td>Badminton Court</td><td>0.0</td><td>15.5</td><td>1</td><td>Smith</td><td>Darren</td><td>0.0</td><td>0</td></tr><tr><td>2</td><td>1</td><td>2012-07-22 13:30:00</td><td>3</td><td>Badminton Court</td><td>0.0</td><td>15.5</td><td>1</td><td>Smith</td><td>Darren</td><td>0.0</td><td>0</td></tr><tr><td>2</td><td>1</td><td>2012-07-22 16:30:00</td><td>3</td><td>Badminton Court</td><td>0.0</td><td>15.5</td><td>1</td><td>Smith</td><td>Darren</td><td>0.0</td><td>0</td></tr><tr><td>3</td><td>3</td><td>2012-07-22 11:30:00</td><td>2</td><td>Table Tennis</td><td>0.0</td><td>5.0</td><td>3</td><td>Rownam</td><td>Tim</td><td>0.0</td><td>0</td></tr><tr><td>3</td><td>2</td><td>2012-07-22 14:00:00</td><td>2</td><td>Table Tennis</td><td>0.0</td><td>5.0</td><td>2</td><td>Smith</td><td>Tracy</td><td>0.0</td><td>0</td></tr><tr><td>4</td><td>4</td><td>2012-07-22 08:00:00</td><td>2</td><td>Massage Room 1</td><td>9.9</td><td>80.0</td><td>4</td><td>Joplette</td><td>Janice</td><td>19.8</td><td>0</td></tr><tr><td>4</td><td>3</td><td>2012-07-22 10:30:00</td><td>2</td><td>Massage Room 1</td><td>9.9</td><td>80.0</td><td>3</td><td>Rownam</td><td>Tim</td><td>19.8</td><td>0</td></tr><tr><td>4</td><td>0</td><td>2012-07-22 12:00:00</td><td>2</td><td>Massage Room 1</td><td>9.9</td><td>80.0</td><td>0</td><td>GUEST</td><td>GUEST</td><td>160.0</td><td>0</td></tr><tr><td>4</td><td>5</td><td>2012-07-22 13:00:00</td><td>2</td><td>Massage Room 1</td><td>9.9</td><td>80.0</td><td>5</td><td>Butters</td><td>Gerald</td><td>19.8</td><td>0</td></tr><tr><td>4</td><td>0</td><td>2012-07-22 16:30:00</td><td>2</td><td>Massage Room 1</td><td>9.9</td><td>80.0</td><td>0</td><td>GUEST</td><td>GUEST</td><td>160.0</td><td>0</td></tr><tr><td>4</td><td>1</td><td>2012-07-22 18:00:00</td><td>2</td><td>Massage Room 1</td><td>9.9</td><td>80.0</td><td>1</td><td>Smith</td><td>Darren</td><td>19.8</td><td>0</td></tr><tr><td>4</td><td>3</td><td>2012-07-22 19:30:00</td><td>2</td><td>Massage Room 1</td><td>9.9</td><td>80.0</td><td>3</td><td>Rownam</td><td>Tim</td><td>19.8</td><td>0</td></tr><tr><td>6</td><td>4</td><td>2012-07-22 10:30:00</td><td>4</td><td>Squash Court</td><td>3.5</td><td>17.5</td><td>4</td><td>Joplette</td><td>Janice</td><td>14.0</td><td>0</td></tr><tr><td>6</td><td>0</td><td>2012-07-22 14:30:00</td><td>2</td><td>Squash Court</td><td>3.5</td><td>17.5</td><td>0</td><td>GUEST</td><td>GUEST</td><td>35.0</td><td>0</td></tr><tr><td>6</td><td>0</td><td>2012-07-22 16:30:00</td><td>2</td><td>Squash Court</td><td>3.5</td><td>17.5</td><td>0</td><td>GUEST</td><td>GUEST</td><td>35.0</td><td>0</td></tr><tr><td>7</td><td>2</td><td>2012-07-22 10:30:00</td><td>2</td><td>Snooker Table</td><td>0.0</td><td>5.0</td><td>2</td><td>Smith</td><td>Tracy</td><td>0.0</td><td>0</td></tr><tr><td>7</td><td>2</td><td>2012-07-22 12:00:00</td><td>2</td><td>Snooker Table</td><td>0.0</td><td>5.0</td><td>2</td><td>Smith</td><td>Tracy</td><td>0.0</td><td>0</td></tr><tr><td>8</td><td>3</td><td>2012-07-22 16:00:00</td><td>1</td><td>Pool Table</td><td>0.0</td><td>5.0</td><td>3</td><td>Rownam</td><td>Tim</td><td>0.0</td><td>0</td></tr><tr><td>8</td><td>3</td><td>2012-07-22 17:00:00</td><td>1</td><td>Pool Table</td><td>0.0</td><td>5.0</td><td>3</td><td>Rownam</td><td>Tim</td><td>0.0</td><td>0</td></tr><tr><td>8</td><td>2</td><td>2012-07-22 17:30:00</td><td>1</td><td>Pool Table</td><td>0.0</td><td>5.0</td><td>2</td><td>Smith</td><td>Tracy</td><td>0.0</td><td>0</td></tr><tr><td>0</td><td>0</td><td>2012-07-23 09:30:00</td><td>3</td><td>Tennis Court 1</td><td>5.0</td><td>25.0</td><td>0</td><td>GUEST</td><td>GUEST</td><td>75.0</td><td>0</td></tr><tr><td>0</td><td>0</td><td>2012-07-23 12:00:00</td><td>3</td><td>Tennis Court 1</td><td>5.0</td><td>25.0</td><td>0</td><td>GUEST</td><td>GUEST</td><td>75.0</td><td>0</td></tr><tr><td>0</td><td>5</td><td>2012-07-23 17:00:00</td><td>3</td><td>Tennis Court 1</td><td>5.0</td><td>25.0</td><td>5</td><td>Butters</td><td>Gerald</td><td>15.0</td><td>0</td></tr><tr><td>1</td><td>1</td><td>2012-07-23 10:00:00</td><td>3</td><td>Tennis Court 2</td><td>5.0</td><td>25.0</td><td>1</td><td>Smith</td><td>Darren</td><td>15.0</td><td>0</td></tr><tr><td>1</td><td>4</td><td>2012-07-23 12:30:00</td><td>3</td><td>Tennis Court 2</td><td>5.0</td><td>25.0</td><td>4</td><td>Joplette</td><td>Janice</td><td>15.0</td><td>0</td></tr><tr><td>1</td><td>4</td><td>2012-07-23 15:30:00</td><td>3</td><td>Tennis Court 2</td><td>5.0</td><td>25.0</td><td>4</td><td>Joplette</td><td>Janice</td><td>15.0</td><td>0</td></tr><tr><td>1</td><td>0</td><td>2012-07-23 17:00:00</td><td>3</td><td>Tennis Court 2</td><td>5.0</td><td>25.0</td><td>0</td><td>GUEST</td><td>GUEST</td><td>75.0</td><td>0</td></tr><tr><td>1</td><td>4</td><td>2012-07-23 19:00:00</td><td>3</td><td>Tennis Court 2</td><td>5.0</td><td>25.0</td><td>4</td><td>Joplette</td><td>Janice</td><td>15.0</td><td>0</td></tr><tr><td>2</td><td>1</td><td>2012-07-23 08:00:00</td><td>3</td><td>Badminton Court</td><td>0.0</td><td>15.5</td><td>1</td><td>Smith</td><td>Darren</td><td>0.0</td><td>0</td></tr><tr><td>2</td><td>5</td><td>2012-07-23 11:30:00</td><td>3</td><td>Badminton Court</td><td>0.0</td><td>15.5</td><td>5</td><td>Butters</td><td>Gerald</td><td>0.0</td><td>0</td></tr><tr><td>2</td><td>1</td><td>2012-07-23 13:00:00</td><td>3</td><td>Badminton Court</td><td>0.0</td><td>15.5</td><td>1</td><td>Smith</td><td>Darren</td><td>0.0</td><td>0</td></tr><tr><td>2</td><td>1</td><td>2012-07-23 15:00:00</td><td>3</td><td>Badminton Court</td><td>0.0</td><td>15.5</td><td>1</td><td>Smith</td><td>Darren</td><td>0.0</td><td>0</td></tr><tr><td>3</td><td>2</td><td>2012-07-23 09:30:00</td><td>2</td><td>Table Tennis</td><td>0.0</td><td>5.0</td><td>2</td><td>Smith</td><td>Tracy</td><td>0.0</td><td>0</td></tr><tr><td>3</td><td>2</td><td>2012-07-23 19:00:00</td><td>2</td><td>Table Tennis</td><td>0.0</td><td>5.0</td><td>2</td><td>Smith</td><td>Tracy</td><td>0.0</td><td>0</td></tr><tr><td>4</td><td>4</td><td>2012-07-23 10:00:00</td><td>2</td><td>Massage Room 1</td><td>9.9</td><td>80.0</td><td>4</td><td>Joplette</td><td>Janice</td><td>19.8</td><td>0</td></tr><tr><td>4</td><td>0</td><td>2012-07-23 16:30:00</td><td>2</td><td>Massage Room 1</td><td>9.9</td><td>80.0</td><td>0</td><td>GUEST</td><td>GUEST</td><td>160.0</td><td>0</td></tr><tr><td>4</td><td>3</td><td>2012-07-23 19:00:00</td><td>2</td><td>Massage Room 1</td><td>9.9</td><td>80.0</td><td>3</td><td>Rownam</td><td>Tim</td><td>19.8</td><td>0</td></tr><tr><td>5</td><td>3</td><td>2012-07-23 13:00:00</td><td>2</td><td>Massage Room 2</td><td>9.9</td><td>80.0</td><td>3</td><td>Rownam</td><td>Tim</td><td>19.8</td><td>0</td></tr><tr><td>6</td><td>0</td><td>2012-07-23 13:30:00</td><td>2</td><td>Squash Court</td><td>3.5</td><td>17.5</td><td>0</td><td>GUEST</td><td>GUEST</td><td>35.0</td><td>0</td></tr><tr><td>6</td><td>0</td><td>2012-07-23 15:00:00</td><td>4</td><td>Squash Court</td><td>3.5</td><td>17.5</td><td>0</td><td>GUEST</td><td>GUEST</td><td>70.0</td><td>0</td></tr><tr><td>6</td><td>0</td><td>2012-07-23 19:00:00</td><td>2</td><td>Squash Court</td><td>3.5</td><td>17.5</td><td>0</td><td>GUEST</td><td>GUEST</td><td>35.0</td><td>0</td></tr><tr><td>7</td><td>5</td><td>2012-07-23 16:00:00</td><td>2</td><td>Snooker Table</td><td>0.0</td><td>5.0</td><td>5</td><td>Butters</td><td>Gerald</td><td>0.0</td><td>0</td></tr><tr><td>7</td><td>4</td><td>2012-07-23 18:00:00</td><td>2</td><td>Snooker Table</td><td>0.0</td><td>5.0</td><td>4</td><td>Joplette</td><td>Janice</td><td>0.0</td><td>0</td></tr><tr><td>8</td><td>3</td><td>2012-07-23 08:30:00</td><td>3</td><td>Pool Table</td><td>0.0</td><td>5.0</td><td>3</td><td>Rownam</td><td>Tim</td><td>0.0</td><td>0</td></tr><tr><td>8</td><td>3</td><td>2012-07-23 11:00:00</td><td>1</td><td>Pool Table</td><td>0.0</td><td>5.0</td><td>3</td><td>Rownam</td><td>Tim</td><td>0.0</td><td>0</td></tr><tr><td>8</td><td>3</td><td>2012-07-23 14:00:00</td><td>2</td><td>Pool Table</td><td>0.0</td><td>5.0</td><td>3</td><td>Rownam</td><td>Tim</td><td>0.0</td><td>0</td></tr><tr><td>8</td><td>2</td><td>2012-07-23 15:00:00</td><td>1</td><td>Pool Table</td><td>0.0</td><td>5.0</td><td>2</td><td>Smith</td><td>Tracy</td><td>0.0</td><td>0</td></tr><tr><td>0</td><td>0</td><td>2012-07-24 11:00:00</td><td>3</td><td>Tennis Court 1</td><td>5.0</td><td>25.0</td><td>0</td><td>GUEST</td><td>GUEST</td><td>75.0</td><td>0</td></tr><tr><td>0</td><td>4</td><td>2012-07-24 13:00:00</td><td>3</td><td>Tennis Court 1</td><td>5.0</td><td>25.0</td><td>4</td><td>Joplette</td><td>Janice</td><td>15.0</td><td>0</td></tr><tr><td>0</td><td>5</td><td>2012-07-24 14:30:00</td><td>3</td><td>Tennis Court 1</td><td>5.0</td><td>25.0</td><td>5</td><td>Butters</td><td>Gerald</td><td>15.0</td><td>0</td></tr><tr><td>1</td><td>4</td><td>2012-07-24 11:00:00</td><td>3</td><td>Tennis Court 2</td><td>5.0</td><td>25.0</td><td>4</td><td>Joplette</td><td>Janice</td><td>15.0</td><td>0</td></tr><tr><td>1</td><td>0</td><td>2012-07-24 16:00:00</td><td>6</td><td>Tennis Court 2</td><td>5.0</td><td>25.0</td><td>0</td><td>GUEST</td><td>GUEST</td><td>150.0</td><td>0</td></tr><tr><td>1</td><td>1</td><td>2012-07-24 19:00:00</td><td>3</td><td>Tennis Court 2</td><td>5.0</td><td>25.0</td><td>1</td><td>Smith</td><td>Darren</td><td>15.0</td><td>0</td></tr><tr><td>2</td><td>1</td><td>2012-07-24 09:00:00</td><td>3</td><td>Badminton Court</td><td>0.0</td><td>15.5</td><td>1</td><td>Smith</td><td>Darren</td><td>0.0</td><td>0</td></tr><tr><td>2</td><td>2</td><td>2012-07-24 12:30:00</td><td>3</td><td>Badminton Court</td><td>0.0</td><td>15.5</td><td>2</td><td>Smith</td><td>Tracy</td><td>0.0</td><td>0</td></tr><tr><td>3</td><td>3</td><td>2012-07-24 09:00:00</td><td>2</td><td>Table Tennis</td><td>0.0</td><td>5.0</td><td>3</td><td>Rownam</td><td>Tim</td><td>0.0</td><td>0</td></tr><tr><td>3</td><td>3</td><td>2012-07-24 17:30:00</td><td>2</td><td>Table Tennis</td><td>0.0</td><td>5.0</td><td>3</td><td>Rownam</td><td>Tim</td><td>0.0</td><td>0</td></tr><tr><td>4</td><td>0</td><td>2012-07-24 08:30:00</td><td>2</td><td>Massage Room 1</td><td>9.9</td><td>80.0</td><td>0</td><td>GUEST</td><td>GUEST</td><td>160.0</td><td>0</td></tr><tr><td>4</td><td>5</td><td>2012-07-24 09:30:00</td><td>2</td><td>Massage Room 1</td><td>9.9</td><td>80.0</td><td>5</td><td>Butters</td><td>Gerald</td><td>19.8</td><td>0</td></tr><tr><td>4</td><td>0</td><td>2012-07-24 11:30:00</td><td>2</td><td>Massage Room 1</td><td>9.9</td><td>80.0</td><td>0</td><td>GUEST</td><td>GUEST</td><td>160.0</td><td>0</td></tr><tr><td>4</td><td>1</td><td>2012-07-24 14:30:00</td><td>2</td><td>Massage Room 1</td><td>9.9</td><td>80.0</td><td>1</td><td>Smith</td><td>Darren</td><td>19.8</td><td>0</td></tr><tr><td>4</td><td>0</td><td>2012-07-24 15:30:00</td><td>2</td><td>Massage Room 1</td><td>9.9</td><td>80.0</td><td>0</td><td>GUEST</td><td>GUEST</td><td>160.0</td><td>0</td></tr><tr><td>4</td><td>0</td><td>2012-07-24 17:30:00</td><td>2</td><td>Massage Room 1</td><td>9.9</td><td>80.0</td><td>0</td><td>GUEST</td><td>GUEST</td><td>160.0</td><td>0</td></tr><tr><td>4</td><td>0</td><td>2012-07-24 19:30:00</td><td>2</td><td>Massage Room 1</td><td>9.9</td><td>80.0</td><td>0</td><td>GUEST</td><td>GUEST</td><td>160.0</td><td>0</td></tr><tr><td>5</td><td>5</td><td>2012-07-24 16:30:00</td><td>2</td><td>Massage Room 2</td><td>9.9</td><td>80.0</td><td>5</td><td>Butters</td><td>Gerald</td><td>19.8</td><td>0</td></tr><tr><td>6</td><td>0</td><td>2012-07-24 09:30:00</td><td>2</td><td>Squash Court</td><td>3.5</td><td>17.5</td><td>0</td><td>GUEST</td><td>GUEST</td><td>35.0</td><td>0</td></tr><tr><td>6</td><td>0</td><td>2012-07-24 14:30:00</td><td>2</td><td>Squash Court</td><td>3.5</td><td>17.5</td><td>0</td><td>GUEST</td><td>GUEST</td><td>35.0</td><td>0</td></tr><tr><td>7</td><td>4</td><td>2012-07-24 09:30:00</td><td>2</td><td>Snooker Table</td><td>0.0</td><td>5.0</td><td>4</td><td>Joplette</td><td>Janice</td><td>0.0</td><td>0</td></tr><tr><td>7</td><td>5</td><td>2012-07-24 11:30:00</td><td>2</td><td>Snooker Table</td><td>0.0</td><td>5.0</td><td>5</td><td>Butters</td><td>Gerald</td><td>0.0</td><td>0</td></tr><tr><td>7</td><td>2</td><td>2012-07-24 16:30:00</td><td>2</td><td>Snooker Table</td><td>0.0</td><td>5.0</td><td>2</td><td>Smith</td><td>Tracy</td><td>0.0</td><td>0</td></tr><tr><td>7</td><td>4</td><td>2012-07-24 18:00:00</td><td>2</td><td>Snooker Table</td><td>0.0</td><td>5.0</td><td>4</td><td>Joplette</td><td>Janice</td><td>0.0</td><td>0</td></tr><tr><td>7</td><td>2</td><td>2012-07-24 19:30:00</td><td>2</td><td>Snooker Table</td><td>0.0</td><td>5.0</td><td>2</td><td>Smith</td><td>Tracy</td><td>0.0</td><td>0</td></tr><tr><td>8</td><td>3</td><td>2012-07-24 08:30:00</td><td>1</td><td>Pool Table</td><td>0.0</td><td>5.0</td><td>3</td><td>Rownam</td><td>Tim</td><td>0.0</td><td>0</td></tr><tr><td>8</td><td>3</td><td>2012-07-24 10:30:00</td><td>2</td><td>Pool Table</td><td>0.0</td><td>5.0</td><td>3</td><td>Rownam</td><td>Tim</td><td>0.0</td><td>0</td></tr><tr><td>8</td><td>3</td><td>2012-07-24 12:00:00</td><td>1</td><td>Pool Table</td><td>0.0</td><td>5.0</td><td>3</td><td>Rownam</td><td>Tim</td><td>0.0</td><td>0</td></tr><tr><td>8</td><td>3</td><td>2012-07-24 14:00:00</td><td>1</td><td>Pool Table</td><td>0.0</td><td>5.0</td><td>3</td><td>Rownam</td><td>Tim</td><td>0.0</td><td>0</td></tr><tr><td>8</td><td>0</td><td>2012-07-24 15:00:00</td><td>1</td><td>Pool Table</td><td>0.0</td><td>5.0</td><td>0</td><td>GUEST</td><td>GUEST</td><td>5.0</td><td>0</td></tr><tr><td>8</td><td>4</td><td>2012-07-24 16:30:00</td><td>1</td><td>Pool Table</td><td>0.0</td><td>5.0</td><td>4</td><td>Joplette</td><td>Janice</td><td>0.0</td><td>0</td></tr><tr><td>8</td><td>0</td><td>2012-07-24 20:00:00</td><td>1</td><td>Pool Table</td><td>0.0</td><td>5.0</td><td>0</td><td>GUEST</td><td>GUEST</td><td>5.0</td><td>0</td></tr><tr><td>0</td><td>5</td><td>2012-07-25 08:00:00</td><td>3</td><td>Tennis Court 1</td><td>5.0</td><td>25.0</td><td>5</td><td>Butters</td><td>Gerald</td><td>15.0</td><td>0</td></tr><tr><td>0</td><td>0</td><td>2012-07-25 12:30:00</td><td>3</td><td>Tennis Court 1</td><td>5.0</td><td>25.0</td><td>0</td><td>GUEST</td><td>GUEST</td><td>75.0</td><td>0</td></tr><tr><td>0</td><td>0</td><td>2012-07-25 16:30:00</td><td>3</td><td>Tennis Court 1</td><td>5.0</td><td>25.0</td><td>0</td><td>GUEST</td><td>GUEST</td><td>75.0</td><td>0</td></tr><tr><td>1</td><td>1</td><td>2012-07-25 08:00:00</td><td>3</td><td>Tennis Court 2</td><td>5.0</td><td>25.0</td><td>1</td><td>Smith</td><td>Darren</td><td>15.0</td><td>0</td></tr><tr><td>1</td><td>0</td><td>2012-07-25 10:30:00</td><td>3</td><td>Tennis Court 2</td><td>5.0</td><td>25.0</td><td>0</td><td>GUEST</td><td>GUEST</td><td>75.0</td><td>0</td></tr><tr><td>1</td><td>4</td><td>2012-07-25 15:00:00</td><td>3</td><td>Tennis Court 2</td><td>5.0</td><td>25.0</td><td>4</td><td>Joplette</td><td>Janice</td><td>15.0</td><td>0</td></tr><tr><td>2</td><td>1</td><td>2012-07-25 13:30:00</td><td>3</td><td>Badminton Court</td><td>0.0</td><td>15.5</td><td>1</td><td>Smith</td><td>Darren</td><td>0.0</td><td>0</td></tr><tr><td>2</td><td>1</td><td>2012-07-25 17:30:00</td><td>3</td><td>Badminton Court</td><td>0.0</td><td>15.5</td><td>1</td><td>Smith</td><td>Darren</td><td>0.0</td><td>0</td></tr><tr><td>3</td><td>2</td><td>2012-07-25 10:00:00</td><td>2</td><td>Table Tennis</td><td>0.0</td><td>5.0</td><td>2</td><td>Smith</td><td>Tracy</td><td>0.0</td><td>0</td></tr><tr><td>3</td><td>3</td><td>2012-07-25 14:00:00</td><td>4</td><td>Table Tennis</td><td>0.0</td><td>5.0</td><td>3</td><td>Rownam</td><td>Tim</td><td>0.0</td><td>0</td></tr><tr><td>3</td><td>3</td><td>2012-07-25 17:00:00</td><td>2</td><td>Table Tennis</td><td>0.0</td><td>5.0</td><td>3</td><td>Rownam</td><td>Tim</td><td>0.0</td><td>0</td></tr><tr><td>3</td><td>2</td><td>2012-07-25 18:30:00</td><td>2</td><td>Table Tennis</td><td>0.0</td><td>5.0</td><td>2</td><td>Smith</td><td>Tracy</td><td>0.0</td><td>0</td></tr><tr><td>4</td><td>3</td><td>2012-07-25 08:30:00</td><td>2</td><td>Massage Room 1</td><td>9.9</td><td>80.0</td><td>3</td><td>Rownam</td><td>Tim</td><td>19.8</td><td>0</td></tr><tr><td>4</td><td>0</td><td>2012-07-25 09:30:00</td><td>4</td><td>Massage Room 1</td><td>9.9</td><td>80.0</td><td>0</td><td>GUEST</td><td>GUEST</td><td>320.0</td><td>0</td></tr><tr><td>4</td><td>3</td><td>2012-07-25 11:30:00</td><td>4</td><td>Massage Room 1</td><td>9.9</td><td>80.0</td><td>3</td><td>Rownam</td><td>Tim</td><td>39.6</td><td>0</td></tr><tr><td>4</td><td>5</td><td>2012-07-25 13:30:00</td><td>4</td><td>Massage Room 1</td><td>9.9</td><td>80.0</td><td>5</td><td>Butters</td><td>Gerald</td><td>39.6</td><td>0</td></tr><tr><td>4</td><td>3</td><td>2012-07-25 16:00:00</td><td>2</td><td>Massage Room 1</td><td>9.9</td><td>80.0</td><td>3</td><td>Rownam</td><td>Tim</td><td>19.8</td><td>0</td></tr><tr><td>4</td><td>3</td><td>2012-07-25 18:00:00</td><td>2</td><td>Massage Room 1</td><td>9.9</td><td>80.0</td><td>3</td><td>Rownam</td><td>Tim</td><td>19.8</td><td>0</td></tr><tr><td>4</td><td>3</td><td>2012-07-25 19:30:00</td><td>2</td><td>Massage Room 1</td><td>9.9</td><td>80.0</td><td>3</td><td>Rownam</td><td>Tim</td><td>19.8</td><td>0</td></tr><tr><td>5</td><td>0</td><td>2012-07-25 18:30:00</td><td>2</td><td>Massage Room 2</td><td>9.9</td><td>80.0</td><td>0</td><td>GUEST</td><td>GUEST</td><td>160.0</td><td>0</td></tr><tr><td>6</td><td>4</td><td>2012-07-25 08:30:00</td><td>2</td><td>Squash Court</td><td>3.5</td><td>17.5</td><td>4</td><td>Joplette</td><td>Janice</td><td>7.0</td><td>0</td></tr><tr><td>6</td><td>1</td><td>2012-07-25 09:30:00</td><td>2</td><td>Squash Court</td><td>3.5</td><td>17.5</td><td>1</td><td>Smith</td><td>Darren</td><td>7.0</td><td>0</td></tr><tr><td>6</td><td>0</td><td>2012-07-25 12:00:00</td><td>2</td><td>Squash Court</td><td>3.5</td><td>17.5</td><td>0</td><td>GUEST</td><td>GUEST</td><td>35.0</td><td>0</td></tr><tr><td>6</td><td>0</td><td>2012-07-25 13:30:00</td><td>2</td><td>Squash Court</td><td>3.5</td><td>17.5</td><td>0</td><td>GUEST</td><td>GUEST</td><td>35.0</td><td>0</td></tr><tr><td>6</td><td>0</td><td>2012-07-25 16:30:00</td><td>4</td><td>Squash Court</td><td>3.5</td><td>17.5</td><td>0</td><td>GUEST</td><td>GUEST</td><td>70.0</td><td>0</td></tr><tr><td>6</td><td>5</td><td>2012-07-25 19:00:00</td><td>2</td><td>Squash Court</td><td>3.5</td><td>17.5</td><td>5</td><td>Butters</td><td>Gerald</td><td>7.0</td><td>0</td></tr><tr><td>7</td><td>5</td><td>2012-07-25 10:30:00</td><td>2</td><td>Snooker Table</td><td>0.0</td><td>5.0</td><td>5</td><td>Butters</td><td>Gerald</td><td>0.0</td><td>0</td></tr><tr><td>7</td><td>2</td><td>2012-07-25 14:00:00</td><td>2</td><td>Snooker Table</td><td>0.0</td><td>5.0</td><td>2</td><td>Smith</td><td>Tracy</td><td>0.0</td><td>0</td></tr><tr><td>7</td><td>2</td><td>2012-07-25 16:00:00</td><td>2</td><td>Snooker Table</td><td>0.0</td><td>5.0</td><td>2</td><td>Smith</td><td>Tracy</td><td>0.0</td><td>0</td></tr><tr><td>8</td><td>3</td><td>2012-07-25 08:00:00</td><td>1</td><td>Pool Table</td><td>0.0</td><td>5.0</td><td>3</td><td>Rownam</td><td>Tim</td><td>0.0</td><td>0</td></tr><tr><td>8</td><td>3</td><td>2012-07-25 10:00:00</td><td>1</td><td>Pool Table</td><td>0.0</td><td>5.0</td><td>3</td><td>Rownam</td><td>Tim</td><td>0.0</td><td>0</td></tr><tr><td>8</td><td>4</td><td>2012-07-25 14:30:00</td><td>1</td><td>Pool Table</td><td>0.0</td><td>5.0</td><td>4</td><td>Joplette</td><td>Janice</td><td>0.0</td><td>0</td></tr><tr><td>8</td><td>1</td><td>2012-07-25 16:00:00</td><td>1</td><td>Pool Table</td><td>0.0</td><td>5.0</td><td>1</td><td>Smith</td><td>Darren</td><td>0.0</td><td>0</td></tr><tr><td>8</td><td>2</td><td>2012-07-25 20:00:00</td><td>1</td><td>Pool Table</td><td>0.0</td><td>5.0</td><td>2</td><td>Smith</td><td>Tracy</td><td>0.0</td><td>0</td></tr><tr><td>0</td><td>4</td><td>2012-07-26 09:00:00</td><td>3</td><td>Tennis Court 1</td><td>5.0</td><td>25.0</td><td>4</td><td>Joplette</td><td>Janice</td><td>15.0</td><td>0</td></tr><tr><td>0</td><td>0</td><td>2012-07-26 11:30:00</td><td>3</td><td>Tennis Court 1</td><td>5.0</td><td>25.0</td><td>0</td><td>GUEST</td><td>GUEST</td><td>75.0</td><td>0</td></tr><tr><td>0</td><td>4</td><td>2012-07-26 18:00:00</td><td>3</td><td>Tennis Court 1</td><td>5.0</td><td>25.0</td><td>4</td><td>Joplette</td><td>Janice</td><td>15.0</td><td>0</td></tr><tr><td>1</td><td>8</td><td>2012-07-26 08:00:00</td><td>3</td><td>Tennis Court 2</td><td>5.0</td><td>25.0</td><td>8</td><td>Boothe</td><td>Tim</td><td>15.0</td><td>0</td></tr><tr><td>1</td><td>8</td><td>2012-07-26 11:30:00</td><td>3</td><td>Tennis Court 2</td><td>5.0</td><td>25.0</td><td>8</td><td>Boothe</td><td>Tim</td><td>15.0</td><td>0</td></tr><tr><td>1</td><td>8</td><td>2012-07-26 13:30:00</td><td>3</td><td>Tennis Court 2</td><td>5.0</td><td>25.0</td><td>8</td><td>Boothe</td><td>Tim</td><td>15.0</td><td>0</td></tr><tr><td>1</td><td>1</td><td>2012-07-26 15:00:00</td><td>3</td><td>Tennis Court 2</td><td>5.0</td><td>25.0</td><td>1</td><td>Smith</td><td>Darren</td><td>15.0</td><td>0</td></tr><tr><td>1</td><td>0</td><td>2012-07-26 16:30:00</td><td>3</td><td>Tennis Court 2</td><td>5.0</td><td>25.0</td><td>0</td><td>GUEST</td><td>GUEST</td><td>75.0</td><td>0</td></tr><tr><td>1</td><td>6</td><td>2012-07-26 19:00:00</td><td>3</td><td>Tennis Court 2</td><td>5.0</td><td>25.0</td><td>6</td><td>Tracy</td><td>Burton</td><td>15.0</td><td>0</td></tr><tr><td>2</td><td>1</td><td>2012-07-26 08:30:00</td><td>3</td><td>Badminton Court</td><td>0.0</td><td>15.5</td><td>1</td><td>Smith</td><td>Darren</td><td>0.0</td><td>0</td></tr><tr><td>2</td><td>2</td><td>2012-07-26 11:00:00</td><td>6</td><td>Badminton Court</td><td>0.0</td><td>15.5</td><td>2</td><td>Smith</td><td>Tracy</td><td>0.0</td><td>0</td></tr><tr><td>2</td><td>7</td><td>2012-07-26 14:00:00</td><td>3</td><td>Badminton Court</td><td>0.0</td><td>15.5</td><td>7</td><td>Dare</td><td>Nancy</td><td>0.0</td><td>0</td></tr><tr><td>2</td><td>2</td><td>2012-07-26 17:00:00</td><td>3</td><td>Badminton Court</td><td>0.0</td><td>15.5</td><td>2</td><td>Smith</td><td>Tracy</td><td>0.0</td><td>0</td></tr><tr><td>2</td><td>3</td><td>2012-07-26 19:00:00</td><td>3</td><td>Badminton Court</td><td>0.0</td><td>15.5</td><td>3</td><td>Rownam</td><td>Tim</td><td>0.0</td><td>0</td></tr><tr><td>3</td><td>0</td><td>2012-07-26 09:00:00</td><td>2</td><td>Table Tennis</td><td>0.0</td><td>5.0</td><td>0</td><td>GUEST</td><td>GUEST</td><td>10.0</td><td>0</td></tr><tr><td>3</td><td>0</td><td>2012-07-26 13:30:00</td><td>2</td><td>Table Tennis</td><td>0.0</td><td>5.0</td><td>0</td><td>GUEST</td><td>GUEST</td><td>10.0</td><td>0</td></tr><tr><td>3</td><td>3</td><td>2012-07-26 16:00:00</td><td>2</td><td>Table Tennis</td><td>0.0</td><td>5.0</td><td>3</td><td>Rownam</td><td>Tim</td><td>0.0</td><td>0</td></tr><tr><td>4</td><td>3</td><td>2012-07-26 08:00:00</td><td>2</td><td>Massage Room 1</td><td>9.9</td><td>80.0</td><td>3</td><td>Rownam</td><td>Tim</td><td>19.8</td><td>0</td></tr><tr><td>4</td><td>6</td><td>2012-07-26 09:00:00</td><td>2</td><td>Massage Room 1</td><td>9.9</td><td>80.0</td><td>6</td><td>Tracy</td><td>Burton</td><td>19.8</td><td>0</td></tr><tr><td>4</td><td>0</td><td>2012-07-26 12:00:00</td><td>2</td><td>Massage Room 1</td><td>9.9</td><td>80.0</td><td>0</td><td>GUEST</td><td>GUEST</td><td>160.0</td><td>0</td></tr><tr><td>4</td><td>5</td><td>2012-07-26 13:30:00</td><td>2</td><td>Massage Room 1</td><td>9.9</td><td>80.0</td><td>5</td><td>Butters</td><td>Gerald</td><td>19.8</td><td>0</td></tr><tr><td>4</td><td>6</td><td>2012-07-26 16:00:00</td><td>2</td><td>Massage Room 1</td><td>9.9</td><td>80.0</td><td>6</td><td>Tracy</td><td>Burton</td><td>19.8</td><td>0</td></tr><tr><td>4</td><td>7</td><td>2012-07-26 17:30:00</td><td>2</td><td>Massage Room 1</td><td>9.9</td><td>80.0</td><td>7</td><td>Dare</td><td>Nancy</td><td>19.8</td><td>0</td></tr><tr><td>6</td><td>0</td><td>2012-07-26 10:00:00</td><td>4</td><td>Squash Court</td><td>3.5</td><td>17.5</td><td>0</td><td>GUEST</td><td>GUEST</td><td>70.0</td><td>0</td></tr><tr><td>6</td><td>0</td><td>2012-07-26 13:00:00</td><td>2</td><td>Squash Court</td><td>3.5</td><td>17.5</td><td>0</td><td>GUEST</td><td>GUEST</td><td>35.0</td><td>0</td></tr><tr><td>6</td><td>0</td><td>2012-07-26 19:00:00</td><td>2</td><td>Squash Court</td><td>3.5</td><td>17.5</td><td>0</td><td>GUEST</td><td>GUEST</td><td>35.0</td><td>0</td></tr><tr><td>7</td><td>7</td><td>2012-07-26 09:30:00</td><td>2</td><td>Snooker Table</td><td>0.0</td><td>5.0</td><td>7</td><td>Dare</td><td>Nancy</td><td>0.0</td><td>0</td></tr><tr><td>7</td><td>6</td><td>2012-07-26 11:00:00</td><td>2</td><td>Snooker Table</td><td>0.0</td><td>5.0</td><td>6</td><td>Tracy</td><td>Burton</td><td>0.0</td><td>0</td></tr><tr><td>7</td><td>5</td><td>2012-07-26 12:30:00</td><td>2</td><td>Snooker Table</td><td>0.0</td><td>5.0</td><td>5</td><td>Butters</td><td>Gerald</td><td>0.0</td><td>0</td></tr><tr><td>7</td><td>4</td><td>2012-07-26 13:30:00</td><td>2</td><td>Snooker Table</td><td>0.0</td><td>5.0</td><td>4</td><td>Joplette</td><td>Janice</td><td>0.0</td><td>0</td></tr><tr><td>7</td><td>5</td><td>2012-07-26 17:00:00</td><td>2</td><td>Snooker Table</td><td>0.0</td><td>5.0</td><td>5</td><td>Butters</td><td>Gerald</td><td>0.0</td><td>0</td></tr><tr><td>8</td><td>3</td><td>2012-07-26 12:00:00</td><td>1</td><td>Pool Table</td><td>0.0</td><td>5.0</td><td>3</td><td>Rownam</td><td>Tim</td><td>0.0</td><td>0</td></tr><tr><td>8</td><td>3</td><td>2012-07-26 13:30:00</td><td>1</td><td>Pool Table</td><td>0.0</td><td>5.0</td><td>3</td><td>Rownam</td><td>Tim</td><td>0.0</td><td>0</td></tr><tr><td>8</td><td>2</td><td>2012-07-26 15:00:00</td><td>1</td><td>Pool Table</td><td>0.0</td><td>5.0</td><td>2</td><td>Smith</td><td>Tracy</td><td>0.0</td><td>0</td></tr><tr><td>8</td><td>1</td><td>2012-07-26 16:30:00</td><td>1</td><td>Pool Table</td><td>0.0</td><td>5.0</td><td>1</td><td>Smith</td><td>Darren</td><td>0.0</td><td>0</td></tr><tr><td>8</td><td>3</td><td>2012-07-26 17:00:00</td><td>1</td><td>Pool Table</td><td>0.0</td><td>5.0</td><td>3</td><td>Rownam</td><td>Tim</td><td>0.0</td><td>0</td></tr><tr><td>0</td><td>4</td><td>2012-07-27 08:00:00</td><td>3</td><td>Tennis Court 1</td><td>5.0</td><td>25.0</td><td>4</td><td>Joplette</td><td>Janice</td><td>15.0</td><td>0</td></tr><tr><td>0</td><td>5</td><td>2012-07-27 11:00:00</td><td>3</td><td>Tennis Court 1</td><td>5.0</td><td>25.0</td><td>5</td><td>Butters</td><td>Gerald</td><td>15.0</td><td>0</td></tr><tr><td>0</td><td>6</td><td>2012-07-27 14:00:00</td><td>3</td><td>Tennis Court 1</td><td>5.0</td><td>25.0</td><td>6</td><td>Tracy</td><td>Burton</td><td>15.0</td><td>0</td></tr><tr><td>0</td><td>6</td><td>2012-07-27 17:30:00</td><td>3</td><td>Tennis Court 1</td><td>5.0</td><td>25.0</td><td>6</td><td>Tracy</td><td>Burton</td><td>15.0</td><td>0</td></tr><tr><td>1</td><td>0</td><td>2012-07-27 10:00:00</td><td>3</td><td>Tennis Court 2</td><td>5.0</td><td>25.0</td><td>0</td><td>GUEST</td><td>GUEST</td><td>75.0</td><td>0</td></tr><tr><td>1</td><td>7</td><td>2012-07-27 11:30:00</td><td>3</td><td>Tennis Court 2</td><td>5.0</td><td>25.0</td><td>7</td><td>Dare</td><td>Nancy</td><td>15.0</td><td>0</td></tr><tr><td>1</td><td>0</td><td>2012-07-27 13:00:00</td><td>3</td><td>Tennis Court 2</td><td>5.0</td><td>25.0</td><td>0</td><td>GUEST</td><td>GUEST</td><td>75.0</td><td>0</td></tr><tr><td>1</td><td>0</td><td>2012-07-27 15:00:00</td><td>3</td><td>Tennis Court 2</td><td>5.0</td><td>25.0</td><td>0</td><td>GUEST</td><td>GUEST</td><td>75.0</td><td>0</td></tr><tr><td>1</td><td>0</td><td>2012-07-27 18:00:00</td><td>3</td><td>Tennis Court 2</td><td>5.0</td><td>25.0</td><td>0</td><td>GUEST</td><td>GUEST</td><td>75.0</td><td>0</td></tr><tr><td>2</td><td>1</td><td>2012-07-27 12:00:00</td><td>6</td><td>Badminton Court</td><td>0.0</td><td>15.5</td><td>1</td><td>Smith</td><td>Darren</td><td>0.0</td><td>0</td></tr><tr><td>3</td><td>0</td><td>2012-07-27 10:30:00</td><td>2</td><td>Table Tennis</td><td>0.0</td><td>5.0</td><td>0</td><td>GUEST</td><td>GUEST</td><td>10.0</td><td>0</td></tr><tr><td>3</td><td>2</td><td>2012-07-27 14:00:00</td><td>2</td><td>Table Tennis</td><td>0.0</td><td>5.0</td><td>2</td><td>Smith</td><td>Tracy</td><td>0.0</td><td>0</td></tr><tr><td>3</td><td>3</td><td>2012-07-27 19:00:00</td><td>2</td><td>Table Tennis</td><td>0.0</td><td>5.0</td><td>3</td><td>Rownam</td><td>Tim</td><td>0.0</td><td>0</td></tr><tr><td>4</td><td>1</td><td>2012-07-27 10:00:00</td><td>4</td><td>Massage Room 1</td><td>9.9</td><td>80.0</td><td>1</td><td>Smith</td><td>Darren</td><td>39.6</td><td>0</td></tr><tr><td>4</td><td>6</td><td>2012-07-27 12:30:00</td><td>2</td><td>Massage Room 1</td><td>9.9</td><td>80.0</td><td>6</td><td>Tracy</td><td>Burton</td><td>19.8</td><td>0</td></tr><tr><td>4</td><td>0</td><td>2012-07-27 14:00:00</td><td>4</td><td>Massage Room 1</td><td>9.9</td><td>80.0</td><td>0</td><td>GUEST</td><td>GUEST</td><td>320.0</td><td>0</td></tr><tr><td>4</td><td>0</td><td>2012-07-27 16:30:00</td><td>2</td><td>Massage Room 1</td><td>9.9</td><td>80.0</td><td>0</td><td>GUEST</td><td>GUEST</td><td>160.0</td><td>0</td></tr><tr><td>4</td><td>1</td><td>2012-07-27 17:30:00</td><td>2</td><td>Massage Room 1</td><td>9.9</td><td>80.0</td><td>1</td><td>Smith</td><td>Darren</td><td>19.8</td><td>0</td></tr><tr><td>4</td><td>0</td><td>2012-07-27 18:30:00</td><td>2</td><td>Massage Room 1</td><td>9.9</td><td>80.0</td><td>0</td><td>GUEST</td><td>GUEST</td><td>160.0</td><td>0</td></tr><tr><td>5</td><td>7</td><td>2012-07-27 18:00:00</td><td>2</td><td>Massage Room 2</td><td>9.9</td><td>80.0</td><td>7</td><td>Dare</td><td>Nancy</td><td>19.8</td><td>0</td></tr><tr><td>6</td><td>0</td><td>2012-07-27 09:00:00</td><td>2</td><td>Squash Court</td><td>3.5</td><td>17.5</td><td>0</td><td>GUEST</td><td>GUEST</td><td>35.0</td><td>0</td></tr><tr><td>6</td><td>5</td><td>2012-07-27 14:00:00</td><td>2</td><td>Squash Court</td><td>3.5</td><td>17.5</td><td>5</td><td>Butters</td><td>Gerald</td><td>7.0</td><td>0</td></tr><tr><td>6</td><td>8</td><td>2012-07-27 16:30:00</td><td>2</td><td>Squash Court</td><td>3.5</td><td>17.5</td><td>8</td><td>Boothe</td><td>Tim</td><td>7.0</td><td>0</td></tr><tr><td>7</td><td>2</td><td>2012-07-27 18:00:00</td><td>2</td><td>Snooker Table</td><td>0.0</td><td>5.0</td><td>2</td><td>Smith</td><td>Tracy</td><td>0.0</td><td>0</td></tr><tr><td>7</td><td>4</td><td>2012-07-27 19:00:00</td><td>2</td><td>Snooker Table</td><td>0.0</td><td>5.0</td><td>4</td><td>Joplette</td><td>Janice</td><td>0.0</td><td>0</td></tr><tr><td>8</td><td>3</td><td>2012-07-27 09:00:00</td><td>1</td><td>Pool Table</td><td>0.0</td><td>5.0</td><td>3</td><td>Rownam</td><td>Tim</td><td>0.0</td><td>0</td></tr><tr><td>8</td><td>3</td><td>2012-07-27 12:30:00</td><td>1</td><td>Pool Table</td><td>0.0</td><td>5.0</td><td>3</td><td>Rownam</td><td>Tim</td><td>0.0</td><td>0</td></tr><tr><td>8</td><td>3</td><td>2012-07-27 16:00:00</td><td>1</td><td>Pool Table</td><td>0.0</td><td>5.0</td><td>3</td><td>Rownam</td><td>Tim</td><td>0.0</td><td>0</td></tr><tr><td>8</td><td>6</td><td>2012-07-27 16:30:00</td><td>1</td><td>Pool Table</td><td>0.0</td><td>5.0</td><td>6</td><td>Tracy</td><td>Burton</td><td>0.0</td><td>0</td></tr><tr><td>8</td><td>0</td><td>2012-07-27 18:30:00</td><td>1</td><td>Pool Table</td><td>0.0</td><td>5.0</td><td>0</td><td>GUEST</td><td>GUEST</td><td>5.0</td><td>0</td></tr><tr><td>0</td><td>7</td><td>2012-07-28 08:00:00</td><td>9</td><td>Tennis Court 1</td><td>5.0</td><td>25.0</td><td>7</td><td>Dare</td><td>Nancy</td><td>45.0</td><td>0</td></tr><tr><td>0</td><td>4</td><td>2012-07-28 13:00:00</td><td>3</td><td>Tennis Court 1</td><td>5.0</td><td>25.0</td><td>4</td><td>Joplette</td><td>Janice</td><td>15.0</td><td>0</td></tr><tr><td>0</td><td>5</td><td>2012-07-28 15:00:00</td><td>3</td><td>Tennis Court 1</td><td>5.0</td><td>25.0</td><td>5</td><td>Butters</td><td>Gerald</td><td>15.0</td><td>0</td></tr><tr><td>0</td><td>2</td><td>2012-07-28 19:00:00</td><td>3</td><td>Tennis Court 1</td><td>5.0</td><td>25.0</td><td>2</td><td>Smith</td><td>Tracy</td><td>15.0</td><td>0</td></tr><tr><td>1</td><td>1</td><td>2012-07-28 08:00:00</td><td>3</td><td>Tennis Court 2</td><td>5.0</td><td>25.0</td><td>1</td><td>Smith</td><td>Darren</td><td>15.0</td><td>0</td></tr><tr><td>1</td><td>0</td><td>2012-07-28 10:00:00</td><td>3</td><td>Tennis Court 2</td><td>5.0</td><td>25.0</td><td>0</td><td>GUEST</td><td>GUEST</td><td>75.0</td><td>0</td></tr><tr><td>1</td><td>0</td><td>2012-07-28 16:00:00</td><td>3</td><td>Tennis Court 2</td><td>5.0</td><td>25.0</td><td>0</td><td>GUEST</td><td>GUEST</td><td>75.0</td><td>0</td></tr><tr><td>1</td><td>7</td><td>2012-07-28 17:30:00</td><td>3</td><td>Tennis Court 2</td><td>5.0</td><td>25.0</td><td>7</td><td>Dare</td><td>Nancy</td><td>15.0</td><td>0</td></tr><tr><td>2</td><td>1</td><td>2012-07-28 10:00:00</td><td>3</td><td>Badminton Court</td><td>0.0</td><td>15.5</td><td>1</td><td>Smith</td><td>Darren</td><td>0.0</td><td>0</td></tr><tr><td>2</td><td>1</td><td>2012-07-28 14:00:00</td><td>3</td><td>Badminton Court</td><td>0.0</td><td>15.5</td><td>1</td><td>Smith</td><td>Darren</td><td>0.0</td><td>0</td></tr><tr><td>2</td><td>1</td><td>2012-07-28 17:00:00</td><td>3</td><td>Badminton Court</td><td>0.0</td><td>15.5</td><td>1</td><td>Smith</td><td>Darren</td><td>0.0</td><td>0</td></tr><tr><td>2</td><td>5</td><td>2012-07-28 18:30:00</td><td>3</td><td>Badminton Court</td><td>0.0</td><td>15.5</td><td>5</td><td>Butters</td><td>Gerald</td><td>0.0</td><td>0</td></tr><tr><td>3</td><td>3</td><td>2012-07-28 08:30:00</td><td>2</td><td>Table Tennis</td><td>0.0</td><td>5.0</td><td>3</td><td>Rownam</td><td>Tim</td><td>0.0</td><td>0</td></tr><tr><td>3</td><td>3</td><td>2012-07-28 15:30:00</td><td>2</td><td>Table Tennis</td><td>0.0</td><td>5.0</td><td>3</td><td>Rownam</td><td>Tim</td><td>0.0</td><td>0</td></tr><tr><td>4</td><td>0</td><td>2012-07-28 09:00:00</td><td>2</td><td>Massage Room 1</td><td>9.9</td><td>80.0</td><td>0</td><td>GUEST</td><td>GUEST</td><td>160.0</td><td>0</td></tr><tr><td>4</td><td>3</td><td>2012-07-28 10:30:00</td><td>4</td><td>Massage Room 1</td><td>9.9</td><td>80.0</td><td>3</td><td>Rownam</td><td>Tim</td><td>39.6</td><td>0</td></tr><tr><td>4</td><td>0</td><td>2012-07-28 12:30:00</td><td>2</td><td>Massage Room 1</td><td>9.9</td><td>80.0</td><td>0</td><td>GUEST</td><td>GUEST</td><td>160.0</td><td>0</td></tr><tr><td>4</td><td>8</td><td>2012-07-28 16:00:00</td><td>2</td><td>Massage Room 1</td><td>9.9</td><td>80.0</td><td>8</td><td>Boothe</td><td>Tim</td><td>19.8</td><td>0</td></tr><tr><td>4</td><td>0</td><td>2012-07-28 19:00:00</td><td>2</td><td>Massage Room 1</td><td>9.9</td><td>80.0</td><td>0</td><td>GUEST</td><td>GUEST</td><td>160.0</td><td>0</td></tr><tr><td>5</td><td>0</td><td>2012-07-28 18:00:00</td><td>2</td><td>Massage Room 2</td><td>9.9</td><td>80.0</td><td>0</td><td>GUEST</td><td>GUEST</td><td>160.0</td><td>0</td></tr><tr><td>6</td><td>0</td><td>2012-07-28 17:00:00</td><td>2</td><td>Squash Court</td><td>3.5</td><td>17.5</td><td>0</td><td>GUEST</td><td>GUEST</td><td>35.0</td><td>0</td></tr><tr><td>6</td><td>0</td><td>2012-07-28 18:30:00</td><td>2</td><td>Squash Court</td><td>3.5</td><td>17.5</td><td>0</td><td>GUEST</td><td>GUEST</td><td>35.0</td><td>0</td></tr><tr><td>7</td><td>2</td><td>2012-07-28 09:00:00</td><td>2</td><td>Snooker Table</td><td>0.0</td><td>5.0</td><td>2</td><td>Smith</td><td>Tracy</td><td>0.0</td><td>0</td></tr><tr><td>7</td><td>5</td><td>2012-07-28 10:00:00</td><td>2</td><td>Snooker Table</td><td>0.0</td><td>5.0</td><td>5</td><td>Butters</td><td>Gerald</td><td>0.0</td><td>0</td></tr><tr><td>7</td><td>6</td><td>2012-07-28 12:30:00</td><td>2</td><td>Snooker Table</td><td>0.0</td><td>5.0</td><td>6</td><td>Tracy</td><td>Burton</td><td>0.0</td><td>0</td></tr><tr><td>7</td><td>8</td><td>2012-07-28 17:00:00</td><td>4</td><td>Snooker Table</td><td>0.0</td><td>5.0</td><td>8</td><td>Boothe</td><td>Tim</td><td>0.0</td><td>0</td></tr><tr><td>8</td><td>2</td><td>2012-07-28 16:00:00</td><td>1</td><td>Pool Table</td><td>0.0</td><td>5.0</td><td>2</td><td>Smith</td><td>Tracy</td><td>0.0</td><td>0</td></tr><tr><td>8</td><td>3</td><td>2012-07-28 16:30:00</td><td>1</td><td>Pool Table</td><td>0.0</td><td>5.0</td><td>3</td><td>Rownam</td><td>Tim</td><td>0.0</td><td>0</td></tr><tr><td>8</td><td>4</td><td>2012-07-28 19:00:00</td><td>1</td><td>Pool Table</td><td>0.0</td><td>5.0</td><td>4</td><td>Joplette</td><td>Janice</td><td>0.0</td><td>0</td></tr><tr><td>0</td><td>7</td><td>2012-07-29 09:30:00</td><td>3</td><td>Tennis Court 1</td><td>5.0</td><td>25.0</td><td>7</td><td>Dare</td><td>Nancy</td><td>15.0</td><td>0</td></tr><tr><td>0</td><td>2</td><td>2012-07-29 11:00:00</td><td>3</td><td>Tennis Court 1</td><td>5.0</td><td>25.0</td><td>2</td><td>Smith</td><td>Tracy</td><td>15.0</td><td>0</td></tr><tr><td>0</td><td>6</td><td>2012-07-29 13:00:00</td><td>3</td><td>Tennis Court 1</td><td>5.0</td><td>25.0</td><td>6</td><td>Tracy</td><td>Burton</td><td>15.0</td><td>0</td></tr><tr><td>0</td><td>5</td><td>2012-07-29 15:00:00</td><td>3</td><td>Tennis Court 1</td><td>5.0</td><td>25.0</td><td>5</td><td>Butters</td><td>Gerald</td><td>15.0</td><td>0</td></tr><tr><td>0</td><td>0</td><td>2012-07-29 17:00:00</td><td>3</td><td>Tennis Court 1</td><td>5.0</td><td>25.0</td><td>0</td><td>GUEST</td><td>GUEST</td><td>75.0</td><td>0</td></tr><tr><td>1</td><td>8</td><td>2012-07-29 09:30:00</td><td>3</td><td>Tennis Court 2</td><td>5.0</td><td>25.0</td><td>8</td><td>Boothe</td><td>Tim</td><td>15.0</td><td>0</td></tr><tr><td>1</td><td>0</td><td>2012-07-29 15:00:00</td><td>3</td><td>Tennis Court 2</td><td>5.0</td><td>25.0</td><td>0</td><td>GUEST</td><td>GUEST</td><td>75.0</td><td>0</td></tr><tr><td>1</td><td>8</td><td>2012-07-29 16:30:00</td><td>3</td><td>Tennis Court 2</td><td>5.0</td><td>25.0</td><td>8</td><td>Boothe</td><td>Tim</td><td>15.0</td><td>0</td></tr><tr><td>2</td><td>1</td><td>2012-07-29 08:30:00</td><td>3</td><td>Badminton Court</td><td>0.0</td><td>15.5</td><td>1</td><td>Smith</td><td>Darren</td><td>0.0</td><td>0</td></tr><tr><td>2</td><td>1</td><td>2012-07-29 12:00:00</td><td>6</td><td>Badminton Court</td><td>0.0</td><td>15.5</td><td>1</td><td>Smith</td><td>Darren</td><td>0.0</td><td>0</td></tr><tr><td>2</td><td>1</td><td>2012-07-29 15:30:00</td><td>3</td><td>Badminton Court</td><td>0.0</td><td>15.5</td><td>1</td><td>Smith</td><td>Darren</td><td>0.0</td><td>0</td></tr><tr><td>4</td><td>3</td><td>2012-07-29 08:00:00</td><td>2</td><td>Massage Room 1</td><td>9.9</td><td>80.0</td><td>3</td><td>Rownam</td><td>Tim</td><td>19.8</td><td>0</td></tr><tr><td>4</td><td>0</td><td>2012-07-29 09:00:00</td><td>2</td><td>Massage Room 1</td><td>9.9</td><td>80.0</td><td>0</td><td>GUEST</td><td>GUEST</td><td>160.0</td><td>0</td></tr><tr><td>4</td><td>3</td><td>2012-07-29 10:30:00</td><td>2</td><td>Massage Room 1</td><td>9.9</td><td>80.0</td><td>3</td><td>Rownam</td><td>Tim</td><td>19.8</td><td>0</td></tr><tr><td>4</td><td>8</td><td>2012-07-29 11:30:00</td><td>4</td><td>Massage Room 1</td><td>9.9</td><td>80.0</td><td>8</td><td>Boothe</td><td>Tim</td><td>39.6</td><td>0</td></tr><tr><td>4</td><td>8</td><td>2012-07-29 15:00:00</td><td>2</td><td>Massage Room 1</td><td>9.9</td><td>80.0</td><td>8</td><td>Boothe</td><td>Tim</td><td>19.8</td><td>0</td></tr><tr><td>4</td><td>0</td><td>2012-07-29 18:30:00</td><td>2</td><td>Massage Room 1</td><td>9.9</td><td>80.0</td><td>0</td><td>GUEST</td><td>GUEST</td><td>160.0</td><td>0</td></tr><tr><td>6</td><td>0</td><td>2012-07-29 09:00:00</td><td>2</td><td>Squash Court</td><td>3.5</td><td>17.5</td><td>0</td><td>GUEST</td><td>GUEST</td><td>35.0</td><td>0</td></tr><tr><td>6</td><td>0</td><td>2012-07-29 10:30:00</td><td>2</td><td>Squash Court</td><td>3.5</td><td>17.5</td><td>0</td><td>GUEST</td><td>GUEST</td><td>35.0</td><td>0</td></tr><tr><td>6</td><td>6</td><td>2012-07-29 17:30:00</td><td>4</td><td>Squash Court</td><td>3.5</td><td>17.5</td><td>6</td><td>Tracy</td><td>Burton</td><td>14.0</td><td>0</td></tr><tr><td>7</td><td>4</td><td>2012-07-29 16:00:00</td><td>2</td><td>Snooker Table</td><td>0.0</td><td>5.0</td><td>4</td><td>Joplette</td><td>Janice</td><td>0.0</td><td>0</td></tr><tr><td>7</td><td>8</td><td>2012-07-29 18:30:00</td><td>2</td><td>Snooker Table</td><td>0.0</td><td>5.0</td><td>8</td><td>Boothe</td><td>Tim</td><td>0.0</td><td>0</td></tr><tr><td>8</td><td>3</td><td>2012-07-29 12:30:00</td><td>1</td><td>Pool Table</td><td>0.0</td><td>5.0</td><td>3</td><td>Rownam</td><td>Tim</td><td>0.0</td><td>0</td></tr><tr><td>8</td><td>7</td><td>2012-07-29 13:00:00</td><td>1</td><td>Pool Table</td><td>0.0</td><td>5.0</td><td>7</td><td>Dare</td><td>Nancy</td><td>0.0</td><td>0</td></tr><tr><td>8</td><td>3</td><td>2012-07-29 15:30:00</td><td>1</td><td>Pool Table</td><td>0.0</td><td>5.0</td><td>3</td><td>Rownam</td><td>Tim</td><td>0.0</td><td>0</td></tr><tr><td>8</td><td>3</td><td>2012-07-29 18:00:00</td><td>1</td><td>Pool Table</td><td>0.0</td><td>5.0</td><td>3</td><td>Rownam</td><td>Tim</td><td>0.0</td><td>0</td></tr><tr><td>0</td><td>5</td><td>2012-07-30 14:00:00</td><td>3</td><td>Tennis Court 1</td><td>5.0</td><td>25.0</td><td>5</td><td>Butters</td><td>Gerald</td><td>15.0</td><td>0</td></tr><tr><td>0</td><td>6</td><td>2012-07-30 15:30:00</td><td>3</td><td>Tennis Court 1</td><td>5.0</td><td>25.0</td><td>6</td><td>Tracy</td><td>Burton</td><td>15.0</td><td>0</td></tr><tr><td>0</td><td>7</td><td>2012-07-30 19:00:00</td><td>3</td><td>Tennis Court 1</td><td>5.0</td><td>25.0</td><td>7</td><td>Dare</td><td>Nancy</td><td>15.0</td><td>0</td></tr><tr><td>1</td><td>8</td><td>2012-07-30 08:30:00</td><td>3</td><td>Tennis Court 2</td><td>5.0</td><td>25.0</td><td>8</td><td>Boothe</td><td>Tim</td><td>15.0</td><td>0</td></tr><tr><td>1</td><td>7</td><td>2012-07-30 11:00:00</td><td>3</td><td>Tennis Court 2</td><td>5.0</td><td>25.0</td><td>7</td><td>Dare</td><td>Nancy</td><td>15.0</td><td>0</td></tr><tr><td>1</td><td>2</td><td>2012-07-30 13:30:00</td><td>3</td><td>Tennis Court 2</td><td>5.0</td><td>25.0</td><td>2</td><td>Smith</td><td>Tracy</td><td>15.0</td><td>0</td></tr><tr><td>1</td><td>1</td><td>2012-07-30 15:30:00</td><td>3</td><td>Tennis Court 2</td><td>5.0</td><td>25.0</td><td>1</td><td>Smith</td><td>Darren</td><td>15.0</td><td>0</td></tr><tr><td>2</td><td>5</td><td>2012-07-30 10:00:00</td><td>3</td><td>Badminton Court</td><td>0.0</td><td>15.5</td><td>5</td><td>Butters</td><td>Gerald</td><td>0.0</td><td>0</td></tr><tr><td>2</td><td>8</td><td>2012-07-30 11:30:00</td><td>3</td><td>Badminton Court</td><td>0.0</td><td>15.5</td><td>8</td><td>Boothe</td><td>Tim</td><td>0.0</td><td>0</td></tr><tr><td>2</td><td>7</td><td>2012-07-30 15:00:00</td><td>3</td><td>Badminton Court</td><td>0.0</td><td>15.5</td><td>7</td><td>Dare</td><td>Nancy</td><td>0.0</td><td>0</td></tr><tr><td>2</td><td>0</td><td>2012-07-30 17:30:00</td><td>3</td><td>Badminton Court</td><td>0.0</td><td>15.5</td><td>0</td><td>GUEST</td><td>GUEST</td><td>46.5</td><td>0</td></tr><tr><td>3</td><td>3</td><td>2012-07-30 11:30:00</td><td>2</td><td>Table Tennis</td><td>0.0</td><td>5.0</td><td>3</td><td>Rownam</td><td>Tim</td><td>0.0</td><td>0</td></tr><tr><td>3</td><td>4</td><td>2012-07-30 16:30:00</td><td>2</td><td>Table Tennis</td><td>0.0</td><td>5.0</td><td>4</td><td>Joplette</td><td>Janice</td><td>0.0</td><td>0</td></tr><tr><td>4</td><td>0</td><td>2012-07-30 08:00:00</td><td>2</td><td>Massage Room 1</td><td>9.9</td><td>80.0</td><td>0</td><td>GUEST</td><td>GUEST</td><td>160.0</td><td>0</td></tr><tr><td>4</td><td>0</td><td>2012-07-30 10:30:00</td><td>2</td><td>Massage Room 1</td><td>9.9</td><td>80.0</td><td>0</td><td>GUEST</td><td>GUEST</td><td>160.0</td><td>0</td></tr><tr><td>4</td><td>0</td><td>2012-07-30 12:00:00</td><td>2</td><td>Massage Room 1</td><td>9.9</td><td>80.0</td><td>0</td><td>GUEST</td><td>GUEST</td><td>160.0</td><td>0</td></tr><tr><td>4</td><td>7</td><td>2012-07-30 18:00:00</td><td>2</td><td>Massage Room 1</td><td>9.9</td><td>80.0</td><td>7</td><td>Dare</td><td>Nancy</td><td>19.8</td><td>0</td></tr><tr><td>4</td><td>3</td><td>2012-07-30 19:30:00</td><td>2</td><td>Massage Room 1</td><td>9.9</td><td>80.0</td><td>3</td><td>Rownam</td><td>Tim</td><td>19.8</td><td>0</td></tr><tr><td>5</td><td>0</td><td>2012-07-30 12:30:00</td><td>2</td><td>Massage Room 2</td><td>9.9</td><td>80.0</td><td>0</td><td>GUEST</td><td>GUEST</td><td>160.0</td><td>0</td></tr><tr><td>5</td><td>0</td><td>2012-07-30 14:00:00</td><td>2</td><td>Massage Room 2</td><td>9.9</td><td>80.0</td><td>0</td><td>GUEST</td><td>GUEST</td><td>160.0</td><td>0</td></tr><tr><td>6</td><td>0</td><td>2012-07-30 08:30:00</td><td>2</td><td>Squash Court</td><td>3.5</td><td>17.5</td><td>0</td><td>GUEST</td><td>GUEST</td><td>35.0</td><td>0</td></tr><tr><td>6</td><td>0</td><td>2012-07-30 12:00:00</td><td>2</td><td>Squash Court</td><td>3.5</td><td>17.5</td><td>0</td><td>GUEST</td><td>GUEST</td><td>35.0</td><td>0</td></tr><tr><td>6</td><td>0</td><td>2012-07-30 14:30:00</td><td>2</td><td>Squash Court</td><td>3.5</td><td>17.5</td><td>0</td><td>GUEST</td><td>GUEST</td><td>35.0</td><td>0</td></tr><tr><td>6</td><td>0</td><td>2012-07-30 17:30:00</td><td>2</td><td>Squash Court</td><td>3.5</td><td>17.5</td><td>0</td><td>GUEST</td><td>GUEST</td><td>35.0</td><td>0</td></tr><tr><td>7</td><td>7</td><td>2012-07-30 08:00:00</td><td>2</td><td>Snooker Table</td><td>0.0</td><td>5.0</td><td>7</td><td>Dare</td><td>Nancy</td><td>0.0</td><td>0</td></tr><tr><td>7</td><td>6</td><td>2012-07-30 09:30:00</td><td>2</td><td>Snooker Table</td><td>0.0</td><td>5.0</td><td>6</td><td>Tracy</td><td>Burton</td><td>0.0</td><td>0</td></tr><tr><td>7</td><td>8</td><td>2012-07-30 14:30:00</td><td>2</td><td>Snooker Table</td><td>0.0</td><td>5.0</td><td>8</td><td>Boothe</td><td>Tim</td><td>0.0</td><td>0</td></tr><tr><td>7</td><td>5</td><td>2012-07-30 16:30:00</td><td>2</td><td>Snooker Table</td><td>0.0</td><td>5.0</td><td>5</td><td>Butters</td><td>Gerald</td><td>0.0</td><td>0</td></tr><tr><td>7</td><td>4</td><td>2012-07-30 18:00:00</td><td>2</td><td>Snooker Table</td><td>0.0</td><td>5.0</td><td>4</td><td>Joplette</td><td>Janice</td><td>0.0</td><td>0</td></tr><tr><td>7</td><td>6</td><td>2012-07-30 19:00:00</td><td>2</td><td>Snooker Table</td><td>0.0</td><td>5.0</td><td>6</td><td>Tracy</td><td>Burton</td><td>0.0</td><td>0</td></tr><tr><td>8</td><td>3</td><td>2012-07-30 08:30:00</td><td>1</td><td>Pool Table</td><td>0.0</td><td>5.0</td><td>3</td><td>Rownam</td><td>Tim</td><td>0.0</td><td>0</td></tr><tr><td>8</td><td>2</td><td>2012-07-30 09:00:00</td><td>1</td><td>Pool Table</td><td>0.0</td><td>5.0</td><td>2</td><td>Smith</td><td>Tracy</td><td>0.0</td><td>0</td></tr><tr><td>8</td><td>2</td><td>2012-07-30 11:00:00</td><td>1</td><td>Pool Table</td><td>0.0</td><td>5.0</td><td>2</td><td>Smith</td><td>Tracy</td><td>0.0</td><td>0</td></tr><tr><td>8</td><td>2</td><td>2012-07-30 12:30:00</td><td>1</td><td>Pool Table</td><td>0.0</td><td>5.0</td><td>2</td><td>Smith</td><td>Tracy</td><td>0.0</td><td>0</td></tr><tr><td>8</td><td>3</td><td>2012-07-30 15:00:00</td><td>2</td><td>Pool Table</td><td>0.0</td><td>5.0</td><td>3</td><td>Rownam</td><td>Tim</td><td>0.0</td><td>0</td></tr><tr><td>8</td><td>5</td><td>2012-07-30 16:00:00</td><td>1</td><td>Pool Table</td><td>0.0</td><td>5.0</td><td>5</td><td>Butters</td><td>Gerald</td><td>0.0</td><td>0</td></tr><tr><td>8</td><td>2</td><td>2012-07-30 16:30:00</td><td>1</td><td>Pool Table</td><td>0.0</td><td>5.0</td><td>2</td><td>Smith</td><td>Tracy</td><td>0.0</td><td>0</td></tr><tr><td>8</td><td>3</td><td>2012-07-30 18:30:00</td><td>1</td><td>Pool Table</td><td>0.0</td><td>5.0</td><td>3</td><td>Rownam</td><td>Tim</td><td>0.0</td><td>0</td></tr><tr><td>8</td><td>1</td><td>2012-07-30 19:30:00</td><td>1</td><td>Pool Table</td><td>0.0</td><td>5.0</td><td>1</td><td>Smith</td><td>Darren</td><td>0.0</td><td>0</td></tr><tr><td>0</td><td>7</td><td>2012-07-31 09:30:00</td><td>3</td><td>Tennis Court 1</td><td>5.0</td><td>25.0</td><td>7</td><td>Dare</td><td>Nancy</td><td>15.0</td><td>0</td></tr><tr><td>0</td><td>0</td><td>2012-07-31 11:00:00</td><td>3</td><td>Tennis Court 1</td><td>5.0</td><td>25.0</td><td>0</td><td>GUEST</td><td>GUEST</td><td>75.0</td><td>0</td></tr><tr><td>0</td><td>0</td><td>2012-07-31 15:00:00</td><td>3</td><td>Tennis Court 1</td><td>5.0</td><td>25.0</td><td>0</td><td>GUEST</td><td>GUEST</td><td>75.0</td><td>0</td></tr><tr><td>0</td><td>5</td><td>2012-07-31 17:00:00</td><td>3</td><td>Tennis Court 1</td><td>5.0</td><td>25.0</td><td>5</td><td>Butters</td><td>Gerald</td><td>15.0</td><td>0</td></tr><tr><td>0</td><td>0</td><td>2012-07-31 18:30:00</td><td>3</td><td>Tennis Court 1</td><td>5.0</td><td>25.0</td><td>0</td><td>GUEST</td><td>GUEST</td><td>75.0</td><td>0</td></tr><tr><td>1</td><td>0</td><td>2012-07-31 08:00:00</td><td>3</td><td>Tennis Court 2</td><td>5.0</td><td>25.0</td><td>0</td><td>GUEST</td><td>GUEST</td><td>75.0</td><td>0</td></tr><tr><td>1</td><td>7</td><td>2012-07-31 13:00:00</td><td>3</td><td>Tennis Court 2</td><td>5.0</td><td>25.0</td><td>7</td><td>Dare</td><td>Nancy</td><td>15.0</td><td>0</td></tr><tr><td>2</td><td>1</td><td>2012-07-31 16:30:00</td><td>3</td><td>Badminton Court</td><td>0.0</td><td>15.5</td><td>1</td><td>Smith</td><td>Darren</td><td>0.0</td><td>0</td></tr><tr><td>3</td><td>3</td><td>2012-07-31 08:30:00</td><td>2</td><td>Table Tennis</td><td>0.0</td><td>5.0</td><td>3</td><td>Rownam</td><td>Tim</td><td>0.0</td><td>0</td></tr><tr><td>3</td><td>1</td><td>2012-07-31 13:00:00</td><td>2</td><td>Table Tennis</td><td>0.0</td><td>5.0</td><td>1</td><td>Smith</td><td>Darren</td><td>0.0</td><td>0</td></tr><tr><td>3</td><td>1</td><td>2012-07-31 15:30:00</td><td>2</td><td>Table Tennis</td><td>0.0</td><td>5.0</td><td>1</td><td>Smith</td><td>Darren</td><td>0.0</td><td>0</td></tr><tr><td>4</td><td>8</td><td>2012-07-31 09:30:00</td><td>2</td><td>Massage Room 1</td><td>9.9</td><td>80.0</td><td>8</td><td>Boothe</td><td>Tim</td><td>19.8</td><td>0</td></tr><tr><td>4</td><td>0</td><td>2012-07-31 11:00:00</td><td>2</td><td>Massage Room 1</td><td>9.9</td><td>80.0</td><td>0</td><td>GUEST</td><td>GUEST</td><td>160.0</td><td>0</td></tr><tr><td>4</td><td>3</td><td>2012-07-31 12:00:00</td><td>2</td><td>Massage Room 1</td><td>9.9</td><td>80.0</td><td>3</td><td>Rownam</td><td>Tim</td><td>19.8</td><td>0</td></tr><tr><td>4</td><td>2</td><td>2012-07-31 13:00:00</td><td>2</td><td>Massage Room 1</td><td>9.9</td><td>80.0</td><td>2</td><td>Smith</td><td>Tracy</td><td>19.8</td><td>0</td></tr><tr><td>4</td><td>3</td><td>2012-07-31 14:00:00</td><td>2</td><td>Massage Room 1</td><td>9.9</td><td>80.0</td><td>3</td><td>Rownam</td><td>Tim</td><td>19.8</td><td>0</td></tr><tr><td>4</td><td>0</td><td>2012-07-31 15:00:00</td><td>2</td><td>Massage Room 1</td><td>9.9</td><td>80.0</td><td>0</td><td>GUEST</td><td>GUEST</td><td>160.0</td><td>0</td></tr><tr><td>4</td><td>6</td><td>2012-07-31 17:00:00</td><td>2</td><td>Massage Room 1</td><td>9.9</td><td>80.0</td><td>6</td><td>Tracy</td><td>Burton</td><td>19.8</td><td>0</td></tr><tr><td>4</td><td>7</td><td>2012-07-31 18:30:00</td><td>2</td><td>Massage Room 1</td><td>9.9</td><td>80.0</td><td>7</td><td>Dare</td><td>Nancy</td><td>19.8</td><td>0</td></tr><tr><td>4</td><td>0</td><td>2012-07-31 19:30:00</td><td>2</td><td>Massage Room 1</td><td>9.9</td><td>80.0</td><td>0</td><td>GUEST</td><td>GUEST</td><td>160.0</td><td>0</td></tr><tr><td>6</td><td>0</td><td>2012-07-31 09:00:00</td><td>2</td><td>Squash Court</td><td>3.5</td><td>17.5</td><td>0</td><td>GUEST</td><td>GUEST</td><td>35.0</td><td>0</td></tr><tr><td>6</td><td>5</td><td>2012-07-31 10:00:00</td><td>2</td><td>Squash Court</td><td>3.5</td><td>17.5</td><td>5</td><td>Butters</td><td>Gerald</td><td>7.0</td><td>0</td></tr><tr><td>6</td><td>6</td><td>2012-07-31 11:00:00</td><td>2</td><td>Squash Court</td><td>3.5</td><td>17.5</td><td>6</td><td>Tracy</td><td>Burton</td><td>7.0</td><td>0</td></tr><tr><td>6</td><td>0</td><td>2012-07-31 14:30:00</td><td>2</td><td>Squash Court</td><td>3.5</td><td>17.5</td><td>0</td><td>GUEST</td><td>GUEST</td><td>35.0</td><td>0</td></tr><tr><td>6</td><td>6</td><td>2012-07-31 16:00:00</td><td>2</td><td>Squash Court</td><td>3.5</td><td>17.5</td><td>6</td><td>Tracy</td><td>Burton</td><td>7.0</td><td>0</td></tr><tr><td>7</td><td>4</td><td>2012-07-31 18:30:00</td><td>2</td><td>Snooker Table</td><td>0.0</td><td>5.0</td><td>4</td><td>Joplette</td><td>Janice</td><td>0.0</td><td>0</td></tr><tr><td>8</td><td>3</td><td>2012-07-31 10:00:00</td><td>1</td><td>Pool Table</td><td>0.0</td><td>5.0</td><td>3</td><td>Rownam</td><td>Tim</td><td>0.0</td><td>0</td></tr><tr><td>8</td><td>3</td><td>2012-07-31 11:30:00</td><td>1</td><td>Pool Table</td><td>0.0</td><td>5.0</td><td>3</td><td>Rownam</td><td>Tim</td><td>0.0</td><td>0</td></tr><tr><td>8</td><td>5</td><td>2012-07-31 12:00:00</td><td>1</td><td>Pool Table</td><td>0.0</td><td>5.0</td><td>5</td><td>Butters</td><td>Gerald</td><td>0.0</td><td>0</td></tr><tr><td>8</td><td>7</td><td>2012-07-31 12:30:00</td><td>1</td><td>Pool Table</td><td>0.0</td><td>5.0</td><td>7</td><td>Dare</td><td>Nancy</td><td>0.0</td><td>0</td></tr><tr><td>8</td><td>8</td><td>2012-07-31 13:30:00</td><td>1</td><td>Pool Table</td><td>0.0</td><td>5.0</td><td>8</td><td>Boothe</td><td>Tim</td><td>0.0</td><td>0</td></tr><tr><td>8</td><td>6</td><td>2012-07-31 14:00:00</td><td>1</td><td>Pool Table</td><td>0.0</td><td>5.0</td><td>6</td><td>Tracy</td><td>Burton</td><td>0.0</td><td>0</td></tr><tr><td>8</td><td>4</td><td>2012-07-31 17:00:00</td><td>1</td><td>Pool Table</td><td>0.0</td><td>5.0</td><td>4</td><td>Joplette</td><td>Janice</td><td>0.0</td><td>0</td></tr><tr><td>8</td><td>2</td><td>2012-07-31 17:30:00</td><td>1</td><td>Pool Table</td><td>0.0</td><td>5.0</td><td>2</td><td>Smith</td><td>Tracy</td><td>0.0</td><td>0</td></tr><tr><td>0</td><td>5</td><td>2012-08-01 15:30:00</td><td>3</td><td>Tennis Court 1</td><td>5.0</td><td>25.0</td><td>5</td><td>Butters</td><td>Gerald</td><td>15.0</td><td>0</td></tr><tr><td>0</td><td>5</td><td>2012-08-01 18:00:00</td><td>3</td><td>Tennis Court 1</td><td>5.0</td><td>25.0</td><td>5</td><td>Butters</td><td>Gerald</td><td>15.0</td><td>0</td></tr><tr><td>1</td><td>8</td><td>2012-08-01 09:00:00</td><td>9</td><td>Tennis Court 2</td><td>5.0</td><td>25.0</td><td>8</td><td>Boothe</td><td>Tim</td><td>45.0</td><td>0</td></tr><tr><td>1</td><td>8</td><td>2012-08-01 17:30:00</td><td>3</td><td>Tennis Court 2</td><td>5.0</td><td>25.0</td><td>8</td><td>Boothe</td><td>Tim</td><td>15.0</td><td>0</td></tr><tr><td>2</td><td>1</td><td>2012-08-01 09:30:00</td><td>6</td><td>Badminton Court</td><td>0.0</td><td>15.5</td><td>1</td><td>Smith</td><td>Darren</td><td>0.0</td><td>0</td></tr><tr><td>2</td><td>1</td><td>2012-08-01 14:30:00</td><td>3</td><td>Badminton Court</td><td>0.0</td><td>15.5</td><td>1</td><td>Smith</td><td>Darren</td><td>0.0</td><td>0</td></tr><tr><td>2</td><td>1</td><td>2012-08-01 16:30:00</td><td>3</td><td>Badminton Court</td><td>0.0</td><td>15.5</td><td>1</td><td>Smith</td><td>Darren</td><td>0.0</td><td>0</td></tr><tr><td>3</td><td>7</td><td>2012-08-01 13:00:00</td><td>2</td><td>Table Tennis</td><td>0.0</td><td>5.0</td><td>7</td><td>Dare</td><td>Nancy</td><td>0.0</td><td>0</td></tr><tr><td>4</td><td>5</td><td>2012-08-01 08:00:00</td><td>2</td><td>Massage Room 1</td><td>9.9</td><td>80.0</td><td>5</td><td>Butters</td><td>Gerald</td><td>19.8</td><td>0</td></tr><tr><td>4</td><td>6</td><td>2012-08-01 09:00:00</td><td>2</td><td>Massage Room 1</td><td>9.9</td><td>80.0</td><td>6</td><td>Tracy</td><td>Burton</td><td>19.8</td><td>0</td></tr><tr><td>4</td><td>0</td><td>2012-08-01 10:30:00</td><td>6</td><td>Massage Room 1</td><td>9.9</td><td>80.0</td><td>0</td><td>GUEST</td><td>GUEST</td><td>480.0</td><td>0</td></tr><tr><td>4</td><td>3</td><td>2012-08-01 13:30:00</td><td>4</td><td>Massage Room 1</td><td>9.9</td><td>80.0</td><td>3</td><td>Rownam</td><td>Tim</td><td>39.6</td><td>0</td></tr><tr><td>4</td><td>3</td><td>2012-08-01 19:30:00</td><td>2</td><td>Massage Room 1</td><td>9.9</td><td>80.0</td><td>3</td><td>Rownam</td><td>Tim</td><td>19.8</td><td>0</td></tr><tr><td>5</td><td>7</td><td>2012-08-01 08:30:00</td><td>2</td><td>Massage Room 2</td><td>9.9</td><td>80.0</td><td>7</td><td>Dare</td><td>Nancy</td><td>19.8</td><td>0</td></tr><tr><td>5</td><td>0</td><td>2012-08-01 14:30:00</td><td>2</td><td>Massage Room 2</td><td>9.9</td><td>80.0</td><td>0</td><td>GUEST</td><td>GUEST</td><td>160.0</td><td>0</td></tr><tr><td>6</td><td>0</td><td>2012-08-01 09:30:00</td><td>2</td><td>Squash Court</td><td>3.5</td><td>17.5</td><td>0</td><td>GUEST</td><td>GUEST</td><td>35.0</td><td>0</td></tr><tr><td>6</td><td>0</td><td>2012-08-01 11:00:00</td><td>4</td><td>Squash Court</td><td>3.5</td><td>17.5</td><td>0</td><td>GUEST</td><td>GUEST</td><td>70.0</td><td>0</td></tr><tr><td>6</td><td>6</td><td>2012-08-01 14:30:00</td><td>2</td><td>Squash Court</td><td>3.5</td><td>17.5</td><td>6</td><td>Tracy</td><td>Burton</td><td>7.0</td><td>0</td></tr><tr><td>6</td><td>0</td><td>2012-08-01 18:00:00</td><td>2</td><td>Squash Court</td><td>3.5</td><td>17.5</td><td>0</td><td>GUEST</td><td>GUEST</td><td>35.0</td><td>0</td></tr><tr><td>7</td><td>4</td><td>2012-08-01 12:30:00</td><td>2</td><td>Snooker Table</td><td>0.0</td><td>5.0</td><td>4</td><td>Joplette</td><td>Janice</td><td>0.0</td><td>0</td></tr><tr><td>7</td><td>2</td><td>2012-08-01 16:00:00</td><td>2</td><td>Snooker Table</td><td>0.0</td><td>5.0</td><td>2</td><td>Smith</td><td>Tracy</td><td>0.0</td><td>0</td></tr><tr><td>7</td><td>5</td><td>2012-08-01 17:00:00</td><td>2</td><td>Snooker Table</td><td>0.0</td><td>5.0</td><td>5</td><td>Butters</td><td>Gerald</td><td>0.0</td><td>0</td></tr><tr><td>8</td><td>3</td><td>2012-08-01 08:30:00</td><td>2</td><td>Pool Table</td><td>0.0</td><td>5.0</td><td>3</td><td>Rownam</td><td>Tim</td><td>0.0</td><td>0</td></tr><tr><td>8</td><td>2</td><td>2012-08-01 09:30:00</td><td>1</td><td>Pool Table</td><td>0.0</td><td>5.0</td><td>2</td><td>Smith</td><td>Tracy</td><td>0.0</td><td>0</td></tr><tr><td>8</td><td>3</td><td>2012-08-01 10:30:00</td><td>1</td><td>Pool Table</td><td>0.0</td><td>5.0</td><td>3</td><td>Rownam</td><td>Tim</td><td>0.0</td><td>0</td></tr><tr><td>8</td><td>3</td><td>2012-08-01 11:30:00</td><td>1</td><td>Pool Table</td><td>0.0</td><td>5.0</td><td>3</td><td>Rownam</td><td>Tim</td><td>0.0</td><td>0</td></tr><tr><td>8</td><td>8</td><td>2012-08-01 13:30:00</td><td>1</td><td>Pool Table</td><td>0.0</td><td>5.0</td><td>8</td><td>Boothe</td><td>Tim</td><td>0.0</td><td>0</td></tr><tr><td>8</td><td>8</td><td>2012-08-01 15:00:00</td><td>1</td><td>Pool Table</td><td>0.0</td><td>5.0</td><td>8</td><td>Boothe</td><td>Tim</td><td>0.0</td><td>0</td></tr><tr><td>8</td><td>3</td><td>2012-08-01 17:00:00</td><td>1</td><td>Pool Table</td><td>0.0</td><td>5.0</td><td>3</td><td>Rownam</td><td>Tim</td><td>0.0</td><td>0</td></tr><tr><td>0</td><td>8</td><td>2012-08-02 08:00:00</td><td>3</td><td>Tennis Court 1</td><td>5.0</td><td>25.0</td><td>8</td><td>Boothe</td><td>Tim</td><td>15.0</td><td>0</td></tr><tr><td>0</td><td>5</td><td>2012-08-02 13:00:00</td><td>3</td><td>Tennis Court 1</td><td>5.0</td><td>25.0</td><td>5</td><td>Butters</td><td>Gerald</td><td>15.0</td><td>0</td></tr><tr><td>0</td><td>7</td><td>2012-08-02 15:30:00</td><td>3</td><td>Tennis Court 1</td><td>5.0</td><td>25.0</td><td>7</td><td>Dare</td><td>Nancy</td><td>15.0</td><td>0</td></tr><tr><td>0</td><td>5</td><td>2012-08-02 18:30:00</td><td>3</td><td>Tennis Court 1</td><td>5.0</td><td>25.0</td><td>5</td><td>Butters</td><td>Gerald</td><td>15.0</td><td>0</td></tr><tr><td>1</td><td>8</td><td>2012-08-02 09:30:00</td><td>3</td><td>Tennis Court 2</td><td>5.0</td><td>25.0</td><td>8</td><td>Boothe</td><td>Tim</td><td>15.0</td><td>0</td></tr><tr><td>1</td><td>8</td><td>2012-08-02 12:00:00</td><td>3</td><td>Tennis Court 2</td><td>5.0</td><td>25.0</td><td>8</td><td>Boothe</td><td>Tim</td><td>15.0</td><td>0</td></tr><tr><td>1</td><td>0</td><td>2012-08-02 13:30:00</td><td>3</td><td>Tennis Court 2</td><td>5.0</td><td>25.0</td><td>0</td><td>GUEST</td><td>GUEST</td><td>75.0</td><td>0</td></tr><tr><td>1</td><td>5</td><td>2012-08-02 15:30:00</td><td>3</td><td>Tennis Court 2</td><td>5.0</td><td>25.0</td><td>5</td><td>Butters</td><td>Gerald</td><td>15.0</td><td>0</td></tr><tr><td>1</td><td>0</td><td>2012-08-02 18:00:00</td><td>3</td><td>Tennis Court 2</td><td>5.0</td><td>25.0</td><td>0</td><td>GUEST</td><td>GUEST</td><td>75.0</td><td>0</td></tr><tr><td>2</td><td>1</td><td>2012-08-02 09:30:00</td><td>3</td><td>Badminton Court</td><td>0.0</td><td>15.5</td><td>1</td><td>Smith</td><td>Darren</td><td>0.0</td><td>0</td></tr><tr><td>2</td><td>0</td><td>2012-08-02 11:30:00</td><td>3</td><td>Badminton Court</td><td>0.0</td><td>15.5</td><td>0</td><td>GUEST</td><td>GUEST</td><td>46.5</td><td>0</td></tr><tr><td>2</td><td>3</td><td>2012-08-02 14:00:00</td><td>3</td><td>Badminton Court</td><td>0.0</td><td>15.5</td><td>3</td><td>Rownam</td><td>Tim</td><td>0.0</td><td>0</td></tr><tr><td>2</td><td>1</td><td>2012-08-02 19:00:00</td><td>3</td><td>Badminton Court</td><td>0.0</td><td>15.5</td><td>1</td><td>Smith</td><td>Darren</td><td>0.0</td><td>0</td></tr><tr><td>3</td><td>3</td><td>2012-08-02 10:00:00</td><td>2</td><td>Table Tennis</td><td>0.0</td><td>5.0</td><td>3</td><td>Rownam</td><td>Tim</td><td>0.0</td><td>0</td></tr><tr><td>3</td><td>2</td><td>2012-08-02 15:00:00</td><td>2</td><td>Table Tennis</td><td>0.0</td><td>5.0</td><td>2</td><td>Smith</td><td>Tracy</td><td>0.0</td><td>0</td></tr><tr><td>3</td><td>3</td><td>2012-08-02 17:00:00</td><td>2</td><td>Table Tennis</td><td>0.0</td><td>5.0</td><td>3</td><td>Rownam</td><td>Tim</td><td>0.0</td><td>0</td></tr><tr><td>3</td><td>6</td><td>2012-08-02 18:00:00</td><td>2</td><td>Table Tennis</td><td>0.0</td><td>5.0</td><td>6</td><td>Tracy</td><td>Burton</td><td>0.0</td><td>0</td></tr><tr><td>3</td><td>4</td><td>2012-08-02 19:30:00</td><td>2</td><td>Table Tennis</td><td>0.0</td><td>5.0</td><td>4</td><td>Joplette</td><td>Janice</td><td>0.0</td><td>0</td></tr><tr><td>4</td><td>4</td><td>2012-08-02 10:00:00</td><td>2</td><td>Massage Room 1</td><td>9.9</td><td>80.0</td><td>4</td><td>Joplette</td><td>Janice</td><td>19.8</td><td>0</td></tr><tr><td>4</td><td>7</td><td>2012-08-02 11:30:00</td><td>2</td><td>Massage Room 1</td><td>9.9</td><td>80.0</td><td>7</td><td>Dare</td><td>Nancy</td><td>19.8</td><td>0</td></tr><tr><td>4</td><td>5</td><td>2012-08-02 14:30:00</td><td>2</td><td>Massage Room 1</td><td>9.9</td><td>80.0</td><td>5</td><td>Butters</td><td>Gerald</td><td>19.8</td><td>0</td></tr><tr><td>4</td><td>8</td><td>2012-08-02 15:30:00</td><td>2</td><td>Massage Room 1</td><td>9.9</td><td>80.0</td><td>8</td><td>Boothe</td><td>Tim</td><td>19.8</td><td>0</td></tr><tr><td>4</td><td>8</td><td>2012-08-02 17:00:00</td><td>2</td><td>Massage Room 1</td><td>9.9</td><td>80.0</td><td>8</td><td>Boothe</td><td>Tim</td><td>19.8</td><td>0</td></tr><tr><td>4</td><td>3</td><td>2012-08-02 18:30:00</td><td>2</td><td>Massage Room 1</td><td>9.9</td><td>80.0</td><td>3</td><td>Rownam</td><td>Tim</td><td>19.8</td><td>0</td></tr><tr><td>4</td><td>0</td><td>2012-08-02 19:30:00</td><td>2</td><td>Massage Room 1</td><td>9.9</td><td>80.0</td><td>0</td><td>GUEST</td><td>GUEST</td><td>160.0</td><td>0</td></tr><tr><td>6</td><td>4</td><td>2012-08-02 09:00:00</td><td>2</td><td>Squash Court</td><td>3.5</td><td>17.5</td><td>4</td><td>Joplette</td><td>Janice</td><td>7.0</td><td>0</td></tr><tr><td>6</td><td>0</td><td>2012-08-02 10:00:00</td><td>2</td><td>Squash Court</td><td>3.5</td><td>17.5</td><td>0</td><td>GUEST</td><td>GUEST</td><td>35.0</td><td>0</td></tr><tr><td>6</td><td>0</td><td>2012-08-02 11:30:00</td><td>2</td><td>Squash Court</td><td>3.5</td><td>17.5</td><td>0</td><td>GUEST</td><td>GUEST</td><td>35.0</td><td>0</td></tr><tr><td>6</td><td>6</td><td>2012-08-02 12:30:00</td><td>2</td><td>Squash Court</td><td>3.5</td><td>17.5</td><td>6</td><td>Tracy</td><td>Burton</td><td>7.0</td><td>0</td></tr><tr><td>6</td><td>8</td><td>2012-08-02 14:00:00</td><td>2</td><td>Squash Court</td><td>3.5</td><td>17.5</td><td>8</td><td>Boothe</td><td>Tim</td><td>7.0</td><td>0</td></tr><tr><td>6</td><td>0</td><td>2012-08-02 17:00:00</td><td>4</td><td>Squash Court</td><td>3.5</td><td>17.5</td><td>0</td><td>GUEST</td><td>GUEST</td><td>70.0</td><td>0</td></tr><tr><td>6</td><td>2</td><td>2012-08-02 19:30:00</td><td>2</td><td>Squash Court</td><td>3.5</td><td>17.5</td><td>2</td><td>Smith</td><td>Tracy</td><td>7.0</td><td>0</td></tr><tr><td>7</td><td>7</td><td>2012-08-02 08:00:00</td><td>2</td><td>Snooker Table</td><td>0.0</td><td>5.0</td><td>7</td><td>Dare</td><td>Nancy</td><td>0.0</td><td>0</td></tr><tr><td>7</td><td>5</td><td>2012-08-02 11:00:00</td><td>2</td><td>Snooker Table</td><td>0.0</td><td>5.0</td><td>5</td><td>Butters</td><td>Gerald</td><td>0.0</td><td>0</td></tr><tr><td>7</td><td>6</td><td>2012-08-02 14:00:00</td><td>2</td><td>Snooker Table</td><td>0.0</td><td>5.0</td><td>6</td><td>Tracy</td><td>Burton</td><td>0.0</td><td>0</td></tr><tr><td>7</td><td>4</td><td>2012-08-02 16:00:00</td><td>2</td><td>Snooker Table</td><td>0.0</td><td>5.0</td><td>4</td><td>Joplette</td><td>Janice</td><td>0.0</td><td>0</td></tr><tr><td>7</td><td>0</td><td>2012-08-02 18:00:00</td><td>2</td><td>Snooker Table</td><td>0.0</td><td>5.0</td><td>0</td><td>GUEST</td><td>GUEST</td><td>10.0</td><td>0</td></tr><tr><td>8</td><td>3</td><td>2012-08-02 08:30:00</td><td>1</td><td>Pool Table</td><td>0.0</td><td>5.0</td><td>3</td><td>Rownam</td><td>Tim</td><td>0.0</td><td>0</td></tr><tr><td>8</td><td>3</td><td>2012-08-02 13:00:00</td><td>1</td><td>Pool Table</td><td>0.0</td><td>5.0</td><td>3</td><td>Rownam</td><td>Tim</td><td>0.0</td><td>0</td></tr><tr><td>8</td><td>7</td><td>2012-08-02 15:00:00</td><td>1</td><td>Pool Table</td><td>0.0</td><td>5.0</td><td>7</td><td>Dare</td><td>Nancy</td><td>0.0</td><td>0</td></tr><tr><td>8</td><td>3</td><td>2012-08-02 16:30:00</td><td>1</td><td>Pool Table</td><td>0.0</td><td>5.0</td><td>3</td><td>Rownam</td><td>Tim</td><td>0.0</td><td>0</td></tr><tr><td>8</td><td>7</td><td>2012-08-02 17:00:00</td><td>1</td><td>Pool Table</td><td>0.0</td><td>5.0</td><td>7</td><td>Dare</td><td>Nancy</td><td>0.0</td><td>0</td></tr><tr><td>8</td><td>3</td><td>2012-08-02 19:30:00</td><td>1</td><td>Pool Table</td><td>0.0</td><td>5.0</td><td>3</td><td>Rownam</td><td>Tim</td><td>0.0</td><td>0</td></tr><tr><td>0</td><td>5</td><td>2012-08-03 11:30:00</td><td>3</td><td>Tennis Court 1</td><td>5.0</td><td>25.0</td><td>5</td><td>Butters</td><td>Gerald</td><td>15.0</td><td>0</td></tr><tr><td>0</td><td>0</td><td>2012-08-03 16:00:00</td><td>3</td><td>Tennis Court 1</td><td>5.0</td><td>25.0</td><td>0</td><td>GUEST</td><td>GUEST</td><td>75.0</td><td>0</td></tr><tr><td>0</td><td>6</td><td>2012-08-03 18:30:00</td><td>3</td><td>Tennis Court 1</td><td>5.0</td><td>25.0</td><td>6</td><td>Tracy</td><td>Burton</td><td>15.0</td><td>0</td></tr><tr><td>1</td><td>8</td><td>2012-08-03 10:30:00</td><td>3</td><td>Tennis Court 2</td><td>5.0</td><td>25.0</td><td>8</td><td>Boothe</td><td>Tim</td><td>15.0</td><td>0</td></tr><tr><td>1</td><td>0</td><td>2012-08-03 13:00:00</td><td>6</td><td>Tennis Court 2</td><td>5.0</td><td>25.0</td><td>0</td><td>GUEST</td><td>GUEST</td><td>150.0</td><td>0</td></tr><tr><td>1</td><td>7</td><td>2012-08-03 16:30:00</td><td>3</td><td>Tennis Court 2</td><td>5.0</td><td>25.0</td><td>7</td><td>Dare</td><td>Nancy</td><td>15.0</td><td>0</td></tr><tr><td>1</td><td>8</td><td>2012-08-03 19:00:00</td><td>3</td><td>Tennis Court 2</td><td>5.0</td><td>25.0</td><td>8</td><td>Boothe</td><td>Tim</td><td>15.0</td><td>0</td></tr><tr><td>2</td><td>8</td><td>2012-08-03 08:30:00</td><td>3</td><td>Badminton Court</td><td>0.0</td><td>15.5</td><td>8</td><td>Boothe</td><td>Tim</td><td>0.0</td><td>0</td></tr><tr><td>2</td><td>1</td><td>2012-08-03 11:00:00</td><td>3</td><td>Badminton Court</td><td>0.0</td><td>15.5</td><td>1</td><td>Smith</td><td>Darren</td><td>0.0</td><td>0</td></tr><tr><td>3</td><td>6</td><td>2012-08-03 08:00:00</td><td>2</td><td>Table Tennis</td><td>0.0</td><td>5.0</td><td>6</td><td>Tracy</td><td>Burton</td><td>0.0</td><td>0</td></tr><tr><td>3</td><td>2</td><td>2012-08-03 10:00:00</td><td>2</td><td>Table Tennis</td><td>0.0</td><td>5.0</td><td>2</td><td>Smith</td><td>Tracy</td><td>0.0</td><td>0</td></tr><tr><td>3</td><td>6</td><td>2012-08-03 12:00:00</td><td>2</td><td>Table Tennis</td><td>0.0</td><td>5.0</td><td>6</td><td>Tracy</td><td>Burton</td><td>0.0</td><td>0</td></tr><tr><td>3</td><td>6</td><td>2012-08-03 16:30:00</td><td>2</td><td>Table Tennis</td><td>0.0</td><td>5.0</td><td>6</td><td>Tracy</td><td>Burton</td><td>0.0</td><td>0</td></tr><tr><td>3</td><td>2</td><td>2012-08-03 18:30:00</td><td>2</td><td>Table Tennis</td><td>0.0</td><td>5.0</td><td>2</td><td>Smith</td><td>Tracy</td><td>0.0</td><td>0</td></tr><tr><td>4</td><td>0</td><td>2012-08-03 09:30:00</td><td>2</td><td>Massage Room 1</td><td>9.9</td><td>80.0</td><td>0</td><td>GUEST</td><td>GUEST</td><td>160.0</td><td>0</td></tr><tr><td>4</td><td>7</td><td>2012-08-03 10:30:00</td><td>2</td><td>Massage Room 1</td><td>9.9</td><td>80.0</td><td>7</td><td>Dare</td><td>Nancy</td><td>19.8</td><td>0</td></tr><tr><td>4</td><td>0</td><td>2012-08-03 11:30:00</td><td>2</td><td>Massage Room 1</td><td>9.9</td><td>80.0</td><td>0</td><td>GUEST</td><td>GUEST</td><td>160.0</td><td>0</td></tr><tr><td>4</td><td>0</td><td>2012-08-03 13:00:00</td><td>2</td><td>Massage Room 1</td><td>9.9</td><td>80.0</td><td>0</td><td>GUEST</td><td>GUEST</td><td>160.0</td><td>0</td></tr><tr><td>4</td><td>1</td><td>2012-08-03 14:30:00</td><td>2</td><td>Massage Room 1</td><td>9.9</td><td>80.0</td><td>1</td><td>Smith</td><td>Darren</td><td>19.8</td><td>0</td></tr><tr><td>4</td><td>3</td><td>2012-08-03 15:30:00</td><td>4</td><td>Massage Room 1</td><td>9.9</td><td>80.0</td><td>3</td><td>Rownam</td><td>Tim</td><td>39.6</td><td>0</td></tr><tr><td>4</td><td>3</td><td>2012-08-03 18:30:00</td><td>2</td><td>Massage Room 1</td><td>9.9</td><td>80.0</td><td>3</td><td>Rownam</td><td>Tim</td><td>19.8</td><td>0</td></tr><tr><td>6</td><td>0</td><td>2012-08-03 09:00:00</td><td>2</td><td>Squash Court</td><td>3.5</td><td>17.5</td><td>0</td><td>GUEST</td><td>GUEST</td><td>35.0</td><td>0</td></tr><tr><td>6</td><td>0</td><td>2012-08-03 10:30:00</td><td>2</td><td>Squash Court</td><td>3.5</td><td>17.5</td><td>0</td><td>GUEST</td><td>GUEST</td><td>35.0</td><td>0</td></tr><tr><td>6</td><td>4</td><td>2012-08-03 12:00:00</td><td>2</td><td>Squash Court</td><td>3.5</td><td>17.5</td><td>4</td><td>Joplette</td><td>Janice</td><td>7.0</td><td>0</td></tr><tr><td>6</td><td>0</td><td>2012-08-03 15:30:00</td><td>2</td><td>Squash Court</td><td>3.5</td><td>17.5</td><td>0</td><td>GUEST</td><td>GUEST</td><td>35.0</td><td>0</td></tr><tr><td>6</td><td>1</td><td>2012-08-03 16:30:00</td><td>2</td><td>Squash Court</td><td>3.5</td><td>17.5</td><td>1</td><td>Smith</td><td>Darren</td><td>7.0</td><td>0</td></tr><tr><td>6</td><td>0</td><td>2012-08-03 19:00:00</td><td>2</td><td>Squash Court</td><td>3.5</td><td>17.5</td><td>0</td><td>GUEST</td><td>GUEST</td><td>35.0</td><td>0</td></tr><tr><td>7</td><td>6</td><td>2012-08-03 09:00:00</td><td>2</td><td>Snooker Table</td><td>0.0</td><td>5.0</td><td>6</td><td>Tracy</td><td>Burton</td><td>0.0</td><td>0</td></tr><tr><td>7</td><td>6</td><td>2012-08-03 10:30:00</td><td>2</td><td>Snooker Table</td><td>0.0</td><td>5.0</td><td>6</td><td>Tracy</td><td>Burton</td><td>0.0</td><td>0</td></tr><tr><td>7</td><td>2</td><td>2012-08-03 13:30:00</td><td>2</td><td>Snooker Table</td><td>0.0</td><td>5.0</td><td>2</td><td>Smith</td><td>Tracy</td><td>0.0</td><td>0</td></tr><tr><td>7</td><td>5</td><td>2012-08-03 17:30:00</td><td>2</td><td>Snooker Table</td><td>0.0</td><td>5.0</td><td>5</td><td>Butters</td><td>Gerald</td><td>0.0</td><td>0</td></tr><tr><td>8</td><td>8</td><td>2012-08-03 12:00:00</td><td>1</td><td>Pool Table</td><td>0.0</td><td>5.0</td><td>8</td><td>Boothe</td><td>Tim</td><td>0.0</td><td>0</td></tr><tr><td>8</td><td>3</td><td>2012-08-03 12:30:00</td><td>1</td><td>Pool Table</td><td>0.0</td><td>5.0</td><td>3</td><td>Rownam</td><td>Tim</td><td>0.0</td><td>0</td></tr><tr><td>8</td><td>6</td><td>2012-08-03 14:00:00</td><td>1</td><td>Pool Table</td><td>0.0</td><td>5.0</td><td>6</td><td>Tracy</td><td>Burton</td><td>0.0</td><td>0</td></tr><tr><td>8</td><td>3</td><td>2012-08-03 15:00:00</td><td>1</td><td>Pool Table</td><td>0.0</td><td>5.0</td><td>3</td><td>Rownam</td><td>Tim</td><td>0.0</td><td>0</td></tr><tr><td>8</td><td>6</td><td>2012-08-03 15:30:00</td><td>1</td><td>Pool Table</td><td>0.0</td><td>5.0</td><td>6</td><td>Tracy</td><td>Burton</td><td>0.0</td><td>0</td></tr><tr><td>8</td><td>8</td><td>2012-08-03 16:00:00</td><td>1</td><td>Pool Table</td><td>0.0</td><td>5.0</td><td>8</td><td>Boothe</td><td>Tim</td><td>0.0</td><td>0</td></tr><tr><td>8</td><td>0</td><td>2012-08-03 19:00:00</td><td>1</td><td>Pool Table</td><td>0.0</td><td>5.0</td><td>0</td><td>GUEST</td><td>GUEST</td><td>5.0</td><td>0</td></tr><tr><td>8</td><td>3</td><td>2012-08-03 19:30:00</td><td>1</td><td>Pool Table</td><td>0.0</td><td>5.0</td><td>3</td><td>Rownam</td><td>Tim</td><td>0.0</td><td>0</td></tr><tr><td>0</td><td>6</td><td>2012-08-04 15:00:00</td><td>3</td><td>Tennis Court 1</td><td>5.0</td><td>25.0</td><td>6</td><td>Tracy</td><td>Burton</td><td>15.0</td><td>0</td></tr><tr><td>1</td><td>9</td><td>2012-08-04 09:30:00</td><td>3</td><td>Tennis Court 2</td><td>5.0</td><td>25.0</td><td>9</td><td>Stibbons</td><td>Ponder</td><td>15.0</td><td>0</td></tr><tr><td>1</td><td>0</td><td>2012-08-04 11:30:00</td><td>3</td><td>Tennis Court 2</td><td>5.0</td><td>25.0</td><td>0</td><td>GUEST</td><td>GUEST</td><td>75.0</td><td>0</td></tr><tr><td>1</td><td>8</td><td>2012-08-04 16:00:00</td><td>3</td><td>Tennis Court 2</td><td>5.0</td><td>25.0</td><td>8</td><td>Boothe</td><td>Tim</td><td>15.0</td><td>0</td></tr><tr><td>1</td><td>0</td><td>2012-08-04 18:30:00</td><td>3</td><td>Tennis Court 2</td><td>5.0</td><td>25.0</td><td>0</td><td>GUEST</td><td>GUEST</td><td>75.0</td><td>0</td></tr><tr><td>2</td><td>1</td><td>2012-08-04 08:00:00</td><td>3</td><td>Badminton Court</td><td>0.0</td><td>15.5</td><td>1</td><td>Smith</td><td>Darren</td><td>0.0</td><td>0</td></tr><tr><td>2</td><td>2</td><td>2012-08-04 09:30:00</td><td>3</td><td>Badminton Court</td><td>0.0</td><td>15.5</td><td>2</td><td>Smith</td><td>Tracy</td><td>0.0</td><td>0</td></tr><tr><td>2</td><td>1</td><td>2012-08-04 11:00:00</td><td>3</td><td>Badminton Court</td><td>0.0</td><td>15.5</td><td>1</td><td>Smith</td><td>Darren</td><td>0.0</td><td>0</td></tr><tr><td>2</td><td>2</td><td>2012-08-04 16:30:00</td><td>3</td><td>Badminton Court</td><td>0.0</td><td>15.5</td><td>2</td><td>Smith</td><td>Tracy</td><td>0.0</td><td>0</td></tr><tr><td>2</td><td>9</td><td>2012-08-04 18:30:00</td><td>3</td><td>Badminton Court</td><td>0.0</td><td>15.5</td><td>9</td><td>Stibbons</td><td>Ponder</td><td>0.0</td><td>0</td></tr><tr><td>3</td><td>6</td><td>2012-08-04 11:30:00</td><td>2</td><td>Table Tennis</td><td>0.0</td><td>5.0</td><td>6</td><td>Tracy</td><td>Burton</td><td>0.0</td><td>0</td></tr><tr><td>3</td><td>1</td><td>2012-08-04 15:00:00</td><td>2</td><td>Table Tennis</td><td>0.0</td><td>5.0</td><td>1</td><td>Smith</td><td>Darren</td><td>0.0</td><td>0</td></tr><tr><td>3</td><td>3</td><td>2012-08-04 18:00:00</td><td>2</td><td>Table Tennis</td><td>0.0</td><td>5.0</td><td>3</td><td>Rownam</td><td>Tim</td><td>0.0</td><td>0</td></tr><tr><td>3</td><td>4</td><td>2012-08-04 19:00:00</td><td>2</td><td>Table Tennis</td><td>0.0</td><td>5.0</td><td>4</td><td>Joplette</td><td>Janice</td><td>0.0</td><td>0</td></tr><tr><td>4</td><td>8</td><td>2012-08-04 08:30:00</td><td>2</td><td>Massage Room 1</td><td>9.9</td><td>80.0</td><td>8</td><td>Boothe</td><td>Tim</td><td>19.8</td><td>0</td></tr><tr><td>4</td><td>7</td><td>2012-08-04 10:00:00</td><td>2</td><td>Massage Room 1</td><td>9.9</td><td>80.0</td><td>7</td><td>Dare</td><td>Nancy</td><td>19.8</td><td>0</td></tr><tr><td>4</td><td>0</td><td>2012-08-04 13:30:00</td><td>2</td><td>Massage Room 1</td><td>9.9</td><td>80.0</td><td>0</td><td>GUEST</td><td>GUEST</td><td>160.0</td><td>0</td></tr><tr><td>4</td><td>5</td><td>2012-08-04 14:30:00</td><td>2</td><td>Massage Room 1</td><td>9.9</td><td>80.0</td><td>5</td><td>Butters</td><td>Gerald</td><td>19.8</td><td>0</td></tr><tr><td>4</td><td>0</td><td>2012-08-04 17:00:00</td><td>2</td><td>Massage Room 1</td><td>9.9</td><td>80.0</td><td>0</td><td>GUEST</td><td>GUEST</td><td>160.0</td><td>0</td></tr><tr><td>4</td><td>5</td><td>2012-08-04 19:30:00</td><td>2</td><td>Massage Room 1</td><td>9.9</td><td>80.0</td><td>5</td><td>Butters</td><td>Gerald</td><td>19.8</td><td>0</td></tr><tr><td>5</td><td>0</td><td>2012-08-04 12:30:00</td><td>2</td><td>Massage Room 2</td><td>9.9</td><td>80.0</td><td>0</td><td>GUEST</td><td>GUEST</td><td>160.0</td><td>0</td></tr><tr><td>6</td><td>6</td><td>2012-08-04 08:30:00</td><td>2</td><td>Squash Court</td><td>3.5</td><td>17.5</td><td>6</td><td>Tracy</td><td>Burton</td><td>7.0</td><td>0</td></tr><tr><td>6</td><td>5</td><td>2012-08-04 09:30:00</td><td>2</td><td>Squash Court</td><td>3.5</td><td>17.5</td><td>5</td><td>Butters</td><td>Gerald</td><td>7.0</td><td>0</td></tr><tr><td>6</td><td>6</td><td>2012-08-04 12:30:00</td><td>2</td><td>Squash Court</td><td>3.5</td><td>17.5</td><td>6</td><td>Tracy</td><td>Burton</td><td>7.0</td><td>0</td></tr><tr><td>6</td><td>0</td><td>2012-08-04 16:00:00</td><td>2</td><td>Squash Court</td><td>3.5</td><td>17.5</td><td>0</td><td>GUEST</td><td>GUEST</td><td>35.0</td><td>0</td></tr><tr><td>6</td><td>0</td><td>2012-08-04 17:30:00</td><td>2</td><td>Squash Court</td><td>3.5</td><td>17.5</td><td>0</td><td>GUEST</td><td>GUEST</td><td>35.0</td><td>0</td></tr><tr><td>7</td><td>5</td><td>2012-08-04 08:00:00</td><td>2</td><td>Snooker Table</td><td>0.0</td><td>5.0</td><td>5</td><td>Butters</td><td>Gerald</td><td>0.0</td><td>0</td></tr><tr><td>7</td><td>9</td><td>2012-08-04 11:00:00</td><td>2</td><td>Snooker Table</td><td>0.0</td><td>5.0</td><td>9</td><td>Stibbons</td><td>Ponder</td><td>0.0</td><td>0</td></tr><tr><td>7</td><td>7</td><td>2012-08-04 15:00:00</td><td>2</td><td>Snooker Table</td><td>0.0</td><td>5.0</td><td>7</td><td>Dare</td><td>Nancy</td><td>0.0</td><td>0</td></tr><tr><td>7</td><td>5</td><td>2012-08-04 18:30:00</td><td>2</td><td>Snooker Table</td><td>0.0</td><td>5.0</td><td>5</td><td>Butters</td><td>Gerald</td><td>0.0</td><td>0</td></tr><tr><td>8</td><td>3</td><td>2012-08-04 08:00:00</td><td>1</td><td>Pool Table</td><td>0.0</td><td>5.0</td><td>3</td><td>Rownam</td><td>Tim</td><td>0.0</td><td>0</td></tr><tr><td>8</td><td>3</td><td>2012-08-04 11:00:00</td><td>2</td><td>Pool Table</td><td>0.0</td><td>5.0</td><td>3</td><td>Rownam</td><td>Tim</td><td>0.0</td><td>0</td></tr><tr><td>8</td><td>3</td><td>2012-08-04 13:00:00</td><td>1</td><td>Pool Table</td><td>0.0</td><td>5.0</td><td>3</td><td>Rownam</td><td>Tim</td><td>0.0</td><td>0</td></tr><tr><td>8</td><td>3</td><td>2012-08-04 16:30:00</td><td>1</td><td>Pool Table</td><td>0.0</td><td>5.0</td><td>3</td><td>Rownam</td><td>Tim</td><td>0.0</td><td>0</td></tr><tr><td>8</td><td>6</td><td>2012-08-04 18:00:00</td><td>1</td><td>Pool Table</td><td>0.0</td><td>5.0</td><td>6</td><td>Tracy</td><td>Burton</td><td>0.0</td><td>0</td></tr><tr><td>8</td><td>7</td><td>2012-08-04 18:30:00</td><td>1</td><td>Pool Table</td><td>0.0</td><td>5.0</td><td>7</td><td>Dare</td><td>Nancy</td><td>0.0</td><td>0</td></tr><tr><td>8</td><td>3</td><td>2012-08-04 19:00:00</td><td>1</td><td>Pool Table</td><td>0.0</td><td>5.0</td><td>3</td><td>Rownam</td><td>Tim</td><td>0.0</td><td>0</td></tr><tr><td>0</td><td>2</td><td>2012-08-05 08:00:00</td><td>3</td><td>Tennis Court 1</td><td>5.0</td><td>25.0</td><td>2</td><td>Smith</td><td>Tracy</td><td>15.0</td><td>0</td></tr><tr><td>0</td><td>5</td><td>2012-08-05 09:30:00</td><td>3</td><td>Tennis Court 1</td><td>5.0</td><td>25.0</td><td>5</td><td>Butters</td><td>Gerald</td><td>15.0</td><td>0</td></tr><tr><td>0</td><td>7</td><td>2012-08-05 15:00:00</td><td>3</td><td>Tennis Court 1</td><td>5.0</td><td>25.0</td><td>7</td><td>Dare</td><td>Nancy</td><td>15.0</td><td>0</td></tr><tr><td>0</td><td>7</td><td>2012-08-05 17:30:00</td><td>3</td><td>Tennis Court 1</td><td>5.0</td><td>25.0</td><td>7</td><td>Dare</td><td>Nancy</td><td>15.0</td><td>0</td></tr><tr><td>1</td><td>0</td><td>2012-08-05 08:00:00</td><td>3</td><td>Tennis Court 2</td><td>5.0</td><td>25.0</td><td>0</td><td>GUEST</td><td>GUEST</td><td>75.0</td><td>0</td></tr><tr><td>1</td><td>7</td><td>2012-08-05 09:30:00</td><td>3</td><td>Tennis Court 2</td><td>5.0</td><td>25.0</td><td>7</td><td>Dare</td><td>Nancy</td><td>15.0</td><td>0</td></tr><tr><td>1</td><td>9</td><td>2012-08-05 11:00:00</td><td>3</td><td>Tennis Court 2</td><td>5.0</td><td>25.0</td><td>9</td><td>Stibbons</td><td>Ponder</td><td>15.0</td><td>0</td></tr><tr><td>1</td><td>9</td><td>2012-08-05 15:30:00</td><td>3</td><td>Tennis Court 2</td><td>5.0</td><td>25.0</td><td>9</td><td>Stibbons</td><td>Ponder</td><td>15.0</td><td>0</td></tr><tr><td>1</td><td>1</td><td>2012-08-05 18:00:00</td><td>3</td><td>Tennis Court 2</td><td>5.0</td><td>25.0</td><td>1</td><td>Smith</td><td>Darren</td><td>15.0</td><td>0</td></tr><tr><td>2</td><td>1</td><td>2012-08-05 10:00:00</td><td>3</td><td>Badminton Court</td><td>0.0</td><td>15.5</td><td>1</td><td>Smith</td><td>Darren</td><td>0.0</td><td>0</td></tr><tr><td>2</td><td>5</td><td>2012-08-05 11:30:00</td><td>3</td><td>Badminton Court</td><td>0.0</td><td>15.5</td><td>5</td><td>Butters</td><td>Gerald</td><td>0.0</td><td>0</td></tr><tr><td>2</td><td>2</td><td>2012-08-05 15:00:00</td><td>3</td><td>Badminton Court</td><td>0.0</td><td>15.5</td><td>2</td><td>Smith</td><td>Tracy</td><td>0.0</td><td>0</td></tr><tr><td>2</td><td>8</td><td>2012-08-05 17:00:00</td><td>3</td><td>Badminton Court</td><td>0.0</td><td>15.5</td><td>8</td><td>Boothe</td><td>Tim</td><td>0.0</td><td>0</td></tr><tr><td>3</td><td>3</td><td>2012-08-05 09:30:00</td><td>2</td><td>Table Tennis</td><td>0.0</td><td>5.0</td><td>3</td><td>Rownam</td><td>Tim</td><td>0.0</td><td>0</td></tr><tr><td>3</td><td>4</td><td>2012-08-05 14:30:00</td><td>2</td><td>Table Tennis</td><td>0.0</td><td>5.0</td><td>4</td><td>Joplette</td><td>Janice</td><td>0.0</td><td>0</td></tr><tr><td>3</td><td>3</td><td>2012-08-05 15:30:00</td><td>2</td><td>Table Tennis</td><td>0.0</td><td>5.0</td><td>3</td><td>Rownam</td><td>Tim</td><td>0.0</td><td>0</td></tr><tr><td>4</td><td>0</td><td>2012-08-05 08:30:00</td><td>2</td><td>Massage Room 1</td><td>9.9</td><td>80.0</td><td>0</td><td>GUEST</td><td>GUEST</td><td>160.0</td><td>0</td></tr><tr><td>4</td><td>0</td><td>2012-08-05 10:00:00</td><td>2</td><td>Massage Room 1</td><td>9.9</td><td>80.0</td><td>0</td><td>GUEST</td><td>GUEST</td><td>160.0</td><td>0</td></tr><tr><td>4</td><td>0</td><td>2012-08-05 11:30:00</td><td>2</td><td>Massage Room 1</td><td>9.9</td><td>80.0</td><td>0</td><td>GUEST</td><td>GUEST</td><td>160.0</td><td>0</td></tr><tr><td>4</td><td>4</td><td>2012-08-05 16:00:00</td><td>2</td><td>Massage Room 1</td><td>9.9</td><td>80.0</td><td>4</td><td>Joplette</td><td>Janice</td><td>19.8</td><td>0</td></tr><tr><td>4</td><td>8</td><td>2012-08-05 19:00:00</td><td>2</td><td>Massage Room 1</td><td>9.9</td><td>80.0</td><td>8</td><td>Boothe</td><td>Tim</td><td>19.8</td><td>0</td></tr><tr><td>6</td><td>0</td><td>2012-08-05 10:00:00</td><td>4</td><td>Squash Court</td><td>3.5</td><td>17.5</td><td>0</td><td>GUEST</td><td>GUEST</td><td>70.0</td><td>0</td></tr><tr><td>6</td><td>6</td><td>2012-08-05 13:00:00</td><td>2</td><td>Squash Court</td><td>3.5</td><td>17.5</td><td>6</td><td>Tracy</td><td>Burton</td><td>7.0</td><td>0</td></tr><tr><td>6</td><td>0</td><td>2012-08-05 15:30:00</td><td>2</td><td>Squash Court</td><td>3.5</td><td>17.5</td><td>0</td><td>GUEST</td><td>GUEST</td><td>35.0</td><td>0</td></tr><tr><td>7</td><td>2</td><td>2012-08-05 10:30:00</td><td>2</td><td>Snooker Table</td><td>0.0</td><td>5.0</td><td>2</td><td>Smith</td><td>Tracy</td><td>0.0</td><td>0</td></tr><tr><td>7</td><td>8</td><td>2012-08-05 15:30:00</td><td>2</td><td>Snooker Table</td><td>0.0</td><td>5.0</td><td>8</td><td>Boothe</td><td>Tim</td><td>0.0</td><td>0</td></tr><tr><td>7</td><td>2</td><td>2012-08-05 19:30:00</td><td>2</td><td>Snooker Table</td><td>0.0</td><td>5.0</td><td>2</td><td>Smith</td><td>Tracy</td><td>0.0</td><td>0</td></tr><tr><td>8</td><td>0</td><td>2012-08-05 08:30:00</td><td>1</td><td>Pool Table</td><td>0.0</td><td>5.0</td><td>0</td><td>GUEST</td><td>GUEST</td><td>5.0</td><td>0</td></tr><tr><td>8</td><td>3</td><td>2012-08-05 13:00:00</td><td>1</td><td>Pool Table</td><td>0.0</td><td>5.0</td><td>3</td><td>Rownam</td><td>Tim</td><td>0.0</td><td>0</td></tr><tr><td>8</td><td>0</td><td>2012-08-05 14:00:00</td><td>1</td><td>Pool Table</td><td>0.0</td><td>5.0</td><td>0</td><td>GUEST</td><td>GUEST</td><td>5.0</td><td>0</td></tr><tr><td>8</td><td>3</td><td>2012-08-05 16:30:00</td><td>1</td><td>Pool Table</td><td>0.0</td><td>5.0</td><td>3</td><td>Rownam</td><td>Tim</td><td>0.0</td><td>0</td></tr><tr><td>8</td><td>3</td><td>2012-08-05 17:30:00</td><td>1</td><td>Pool Table</td><td>0.0</td><td>5.0</td><td>3</td><td>Rownam</td><td>Tim</td><td>0.0</td><td>0</td></tr><tr><td>8</td><td>3</td><td>2012-08-05 19:30:00</td><td>2</td><td>Pool Table</td><td>0.0</td><td>5.0</td><td>3</td><td>Rownam</td><td>Tim</td><td>0.0</td><td>0</td></tr><tr><td>0</td><td>7</td><td>2012-08-06 09:00:00</td><td>3</td><td>Tennis Court 1</td><td>5.0</td><td>25.0</td><td>7</td><td>Dare</td><td>Nancy</td><td>15.0</td><td>0</td></tr><tr><td>0</td><td>0</td><td>2012-08-06 10:30:00</td><td>3</td><td>Tennis Court 1</td><td>5.0</td><td>25.0</td><td>0</td><td>GUEST</td><td>GUEST</td><td>75.0</td><td>0</td></tr><tr><td>0</td><td>2</td><td>2012-08-06 12:00:00</td><td>3</td><td>Tennis Court 1</td><td>5.0</td><td>25.0</td><td>2</td><td>Smith</td><td>Tracy</td><td>15.0</td><td>0</td></tr><tr><td>0</td><td>0</td><td>2012-08-06 13:30:00</td><td>3</td><td>Tennis Court 1</td><td>5.0</td><td>25.0</td><td>0</td><td>GUEST</td><td>GUEST</td><td>75.0</td><td>0</td></tr><tr><td>0</td><td>7</td><td>2012-08-06 15:00:00</td><td>3</td><td>Tennis Court 1</td><td>5.0</td><td>25.0</td><td>7</td><td>Dare</td><td>Nancy</td><td>15.0</td><td>0</td></tr><tr><td>0</td><td>5</td><td>2012-08-06 16:30:00</td><td>3</td><td>Tennis Court 1</td><td>5.0</td><td>25.0</td><td>5</td><td>Butters</td><td>Gerald</td><td>15.0</td><td>0</td></tr><tr><td>0</td><td>7</td><td>2012-08-06 18:00:00</td><td>3</td><td>Tennis Court 1</td><td>5.0</td><td>25.0</td><td>7</td><td>Dare</td><td>Nancy</td><td>15.0</td><td>0</td></tr><tr><td>1</td><td>8</td><td>2012-08-06 08:00:00</td><td>3</td><td>Tennis Court 2</td><td>5.0</td><td>25.0</td><td>8</td><td>Boothe</td><td>Tim</td><td>15.0</td><td>0</td></tr><tr><td>1</td><td>3</td><td>2012-08-06 10:00:00</td><td>3</td><td>Tennis Court 2</td><td>5.0</td><td>25.0</td><td>3</td><td>Rownam</td><td>Tim</td><td>15.0</td><td>0</td></tr><tr><td>1</td><td>0</td><td>2012-08-06 11:30:00</td><td>3</td><td>Tennis Court 2</td><td>5.0</td><td>25.0</td><td>0</td><td>GUEST</td><td>GUEST</td><td>75.0</td><td>0</td></tr><tr><td>1</td><td>9</td><td>2012-08-06 14:30:00</td><td>3</td><td>Tennis Court 2</td><td>5.0</td><td>25.0</td><td>9</td><td>Stibbons</td><td>Ponder</td><td>15.0</td><td>0</td></tr><tr><td>1</td><td>9</td><td>2012-08-06 17:30:00</td><td>3</td><td>Tennis Court 2</td><td>5.0</td><td>25.0</td><td>9</td><td>Stibbons</td><td>Ponder</td><td>15.0</td><td>0</td></tr><tr><td>2</td><td>1</td><td>2012-08-06 08:30:00</td><td>3</td><td>Badminton Court</td><td>0.0</td><td>15.5</td><td>1</td><td>Smith</td><td>Darren</td><td>0.0</td><td>0</td></tr><tr><td>2</td><td>5</td><td>2012-08-06 10:30:00</td><td>3</td><td>Badminton Court</td><td>0.0</td><td>15.5</td><td>5</td><td>Butters</td><td>Gerald</td><td>0.0</td><td>0</td></tr><tr><td>2</td><td>8</td><td>2012-08-06 12:00:00</td><td>3</td><td>Badminton Court</td><td>0.0</td><td>15.5</td><td>8</td><td>Boothe</td><td>Tim</td><td>0.0</td><td>0</td></tr><tr><td>2</td><td>8</td><td>2012-08-06 14:00:00</td><td>3</td><td>Badminton Court</td><td>0.0</td><td>15.5</td><td>8</td><td>Boothe</td><td>Tim</td><td>0.0</td><td>0</td></tr><tr><td>3</td><td>3</td><td>2012-08-06 08:30:00</td><td>2</td><td>Table Tennis</td><td>0.0</td><td>5.0</td><td>3</td><td>Rownam</td><td>Tim</td><td>0.0</td><td>0</td></tr><tr><td>3</td><td>6</td><td>2012-08-06 15:00:00</td><td>2</td><td>Table Tennis</td><td>0.0</td><td>5.0</td><td>6</td><td>Tracy</td><td>Burton</td><td>0.0</td><td>0</td></tr><tr><td>3</td><td>6</td><td>2012-08-06 17:00:00</td><td>2</td><td>Table Tennis</td><td>0.0</td><td>5.0</td><td>6</td><td>Tracy</td><td>Burton</td><td>0.0</td><td>0</td></tr><tr><td>4</td><td>0</td><td>2012-08-06 08:00:00</td><td>4</td><td>Massage Room 1</td><td>9.9</td><td>80.0</td><td>0</td><td>GUEST</td><td>GUEST</td><td>320.0</td><td>0</td></tr><tr><td>4</td><td>0</td><td>2012-08-06 12:00:00</td><td>2</td><td>Massage Room 1</td><td>9.9</td><td>80.0</td><td>0</td><td>GUEST</td><td>GUEST</td><td>160.0</td><td>0</td></tr><tr><td>4</td><td>7</td><td>2012-08-06 13:30:00</td><td>2</td><td>Massage Room 1</td><td>9.9</td><td>80.0</td><td>7</td><td>Dare</td><td>Nancy</td><td>19.8</td><td>0</td></tr><tr><td>4</td><td>0</td><td>2012-08-06 16:30:00</td><td>2</td><td>Massage Room 1</td><td>9.9</td><td>80.0</td><td>0</td><td>GUEST</td><td>GUEST</td><td>160.0</td><td>0</td></tr><tr><td>4</td><td>6</td><td>2012-08-06 18:30:00</td><td>2</td><td>Massage Room 1</td><td>9.9</td><td>80.0</td><td>6</td><td>Tracy</td><td>Burton</td><td>19.8</td><td>0</td></tr><tr><td>5</td><td>0</td><td>2012-08-06 11:00:00</td><td>2</td><td>Massage Room 2</td><td>9.9</td><td>80.0</td><td>0</td><td>GUEST</td><td>GUEST</td><td>160.0</td><td>0</td></tr><tr><td>6</td><td>6</td><td>2012-08-06 09:00:00</td><td>2</td><td>Squash Court</td><td>3.5</td><td>17.5</td><td>6</td><td>Tracy</td><td>Burton</td><td>7.0</td><td>0</td></tr><tr><td>6</td><td>0</td><td>2012-08-06 10:00:00</td><td>2</td><td>Squash Court</td><td>3.5</td><td>17.5</td><td>0</td><td>GUEST</td><td>GUEST</td><td>35.0</td><td>0</td></tr><tr><td>6</td><td>6</td><td>2012-08-06 13:00:00</td><td>2</td><td>Squash Court</td><td>3.5</td><td>17.5</td><td>6</td><td>Tracy</td><td>Burton</td><td>7.0</td><td>0</td></tr><tr><td>6</td><td>0</td><td>2012-08-06 14:00:00</td><td>2</td><td>Squash Court</td><td>3.5</td><td>17.5</td><td>0</td><td>GUEST</td><td>GUEST</td><td>35.0</td><td>0</td></tr><tr><td>6</td><td>5</td><td>2012-08-06 15:00:00</td><td>2</td><td>Squash Court</td><td>3.5</td><td>17.5</td><td>5</td><td>Butters</td><td>Gerald</td><td>7.0</td><td>0</td></tr><tr><td>7</td><td>8</td><td>2012-08-06 09:30:00</td><td>2</td><td>Snooker Table</td><td>0.0</td><td>5.0</td><td>8</td><td>Boothe</td><td>Tim</td><td>0.0</td><td>0</td></tr><tr><td>7</td><td>2</td><td>2012-08-06 11:00:00</td><td>2</td><td>Snooker Table</td><td>0.0</td><td>5.0</td><td>2</td><td>Smith</td><td>Tracy</td><td>0.0</td><td>0</td></tr><tr><td>7</td><td>5</td><td>2012-08-06 12:00:00</td><td>4</td><td>Snooker Table</td><td>0.0</td><td>5.0</td><td>5</td><td>Butters</td><td>Gerald</td><td>0.0</td><td>0</td></tr><tr><td>7</td><td>4</td><td>2012-08-06 17:30:00</td><td>2</td><td>Snooker Table</td><td>0.0</td><td>5.0</td><td>4</td><td>Joplette</td><td>Janice</td><td>0.0</td><td>0</td></tr><tr><td>7</td><td>2</td><td>2012-08-06 19:00:00</td><td>2</td><td>Snooker Table</td><td>0.0</td><td>5.0</td><td>2</td><td>Smith</td><td>Tracy</td><td>0.0</td><td>0</td></tr><tr><td>8</td><td>3</td><td>2012-08-06 08:00:00</td><td>1</td><td>Pool Table</td><td>0.0</td><td>5.0</td><td>3</td><td>Rownam</td><td>Tim</td><td>0.0</td><td>0</td></tr><tr><td>8</td><td>4</td><td>2012-08-06 09:00:00</td><td>1</td><td>Pool Table</td><td>0.0</td><td>5.0</td><td>4</td><td>Joplette</td><td>Janice</td><td>0.0</td><td>0</td></tr><tr><td>8</td><td>3</td><td>2012-08-06 09:30:00</td><td>1</td><td>Pool Table</td><td>0.0</td><td>5.0</td><td>3</td><td>Rownam</td><td>Tim</td><td>0.0</td><td>0</td></tr><tr><td>8</td><td>6</td><td>2012-08-06 12:00:00</td><td>1</td><td>Pool Table</td><td>0.0</td><td>5.0</td><td>6</td><td>Tracy</td><td>Burton</td><td>0.0</td><td>0</td></tr><tr><td>8</td><td>1</td><td>2012-08-06 18:00:00</td><td>1</td><td>Pool Table</td><td>0.0</td><td>5.0</td><td>1</td><td>Smith</td><td>Darren</td><td>0.0</td><td>0</td></tr><tr><td>8</td><td>8</td><td>2012-08-06 18:30:00</td><td>1</td><td>Pool Table</td><td>0.0</td><td>5.0</td><td>8</td><td>Boothe</td><td>Tim</td><td>0.0</td><td>0</td></tr><tr><td>8</td><td>3</td><td>2012-08-06 19:00:00</td><td>1</td><td>Pool Table</td><td>0.0</td><td>5.0</td><td>3</td><td>Rownam</td><td>Tim</td><td>0.0</td><td>0</td></tr><tr><td>0</td><td>10</td><td>2012-08-07 09:00:00</td><td>3</td><td>Tennis Court 1</td><td>5.0</td><td>25.0</td><td>10</td><td>Owen</td><td>Charles</td><td>15.0</td><td>0</td></tr><tr><td>1</td><td>0</td><td>2012-08-07 08:00:00</td><td>3</td><td>Tennis Court 2</td><td>5.0</td><td>25.0</td><td>0</td><td>GUEST</td><td>GUEST</td><td>75.0</td><td>0</td></tr><tr><td>1</td><td>8</td><td>2012-08-07 09:30:00</td><td>3</td><td>Tennis Court 2</td><td>5.0</td><td>25.0</td><td>8</td><td>Boothe</td><td>Tim</td><td>15.0</td><td>0</td></tr><tr><td>1</td><td>7</td><td>2012-08-07 17:00:00</td><td>3</td><td>Tennis Court 2</td><td>5.0</td><td>25.0</td><td>7</td><td>Dare</td><td>Nancy</td><td>15.0</td><td>0</td></tr><tr><td>2</td><td>1</td><td>2012-08-07 09:00:00</td><td>6</td><td>Badminton Court</td><td>0.0</td><td>15.5</td><td>1</td><td>Smith</td><td>Darren</td><td>0.0</td><td>0</td></tr><tr><td>2</td><td>1</td><td>2012-08-07 13:00:00</td><td>3</td><td>Badminton Court</td><td>0.0</td><td>15.5</td><td>1</td><td>Smith</td><td>Darren</td><td>0.0</td><td>0</td></tr><tr><td>2</td><td>10</td><td>2012-08-07 15:00:00</td><td>3</td><td>Badminton Court</td><td>0.0</td><td>15.5</td><td>10</td><td>Owen</td><td>Charles</td><td>0.0</td><td>0</td></tr><tr><td>2</td><td>2</td><td>2012-08-07 18:00:00</td><td>3</td><td>Badminton Court</td><td>0.0</td><td>15.5</td><td>2</td><td>Smith</td><td>Tracy</td><td>0.0</td><td>0</td></tr><tr><td>3</td><td>6</td><td>2012-08-07 08:30:00</td><td>2</td><td>Table Tennis</td><td>0.0</td><td>5.0</td><td>6</td><td>Tracy</td><td>Burton</td><td>0.0</td><td>0</td></tr><tr><td>3</td><td>6</td><td>2012-08-07 10:00:00</td><td>2</td><td>Table Tennis</td><td>0.0</td><td>5.0</td><td>6</td><td>Tracy</td><td>Burton</td><td>0.0</td><td>0</td></tr><tr><td>3</td><td>3</td><td>2012-08-07 11:00:00</td><td>2</td><td>Table Tennis</td><td>0.0</td><td>5.0</td><td>3</td><td>Rownam</td><td>Tim</td><td>0.0</td><td>0</td></tr><tr><td>3</td><td>3</td><td>2012-08-07 12:30:00</td><td>2</td><td>Table Tennis</td><td>0.0</td><td>5.0</td><td>3</td><td>Rownam</td><td>Tim</td><td>0.0</td><td>0</td></tr><tr><td>3</td><td>3</td><td>2012-08-07 14:30:00</td><td>2</td><td>Table Tennis</td><td>0.0</td><td>5.0</td><td>3</td><td>Rownam</td><td>Tim</td><td>0.0</td><td>0</td></tr><tr><td>4</td><td>0</td><td>2012-08-07 08:30:00</td><td>2</td><td>Massage Room 1</td><td>9.9</td><td>80.0</td><td>0</td><td>GUEST</td><td>GUEST</td><td>160.0</td><td>0</td></tr><tr><td>4</td><td>8</td><td>2012-08-07 12:00:00</td><td>2</td><td>Massage Room 1</td><td>9.9</td><td>80.0</td><td>8</td><td>Boothe</td><td>Tim</td><td>19.8</td><td>0</td></tr><tr><td>4</td><td>8</td><td>2012-08-07 13:30:00</td><td>2</td><td>Massage Room 1</td><td>9.9</td><td>80.0</td><td>8</td><td>Boothe</td><td>Tim</td><td>19.8</td><td>0</td></tr><tr><td>4</td><td>0</td><td>2012-08-07 15:30:00</td><td>2</td><td>Massage Room 1</td><td>9.9</td><td>80.0</td><td>0</td><td>GUEST</td><td>GUEST</td><td>160.0</td><td>0</td></tr><tr><td>4</td><td>6</td><td>2012-08-07 18:30:00</td><td>2</td><td>Massage Room 1</td><td>9.9</td><td>80.0</td><td>6</td><td>Tracy</td><td>Burton</td><td>19.8</td><td>0</td></tr><tr><td>6</td><td>1</td><td>2012-08-07 08:00:00</td><td>2</td><td>Squash Court</td><td>3.5</td><td>17.5</td><td>1</td><td>Smith</td><td>Darren</td><td>7.0</td><td>0</td></tr><tr><td>6</td><td>0</td><td>2012-08-07 14:00:00</td><td>2</td><td>Squash Court</td><td>3.5</td><td>17.5</td><td>0</td><td>GUEST</td><td>GUEST</td><td>35.0</td><td>0</td></tr><tr><td>6</td><td>0</td><td>2012-08-07 15:30:00</td><td>2</td><td>Squash Court</td><td>3.5</td><td>17.5</td><td>0</td><td>GUEST</td><td>GUEST</td><td>35.0</td><td>0</td></tr><tr><td>6</td><td>0</td><td>2012-08-07 18:00:00</td><td>2</td><td>Squash Court</td><td>3.5</td><td>17.5</td><td>0</td><td>GUEST</td><td>GUEST</td><td>35.0</td><td>0</td></tr><tr><td>7</td><td>10</td><td>2012-08-07 12:30:00</td><td>2</td><td>Snooker Table</td><td>0.0</td><td>5.0</td><td>10</td><td>Owen</td><td>Charles</td><td>0.0</td><td>0</td></tr><tr><td>7</td><td>4</td><td>2012-08-07 15:00:00</td><td>2</td><td>Snooker Table</td><td>0.0</td><td>5.0</td><td>4</td><td>Joplette</td><td>Janice</td><td>0.0</td><td>0</td></tr><tr><td>7</td><td>9</td><td>2012-08-07 18:30:00</td><td>2</td><td>Snooker Table</td><td>0.0</td><td>5.0</td><td>9</td><td>Stibbons</td><td>Ponder</td><td>0.0</td><td>0</td></tr><tr><td>8</td><td>3</td><td>2012-08-07 08:30:00</td><td>2</td><td>Pool Table</td><td>0.0</td><td>5.0</td><td>3</td><td>Rownam</td><td>Tim</td><td>0.0</td><td>0</td></tr><tr><td>8</td><td>2</td><td>2012-08-07 10:00:00</td><td>1</td><td>Pool Table</td><td>0.0</td><td>5.0</td><td>2</td><td>Smith</td><td>Tracy</td><td>0.0</td><td>0</td></tr><tr><td>8</td><td>3</td><td>2012-08-07 10:30:00</td><td>1</td><td>Pool Table</td><td>0.0</td><td>5.0</td><td>3</td><td>Rownam</td><td>Tim</td><td>0.0</td><td>0</td></tr><tr><td>8</td><td>0</td><td>2012-08-07 11:00:00</td><td>1</td><td>Pool Table</td><td>0.0</td><td>5.0</td><td>0</td><td>GUEST</td><td>GUEST</td><td>5.0</td><td>0</td></tr><tr><td>8</td><td>3</td><td>2012-08-07 12:00:00</td><td>1</td><td>Pool Table</td><td>0.0</td><td>5.0</td><td>3</td><td>Rownam</td><td>Tim</td><td>0.0</td><td>0</td></tr><tr><td>8</td><td>2</td><td>2012-08-07 12:30:00</td><td>1</td><td>Pool Table</td><td>0.0</td><td>5.0</td><td>2</td><td>Smith</td><td>Tracy</td><td>0.0</td><td>0</td></tr><tr><td>8</td><td>2</td><td>2012-08-07 14:30:00</td><td>1</td><td>Pool Table</td><td>0.0</td><td>5.0</td><td>2</td><td>Smith</td><td>Tracy</td><td>0.0</td><td>0</td></tr><tr><td>8</td><td>0</td><td>2012-08-07 16:30:00</td><td>1</td><td>Pool Table</td><td>0.0</td><td>5.0</td><td>0</td><td>GUEST</td><td>GUEST</td><td>5.0</td><td>0</td></tr><tr><td>8</td><td>3</td><td>2012-08-07 17:00:00</td><td>2</td><td>Pool Table</td><td>0.0</td><td>5.0</td><td>3</td><td>Rownam</td><td>Tim</td><td>0.0</td><td>0</td></tr><tr><td>8</td><td>8</td><td>2012-08-07 19:30:00</td><td>1</td><td>Pool Table</td><td>0.0</td><td>5.0</td><td>8</td><td>Boothe</td><td>Tim</td><td>0.0</td><td>0</td></tr><tr><td>0</td><td>10</td><td>2012-08-08 09:00:00</td><td>3</td><td>Tennis Court 1</td><td>5.0</td><td>25.0</td><td>10</td><td>Owen</td><td>Charles</td><td>15.0</td><td>0</td></tr><tr><td>0</td><td>6</td><td>2012-08-08 12:30:00</td><td>3</td><td>Tennis Court 1</td><td>5.0</td><td>25.0</td><td>6</td><td>Tracy</td><td>Burton</td><td>15.0</td><td>0</td></tr><tr><td>0</td><td>5</td><td>2012-08-08 14:00:00</td><td>3</td><td>Tennis Court 1</td><td>5.0</td><td>25.0</td><td>5</td><td>Butters</td><td>Gerald</td><td>15.0</td><td>0</td></tr><tr><td>0</td><td>6</td><td>2012-08-08 16:30:00</td><td>3</td><td>Tennis Court 1</td><td>5.0</td><td>25.0</td><td>6</td><td>Tracy</td><td>Burton</td><td>15.0</td><td>0</td></tr><tr><td>1</td><td>0</td><td>2012-08-08 08:30:00</td><td>6</td><td>Tennis Court 2</td><td>5.0</td><td>25.0</td><td>0</td><td>GUEST</td><td>GUEST</td><td>150.0</td><td>0</td></tr><tr><td>1</td><td>10</td><td>2012-08-08 11:30:00</td><td>3</td><td>Tennis Court 2</td><td>5.0</td><td>25.0</td><td>10</td><td>Owen</td><td>Charles</td><td>15.0</td><td>0</td></tr><tr><td>1</td><td>10</td><td>2012-08-08 14:00:00</td><td>3</td><td>Tennis Court 2</td><td>5.0</td><td>25.0</td><td>10</td><td>Owen</td><td>Charles</td><td>15.0</td><td>0</td></tr><tr><td>1</td><td>9</td><td>2012-08-08 19:00:00</td><td>3</td><td>Tennis Court 2</td><td>5.0</td><td>25.0</td><td>9</td><td>Stibbons</td><td>Ponder</td><td>15.0</td><td>0</td></tr><tr><td>2</td><td>5</td><td>2012-08-08 08:00:00</td><td>3</td><td>Badminton Court</td><td>0.0</td><td>15.5</td><td>5</td><td>Butters</td><td>Gerald</td><td>0.0</td><td>0</td></tr><tr><td>2</td><td>9</td><td>2012-08-08 09:30:00</td><td>3</td><td>Badminton Court</td><td>0.0</td><td>15.5</td><td>9</td><td>Stibbons</td><td>Ponder</td><td>0.0</td><td>0</td></tr><tr><td>2</td><td>7</td><td>2012-08-08 11:00:00</td><td>3</td><td>Badminton Court</td><td>0.0</td><td>15.5</td><td>7</td><td>Dare</td><td>Nancy</td><td>0.0</td><td>0</td></tr><tr><td>2</td><td>1</td><td>2012-08-08 14:00:00</td><td>3</td><td>Badminton Court</td><td>0.0</td><td>15.5</td><td>1</td><td>Smith</td><td>Darren</td><td>0.0</td><td>0</td></tr><tr><td>2</td><td>5</td><td>2012-08-08 17:30:00</td><td>3</td><td>Badminton Court</td><td>0.0</td><td>15.5</td><td>5</td><td>Butters</td><td>Gerald</td><td>0.0</td><td>0</td></tr><tr><td>2</td><td>1</td><td>2012-08-08 19:00:00</td><td>3</td><td>Badminton Court</td><td>0.0</td><td>15.5</td><td>1</td><td>Smith</td><td>Darren</td><td>0.0</td><td>0</td></tr><tr><td>3</td><td>10</td><td>2012-08-08 08:00:00</td><td>2</td><td>Table Tennis</td><td>0.0</td><td>5.0</td><td>10</td><td>Owen</td><td>Charles</td><td>0.0</td><td>0</td></tr><tr><td>3</td><td>6</td><td>2012-08-08 10:00:00</td><td>2</td><td>Table Tennis</td><td>0.0</td><td>5.0</td><td>6</td><td>Tracy</td><td>Burton</td><td>0.0</td><td>0</td></tr><tr><td>3</td><td>0</td><td>2012-08-08 12:00:00</td><td>2</td><td>Table Tennis</td><td>0.0</td><td>5.0</td><td>0</td><td>GUEST</td><td>GUEST</td><td>10.0</td><td>0</td></tr><tr><td>3</td><td>10</td><td>2012-08-08 15:30:00</td><td>2</td><td>Table Tennis</td><td>0.0</td><td>5.0</td><td>10</td><td>Owen</td><td>Charles</td><td>0.0</td><td>0</td></tr><tr><td>3</td><td>2</td><td>2012-08-08 19:00:00</td><td>2</td><td>Table Tennis</td><td>0.0</td><td>5.0</td><td>2</td><td>Smith</td><td>Tracy</td><td>0.0</td><td>0</td></tr><tr><td>4</td><td>6</td><td>2012-08-08 08:00:00</td><td>2</td><td>Massage Room 1</td><td>9.9</td><td>80.0</td><td>6</td><td>Tracy</td><td>Burton</td><td>19.8</td><td>0</td></tr><tr><td>4</td><td>8</td><td>2012-08-08 11:00:00</td><td>2</td><td>Massage Room 1</td><td>9.9</td><td>80.0</td><td>8</td><td>Boothe</td><td>Tim</td><td>19.8</td><td>0</td></tr><tr><td>4</td><td>9</td><td>2012-08-08 12:30:00</td><td>4</td><td>Massage Room 1</td><td>9.9</td><td>80.0</td><td>9</td><td>Stibbons</td><td>Ponder</td><td>39.6</td><td>0</td></tr><tr><td>4</td><td>0</td><td>2012-08-08 15:00:00</td><td>2</td><td>Massage Room 1</td><td>9.9</td><td>80.0</td><td>0</td><td>GUEST</td><td>GUEST</td><td>160.0</td><td>0</td></tr><tr><td>4</td><td>0</td><td>2012-08-08 16:30:00</td><td>2</td><td>Massage Room 1</td><td>9.9</td><td>80.0</td><td>0</td><td>GUEST</td><td>GUEST</td><td>160.0</td><td>0</td></tr><tr><td>4</td><td>3</td><td>2012-08-08 17:30:00</td><td>2</td><td>Massage Room 1</td><td>9.9</td><td>80.0</td><td>3</td><td>Rownam</td><td>Tim</td><td>19.8</td><td>0</td></tr><tr><td>5</td><td>0</td><td>2012-08-08 08:00:00</td><td>2</td><td>Massage Room 2</td><td>9.9</td><td>80.0</td><td>0</td><td>GUEST</td><td>GUEST</td><td>160.0</td><td>0</td></tr><tr><td>6</td><td>0</td><td>2012-08-08 09:00:00</td><td>2</td><td>Squash Court</td><td>3.5</td><td>17.5</td><td>0</td><td>GUEST</td><td>GUEST</td><td>35.0</td><td>0</td></tr><tr><td>6</td><td>0</td><td>2012-08-08 11:00:00</td><td>2</td><td>Squash Court</td><td>3.5</td><td>17.5</td><td>0</td><td>GUEST</td><td>GUEST</td><td>35.0</td><td>0</td></tr><tr><td>6</td><td>8</td><td>2012-08-08 12:30:00</td><td>2</td><td>Squash Court</td><td>3.5</td><td>17.5</td><td>8</td><td>Boothe</td><td>Tim</td><td>7.0</td><td>0</td></tr><tr><td>6</td><td>6</td><td>2012-08-08 15:00:00</td><td>2</td><td>Squash Court</td><td>3.5</td><td>17.5</td><td>6</td><td>Tracy</td><td>Burton</td><td>7.0</td><td>0</td></tr><tr><td>6</td><td>10</td><td>2012-08-08 17:30:00</td><td>2</td><td>Squash Court</td><td>3.5</td><td>17.5</td><td>10</td><td>Owen</td><td>Charles</td><td>7.0</td><td>0</td></tr><tr><td>6</td><td>0</td><td>2012-08-08 19:00:00</td><td>2</td><td>Squash Court</td><td>3.5</td><td>17.5</td><td>0</td><td>GUEST</td><td>GUEST</td><td>35.0</td><td>0</td></tr><tr><td>7</td><td>8</td><td>2012-08-08 08:00:00</td><td>2</td><td>Snooker Table</td><td>0.0</td><td>5.0</td><td>8</td><td>Boothe</td><td>Tim</td><td>0.0</td><td>0</td></tr><tr><td>7</td><td>9</td><td>2012-08-08 11:00:00</td><td>2</td><td>Snooker Table</td><td>0.0</td><td>5.0</td><td>9</td><td>Stibbons</td><td>Ponder</td><td>0.0</td><td>0</td></tr><tr><td>7</td><td>7</td><td>2012-08-08 12:30:00</td><td>2</td><td>Snooker Table</td><td>0.0</td><td>5.0</td><td>7</td><td>Dare</td><td>Nancy</td><td>0.0</td><td>0</td></tr><tr><td>7</td><td>4</td><td>2012-08-08 14:00:00</td><td>2</td><td>Snooker Table</td><td>0.0</td><td>5.0</td><td>4</td><td>Joplette</td><td>Janice</td><td>0.0</td><td>0</td></tr><tr><td>7</td><td>9</td><td>2012-08-08 15:30:00</td><td>2</td><td>Snooker Table</td><td>0.0</td><td>5.0</td><td>9</td><td>Stibbons</td><td>Ponder</td><td>0.0</td><td>0</td></tr><tr><td>7</td><td>10</td><td>2012-08-08 18:30:00</td><td>2</td><td>Snooker Table</td><td>0.0</td><td>5.0</td><td>10</td><td>Owen</td><td>Charles</td><td>0.0</td><td>0</td></tr><tr><td>8</td><td>4</td><td>2012-08-08 08:00:00</td><td>1</td><td>Pool Table</td><td>0.0</td><td>5.0</td><td>4</td><td>Joplette</td><td>Janice</td><td>0.0</td><td>0</td></tr><tr><td>8</td><td>2</td><td>2012-08-08 09:00:00</td><td>1</td><td>Pool Table</td><td>0.0</td><td>5.0</td><td>2</td><td>Smith</td><td>Tracy</td><td>0.0</td><td>0</td></tr><tr><td>8</td><td>3</td><td>2012-08-08 10:00:00</td><td>1</td><td>Pool Table</td><td>0.0</td><td>5.0</td><td>3</td><td>Rownam</td><td>Tim</td><td>0.0</td><td>0</td></tr><tr><td>8</td><td>3</td><td>2012-08-08 11:00:00</td><td>1</td><td>Pool Table</td><td>0.0</td><td>5.0</td><td>3</td><td>Rownam</td><td>Tim</td><td>0.0</td><td>0</td></tr><tr><td>8</td><td>3</td><td>2012-08-08 12:00:00</td><td>1</td><td>Pool Table</td><td>0.0</td><td>5.0</td><td>3</td><td>Rownam</td><td>Tim</td><td>0.0</td><td>0</td></tr><tr><td>8</td><td>2</td><td>2012-08-08 13:00:00</td><td>1</td><td>Pool Table</td><td>0.0</td><td>5.0</td><td>2</td><td>Smith</td><td>Tracy</td><td>0.0</td><td>0</td></tr><tr><td>8</td><td>7</td><td>2012-08-08 16:00:00</td><td>1</td><td>Pool Table</td><td>0.0</td><td>5.0</td><td>7</td><td>Dare</td><td>Nancy</td><td>0.0</td><td>0</td></tr><tr><td>8</td><td>1</td><td>2012-08-08 16:30:00</td><td>1</td><td>Pool Table</td><td>0.0</td><td>5.0</td><td>1</td><td>Smith</td><td>Darren</td><td>0.0</td><td>0</td></tr><tr><td>8</td><td>3</td><td>2012-08-08 17:00:00</td><td>1</td><td>Pool Table</td><td>0.0</td><td>5.0</td><td>3</td><td>Rownam</td><td>Tim</td><td>0.0</td><td>0</td></tr><tr><td>8</td><td>2</td><td>2012-08-08 17:30:00</td><td>1</td><td>Pool Table</td><td>0.0</td><td>5.0</td><td>2</td><td>Smith</td><td>Tracy</td><td>0.0</td><td>0</td></tr><tr><td>8</td><td>1</td><td>2012-08-08 18:30:00</td><td>1</td><td>Pool Table</td><td>0.0</td><td>5.0</td><td>1</td><td>Smith</td><td>Darren</td><td>0.0</td><td>0</td></tr><tr><td>0</td><td>6</td><td>2012-08-09 09:30:00</td><td>3</td><td>Tennis Court 1</td><td>5.0</td><td>25.0</td><td>6</td><td>Tracy</td><td>Burton</td><td>15.0</td><td>0</td></tr><tr><td>0</td><td>7</td><td>2012-08-09 16:00:00</td><td>3</td><td>Tennis Court 1</td><td>5.0</td><td>25.0</td><td>7</td><td>Dare</td><td>Nancy</td><td>15.0</td><td>0</td></tr><tr><td>0</td><td>10</td><td>2012-08-09 17:30:00</td><td>3</td><td>Tennis Court 1</td><td>5.0</td><td>25.0</td><td>10</td><td>Owen</td><td>Charles</td><td>15.0</td><td>0</td></tr><tr><td>1</td><td>10</td><td>2012-08-09 08:00:00</td><td>3</td><td>Tennis Court 2</td><td>5.0</td><td>25.0</td><td>10</td><td>Owen</td><td>Charles</td><td>15.0</td><td>0</td></tr><tr><td>1</td><td>0</td><td>2012-08-09 10:00:00</td><td>3</td><td>Tennis Court 2</td><td>5.0</td><td>25.0</td><td>0</td><td>GUEST</td><td>GUEST</td><td>75.0</td><td>0</td></tr><tr><td>1</td><td>8</td><td>2012-08-09 14:00:00</td><td>3</td><td>Tennis Court 2</td><td>5.0</td><td>25.0</td><td>8</td><td>Boothe</td><td>Tim</td><td>15.0</td><td>0</td></tr><tr><td>1</td><td>0</td><td>2012-08-09 17:00:00</td><td>3</td><td>Tennis Court 2</td><td>5.0</td><td>25.0</td><td>0</td><td>GUEST</td><td>GUEST</td><td>75.0</td><td>0</td></tr><tr><td>2</td><td>2</td><td>2012-08-09 09:00:00</td><td>3</td><td>Badminton Court</td><td>0.0</td><td>15.5</td><td>2</td><td>Smith</td><td>Tracy</td><td>0.0</td><td>0</td></tr><tr><td>2</td><td>1</td><td>2012-08-09 11:00:00</td><td>3</td><td>Badminton Court</td><td>0.0</td><td>15.5</td><td>1</td><td>Smith</td><td>Darren</td><td>0.0</td><td>0</td></tr><tr><td>2</td><td>9</td><td>2012-08-09 13:00:00</td><td>3</td><td>Badminton Court</td><td>0.0</td><td>15.5</td><td>9</td><td>Stibbons</td><td>Ponder</td><td>0.0</td><td>0</td></tr><tr><td>2</td><td>1</td><td>2012-08-09 14:30:00</td><td>3</td><td>Badminton Court</td><td>0.0</td><td>15.5</td><td>1</td><td>Smith</td><td>Darren</td><td>0.0</td><td>0</td></tr><tr><td>2</td><td>1</td><td>2012-08-09 16:30:00</td><td>3</td><td>Badminton Court</td><td>0.0</td><td>15.5</td><td>1</td><td>Smith</td><td>Darren</td><td>0.0</td><td>0</td></tr><tr><td>3</td><td>10</td><td>2012-08-09 10:00:00</td><td>2</td><td>Table Tennis</td><td>0.0</td><td>5.0</td><td>10</td><td>Owen</td><td>Charles</td><td>0.0</td><td>0</td></tr><tr><td>3</td><td>7</td><td>2012-08-09 13:30:00</td><td>2</td><td>Table Tennis</td><td>0.0</td><td>5.0</td><td>7</td><td>Dare</td><td>Nancy</td><td>0.0</td><td>0</td></tr><tr><td>3</td><td>6</td><td>2012-08-09 14:30:00</td><td>2</td><td>Table Tennis</td><td>0.0</td><td>5.0</td><td>6</td><td>Tracy</td><td>Burton</td><td>0.0</td><td>0</td></tr><tr><td>3</td><td>2</td><td>2012-08-09 18:00:00</td><td>2</td><td>Table Tennis</td><td>0.0</td><td>5.0</td><td>2</td><td>Smith</td><td>Tracy</td><td>0.0</td><td>0</td></tr><tr><td>4</td><td>0</td><td>2012-08-09 09:00:00</td><td>4</td><td>Massage Room 1</td><td>9.9</td><td>80.0</td><td>0</td><td>GUEST</td><td>GUEST</td><td>320.0</td><td>0</td></tr><tr><td>4</td><td>0</td><td>2012-08-09 12:00:00</td><td>4</td><td>Massage Room 1</td><td>9.9</td><td>80.0</td><td>0</td><td>GUEST</td><td>GUEST</td><td>320.0</td><td>0</td></tr><tr><td>4</td><td>10</td><td>2012-08-09 16:30:00</td><td>2</td><td>Massage Room 1</td><td>9.9</td><td>80.0</td><td>10</td><td>Owen</td><td>Charles</td><td>19.8</td><td>0</td></tr><tr><td>4</td><td>9</td><td>2012-08-09 17:30:00</td><td>2</td><td>Massage Room 1</td><td>9.9</td><td>80.0</td><td>9</td><td>Stibbons</td><td>Ponder</td><td>19.8</td><td>0</td></tr><tr><td>4</td><td>8</td><td>2012-08-09 18:30:00</td><td>2</td><td>Massage Room 1</td><td>9.9</td><td>80.0</td><td>8</td><td>Boothe</td><td>Tim</td><td>19.8</td><td>0</td></tr><tr><td>4</td><td>10</td><td>2012-08-09 19:30:00</td><td>2</td><td>Massage Room 1</td><td>9.9</td><td>80.0</td><td>10</td><td>Owen</td><td>Charles</td><td>19.8</td><td>0</td></tr><tr><td>6</td><td>6</td><td>2012-08-09 11:30:00</td><td>2</td><td>Squash Court</td><td>3.5</td><td>17.5</td><td>6</td><td>Tracy</td><td>Burton</td><td>7.0</td><td>0</td></tr><tr><td>6</td><td>6</td><td>2012-08-09 18:30:00</td><td>2</td><td>Squash Court</td><td>3.5</td><td>17.5</td><td>6</td><td>Tracy</td><td>Burton</td><td>7.0</td><td>0</td></tr><tr><td>7</td><td>8</td><td>2012-08-09 08:00:00</td><td>2</td><td>Snooker Table</td><td>0.0</td><td>5.0</td><td>8</td><td>Boothe</td><td>Tim</td><td>0.0</td><td>0</td></tr><tr><td>7</td><td>8</td><td>2012-08-09 10:30:00</td><td>2</td><td>Snooker Table</td><td>0.0</td><td>5.0</td><td>8</td><td>Boothe</td><td>Tim</td><td>0.0</td><td>0</td></tr><tr><td>7</td><td>0</td><td>2012-08-09 12:30:00</td><td>2</td><td>Snooker Table</td><td>0.0</td><td>5.0</td><td>0</td><td>GUEST</td><td>GUEST</td><td>10.0</td><td>0</td></tr><tr><td>7</td><td>6</td><td>2012-08-09 16:00:00</td><td>2</td><td>Snooker Table</td><td>0.0</td><td>5.0</td><td>6</td><td>Tracy</td><td>Burton</td><td>0.0</td><td>0</td></tr><tr><td>7</td><td>2</td><td>2012-08-09 17:00:00</td><td>2</td><td>Snooker Table</td><td>0.0</td><td>5.0</td><td>2</td><td>Smith</td><td>Tracy</td><td>0.0</td><td>0</td></tr><tr><td>7</td><td>4</td><td>2012-08-09 18:30:00</td><td>2</td><td>Snooker Table</td><td>0.0</td><td>5.0</td><td>4</td><td>Joplette</td><td>Janice</td><td>0.0</td><td>0</td></tr><tr><td>8</td><td>4</td><td>2012-08-09 10:00:00</td><td>1</td><td>Pool Table</td><td>0.0</td><td>5.0</td><td>4</td><td>Joplette</td><td>Janice</td><td>0.0</td><td>0</td></tr><tr><td>8</td><td>2</td><td>2012-08-09 11:30:00</td><td>1</td><td>Pool Table</td><td>0.0</td><td>5.0</td><td>2</td><td>Smith</td><td>Tracy</td><td>0.0</td><td>0</td></tr><tr><td>8</td><td>6</td><td>2012-08-09 13:00:00</td><td>1</td><td>Pool Table</td><td>0.0</td><td>5.0</td><td>6</td><td>Tracy</td><td>Burton</td><td>0.0</td><td>0</td></tr><tr><td>8</td><td>3</td><td>2012-08-09 15:00:00</td><td>1</td><td>Pool Table</td><td>0.0</td><td>5.0</td><td>3</td><td>Rownam</td><td>Tim</td><td>0.0</td><td>0</td></tr><tr><td>8</td><td>5</td><td>2012-08-09 15:30:00</td><td>1</td><td>Pool Table</td><td>0.0</td><td>5.0</td><td>5</td><td>Butters</td><td>Gerald</td><td>0.0</td><td>0</td></tr></tbody></table>Showing the first 1000 rows.</div>"
      ]
     },
     "metadata": {
      "application/vnd.databricks.v1+output": {
       "addedWidgets": {},
       "aggData": [],
       "aggError": "",
       "aggOverflow": false,
       "aggSchema": [],
       "aggSeriesLimitReached": false,
       "aggType": "",
       "arguments": {},
       "columnCustomDisplayInfos": {},
       "data": [
        [
         3,
         1,
         "2012-07-03 11:00:00",
         2,
         "Table Tennis",
         0,
         5,
         1,
         "Smith",
         "Darren",
         0,
         0
        ],
        [
         4,
         1,
         "2012-07-03 08:00:00",
         2,
         "Massage Room 1",
         9.9,
         80,
         1,
         "Smith",
         "Darren",
         19.8,
         0
        ],
        [
         6,
         0,
         "2012-07-03 18:00:00",
         2,
         "Squash Court",
         3.5,
         17.5,
         0,
         "GUEST",
         "GUEST",
         35,
         0
        ],
        [
         7,
         1,
         "2012-07-03 19:00:00",
         2,
         "Snooker Table",
         0,
         5,
         1,
         "Smith",
         "Darren",
         0,
         0
        ],
        [
         8,
         1,
         "2012-07-03 10:00:00",
         1,
         "Pool Table",
         0,
         5,
         1,
         "Smith",
         "Darren",
         0,
         0
        ],
        [
         8,
         1,
         "2012-07-03 15:00:00",
         1,
         "Pool Table",
         0,
         5,
         1,
         "Smith",
         "Darren",
         0,
         0
        ],
        [
         0,
         2,
         "2012-07-04 09:00:00",
         3,
         "Tennis Court 1",
         5,
         25,
         2,
         "Smith",
         "Tracy",
         15,
         0
        ],
        [
         0,
         2,
         "2012-07-04 15:00:00",
         3,
         "Tennis Court 1",
         5,
         25,
         2,
         "Smith",
         "Tracy",
         15,
         0
        ],
        [
         4,
         3,
         "2012-07-04 13:30:00",
         2,
         "Massage Room 1",
         9.9,
         80,
         3,
         "Rownam",
         "Tim",
         19.8,
         0
        ],
        [
         4,
         0,
         "2012-07-04 15:00:00",
         2,
         "Massage Room 1",
         9.9,
         80,
         0,
         "GUEST",
         "GUEST",
         160,
         0
        ],
        [
         4,
         0,
         "2012-07-04 17:30:00",
         2,
         "Massage Room 1",
         9.9,
         80,
         0,
         "GUEST",
         "GUEST",
         160,
         0
        ],
        [
         6,
         0,
         "2012-07-04 12:30:00",
         2,
         "Squash Court",
         3.5,
         17.5,
         0,
         "GUEST",
         "GUEST",
         35,
         0
        ],
        [
         6,
         0,
         "2012-07-04 14:00:00",
         2,
         "Squash Court",
         3.5,
         17.5,
         0,
         "GUEST",
         "GUEST",
         35,
         0
        ],
        [
         6,
         1,
         "2012-07-04 15:30:00",
         2,
         "Squash Court",
         3.5,
         17.5,
         1,
         "Smith",
         "Darren",
         7,
         0
        ],
        [
         7,
         2,
         "2012-07-04 14:00:00",
         2,
         "Snooker Table",
         0,
         5,
         2,
         "Smith",
         "Tracy",
         0,
         0
        ],
        [
         8,
         2,
         "2012-07-04 12:00:00",
         1,
         "Pool Table",
         0,
         5,
         2,
         "Smith",
         "Tracy",
         0,
         0
        ],
        [
         8,
         3,
         "2012-07-04 18:00:00",
         1,
         "Pool Table",
         0,
         5,
         3,
         "Rownam",
         "Tim",
         0,
         0
        ],
        [
         1,
         0,
         "2012-07-05 17:30:00",
         3,
         "Tennis Court 2",
         5,
         25,
         0,
         "GUEST",
         "GUEST",
         75,
         0
        ],
        [
         2,
         1,
         "2012-07-05 09:30:00",
         3,
         "Badminton Court",
         0,
         15.5,
         1,
         "Smith",
         "Darren",
         0,
         0
        ],
        [
         3,
         3,
         "2012-07-05 09:00:00",
         2,
         "Table Tennis",
         0,
         5,
         3,
         "Rownam",
         "Tim",
         0,
         0
        ],
        [
         3,
         1,
         "2012-07-05 19:00:00",
         2,
         "Table Tennis",
         0,
         5,
         1,
         "Smith",
         "Darren",
         0,
         0
        ],
        [
         4,
         3,
         "2012-07-05 18:30:00",
         2,
         "Massage Room 1",
         9.9,
         80,
         3,
         "Rownam",
         "Tim",
         19.8,
         0
        ],
        [
         6,
         0,
         "2012-07-05 13:00:00",
         2,
         "Squash Court",
         3.5,
         17.5,
         0,
         "GUEST",
         "GUEST",
         35,
         0
        ],
        [
         6,
         1,
         "2012-07-05 14:30:00",
         2,
         "Squash Court",
         3.5,
         17.5,
         1,
         "Smith",
         "Darren",
         7,
         0
        ],
        [
         7,
         2,
         "2012-07-05 18:30:00",
         2,
         "Snooker Table",
         0,
         5,
         2,
         "Smith",
         "Tracy",
         0,
         0
        ],
        [
         8,
         3,
         "2012-07-05 12:30:00",
         1,
         "Pool Table",
         0,
         5,
         3,
         "Rownam",
         "Tim",
         0,
         0
        ],
        [
         0,
         0,
         "2012-07-06 08:00:00",
         3,
         "Tennis Court 1",
         5,
         25,
         0,
         "GUEST",
         "GUEST",
         75,
         0
        ],
        [
         0,
         0,
         "2012-07-06 14:00:00",
         3,
         "Tennis Court 1",
         5,
         25,
         0,
         "GUEST",
         "GUEST",
         75,
         0
        ],
        [
         0,
         2,
         "2012-07-06 15:30:00",
         3,
         "Tennis Court 1",
         5,
         25,
         2,
         "Smith",
         "Tracy",
         15,
         0
        ],
        [
         2,
         1,
         "2012-07-06 17:00:00",
         3,
         "Badminton Court",
         0,
         15.5,
         1,
         "Smith",
         "Darren",
         0,
         0
        ],
        [
         3,
         1,
         "2012-07-06 11:00:00",
         2,
         "Table Tennis",
         0,
         5,
         1,
         "Smith",
         "Darren",
         0,
         0
        ],
        [
         4,
         3,
         "2012-07-06 12:00:00",
         2,
         "Massage Room 1",
         9.9,
         80,
         3,
         "Rownam",
         "Tim",
         19.8,
         0
        ],
        [
         6,
         1,
         "2012-07-06 14:00:00",
         2,
         "Squash Court",
         3.5,
         17.5,
         1,
         "Smith",
         "Darren",
         7,
         0
        ],
        [
         7,
         2,
         "2012-07-06 08:30:00",
         2,
         "Snooker Table",
         0,
         5,
         2,
         "Smith",
         "Tracy",
         0,
         0
        ],
        [
         7,
         2,
         "2012-07-06 13:30:00",
         2,
         "Snooker Table",
         0,
         5,
         2,
         "Smith",
         "Tracy",
         0,
         0
        ],
        [
         8,
         3,
         "2012-07-06 15:30:00",
         1,
         "Pool Table",
         0,
         5,
         3,
         "Rownam",
         "Tim",
         0,
         0
        ],
        [
         0,
         2,
         "2012-07-07 08:30:00",
         3,
         "Tennis Court 1",
         5,
         25,
         2,
         "Smith",
         "Tracy",
         15,
         0
        ],
        [
         0,
         0,
         "2012-07-07 12:30:00",
         3,
         "Tennis Court 1",
         5,
         25,
         0,
         "GUEST",
         "GUEST",
         75,
         0
        ],
        [
         0,
         2,
         "2012-07-07 14:30:00",
         3,
         "Tennis Court 1",
         5,
         25,
         2,
         "Smith",
         "Tracy",
         15,
         0
        ],
        [
         1,
         3,
         "2012-07-07 08:30:00",
         3,
         "Tennis Court 2",
         5,
         25,
         3,
         "Rownam",
         "Tim",
         15,
         0
        ],
        [
         2,
         1,
         "2012-07-07 09:00:00",
         3,
         "Badminton Court",
         0,
         15.5,
         1,
         "Smith",
         "Darren",
         0,
         0
        ],
        [
         2,
         1,
         "2012-07-07 11:30:00",
         3,
         "Badminton Court",
         0,
         15.5,
         1,
         "Smith",
         "Darren",
         0,
         0
        ],
        [
         2,
         1,
         "2012-07-07 16:00:00",
         3,
         "Badminton Court",
         0,
         15.5,
         1,
         "Smith",
         "Darren",
         0,
         0
        ],
        [
         3,
         2,
         "2012-07-07 12:30:00",
         2,
         "Table Tennis",
         0,
         5,
         2,
         "Smith",
         "Tracy",
         0,
         0
        ],
        [
         4,
         3,
         "2012-07-07 11:30:00",
         2,
         "Massage Room 1",
         9.9,
         80,
         3,
         "Rownam",
         "Tim",
         19.8,
         0
        ],
        [
         4,
         3,
         "2012-07-07 14:00:00",
         2,
         "Massage Room 1",
         9.9,
         80,
         3,
         "Rownam",
         "Tim",
         19.8,
         0
        ],
        [
         4,
         0,
         "2012-07-07 17:30:00",
         2,
         "Massage Room 1",
         9.9,
         80,
         0,
         "GUEST",
         "GUEST",
         160,
         0
        ],
        [
         6,
         0,
         "2012-07-07 08:30:00",
         2,
         "Squash Court",
         3.5,
         17.5,
         0,
         "GUEST",
         "GUEST",
         35,
         0
        ],
        [
         6,
         1,
         "2012-07-07 10:30:00",
         2,
         "Squash Court",
         3.5,
         17.5,
         1,
         "Smith",
         "Darren",
         7,
         0
        ],
        [
         6,
         1,
         "2012-07-07 14:30:00",
         2,
         "Squash Court",
         3.5,
         17.5,
         1,
         "Smith",
         "Darren",
         7,
         0
        ],
        [
         6,
         0,
         "2012-07-07 16:00:00",
         2,
         "Squash Court",
         3.5,
         17.5,
         0,
         "GUEST",
         "GUEST",
         35,
         0
        ],
        [
         7,
         2,
         "2012-07-07 11:30:00",
         2,
         "Snooker Table",
         0,
         5,
         2,
         "Smith",
         "Tracy",
         0,
         0
        ],
        [
         8,
         3,
         "2012-07-07 16:00:00",
         1,
         "Pool Table",
         0,
         5,
         3,
         "Rownam",
         "Tim",
         0,
         0
        ],
        [
         8,
         3,
         "2012-07-07 17:30:00",
         2,
         "Pool Table",
         0,
         5,
         3,
         "Rownam",
         "Tim",
         0,
         0
        ],
        [
         0,
         3,
         "2012-07-08 13:00:00",
         3,
         "Tennis Court 1",
         5,
         25,
         3,
         "Rownam",
         "Tim",
         15,
         0
        ],
        [
         0,
         2,
         "2012-07-08 17:30:00",
         3,
         "Tennis Court 1",
         5,
         25,
         2,
         "Smith",
         "Tracy",
         15,
         0
        ],
        [
         1,
         1,
         "2012-07-08 15:00:00",
         3,
         "Tennis Court 2",
         5,
         25,
         1,
         "Smith",
         "Darren",
         15,
         0
        ],
        [
         1,
         1,
         "2012-07-08 17:30:00",
         3,
         "Tennis Court 2",
         5,
         25,
         1,
         "Smith",
         "Darren",
         15,
         0
        ],
        [
         3,
         1,
         "2012-07-08 11:30:00",
         2,
         "Table Tennis",
         0,
         5,
         1,
         "Smith",
         "Darren",
         0,
         0
        ],
        [
         3,
         3,
         "2012-07-08 18:30:00",
         2,
         "Table Tennis",
         0,
         5,
         3,
         "Rownam",
         "Tim",
         0,
         0
        ],
        [
         3,
         1,
         "2012-07-08 19:30:00",
         2,
         "Table Tennis",
         0,
         5,
         1,
         "Smith",
         "Darren",
         0,
         0
        ],
        [
         4,
         0,
         "2012-07-08 11:00:00",
         2,
         "Massage Room 1",
         9.9,
         80,
         0,
         "GUEST",
         "GUEST",
         160,
         0
        ],
        [
         4,
         2,
         "2012-07-08 16:30:00",
         2,
         "Massage Room 1",
         9.9,
         80,
         2,
         "Smith",
         "Tracy",
         19.8,
         0
        ],
        [
         4,
         0,
         "2012-07-08 18:00:00",
         2,
         "Massage Room 1",
         9.9,
         80,
         0,
         "GUEST",
         "GUEST",
         160,
         0
        ],
        [
         4,
         0,
         "2012-07-08 19:30:00",
         2,
         "Massage Room 1",
         9.9,
         80,
         0,
         "GUEST",
         "GUEST",
         160,
         0
        ],
        [
         6,
         0,
         "2012-07-08 14:00:00",
         2,
         "Squash Court",
         3.5,
         17.5,
         0,
         "GUEST",
         "GUEST",
         35,
         0
        ],
        [
         6,
         0,
         "2012-07-08 18:30:00",
         2,
         "Squash Court",
         3.5,
         17.5,
         0,
         "GUEST",
         "GUEST",
         35,
         0
        ],
        [
         7,
         2,
         "2012-07-08 11:00:00",
         2,
         "Snooker Table",
         0,
         5,
         2,
         "Smith",
         "Tracy",
         0,
         0
        ],
        [
         7,
         1,
         "2012-07-08 16:30:00",
         2,
         "Snooker Table",
         0,
         5,
         1,
         "Smith",
         "Darren",
         0,
         0
        ],
        [
         8,
         3,
         "2012-07-08 10:00:00",
         1,
         "Pool Table",
         0,
         5,
         3,
         "Rownam",
         "Tim",
         0,
         0
        ],
        [
         8,
         3,
         "2012-07-08 16:30:00",
         1,
         "Pool Table",
         0,
         5,
         3,
         "Rownam",
         "Tim",
         0,
         0
        ],
        [
         0,
         2,
         "2012-07-09 12:30:00",
         3,
         "Tennis Court 1",
         5,
         25,
         2,
         "Smith",
         "Tracy",
         15,
         0
        ],
        [
         0,
         2,
         "2012-07-09 15:30:00",
         3,
         "Tennis Court 1",
         5,
         25,
         2,
         "Smith",
         "Tracy",
         15,
         0
        ],
        [
         0,
         2,
         "2012-07-09 19:00:00",
         3,
         "Tennis Court 1",
         5,
         25,
         2,
         "Smith",
         "Tracy",
         15,
         0
        ],
        [
         1,
         0,
         "2012-07-09 13:00:00",
         3,
         "Tennis Court 2",
         5,
         25,
         0,
         "GUEST",
         "GUEST",
         75,
         0
        ],
        [
         1,
         1,
         "2012-07-09 19:00:00",
         3,
         "Tennis Court 2",
         5,
         25,
         1,
         "Smith",
         "Darren",
         15,
         0
        ],
        [
         2,
         1,
         "2012-07-09 09:00:00",
         6,
         "Badminton Court",
         0,
         15.5,
         1,
         "Smith",
         "Darren",
         0,
         0
        ],
        [
         2,
         0,
         "2012-07-09 19:00:00",
         3,
         "Badminton Court",
         0,
         15.5,
         0,
         "GUEST",
         "GUEST",
         46.5,
         0
        ],
        [
         3,
         3,
         "2012-07-09 17:00:00",
         2,
         "Table Tennis",
         0,
         5,
         3,
         "Rownam",
         "Tim",
         0,
         0
        ],
        [
         3,
         3,
         "2012-07-09 18:30:00",
         2,
         "Table Tennis",
         0,
         5,
         3,
         "Rownam",
         "Tim",
         0,
         0
        ],
        [
         4,
         2,
         "2012-07-09 11:00:00",
         2,
         "Massage Room 1",
         9.9,
         80,
         2,
         "Smith",
         "Tracy",
         19.8,
         0
        ],
        [
         4,
         3,
         "2012-07-09 14:30:00",
         2,
         "Massage Room 1",
         9.9,
         80,
         3,
         "Rownam",
         "Tim",
         19.8,
         0
        ],
        [
         6,
         0,
         "2012-07-09 14:30:00",
         2,
         "Squash Court",
         3.5,
         17.5,
         0,
         "GUEST",
         "GUEST",
         35,
         0
        ],
        [
         7,
         1,
         "2012-07-09 15:30:00",
         2,
         "Snooker Table",
         0,
         5,
         1,
         "Smith",
         "Darren",
         0,
         0
        ],
        [
         7,
         0,
         "2012-07-09 18:30:00",
         4,
         "Snooker Table",
         0,
         5,
         0,
         "GUEST",
         "GUEST",
         20,
         0
        ],
        [
         8,
         3,
         "2012-07-09 09:30:00",
         1,
         "Pool Table",
         0,
         5,
         3,
         "Rownam",
         "Tim",
         0,
         0
        ],
        [
         8,
         3,
         "2012-07-09 16:30:00",
         1,
         "Pool Table",
         0,
         5,
         3,
         "Rownam",
         "Tim",
         0,
         0
        ],
        [
         8,
         3,
         "2012-07-09 20:00:00",
         1,
         "Pool Table",
         0,
         5,
         3,
         "Rownam",
         "Tim",
         0,
         0
        ],
        [
         0,
         0,
         "2012-07-10 11:30:00",
         3,
         "Tennis Court 1",
         5,
         25,
         0,
         "GUEST",
         "GUEST",
         75,
         0
        ],
        [
         0,
         0,
         "2012-07-10 16:00:00",
         3,
         "Tennis Court 1",
         5,
         25,
         0,
         "GUEST",
         "GUEST",
         75,
         0
        ],
        [
         3,
         2,
         "2012-07-10 08:00:00",
         2,
         "Table Tennis",
         0,
         5,
         2,
         "Smith",
         "Tracy",
         0,
         0
        ],
        [
         3,
         1,
         "2012-07-10 11:00:00",
         2,
         "Table Tennis",
         0,
         5,
         1,
         "Smith",
         "Darren",
         0,
         0
        ],
        [
         3,
         3,
         "2012-07-10 15:30:00",
         2,
         "Table Tennis",
         0,
         5,
         3,
         "Rownam",
         "Tim",
         0,
         0
        ],
        [
         3,
         2,
         "2012-07-10 16:30:00",
         2,
         "Table Tennis",
         0,
         5,
         2,
         "Smith",
         "Tracy",
         0,
         0
        ],
        [
         3,
         1,
         "2012-07-10 18:00:00",
         2,
         "Table Tennis",
         0,
         5,
         1,
         "Smith",
         "Darren",
         0,
         0
        ],
        [
         4,
         0,
         "2012-07-10 10:00:00",
         2,
         "Massage Room 1",
         9.9,
         80,
         0,
         "GUEST",
         "GUEST",
         160,
         0
        ],
        [
         4,
         4,
         "2012-07-10 11:30:00",
         2,
         "Massage Room 1",
         9.9,
         80,
         4,
         "Joplette",
         "Janice",
         19.8,
         0
        ],
        [
         4,
         0,
         "2012-07-10 15:00:00",
         2,
         "Massage Room 1",
         9.9,
         80,
         0,
         "GUEST",
         "GUEST",
         160,
         0
        ],
        [
         4,
         3,
         "2012-07-10 17:00:00",
         4,
         "Massage Room 1",
         9.9,
         80,
         3,
         "Rownam",
         "Tim",
         39.6,
         0
        ],
        [
         5,
         0,
         "2012-07-10 08:30:00",
         2,
         "Massage Room 2",
         9.9,
         80,
         0,
         "GUEST",
         "GUEST",
         160,
         0
        ],
        [
         6,
         0,
         "2012-07-10 14:30:00",
         2,
         "Squash Court",
         3.5,
         17.5,
         0,
         "GUEST",
         "GUEST",
         35,
         0
        ],
        [
         6,
         0,
         "2012-07-10 19:00:00",
         2,
         "Squash Court",
         3.5,
         17.5,
         0,
         "GUEST",
         "GUEST",
         35,
         0
        ],
        [
         7,
         4,
         "2012-07-10 08:30:00",
         2,
         "Snooker Table",
         0,
         5,
         4,
         "Joplette",
         "Janice",
         0,
         0
        ],
        [
         7,
         2,
         "2012-07-10 17:30:00",
         2,
         "Snooker Table",
         0,
         5,
         2,
         "Smith",
         "Tracy",
         0,
         0
        ],
        [
         8,
         0,
         "2012-07-10 11:30:00",
         1,
         "Pool Table",
         0,
         5,
         0,
         "GUEST",
         "GUEST",
         5,
         0
        ],
        [
         8,
         3,
         "2012-07-10 12:00:00",
         1,
         "Pool Table",
         0,
         5,
         3,
         "Rownam",
         "Tim",
         0,
         0
        ],
        [
         8,
         3,
         "2012-07-10 19:30:00",
         1,
         "Pool Table",
         0,
         5,
         3,
         "Rownam",
         "Tim",
         0,
         0
        ],
        [
         0,
         4,
         "2012-07-11 08:00:00",
         3,
         "Tennis Court 1",
         5,
         25,
         4,
         "Joplette",
         "Janice",
         15,
         0
        ],
        [
         0,
         2,
         "2012-07-11 10:00:00",
         3,
         "Tennis Court 1",
         5,
         25,
         2,
         "Smith",
         "Tracy",
         15,
         0
        ],
        [
         0,
         0,
         "2012-07-11 12:00:00",
         3,
         "Tennis Court 1",
         5,
         25,
         0,
         "GUEST",
         "GUEST",
         75,
         0
        ],
        [
         0,
         0,
         "2012-07-11 14:00:00",
         3,
         "Tennis Court 1",
         5,
         25,
         0,
         "GUEST",
         "GUEST",
         75,
         0
        ],
        [
         0,
         2,
         "2012-07-11 15:30:00",
         3,
         "Tennis Court 1",
         5,
         25,
         2,
         "Smith",
         "Tracy",
         15,
         0
        ],
        [
         0,
         2,
         "2012-07-11 18:30:00",
         3,
         "Tennis Court 1",
         5,
         25,
         2,
         "Smith",
         "Tracy",
         15,
         0
        ],
        [
         1,
         0,
         "2012-07-11 12:30:00",
         3,
         "Tennis Court 2",
         5,
         25,
         0,
         "GUEST",
         "GUEST",
         75,
         0
        ],
        [
         1,
         0,
         "2012-07-11 16:00:00",
         3,
         "Tennis Court 2",
         5,
         25,
         0,
         "GUEST",
         "GUEST",
         75,
         0
        ],
        [
         4,
         1,
         "2012-07-11 08:00:00",
         2,
         "Massage Room 1",
         9.9,
         80,
         1,
         "Smith",
         "Darren",
         19.8,
         0
        ],
        [
         4,
         0,
         "2012-07-11 09:00:00",
         2,
         "Massage Room 1",
         9.9,
         80,
         0,
         "GUEST",
         "GUEST",
         160,
         0
        ],
        [
         4,
         3,
         "2012-07-11 11:00:00",
         2,
         "Massage Room 1",
         9.9,
         80,
         3,
         "Rownam",
         "Tim",
         19.8,
         0
        ],
        [
         4,
         0,
         "2012-07-11 15:00:00",
         2,
         "Massage Room 1",
         9.9,
         80,
         0,
         "GUEST",
         "GUEST",
         160,
         0
        ],
        [
         5,
         4,
         "2012-07-11 17:00:00",
         2,
         "Massage Room 2",
         9.9,
         80,
         4,
         "Joplette",
         "Janice",
         19.8,
         0
        ],
        [
         6,
         0,
         "2012-07-11 14:00:00",
         2,
         "Squash Court",
         3.5,
         17.5,
         0,
         "GUEST",
         "GUEST",
         35,
         0
        ],
        [
         6,
         0,
         "2012-07-11 19:30:00",
         2,
         "Squash Court",
         3.5,
         17.5,
         0,
         "GUEST",
         "GUEST",
         35,
         0
        ],
        [
         7,
         0,
         "2012-07-11 08:00:00",
         2,
         "Snooker Table",
         0,
         5,
         0,
         "GUEST",
         "GUEST",
         10,
         0
        ],
        [
         7,
         0,
         "2012-07-11 14:00:00",
         2,
         "Snooker Table",
         0,
         5,
         0,
         "GUEST",
         "GUEST",
         10,
         0
        ],
        [
         7,
         0,
         "2012-07-11 16:30:00",
         2,
         "Snooker Table",
         0,
         5,
         0,
         "GUEST",
         "GUEST",
         10,
         0
        ],
        [
         8,
         4,
         "2012-07-11 11:00:00",
         1,
         "Pool Table",
         0,
         5,
         4,
         "Joplette",
         "Janice",
         0,
         0
        ],
        [
         8,
         3,
         "2012-07-11 13:00:00",
         1,
         "Pool Table",
         0,
         5,
         3,
         "Rownam",
         "Tim",
         0,
         0
        ],
        [
         0,
         0,
         "2012-07-12 13:30:00",
         3,
         "Tennis Court 1",
         5,
         25,
         0,
         "GUEST",
         "GUEST",
         75,
         0
        ],
        [
         0,
         2,
         "2012-07-12 16:30:00",
         3,
         "Tennis Court 1",
         5,
         25,
         2,
         "Smith",
         "Tracy",
         15,
         0
        ],
        [
         1,
         1,
         "2012-07-12 11:30:00",
         3,
         "Tennis Court 2",
         5,
         25,
         1,
         "Smith",
         "Darren",
         15,
         0
        ],
        [
         2,
         1,
         "2012-07-12 09:00:00",
         3,
         "Badminton Court",
         0,
         15.5,
         1,
         "Smith",
         "Darren",
         0,
         0
        ],
        [
         2,
         1,
         "2012-07-12 18:30:00",
         3,
         "Badminton Court",
         0,
         15.5,
         1,
         "Smith",
         "Darren",
         0,
         0
        ],
        [
         3,
         3,
         "2012-07-12 18:00:00",
         2,
         "Table Tennis",
         0,
         5,
         3,
         "Rownam",
         "Tim",
         0,
         0
        ],
        [
         4,
         1,
         "2012-07-12 16:00:00",
         2,
         "Massage Room 1",
         9.9,
         80,
         1,
         "Smith",
         "Darren",
         19.8,
         0
        ],
        [
         6,
         0,
         "2012-07-12 12:00:00",
         4,
         "Squash Court",
         3.5,
         17.5,
         0,
         "GUEST",
         "GUEST",
         70,
         0
        ],
        [
         7,
         2,
         "2012-07-12 08:00:00",
         2,
         "Snooker Table",
         0,
         5,
         2,
         "Smith",
         "Tracy",
         0,
         0
        ],
        [
         7,
         4,
         "2012-07-12 13:30:00",
         2,
         "Snooker Table",
         0,
         5,
         4,
         "Joplette",
         "Janice",
         0,
         0
        ],
        [
         7,
         4,
         "2012-07-12 16:00:00",
         2,
         "Snooker Table",
         0,
         5,
         4,
         "Joplette",
         "Janice",
         0,
         0
        ],
        [
         8,
         3,
         "2012-07-12 16:30:00",
         1,
         "Pool Table",
         0,
         5,
         3,
         "Rownam",
         "Tim",
         0,
         0
        ],
        [
         0,
         2,
         "2012-07-13 10:30:00",
         3,
         "Tennis Court 1",
         5,
         25,
         2,
         "Smith",
         "Tracy",
         15,
         0
        ],
        [
         0,
         4,
         "2012-07-13 14:00:00",
         3,
         "Tennis Court 1",
         5,
         25,
         4,
         "Joplette",
         "Janice",
         15,
         0
        ],
        [
         0,
         3,
         "2012-07-13 17:00:00",
         3,
         "Tennis Court 1",
         5,
         25,
         3,
         "Rownam",
         "Tim",
         15,
         0
        ],
        [
         1,
         1,
         "2012-07-13 15:00:00",
         3,
         "Tennis Court 2",
         5,
         25,
         1,
         "Smith",
         "Darren",
         15,
         0
        ],
        [
         2,
         1,
         "2012-07-13 09:00:00",
         3,
         "Badminton Court",
         0,
         15.5,
         1,
         "Smith",
         "Darren",
         0,
         0
        ],
        [
         2,
         0,
         "2012-07-13 15:00:00",
         3,
         "Badminton Court",
         0,
         15.5,
         0,
         "GUEST",
         "GUEST",
         46.5,
         0
        ],
        [
         2,
         1,
         "2012-07-13 16:30:00",
         3,
         "Badminton Court",
         0,
         15.5,
         1,
         "Smith",
         "Darren",
         0,
         0
        ],
        [
         4,
         0,
         "2012-07-13 11:00:00",
         2,
         "Massage Room 1",
         9.9,
         80,
         0,
         "GUEST",
         "GUEST",
         160,
         0
        ],
        [
         4,
         0,
         "2012-07-13 13:30:00",
         2,
         "Massage Room 1",
         9.9,
         80,
         0,
         "GUEST",
         "GUEST",
         160,
         0
        ],
        [
         4,
         0,
         "2012-07-13 15:00:00",
         2,
         "Massage Room 1",
         9.9,
         80,
         0,
         "GUEST",
         "GUEST",
         160,
         0
        ],
        [
         4,
         3,
         "2012-07-13 16:00:00",
         2,
         "Massage Room 1",
         9.9,
         80,
         3,
         "Rownam",
         "Tim",
         19.8,
         0
        ],
        [
         4,
         4,
         "2012-07-13 17:30:00",
         2,
         "Massage Room 1",
         9.9,
         80,
         4,
         "Joplette",
         "Janice",
         19.8,
         0
        ],
        [
         6,
         0,
         "2012-07-13 09:30:00",
         2,
         "Squash Court",
         3.5,
         17.5,
         0,
         "GUEST",
         "GUEST",
         35,
         0
        ],
        [
         7,
         0,
         "2012-07-13 08:00:00",
         2,
         "Snooker Table",
         0,
         5,
         0,
         "GUEST",
         "GUEST",
         10,
         0
        ],
        [
         7,
         1,
         "2012-07-13 11:00:00",
         2,
         "Snooker Table",
         0,
         5,
         1,
         "Smith",
         "Darren",
         0,
         0
        ],
        [
         7,
         4,
         "2012-07-13 12:30:00",
         2,
         "Snooker Table",
         0,
         5,
         4,
         "Joplette",
         "Janice",
         0,
         0
        ],
        [
         8,
         0,
         "2012-07-13 15:30:00",
         1,
         "Pool Table",
         0,
         5,
         0,
         "GUEST",
         "GUEST",
         5,
         0
        ],
        [
         8,
         2,
         "2012-07-13 18:30:00",
         1,
         "Pool Table",
         0,
         5,
         2,
         "Smith",
         "Tracy",
         0,
         0
        ],
        [
         0,
         2,
         "2012-07-14 08:30:00",
         3,
         "Tennis Court 1",
         5,
         25,
         2,
         "Smith",
         "Tracy",
         15,
         0
        ],
        [
         0,
         4,
         "2012-07-14 11:30:00",
         3,
         "Tennis Court 1",
         5,
         25,
         4,
         "Joplette",
         "Janice",
         15,
         0
        ],
        [
         0,
         3,
         "2012-07-14 15:00:00",
         3,
         "Tennis Court 1",
         5,
         25,
         3,
         "Rownam",
         "Tim",
         15,
         0
        ],
        [
         1,
         3,
         "2012-07-14 10:30:00",
         3,
         "Tennis Court 2",
         5,
         25,
         3,
         "Rownam",
         "Tim",
         15,
         0
        ],
        [
         1,
         3,
         "2012-07-14 12:30:00",
         3,
         "Tennis Court 2",
         5,
         25,
         3,
         "Rownam",
         "Tim",
         15,
         0
        ],
        [
         1,
         0,
         "2012-07-14 14:30:00",
         3,
         "Tennis Court 2",
         5,
         25,
         0,
         "GUEST",
         "GUEST",
         75,
         0
        ],
        [
         2,
         1,
         "2012-07-14 08:30:00",
         3,
         "Badminton Court",
         0,
         15.5,
         1,
         "Smith",
         "Darren",
         0,
         0
        ],
        [
         3,
         2,
         "2012-07-14 16:00:00",
         2,
         "Table Tennis",
         0,
         5,
         2,
         "Smith",
         "Tracy",
         0,
         0
        ],
        [
         4,
         3,
         "2012-07-14 08:00:00",
         2,
         "Massage Room 1",
         9.9,
         80,
         3,
         "Rownam",
         "Tim",
         19.8,
         0
        ],
        [
         4,
         1,
         "2012-07-14 14:30:00",
         2,
         "Massage Room 1",
         9.9,
         80,
         1,
         "Smith",
         "Darren",
         19.8,
         0
        ],
        [
         6,
         0,
         "2012-07-14 09:30:00",
         2,
         "Squash Court",
         3.5,
         17.5,
         0,
         "GUEST",
         "GUEST",
         35,
         0
        ],
        [
         6,
         1,
         "2012-07-14 12:30:00",
         2,
         "Squash Court",
         3.5,
         17.5,
         1,
         "Smith",
         "Darren",
         7,
         0
        ],
        [
         6,
         0,
         "2012-07-14 15:00:00",
         2,
         "Squash Court",
         3.5,
         17.5,
         0,
         "GUEST",
         "GUEST",
         35,
         0
        ],
        [
         7,
         2,
         "2012-07-14 12:30:00",
         2,
         "Snooker Table",
         0,
         5,
         2,
         "Smith",
         "Tracy",
         0,
         0
        ],
        [
         7,
         2,
         "2012-07-14 15:00:00",
         2,
         "Snooker Table",
         0,
         5,
         2,
         "Smith",
         "Tracy",
         0,
         0
        ],
        [
         7,
         4,
         "2012-07-14 16:30:00",
         2,
         "Snooker Table",
         0,
         5,
         4,
         "Joplette",
         "Janice",
         0,
         0
        ],
        [
         7,
         1,
         "2012-07-14 19:00:00",
         2,
         "Snooker Table",
         0,
         5,
         1,
         "Smith",
         "Darren",
         0,
         0
        ],
        [
         8,
         3,
         "2012-07-14 09:00:00",
         1,
         "Pool Table",
         0,
         5,
         3,
         "Rownam",
         "Tim",
         0,
         0
        ],
        [
         8,
         1,
         "2012-07-14 17:00:00",
         1,
         "Pool Table",
         0,
         5,
         1,
         "Smith",
         "Darren",
         0,
         0
        ],
        [
         0,
         2,
         "2012-07-15 08:00:00",
         3,
         "Tennis Court 1",
         5,
         25,
         2,
         "Smith",
         "Tracy",
         15,
         0
        ],
        [
         0,
         0,
         "2012-07-15 16:00:00",
         3,
         "Tennis Court 1",
         5,
         25,
         0,
         "GUEST",
         "GUEST",
         75,
         0
        ],
        [
         0,
         2,
         "2012-07-15 19:00:00",
         3,
         "Tennis Court 1",
         5,
         25,
         2,
         "Smith",
         "Tracy",
         15,
         0
        ],
        [
         1,
         0,
         "2012-07-15 10:00:00",
         3,
         "Tennis Court 2",
         5,
         25,
         0,
         "GUEST",
         "GUEST",
         75,
         0
        ],
        [
         1,
         0,
         "2012-07-15 12:00:00",
         3,
         "Tennis Court 2",
         5,
         25,
         0,
         "GUEST",
         "GUEST",
         75,
         0
        ],
        [
         1,
         3,
         "2012-07-15 15:30:00",
         3,
         "Tennis Court 2",
         5,
         25,
         3,
         "Rownam",
         "Tim",
         15,
         0
        ],
        [
         2,
         1,
         "2012-07-15 13:00:00",
         3,
         "Badminton Court",
         0,
         15.5,
         1,
         "Smith",
         "Darren",
         0,
         0
        ],
        [
         3,
         1,
         "2012-07-15 17:30:00",
         2,
         "Table Tennis",
         0,
         5,
         1,
         "Smith",
         "Darren",
         0,
         0
        ],
        [
         4,
         3,
         "2012-07-15 11:30:00",
         2,
         "Massage Room 1",
         9.9,
         80,
         3,
         "Rownam",
         "Tim",
         19.8,
         0
        ],
        [
         4,
         0,
         "2012-07-15 15:00:00",
         2,
         "Massage Room 1",
         9.9,
         80,
         0,
         "GUEST",
         "GUEST",
         160,
         0
        ],
        [
         4,
         3,
         "2012-07-15 17:30:00",
         2,
         "Massage Room 1",
         9.9,
         80,
         3,
         "Rownam",
         "Tim",
         19.8,
         0
        ],
        [
         7,
         4,
         "2012-07-15 14:30:00",
         2,
         "Snooker Table",
         0,
         5,
         4,
         "Joplette",
         "Janice",
         0,
         0
        ],
        [
         7,
         4,
         "2012-07-15 17:00:00",
         2,
         "Snooker Table",
         0,
         5,
         4,
         "Joplette",
         "Janice",
         0,
         0
        ],
        [
         8,
         4,
         "2012-07-15 10:00:00",
         1,
         "Pool Table",
         0,
         5,
         4,
         "Joplette",
         "Janice",
         0,
         0
        ],
        [
         8,
         2,
         "2012-07-15 12:00:00",
         1,
         "Pool Table",
         0,
         5,
         2,
         "Smith",
         "Tracy",
         0,
         0
        ],
        [
         8,
         3,
         "2012-07-15 12:30:00",
         1,
         "Pool Table",
         0,
         5,
         3,
         "Rownam",
         "Tim",
         0,
         0
        ],
        [
         8,
         3,
         "2012-07-15 13:30:00",
         1,
         "Pool Table",
         0,
         5,
         3,
         "Rownam",
         "Tim",
         0,
         0
        ],
        [
         0,
         5,
         "2012-07-16 11:00:00",
         3,
         "Tennis Court 1",
         5,
         25,
         5,
         "Butters",
         "Gerald",
         15,
         0
        ],
        [
         0,
         5,
         "2012-07-16 19:00:00",
         3,
         "Tennis Court 1",
         5,
         25,
         5,
         "Butters",
         "Gerald",
         15,
         0
        ],
        [
         1,
         1,
         "2012-07-16 08:00:00",
         3,
         "Tennis Court 2",
         5,
         25,
         1,
         "Smith",
         "Darren",
         15,
         0
        ],
        [
         1,
         0,
         "2012-07-16 12:30:00",
         3,
         "Tennis Court 2",
         5,
         25,
         0,
         "GUEST",
         "GUEST",
         75,
         0
        ],
        [
         2,
         1,
         "2012-07-16 16:30:00",
         3,
         "Badminton Court",
         0,
         15.5,
         1,
         "Smith",
         "Darren",
         0,
         0
        ],
        [
         4,
         3,
         "2012-07-16 09:00:00",
         2,
         "Massage Room 1",
         9.9,
         80,
         3,
         "Rownam",
         "Tim",
         19.8,
         0
        ],
        [
         4,
         1,
         "2012-07-16 11:00:00",
         2,
         "Massage Room 1",
         9.9,
         80,
         1,
         "Smith",
         "Darren",
         19.8,
         0
        ],
        [
         4,
         3,
         "2012-07-16 12:00:00",
         2,
         "Massage Room 1",
         9.9,
         80,
         3,
         "Rownam",
         "Tim",
         19.8,
         0
        ],
        [
         4,
         3,
         "2012-07-16 17:30:00",
         2,
         "Massage Room 1",
         9.9,
         80,
         3,
         "Rownam",
         "Tim",
         19.8,
         0
        ],
        [
         6,
         0,
         "2012-07-16 18:30:00",
         2,
         "Squash Court",
         3.5,
         17.5,
         0,
         "GUEST",
         "GUEST",
         35,
         0
        ],
        [
         7,
         4,
         "2012-07-16 08:00:00",
         2,
         "Snooker Table",
         0,
         5,
         4,
         "Joplette",
         "Janice",
         0,
         0
        ],
        [
         7,
         2,
         "2012-07-16 11:30:00",
         2,
         "Snooker Table",
         0,
         5,
         2,
         "Smith",
         "Tracy",
         0,
         0
        ],
        [
         7,
         4,
         "2012-07-16 12:30:00",
         2,
         "Snooker Table",
         0,
         5,
         4,
         "Joplette",
         "Janice",
         0,
         0
        ],
        [
         7,
         5,
         "2012-07-16 14:00:00",
         2,
         "Snooker Table",
         0,
         5,
         5,
         "Butters",
         "Gerald",
         0,
         0
        ],
        [
         8,
         4,
         "2012-07-16 12:00:00",
         1,
         "Pool Table",
         0,
         5,
         4,
         "Joplette",
         "Janice",
         0,
         0
        ],
        [
         8,
         1,
         "2012-07-16 15:00:00",
         1,
         "Pool Table",
         0,
         5,
         1,
         "Smith",
         "Darren",
         0,
         0
        ],
        [
         8,
         4,
         "2012-07-16 18:00:00",
         1,
         "Pool Table",
         0,
         5,
         4,
         "Joplette",
         "Janice",
         0,
         0
        ],
        [
         8,
         3,
         "2012-07-16 19:30:00",
         1,
         "Pool Table",
         0,
         5,
         3,
         "Rownam",
         "Tim",
         0,
         0
        ],
        [
         0,
         5,
         "2012-07-17 12:30:00",
         3,
         "Tennis Court 1",
         5,
         25,
         5,
         "Butters",
         "Gerald",
         15,
         0
        ],
        [
         0,
         5,
         "2012-07-17 18:00:00",
         3,
         "Tennis Court 1",
         5,
         25,
         5,
         "Butters",
         "Gerald",
         15,
         0
        ],
        [
         1,
         1,
         "2012-07-17 10:00:00",
         3,
         "Tennis Court 2",
         5,
         25,
         1,
         "Smith",
         "Darren",
         15,
         0
        ],
        [
         1,
         4,
         "2012-07-17 14:30:00",
         3,
         "Tennis Court 2",
         5,
         25,
         4,
         "Joplette",
         "Janice",
         15,
         0
        ],
        [
         2,
         5,
         "2012-07-17 10:30:00",
         3,
         "Badminton Court",
         0,
         15.5,
         5,
         "Butters",
         "Gerald",
         0,
         0
        ],
        [
         2,
         1,
         "2012-07-17 12:30:00",
         3,
         "Badminton Court",
         0,
         15.5,
         1,
         "Smith",
         "Darren",
         0,
         0
        ],
        [
         2,
         1,
         "2012-07-17 15:30:00",
         3,
         "Badminton Court",
         0,
         15.5,
         1,
         "Smith",
         "Darren",
         0,
         0
        ],
        [
         2,
         2,
         "2012-07-17 19:00:00",
         3,
         "Badminton Court",
         0,
         15.5,
         2,
         "Smith",
         "Tracy",
         0,
         0
        ],
        [
         3,
         1,
         "2012-07-17 14:00:00",
         2,
         "Table Tennis",
         0,
         5,
         1,
         "Smith",
         "Darren",
         0,
         0
        ],
        [
         3,
         2,
         "2012-07-17 15:00:00",
         2,
         "Table Tennis",
         0,
         5,
         2,
         "Smith",
         "Tracy",
         0,
         0
        ],
        [
         4,
         0,
         "2012-07-17 09:00:00",
         2,
         "Massage Room 1",
         9.9,
         80,
         0,
         "GUEST",
         "GUEST",
         160,
         0
        ],
        [
         4,
         3,
         "2012-07-17 10:30:00",
         2,
         "Massage Room 1",
         9.9,
         80,
         3,
         "Rownam",
         "Tim",
         19.8,
         0
        ],
        [
         4,
         3,
         "2012-07-17 12:00:00",
         2,
         "Massage Room 1",
         9.9,
         80,
         3,
         "Rownam",
         "Tim",
         19.8,
         0
        ],
        [
         4,
         5,
         "2012-07-17 16:00:00",
         2,
         "Massage Room 1",
         9.9,
         80,
         5,
         "Butters",
         "Gerald",
         19.8,
         0
        ],
        [
         4,
         3,
         "2012-07-17 18:30:00",
         2,
         "Massage Room 1",
         9.9,
         80,
         3,
         "Rownam",
         "Tim",
         19.8,
         0
        ],
        [
         5,
         0,
         "2012-07-17 13:30:00",
         2,
         "Massage Room 2",
         9.9,
         80,
         0,
         "GUEST",
         "GUEST",
         160,
         0
        ],
        [
         6,
         4,
         "2012-07-17 12:00:00",
         2,
         "Squash Court",
         3.5,
         17.5,
         4,
         "Joplette",
         "Janice",
         7,
         0
        ],
        [
         6,
         0,
         "2012-07-17 14:00:00",
         2,
         "Squash Court",
         3.5,
         17.5,
         0,
         "GUEST",
         "GUEST",
         35,
         0
        ],
        [
         7,
         4,
         "2012-07-17 08:00:00",
         2,
         "Snooker Table",
         0,
         5,
         4,
         "Joplette",
         "Janice",
         0,
         0
        ],
        [
         7,
         5,
         "2012-07-17 14:00:00",
         2,
         "Snooker Table",
         0,
         5,
         5,
         "Butters",
         "Gerald",
         0,
         0
        ],
        [
         7,
         4,
         "2012-07-17 16:00:00",
         2,
         "Snooker Table",
         0,
         5,
         4,
         "Joplette",
         "Janice",
         0,
         0
        ],
        [
         8,
         3,
         "2012-07-17 08:30:00",
         1,
         "Pool Table",
         0,
         5,
         3,
         "Rownam",
         "Tim",
         0,
         0
        ],
        [
         8,
         2,
         "2012-07-17 11:00:00",
         1,
         "Pool Table",
         0,
         5,
         2,
         "Smith",
         "Tracy",
         0,
         0
        ],
        [
         8,
         3,
         "2012-07-17 11:30:00",
         1,
         "Pool Table",
         0,
         5,
         3,
         "Rownam",
         "Tim",
         0,
         0
        ],
        [
         8,
         3,
         "2012-07-17 14:30:00",
         1,
         "Pool Table",
         0,
         5,
         3,
         "Rownam",
         "Tim",
         0,
         0
        ],
        [
         8,
         0,
         "2012-07-17 15:00:00",
         1,
         "Pool Table",
         0,
         5,
         0,
         "GUEST",
         "GUEST",
         5,
         0
        ],
        [
         8,
         3,
         "2012-07-17 15:30:00",
         1,
         "Pool Table",
         0,
         5,
         3,
         "Rownam",
         "Tim",
         0,
         0
        ],
        [
         8,
         3,
         "2012-07-17 18:00:00",
         1,
         "Pool Table",
         0,
         5,
         3,
         "Rownam",
         "Tim",
         0,
         0
        ],
        [
         8,
         3,
         "2012-07-17 20:00:00",
         1,
         "Pool Table",
         0,
         5,
         3,
         "Rownam",
         "Tim",
         0,
         0
        ],
        [
         0,
         5,
         "2012-07-18 13:00:00",
         3,
         "Tennis Court 1",
         5,
         25,
         5,
         "Butters",
         "Gerald",
         15,
         0
        ],
        [
         0,
         5,
         "2012-07-18 17:30:00",
         3,
         "Tennis Court 1",
         5,
         25,
         5,
         "Butters",
         "Gerald",
         15,
         0
        ],
        [
         1,
         0,
         "2012-07-18 14:00:00",
         3,
         "Tennis Court 2",
         5,
         25,
         0,
         "GUEST",
         "GUEST",
         75,
         0
        ],
        [
         1,
         0,
         "2012-07-18 16:30:00",
         3,
         "Tennis Court 2",
         5,
         25,
         0,
         "GUEST",
         "GUEST",
         75,
         0
        ],
        [
         2,
         1,
         "2012-07-18 14:00:00",
         3,
         "Badminton Court",
         0,
         15.5,
         1,
         "Smith",
         "Darren",
         0,
         0
        ],
        [
         3,
         2,
         "2012-07-18 11:30:00",
         2,
         "Table Tennis",
         0,
         5,
         2,
         "Smith",
         "Tracy",
         0,
         0
        ],
        [
         3,
         3,
         "2012-07-18 19:00:00",
         2,
         "Table Tennis",
         0,
         5,
         3,
         "Rownam",
         "Tim",
         0,
         0
        ],
        [
         4,
         1,
         "2012-07-18 08:30:00",
         2,
         "Massage Room 1",
         9.9,
         80,
         1,
         "Smith",
         "Darren",
         19.8,
         0
        ],
        [
         4,
         4,
         "2012-07-18 10:00:00",
         2,
         "Massage Room 1",
         9.9,
         80,
         4,
         "Joplette",
         "Janice",
         19.8,
         0
        ],
        [
         4,
         5,
         "2012-07-18 19:00:00",
         2,
         "Massage Room 1",
         9.9,
         80,
         5,
         "Butters",
         "Gerald",
         19.8,
         0
        ],
        [
         5,
         0,
         "2012-07-18 14:30:00",
         2,
         "Massage Room 2",
         9.9,
         80,
         0,
         "GUEST",
         "GUEST",
         160,
         0
        ],
        [
         6,
         0,
         "2012-07-18 10:30:00",
         2,
         "Squash Court",
         3.5,
         17.5,
         0,
         "GUEST",
         "GUEST",
         35,
         0
        ],
        [
         6,
         0,
         "2012-07-18 13:00:00",
         2,
         "Squash Court",
         3.5,
         17.5,
         0,
         "GUEST",
         "GUEST",
         35,
         0
        ],
        [
         6,
         0,
         "2012-07-18 15:00:00",
         2,
         "Squash Court",
         3.5,
         17.5,
         0,
         "GUEST",
         "GUEST",
         35,
         0
        ],
        [
         6,
         1,
         "2012-07-18 19:30:00",
         2,
         "Squash Court",
         3.5,
         17.5,
         1,
         "Smith",
         "Darren",
         7,
         0
        ],
        [
         7,
         4,
         "2012-07-18 08:30:00",
         2,
         "Snooker Table",
         0,
         5,
         4,
         "Joplette",
         "Janice",
         0,
         0
        ],
        [
         7,
         4,
         "2012-07-18 11:00:00",
         2,
         "Snooker Table",
         0,
         5,
         4,
         "Joplette",
         "Janice",
         0,
         0
        ],
        [
         8,
         3,
         "2012-07-18 11:00:00",
         1,
         "Pool Table",
         0,
         5,
         3,
         "Rownam",
         "Tim",
         0,
         0
        ],
        [
         8,
         0,
         "2012-07-18 13:00:00",
         1,
         "Pool Table",
         0,
         5,
         0,
         "GUEST",
         "GUEST",
         5,
         0
        ],
        [
         8,
         3,
         "2012-07-18 14:30:00",
         1,
         "Pool Table",
         0,
         5,
         3,
         "Rownam",
         "Tim",
         0,
         0
        ],
        [
         8,
         4,
         "2012-07-18 16:00:00",
         1,
         "Pool Table",
         0,
         5,
         4,
         "Joplette",
         "Janice",
         0,
         0
        ],
        [
         8,
         3,
         "2012-07-18 16:30:00",
         1,
         "Pool Table",
         0,
         5,
         3,
         "Rownam",
         "Tim",
         0,
         0
        ],
        [
         8,
         4,
         "2012-07-18 20:00:00",
         1,
         "Pool Table",
         0,
         5,
         4,
         "Joplette",
         "Janice",
         0,
         0
        ],
        [
         0,
         2,
         "2012-07-19 08:30:00",
         3,
         "Tennis Court 1",
         5,
         25,
         2,
         "Smith",
         "Tracy",
         15,
         0
        ],
        [
         0,
         4,
         "2012-07-19 10:30:00",
         3,
         "Tennis Court 1",
         5,
         25,
         4,
         "Joplette",
         "Janice",
         15,
         0
        ],
        [
         0,
         5,
         "2012-07-19 12:00:00",
         3,
         "Tennis Court 1",
         5,
         25,
         5,
         "Butters",
         "Gerald",
         15,
         0
        ],
        [
         0,
         0,
         "2012-07-19 13:30:00",
         3,
         "Tennis Court 1",
         5,
         25,
         0,
         "GUEST",
         "GUEST",
         75,
         0
        ],
        [
         0,
         5,
         "2012-07-19 16:30:00",
         3,
         "Tennis Court 1",
         5,
         25,
         5,
         "Butters",
         "Gerald",
         15,
         0
        ],
        [
         1,
         1,
         "2012-07-19 11:30:00",
         3,
         "Tennis Court 2",
         5,
         25,
         1,
         "Smith",
         "Darren",
         15,
         0
        ],
        [
         1,
         0,
         "2012-07-19 15:00:00",
         3,
         "Tennis Court 2",
         5,
         25,
         0,
         "GUEST",
         "GUEST",
         75,
         0
        ],
        [
         1,
         0,
         "2012-07-19 18:30:00",
         3,
         "Tennis Court 2",
         5,
         25,
         0,
         "GUEST",
         "GUEST",
         75,
         0
        ],
        [
         2,
         1,
         "2012-07-19 09:30:00",
         3,
         "Badminton Court",
         0,
         15.5,
         1,
         "Smith",
         "Darren",
         0,
         0
        ],
        [
         2,
         0,
         "2012-07-19 11:30:00",
         3,
         "Badminton Court",
         0,
         15.5,
         0,
         "GUEST",
         "GUEST",
         46.5,
         0
        ],
        [
         2,
         1,
         "2012-07-19 14:30:00",
         3,
         "Badminton Court",
         0,
         15.5,
         1,
         "Smith",
         "Darren",
         0,
         0
        ],
        [
         2,
         2,
         "2012-07-19 16:00:00",
         3,
         "Badminton Court",
         0,
         15.5,
         2,
         "Smith",
         "Tracy",
         0,
         0
        ],
        [
         3,
         3,
         "2012-07-19 08:30:00",
         2,
         "Table Tennis",
         0,
         5,
         3,
         "Rownam",
         "Tim",
         0,
         0
        ],
        [
         3,
         3,
         "2012-07-19 17:00:00",
         2,
         "Table Tennis",
         0,
         5,
         3,
         "Rownam",
         "Tim",
         0,
         0
        ],
        [
         3,
         3,
         "2012-07-19 18:30:00",
         2,
         "Table Tennis",
         0,
         5,
         3,
         "Rownam",
         "Tim",
         0,
         0
        ],
        [
         4,
         3,
         "2012-07-19 12:00:00",
         2,
         "Massage Room 1",
         9.9,
         80,
         3,
         "Rownam",
         "Tim",
         19.8,
         0
        ],
        [
         4,
         5,
         "2012-07-19 14:30:00",
         2,
         "Massage Room 1",
         9.9,
         80,
         5,
         "Butters",
         "Gerald",
         19.8,
         0
        ],
        [
         4,
         0,
         "2012-07-19 16:30:00",
         2,
         "Massage Room 1",
         9.9,
         80,
         0,
         "GUEST",
         "GUEST",
         160,
         0
        ],
        [
         4,
         1,
         "2012-07-19 18:30:00",
         2,
         "Massage Room 1",
         9.9,
         80,
         1,
         "Smith",
         "Darren",
         19.8,
         0
        ],
        [
         4,
         0,
         "2012-07-19 19:30:00",
         2,
         "Massage Room 1",
         9.9,
         80,
         0,
         "GUEST",
         "GUEST",
         160,
         0
        ],
        [
         5,
         0,
         "2012-07-19 08:30:00",
         2,
         "Massage Room 2",
         9.9,
         80,
         0,
         "GUEST",
         "GUEST",
         160,
         0
        ],
        [
         6,
         4,
         "2012-07-19 12:30:00",
         2,
         "Squash Court",
         3.5,
         17.5,
         4,
         "Joplette",
         "Janice",
         7,
         0
        ],
        [
         6,
         2,
         "2012-07-19 14:00:00",
         2,
         "Squash Court",
         3.5,
         17.5,
         2,
         "Smith",
         "Tracy",
         7,
         0
        ],
        [
         6,
         0,
         "2012-07-19 15:00:00",
         2,
         "Squash Court",
         3.5,
         17.5,
         0,
         "GUEST",
         "GUEST",
         35,
         0
        ],
        [
         6,
         0,
         "2012-07-19 16:30:00",
         2,
         "Squash Court",
         3.5,
         17.5,
         0,
         "GUEST",
         "GUEST",
         35,
         0
        ],
        [
         7,
         2,
         "2012-07-19 13:00:00",
         2,
         "Snooker Table",
         0,
         5,
         2,
         "Smith",
         "Tracy",
         0,
         0
        ],
        [
         7,
         0,
         "2012-07-19 14:00:00",
         2,
         "Snooker Table",
         0,
         5,
         0,
         "GUEST",
         "GUEST",
         10,
         0
        ],
        [
         7,
         0,
         "2012-07-19 16:30:00",
         2,
         "Snooker Table",
         0,
         5,
         0,
         "GUEST",
         "GUEST",
         10,
         0
        ],
        [
         7,
         4,
         "2012-07-19 17:30:00",
         4,
         "Snooker Table",
         0,
         5,
         4,
         "Joplette",
         "Janice",
         0,
         0
        ],
        [
         8,
         3,
         "2012-07-19 11:00:00",
         1,
         "Pool Table",
         0,
         5,
         3,
         "Rownam",
         "Tim",
         0,
         0
        ],
        [
         8,
         1,
         "2012-07-19 13:30:00",
         1,
         "Pool Table",
         0,
         5,
         1,
         "Smith",
         "Darren",
         0,
         0
        ],
        [
         8,
         3,
         "2012-07-19 14:30:00",
         1,
         "Pool Table",
         0,
         5,
         3,
         "Rownam",
         "Tim",
         0,
         0
        ],
        [
         8,
         3,
         "2012-07-19 18:00:00",
         1,
         "Pool Table",
         0,
         5,
         3,
         "Rownam",
         "Tim",
         0,
         0
        ],
        [
         8,
         3,
         "2012-07-19 20:00:00",
         1,
         "Pool Table",
         0,
         5,
         3,
         "Rownam",
         "Tim",
         0,
         0
        ],
        [
         0,
         3,
         "2012-07-20 08:00:00",
         3,
         "Tennis Court 1",
         5,
         25,
         3,
         "Rownam",
         "Tim",
         15,
         0
        ],
        [
         0,
         5,
         "2012-07-20 12:00:00",
         3,
         "Tennis Court 1",
         5,
         25,
         5,
         "Butters",
         "Gerald",
         15,
         0
        ],
        [
         0,
         5,
         "2012-07-20 14:00:00",
         3,
         "Tennis Court 1",
         5,
         25,
         5,
         "Butters",
         "Gerald",
         15,
         0
        ],
        [
         0,
         5,
         "2012-07-20 17:30:00",
         3,
         "Tennis Court 1",
         5,
         25,
         5,
         "Butters",
         "Gerald",
         15,
         0
        ],
        [
         0,
         0,
         "2012-07-20 19:00:00",
         3,
         "Tennis Court 1",
         5,
         25,
         0,
         "GUEST",
         "GUEST",
         75,
         0
        ],
        [
         1,
         2,
         "2012-07-20 08:30:00",
         3,
         "Tennis Court 2",
         5,
         25,
         2,
         "Smith",
         "Tracy",
         15,
         0
        ],
        [
         1,
         3,
         "2012-07-20 12:00:00",
         3,
         "Tennis Court 2",
         5,
         25,
         3,
         "Rownam",
         "Tim",
         15,
         0
        ],
        [
         1,
         4,
         "2012-07-20 13:30:00",
         3,
         "Tennis Court 2",
         5,
         25,
         4,
         "Joplette",
         "Janice",
         15,
         0
        ],
        [
         2,
         1,
         "2012-07-20 14:30:00",
         3,
         "Badminton Court",
         0,
         15.5,
         1,
         "Smith",
         "Darren",
         0,
         0
        ],
        [
         3,
         3,
         "2012-07-20 15:00:00",
         2,
         "Table Tennis",
         0,
         5,
         3,
         "Rownam",
         "Tim",
         0,
         0
        ],
        [
         3,
         1,
         "2012-07-20 17:30:00",
         2,
         "Table Tennis",
         0,
         5,
         1,
         "Smith",
         "Darren",
         0,
         0
        ],
        [
         4,
         5,
         "2012-07-20 08:00:00",
         2,
         "Massage Room 1",
         9.9,
         80,
         5,
         "Butters",
         "Gerald",
         19.8,
         0
        ],
        [
         4,
         0,
         "2012-07-20 13:00:00",
         2,
         "Massage Room 1",
         9.9,
         80,
         0,
         "GUEST",
         "GUEST",
         160,
         0
        ],
        [
         4,
         1,
         "2012-07-20 16:30:00",
         2,
         "Massage Room 1",
         9.9,
         80,
         1,
         "Smith",
         "Darren",
         19.8,
         0
        ],
        [
         4,
         0,
         "2012-07-20 17:30:00",
         2,
         "Massage Room 1",
         9.9,
         80,
         0,
         "GUEST",
         "GUEST",
         160,
         0
        ],
        [
         4,
         3,
         "2012-07-20 18:30:00",
         2,
         "Massage Room 1",
         9.9,
         80,
         3,
         "Rownam",
         "Tim",
         19.8,
         0
        ],
        [
         6,
         0,
         "2012-07-20 11:00:00",
         2,
         "Squash Court",
         3.5,
         17.5,
         0,
         "GUEST",
         "GUEST",
         35,
         0
        ],
        [
         6,
         4,
         "2012-07-20 12:30:00",
         2,
         "Squash Court",
         3.5,
         17.5,
         4,
         "Joplette",
         "Janice",
         7,
         0
        ],
        [
         6,
         2,
         "2012-07-20 15:00:00",
         2,
         "Squash Court",
         3.5,
         17.5,
         2,
         "Smith",
         "Tracy",
         7,
         0
        ],
        [
         6,
         0,
         "2012-07-20 16:00:00",
         4,
         "Squash Court",
         3.5,
         17.5,
         0,
         "GUEST",
         "GUEST",
         70,
         0
        ],
        [
         7,
         2,
         "2012-07-20 12:30:00",
         2,
         "Snooker Table",
         0,
         5,
         2,
         "Smith",
         "Tracy",
         0,
         0
        ],
        [
         7,
         2,
         "2012-07-20 16:00:00",
         2,
         "Snooker Table",
         0,
         5,
         2,
         "Smith",
         "Tracy",
         0,
         0
        ],
        [
         7,
         4,
         "2012-07-20 19:30:00",
         2,
         "Snooker Table",
         0,
         5,
         4,
         "Joplette",
         "Janice",
         0,
         0
        ],
        [
         8,
         1,
         "2012-07-20 09:00:00",
         1,
         "Pool Table",
         0,
         5,
         1,
         "Smith",
         "Darren",
         0,
         0
        ],
        [
         8,
         2,
         "2012-07-20 12:00:00",
         1,
         "Pool Table",
         0,
         5,
         2,
         "Smith",
         "Tracy",
         0,
         0
        ],
        [
         8,
         3,
         "2012-07-20 19:30:00",
         1,
         "Pool Table",
         0,
         5,
         3,
         "Rownam",
         "Tim",
         0,
         0
        ],
        [
         0,
         0,
         "2012-07-21 08:00:00",
         3,
         "Tennis Court 1",
         5,
         25,
         0,
         "GUEST",
         "GUEST",
         75,
         0
        ],
        [
         0,
         5,
         "2012-07-21 11:00:00",
         3,
         "Tennis Court 1",
         5,
         25,
         5,
         "Butters",
         "Gerald",
         15,
         0
        ],
        [
         0,
         5,
         "2012-07-21 13:30:00",
         3,
         "Tennis Court 1",
         5,
         25,
         5,
         "Butters",
         "Gerald",
         15,
         0
        ],
        [
         0,
         4,
         "2012-07-21 15:30:00",
         3,
         "Tennis Court 1",
         5,
         25,
         4,
         "Joplette",
         "Janice",
         15,
         0
        ],
        [
         1,
         1,
         "2012-07-21 09:30:00",
         3,
         "Tennis Court 2",
         5,
         25,
         1,
         "Smith",
         "Darren",
         15,
         0
        ],
        [
         1,
         0,
         "2012-07-21 11:00:00",
         3,
         "Tennis Court 2",
         5,
         25,
         0,
         "GUEST",
         "GUEST",
         75,
         0
        ],
        [
         2,
         0,
         "2012-07-21 10:30:00",
         3,
         "Badminton Court",
         0,
         15.5,
         0,
         "GUEST",
         "GUEST",
         46.5,
         0
        ],
        [
         2,
         1,
         "2012-07-21 13:30:00",
         3,
         "Badminton Court",
         0,
         15.5,
         1,
         "Smith",
         "Darren",
         0,
         0
        ],
        [
         3,
         2,
         "2012-07-21 08:00:00",
         2,
         "Table Tennis",
         0,
         5,
         2,
         "Smith",
         "Tracy",
         0,
         0
        ],
        [
         4,
         0,
         "2012-07-21 09:00:00",
         2,
         "Massage Room 1",
         9.9,
         80,
         0,
         "GUEST",
         "GUEST",
         160,
         0
        ],
        [
         4,
         3,
         "2012-07-21 10:30:00",
         2,
         "Massage Room 1",
         9.9,
         80,
         3,
         "Rownam",
         "Tim",
         19.8,
         0
        ],
        [
         4,
         0,
         "2012-07-21 14:00:00",
         4,
         "Massage Room 1",
         9.9,
         80,
         0,
         "GUEST",
         "GUEST",
         320,
         0
        ],
        [
         4,
         3,
         "2012-07-21 16:00:00",
         2,
         "Massage Room 1",
         9.9,
         80,
         3,
         "Rownam",
         "Tim",
         19.8,
         0
        ],
        [
         4,
         1,
         "2012-07-21 17:00:00",
         2,
         "Massage Room 1",
         9.9,
         80,
         1,
         "Smith",
         "Darren",
         19.8,
         0
        ],
        [
         4,
         0,
         "2012-07-21 19:00:00",
         2,
         "Massage Room 1",
         9.9,
         80,
         0,
         "GUEST",
         "GUEST",
         160,
         0
        ],
        [
         6,
         4,
         "2012-07-21 08:00:00",
         2,
         "Squash Court",
         3.5,
         17.5,
         4,
         "Joplette",
         "Janice",
         7,
         0
        ],
        [
         6,
         0,
         "2012-07-21 09:30:00",
         2,
         "Squash Court",
         3.5,
         17.5,
         0,
         "GUEST",
         "GUEST",
         35,
         0
        ],
        [
         6,
         0,
         "2012-07-21 12:00:00",
         2,
         "Squash Court",
         3.5,
         17.5,
         0,
         "GUEST",
         "GUEST",
         35,
         0
        ],
        [
         8,
         3,
         "2012-07-21 09:30:00",
         1,
         "Pool Table",
         0,
         5,
         3,
         "Rownam",
         "Tim",
         0,
         0
        ],
        [
         8,
         3,
         "2012-07-21 11:30:00",
         1,
         "Pool Table",
         0,
         5,
         3,
         "Rownam",
         "Tim",
         0,
         0
        ],
        [
         8,
         3,
         "2012-07-21 18:00:00",
         2,
         "Pool Table",
         0,
         5,
         3,
         "Rownam",
         "Tim",
         0,
         0
        ],
        [
         8,
         3,
         "2012-07-21 19:30:00",
         1,
         "Pool Table",
         0,
         5,
         3,
         "Rownam",
         "Tim",
         0,
         0
        ],
        [
         0,
         5,
         "2012-07-22 10:00:00",
         3,
         "Tennis Court 1",
         5,
         25,
         5,
         "Butters",
         "Gerald",
         15,
         0
        ],
        [
         0,
         0,
         "2012-07-22 16:00:00",
         3,
         "Tennis Court 1",
         5,
         25,
         0,
         "GUEST",
         "GUEST",
         75,
         0
        ],
        [
         0,
         2,
         "2012-07-22 18:00:00",
         3,
         "Tennis Court 1",
         5,
         25,
         2,
         "Smith",
         "Tracy",
         15,
         0
        ],
        [
         1,
         0,
         "2012-07-22 08:30:00",
         3,
         "Tennis Court 2",
         5,
         25,
         0,
         "GUEST",
         "GUEST",
         75,
         0
        ],
        [
         1,
         0,
         "2012-07-22 10:30:00",
         3,
         "Tennis Court 2",
         5,
         25,
         0,
         "GUEST",
         "GUEST",
         75,
         0
        ],
        [
         1,
         5,
         "2012-07-22 18:30:00",
         3,
         "Tennis Court 2",
         5,
         25,
         5,
         "Butters",
         "Gerald",
         15,
         0
        ],
        [
         2,
         1,
         "2012-07-22 08:30:00",
         3,
         "Badminton Court",
         0,
         15.5,
         1,
         "Smith",
         "Darren",
         0,
         0
        ],
        [
         2,
         1,
         "2012-07-22 13:30:00",
         3,
         "Badminton Court",
         0,
         15.5,
         1,
         "Smith",
         "Darren",
         0,
         0
        ],
        [
         2,
         1,
         "2012-07-22 16:30:00",
         3,
         "Badminton Court",
         0,
         15.5,
         1,
         "Smith",
         "Darren",
         0,
         0
        ],
        [
         3,
         3,
         "2012-07-22 11:30:00",
         2,
         "Table Tennis",
         0,
         5,
         3,
         "Rownam",
         "Tim",
         0,
         0
        ],
        [
         3,
         2,
         "2012-07-22 14:00:00",
         2,
         "Table Tennis",
         0,
         5,
         2,
         "Smith",
         "Tracy",
         0,
         0
        ],
        [
         4,
         4,
         "2012-07-22 08:00:00",
         2,
         "Massage Room 1",
         9.9,
         80,
         4,
         "Joplette",
         "Janice",
         19.8,
         0
        ],
        [
         4,
         3,
         "2012-07-22 10:30:00",
         2,
         "Massage Room 1",
         9.9,
         80,
         3,
         "Rownam",
         "Tim",
         19.8,
         0
        ],
        [
         4,
         0,
         "2012-07-22 12:00:00",
         2,
         "Massage Room 1",
         9.9,
         80,
         0,
         "GUEST",
         "GUEST",
         160,
         0
        ],
        [
         4,
         5,
         "2012-07-22 13:00:00",
         2,
         "Massage Room 1",
         9.9,
         80,
         5,
         "Butters",
         "Gerald",
         19.8,
         0
        ],
        [
         4,
         0,
         "2012-07-22 16:30:00",
         2,
         "Massage Room 1",
         9.9,
         80,
         0,
         "GUEST",
         "GUEST",
         160,
         0
        ],
        [
         4,
         1,
         "2012-07-22 18:00:00",
         2,
         "Massage Room 1",
         9.9,
         80,
         1,
         "Smith",
         "Darren",
         19.8,
         0
        ],
        [
         4,
         3,
         "2012-07-22 19:30:00",
         2,
         "Massage Room 1",
         9.9,
         80,
         3,
         "Rownam",
         "Tim",
         19.8,
         0
        ],
        [
         6,
         4,
         "2012-07-22 10:30:00",
         4,
         "Squash Court",
         3.5,
         17.5,
         4,
         "Joplette",
         "Janice",
         14,
         0
        ],
        [
         6,
         0,
         "2012-07-22 14:30:00",
         2,
         "Squash Court",
         3.5,
         17.5,
         0,
         "GUEST",
         "GUEST",
         35,
         0
        ],
        [
         6,
         0,
         "2012-07-22 16:30:00",
         2,
         "Squash Court",
         3.5,
         17.5,
         0,
         "GUEST",
         "GUEST",
         35,
         0
        ],
        [
         7,
         2,
         "2012-07-22 10:30:00",
         2,
         "Snooker Table",
         0,
         5,
         2,
         "Smith",
         "Tracy",
         0,
         0
        ],
        [
         7,
         2,
         "2012-07-22 12:00:00",
         2,
         "Snooker Table",
         0,
         5,
         2,
         "Smith",
         "Tracy",
         0,
         0
        ],
        [
         8,
         3,
         "2012-07-22 16:00:00",
         1,
         "Pool Table",
         0,
         5,
         3,
         "Rownam",
         "Tim",
         0,
         0
        ],
        [
         8,
         3,
         "2012-07-22 17:00:00",
         1,
         "Pool Table",
         0,
         5,
         3,
         "Rownam",
         "Tim",
         0,
         0
        ],
        [
         8,
         2,
         "2012-07-22 17:30:00",
         1,
         "Pool Table",
         0,
         5,
         2,
         "Smith",
         "Tracy",
         0,
         0
        ],
        [
         0,
         0,
         "2012-07-23 09:30:00",
         3,
         "Tennis Court 1",
         5,
         25,
         0,
         "GUEST",
         "GUEST",
         75,
         0
        ],
        [
         0,
         0,
         "2012-07-23 12:00:00",
         3,
         "Tennis Court 1",
         5,
         25,
         0,
         "GUEST",
         "GUEST",
         75,
         0
        ],
        [
         0,
         5,
         "2012-07-23 17:00:00",
         3,
         "Tennis Court 1",
         5,
         25,
         5,
         "Butters",
         "Gerald",
         15,
         0
        ],
        [
         1,
         1,
         "2012-07-23 10:00:00",
         3,
         "Tennis Court 2",
         5,
         25,
         1,
         "Smith",
         "Darren",
         15,
         0
        ],
        [
         1,
         4,
         "2012-07-23 12:30:00",
         3,
         "Tennis Court 2",
         5,
         25,
         4,
         "Joplette",
         "Janice",
         15,
         0
        ],
        [
         1,
         4,
         "2012-07-23 15:30:00",
         3,
         "Tennis Court 2",
         5,
         25,
         4,
         "Joplette",
         "Janice",
         15,
         0
        ],
        [
         1,
         0,
         "2012-07-23 17:00:00",
         3,
         "Tennis Court 2",
         5,
         25,
         0,
         "GUEST",
         "GUEST",
         75,
         0
        ],
        [
         1,
         4,
         "2012-07-23 19:00:00",
         3,
         "Tennis Court 2",
         5,
         25,
         4,
         "Joplette",
         "Janice",
         15,
         0
        ],
        [
         2,
         1,
         "2012-07-23 08:00:00",
         3,
         "Badminton Court",
         0,
         15.5,
         1,
         "Smith",
         "Darren",
         0,
         0
        ],
        [
         2,
         5,
         "2012-07-23 11:30:00",
         3,
         "Badminton Court",
         0,
         15.5,
         5,
         "Butters",
         "Gerald",
         0,
         0
        ],
        [
         2,
         1,
         "2012-07-23 13:00:00",
         3,
         "Badminton Court",
         0,
         15.5,
         1,
         "Smith",
         "Darren",
         0,
         0
        ],
        [
         2,
         1,
         "2012-07-23 15:00:00",
         3,
         "Badminton Court",
         0,
         15.5,
         1,
         "Smith",
         "Darren",
         0,
         0
        ],
        [
         3,
         2,
         "2012-07-23 09:30:00",
         2,
         "Table Tennis",
         0,
         5,
         2,
         "Smith",
         "Tracy",
         0,
         0
        ],
        [
         3,
         2,
         "2012-07-23 19:00:00",
         2,
         "Table Tennis",
         0,
         5,
         2,
         "Smith",
         "Tracy",
         0,
         0
        ],
        [
         4,
         4,
         "2012-07-23 10:00:00",
         2,
         "Massage Room 1",
         9.9,
         80,
         4,
         "Joplette",
         "Janice",
         19.8,
         0
        ],
        [
         4,
         0,
         "2012-07-23 16:30:00",
         2,
         "Massage Room 1",
         9.9,
         80,
         0,
         "GUEST",
         "GUEST",
         160,
         0
        ],
        [
         4,
         3,
         "2012-07-23 19:00:00",
         2,
         "Massage Room 1",
         9.9,
         80,
         3,
         "Rownam",
         "Tim",
         19.8,
         0
        ],
        [
         5,
         3,
         "2012-07-23 13:00:00",
         2,
         "Massage Room 2",
         9.9,
         80,
         3,
         "Rownam",
         "Tim",
         19.8,
         0
        ],
        [
         6,
         0,
         "2012-07-23 13:30:00",
         2,
         "Squash Court",
         3.5,
         17.5,
         0,
         "GUEST",
         "GUEST",
         35,
         0
        ],
        [
         6,
         0,
         "2012-07-23 15:00:00",
         4,
         "Squash Court",
         3.5,
         17.5,
         0,
         "GUEST",
         "GUEST",
         70,
         0
        ],
        [
         6,
         0,
         "2012-07-23 19:00:00",
         2,
         "Squash Court",
         3.5,
         17.5,
         0,
         "GUEST",
         "GUEST",
         35,
         0
        ],
        [
         7,
         5,
         "2012-07-23 16:00:00",
         2,
         "Snooker Table",
         0,
         5,
         5,
         "Butters",
         "Gerald",
         0,
         0
        ],
        [
         7,
         4,
         "2012-07-23 18:00:00",
         2,
         "Snooker Table",
         0,
         5,
         4,
         "Joplette",
         "Janice",
         0,
         0
        ],
        [
         8,
         3,
         "2012-07-23 08:30:00",
         3,
         "Pool Table",
         0,
         5,
         3,
         "Rownam",
         "Tim",
         0,
         0
        ],
        [
         8,
         3,
         "2012-07-23 11:00:00",
         1,
         "Pool Table",
         0,
         5,
         3,
         "Rownam",
         "Tim",
         0,
         0
        ],
        [
         8,
         3,
         "2012-07-23 14:00:00",
         2,
         "Pool Table",
         0,
         5,
         3,
         "Rownam",
         "Tim",
         0,
         0
        ],
        [
         8,
         2,
         "2012-07-23 15:00:00",
         1,
         "Pool Table",
         0,
         5,
         2,
         "Smith",
         "Tracy",
         0,
         0
        ],
        [
         0,
         0,
         "2012-07-24 11:00:00",
         3,
         "Tennis Court 1",
         5,
         25,
         0,
         "GUEST",
         "GUEST",
         75,
         0
        ],
        [
         0,
         4,
         "2012-07-24 13:00:00",
         3,
         "Tennis Court 1",
         5,
         25,
         4,
         "Joplette",
         "Janice",
         15,
         0
        ],
        [
         0,
         5,
         "2012-07-24 14:30:00",
         3,
         "Tennis Court 1",
         5,
         25,
         5,
         "Butters",
         "Gerald",
         15,
         0
        ],
        [
         1,
         4,
         "2012-07-24 11:00:00",
         3,
         "Tennis Court 2",
         5,
         25,
         4,
         "Joplette",
         "Janice",
         15,
         0
        ],
        [
         1,
         0,
         "2012-07-24 16:00:00",
         6,
         "Tennis Court 2",
         5,
         25,
         0,
         "GUEST",
         "GUEST",
         150,
         0
        ],
        [
         1,
         1,
         "2012-07-24 19:00:00",
         3,
         "Tennis Court 2",
         5,
         25,
         1,
         "Smith",
         "Darren",
         15,
         0
        ],
        [
         2,
         1,
         "2012-07-24 09:00:00",
         3,
         "Badminton Court",
         0,
         15.5,
         1,
         "Smith",
         "Darren",
         0,
         0
        ],
        [
         2,
         2,
         "2012-07-24 12:30:00",
         3,
         "Badminton Court",
         0,
         15.5,
         2,
         "Smith",
         "Tracy",
         0,
         0
        ],
        [
         3,
         3,
         "2012-07-24 09:00:00",
         2,
         "Table Tennis",
         0,
         5,
         3,
         "Rownam",
         "Tim",
         0,
         0
        ],
        [
         3,
         3,
         "2012-07-24 17:30:00",
         2,
         "Table Tennis",
         0,
         5,
         3,
         "Rownam",
         "Tim",
         0,
         0
        ],
        [
         4,
         0,
         "2012-07-24 08:30:00",
         2,
         "Massage Room 1",
         9.9,
         80,
         0,
         "GUEST",
         "GUEST",
         160,
         0
        ],
        [
         4,
         5,
         "2012-07-24 09:30:00",
         2,
         "Massage Room 1",
         9.9,
         80,
         5,
         "Butters",
         "Gerald",
         19.8,
         0
        ],
        [
         4,
         0,
         "2012-07-24 11:30:00",
         2,
         "Massage Room 1",
         9.9,
         80,
         0,
         "GUEST",
         "GUEST",
         160,
         0
        ],
        [
         4,
         1,
         "2012-07-24 14:30:00",
         2,
         "Massage Room 1",
         9.9,
         80,
         1,
         "Smith",
         "Darren",
         19.8,
         0
        ],
        [
         4,
         0,
         "2012-07-24 15:30:00",
         2,
         "Massage Room 1",
         9.9,
         80,
         0,
         "GUEST",
         "GUEST",
         160,
         0
        ],
        [
         4,
         0,
         "2012-07-24 17:30:00",
         2,
         "Massage Room 1",
         9.9,
         80,
         0,
         "GUEST",
         "GUEST",
         160,
         0
        ],
        [
         4,
         0,
         "2012-07-24 19:30:00",
         2,
         "Massage Room 1",
         9.9,
         80,
         0,
         "GUEST",
         "GUEST",
         160,
         0
        ],
        [
         5,
         5,
         "2012-07-24 16:30:00",
         2,
         "Massage Room 2",
         9.9,
         80,
         5,
         "Butters",
         "Gerald",
         19.8,
         0
        ],
        [
         6,
         0,
         "2012-07-24 09:30:00",
         2,
         "Squash Court",
         3.5,
         17.5,
         0,
         "GUEST",
         "GUEST",
         35,
         0
        ],
        [
         6,
         0,
         "2012-07-24 14:30:00",
         2,
         "Squash Court",
         3.5,
         17.5,
         0,
         "GUEST",
         "GUEST",
         35,
         0
        ],
        [
         7,
         4,
         "2012-07-24 09:30:00",
         2,
         "Snooker Table",
         0,
         5,
         4,
         "Joplette",
         "Janice",
         0,
         0
        ],
        [
         7,
         5,
         "2012-07-24 11:30:00",
         2,
         "Snooker Table",
         0,
         5,
         5,
         "Butters",
         "Gerald",
         0,
         0
        ],
        [
         7,
         2,
         "2012-07-24 16:30:00",
         2,
         "Snooker Table",
         0,
         5,
         2,
         "Smith",
         "Tracy",
         0,
         0
        ],
        [
         7,
         4,
         "2012-07-24 18:00:00",
         2,
         "Snooker Table",
         0,
         5,
         4,
         "Joplette",
         "Janice",
         0,
         0
        ],
        [
         7,
         2,
         "2012-07-24 19:30:00",
         2,
         "Snooker Table",
         0,
         5,
         2,
         "Smith",
         "Tracy",
         0,
         0
        ],
        [
         8,
         3,
         "2012-07-24 08:30:00",
         1,
         "Pool Table",
         0,
         5,
         3,
         "Rownam",
         "Tim",
         0,
         0
        ],
        [
         8,
         3,
         "2012-07-24 10:30:00",
         2,
         "Pool Table",
         0,
         5,
         3,
         "Rownam",
         "Tim",
         0,
         0
        ],
        [
         8,
         3,
         "2012-07-24 12:00:00",
         1,
         "Pool Table",
         0,
         5,
         3,
         "Rownam",
         "Tim",
         0,
         0
        ],
        [
         8,
         3,
         "2012-07-24 14:00:00",
         1,
         "Pool Table",
         0,
         5,
         3,
         "Rownam",
         "Tim",
         0,
         0
        ],
        [
         8,
         0,
         "2012-07-24 15:00:00",
         1,
         "Pool Table",
         0,
         5,
         0,
         "GUEST",
         "GUEST",
         5,
         0
        ],
        [
         8,
         4,
         "2012-07-24 16:30:00",
         1,
         "Pool Table",
         0,
         5,
         4,
         "Joplette",
         "Janice",
         0,
         0
        ],
        [
         8,
         0,
         "2012-07-24 20:00:00",
         1,
         "Pool Table",
         0,
         5,
         0,
         "GUEST",
         "GUEST",
         5,
         0
        ],
        [
         0,
         5,
         "2012-07-25 08:00:00",
         3,
         "Tennis Court 1",
         5,
         25,
         5,
         "Butters",
         "Gerald",
         15,
         0
        ],
        [
         0,
         0,
         "2012-07-25 12:30:00",
         3,
         "Tennis Court 1",
         5,
         25,
         0,
         "GUEST",
         "GUEST",
         75,
         0
        ],
        [
         0,
         0,
         "2012-07-25 16:30:00",
         3,
         "Tennis Court 1",
         5,
         25,
         0,
         "GUEST",
         "GUEST",
         75,
         0
        ],
        [
         1,
         1,
         "2012-07-25 08:00:00",
         3,
         "Tennis Court 2",
         5,
         25,
         1,
         "Smith",
         "Darren",
         15,
         0
        ],
        [
         1,
         0,
         "2012-07-25 10:30:00",
         3,
         "Tennis Court 2",
         5,
         25,
         0,
         "GUEST",
         "GUEST",
         75,
         0
        ],
        [
         1,
         4,
         "2012-07-25 15:00:00",
         3,
         "Tennis Court 2",
         5,
         25,
         4,
         "Joplette",
         "Janice",
         15,
         0
        ],
        [
         2,
         1,
         "2012-07-25 13:30:00",
         3,
         "Badminton Court",
         0,
         15.5,
         1,
         "Smith",
         "Darren",
         0,
         0
        ],
        [
         2,
         1,
         "2012-07-25 17:30:00",
         3,
         "Badminton Court",
         0,
         15.5,
         1,
         "Smith",
         "Darren",
         0,
         0
        ],
        [
         3,
         2,
         "2012-07-25 10:00:00",
         2,
         "Table Tennis",
         0,
         5,
         2,
         "Smith",
         "Tracy",
         0,
         0
        ],
        [
         3,
         3,
         "2012-07-25 14:00:00",
         4,
         "Table Tennis",
         0,
         5,
         3,
         "Rownam",
         "Tim",
         0,
         0
        ],
        [
         3,
         3,
         "2012-07-25 17:00:00",
         2,
         "Table Tennis",
         0,
         5,
         3,
         "Rownam",
         "Tim",
         0,
         0
        ],
        [
         3,
         2,
         "2012-07-25 18:30:00",
         2,
         "Table Tennis",
         0,
         5,
         2,
         "Smith",
         "Tracy",
         0,
         0
        ],
        [
         4,
         3,
         "2012-07-25 08:30:00",
         2,
         "Massage Room 1",
         9.9,
         80,
         3,
         "Rownam",
         "Tim",
         19.8,
         0
        ],
        [
         4,
         0,
         "2012-07-25 09:30:00",
         4,
         "Massage Room 1",
         9.9,
         80,
         0,
         "GUEST",
         "GUEST",
         320,
         0
        ],
        [
         4,
         3,
         "2012-07-25 11:30:00",
         4,
         "Massage Room 1",
         9.9,
         80,
         3,
         "Rownam",
         "Tim",
         39.6,
         0
        ],
        [
         4,
         5,
         "2012-07-25 13:30:00",
         4,
         "Massage Room 1",
         9.9,
         80,
         5,
         "Butters",
         "Gerald",
         39.6,
         0
        ],
        [
         4,
         3,
         "2012-07-25 16:00:00",
         2,
         "Massage Room 1",
         9.9,
         80,
         3,
         "Rownam",
         "Tim",
         19.8,
         0
        ],
        [
         4,
         3,
         "2012-07-25 18:00:00",
         2,
         "Massage Room 1",
         9.9,
         80,
         3,
         "Rownam",
         "Tim",
         19.8,
         0
        ],
        [
         4,
         3,
         "2012-07-25 19:30:00",
         2,
         "Massage Room 1",
         9.9,
         80,
         3,
         "Rownam",
         "Tim",
         19.8,
         0
        ],
        [
         5,
         0,
         "2012-07-25 18:30:00",
         2,
         "Massage Room 2",
         9.9,
         80,
         0,
         "GUEST",
         "GUEST",
         160,
         0
        ],
        [
         6,
         4,
         "2012-07-25 08:30:00",
         2,
         "Squash Court",
         3.5,
         17.5,
         4,
         "Joplette",
         "Janice",
         7,
         0
        ],
        [
         6,
         1,
         "2012-07-25 09:30:00",
         2,
         "Squash Court",
         3.5,
         17.5,
         1,
         "Smith",
         "Darren",
         7,
         0
        ],
        [
         6,
         0,
         "2012-07-25 12:00:00",
         2,
         "Squash Court",
         3.5,
         17.5,
         0,
         "GUEST",
         "GUEST",
         35,
         0
        ],
        [
         6,
         0,
         "2012-07-25 13:30:00",
         2,
         "Squash Court",
         3.5,
         17.5,
         0,
         "GUEST",
         "GUEST",
         35,
         0
        ],
        [
         6,
         0,
         "2012-07-25 16:30:00",
         4,
         "Squash Court",
         3.5,
         17.5,
         0,
         "GUEST",
         "GUEST",
         70,
         0
        ],
        [
         6,
         5,
         "2012-07-25 19:00:00",
         2,
         "Squash Court",
         3.5,
         17.5,
         5,
         "Butters",
         "Gerald",
         7,
         0
        ],
        [
         7,
         5,
         "2012-07-25 10:30:00",
         2,
         "Snooker Table",
         0,
         5,
         5,
         "Butters",
         "Gerald",
         0,
         0
        ],
        [
         7,
         2,
         "2012-07-25 14:00:00",
         2,
         "Snooker Table",
         0,
         5,
         2,
         "Smith",
         "Tracy",
         0,
         0
        ],
        [
         7,
         2,
         "2012-07-25 16:00:00",
         2,
         "Snooker Table",
         0,
         5,
         2,
         "Smith",
         "Tracy",
         0,
         0
        ],
        [
         8,
         3,
         "2012-07-25 08:00:00",
         1,
         "Pool Table",
         0,
         5,
         3,
         "Rownam",
         "Tim",
         0,
         0
        ],
        [
         8,
         3,
         "2012-07-25 10:00:00",
         1,
         "Pool Table",
         0,
         5,
         3,
         "Rownam",
         "Tim",
         0,
         0
        ],
        [
         8,
         4,
         "2012-07-25 14:30:00",
         1,
         "Pool Table",
         0,
         5,
         4,
         "Joplette",
         "Janice",
         0,
         0
        ],
        [
         8,
         1,
         "2012-07-25 16:00:00",
         1,
         "Pool Table",
         0,
         5,
         1,
         "Smith",
         "Darren",
         0,
         0
        ],
        [
         8,
         2,
         "2012-07-25 20:00:00",
         1,
         "Pool Table",
         0,
         5,
         2,
         "Smith",
         "Tracy",
         0,
         0
        ],
        [
         0,
         4,
         "2012-07-26 09:00:00",
         3,
         "Tennis Court 1",
         5,
         25,
         4,
         "Joplette",
         "Janice",
         15,
         0
        ],
        [
         0,
         0,
         "2012-07-26 11:30:00",
         3,
         "Tennis Court 1",
         5,
         25,
         0,
         "GUEST",
         "GUEST",
         75,
         0
        ],
        [
         0,
         4,
         "2012-07-26 18:00:00",
         3,
         "Tennis Court 1",
         5,
         25,
         4,
         "Joplette",
         "Janice",
         15,
         0
        ],
        [
         1,
         8,
         "2012-07-26 08:00:00",
         3,
         "Tennis Court 2",
         5,
         25,
         8,
         "Boothe",
         "Tim",
         15,
         0
        ],
        [
         1,
         8,
         "2012-07-26 11:30:00",
         3,
         "Tennis Court 2",
         5,
         25,
         8,
         "Boothe",
         "Tim",
         15,
         0
        ],
        [
         1,
         8,
         "2012-07-26 13:30:00",
         3,
         "Tennis Court 2",
         5,
         25,
         8,
         "Boothe",
         "Tim",
         15,
         0
        ],
        [
         1,
         1,
         "2012-07-26 15:00:00",
         3,
         "Tennis Court 2",
         5,
         25,
         1,
         "Smith",
         "Darren",
         15,
         0
        ],
        [
         1,
         0,
         "2012-07-26 16:30:00",
         3,
         "Tennis Court 2",
         5,
         25,
         0,
         "GUEST",
         "GUEST",
         75,
         0
        ],
        [
         1,
         6,
         "2012-07-26 19:00:00",
         3,
         "Tennis Court 2",
         5,
         25,
         6,
         "Tracy",
         "Burton",
         15,
         0
        ],
        [
         2,
         1,
         "2012-07-26 08:30:00",
         3,
         "Badminton Court",
         0,
         15.5,
         1,
         "Smith",
         "Darren",
         0,
         0
        ],
        [
         2,
         2,
         "2012-07-26 11:00:00",
         6,
         "Badminton Court",
         0,
         15.5,
         2,
         "Smith",
         "Tracy",
         0,
         0
        ],
        [
         2,
         7,
         "2012-07-26 14:00:00",
         3,
         "Badminton Court",
         0,
         15.5,
         7,
         "Dare",
         "Nancy",
         0,
         0
        ],
        [
         2,
         2,
         "2012-07-26 17:00:00",
         3,
         "Badminton Court",
         0,
         15.5,
         2,
         "Smith",
         "Tracy",
         0,
         0
        ],
        [
         2,
         3,
         "2012-07-26 19:00:00",
         3,
         "Badminton Court",
         0,
         15.5,
         3,
         "Rownam",
         "Tim",
         0,
         0
        ],
        [
         3,
         0,
         "2012-07-26 09:00:00",
         2,
         "Table Tennis",
         0,
         5,
         0,
         "GUEST",
         "GUEST",
         10,
         0
        ],
        [
         3,
         0,
         "2012-07-26 13:30:00",
         2,
         "Table Tennis",
         0,
         5,
         0,
         "GUEST",
         "GUEST",
         10,
         0
        ],
        [
         3,
         3,
         "2012-07-26 16:00:00",
         2,
         "Table Tennis",
         0,
         5,
         3,
         "Rownam",
         "Tim",
         0,
         0
        ],
        [
         4,
         3,
         "2012-07-26 08:00:00",
         2,
         "Massage Room 1",
         9.9,
         80,
         3,
         "Rownam",
         "Tim",
         19.8,
         0
        ],
        [
         4,
         6,
         "2012-07-26 09:00:00",
         2,
         "Massage Room 1",
         9.9,
         80,
         6,
         "Tracy",
         "Burton",
         19.8,
         0
        ],
        [
         4,
         0,
         "2012-07-26 12:00:00",
         2,
         "Massage Room 1",
         9.9,
         80,
         0,
         "GUEST",
         "GUEST",
         160,
         0
        ],
        [
         4,
         5,
         "2012-07-26 13:30:00",
         2,
         "Massage Room 1",
         9.9,
         80,
         5,
         "Butters",
         "Gerald",
         19.8,
         0
        ],
        [
         4,
         6,
         "2012-07-26 16:00:00",
         2,
         "Massage Room 1",
         9.9,
         80,
         6,
         "Tracy",
         "Burton",
         19.8,
         0
        ],
        [
         4,
         7,
         "2012-07-26 17:30:00",
         2,
         "Massage Room 1",
         9.9,
         80,
         7,
         "Dare",
         "Nancy",
         19.8,
         0
        ],
        [
         6,
         0,
         "2012-07-26 10:00:00",
         4,
         "Squash Court",
         3.5,
         17.5,
         0,
         "GUEST",
         "GUEST",
         70,
         0
        ],
        [
         6,
         0,
         "2012-07-26 13:00:00",
         2,
         "Squash Court",
         3.5,
         17.5,
         0,
         "GUEST",
         "GUEST",
         35,
         0
        ],
        [
         6,
         0,
         "2012-07-26 19:00:00",
         2,
         "Squash Court",
         3.5,
         17.5,
         0,
         "GUEST",
         "GUEST",
         35,
         0
        ],
        [
         7,
         7,
         "2012-07-26 09:30:00",
         2,
         "Snooker Table",
         0,
         5,
         7,
         "Dare",
         "Nancy",
         0,
         0
        ],
        [
         7,
         6,
         "2012-07-26 11:00:00",
         2,
         "Snooker Table",
         0,
         5,
         6,
         "Tracy",
         "Burton",
         0,
         0
        ],
        [
         7,
         5,
         "2012-07-26 12:30:00",
         2,
         "Snooker Table",
         0,
         5,
         5,
         "Butters",
         "Gerald",
         0,
         0
        ],
        [
         7,
         4,
         "2012-07-26 13:30:00",
         2,
         "Snooker Table",
         0,
         5,
         4,
         "Joplette",
         "Janice",
         0,
         0
        ],
        [
         7,
         5,
         "2012-07-26 17:00:00",
         2,
         "Snooker Table",
         0,
         5,
         5,
         "Butters",
         "Gerald",
         0,
         0
        ],
        [
         8,
         3,
         "2012-07-26 12:00:00",
         1,
         "Pool Table",
         0,
         5,
         3,
         "Rownam",
         "Tim",
         0,
         0
        ],
        [
         8,
         3,
         "2012-07-26 13:30:00",
         1,
         "Pool Table",
         0,
         5,
         3,
         "Rownam",
         "Tim",
         0,
         0
        ],
        [
         8,
         2,
         "2012-07-26 15:00:00",
         1,
         "Pool Table",
         0,
         5,
         2,
         "Smith",
         "Tracy",
         0,
         0
        ],
        [
         8,
         1,
         "2012-07-26 16:30:00",
         1,
         "Pool Table",
         0,
         5,
         1,
         "Smith",
         "Darren",
         0,
         0
        ],
        [
         8,
         3,
         "2012-07-26 17:00:00",
         1,
         "Pool Table",
         0,
         5,
         3,
         "Rownam",
         "Tim",
         0,
         0
        ],
        [
         0,
         4,
         "2012-07-27 08:00:00",
         3,
         "Tennis Court 1",
         5,
         25,
         4,
         "Joplette",
         "Janice",
         15,
         0
        ],
        [
         0,
         5,
         "2012-07-27 11:00:00",
         3,
         "Tennis Court 1",
         5,
         25,
         5,
         "Butters",
         "Gerald",
         15,
         0
        ],
        [
         0,
         6,
         "2012-07-27 14:00:00",
         3,
         "Tennis Court 1",
         5,
         25,
         6,
         "Tracy",
         "Burton",
         15,
         0
        ],
        [
         0,
         6,
         "2012-07-27 17:30:00",
         3,
         "Tennis Court 1",
         5,
         25,
         6,
         "Tracy",
         "Burton",
         15,
         0
        ],
        [
         1,
         0,
         "2012-07-27 10:00:00",
         3,
         "Tennis Court 2",
         5,
         25,
         0,
         "GUEST",
         "GUEST",
         75,
         0
        ],
        [
         1,
         7,
         "2012-07-27 11:30:00",
         3,
         "Tennis Court 2",
         5,
         25,
         7,
         "Dare",
         "Nancy",
         15,
         0
        ],
        [
         1,
         0,
         "2012-07-27 13:00:00",
         3,
         "Tennis Court 2",
         5,
         25,
         0,
         "GUEST",
         "GUEST",
         75,
         0
        ],
        [
         1,
         0,
         "2012-07-27 15:00:00",
         3,
         "Tennis Court 2",
         5,
         25,
         0,
         "GUEST",
         "GUEST",
         75,
         0
        ],
        [
         1,
         0,
         "2012-07-27 18:00:00",
         3,
         "Tennis Court 2",
         5,
         25,
         0,
         "GUEST",
         "GUEST",
         75,
         0
        ],
        [
         2,
         1,
         "2012-07-27 12:00:00",
         6,
         "Badminton Court",
         0,
         15.5,
         1,
         "Smith",
         "Darren",
         0,
         0
        ],
        [
         3,
         0,
         "2012-07-27 10:30:00",
         2,
         "Table Tennis",
         0,
         5,
         0,
         "GUEST",
         "GUEST",
         10,
         0
        ],
        [
         3,
         2,
         "2012-07-27 14:00:00",
         2,
         "Table Tennis",
         0,
         5,
         2,
         "Smith",
         "Tracy",
         0,
         0
        ],
        [
         3,
         3,
         "2012-07-27 19:00:00",
         2,
         "Table Tennis",
         0,
         5,
         3,
         "Rownam",
         "Tim",
         0,
         0
        ],
        [
         4,
         1,
         "2012-07-27 10:00:00",
         4,
         "Massage Room 1",
         9.9,
         80,
         1,
         "Smith",
         "Darren",
         39.6,
         0
        ],
        [
         4,
         6,
         "2012-07-27 12:30:00",
         2,
         "Massage Room 1",
         9.9,
         80,
         6,
         "Tracy",
         "Burton",
         19.8,
         0
        ],
        [
         4,
         0,
         "2012-07-27 14:00:00",
         4,
         "Massage Room 1",
         9.9,
         80,
         0,
         "GUEST",
         "GUEST",
         320,
         0
        ],
        [
         4,
         0,
         "2012-07-27 16:30:00",
         2,
         "Massage Room 1",
         9.9,
         80,
         0,
         "GUEST",
         "GUEST",
         160,
         0
        ],
        [
         4,
         1,
         "2012-07-27 17:30:00",
         2,
         "Massage Room 1",
         9.9,
         80,
         1,
         "Smith",
         "Darren",
         19.8,
         0
        ],
        [
         4,
         0,
         "2012-07-27 18:30:00",
         2,
         "Massage Room 1",
         9.9,
         80,
         0,
         "GUEST",
         "GUEST",
         160,
         0
        ],
        [
         5,
         7,
         "2012-07-27 18:00:00",
         2,
         "Massage Room 2",
         9.9,
         80,
         7,
         "Dare",
         "Nancy",
         19.8,
         0
        ],
        [
         6,
         0,
         "2012-07-27 09:00:00",
         2,
         "Squash Court",
         3.5,
         17.5,
         0,
         "GUEST",
         "GUEST",
         35,
         0
        ],
        [
         6,
         5,
         "2012-07-27 14:00:00",
         2,
         "Squash Court",
         3.5,
         17.5,
         5,
         "Butters",
         "Gerald",
         7,
         0
        ],
        [
         6,
         8,
         "2012-07-27 16:30:00",
         2,
         "Squash Court",
         3.5,
         17.5,
         8,
         "Boothe",
         "Tim",
         7,
         0
        ],
        [
         7,
         2,
         "2012-07-27 18:00:00",
         2,
         "Snooker Table",
         0,
         5,
         2,
         "Smith",
         "Tracy",
         0,
         0
        ],
        [
         7,
         4,
         "2012-07-27 19:00:00",
         2,
         "Snooker Table",
         0,
         5,
         4,
         "Joplette",
         "Janice",
         0,
         0
        ],
        [
         8,
         3,
         "2012-07-27 09:00:00",
         1,
         "Pool Table",
         0,
         5,
         3,
         "Rownam",
         "Tim",
         0,
         0
        ],
        [
         8,
         3,
         "2012-07-27 12:30:00",
         1,
         "Pool Table",
         0,
         5,
         3,
         "Rownam",
         "Tim",
         0,
         0
        ],
        [
         8,
         3,
         "2012-07-27 16:00:00",
         1,
         "Pool Table",
         0,
         5,
         3,
         "Rownam",
         "Tim",
         0,
         0
        ],
        [
         8,
         6,
         "2012-07-27 16:30:00",
         1,
         "Pool Table",
         0,
         5,
         6,
         "Tracy",
         "Burton",
         0,
         0
        ],
        [
         8,
         0,
         "2012-07-27 18:30:00",
         1,
         "Pool Table",
         0,
         5,
         0,
         "GUEST",
         "GUEST",
         5,
         0
        ],
        [
         0,
         7,
         "2012-07-28 08:00:00",
         9,
         "Tennis Court 1",
         5,
         25,
         7,
         "Dare",
         "Nancy",
         45,
         0
        ],
        [
         0,
         4,
         "2012-07-28 13:00:00",
         3,
         "Tennis Court 1",
         5,
         25,
         4,
         "Joplette",
         "Janice",
         15,
         0
        ],
        [
         0,
         5,
         "2012-07-28 15:00:00",
         3,
         "Tennis Court 1",
         5,
         25,
         5,
         "Butters",
         "Gerald",
         15,
         0
        ],
        [
         0,
         2,
         "2012-07-28 19:00:00",
         3,
         "Tennis Court 1",
         5,
         25,
         2,
         "Smith",
         "Tracy",
         15,
         0
        ],
        [
         1,
         1,
         "2012-07-28 08:00:00",
         3,
         "Tennis Court 2",
         5,
         25,
         1,
         "Smith",
         "Darren",
         15,
         0
        ],
        [
         1,
         0,
         "2012-07-28 10:00:00",
         3,
         "Tennis Court 2",
         5,
         25,
         0,
         "GUEST",
         "GUEST",
         75,
         0
        ],
        [
         1,
         0,
         "2012-07-28 16:00:00",
         3,
         "Tennis Court 2",
         5,
         25,
         0,
         "GUEST",
         "GUEST",
         75,
         0
        ],
        [
         1,
         7,
         "2012-07-28 17:30:00",
         3,
         "Tennis Court 2",
         5,
         25,
         7,
         "Dare",
         "Nancy",
         15,
         0
        ],
        [
         2,
         1,
         "2012-07-28 10:00:00",
         3,
         "Badminton Court",
         0,
         15.5,
         1,
         "Smith",
         "Darren",
         0,
         0
        ],
        [
         2,
         1,
         "2012-07-28 14:00:00",
         3,
         "Badminton Court",
         0,
         15.5,
         1,
         "Smith",
         "Darren",
         0,
         0
        ],
        [
         2,
         1,
         "2012-07-28 17:00:00",
         3,
         "Badminton Court",
         0,
         15.5,
         1,
         "Smith",
         "Darren",
         0,
         0
        ],
        [
         2,
         5,
         "2012-07-28 18:30:00",
         3,
         "Badminton Court",
         0,
         15.5,
         5,
         "Butters",
         "Gerald",
         0,
         0
        ],
        [
         3,
         3,
         "2012-07-28 08:30:00",
         2,
         "Table Tennis",
         0,
         5,
         3,
         "Rownam",
         "Tim",
         0,
         0
        ],
        [
         3,
         3,
         "2012-07-28 15:30:00",
         2,
         "Table Tennis",
         0,
         5,
         3,
         "Rownam",
         "Tim",
         0,
         0
        ],
        [
         4,
         0,
         "2012-07-28 09:00:00",
         2,
         "Massage Room 1",
         9.9,
         80,
         0,
         "GUEST",
         "GUEST",
         160,
         0
        ],
        [
         4,
         3,
         "2012-07-28 10:30:00",
         4,
         "Massage Room 1",
         9.9,
         80,
         3,
         "Rownam",
         "Tim",
         39.6,
         0
        ],
        [
         4,
         0,
         "2012-07-28 12:30:00",
         2,
         "Massage Room 1",
         9.9,
         80,
         0,
         "GUEST",
         "GUEST",
         160,
         0
        ],
        [
         4,
         8,
         "2012-07-28 16:00:00",
         2,
         "Massage Room 1",
         9.9,
         80,
         8,
         "Boothe",
         "Tim",
         19.8,
         0
        ],
        [
         4,
         0,
         "2012-07-28 19:00:00",
         2,
         "Massage Room 1",
         9.9,
         80,
         0,
         "GUEST",
         "GUEST",
         160,
         0
        ],
        [
         5,
         0,
         "2012-07-28 18:00:00",
         2,
         "Massage Room 2",
         9.9,
         80,
         0,
         "GUEST",
         "GUEST",
         160,
         0
        ],
        [
         6,
         0,
         "2012-07-28 17:00:00",
         2,
         "Squash Court",
         3.5,
         17.5,
         0,
         "GUEST",
         "GUEST",
         35,
         0
        ],
        [
         6,
         0,
         "2012-07-28 18:30:00",
         2,
         "Squash Court",
         3.5,
         17.5,
         0,
         "GUEST",
         "GUEST",
         35,
         0
        ],
        [
         7,
         2,
         "2012-07-28 09:00:00",
         2,
         "Snooker Table",
         0,
         5,
         2,
         "Smith",
         "Tracy",
         0,
         0
        ],
        [
         7,
         5,
         "2012-07-28 10:00:00",
         2,
         "Snooker Table",
         0,
         5,
         5,
         "Butters",
         "Gerald",
         0,
         0
        ],
        [
         7,
         6,
         "2012-07-28 12:30:00",
         2,
         "Snooker Table",
         0,
         5,
         6,
         "Tracy",
         "Burton",
         0,
         0
        ],
        [
         7,
         8,
         "2012-07-28 17:00:00",
         4,
         "Snooker Table",
         0,
         5,
         8,
         "Boothe",
         "Tim",
         0,
         0
        ],
        [
         8,
         2,
         "2012-07-28 16:00:00",
         1,
         "Pool Table",
         0,
         5,
         2,
         "Smith",
         "Tracy",
         0,
         0
        ],
        [
         8,
         3,
         "2012-07-28 16:30:00",
         1,
         "Pool Table",
         0,
         5,
         3,
         "Rownam",
         "Tim",
         0,
         0
        ],
        [
         8,
         4,
         "2012-07-28 19:00:00",
         1,
         "Pool Table",
         0,
         5,
         4,
         "Joplette",
         "Janice",
         0,
         0
        ],
        [
         0,
         7,
         "2012-07-29 09:30:00",
         3,
         "Tennis Court 1",
         5,
         25,
         7,
         "Dare",
         "Nancy",
         15,
         0
        ],
        [
         0,
         2,
         "2012-07-29 11:00:00",
         3,
         "Tennis Court 1",
         5,
         25,
         2,
         "Smith",
         "Tracy",
         15,
         0
        ],
        [
         0,
         6,
         "2012-07-29 13:00:00",
         3,
         "Tennis Court 1",
         5,
         25,
         6,
         "Tracy",
         "Burton",
         15,
         0
        ],
        [
         0,
         5,
         "2012-07-29 15:00:00",
         3,
         "Tennis Court 1",
         5,
         25,
         5,
         "Butters",
         "Gerald",
         15,
         0
        ],
        [
         0,
         0,
         "2012-07-29 17:00:00",
         3,
         "Tennis Court 1",
         5,
         25,
         0,
         "GUEST",
         "GUEST",
         75,
         0
        ],
        [
         1,
         8,
         "2012-07-29 09:30:00",
         3,
         "Tennis Court 2",
         5,
         25,
         8,
         "Boothe",
         "Tim",
         15,
         0
        ],
        [
         1,
         0,
         "2012-07-29 15:00:00",
         3,
         "Tennis Court 2",
         5,
         25,
         0,
         "GUEST",
         "GUEST",
         75,
         0
        ],
        [
         1,
         8,
         "2012-07-29 16:30:00",
         3,
         "Tennis Court 2",
         5,
         25,
         8,
         "Boothe",
         "Tim",
         15,
         0
        ],
        [
         2,
         1,
         "2012-07-29 08:30:00",
         3,
         "Badminton Court",
         0,
         15.5,
         1,
         "Smith",
         "Darren",
         0,
         0
        ],
        [
         2,
         1,
         "2012-07-29 12:00:00",
         6,
         "Badminton Court",
         0,
         15.5,
         1,
         "Smith",
         "Darren",
         0,
         0
        ],
        [
         2,
         1,
         "2012-07-29 15:30:00",
         3,
         "Badminton Court",
         0,
         15.5,
         1,
         "Smith",
         "Darren",
         0,
         0
        ],
        [
         4,
         3,
         "2012-07-29 08:00:00",
         2,
         "Massage Room 1",
         9.9,
         80,
         3,
         "Rownam",
         "Tim",
         19.8,
         0
        ],
        [
         4,
         0,
         "2012-07-29 09:00:00",
         2,
         "Massage Room 1",
         9.9,
         80,
         0,
         "GUEST",
         "GUEST",
         160,
         0
        ],
        [
         4,
         3,
         "2012-07-29 10:30:00",
         2,
         "Massage Room 1",
         9.9,
         80,
         3,
         "Rownam",
         "Tim",
         19.8,
         0
        ],
        [
         4,
         8,
         "2012-07-29 11:30:00",
         4,
         "Massage Room 1",
         9.9,
         80,
         8,
         "Boothe",
         "Tim",
         39.6,
         0
        ],
        [
         4,
         8,
         "2012-07-29 15:00:00",
         2,
         "Massage Room 1",
         9.9,
         80,
         8,
         "Boothe",
         "Tim",
         19.8,
         0
        ],
        [
         4,
         0,
         "2012-07-29 18:30:00",
         2,
         "Massage Room 1",
         9.9,
         80,
         0,
         "GUEST",
         "GUEST",
         160,
         0
        ],
        [
         6,
         0,
         "2012-07-29 09:00:00",
         2,
         "Squash Court",
         3.5,
         17.5,
         0,
         "GUEST",
         "GUEST",
         35,
         0
        ],
        [
         6,
         0,
         "2012-07-29 10:30:00",
         2,
         "Squash Court",
         3.5,
         17.5,
         0,
         "GUEST",
         "GUEST",
         35,
         0
        ],
        [
         6,
         6,
         "2012-07-29 17:30:00",
         4,
         "Squash Court",
         3.5,
         17.5,
         6,
         "Tracy",
         "Burton",
         14,
         0
        ],
        [
         7,
         4,
         "2012-07-29 16:00:00",
         2,
         "Snooker Table",
         0,
         5,
         4,
         "Joplette",
         "Janice",
         0,
         0
        ],
        [
         7,
         8,
         "2012-07-29 18:30:00",
         2,
         "Snooker Table",
         0,
         5,
         8,
         "Boothe",
         "Tim",
         0,
         0
        ],
        [
         8,
         3,
         "2012-07-29 12:30:00",
         1,
         "Pool Table",
         0,
         5,
         3,
         "Rownam",
         "Tim",
         0,
         0
        ],
        [
         8,
         7,
         "2012-07-29 13:00:00",
         1,
         "Pool Table",
         0,
         5,
         7,
         "Dare",
         "Nancy",
         0,
         0
        ],
        [
         8,
         3,
         "2012-07-29 15:30:00",
         1,
         "Pool Table",
         0,
         5,
         3,
         "Rownam",
         "Tim",
         0,
         0
        ],
        [
         8,
         3,
         "2012-07-29 18:00:00",
         1,
         "Pool Table",
         0,
         5,
         3,
         "Rownam",
         "Tim",
         0,
         0
        ],
        [
         0,
         5,
         "2012-07-30 14:00:00",
         3,
         "Tennis Court 1",
         5,
         25,
         5,
         "Butters",
         "Gerald",
         15,
         0
        ],
        [
         0,
         6,
         "2012-07-30 15:30:00",
         3,
         "Tennis Court 1",
         5,
         25,
         6,
         "Tracy",
         "Burton",
         15,
         0
        ],
        [
         0,
         7,
         "2012-07-30 19:00:00",
         3,
         "Tennis Court 1",
         5,
         25,
         7,
         "Dare",
         "Nancy",
         15,
         0
        ],
        [
         1,
         8,
         "2012-07-30 08:30:00",
         3,
         "Tennis Court 2",
         5,
         25,
         8,
         "Boothe",
         "Tim",
         15,
         0
        ],
        [
         1,
         7,
         "2012-07-30 11:00:00",
         3,
         "Tennis Court 2",
         5,
         25,
         7,
         "Dare",
         "Nancy",
         15,
         0
        ],
        [
         1,
         2,
         "2012-07-30 13:30:00",
         3,
         "Tennis Court 2",
         5,
         25,
         2,
         "Smith",
         "Tracy",
         15,
         0
        ],
        [
         1,
         1,
         "2012-07-30 15:30:00",
         3,
         "Tennis Court 2",
         5,
         25,
         1,
         "Smith",
         "Darren",
         15,
         0
        ],
        [
         2,
         5,
         "2012-07-30 10:00:00",
         3,
         "Badminton Court",
         0,
         15.5,
         5,
         "Butters",
         "Gerald",
         0,
         0
        ],
        [
         2,
         8,
         "2012-07-30 11:30:00",
         3,
         "Badminton Court",
         0,
         15.5,
         8,
         "Boothe",
         "Tim",
         0,
         0
        ],
        [
         2,
         7,
         "2012-07-30 15:00:00",
         3,
         "Badminton Court",
         0,
         15.5,
         7,
         "Dare",
         "Nancy",
         0,
         0
        ],
        [
         2,
         0,
         "2012-07-30 17:30:00",
         3,
         "Badminton Court",
         0,
         15.5,
         0,
         "GUEST",
         "GUEST",
         46.5,
         0
        ],
        [
         3,
         3,
         "2012-07-30 11:30:00",
         2,
         "Table Tennis",
         0,
         5,
         3,
         "Rownam",
         "Tim",
         0,
         0
        ],
        [
         3,
         4,
         "2012-07-30 16:30:00",
         2,
         "Table Tennis",
         0,
         5,
         4,
         "Joplette",
         "Janice",
         0,
         0
        ],
        [
         4,
         0,
         "2012-07-30 08:00:00",
         2,
         "Massage Room 1",
         9.9,
         80,
         0,
         "GUEST",
         "GUEST",
         160,
         0
        ],
        [
         4,
         0,
         "2012-07-30 10:30:00",
         2,
         "Massage Room 1",
         9.9,
         80,
         0,
         "GUEST",
         "GUEST",
         160,
         0
        ],
        [
         4,
         0,
         "2012-07-30 12:00:00",
         2,
         "Massage Room 1",
         9.9,
         80,
         0,
         "GUEST",
         "GUEST",
         160,
         0
        ],
        [
         4,
         7,
         "2012-07-30 18:00:00",
         2,
         "Massage Room 1",
         9.9,
         80,
         7,
         "Dare",
         "Nancy",
         19.8,
         0
        ],
        [
         4,
         3,
         "2012-07-30 19:30:00",
         2,
         "Massage Room 1",
         9.9,
         80,
         3,
         "Rownam",
         "Tim",
         19.8,
         0
        ],
        [
         5,
         0,
         "2012-07-30 12:30:00",
         2,
         "Massage Room 2",
         9.9,
         80,
         0,
         "GUEST",
         "GUEST",
         160,
         0
        ],
        [
         5,
         0,
         "2012-07-30 14:00:00",
         2,
         "Massage Room 2",
         9.9,
         80,
         0,
         "GUEST",
         "GUEST",
         160,
         0
        ],
        [
         6,
         0,
         "2012-07-30 08:30:00",
         2,
         "Squash Court",
         3.5,
         17.5,
         0,
         "GUEST",
         "GUEST",
         35,
         0
        ],
        [
         6,
         0,
         "2012-07-30 12:00:00",
         2,
         "Squash Court",
         3.5,
         17.5,
         0,
         "GUEST",
         "GUEST",
         35,
         0
        ],
        [
         6,
         0,
         "2012-07-30 14:30:00",
         2,
         "Squash Court",
         3.5,
         17.5,
         0,
         "GUEST",
         "GUEST",
         35,
         0
        ],
        [
         6,
         0,
         "2012-07-30 17:30:00",
         2,
         "Squash Court",
         3.5,
         17.5,
         0,
         "GUEST",
         "GUEST",
         35,
         0
        ],
        [
         7,
         7,
         "2012-07-30 08:00:00",
         2,
         "Snooker Table",
         0,
         5,
         7,
         "Dare",
         "Nancy",
         0,
         0
        ],
        [
         7,
         6,
         "2012-07-30 09:30:00",
         2,
         "Snooker Table",
         0,
         5,
         6,
         "Tracy",
         "Burton",
         0,
         0
        ],
        [
         7,
         8,
         "2012-07-30 14:30:00",
         2,
         "Snooker Table",
         0,
         5,
         8,
         "Boothe",
         "Tim",
         0,
         0
        ],
        [
         7,
         5,
         "2012-07-30 16:30:00",
         2,
         "Snooker Table",
         0,
         5,
         5,
         "Butters",
         "Gerald",
         0,
         0
        ],
        [
         7,
         4,
         "2012-07-30 18:00:00",
         2,
         "Snooker Table",
         0,
         5,
         4,
         "Joplette",
         "Janice",
         0,
         0
        ],
        [
         7,
         6,
         "2012-07-30 19:00:00",
         2,
         "Snooker Table",
         0,
         5,
         6,
         "Tracy",
         "Burton",
         0,
         0
        ],
        [
         8,
         3,
         "2012-07-30 08:30:00",
         1,
         "Pool Table",
         0,
         5,
         3,
         "Rownam",
         "Tim",
         0,
         0
        ],
        [
         8,
         2,
         "2012-07-30 09:00:00",
         1,
         "Pool Table",
         0,
         5,
         2,
         "Smith",
         "Tracy",
         0,
         0
        ],
        [
         8,
         2,
         "2012-07-30 11:00:00",
         1,
         "Pool Table",
         0,
         5,
         2,
         "Smith",
         "Tracy",
         0,
         0
        ],
        [
         8,
         2,
         "2012-07-30 12:30:00",
         1,
         "Pool Table",
         0,
         5,
         2,
         "Smith",
         "Tracy",
         0,
         0
        ],
        [
         8,
         3,
         "2012-07-30 15:00:00",
         2,
         "Pool Table",
         0,
         5,
         3,
         "Rownam",
         "Tim",
         0,
         0
        ],
        [
         8,
         5,
         "2012-07-30 16:00:00",
         1,
         "Pool Table",
         0,
         5,
         5,
         "Butters",
         "Gerald",
         0,
         0
        ],
        [
         8,
         2,
         "2012-07-30 16:30:00",
         1,
         "Pool Table",
         0,
         5,
         2,
         "Smith",
         "Tracy",
         0,
         0
        ],
        [
         8,
         3,
         "2012-07-30 18:30:00",
         1,
         "Pool Table",
         0,
         5,
         3,
         "Rownam",
         "Tim",
         0,
         0
        ],
        [
         8,
         1,
         "2012-07-30 19:30:00",
         1,
         "Pool Table",
         0,
         5,
         1,
         "Smith",
         "Darren",
         0,
         0
        ],
        [
         0,
         7,
         "2012-07-31 09:30:00",
         3,
         "Tennis Court 1",
         5,
         25,
         7,
         "Dare",
         "Nancy",
         15,
         0
        ],
        [
         0,
         0,
         "2012-07-31 11:00:00",
         3,
         "Tennis Court 1",
         5,
         25,
         0,
         "GUEST",
         "GUEST",
         75,
         0
        ],
        [
         0,
         0,
         "2012-07-31 15:00:00",
         3,
         "Tennis Court 1",
         5,
         25,
         0,
         "GUEST",
         "GUEST",
         75,
         0
        ],
        [
         0,
         5,
         "2012-07-31 17:00:00",
         3,
         "Tennis Court 1",
         5,
         25,
         5,
         "Butters",
         "Gerald",
         15,
         0
        ],
        [
         0,
         0,
         "2012-07-31 18:30:00",
         3,
         "Tennis Court 1",
         5,
         25,
         0,
         "GUEST",
         "GUEST",
         75,
         0
        ],
        [
         1,
         0,
         "2012-07-31 08:00:00",
         3,
         "Tennis Court 2",
         5,
         25,
         0,
         "GUEST",
         "GUEST",
         75,
         0
        ],
        [
         1,
         7,
         "2012-07-31 13:00:00",
         3,
         "Tennis Court 2",
         5,
         25,
         7,
         "Dare",
         "Nancy",
         15,
         0
        ],
        [
         2,
         1,
         "2012-07-31 16:30:00",
         3,
         "Badminton Court",
         0,
         15.5,
         1,
         "Smith",
         "Darren",
         0,
         0
        ],
        [
         3,
         3,
         "2012-07-31 08:30:00",
         2,
         "Table Tennis",
         0,
         5,
         3,
         "Rownam",
         "Tim",
         0,
         0
        ],
        [
         3,
         1,
         "2012-07-31 13:00:00",
         2,
         "Table Tennis",
         0,
         5,
         1,
         "Smith",
         "Darren",
         0,
         0
        ],
        [
         3,
         1,
         "2012-07-31 15:30:00",
         2,
         "Table Tennis",
         0,
         5,
         1,
         "Smith",
         "Darren",
         0,
         0
        ],
        [
         4,
         8,
         "2012-07-31 09:30:00",
         2,
         "Massage Room 1",
         9.9,
         80,
         8,
         "Boothe",
         "Tim",
         19.8,
         0
        ],
        [
         4,
         0,
         "2012-07-31 11:00:00",
         2,
         "Massage Room 1",
         9.9,
         80,
         0,
         "GUEST",
         "GUEST",
         160,
         0
        ],
        [
         4,
         3,
         "2012-07-31 12:00:00",
         2,
         "Massage Room 1",
         9.9,
         80,
         3,
         "Rownam",
         "Tim",
         19.8,
         0
        ],
        [
         4,
         2,
         "2012-07-31 13:00:00",
         2,
         "Massage Room 1",
         9.9,
         80,
         2,
         "Smith",
         "Tracy",
         19.8,
         0
        ],
        [
         4,
         3,
         "2012-07-31 14:00:00",
         2,
         "Massage Room 1",
         9.9,
         80,
         3,
         "Rownam",
         "Tim",
         19.8,
         0
        ],
        [
         4,
         0,
         "2012-07-31 15:00:00",
         2,
         "Massage Room 1",
         9.9,
         80,
         0,
         "GUEST",
         "GUEST",
         160,
         0
        ],
        [
         4,
         6,
         "2012-07-31 17:00:00",
         2,
         "Massage Room 1",
         9.9,
         80,
         6,
         "Tracy",
         "Burton",
         19.8,
         0
        ],
        [
         4,
         7,
         "2012-07-31 18:30:00",
         2,
         "Massage Room 1",
         9.9,
         80,
         7,
         "Dare",
         "Nancy",
         19.8,
         0
        ],
        [
         4,
         0,
         "2012-07-31 19:30:00",
         2,
         "Massage Room 1",
         9.9,
         80,
         0,
         "GUEST",
         "GUEST",
         160,
         0
        ],
        [
         6,
         0,
         "2012-07-31 09:00:00",
         2,
         "Squash Court",
         3.5,
         17.5,
         0,
         "GUEST",
         "GUEST",
         35,
         0
        ],
        [
         6,
         5,
         "2012-07-31 10:00:00",
         2,
         "Squash Court",
         3.5,
         17.5,
         5,
         "Butters",
         "Gerald",
         7,
         0
        ],
        [
         6,
         6,
         "2012-07-31 11:00:00",
         2,
         "Squash Court",
         3.5,
         17.5,
         6,
         "Tracy",
         "Burton",
         7,
         0
        ],
        [
         6,
         0,
         "2012-07-31 14:30:00",
         2,
         "Squash Court",
         3.5,
         17.5,
         0,
         "GUEST",
         "GUEST",
         35,
         0
        ],
        [
         6,
         6,
         "2012-07-31 16:00:00",
         2,
         "Squash Court",
         3.5,
         17.5,
         6,
         "Tracy",
         "Burton",
         7,
         0
        ],
        [
         7,
         4,
         "2012-07-31 18:30:00",
         2,
         "Snooker Table",
         0,
         5,
         4,
         "Joplette",
         "Janice",
         0,
         0
        ],
        [
         8,
         3,
         "2012-07-31 10:00:00",
         1,
         "Pool Table",
         0,
         5,
         3,
         "Rownam",
         "Tim",
         0,
         0
        ],
        [
         8,
         3,
         "2012-07-31 11:30:00",
         1,
         "Pool Table",
         0,
         5,
         3,
         "Rownam",
         "Tim",
         0,
         0
        ],
        [
         8,
         5,
         "2012-07-31 12:00:00",
         1,
         "Pool Table",
         0,
         5,
         5,
         "Butters",
         "Gerald",
         0,
         0
        ],
        [
         8,
         7,
         "2012-07-31 12:30:00",
         1,
         "Pool Table",
         0,
         5,
         7,
         "Dare",
         "Nancy",
         0,
         0
        ],
        [
         8,
         8,
         "2012-07-31 13:30:00",
         1,
         "Pool Table",
         0,
         5,
         8,
         "Boothe",
         "Tim",
         0,
         0
        ],
        [
         8,
         6,
         "2012-07-31 14:00:00",
         1,
         "Pool Table",
         0,
         5,
         6,
         "Tracy",
         "Burton",
         0,
         0
        ],
        [
         8,
         4,
         "2012-07-31 17:00:00",
         1,
         "Pool Table",
         0,
         5,
         4,
         "Joplette",
         "Janice",
         0,
         0
        ],
        [
         8,
         2,
         "2012-07-31 17:30:00",
         1,
         "Pool Table",
         0,
         5,
         2,
         "Smith",
         "Tracy",
         0,
         0
        ],
        [
         0,
         5,
         "2012-08-01 15:30:00",
         3,
         "Tennis Court 1",
         5,
         25,
         5,
         "Butters",
         "Gerald",
         15,
         0
        ],
        [
         0,
         5,
         "2012-08-01 18:00:00",
         3,
         "Tennis Court 1",
         5,
         25,
         5,
         "Butters",
         "Gerald",
         15,
         0
        ],
        [
         1,
         8,
         "2012-08-01 09:00:00",
         9,
         "Tennis Court 2",
         5,
         25,
         8,
         "Boothe",
         "Tim",
         45,
         0
        ],
        [
         1,
         8,
         "2012-08-01 17:30:00",
         3,
         "Tennis Court 2",
         5,
         25,
         8,
         "Boothe",
         "Tim",
         15,
         0
        ],
        [
         2,
         1,
         "2012-08-01 09:30:00",
         6,
         "Badminton Court",
         0,
         15.5,
         1,
         "Smith",
         "Darren",
         0,
         0
        ],
        [
         2,
         1,
         "2012-08-01 14:30:00",
         3,
         "Badminton Court",
         0,
         15.5,
         1,
         "Smith",
         "Darren",
         0,
         0
        ],
        [
         2,
         1,
         "2012-08-01 16:30:00",
         3,
         "Badminton Court",
         0,
         15.5,
         1,
         "Smith",
         "Darren",
         0,
         0
        ],
        [
         3,
         7,
         "2012-08-01 13:00:00",
         2,
         "Table Tennis",
         0,
         5,
         7,
         "Dare",
         "Nancy",
         0,
         0
        ],
        [
         4,
         5,
         "2012-08-01 08:00:00",
         2,
         "Massage Room 1",
         9.9,
         80,
         5,
         "Butters",
         "Gerald",
         19.8,
         0
        ],
        [
         4,
         6,
         "2012-08-01 09:00:00",
         2,
         "Massage Room 1",
         9.9,
         80,
         6,
         "Tracy",
         "Burton",
         19.8,
         0
        ],
        [
         4,
         0,
         "2012-08-01 10:30:00",
         6,
         "Massage Room 1",
         9.9,
         80,
         0,
         "GUEST",
         "GUEST",
         480,
         0
        ],
        [
         4,
         3,
         "2012-08-01 13:30:00",
         4,
         "Massage Room 1",
         9.9,
         80,
         3,
         "Rownam",
         "Tim",
         39.6,
         0
        ],
        [
         4,
         3,
         "2012-08-01 19:30:00",
         2,
         "Massage Room 1",
         9.9,
         80,
         3,
         "Rownam",
         "Tim",
         19.8,
         0
        ],
        [
         5,
         7,
         "2012-08-01 08:30:00",
         2,
         "Massage Room 2",
         9.9,
         80,
         7,
         "Dare",
         "Nancy",
         19.8,
         0
        ],
        [
         5,
         0,
         "2012-08-01 14:30:00",
         2,
         "Massage Room 2",
         9.9,
         80,
         0,
         "GUEST",
         "GUEST",
         160,
         0
        ],
        [
         6,
         0,
         "2012-08-01 09:30:00",
         2,
         "Squash Court",
         3.5,
         17.5,
         0,
         "GUEST",
         "GUEST",
         35,
         0
        ],
        [
         6,
         0,
         "2012-08-01 11:00:00",
         4,
         "Squash Court",
         3.5,
         17.5,
         0,
         "GUEST",
         "GUEST",
         70,
         0
        ],
        [
         6,
         6,
         "2012-08-01 14:30:00",
         2,
         "Squash Court",
         3.5,
         17.5,
         6,
         "Tracy",
         "Burton",
         7,
         0
        ],
        [
         6,
         0,
         "2012-08-01 18:00:00",
         2,
         "Squash Court",
         3.5,
         17.5,
         0,
         "GUEST",
         "GUEST",
         35,
         0
        ],
        [
         7,
         4,
         "2012-08-01 12:30:00",
         2,
         "Snooker Table",
         0,
         5,
         4,
         "Joplette",
         "Janice",
         0,
         0
        ],
        [
         7,
         2,
         "2012-08-01 16:00:00",
         2,
         "Snooker Table",
         0,
         5,
         2,
         "Smith",
         "Tracy",
         0,
         0
        ],
        [
         7,
         5,
         "2012-08-01 17:00:00",
         2,
         "Snooker Table",
         0,
         5,
         5,
         "Butters",
         "Gerald",
         0,
         0
        ],
        [
         8,
         3,
         "2012-08-01 08:30:00",
         2,
         "Pool Table",
         0,
         5,
         3,
         "Rownam",
         "Tim",
         0,
         0
        ],
        [
         8,
         2,
         "2012-08-01 09:30:00",
         1,
         "Pool Table",
         0,
         5,
         2,
         "Smith",
         "Tracy",
         0,
         0
        ],
        [
         8,
         3,
         "2012-08-01 10:30:00",
         1,
         "Pool Table",
         0,
         5,
         3,
         "Rownam",
         "Tim",
         0,
         0
        ],
        [
         8,
         3,
         "2012-08-01 11:30:00",
         1,
         "Pool Table",
         0,
         5,
         3,
         "Rownam",
         "Tim",
         0,
         0
        ],
        [
         8,
         8,
         "2012-08-01 13:30:00",
         1,
         "Pool Table",
         0,
         5,
         8,
         "Boothe",
         "Tim",
         0,
         0
        ],
        [
         8,
         8,
         "2012-08-01 15:00:00",
         1,
         "Pool Table",
         0,
         5,
         8,
         "Boothe",
         "Tim",
         0,
         0
        ],
        [
         8,
         3,
         "2012-08-01 17:00:00",
         1,
         "Pool Table",
         0,
         5,
         3,
         "Rownam",
         "Tim",
         0,
         0
        ],
        [
         0,
         8,
         "2012-08-02 08:00:00",
         3,
         "Tennis Court 1",
         5,
         25,
         8,
         "Boothe",
         "Tim",
         15,
         0
        ],
        [
         0,
         5,
         "2012-08-02 13:00:00",
         3,
         "Tennis Court 1",
         5,
         25,
         5,
         "Butters",
         "Gerald",
         15,
         0
        ],
        [
         0,
         7,
         "2012-08-02 15:30:00",
         3,
         "Tennis Court 1",
         5,
         25,
         7,
         "Dare",
         "Nancy",
         15,
         0
        ],
        [
         0,
         5,
         "2012-08-02 18:30:00",
         3,
         "Tennis Court 1",
         5,
         25,
         5,
         "Butters",
         "Gerald",
         15,
         0
        ],
        [
         1,
         8,
         "2012-08-02 09:30:00",
         3,
         "Tennis Court 2",
         5,
         25,
         8,
         "Boothe",
         "Tim",
         15,
         0
        ],
        [
         1,
         8,
         "2012-08-02 12:00:00",
         3,
         "Tennis Court 2",
         5,
         25,
         8,
         "Boothe",
         "Tim",
         15,
         0
        ],
        [
         1,
         0,
         "2012-08-02 13:30:00",
         3,
         "Tennis Court 2",
         5,
         25,
         0,
         "GUEST",
         "GUEST",
         75,
         0
        ],
        [
         1,
         5,
         "2012-08-02 15:30:00",
         3,
         "Tennis Court 2",
         5,
         25,
         5,
         "Butters",
         "Gerald",
         15,
         0
        ],
        [
         1,
         0,
         "2012-08-02 18:00:00",
         3,
         "Tennis Court 2",
         5,
         25,
         0,
         "GUEST",
         "GUEST",
         75,
         0
        ],
        [
         2,
         1,
         "2012-08-02 09:30:00",
         3,
         "Badminton Court",
         0,
         15.5,
         1,
         "Smith",
         "Darren",
         0,
         0
        ],
        [
         2,
         0,
         "2012-08-02 11:30:00",
         3,
         "Badminton Court",
         0,
         15.5,
         0,
         "GUEST",
         "GUEST",
         46.5,
         0
        ],
        [
         2,
         3,
         "2012-08-02 14:00:00",
         3,
         "Badminton Court",
         0,
         15.5,
         3,
         "Rownam",
         "Tim",
         0,
         0
        ],
        [
         2,
         1,
         "2012-08-02 19:00:00",
         3,
         "Badminton Court",
         0,
         15.5,
         1,
         "Smith",
         "Darren",
         0,
         0
        ],
        [
         3,
         3,
         "2012-08-02 10:00:00",
         2,
         "Table Tennis",
         0,
         5,
         3,
         "Rownam",
         "Tim",
         0,
         0
        ],
        [
         3,
         2,
         "2012-08-02 15:00:00",
         2,
         "Table Tennis",
         0,
         5,
         2,
         "Smith",
         "Tracy",
         0,
         0
        ],
        [
         3,
         3,
         "2012-08-02 17:00:00",
         2,
         "Table Tennis",
         0,
         5,
         3,
         "Rownam",
         "Tim",
         0,
         0
        ],
        [
         3,
         6,
         "2012-08-02 18:00:00",
         2,
         "Table Tennis",
         0,
         5,
         6,
         "Tracy",
         "Burton",
         0,
         0
        ],
        [
         3,
         4,
         "2012-08-02 19:30:00",
         2,
         "Table Tennis",
         0,
         5,
         4,
         "Joplette",
         "Janice",
         0,
         0
        ],
        [
         4,
         4,
         "2012-08-02 10:00:00",
         2,
         "Massage Room 1",
         9.9,
         80,
         4,
         "Joplette",
         "Janice",
         19.8,
         0
        ],
        [
         4,
         7,
         "2012-08-02 11:30:00",
         2,
         "Massage Room 1",
         9.9,
         80,
         7,
         "Dare",
         "Nancy",
         19.8,
         0
        ],
        [
         4,
         5,
         "2012-08-02 14:30:00",
         2,
         "Massage Room 1",
         9.9,
         80,
         5,
         "Butters",
         "Gerald",
         19.8,
         0
        ],
        [
         4,
         8,
         "2012-08-02 15:30:00",
         2,
         "Massage Room 1",
         9.9,
         80,
         8,
         "Boothe",
         "Tim",
         19.8,
         0
        ],
        [
         4,
         8,
         "2012-08-02 17:00:00",
         2,
         "Massage Room 1",
         9.9,
         80,
         8,
         "Boothe",
         "Tim",
         19.8,
         0
        ],
        [
         4,
         3,
         "2012-08-02 18:30:00",
         2,
         "Massage Room 1",
         9.9,
         80,
         3,
         "Rownam",
         "Tim",
         19.8,
         0
        ],
        [
         4,
         0,
         "2012-08-02 19:30:00",
         2,
         "Massage Room 1",
         9.9,
         80,
         0,
         "GUEST",
         "GUEST",
         160,
         0
        ],
        [
         6,
         4,
         "2012-08-02 09:00:00",
         2,
         "Squash Court",
         3.5,
         17.5,
         4,
         "Joplette",
         "Janice",
         7,
         0
        ],
        [
         6,
         0,
         "2012-08-02 10:00:00",
         2,
         "Squash Court",
         3.5,
         17.5,
         0,
         "GUEST",
         "GUEST",
         35,
         0
        ],
        [
         6,
         0,
         "2012-08-02 11:30:00",
         2,
         "Squash Court",
         3.5,
         17.5,
         0,
         "GUEST",
         "GUEST",
         35,
         0
        ],
        [
         6,
         6,
         "2012-08-02 12:30:00",
         2,
         "Squash Court",
         3.5,
         17.5,
         6,
         "Tracy",
         "Burton",
         7,
         0
        ],
        [
         6,
         8,
         "2012-08-02 14:00:00",
         2,
         "Squash Court",
         3.5,
         17.5,
         8,
         "Boothe",
         "Tim",
         7,
         0
        ],
        [
         6,
         0,
         "2012-08-02 17:00:00",
         4,
         "Squash Court",
         3.5,
         17.5,
         0,
         "GUEST",
         "GUEST",
         70,
         0
        ],
        [
         6,
         2,
         "2012-08-02 19:30:00",
         2,
         "Squash Court",
         3.5,
         17.5,
         2,
         "Smith",
         "Tracy",
         7,
         0
        ],
        [
         7,
         7,
         "2012-08-02 08:00:00",
         2,
         "Snooker Table",
         0,
         5,
         7,
         "Dare",
         "Nancy",
         0,
         0
        ],
        [
         7,
         5,
         "2012-08-02 11:00:00",
         2,
         "Snooker Table",
         0,
         5,
         5,
         "Butters",
         "Gerald",
         0,
         0
        ],
        [
         7,
         6,
         "2012-08-02 14:00:00",
         2,
         "Snooker Table",
         0,
         5,
         6,
         "Tracy",
         "Burton",
         0,
         0
        ],
        [
         7,
         4,
         "2012-08-02 16:00:00",
         2,
         "Snooker Table",
         0,
         5,
         4,
         "Joplette",
         "Janice",
         0,
         0
        ],
        [
         7,
         0,
         "2012-08-02 18:00:00",
         2,
         "Snooker Table",
         0,
         5,
         0,
         "GUEST",
         "GUEST",
         10,
         0
        ],
        [
         8,
         3,
         "2012-08-02 08:30:00",
         1,
         "Pool Table",
         0,
         5,
         3,
         "Rownam",
         "Tim",
         0,
         0
        ],
        [
         8,
         3,
         "2012-08-02 13:00:00",
         1,
         "Pool Table",
         0,
         5,
         3,
         "Rownam",
         "Tim",
         0,
         0
        ],
        [
         8,
         7,
         "2012-08-02 15:00:00",
         1,
         "Pool Table",
         0,
         5,
         7,
         "Dare",
         "Nancy",
         0,
         0
        ],
        [
         8,
         3,
         "2012-08-02 16:30:00",
         1,
         "Pool Table",
         0,
         5,
         3,
         "Rownam",
         "Tim",
         0,
         0
        ],
        [
         8,
         7,
         "2012-08-02 17:00:00",
         1,
         "Pool Table",
         0,
         5,
         7,
         "Dare",
         "Nancy",
         0,
         0
        ],
        [
         8,
         3,
         "2012-08-02 19:30:00",
         1,
         "Pool Table",
         0,
         5,
         3,
         "Rownam",
         "Tim",
         0,
         0
        ],
        [
         0,
         5,
         "2012-08-03 11:30:00",
         3,
         "Tennis Court 1",
         5,
         25,
         5,
         "Butters",
         "Gerald",
         15,
         0
        ],
        [
         0,
         0,
         "2012-08-03 16:00:00",
         3,
         "Tennis Court 1",
         5,
         25,
         0,
         "GUEST",
         "GUEST",
         75,
         0
        ],
        [
         0,
         6,
         "2012-08-03 18:30:00",
         3,
         "Tennis Court 1",
         5,
         25,
         6,
         "Tracy",
         "Burton",
         15,
         0
        ],
        [
         1,
         8,
         "2012-08-03 10:30:00",
         3,
         "Tennis Court 2",
         5,
         25,
         8,
         "Boothe",
         "Tim",
         15,
         0
        ],
        [
         1,
         0,
         "2012-08-03 13:00:00",
         6,
         "Tennis Court 2",
         5,
         25,
         0,
         "GUEST",
         "GUEST",
         150,
         0
        ],
        [
         1,
         7,
         "2012-08-03 16:30:00",
         3,
         "Tennis Court 2",
         5,
         25,
         7,
         "Dare",
         "Nancy",
         15,
         0
        ],
        [
         1,
         8,
         "2012-08-03 19:00:00",
         3,
         "Tennis Court 2",
         5,
         25,
         8,
         "Boothe",
         "Tim",
         15,
         0
        ],
        [
         2,
         8,
         "2012-08-03 08:30:00",
         3,
         "Badminton Court",
         0,
         15.5,
         8,
         "Boothe",
         "Tim",
         0,
         0
        ],
        [
         2,
         1,
         "2012-08-03 11:00:00",
         3,
         "Badminton Court",
         0,
         15.5,
         1,
         "Smith",
         "Darren",
         0,
         0
        ],
        [
         3,
         6,
         "2012-08-03 08:00:00",
         2,
         "Table Tennis",
         0,
         5,
         6,
         "Tracy",
         "Burton",
         0,
         0
        ],
        [
         3,
         2,
         "2012-08-03 10:00:00",
         2,
         "Table Tennis",
         0,
         5,
         2,
         "Smith",
         "Tracy",
         0,
         0
        ],
        [
         3,
         6,
         "2012-08-03 12:00:00",
         2,
         "Table Tennis",
         0,
         5,
         6,
         "Tracy",
         "Burton",
         0,
         0
        ],
        [
         3,
         6,
         "2012-08-03 16:30:00",
         2,
         "Table Tennis",
         0,
         5,
         6,
         "Tracy",
         "Burton",
         0,
         0
        ],
        [
         3,
         2,
         "2012-08-03 18:30:00",
         2,
         "Table Tennis",
         0,
         5,
         2,
         "Smith",
         "Tracy",
         0,
         0
        ],
        [
         4,
         0,
         "2012-08-03 09:30:00",
         2,
         "Massage Room 1",
         9.9,
         80,
         0,
         "GUEST",
         "GUEST",
         160,
         0
        ],
        [
         4,
         7,
         "2012-08-03 10:30:00",
         2,
         "Massage Room 1",
         9.9,
         80,
         7,
         "Dare",
         "Nancy",
         19.8,
         0
        ],
        [
         4,
         0,
         "2012-08-03 11:30:00",
         2,
         "Massage Room 1",
         9.9,
         80,
         0,
         "GUEST",
         "GUEST",
         160,
         0
        ],
        [
         4,
         0,
         "2012-08-03 13:00:00",
         2,
         "Massage Room 1",
         9.9,
         80,
         0,
         "GUEST",
         "GUEST",
         160,
         0
        ],
        [
         4,
         1,
         "2012-08-03 14:30:00",
         2,
         "Massage Room 1",
         9.9,
         80,
         1,
         "Smith",
         "Darren",
         19.8,
         0
        ],
        [
         4,
         3,
         "2012-08-03 15:30:00",
         4,
         "Massage Room 1",
         9.9,
         80,
         3,
         "Rownam",
         "Tim",
         39.6,
         0
        ],
        [
         4,
         3,
         "2012-08-03 18:30:00",
         2,
         "Massage Room 1",
         9.9,
         80,
         3,
         "Rownam",
         "Tim",
         19.8,
         0
        ],
        [
         6,
         0,
         "2012-08-03 09:00:00",
         2,
         "Squash Court",
         3.5,
         17.5,
         0,
         "GUEST",
         "GUEST",
         35,
         0
        ],
        [
         6,
         0,
         "2012-08-03 10:30:00",
         2,
         "Squash Court",
         3.5,
         17.5,
         0,
         "GUEST",
         "GUEST",
         35,
         0
        ],
        [
         6,
         4,
         "2012-08-03 12:00:00",
         2,
         "Squash Court",
         3.5,
         17.5,
         4,
         "Joplette",
         "Janice",
         7,
         0
        ],
        [
         6,
         0,
         "2012-08-03 15:30:00",
         2,
         "Squash Court",
         3.5,
         17.5,
         0,
         "GUEST",
         "GUEST",
         35,
         0
        ],
        [
         6,
         1,
         "2012-08-03 16:30:00",
         2,
         "Squash Court",
         3.5,
         17.5,
         1,
         "Smith",
         "Darren",
         7,
         0
        ],
        [
         6,
         0,
         "2012-08-03 19:00:00",
         2,
         "Squash Court",
         3.5,
         17.5,
         0,
         "GUEST",
         "GUEST",
         35,
         0
        ],
        [
         7,
         6,
         "2012-08-03 09:00:00",
         2,
         "Snooker Table",
         0,
         5,
         6,
         "Tracy",
         "Burton",
         0,
         0
        ],
        [
         7,
         6,
         "2012-08-03 10:30:00",
         2,
         "Snooker Table",
         0,
         5,
         6,
         "Tracy",
         "Burton",
         0,
         0
        ],
        [
         7,
         2,
         "2012-08-03 13:30:00",
         2,
         "Snooker Table",
         0,
         5,
         2,
         "Smith",
         "Tracy",
         0,
         0
        ],
        [
         7,
         5,
         "2012-08-03 17:30:00",
         2,
         "Snooker Table",
         0,
         5,
         5,
         "Butters",
         "Gerald",
         0,
         0
        ],
        [
         8,
         8,
         "2012-08-03 12:00:00",
         1,
         "Pool Table",
         0,
         5,
         8,
         "Boothe",
         "Tim",
         0,
         0
        ],
        [
         8,
         3,
         "2012-08-03 12:30:00",
         1,
         "Pool Table",
         0,
         5,
         3,
         "Rownam",
         "Tim",
         0,
         0
        ],
        [
         8,
         6,
         "2012-08-03 14:00:00",
         1,
         "Pool Table",
         0,
         5,
         6,
         "Tracy",
         "Burton",
         0,
         0
        ],
        [
         8,
         3,
         "2012-08-03 15:00:00",
         1,
         "Pool Table",
         0,
         5,
         3,
         "Rownam",
         "Tim",
         0,
         0
        ],
        [
         8,
         6,
         "2012-08-03 15:30:00",
         1,
         "Pool Table",
         0,
         5,
         6,
         "Tracy",
         "Burton",
         0,
         0
        ],
        [
         8,
         8,
         "2012-08-03 16:00:00",
         1,
         "Pool Table",
         0,
         5,
         8,
         "Boothe",
         "Tim",
         0,
         0
        ],
        [
         8,
         0,
         "2012-08-03 19:00:00",
         1,
         "Pool Table",
         0,
         5,
         0,
         "GUEST",
         "GUEST",
         5,
         0
        ],
        [
         8,
         3,
         "2012-08-03 19:30:00",
         1,
         "Pool Table",
         0,
         5,
         3,
         "Rownam",
         "Tim",
         0,
         0
        ],
        [
         0,
         6,
         "2012-08-04 15:00:00",
         3,
         "Tennis Court 1",
         5,
         25,
         6,
         "Tracy",
         "Burton",
         15,
         0
        ],
        [
         1,
         9,
         "2012-08-04 09:30:00",
         3,
         "Tennis Court 2",
         5,
         25,
         9,
         "Stibbons",
         "Ponder",
         15,
         0
        ],
        [
         1,
         0,
         "2012-08-04 11:30:00",
         3,
         "Tennis Court 2",
         5,
         25,
         0,
         "GUEST",
         "GUEST",
         75,
         0
        ],
        [
         1,
         8,
         "2012-08-04 16:00:00",
         3,
         "Tennis Court 2",
         5,
         25,
         8,
         "Boothe",
         "Tim",
         15,
         0
        ],
        [
         1,
         0,
         "2012-08-04 18:30:00",
         3,
         "Tennis Court 2",
         5,
         25,
         0,
         "GUEST",
         "GUEST",
         75,
         0
        ],
        [
         2,
         1,
         "2012-08-04 08:00:00",
         3,
         "Badminton Court",
         0,
         15.5,
         1,
         "Smith",
         "Darren",
         0,
         0
        ],
        [
         2,
         2,
         "2012-08-04 09:30:00",
         3,
         "Badminton Court",
         0,
         15.5,
         2,
         "Smith",
         "Tracy",
         0,
         0
        ],
        [
         2,
         1,
         "2012-08-04 11:00:00",
         3,
         "Badminton Court",
         0,
         15.5,
         1,
         "Smith",
         "Darren",
         0,
         0
        ],
        [
         2,
         2,
         "2012-08-04 16:30:00",
         3,
         "Badminton Court",
         0,
         15.5,
         2,
         "Smith",
         "Tracy",
         0,
         0
        ],
        [
         2,
         9,
         "2012-08-04 18:30:00",
         3,
         "Badminton Court",
         0,
         15.5,
         9,
         "Stibbons",
         "Ponder",
         0,
         0
        ],
        [
         3,
         6,
         "2012-08-04 11:30:00",
         2,
         "Table Tennis",
         0,
         5,
         6,
         "Tracy",
         "Burton",
         0,
         0
        ],
        [
         3,
         1,
         "2012-08-04 15:00:00",
         2,
         "Table Tennis",
         0,
         5,
         1,
         "Smith",
         "Darren",
         0,
         0
        ],
        [
         3,
         3,
         "2012-08-04 18:00:00",
         2,
         "Table Tennis",
         0,
         5,
         3,
         "Rownam",
         "Tim",
         0,
         0
        ],
        [
         3,
         4,
         "2012-08-04 19:00:00",
         2,
         "Table Tennis",
         0,
         5,
         4,
         "Joplette",
         "Janice",
         0,
         0
        ],
        [
         4,
         8,
         "2012-08-04 08:30:00",
         2,
         "Massage Room 1",
         9.9,
         80,
         8,
         "Boothe",
         "Tim",
         19.8,
         0
        ],
        [
         4,
         7,
         "2012-08-04 10:00:00",
         2,
         "Massage Room 1",
         9.9,
         80,
         7,
         "Dare",
         "Nancy",
         19.8,
         0
        ],
        [
         4,
         0,
         "2012-08-04 13:30:00",
         2,
         "Massage Room 1",
         9.9,
         80,
         0,
         "GUEST",
         "GUEST",
         160,
         0
        ],
        [
         4,
         5,
         "2012-08-04 14:30:00",
         2,
         "Massage Room 1",
         9.9,
         80,
         5,
         "Butters",
         "Gerald",
         19.8,
         0
        ],
        [
         4,
         0,
         "2012-08-04 17:00:00",
         2,
         "Massage Room 1",
         9.9,
         80,
         0,
         "GUEST",
         "GUEST",
         160,
         0
        ],
        [
         4,
         5,
         "2012-08-04 19:30:00",
         2,
         "Massage Room 1",
         9.9,
         80,
         5,
         "Butters",
         "Gerald",
         19.8,
         0
        ],
        [
         5,
         0,
         "2012-08-04 12:30:00",
         2,
         "Massage Room 2",
         9.9,
         80,
         0,
         "GUEST",
         "GUEST",
         160,
         0
        ],
        [
         6,
         6,
         "2012-08-04 08:30:00",
         2,
         "Squash Court",
         3.5,
         17.5,
         6,
         "Tracy",
         "Burton",
         7,
         0
        ],
        [
         6,
         5,
         "2012-08-04 09:30:00",
         2,
         "Squash Court",
         3.5,
         17.5,
         5,
         "Butters",
         "Gerald",
         7,
         0
        ],
        [
         6,
         6,
         "2012-08-04 12:30:00",
         2,
         "Squash Court",
         3.5,
         17.5,
         6,
         "Tracy",
         "Burton",
         7,
         0
        ],
        [
         6,
         0,
         "2012-08-04 16:00:00",
         2,
         "Squash Court",
         3.5,
         17.5,
         0,
         "GUEST",
         "GUEST",
         35,
         0
        ],
        [
         6,
         0,
         "2012-08-04 17:30:00",
         2,
         "Squash Court",
         3.5,
         17.5,
         0,
         "GUEST",
         "GUEST",
         35,
         0
        ],
        [
         7,
         5,
         "2012-08-04 08:00:00",
         2,
         "Snooker Table",
         0,
         5,
         5,
         "Butters",
         "Gerald",
         0,
         0
        ],
        [
         7,
         9,
         "2012-08-04 11:00:00",
         2,
         "Snooker Table",
         0,
         5,
         9,
         "Stibbons",
         "Ponder",
         0,
         0
        ],
        [
         7,
         7,
         "2012-08-04 15:00:00",
         2,
         "Snooker Table",
         0,
         5,
         7,
         "Dare",
         "Nancy",
         0,
         0
        ],
        [
         7,
         5,
         "2012-08-04 18:30:00",
         2,
         "Snooker Table",
         0,
         5,
         5,
         "Butters",
         "Gerald",
         0,
         0
        ],
        [
         8,
         3,
         "2012-08-04 08:00:00",
         1,
         "Pool Table",
         0,
         5,
         3,
         "Rownam",
         "Tim",
         0,
         0
        ],
        [
         8,
         3,
         "2012-08-04 11:00:00",
         2,
         "Pool Table",
         0,
         5,
         3,
         "Rownam",
         "Tim",
         0,
         0
        ],
        [
         8,
         3,
         "2012-08-04 13:00:00",
         1,
         "Pool Table",
         0,
         5,
         3,
         "Rownam",
         "Tim",
         0,
         0
        ],
        [
         8,
         3,
         "2012-08-04 16:30:00",
         1,
         "Pool Table",
         0,
         5,
         3,
         "Rownam",
         "Tim",
         0,
         0
        ],
        [
         8,
         6,
         "2012-08-04 18:00:00",
         1,
         "Pool Table",
         0,
         5,
         6,
         "Tracy",
         "Burton",
         0,
         0
        ],
        [
         8,
         7,
         "2012-08-04 18:30:00",
         1,
         "Pool Table",
         0,
         5,
         7,
         "Dare",
         "Nancy",
         0,
         0
        ],
        [
         8,
         3,
         "2012-08-04 19:00:00",
         1,
         "Pool Table",
         0,
         5,
         3,
         "Rownam",
         "Tim",
         0,
         0
        ],
        [
         0,
         2,
         "2012-08-05 08:00:00",
         3,
         "Tennis Court 1",
         5,
         25,
         2,
         "Smith",
         "Tracy",
         15,
         0
        ],
        [
         0,
         5,
         "2012-08-05 09:30:00",
         3,
         "Tennis Court 1",
         5,
         25,
         5,
         "Butters",
         "Gerald",
         15,
         0
        ],
        [
         0,
         7,
         "2012-08-05 15:00:00",
         3,
         "Tennis Court 1",
         5,
         25,
         7,
         "Dare",
         "Nancy",
         15,
         0
        ],
        [
         0,
         7,
         "2012-08-05 17:30:00",
         3,
         "Tennis Court 1",
         5,
         25,
         7,
         "Dare",
         "Nancy",
         15,
         0
        ],
        [
         1,
         0,
         "2012-08-05 08:00:00",
         3,
         "Tennis Court 2",
         5,
         25,
         0,
         "GUEST",
         "GUEST",
         75,
         0
        ],
        [
         1,
         7,
         "2012-08-05 09:30:00",
         3,
         "Tennis Court 2",
         5,
         25,
         7,
         "Dare",
         "Nancy",
         15,
         0
        ],
        [
         1,
         9,
         "2012-08-05 11:00:00",
         3,
         "Tennis Court 2",
         5,
         25,
         9,
         "Stibbons",
         "Ponder",
         15,
         0
        ],
        [
         1,
         9,
         "2012-08-05 15:30:00",
         3,
         "Tennis Court 2",
         5,
         25,
         9,
         "Stibbons",
         "Ponder",
         15,
         0
        ],
        [
         1,
         1,
         "2012-08-05 18:00:00",
         3,
         "Tennis Court 2",
         5,
         25,
         1,
         "Smith",
         "Darren",
         15,
         0
        ],
        [
         2,
         1,
         "2012-08-05 10:00:00",
         3,
         "Badminton Court",
         0,
         15.5,
         1,
         "Smith",
         "Darren",
         0,
         0
        ],
        [
         2,
         5,
         "2012-08-05 11:30:00",
         3,
         "Badminton Court",
         0,
         15.5,
         5,
         "Butters",
         "Gerald",
         0,
         0
        ],
        [
         2,
         2,
         "2012-08-05 15:00:00",
         3,
         "Badminton Court",
         0,
         15.5,
         2,
         "Smith",
         "Tracy",
         0,
         0
        ],
        [
         2,
         8,
         "2012-08-05 17:00:00",
         3,
         "Badminton Court",
         0,
         15.5,
         8,
         "Boothe",
         "Tim",
         0,
         0
        ],
        [
         3,
         3,
         "2012-08-05 09:30:00",
         2,
         "Table Tennis",
         0,
         5,
         3,
         "Rownam",
         "Tim",
         0,
         0
        ],
        [
         3,
         4,
         "2012-08-05 14:30:00",
         2,
         "Table Tennis",
         0,
         5,
         4,
         "Joplette",
         "Janice",
         0,
         0
        ],
        [
         3,
         3,
         "2012-08-05 15:30:00",
         2,
         "Table Tennis",
         0,
         5,
         3,
         "Rownam",
         "Tim",
         0,
         0
        ],
        [
         4,
         0,
         "2012-08-05 08:30:00",
         2,
         "Massage Room 1",
         9.9,
         80,
         0,
         "GUEST",
         "GUEST",
         160,
         0
        ],
        [
         4,
         0,
         "2012-08-05 10:00:00",
         2,
         "Massage Room 1",
         9.9,
         80,
         0,
         "GUEST",
         "GUEST",
         160,
         0
        ],
        [
         4,
         0,
         "2012-08-05 11:30:00",
         2,
         "Massage Room 1",
         9.9,
         80,
         0,
         "GUEST",
         "GUEST",
         160,
         0
        ],
        [
         4,
         4,
         "2012-08-05 16:00:00",
         2,
         "Massage Room 1",
         9.9,
         80,
         4,
         "Joplette",
         "Janice",
         19.8,
         0
        ],
        [
         4,
         8,
         "2012-08-05 19:00:00",
         2,
         "Massage Room 1",
         9.9,
         80,
         8,
         "Boothe",
         "Tim",
         19.8,
         0
        ],
        [
         6,
         0,
         "2012-08-05 10:00:00",
         4,
         "Squash Court",
         3.5,
         17.5,
         0,
         "GUEST",
         "GUEST",
         70,
         0
        ],
        [
         6,
         6,
         "2012-08-05 13:00:00",
         2,
         "Squash Court",
         3.5,
         17.5,
         6,
         "Tracy",
         "Burton",
         7,
         0
        ],
        [
         6,
         0,
         "2012-08-05 15:30:00",
         2,
         "Squash Court",
         3.5,
         17.5,
         0,
         "GUEST",
         "GUEST",
         35,
         0
        ],
        [
         7,
         2,
         "2012-08-05 10:30:00",
         2,
         "Snooker Table",
         0,
         5,
         2,
         "Smith",
         "Tracy",
         0,
         0
        ],
        [
         7,
         8,
         "2012-08-05 15:30:00",
         2,
         "Snooker Table",
         0,
         5,
         8,
         "Boothe",
         "Tim",
         0,
         0
        ],
        [
         7,
         2,
         "2012-08-05 19:30:00",
         2,
         "Snooker Table",
         0,
         5,
         2,
         "Smith",
         "Tracy",
         0,
         0
        ],
        [
         8,
         0,
         "2012-08-05 08:30:00",
         1,
         "Pool Table",
         0,
         5,
         0,
         "GUEST",
         "GUEST",
         5,
         0
        ],
        [
         8,
         3,
         "2012-08-05 13:00:00",
         1,
         "Pool Table",
         0,
         5,
         3,
         "Rownam",
         "Tim",
         0,
         0
        ],
        [
         8,
         0,
         "2012-08-05 14:00:00",
         1,
         "Pool Table",
         0,
         5,
         0,
         "GUEST",
         "GUEST",
         5,
         0
        ],
        [
         8,
         3,
         "2012-08-05 16:30:00",
         1,
         "Pool Table",
         0,
         5,
         3,
         "Rownam",
         "Tim",
         0,
         0
        ],
        [
         8,
         3,
         "2012-08-05 17:30:00",
         1,
         "Pool Table",
         0,
         5,
         3,
         "Rownam",
         "Tim",
         0,
         0
        ],
        [
         8,
         3,
         "2012-08-05 19:30:00",
         2,
         "Pool Table",
         0,
         5,
         3,
         "Rownam",
         "Tim",
         0,
         0
        ],
        [
         0,
         7,
         "2012-08-06 09:00:00",
         3,
         "Tennis Court 1",
         5,
         25,
         7,
         "Dare",
         "Nancy",
         15,
         0
        ],
        [
         0,
         0,
         "2012-08-06 10:30:00",
         3,
         "Tennis Court 1",
         5,
         25,
         0,
         "GUEST",
         "GUEST",
         75,
         0
        ],
        [
         0,
         2,
         "2012-08-06 12:00:00",
         3,
         "Tennis Court 1",
         5,
         25,
         2,
         "Smith",
         "Tracy",
         15,
         0
        ],
        [
         0,
         0,
         "2012-08-06 13:30:00",
         3,
         "Tennis Court 1",
         5,
         25,
         0,
         "GUEST",
         "GUEST",
         75,
         0
        ],
        [
         0,
         7,
         "2012-08-06 15:00:00",
         3,
         "Tennis Court 1",
         5,
         25,
         7,
         "Dare",
         "Nancy",
         15,
         0
        ],
        [
         0,
         5,
         "2012-08-06 16:30:00",
         3,
         "Tennis Court 1",
         5,
         25,
         5,
         "Butters",
         "Gerald",
         15,
         0
        ],
        [
         0,
         7,
         "2012-08-06 18:00:00",
         3,
         "Tennis Court 1",
         5,
         25,
         7,
         "Dare",
         "Nancy",
         15,
         0
        ],
        [
         1,
         8,
         "2012-08-06 08:00:00",
         3,
         "Tennis Court 2",
         5,
         25,
         8,
         "Boothe",
         "Tim",
         15,
         0
        ],
        [
         1,
         3,
         "2012-08-06 10:00:00",
         3,
         "Tennis Court 2",
         5,
         25,
         3,
         "Rownam",
         "Tim",
         15,
         0
        ],
        [
         1,
         0,
         "2012-08-06 11:30:00",
         3,
         "Tennis Court 2",
         5,
         25,
         0,
         "GUEST",
         "GUEST",
         75,
         0
        ],
        [
         1,
         9,
         "2012-08-06 14:30:00",
         3,
         "Tennis Court 2",
         5,
         25,
         9,
         "Stibbons",
         "Ponder",
         15,
         0
        ],
        [
         1,
         9,
         "2012-08-06 17:30:00",
         3,
         "Tennis Court 2",
         5,
         25,
         9,
         "Stibbons",
         "Ponder",
         15,
         0
        ],
        [
         2,
         1,
         "2012-08-06 08:30:00",
         3,
         "Badminton Court",
         0,
         15.5,
         1,
         "Smith",
         "Darren",
         0,
         0
        ],
        [
         2,
         5,
         "2012-08-06 10:30:00",
         3,
         "Badminton Court",
         0,
         15.5,
         5,
         "Butters",
         "Gerald",
         0,
         0
        ],
        [
         2,
         8,
         "2012-08-06 12:00:00",
         3,
         "Badminton Court",
         0,
         15.5,
         8,
         "Boothe",
         "Tim",
         0,
         0
        ],
        [
         2,
         8,
         "2012-08-06 14:00:00",
         3,
         "Badminton Court",
         0,
         15.5,
         8,
         "Boothe",
         "Tim",
         0,
         0
        ],
        [
         3,
         3,
         "2012-08-06 08:30:00",
         2,
         "Table Tennis",
         0,
         5,
         3,
         "Rownam",
         "Tim",
         0,
         0
        ],
        [
         3,
         6,
         "2012-08-06 15:00:00",
         2,
         "Table Tennis",
         0,
         5,
         6,
         "Tracy",
         "Burton",
         0,
         0
        ],
        [
         3,
         6,
         "2012-08-06 17:00:00",
         2,
         "Table Tennis",
         0,
         5,
         6,
         "Tracy",
         "Burton",
         0,
         0
        ],
        [
         4,
         0,
         "2012-08-06 08:00:00",
         4,
         "Massage Room 1",
         9.9,
         80,
         0,
         "GUEST",
         "GUEST",
         320,
         0
        ],
        [
         4,
         0,
         "2012-08-06 12:00:00",
         2,
         "Massage Room 1",
         9.9,
         80,
         0,
         "GUEST",
         "GUEST",
         160,
         0
        ],
        [
         4,
         7,
         "2012-08-06 13:30:00",
         2,
         "Massage Room 1",
         9.9,
         80,
         7,
         "Dare",
         "Nancy",
         19.8,
         0
        ],
        [
         4,
         0,
         "2012-08-06 16:30:00",
         2,
         "Massage Room 1",
         9.9,
         80,
         0,
         "GUEST",
         "GUEST",
         160,
         0
        ],
        [
         4,
         6,
         "2012-08-06 18:30:00",
         2,
         "Massage Room 1",
         9.9,
         80,
         6,
         "Tracy",
         "Burton",
         19.8,
         0
        ],
        [
         5,
         0,
         "2012-08-06 11:00:00",
         2,
         "Massage Room 2",
         9.9,
         80,
         0,
         "GUEST",
         "GUEST",
         160,
         0
        ],
        [
         6,
         6,
         "2012-08-06 09:00:00",
         2,
         "Squash Court",
         3.5,
         17.5,
         6,
         "Tracy",
         "Burton",
         7,
         0
        ],
        [
         6,
         0,
         "2012-08-06 10:00:00",
         2,
         "Squash Court",
         3.5,
         17.5,
         0,
         "GUEST",
         "GUEST",
         35,
         0
        ],
        [
         6,
         6,
         "2012-08-06 13:00:00",
         2,
         "Squash Court",
         3.5,
         17.5,
         6,
         "Tracy",
         "Burton",
         7,
         0
        ],
        [
         6,
         0,
         "2012-08-06 14:00:00",
         2,
         "Squash Court",
         3.5,
         17.5,
         0,
         "GUEST",
         "GUEST",
         35,
         0
        ],
        [
         6,
         5,
         "2012-08-06 15:00:00",
         2,
         "Squash Court",
         3.5,
         17.5,
         5,
         "Butters",
         "Gerald",
         7,
         0
        ],
        [
         7,
         8,
         "2012-08-06 09:30:00",
         2,
         "Snooker Table",
         0,
         5,
         8,
         "Boothe",
         "Tim",
         0,
         0
        ],
        [
         7,
         2,
         "2012-08-06 11:00:00",
         2,
         "Snooker Table",
         0,
         5,
         2,
         "Smith",
         "Tracy",
         0,
         0
        ],
        [
         7,
         5,
         "2012-08-06 12:00:00",
         4,
         "Snooker Table",
         0,
         5,
         5,
         "Butters",
         "Gerald",
         0,
         0
        ],
        [
         7,
         4,
         "2012-08-06 17:30:00",
         2,
         "Snooker Table",
         0,
         5,
         4,
         "Joplette",
         "Janice",
         0,
         0
        ],
        [
         7,
         2,
         "2012-08-06 19:00:00",
         2,
         "Snooker Table",
         0,
         5,
         2,
         "Smith",
         "Tracy",
         0,
         0
        ],
        [
         8,
         3,
         "2012-08-06 08:00:00",
         1,
         "Pool Table",
         0,
         5,
         3,
         "Rownam",
         "Tim",
         0,
         0
        ],
        [
         8,
         4,
         "2012-08-06 09:00:00",
         1,
         "Pool Table",
         0,
         5,
         4,
         "Joplette",
         "Janice",
         0,
         0
        ],
        [
         8,
         3,
         "2012-08-06 09:30:00",
         1,
         "Pool Table",
         0,
         5,
         3,
         "Rownam",
         "Tim",
         0,
         0
        ],
        [
         8,
         6,
         "2012-08-06 12:00:00",
         1,
         "Pool Table",
         0,
         5,
         6,
         "Tracy",
         "Burton",
         0,
         0
        ],
        [
         8,
         1,
         "2012-08-06 18:00:00",
         1,
         "Pool Table",
         0,
         5,
         1,
         "Smith",
         "Darren",
         0,
         0
        ],
        [
         8,
         8,
         "2012-08-06 18:30:00",
         1,
         "Pool Table",
         0,
         5,
         8,
         "Boothe",
         "Tim",
         0,
         0
        ],
        [
         8,
         3,
         "2012-08-06 19:00:00",
         1,
         "Pool Table",
         0,
         5,
         3,
         "Rownam",
         "Tim",
         0,
         0
        ],
        [
         0,
         10,
         "2012-08-07 09:00:00",
         3,
         "Tennis Court 1",
         5,
         25,
         10,
         "Owen",
         "Charles",
         15,
         0
        ],
        [
         1,
         0,
         "2012-08-07 08:00:00",
         3,
         "Tennis Court 2",
         5,
         25,
         0,
         "GUEST",
         "GUEST",
         75,
         0
        ],
        [
         1,
         8,
         "2012-08-07 09:30:00",
         3,
         "Tennis Court 2",
         5,
         25,
         8,
         "Boothe",
         "Tim",
         15,
         0
        ],
        [
         1,
         7,
         "2012-08-07 17:00:00",
         3,
         "Tennis Court 2",
         5,
         25,
         7,
         "Dare",
         "Nancy",
         15,
         0
        ],
        [
         2,
         1,
         "2012-08-07 09:00:00",
         6,
         "Badminton Court",
         0,
         15.5,
         1,
         "Smith",
         "Darren",
         0,
         0
        ],
        [
         2,
         1,
         "2012-08-07 13:00:00",
         3,
         "Badminton Court",
         0,
         15.5,
         1,
         "Smith",
         "Darren",
         0,
         0
        ],
        [
         2,
         10,
         "2012-08-07 15:00:00",
         3,
         "Badminton Court",
         0,
         15.5,
         10,
         "Owen",
         "Charles",
         0,
         0
        ],
        [
         2,
         2,
         "2012-08-07 18:00:00",
         3,
         "Badminton Court",
         0,
         15.5,
         2,
         "Smith",
         "Tracy",
         0,
         0
        ],
        [
         3,
         6,
         "2012-08-07 08:30:00",
         2,
         "Table Tennis",
         0,
         5,
         6,
         "Tracy",
         "Burton",
         0,
         0
        ],
        [
         3,
         6,
         "2012-08-07 10:00:00",
         2,
         "Table Tennis",
         0,
         5,
         6,
         "Tracy",
         "Burton",
         0,
         0
        ],
        [
         3,
         3,
         "2012-08-07 11:00:00",
         2,
         "Table Tennis",
         0,
         5,
         3,
         "Rownam",
         "Tim",
         0,
         0
        ],
        [
         3,
         3,
         "2012-08-07 12:30:00",
         2,
         "Table Tennis",
         0,
         5,
         3,
         "Rownam",
         "Tim",
         0,
         0
        ],
        [
         3,
         3,
         "2012-08-07 14:30:00",
         2,
         "Table Tennis",
         0,
         5,
         3,
         "Rownam",
         "Tim",
         0,
         0
        ],
        [
         4,
         0,
         "2012-08-07 08:30:00",
         2,
         "Massage Room 1",
         9.9,
         80,
         0,
         "GUEST",
         "GUEST",
         160,
         0
        ],
        [
         4,
         8,
         "2012-08-07 12:00:00",
         2,
         "Massage Room 1",
         9.9,
         80,
         8,
         "Boothe",
         "Tim",
         19.8,
         0
        ],
        [
         4,
         8,
         "2012-08-07 13:30:00",
         2,
         "Massage Room 1",
         9.9,
         80,
         8,
         "Boothe",
         "Tim",
         19.8,
         0
        ],
        [
         4,
         0,
         "2012-08-07 15:30:00",
         2,
         "Massage Room 1",
         9.9,
         80,
         0,
         "GUEST",
         "GUEST",
         160,
         0
        ],
        [
         4,
         6,
         "2012-08-07 18:30:00",
         2,
         "Massage Room 1",
         9.9,
         80,
         6,
         "Tracy",
         "Burton",
         19.8,
         0
        ],
        [
         6,
         1,
         "2012-08-07 08:00:00",
         2,
         "Squash Court",
         3.5,
         17.5,
         1,
         "Smith",
         "Darren",
         7,
         0
        ],
        [
         6,
         0,
         "2012-08-07 14:00:00",
         2,
         "Squash Court",
         3.5,
         17.5,
         0,
         "GUEST",
         "GUEST",
         35,
         0
        ],
        [
         6,
         0,
         "2012-08-07 15:30:00",
         2,
         "Squash Court",
         3.5,
         17.5,
         0,
         "GUEST",
         "GUEST",
         35,
         0
        ],
        [
         6,
         0,
         "2012-08-07 18:00:00",
         2,
         "Squash Court",
         3.5,
         17.5,
         0,
         "GUEST",
         "GUEST",
         35,
         0
        ],
        [
         7,
         10,
         "2012-08-07 12:30:00",
         2,
         "Snooker Table",
         0,
         5,
         10,
         "Owen",
         "Charles",
         0,
         0
        ],
        [
         7,
         4,
         "2012-08-07 15:00:00",
         2,
         "Snooker Table",
         0,
         5,
         4,
         "Joplette",
         "Janice",
         0,
         0
        ],
        [
         7,
         9,
         "2012-08-07 18:30:00",
         2,
         "Snooker Table",
         0,
         5,
         9,
         "Stibbons",
         "Ponder",
         0,
         0
        ],
        [
         8,
         3,
         "2012-08-07 08:30:00",
         2,
         "Pool Table",
         0,
         5,
         3,
         "Rownam",
         "Tim",
         0,
         0
        ],
        [
         8,
         2,
         "2012-08-07 10:00:00",
         1,
         "Pool Table",
         0,
         5,
         2,
         "Smith",
         "Tracy",
         0,
         0
        ],
        [
         8,
         3,
         "2012-08-07 10:30:00",
         1,
         "Pool Table",
         0,
         5,
         3,
         "Rownam",
         "Tim",
         0,
         0
        ],
        [
         8,
         0,
         "2012-08-07 11:00:00",
         1,
         "Pool Table",
         0,
         5,
         0,
         "GUEST",
         "GUEST",
         5,
         0
        ],
        [
         8,
         3,
         "2012-08-07 12:00:00",
         1,
         "Pool Table",
         0,
         5,
         3,
         "Rownam",
         "Tim",
         0,
         0
        ],
        [
         8,
         2,
         "2012-08-07 12:30:00",
         1,
         "Pool Table",
         0,
         5,
         2,
         "Smith",
         "Tracy",
         0,
         0
        ],
        [
         8,
         2,
         "2012-08-07 14:30:00",
         1,
         "Pool Table",
         0,
         5,
         2,
         "Smith",
         "Tracy",
         0,
         0
        ],
        [
         8,
         0,
         "2012-08-07 16:30:00",
         1,
         "Pool Table",
         0,
         5,
         0,
         "GUEST",
         "GUEST",
         5,
         0
        ],
        [
         8,
         3,
         "2012-08-07 17:00:00",
         2,
         "Pool Table",
         0,
         5,
         3,
         "Rownam",
         "Tim",
         0,
         0
        ],
        [
         8,
         8,
         "2012-08-07 19:30:00",
         1,
         "Pool Table",
         0,
         5,
         8,
         "Boothe",
         "Tim",
         0,
         0
        ],
        [
         0,
         10,
         "2012-08-08 09:00:00",
         3,
         "Tennis Court 1",
         5,
         25,
         10,
         "Owen",
         "Charles",
         15,
         0
        ],
        [
         0,
         6,
         "2012-08-08 12:30:00",
         3,
         "Tennis Court 1",
         5,
         25,
         6,
         "Tracy",
         "Burton",
         15,
         0
        ],
        [
         0,
         5,
         "2012-08-08 14:00:00",
         3,
         "Tennis Court 1",
         5,
         25,
         5,
         "Butters",
         "Gerald",
         15,
         0
        ],
        [
         0,
         6,
         "2012-08-08 16:30:00",
         3,
         "Tennis Court 1",
         5,
         25,
         6,
         "Tracy",
         "Burton",
         15,
         0
        ],
        [
         1,
         0,
         "2012-08-08 08:30:00",
         6,
         "Tennis Court 2",
         5,
         25,
         0,
         "GUEST",
         "GUEST",
         150,
         0
        ],
        [
         1,
         10,
         "2012-08-08 11:30:00",
         3,
         "Tennis Court 2",
         5,
         25,
         10,
         "Owen",
         "Charles",
         15,
         0
        ],
        [
         1,
         10,
         "2012-08-08 14:00:00",
         3,
         "Tennis Court 2",
         5,
         25,
         10,
         "Owen",
         "Charles",
         15,
         0
        ],
        [
         1,
         9,
         "2012-08-08 19:00:00",
         3,
         "Tennis Court 2",
         5,
         25,
         9,
         "Stibbons",
         "Ponder",
         15,
         0
        ],
        [
         2,
         5,
         "2012-08-08 08:00:00",
         3,
         "Badminton Court",
         0,
         15.5,
         5,
         "Butters",
         "Gerald",
         0,
         0
        ],
        [
         2,
         9,
         "2012-08-08 09:30:00",
         3,
         "Badminton Court",
         0,
         15.5,
         9,
         "Stibbons",
         "Ponder",
         0,
         0
        ],
        [
         2,
         7,
         "2012-08-08 11:00:00",
         3,
         "Badminton Court",
         0,
         15.5,
         7,
         "Dare",
         "Nancy",
         0,
         0
        ],
        [
         2,
         1,
         "2012-08-08 14:00:00",
         3,
         "Badminton Court",
         0,
         15.5,
         1,
         "Smith",
         "Darren",
         0,
         0
        ],
        [
         2,
         5,
         "2012-08-08 17:30:00",
         3,
         "Badminton Court",
         0,
         15.5,
         5,
         "Butters",
         "Gerald",
         0,
         0
        ],
        [
         2,
         1,
         "2012-08-08 19:00:00",
         3,
         "Badminton Court",
         0,
         15.5,
         1,
         "Smith",
         "Darren",
         0,
         0
        ],
        [
         3,
         10,
         "2012-08-08 08:00:00",
         2,
         "Table Tennis",
         0,
         5,
         10,
         "Owen",
         "Charles",
         0,
         0
        ],
        [
         3,
         6,
         "2012-08-08 10:00:00",
         2,
         "Table Tennis",
         0,
         5,
         6,
         "Tracy",
         "Burton",
         0,
         0
        ],
        [
         3,
         0,
         "2012-08-08 12:00:00",
         2,
         "Table Tennis",
         0,
         5,
         0,
         "GUEST",
         "GUEST",
         10,
         0
        ],
        [
         3,
         10,
         "2012-08-08 15:30:00",
         2,
         "Table Tennis",
         0,
         5,
         10,
         "Owen",
         "Charles",
         0,
         0
        ],
        [
         3,
         2,
         "2012-08-08 19:00:00",
         2,
         "Table Tennis",
         0,
         5,
         2,
         "Smith",
         "Tracy",
         0,
         0
        ],
        [
         4,
         6,
         "2012-08-08 08:00:00",
         2,
         "Massage Room 1",
         9.9,
         80,
         6,
         "Tracy",
         "Burton",
         19.8,
         0
        ],
        [
         4,
         8,
         "2012-08-08 11:00:00",
         2,
         "Massage Room 1",
         9.9,
         80,
         8,
         "Boothe",
         "Tim",
         19.8,
         0
        ],
        [
         4,
         9,
         "2012-08-08 12:30:00",
         4,
         "Massage Room 1",
         9.9,
         80,
         9,
         "Stibbons",
         "Ponder",
         39.6,
         0
        ],
        [
         4,
         0,
         "2012-08-08 15:00:00",
         2,
         "Massage Room 1",
         9.9,
         80,
         0,
         "GUEST",
         "GUEST",
         160,
         0
        ],
        [
         4,
         0,
         "2012-08-08 16:30:00",
         2,
         "Massage Room 1",
         9.9,
         80,
         0,
         "GUEST",
         "GUEST",
         160,
         0
        ],
        [
         4,
         3,
         "2012-08-08 17:30:00",
         2,
         "Massage Room 1",
         9.9,
         80,
         3,
         "Rownam",
         "Tim",
         19.8,
         0
        ],
        [
         5,
         0,
         "2012-08-08 08:00:00",
         2,
         "Massage Room 2",
         9.9,
         80,
         0,
         "GUEST",
         "GUEST",
         160,
         0
        ],
        [
         6,
         0,
         "2012-08-08 09:00:00",
         2,
         "Squash Court",
         3.5,
         17.5,
         0,
         "GUEST",
         "GUEST",
         35,
         0
        ],
        [
         6,
         0,
         "2012-08-08 11:00:00",
         2,
         "Squash Court",
         3.5,
         17.5,
         0,
         "GUEST",
         "GUEST",
         35,
         0
        ],
        [
         6,
         8,
         "2012-08-08 12:30:00",
         2,
         "Squash Court",
         3.5,
         17.5,
         8,
         "Boothe",
         "Tim",
         7,
         0
        ],
        [
         6,
         6,
         "2012-08-08 15:00:00",
         2,
         "Squash Court",
         3.5,
         17.5,
         6,
         "Tracy",
         "Burton",
         7,
         0
        ],
        [
         6,
         10,
         "2012-08-08 17:30:00",
         2,
         "Squash Court",
         3.5,
         17.5,
         10,
         "Owen",
         "Charles",
         7,
         0
        ],
        [
         6,
         0,
         "2012-08-08 19:00:00",
         2,
         "Squash Court",
         3.5,
         17.5,
         0,
         "GUEST",
         "GUEST",
         35,
         0
        ],
        [
         7,
         8,
         "2012-08-08 08:00:00",
         2,
         "Snooker Table",
         0,
         5,
         8,
         "Boothe",
         "Tim",
         0,
         0
        ],
        [
         7,
         9,
         "2012-08-08 11:00:00",
         2,
         "Snooker Table",
         0,
         5,
         9,
         "Stibbons",
         "Ponder",
         0,
         0
        ],
        [
         7,
         7,
         "2012-08-08 12:30:00",
         2,
         "Snooker Table",
         0,
         5,
         7,
         "Dare",
         "Nancy",
         0,
         0
        ],
        [
         7,
         4,
         "2012-08-08 14:00:00",
         2,
         "Snooker Table",
         0,
         5,
         4,
         "Joplette",
         "Janice",
         0,
         0
        ],
        [
         7,
         9,
         "2012-08-08 15:30:00",
         2,
         "Snooker Table",
         0,
         5,
         9,
         "Stibbons",
         "Ponder",
         0,
         0
        ],
        [
         7,
         10,
         "2012-08-08 18:30:00",
         2,
         "Snooker Table",
         0,
         5,
         10,
         "Owen",
         "Charles",
         0,
         0
        ],
        [
         8,
         4,
         "2012-08-08 08:00:00",
         1,
         "Pool Table",
         0,
         5,
         4,
         "Joplette",
         "Janice",
         0,
         0
        ],
        [
         8,
         2,
         "2012-08-08 09:00:00",
         1,
         "Pool Table",
         0,
         5,
         2,
         "Smith",
         "Tracy",
         0,
         0
        ],
        [
         8,
         3,
         "2012-08-08 10:00:00",
         1,
         "Pool Table",
         0,
         5,
         3,
         "Rownam",
         "Tim",
         0,
         0
        ],
        [
         8,
         3,
         "2012-08-08 11:00:00",
         1,
         "Pool Table",
         0,
         5,
         3,
         "Rownam",
         "Tim",
         0,
         0
        ],
        [
         8,
         3,
         "2012-08-08 12:00:00",
         1,
         "Pool Table",
         0,
         5,
         3,
         "Rownam",
         "Tim",
         0,
         0
        ],
        [
         8,
         2,
         "2012-08-08 13:00:00",
         1,
         "Pool Table",
         0,
         5,
         2,
         "Smith",
         "Tracy",
         0,
         0
        ],
        [
         8,
         7,
         "2012-08-08 16:00:00",
         1,
         "Pool Table",
         0,
         5,
         7,
         "Dare",
         "Nancy",
         0,
         0
        ],
        [
         8,
         1,
         "2012-08-08 16:30:00",
         1,
         "Pool Table",
         0,
         5,
         1,
         "Smith",
         "Darren",
         0,
         0
        ],
        [
         8,
         3,
         "2012-08-08 17:00:00",
         1,
         "Pool Table",
         0,
         5,
         3,
         "Rownam",
         "Tim",
         0,
         0
        ],
        [
         8,
         2,
         "2012-08-08 17:30:00",
         1,
         "Pool Table",
         0,
         5,
         2,
         "Smith",
         "Tracy",
         0,
         0
        ],
        [
         8,
         1,
         "2012-08-08 18:30:00",
         1,
         "Pool Table",
         0,
         5,
         1,
         "Smith",
         "Darren",
         0,
         0
        ],
        [
         0,
         6,
         "2012-08-09 09:30:00",
         3,
         "Tennis Court 1",
         5,
         25,
         6,
         "Tracy",
         "Burton",
         15,
         0
        ],
        [
         0,
         7,
         "2012-08-09 16:00:00",
         3,
         "Tennis Court 1",
         5,
         25,
         7,
         "Dare",
         "Nancy",
         15,
         0
        ],
        [
         0,
         10,
         "2012-08-09 17:30:00",
         3,
         "Tennis Court 1",
         5,
         25,
         10,
         "Owen",
         "Charles",
         15,
         0
        ],
        [
         1,
         10,
         "2012-08-09 08:00:00",
         3,
         "Tennis Court 2",
         5,
         25,
         10,
         "Owen",
         "Charles",
         15,
         0
        ],
        [
         1,
         0,
         "2012-08-09 10:00:00",
         3,
         "Tennis Court 2",
         5,
         25,
         0,
         "GUEST",
         "GUEST",
         75,
         0
        ],
        [
         1,
         8,
         "2012-08-09 14:00:00",
         3,
         "Tennis Court 2",
         5,
         25,
         8,
         "Boothe",
         "Tim",
         15,
         0
        ],
        [
         1,
         0,
         "2012-08-09 17:00:00",
         3,
         "Tennis Court 2",
         5,
         25,
         0,
         "GUEST",
         "GUEST",
         75,
         0
        ],
        [
         2,
         2,
         "2012-08-09 09:00:00",
         3,
         "Badminton Court",
         0,
         15.5,
         2,
         "Smith",
         "Tracy",
         0,
         0
        ],
        [
         2,
         1,
         "2012-08-09 11:00:00",
         3,
         "Badminton Court",
         0,
         15.5,
         1,
         "Smith",
         "Darren",
         0,
         0
        ],
        [
         2,
         9,
         "2012-08-09 13:00:00",
         3,
         "Badminton Court",
         0,
         15.5,
         9,
         "Stibbons",
         "Ponder",
         0,
         0
        ],
        [
         2,
         1,
         "2012-08-09 14:30:00",
         3,
         "Badminton Court",
         0,
         15.5,
         1,
         "Smith",
         "Darren",
         0,
         0
        ],
        [
         2,
         1,
         "2012-08-09 16:30:00",
         3,
         "Badminton Court",
         0,
         15.5,
         1,
         "Smith",
         "Darren",
         0,
         0
        ],
        [
         3,
         10,
         "2012-08-09 10:00:00",
         2,
         "Table Tennis",
         0,
         5,
         10,
         "Owen",
         "Charles",
         0,
         0
        ],
        [
         3,
         7,
         "2012-08-09 13:30:00",
         2,
         "Table Tennis",
         0,
         5,
         7,
         "Dare",
         "Nancy",
         0,
         0
        ],
        [
         3,
         6,
         "2012-08-09 14:30:00",
         2,
         "Table Tennis",
         0,
         5,
         6,
         "Tracy",
         "Burton",
         0,
         0
        ],
        [
         3,
         2,
         "2012-08-09 18:00:00",
         2,
         "Table Tennis",
         0,
         5,
         2,
         "Smith",
         "Tracy",
         0,
         0
        ],
        [
         4,
         0,
         "2012-08-09 09:00:00",
         4,
         "Massage Room 1",
         9.9,
         80,
         0,
         "GUEST",
         "GUEST",
         320,
         0
        ],
        [
         4,
         0,
         "2012-08-09 12:00:00",
         4,
         "Massage Room 1",
         9.9,
         80,
         0,
         "GUEST",
         "GUEST",
         320,
         0
        ],
        [
         4,
         10,
         "2012-08-09 16:30:00",
         2,
         "Massage Room 1",
         9.9,
         80,
         10,
         "Owen",
         "Charles",
         19.8,
         0
        ],
        [
         4,
         9,
         "2012-08-09 17:30:00",
         2,
         "Massage Room 1",
         9.9,
         80,
         9,
         "Stibbons",
         "Ponder",
         19.8,
         0
        ],
        [
         4,
         8,
         "2012-08-09 18:30:00",
         2,
         "Massage Room 1",
         9.9,
         80,
         8,
         "Boothe",
         "Tim",
         19.8,
         0
        ],
        [
         4,
         10,
         "2012-08-09 19:30:00",
         2,
         "Massage Room 1",
         9.9,
         80,
         10,
         "Owen",
         "Charles",
         19.8,
         0
        ],
        [
         6,
         6,
         "2012-08-09 11:30:00",
         2,
         "Squash Court",
         3.5,
         17.5,
         6,
         "Tracy",
         "Burton",
         7,
         0
        ],
        [
         6,
         6,
         "2012-08-09 18:30:00",
         2,
         "Squash Court",
         3.5,
         17.5,
         6,
         "Tracy",
         "Burton",
         7,
         0
        ],
        [
         7,
         8,
         "2012-08-09 08:00:00",
         2,
         "Snooker Table",
         0,
         5,
         8,
         "Boothe",
         "Tim",
         0,
         0
        ],
        [
         7,
         8,
         "2012-08-09 10:30:00",
         2,
         "Snooker Table",
         0,
         5,
         8,
         "Boothe",
         "Tim",
         0,
         0
        ],
        [
         7,
         0,
         "2012-08-09 12:30:00",
         2,
         "Snooker Table",
         0,
         5,
         0,
         "GUEST",
         "GUEST",
         10,
         0
        ],
        [
         7,
         6,
         "2012-08-09 16:00:00",
         2,
         "Snooker Table",
         0,
         5,
         6,
         "Tracy",
         "Burton",
         0,
         0
        ],
        [
         7,
         2,
         "2012-08-09 17:00:00",
         2,
         "Snooker Table",
         0,
         5,
         2,
         "Smith",
         "Tracy",
         0,
         0
        ],
        [
         7,
         4,
         "2012-08-09 18:30:00",
         2,
         "Snooker Table",
         0,
         5,
         4,
         "Joplette",
         "Janice",
         0,
         0
        ],
        [
         8,
         4,
         "2012-08-09 10:00:00",
         1,
         "Pool Table",
         0,
         5,
         4,
         "Joplette",
         "Janice",
         0,
         0
        ],
        [
         8,
         2,
         "2012-08-09 11:30:00",
         1,
         "Pool Table",
         0,
         5,
         2,
         "Smith",
         "Tracy",
         0,
         0
        ],
        [
         8,
         6,
         "2012-08-09 13:00:00",
         1,
         "Pool Table",
         0,
         5,
         6,
         "Tracy",
         "Burton",
         0,
         0
        ],
        [
         8,
         3,
         "2012-08-09 15:00:00",
         1,
         "Pool Table",
         0,
         5,
         3,
         "Rownam",
         "Tim",
         0,
         0
        ],
        [
         8,
         5,
         "2012-08-09 15:30:00",
         1,
         "Pool Table",
         0,
         5,
         5,
         "Butters",
         "Gerald",
         0,
         0
        ]
       ],
       "datasetInfos": [],
       "dbfsResultPath": null,
       "isJsonSchema": true,
       "overflow": true,
       "plotOptions": {
        "customPlotOptions": {},
        "displayType": "table",
        "pivotAggregation": null,
        "pivotColumns": null,
        "xColumns": null,
        "yColumns": null
       },
       "removedWidgets": [],
       "schema": [
        {
         "metadata": "{}",
         "name": "b_facid",
         "type": "\"integer\""
        },
        {
         "metadata": "{}",
         "name": "b_memid",
         "type": "\"integer\""
        },
        {
         "metadata": "{}",
         "name": "starttime",
         "type": "\"string\""
        },
        {
         "metadata": "{}",
         "name": "slots",
         "type": "\"integer\""
        },
        {
         "metadata": "{}",
         "name": "f_name",
         "type": "\"string\""
        },
        {
         "metadata": "{}",
         "name": "membercost",
         "type": "\"double\""
        },
        {
         "metadata": "{}",
         "name": "guestcost",
         "type": "\"double\""
        },
        {
         "metadata": "{}",
         "name": "m_memid",
         "type": "\"integer\""
        },
        {
         "metadata": "{}",
         "name": "surname",
         "type": "\"string\""
        },
        {
         "metadata": "{}",
         "name": "firstname",
         "type": "\"string\""
        },
        {
         "metadata": "{}",
         "name": "the_cost",
         "type": "\"double\""
        },
        {
         "metadata": "{}",
         "name": "select_day",
         "type": "\"integer\""
        }
       ],
       "type": "table"
      }
     },
     "output_type": "display_data"
    }
   ],
   "source": [
    "%sql\n",
    "select bookings.facid as b_facid,\n",
    "       bookings.memid as b_memid,\n",
    "       bookings.starttime,\n",
    "       bookings.slots,\n",
    "       facilities.name as f_name,\n",
    "       facilities.membercost,\n",
    "       facilities.guestcost,\n",
    "       members.memid as m_memid,\n",
    "       members.surname,\n",
    "       members.firstname,\n",
    "       \n",
    "       case when members.memid = 0 then bookings.slots * facilities.guestcost\n",
    "            else bookings.slots * facilities.membercost\n",
    "            end\n",
    "            as the_cost,\n",
    "      \n",
    "       case when bookings.starttime like '%2012-09-14%' then 1\n",
    "            else 0\n",
    "            end\n",
    "            as select_day\n",
    "   \n",
    "  from bookings\n",
    "  left join facilities\n",
    "  on bookings.facid = facilities.facid\n",
    "  \n",
    "  left join members\n",
    "  on bookings.memid = members.memid\n",
    " \n"
   ]
  },
  {
   "cell_type": "markdown",
   "metadata": {
    "application/vnd.databricks.v1+cell": {
     "inputWidgets": {},
     "nuid": "d51d6f73-3b9c-4cd9-8259-7c5fb3c90094",
     "showTitle": false,
     "title": ""
    }
   },
   "source": [
    "###### almost answer, using member id"
   ]
  },
  {
   "cell_type": "code",
   "execution_count": 0,
   "metadata": {
    "application/vnd.databricks.v1+cell": {
     "inputWidgets": {},
     "nuid": "8c1122a2-0228-4618-8797-b8829ca8775f",
     "showTitle": false,
     "title": ""
    }
   },
   "outputs": [
    {
     "data": {
      "text/html": [
       "<style scoped>\n",
       "  .table-result-container {\n",
       "    max-height: 300px;\n",
       "    overflow: auto;\n",
       "  }\n",
       "  table, th, td {\n",
       "    border: 1px solid black;\n",
       "    border-collapse: collapse;\n",
       "  }\n",
       "  th, td {\n",
       "    padding: 5px;\n",
       "  }\n",
       "  th {\n",
       "    text-align: left;\n",
       "  }\n",
       "</style><div class='table-result-container'><table class='table-result'><thead style='background-color: white'><tr><th>select_day</th><th>memid</th><th>name</th><th>total_day_cost</th></tr></thead><tbody><tr><td>1</td><td>0</td><td>Massage Room 1</td><td>480</td></tr><tr><td>1</td><td>0</td><td>Massage Room 2</td><td>320</td></tr><tr><td>1</td><td>0</td><td>Tennis Court 2</td><td>225</td></tr><tr><td>1</td><td>0</td><td>Tennis Court 1</td><td>150</td></tr><tr><td>1</td><td>0</td><td>Squash Court</td><td>140</td></tr><tr><td>1</td><td>13</td><td>Massage Room 1</td><td>59.400000000000006</td></tr></tbody></table></div>"
      ]
     },
     "metadata": {
      "application/vnd.databricks.v1+output": {
       "addedWidgets": {},
       "aggData": [],
       "aggError": "",
       "aggOverflow": false,
       "aggSchema": [],
       "aggSeriesLimitReached": false,
       "aggType": "",
       "arguments": {},
       "columnCustomDisplayInfos": {},
       "data": [
        [
         1,
         0,
         "Massage Room 1",
         480
        ],
        [
         1,
         0,
         "Massage Room 2",
         320
        ],
        [
         1,
         0,
         "Tennis Court 2",
         225
        ],
        [
         1,
         0,
         "Tennis Court 1",
         150
        ],
        [
         1,
         0,
         "Squash Court",
         140
        ],
        [
         1,
         13,
         "Massage Room 1",
         59.400000000000006
        ]
       ],
       "datasetInfos": [],
       "dbfsResultPath": null,
       "isJsonSchema": true,
       "overflow": false,
       "plotOptions": {
        "customPlotOptions": {},
        "displayType": "table",
        "pivotAggregation": null,
        "pivotColumns": null,
        "xColumns": null,
        "yColumns": null
       },
       "removedWidgets": [],
       "schema": [
        {
         "metadata": "{}",
         "name": "select_day",
         "type": "\"integer\""
        },
        {
         "metadata": "{}",
         "name": "memid",
         "type": "\"integer\""
        },
        {
         "metadata": "{}",
         "name": "name",
         "type": "\"string\""
        },
        {
         "metadata": "{}",
         "name": "total_day_cost",
         "type": "\"double\""
        }
       ],
       "type": "table"
      }
     },
     "output_type": "display_data"
    }
   ],
   "source": [
    "%sql\n",
    "select case when bookings.starttime like '%2012-09-14%' then 1\n",
    "            else 0\n",
    "            end\n",
    "            as select_day,\n",
    "  \n",
    "      members.memid,\n",
    "      facilities.name,\n",
    "      \n",
    "      sum( case when members.memid = 0 then bookings.slots * facilities.guestcost\n",
    "            else bookings.slots * facilities.membercost\n",
    "            end)\n",
    "      as total_day_cost\n",
    "\n",
    "\n",
    "  from bookings\n",
    "  left join facilities\n",
    "  on bookings.facid = facilities.facid\n",
    "  \n",
    "  left join members\n",
    "  on bookings.memid = members.memid\n",
    "  \n",
    "  group by (1), members.memid, facilities.name\n",
    "  \n",
    "  having total_day_cost > 30 and select_day = 1\n",
    "  \n",
    "  order by total_day_cost desc\n",
    "  \n"
   ]
  },
  {
   "cell_type": "markdown",
   "metadata": {
    "application/vnd.databricks.v1+cell": {
     "inputWidgets": {},
     "nuid": "6b0702cf-1853-4568-91ea-953bc0f01e2d",
     "showTitle": false,
     "title": ""
    }
   },
   "source": [
    "###### Q8: ANSWER"
   ]
  },
  {
   "cell_type": "code",
   "execution_count": 0,
   "metadata": {
    "application/vnd.databricks.v1+cell": {
     "inputWidgets": {},
     "nuid": "298612a7-ed34-4e92-8851-8b692c4f69c7",
     "showTitle": false,
     "title": ""
    }
   },
   "outputs": [
    {
     "data": {
      "text/html": [
       "<style scoped>\n",
       "  .table-result-container {\n",
       "    max-height: 300px;\n",
       "    overflow: auto;\n",
       "  }\n",
       "  table, th, td {\n",
       "    border: 1px solid black;\n",
       "    border-collapse: collapse;\n",
       "  }\n",
       "  th, td {\n",
       "    padding: 5px;\n",
       "  }\n",
       "  th {\n",
       "    text-align: left;\n",
       "  }\n",
       "</style><div class='table-result-container'><table class='table-result'><thead style='background-color: white'><tr><th>select_day</th><th>full_name</th><th>name</th><th>total_day_cost</th></tr></thead><tbody><tr><td>1</td><td>GUEST GUEST</td><td>Massage Room 1</td><td>480.0</td></tr><tr><td>1</td><td>GUEST GUEST</td><td>Massage Room 2</td><td>320.0</td></tr><tr><td>1</td><td>GUEST GUEST</td><td>Tennis Court 2</td><td>225.0</td></tr><tr><td>1</td><td>GUEST GUEST</td><td>Tennis Court 1</td><td>150.0</td></tr><tr><td>1</td><td>GUEST GUEST</td><td>Squash Court</td><td>140.0</td></tr><tr><td>1</td><td>Jemima Farrell</td><td>Massage Room 1</td><td>59.400000000000006</td></tr></tbody></table></div>"
      ]
     },
     "metadata": {
      "application/vnd.databricks.v1+output": {
       "addedWidgets": {},
       "aggData": [],
       "aggError": "",
       "aggOverflow": false,
       "aggSchema": [],
       "aggSeriesLimitReached": false,
       "aggType": "",
       "arguments": {},
       "columnCustomDisplayInfos": {},
       "data": [
        [
         1,
         "GUEST GUEST",
         "Massage Room 1",
         480
        ],
        [
         1,
         "GUEST GUEST",
         "Massage Room 2",
         320
        ],
        [
         1,
         "GUEST GUEST",
         "Tennis Court 2",
         225
        ],
        [
         1,
         "GUEST GUEST",
         "Tennis Court 1",
         150
        ],
        [
         1,
         "GUEST GUEST",
         "Squash Court",
         140
        ],
        [
         1,
         "Jemima Farrell",
         "Massage Room 1",
         59.400000000000006
        ]
       ],
       "datasetInfos": [],
       "dbfsResultPath": null,
       "isJsonSchema": true,
       "overflow": false,
       "plotOptions": {
        "customPlotOptions": {},
        "displayType": "table",
        "pivotAggregation": null,
        "pivotColumns": null,
        "xColumns": null,
        "yColumns": null
       },
       "removedWidgets": [],
       "schema": [
        {
         "metadata": "{}",
         "name": "select_day",
         "type": "\"integer\""
        },
        {
         "metadata": "{}",
         "name": "full_name",
         "type": "\"string\""
        },
        {
         "metadata": "{}",
         "name": "name",
         "type": "\"string\""
        },
        {
         "metadata": "{}",
         "name": "total_day_cost",
         "type": "\"double\""
        }
       ],
       "type": "table"
      }
     },
     "output_type": "display_data"
    }
   ],
   "source": [
    "%sql\n",
    "select case when bookings.starttime like '%2012-09-14%' then 1\n",
    "            else 0\n",
    "            end\n",
    "            as select_day,\n",
    "  \n",
    "      concat_ws(' ', members.firstname, members.surname) as full_name,\n",
    "      facilities.name,\n",
    "      \n",
    "      sum( case when members.memid = 0 then bookings.slots * facilities.guestcost\n",
    "            else bookings.slots * facilities.membercost\n",
    "            end)\n",
    "      as total_day_cost\n",
    "\n",
    "\n",
    "  from bookings\n",
    "  left join facilities\n",
    "  on bookings.facid = facilities.facid\n",
    "  \n",
    "  left join members\n",
    "  on bookings.memid = members.memid\n",
    "  \n",
    "  group by (1), (2), facilities.name\n",
    "  \n",
    "  having total_day_cost > 30 and select_day = 1\n",
    "  \n",
    "  order by total_day_cost desc\n",
    "  \n"
   ]
  },
  {
   "cell_type": "code",
   "execution_count": 0,
   "metadata": {
    "application/vnd.databricks.v1+cell": {
     "inputWidgets": {},
     "nuid": "ba52c43f-ee6f-4c45-be3e-928d8b099161",
     "showTitle": false,
     "title": ""
    }
   },
   "outputs": [],
   "source": []
  },
  {
   "cell_type": "markdown",
   "metadata": {
    "application/vnd.databricks.v1+cell": {
     "inputWidgets": {},
     "nuid": "557bb674-6da7-405c-bd79-3ea09776f545",
     "showTitle": false,
     "title": ""
    }
   },
   "source": [
    "#### Q9: This time, produce the same result as in Q8, but using a subquery."
   ]
  },
  {
   "cell_type": "markdown",
   "metadata": {
    "application/vnd.databricks.v1+cell": {
     "inputWidgets": {},
     "nuid": "1693e184-7e7b-4087-91e5-30ed1870352c",
     "showTitle": false,
     "title": ""
    }
   },
   "source": [
    "###### get all bookings on that day"
   ]
  },
  {
   "cell_type": "code",
   "execution_count": 0,
   "metadata": {
    "application/vnd.databricks.v1+cell": {
     "inputWidgets": {},
     "nuid": "a143c977-a370-48b3-9480-8e96adc125bb",
     "showTitle": false,
     "title": ""
    }
   },
   "outputs": [
    {
     "data": {
      "text/html": [
       "<style scoped>\n",
       "  .table-result-container {\n",
       "    max-height: 300px;\n",
       "    overflow: auto;\n",
       "  }\n",
       "  table, th, td {\n",
       "    border: 1px solid black;\n",
       "    border-collapse: collapse;\n",
       "  }\n",
       "  th, td {\n",
       "    padding: 5px;\n",
       "  }\n",
       "  th {\n",
       "    text-align: left;\n",
       "  }\n",
       "</style><div class='table-result-container'><table class='table-result'><thead style='background-color: white'><tr><th>b_facid</th><th>b_memid</th><th>starttime</th><th>slots</th></tr></thead><tbody><tr><td>0</td><td>6</td><td>2012-09-14 08:00:00</td><td>3</td></tr><tr><td>0</td><td>17</td><td>2012-09-14 10:00:00</td><td>3</td></tr><tr><td>0</td><td>5</td><td>2012-09-14 12:30:00</td><td>3</td></tr><tr><td>0</td><td>3</td><td>2012-09-14 14:00:00</td><td>3</td></tr><tr><td>0</td><td>0</td><td>2012-09-14 16:00:00</td><td>3</td></tr><tr><td>0</td><td>26</td><td>2012-09-14 17:30:00</td><td>3</td></tr><tr><td>0</td><td>0</td><td>2012-09-14 19:00:00</td><td>3</td></tr><tr><td>1</td><td>11</td><td>2012-09-14 08:00:00</td><td>6</td></tr><tr><td>1</td><td>8</td><td>2012-09-14 11:00:00</td><td>6</td></tr><tr><td>1</td><td>0</td><td>2012-09-14 14:00:00</td><td>3</td></tr><tr><td>1</td><td>0</td><td>2012-09-14 17:00:00</td><td>6</td></tr><tr><td>2</td><td>1</td><td>2012-09-14 08:00:00</td><td>3</td></tr><tr><td>2</td><td>21</td><td>2012-09-14 11:00:00</td><td>3</td></tr><tr><td>2</td><td>1</td><td>2012-09-14 13:00:00</td><td>3</td></tr><tr><td>2</td><td>5</td><td>2012-09-14 16:00:00</td><td>3</td></tr><tr><td>2</td><td>9</td><td>2012-09-14 18:00:00</td><td>3</td></tr><tr><td>3</td><td>15</td><td>2012-09-14 08:30:00</td><td>2</td></tr><tr><td>3</td><td>16</td><td>2012-09-14 11:00:00</td><td>2</td></tr><tr><td>3</td><td>20</td><td>2012-09-14 12:30:00</td><td>2</td></tr><tr><td>3</td><td>21</td><td>2012-09-14 18:30:00</td><td>2</td></tr><tr><td>4</td><td>14</td><td>2012-09-14 08:00:00</td><td>2</td></tr><tr><td>4</td><td>0</td><td>2012-09-14 09:00:00</td><td>2</td></tr><tr><td>4</td><td>13</td><td>2012-09-14 11:00:00</td><td>2</td></tr><tr><td>4</td><td>9</td><td>2012-09-14 12:00:00</td><td>2</td></tr><tr><td>4</td><td>0</td><td>2012-09-14 13:00:00</td><td>2</td></tr><tr><td>4</td><td>13</td><td>2012-09-14 14:00:00</td><td>4</td></tr><tr><td>4</td><td>0</td><td>2012-09-14 16:00:00</td><td>2</td></tr><tr><td>4</td><td>6</td><td>2012-09-14 18:00:00</td><td>2</td></tr><tr><td>4</td><td>20</td><td>2012-09-14 19:00:00</td><td>2</td></tr><tr><td>5</td><td>15</td><td>2012-09-14 09:30:00</td><td>2</td></tr><tr><td>5</td><td>0</td><td>2012-09-14 11:00:00</td><td>4</td></tr><tr><td>6</td><td>12</td><td>2012-09-14 08:30:00</td><td>2</td></tr><tr><td>6</td><td>0</td><td>2012-09-14 09:30:00</td><td>4</td></tr><tr><td>6</td><td>0</td><td>2012-09-14 12:30:00</td><td>2</td></tr><tr><td>6</td><td>16</td><td>2012-09-14 14:00:00</td><td>2</td></tr><tr><td>6</td><td>0</td><td>2012-09-14 15:00:00</td><td>2</td></tr><tr><td>6</td><td>12</td><td>2012-09-14 16:00:00</td><td>2</td></tr><tr><td>6</td><td>17</td><td>2012-09-14 17:30:00</td><td>2</td></tr><tr><td>7</td><td>10</td><td>2012-09-14 08:30:00</td><td>2</td></tr><tr><td>7</td><td>24</td><td>2012-09-14 12:00:00</td><td>2</td></tr><tr><td>7</td><td>9</td><td>2012-09-14 13:30:00</td><td>2</td></tr><tr><td>7</td><td>21</td><td>2012-09-14 16:30:00</td><td>2</td></tr><tr><td>7</td><td>24</td><td>2012-09-14 18:00:00</td><td>2</td></tr><tr><td>8</td><td>3</td><td>2012-09-14 08:00:00</td><td>1</td></tr><tr><td>8</td><td>16</td><td>2012-09-14 08:30:00</td><td>1</td></tr><tr><td>8</td><td>2</td><td>2012-09-14 09:00:00</td><td>1</td></tr><tr><td>8</td><td>21</td><td>2012-09-14 09:30:00</td><td>1</td></tr><tr><td>8</td><td>3</td><td>2012-09-14 10:00:00</td><td>1</td></tr><tr><td>8</td><td>9</td><td>2012-09-14 10:30:00</td><td>1</td></tr><tr><td>8</td><td>3</td><td>2012-09-14 11:00:00</td><td>2</td></tr><tr><td>8</td><td>20</td><td>2012-09-14 12:00:00</td><td>1</td></tr><tr><td>8</td><td>21</td><td>2012-09-14 13:00:00</td><td>1</td></tr><tr><td>8</td><td>16</td><td>2012-09-14 13:30:00</td><td>1</td></tr><tr><td>8</td><td>24</td><td>2012-09-14 14:00:00</td><td>1</td></tr><tr><td>8</td><td>20</td><td>2012-09-14 15:00:00</td><td>1</td></tr><tr><td>8</td><td>22</td><td>2012-09-14 15:30:00</td><td>1</td></tr><tr><td>8</td><td>16</td><td>2012-09-14 16:00:00</td><td>1</td></tr><tr><td>8</td><td>3</td><td>2012-09-14 16:30:00</td><td>1</td></tr><tr><td>8</td><td>15</td><td>2012-09-14 17:00:00</td><td>1</td></tr><tr><td>8</td><td>16</td><td>2012-09-14 17:30:00</td><td>2</td></tr><tr><td>8</td><td>11</td><td>2012-09-14 19:00:00</td><td>1</td></tr><tr><td>8</td><td>2</td><td>2012-09-14 19:30:00</td><td>1</td></tr></tbody></table></div>"
      ]
     },
     "metadata": {
      "application/vnd.databricks.v1+output": {
       "addedWidgets": {},
       "aggData": [],
       "aggError": "",
       "aggOverflow": false,
       "aggSchema": [],
       "aggSeriesLimitReached": false,
       "aggType": "",
       "arguments": {},
       "columnCustomDisplayInfos": {},
       "data": [
        [
         0,
         6,
         "2012-09-14 08:00:00",
         3
        ],
        [
         0,
         17,
         "2012-09-14 10:00:00",
         3
        ],
        [
         0,
         5,
         "2012-09-14 12:30:00",
         3
        ],
        [
         0,
         3,
         "2012-09-14 14:00:00",
         3
        ],
        [
         0,
         0,
         "2012-09-14 16:00:00",
         3
        ],
        [
         0,
         26,
         "2012-09-14 17:30:00",
         3
        ],
        [
         0,
         0,
         "2012-09-14 19:00:00",
         3
        ],
        [
         1,
         11,
         "2012-09-14 08:00:00",
         6
        ],
        [
         1,
         8,
         "2012-09-14 11:00:00",
         6
        ],
        [
         1,
         0,
         "2012-09-14 14:00:00",
         3
        ],
        [
         1,
         0,
         "2012-09-14 17:00:00",
         6
        ],
        [
         2,
         1,
         "2012-09-14 08:00:00",
         3
        ],
        [
         2,
         21,
         "2012-09-14 11:00:00",
         3
        ],
        [
         2,
         1,
         "2012-09-14 13:00:00",
         3
        ],
        [
         2,
         5,
         "2012-09-14 16:00:00",
         3
        ],
        [
         2,
         9,
         "2012-09-14 18:00:00",
         3
        ],
        [
         3,
         15,
         "2012-09-14 08:30:00",
         2
        ],
        [
         3,
         16,
         "2012-09-14 11:00:00",
         2
        ],
        [
         3,
         20,
         "2012-09-14 12:30:00",
         2
        ],
        [
         3,
         21,
         "2012-09-14 18:30:00",
         2
        ],
        [
         4,
         14,
         "2012-09-14 08:00:00",
         2
        ],
        [
         4,
         0,
         "2012-09-14 09:00:00",
         2
        ],
        [
         4,
         13,
         "2012-09-14 11:00:00",
         2
        ],
        [
         4,
         9,
         "2012-09-14 12:00:00",
         2
        ],
        [
         4,
         0,
         "2012-09-14 13:00:00",
         2
        ],
        [
         4,
         13,
         "2012-09-14 14:00:00",
         4
        ],
        [
         4,
         0,
         "2012-09-14 16:00:00",
         2
        ],
        [
         4,
         6,
         "2012-09-14 18:00:00",
         2
        ],
        [
         4,
         20,
         "2012-09-14 19:00:00",
         2
        ],
        [
         5,
         15,
         "2012-09-14 09:30:00",
         2
        ],
        [
         5,
         0,
         "2012-09-14 11:00:00",
         4
        ],
        [
         6,
         12,
         "2012-09-14 08:30:00",
         2
        ],
        [
         6,
         0,
         "2012-09-14 09:30:00",
         4
        ],
        [
         6,
         0,
         "2012-09-14 12:30:00",
         2
        ],
        [
         6,
         16,
         "2012-09-14 14:00:00",
         2
        ],
        [
         6,
         0,
         "2012-09-14 15:00:00",
         2
        ],
        [
         6,
         12,
         "2012-09-14 16:00:00",
         2
        ],
        [
         6,
         17,
         "2012-09-14 17:30:00",
         2
        ],
        [
         7,
         10,
         "2012-09-14 08:30:00",
         2
        ],
        [
         7,
         24,
         "2012-09-14 12:00:00",
         2
        ],
        [
         7,
         9,
         "2012-09-14 13:30:00",
         2
        ],
        [
         7,
         21,
         "2012-09-14 16:30:00",
         2
        ],
        [
         7,
         24,
         "2012-09-14 18:00:00",
         2
        ],
        [
         8,
         3,
         "2012-09-14 08:00:00",
         1
        ],
        [
         8,
         16,
         "2012-09-14 08:30:00",
         1
        ],
        [
         8,
         2,
         "2012-09-14 09:00:00",
         1
        ],
        [
         8,
         21,
         "2012-09-14 09:30:00",
         1
        ],
        [
         8,
         3,
         "2012-09-14 10:00:00",
         1
        ],
        [
         8,
         9,
         "2012-09-14 10:30:00",
         1
        ],
        [
         8,
         3,
         "2012-09-14 11:00:00",
         2
        ],
        [
         8,
         20,
         "2012-09-14 12:00:00",
         1
        ],
        [
         8,
         21,
         "2012-09-14 13:00:00",
         1
        ],
        [
         8,
         16,
         "2012-09-14 13:30:00",
         1
        ],
        [
         8,
         24,
         "2012-09-14 14:00:00",
         1
        ],
        [
         8,
         20,
         "2012-09-14 15:00:00",
         1
        ],
        [
         8,
         22,
         "2012-09-14 15:30:00",
         1
        ],
        [
         8,
         16,
         "2012-09-14 16:00:00",
         1
        ],
        [
         8,
         3,
         "2012-09-14 16:30:00",
         1
        ],
        [
         8,
         15,
         "2012-09-14 17:00:00",
         1
        ],
        [
         8,
         16,
         "2012-09-14 17:30:00",
         2
        ],
        [
         8,
         11,
         "2012-09-14 19:00:00",
         1
        ],
        [
         8,
         2,
         "2012-09-14 19:30:00",
         1
        ]
       ],
       "datasetInfos": [],
       "dbfsResultPath": null,
       "isJsonSchema": true,
       "overflow": false,
       "plotOptions": {
        "customPlotOptions": {},
        "displayType": "table",
        "pivotAggregation": null,
        "pivotColumns": null,
        "xColumns": null,
        "yColumns": null
       },
       "removedWidgets": [],
       "schema": [
        {
         "metadata": "{}",
         "name": "b_facid",
         "type": "\"integer\""
        },
        {
         "metadata": "{}",
         "name": "b_memid",
         "type": "\"integer\""
        },
        {
         "metadata": "{}",
         "name": "starttime",
         "type": "\"string\""
        },
        {
         "metadata": "{}",
         "name": "slots",
         "type": "\"integer\""
        }
       ],
       "type": "table"
      }
     },
     "output_type": "display_data"
    }
   ],
   "source": [
    "%sql\n",
    "select facid as b_facid,\n",
    "       memid as b_memid,\n",
    "       starttime,\n",
    "       slots\n",
    "  from bookings\n",
    "  where starttime like '%2012-09-14%'"
   ]
  },
  {
   "cell_type": "markdown",
   "metadata": {
    "application/vnd.databricks.v1+cell": {
     "inputWidgets": {},
     "nuid": "14828e6b-2eb9-412f-bcb0-a6de8440b645",
     "showTitle": false,
     "title": ""
    }
   },
   "source": [
    "###### do joins"
   ]
  },
  {
   "cell_type": "code",
   "execution_count": 0,
   "metadata": {
    "application/vnd.databricks.v1+cell": {
     "inputWidgets": {},
     "nuid": "6ab57274-28b8-4597-9a53-6dc0a99f5f67",
     "showTitle": false,
     "title": ""
    }
   },
   "outputs": [
    {
     "data": {
      "text/html": [
       "<style scoped>\n",
       "  .table-result-container {\n",
       "    max-height: 300px;\n",
       "    overflow: auto;\n",
       "  }\n",
       "  table, th, td {\n",
       "    border: 1px solid black;\n",
       "    border-collapse: collapse;\n",
       "  }\n",
       "  th, td {\n",
       "    padding: 5px;\n",
       "  }\n",
       "  th {\n",
       "    text-align: left;\n",
       "  }\n",
       "</style><div class='table-result-container'><table class='table-result'><thead style='background-color: white'><tr><th>b_facid</th><th>b_memid</th><th>starttime</th><th>slots</th><th>f_name</th><th>membercost</th><th>guestcost</th><th>m_memid</th><th>surname</th><th>firstname</th></tr></thead><tbody><tr><td>0</td><td>6</td><td>2012-09-14 08:00:00</td><td>3</td><td>Tennis Court 1</td><td>5.0</td><td>25.0</td><td>6</td><td>Tracy</td><td>Burton</td></tr><tr><td>0</td><td>17</td><td>2012-09-14 10:00:00</td><td>3</td><td>Tennis Court 1</td><td>5.0</td><td>25.0</td><td>17</td><td>Pinker</td><td>David</td></tr><tr><td>0</td><td>5</td><td>2012-09-14 12:30:00</td><td>3</td><td>Tennis Court 1</td><td>5.0</td><td>25.0</td><td>5</td><td>Butters</td><td>Gerald</td></tr><tr><td>0</td><td>3</td><td>2012-09-14 14:00:00</td><td>3</td><td>Tennis Court 1</td><td>5.0</td><td>25.0</td><td>3</td><td>Rownam</td><td>Tim</td></tr><tr><td>0</td><td>0</td><td>2012-09-14 16:00:00</td><td>3</td><td>Tennis Court 1</td><td>5.0</td><td>25.0</td><td>0</td><td>GUEST</td><td>GUEST</td></tr><tr><td>0</td><td>26</td><td>2012-09-14 17:30:00</td><td>3</td><td>Tennis Court 1</td><td>5.0</td><td>25.0</td><td>26</td><td>Jones</td><td>Douglas</td></tr><tr><td>0</td><td>0</td><td>2012-09-14 19:00:00</td><td>3</td><td>Tennis Court 1</td><td>5.0</td><td>25.0</td><td>0</td><td>GUEST</td><td>GUEST</td></tr><tr><td>1</td><td>11</td><td>2012-09-14 08:00:00</td><td>6</td><td>Tennis Court 2</td><td>5.0</td><td>25.0</td><td>11</td><td>Jones</td><td>David</td></tr><tr><td>1</td><td>8</td><td>2012-09-14 11:00:00</td><td>6</td><td>Tennis Court 2</td><td>5.0</td><td>25.0</td><td>8</td><td>Boothe</td><td>Tim</td></tr><tr><td>1</td><td>0</td><td>2012-09-14 14:00:00</td><td>3</td><td>Tennis Court 2</td><td>5.0</td><td>25.0</td><td>0</td><td>GUEST</td><td>GUEST</td></tr><tr><td>1</td><td>0</td><td>2012-09-14 17:00:00</td><td>6</td><td>Tennis Court 2</td><td>5.0</td><td>25.0</td><td>0</td><td>GUEST</td><td>GUEST</td></tr><tr><td>2</td><td>1</td><td>2012-09-14 08:00:00</td><td>3</td><td>Badminton Court</td><td>0.0</td><td>15.5</td><td>1</td><td>Smith</td><td>Darren</td></tr><tr><td>2</td><td>21</td><td>2012-09-14 11:00:00</td><td>3</td><td>Badminton Court</td><td>0.0</td><td>15.5</td><td>21</td><td>Mackenzie</td><td>Anna</td></tr><tr><td>2</td><td>1</td><td>2012-09-14 13:00:00</td><td>3</td><td>Badminton Court</td><td>0.0</td><td>15.5</td><td>1</td><td>Smith</td><td>Darren</td></tr><tr><td>2</td><td>5</td><td>2012-09-14 16:00:00</td><td>3</td><td>Badminton Court</td><td>0.0</td><td>15.5</td><td>5</td><td>Butters</td><td>Gerald</td></tr><tr><td>2</td><td>9</td><td>2012-09-14 18:00:00</td><td>3</td><td>Badminton Court</td><td>0.0</td><td>15.5</td><td>9</td><td>Stibbons</td><td>Ponder</td></tr><tr><td>3</td><td>15</td><td>2012-09-14 08:30:00</td><td>2</td><td>Table Tennis</td><td>0.0</td><td>5.0</td><td>15</td><td>Bader</td><td>Florence</td></tr><tr><td>3</td><td>16</td><td>2012-09-14 11:00:00</td><td>2</td><td>Table Tennis</td><td>0.0</td><td>5.0</td><td>16</td><td>Baker</td><td>Timothy</td></tr><tr><td>3</td><td>20</td><td>2012-09-14 12:30:00</td><td>2</td><td>Table Tennis</td><td>0.0</td><td>5.0</td><td>20</td><td>Genting</td><td>Matthew</td></tr><tr><td>3</td><td>21</td><td>2012-09-14 18:30:00</td><td>2</td><td>Table Tennis</td><td>0.0</td><td>5.0</td><td>21</td><td>Mackenzie</td><td>Anna</td></tr><tr><td>4</td><td>14</td><td>2012-09-14 08:00:00</td><td>2</td><td>Massage Room 1</td><td>9.9</td><td>80.0</td><td>14</td><td>Smith</td><td>Jack</td></tr><tr><td>4</td><td>0</td><td>2012-09-14 09:00:00</td><td>2</td><td>Massage Room 1</td><td>9.9</td><td>80.0</td><td>0</td><td>GUEST</td><td>GUEST</td></tr><tr><td>4</td><td>13</td><td>2012-09-14 11:00:00</td><td>2</td><td>Massage Room 1</td><td>9.9</td><td>80.0</td><td>13</td><td>Farrell</td><td>Jemima</td></tr><tr><td>4</td><td>9</td><td>2012-09-14 12:00:00</td><td>2</td><td>Massage Room 1</td><td>9.9</td><td>80.0</td><td>9</td><td>Stibbons</td><td>Ponder</td></tr><tr><td>4</td><td>0</td><td>2012-09-14 13:00:00</td><td>2</td><td>Massage Room 1</td><td>9.9</td><td>80.0</td><td>0</td><td>GUEST</td><td>GUEST</td></tr><tr><td>4</td><td>13</td><td>2012-09-14 14:00:00</td><td>4</td><td>Massage Room 1</td><td>9.9</td><td>80.0</td><td>13</td><td>Farrell</td><td>Jemima</td></tr><tr><td>4</td><td>0</td><td>2012-09-14 16:00:00</td><td>2</td><td>Massage Room 1</td><td>9.9</td><td>80.0</td><td>0</td><td>GUEST</td><td>GUEST</td></tr><tr><td>4</td><td>6</td><td>2012-09-14 18:00:00</td><td>2</td><td>Massage Room 1</td><td>9.9</td><td>80.0</td><td>6</td><td>Tracy</td><td>Burton</td></tr><tr><td>4</td><td>20</td><td>2012-09-14 19:00:00</td><td>2</td><td>Massage Room 1</td><td>9.9</td><td>80.0</td><td>20</td><td>Genting</td><td>Matthew</td></tr><tr><td>5</td><td>15</td><td>2012-09-14 09:30:00</td><td>2</td><td>Massage Room 2</td><td>9.9</td><td>80.0</td><td>15</td><td>Bader</td><td>Florence</td></tr><tr><td>5</td><td>0</td><td>2012-09-14 11:00:00</td><td>4</td><td>Massage Room 2</td><td>9.9</td><td>80.0</td><td>0</td><td>GUEST</td><td>GUEST</td></tr><tr><td>6</td><td>12</td><td>2012-09-14 08:30:00</td><td>2</td><td>Squash Court</td><td>3.5</td><td>17.5</td><td>12</td><td>Baker</td><td>Anne</td></tr><tr><td>6</td><td>0</td><td>2012-09-14 09:30:00</td><td>4</td><td>Squash Court</td><td>3.5</td><td>17.5</td><td>0</td><td>GUEST</td><td>GUEST</td></tr><tr><td>6</td><td>0</td><td>2012-09-14 12:30:00</td><td>2</td><td>Squash Court</td><td>3.5</td><td>17.5</td><td>0</td><td>GUEST</td><td>GUEST</td></tr><tr><td>6</td><td>16</td><td>2012-09-14 14:00:00</td><td>2</td><td>Squash Court</td><td>3.5</td><td>17.5</td><td>16</td><td>Baker</td><td>Timothy</td></tr><tr><td>6</td><td>0</td><td>2012-09-14 15:00:00</td><td>2</td><td>Squash Court</td><td>3.5</td><td>17.5</td><td>0</td><td>GUEST</td><td>GUEST</td></tr><tr><td>6</td><td>12</td><td>2012-09-14 16:00:00</td><td>2</td><td>Squash Court</td><td>3.5</td><td>17.5</td><td>12</td><td>Baker</td><td>Anne</td></tr><tr><td>6</td><td>17</td><td>2012-09-14 17:30:00</td><td>2</td><td>Squash Court</td><td>3.5</td><td>17.5</td><td>17</td><td>Pinker</td><td>David</td></tr><tr><td>7</td><td>10</td><td>2012-09-14 08:30:00</td><td>2</td><td>Snooker Table</td><td>0.0</td><td>5.0</td><td>10</td><td>Owen</td><td>Charles</td></tr><tr><td>7</td><td>24</td><td>2012-09-14 12:00:00</td><td>2</td><td>Snooker Table</td><td>0.0</td><td>5.0</td><td>24</td><td>Sarwin</td><td>Ramnaresh</td></tr><tr><td>7</td><td>9</td><td>2012-09-14 13:30:00</td><td>2</td><td>Snooker Table</td><td>0.0</td><td>5.0</td><td>9</td><td>Stibbons</td><td>Ponder</td></tr><tr><td>7</td><td>21</td><td>2012-09-14 16:30:00</td><td>2</td><td>Snooker Table</td><td>0.0</td><td>5.0</td><td>21</td><td>Mackenzie</td><td>Anna</td></tr><tr><td>7</td><td>24</td><td>2012-09-14 18:00:00</td><td>2</td><td>Snooker Table</td><td>0.0</td><td>5.0</td><td>24</td><td>Sarwin</td><td>Ramnaresh</td></tr><tr><td>8</td><td>3</td><td>2012-09-14 08:00:00</td><td>1</td><td>Pool Table</td><td>0.0</td><td>5.0</td><td>3</td><td>Rownam</td><td>Tim</td></tr><tr><td>8</td><td>16</td><td>2012-09-14 08:30:00</td><td>1</td><td>Pool Table</td><td>0.0</td><td>5.0</td><td>16</td><td>Baker</td><td>Timothy</td></tr><tr><td>8</td><td>2</td><td>2012-09-14 09:00:00</td><td>1</td><td>Pool Table</td><td>0.0</td><td>5.0</td><td>2</td><td>Smith</td><td>Tracy</td></tr><tr><td>8</td><td>21</td><td>2012-09-14 09:30:00</td><td>1</td><td>Pool Table</td><td>0.0</td><td>5.0</td><td>21</td><td>Mackenzie</td><td>Anna</td></tr><tr><td>8</td><td>3</td><td>2012-09-14 10:00:00</td><td>1</td><td>Pool Table</td><td>0.0</td><td>5.0</td><td>3</td><td>Rownam</td><td>Tim</td></tr><tr><td>8</td><td>9</td><td>2012-09-14 10:30:00</td><td>1</td><td>Pool Table</td><td>0.0</td><td>5.0</td><td>9</td><td>Stibbons</td><td>Ponder</td></tr><tr><td>8</td><td>3</td><td>2012-09-14 11:00:00</td><td>2</td><td>Pool Table</td><td>0.0</td><td>5.0</td><td>3</td><td>Rownam</td><td>Tim</td></tr><tr><td>8</td><td>20</td><td>2012-09-14 12:00:00</td><td>1</td><td>Pool Table</td><td>0.0</td><td>5.0</td><td>20</td><td>Genting</td><td>Matthew</td></tr><tr><td>8</td><td>21</td><td>2012-09-14 13:00:00</td><td>1</td><td>Pool Table</td><td>0.0</td><td>5.0</td><td>21</td><td>Mackenzie</td><td>Anna</td></tr><tr><td>8</td><td>16</td><td>2012-09-14 13:30:00</td><td>1</td><td>Pool Table</td><td>0.0</td><td>5.0</td><td>16</td><td>Baker</td><td>Timothy</td></tr><tr><td>8</td><td>24</td><td>2012-09-14 14:00:00</td><td>1</td><td>Pool Table</td><td>0.0</td><td>5.0</td><td>24</td><td>Sarwin</td><td>Ramnaresh</td></tr><tr><td>8</td><td>20</td><td>2012-09-14 15:00:00</td><td>1</td><td>Pool Table</td><td>0.0</td><td>5.0</td><td>20</td><td>Genting</td><td>Matthew</td></tr><tr><td>8</td><td>22</td><td>2012-09-14 15:30:00</td><td>1</td><td>Pool Table</td><td>0.0</td><td>5.0</td><td>22</td><td>Coplin</td><td>Joan</td></tr><tr><td>8</td><td>16</td><td>2012-09-14 16:00:00</td><td>1</td><td>Pool Table</td><td>0.0</td><td>5.0</td><td>16</td><td>Baker</td><td>Timothy</td></tr><tr><td>8</td><td>3</td><td>2012-09-14 16:30:00</td><td>1</td><td>Pool Table</td><td>0.0</td><td>5.0</td><td>3</td><td>Rownam</td><td>Tim</td></tr><tr><td>8</td><td>15</td><td>2012-09-14 17:00:00</td><td>1</td><td>Pool Table</td><td>0.0</td><td>5.0</td><td>15</td><td>Bader</td><td>Florence</td></tr><tr><td>8</td><td>16</td><td>2012-09-14 17:30:00</td><td>2</td><td>Pool Table</td><td>0.0</td><td>5.0</td><td>16</td><td>Baker</td><td>Timothy</td></tr><tr><td>8</td><td>11</td><td>2012-09-14 19:00:00</td><td>1</td><td>Pool Table</td><td>0.0</td><td>5.0</td><td>11</td><td>Jones</td><td>David</td></tr><tr><td>8</td><td>2</td><td>2012-09-14 19:30:00</td><td>1</td><td>Pool Table</td><td>0.0</td><td>5.0</td><td>2</td><td>Smith</td><td>Tracy</td></tr></tbody></table></div>"
      ]
     },
     "metadata": {
      "application/vnd.databricks.v1+output": {
       "addedWidgets": {},
       "aggData": [],
       "aggError": "",
       "aggOverflow": false,
       "aggSchema": [],
       "aggSeriesLimitReached": false,
       "aggType": "",
       "arguments": {},
       "columnCustomDisplayInfos": {},
       "data": [
        [
         0,
         6,
         "2012-09-14 08:00:00",
         3,
         "Tennis Court 1",
         5,
         25,
         6,
         "Tracy",
         "Burton"
        ],
        [
         0,
         17,
         "2012-09-14 10:00:00",
         3,
         "Tennis Court 1",
         5,
         25,
         17,
         "Pinker",
         "David"
        ],
        [
         0,
         5,
         "2012-09-14 12:30:00",
         3,
         "Tennis Court 1",
         5,
         25,
         5,
         "Butters",
         "Gerald"
        ],
        [
         0,
         3,
         "2012-09-14 14:00:00",
         3,
         "Tennis Court 1",
         5,
         25,
         3,
         "Rownam",
         "Tim"
        ],
        [
         0,
         0,
         "2012-09-14 16:00:00",
         3,
         "Tennis Court 1",
         5,
         25,
         0,
         "GUEST",
         "GUEST"
        ],
        [
         0,
         26,
         "2012-09-14 17:30:00",
         3,
         "Tennis Court 1",
         5,
         25,
         26,
         "Jones",
         "Douglas"
        ],
        [
         0,
         0,
         "2012-09-14 19:00:00",
         3,
         "Tennis Court 1",
         5,
         25,
         0,
         "GUEST",
         "GUEST"
        ],
        [
         1,
         11,
         "2012-09-14 08:00:00",
         6,
         "Tennis Court 2",
         5,
         25,
         11,
         "Jones",
         "David"
        ],
        [
         1,
         8,
         "2012-09-14 11:00:00",
         6,
         "Tennis Court 2",
         5,
         25,
         8,
         "Boothe",
         "Tim"
        ],
        [
         1,
         0,
         "2012-09-14 14:00:00",
         3,
         "Tennis Court 2",
         5,
         25,
         0,
         "GUEST",
         "GUEST"
        ],
        [
         1,
         0,
         "2012-09-14 17:00:00",
         6,
         "Tennis Court 2",
         5,
         25,
         0,
         "GUEST",
         "GUEST"
        ],
        [
         2,
         1,
         "2012-09-14 08:00:00",
         3,
         "Badminton Court",
         0,
         15.5,
         1,
         "Smith",
         "Darren"
        ],
        [
         2,
         21,
         "2012-09-14 11:00:00",
         3,
         "Badminton Court",
         0,
         15.5,
         21,
         "Mackenzie",
         "Anna"
        ],
        [
         2,
         1,
         "2012-09-14 13:00:00",
         3,
         "Badminton Court",
         0,
         15.5,
         1,
         "Smith",
         "Darren"
        ],
        [
         2,
         5,
         "2012-09-14 16:00:00",
         3,
         "Badminton Court",
         0,
         15.5,
         5,
         "Butters",
         "Gerald"
        ],
        [
         2,
         9,
         "2012-09-14 18:00:00",
         3,
         "Badminton Court",
         0,
         15.5,
         9,
         "Stibbons",
         "Ponder"
        ],
        [
         3,
         15,
         "2012-09-14 08:30:00",
         2,
         "Table Tennis",
         0,
         5,
         15,
         "Bader",
         "Florence"
        ],
        [
         3,
         16,
         "2012-09-14 11:00:00",
         2,
         "Table Tennis",
         0,
         5,
         16,
         "Baker",
         "Timothy"
        ],
        [
         3,
         20,
         "2012-09-14 12:30:00",
         2,
         "Table Tennis",
         0,
         5,
         20,
         "Genting",
         "Matthew"
        ],
        [
         3,
         21,
         "2012-09-14 18:30:00",
         2,
         "Table Tennis",
         0,
         5,
         21,
         "Mackenzie",
         "Anna"
        ],
        [
         4,
         14,
         "2012-09-14 08:00:00",
         2,
         "Massage Room 1",
         9.9,
         80,
         14,
         "Smith",
         "Jack"
        ],
        [
         4,
         0,
         "2012-09-14 09:00:00",
         2,
         "Massage Room 1",
         9.9,
         80,
         0,
         "GUEST",
         "GUEST"
        ],
        [
         4,
         13,
         "2012-09-14 11:00:00",
         2,
         "Massage Room 1",
         9.9,
         80,
         13,
         "Farrell",
         "Jemima"
        ],
        [
         4,
         9,
         "2012-09-14 12:00:00",
         2,
         "Massage Room 1",
         9.9,
         80,
         9,
         "Stibbons",
         "Ponder"
        ],
        [
         4,
         0,
         "2012-09-14 13:00:00",
         2,
         "Massage Room 1",
         9.9,
         80,
         0,
         "GUEST",
         "GUEST"
        ],
        [
         4,
         13,
         "2012-09-14 14:00:00",
         4,
         "Massage Room 1",
         9.9,
         80,
         13,
         "Farrell",
         "Jemima"
        ],
        [
         4,
         0,
         "2012-09-14 16:00:00",
         2,
         "Massage Room 1",
         9.9,
         80,
         0,
         "GUEST",
         "GUEST"
        ],
        [
         4,
         6,
         "2012-09-14 18:00:00",
         2,
         "Massage Room 1",
         9.9,
         80,
         6,
         "Tracy",
         "Burton"
        ],
        [
         4,
         20,
         "2012-09-14 19:00:00",
         2,
         "Massage Room 1",
         9.9,
         80,
         20,
         "Genting",
         "Matthew"
        ],
        [
         5,
         15,
         "2012-09-14 09:30:00",
         2,
         "Massage Room 2",
         9.9,
         80,
         15,
         "Bader",
         "Florence"
        ],
        [
         5,
         0,
         "2012-09-14 11:00:00",
         4,
         "Massage Room 2",
         9.9,
         80,
         0,
         "GUEST",
         "GUEST"
        ],
        [
         6,
         12,
         "2012-09-14 08:30:00",
         2,
         "Squash Court",
         3.5,
         17.5,
         12,
         "Baker",
         "Anne"
        ],
        [
         6,
         0,
         "2012-09-14 09:30:00",
         4,
         "Squash Court",
         3.5,
         17.5,
         0,
         "GUEST",
         "GUEST"
        ],
        [
         6,
         0,
         "2012-09-14 12:30:00",
         2,
         "Squash Court",
         3.5,
         17.5,
         0,
         "GUEST",
         "GUEST"
        ],
        [
         6,
         16,
         "2012-09-14 14:00:00",
         2,
         "Squash Court",
         3.5,
         17.5,
         16,
         "Baker",
         "Timothy"
        ],
        [
         6,
         0,
         "2012-09-14 15:00:00",
         2,
         "Squash Court",
         3.5,
         17.5,
         0,
         "GUEST",
         "GUEST"
        ],
        [
         6,
         12,
         "2012-09-14 16:00:00",
         2,
         "Squash Court",
         3.5,
         17.5,
         12,
         "Baker",
         "Anne"
        ],
        [
         6,
         17,
         "2012-09-14 17:30:00",
         2,
         "Squash Court",
         3.5,
         17.5,
         17,
         "Pinker",
         "David"
        ],
        [
         7,
         10,
         "2012-09-14 08:30:00",
         2,
         "Snooker Table",
         0,
         5,
         10,
         "Owen",
         "Charles"
        ],
        [
         7,
         24,
         "2012-09-14 12:00:00",
         2,
         "Snooker Table",
         0,
         5,
         24,
         "Sarwin",
         "Ramnaresh"
        ],
        [
         7,
         9,
         "2012-09-14 13:30:00",
         2,
         "Snooker Table",
         0,
         5,
         9,
         "Stibbons",
         "Ponder"
        ],
        [
         7,
         21,
         "2012-09-14 16:30:00",
         2,
         "Snooker Table",
         0,
         5,
         21,
         "Mackenzie",
         "Anna"
        ],
        [
         7,
         24,
         "2012-09-14 18:00:00",
         2,
         "Snooker Table",
         0,
         5,
         24,
         "Sarwin",
         "Ramnaresh"
        ],
        [
         8,
         3,
         "2012-09-14 08:00:00",
         1,
         "Pool Table",
         0,
         5,
         3,
         "Rownam",
         "Tim"
        ],
        [
         8,
         16,
         "2012-09-14 08:30:00",
         1,
         "Pool Table",
         0,
         5,
         16,
         "Baker",
         "Timothy"
        ],
        [
         8,
         2,
         "2012-09-14 09:00:00",
         1,
         "Pool Table",
         0,
         5,
         2,
         "Smith",
         "Tracy"
        ],
        [
         8,
         21,
         "2012-09-14 09:30:00",
         1,
         "Pool Table",
         0,
         5,
         21,
         "Mackenzie",
         "Anna"
        ],
        [
         8,
         3,
         "2012-09-14 10:00:00",
         1,
         "Pool Table",
         0,
         5,
         3,
         "Rownam",
         "Tim"
        ],
        [
         8,
         9,
         "2012-09-14 10:30:00",
         1,
         "Pool Table",
         0,
         5,
         9,
         "Stibbons",
         "Ponder"
        ],
        [
         8,
         3,
         "2012-09-14 11:00:00",
         2,
         "Pool Table",
         0,
         5,
         3,
         "Rownam",
         "Tim"
        ],
        [
         8,
         20,
         "2012-09-14 12:00:00",
         1,
         "Pool Table",
         0,
         5,
         20,
         "Genting",
         "Matthew"
        ],
        [
         8,
         21,
         "2012-09-14 13:00:00",
         1,
         "Pool Table",
         0,
         5,
         21,
         "Mackenzie",
         "Anna"
        ],
        [
         8,
         16,
         "2012-09-14 13:30:00",
         1,
         "Pool Table",
         0,
         5,
         16,
         "Baker",
         "Timothy"
        ],
        [
         8,
         24,
         "2012-09-14 14:00:00",
         1,
         "Pool Table",
         0,
         5,
         24,
         "Sarwin",
         "Ramnaresh"
        ],
        [
         8,
         20,
         "2012-09-14 15:00:00",
         1,
         "Pool Table",
         0,
         5,
         20,
         "Genting",
         "Matthew"
        ],
        [
         8,
         22,
         "2012-09-14 15:30:00",
         1,
         "Pool Table",
         0,
         5,
         22,
         "Coplin",
         "Joan"
        ],
        [
         8,
         16,
         "2012-09-14 16:00:00",
         1,
         "Pool Table",
         0,
         5,
         16,
         "Baker",
         "Timothy"
        ],
        [
         8,
         3,
         "2012-09-14 16:30:00",
         1,
         "Pool Table",
         0,
         5,
         3,
         "Rownam",
         "Tim"
        ],
        [
         8,
         15,
         "2012-09-14 17:00:00",
         1,
         "Pool Table",
         0,
         5,
         15,
         "Bader",
         "Florence"
        ],
        [
         8,
         16,
         "2012-09-14 17:30:00",
         2,
         "Pool Table",
         0,
         5,
         16,
         "Baker",
         "Timothy"
        ],
        [
         8,
         11,
         "2012-09-14 19:00:00",
         1,
         "Pool Table",
         0,
         5,
         11,
         "Jones",
         "David"
        ],
        [
         8,
         2,
         "2012-09-14 19:30:00",
         1,
         "Pool Table",
         0,
         5,
         2,
         "Smith",
         "Tracy"
        ]
       ],
       "datasetInfos": [],
       "dbfsResultPath": null,
       "isJsonSchema": true,
       "overflow": false,
       "plotOptions": {
        "customPlotOptions": {},
        "displayType": "table",
        "pivotAggregation": null,
        "pivotColumns": null,
        "xColumns": null,
        "yColumns": null
       },
       "removedWidgets": [],
       "schema": [
        {
         "metadata": "{}",
         "name": "b_facid",
         "type": "\"integer\""
        },
        {
         "metadata": "{}",
         "name": "b_memid",
         "type": "\"integer\""
        },
        {
         "metadata": "{}",
         "name": "starttime",
         "type": "\"string\""
        },
        {
         "metadata": "{}",
         "name": "slots",
         "type": "\"integer\""
        },
        {
         "metadata": "{}",
         "name": "f_name",
         "type": "\"string\""
        },
        {
         "metadata": "{}",
         "name": "membercost",
         "type": "\"double\""
        },
        {
         "metadata": "{}",
         "name": "guestcost",
         "type": "\"double\""
        },
        {
         "metadata": "{}",
         "name": "m_memid",
         "type": "\"integer\""
        },
        {
         "metadata": "{}",
         "name": "surname",
         "type": "\"string\""
        },
        {
         "metadata": "{}",
         "name": "firstname",
         "type": "\"string\""
        }
       ],
       "type": "table"
      }
     },
     "output_type": "display_data"
    }
   ],
   "source": [
    "%sql\n",
    "select bookings.facid as b_facid,\n",
    "       bookings.memid as b_memid,\n",
    "       bookings.starttime,\n",
    "       bookings.slots,\n",
    "       facilities.name as f_name,\n",
    "       facilities.membercost,\n",
    "       facilities.guestcost,\n",
    "       members.memid as m_memid,\n",
    "       members.surname,\n",
    "       members.firstname\n",
    "  \n",
    "  from bookings\n",
    "  left join facilities\n",
    "  on bookings.facid = facilities.facid\n",
    "  \n",
    "  left join members\n",
    "  on bookings.memid = members.memid\n",
    "  \n",
    "  where starttime like '%2012-09-14%'"
   ]
  },
  {
   "cell_type": "markdown",
   "metadata": {
    "application/vnd.databricks.v1+cell": {
     "inputWidgets": {},
     "nuid": "b0a3bcd1-6bc1-42b6-b913-2e196cdcc482",
     "showTitle": false,
     "title": ""
    }
   },
   "source": [
    "###### add column for calculated cost"
   ]
  },
  {
   "cell_type": "code",
   "execution_count": 0,
   "metadata": {
    "application/vnd.databricks.v1+cell": {
     "inputWidgets": {},
     "nuid": "459c079d-1ed5-4ca5-beca-2a6ebf5dd1b3",
     "showTitle": false,
     "title": ""
    }
   },
   "outputs": [
    {
     "data": {
      "text/html": [
       "<style scoped>\n",
       "  .table-result-container {\n",
       "    max-height: 300px;\n",
       "    overflow: auto;\n",
       "  }\n",
       "  table, th, td {\n",
       "    border: 1px solid black;\n",
       "    border-collapse: collapse;\n",
       "  }\n",
       "  th, td {\n",
       "    padding: 5px;\n",
       "  }\n",
       "  th {\n",
       "    text-align: left;\n",
       "  }\n",
       "</style><div class='table-result-container'><table class='table-result'><thead style='background-color: white'><tr><th>b_facid</th><th>b_memid</th><th>starttime</th><th>slots</th><th>f_name</th><th>membercost</th><th>guestcost</th><th>m_memid</th><th>surname</th><th>firstname</th><th>the_cost</th></tr></thead><tbody><tr><td>0</td><td>6</td><td>2012-09-14 08:00:00</td><td>3</td><td>Tennis Court 1</td><td>5.0</td><td>25.0</td><td>6</td><td>Tracy</td><td>Burton</td><td>15.0</td></tr><tr><td>0</td><td>17</td><td>2012-09-14 10:00:00</td><td>3</td><td>Tennis Court 1</td><td>5.0</td><td>25.0</td><td>17</td><td>Pinker</td><td>David</td><td>15.0</td></tr><tr><td>0</td><td>5</td><td>2012-09-14 12:30:00</td><td>3</td><td>Tennis Court 1</td><td>5.0</td><td>25.0</td><td>5</td><td>Butters</td><td>Gerald</td><td>15.0</td></tr><tr><td>0</td><td>3</td><td>2012-09-14 14:00:00</td><td>3</td><td>Tennis Court 1</td><td>5.0</td><td>25.0</td><td>3</td><td>Rownam</td><td>Tim</td><td>15.0</td></tr><tr><td>0</td><td>0</td><td>2012-09-14 16:00:00</td><td>3</td><td>Tennis Court 1</td><td>5.0</td><td>25.0</td><td>0</td><td>GUEST</td><td>GUEST</td><td>75.0</td></tr><tr><td>0</td><td>26</td><td>2012-09-14 17:30:00</td><td>3</td><td>Tennis Court 1</td><td>5.0</td><td>25.0</td><td>26</td><td>Jones</td><td>Douglas</td><td>15.0</td></tr><tr><td>0</td><td>0</td><td>2012-09-14 19:00:00</td><td>3</td><td>Tennis Court 1</td><td>5.0</td><td>25.0</td><td>0</td><td>GUEST</td><td>GUEST</td><td>75.0</td></tr><tr><td>1</td><td>11</td><td>2012-09-14 08:00:00</td><td>6</td><td>Tennis Court 2</td><td>5.0</td><td>25.0</td><td>11</td><td>Jones</td><td>David</td><td>30.0</td></tr><tr><td>1</td><td>8</td><td>2012-09-14 11:00:00</td><td>6</td><td>Tennis Court 2</td><td>5.0</td><td>25.0</td><td>8</td><td>Boothe</td><td>Tim</td><td>30.0</td></tr><tr><td>1</td><td>0</td><td>2012-09-14 14:00:00</td><td>3</td><td>Tennis Court 2</td><td>5.0</td><td>25.0</td><td>0</td><td>GUEST</td><td>GUEST</td><td>75.0</td></tr><tr><td>1</td><td>0</td><td>2012-09-14 17:00:00</td><td>6</td><td>Tennis Court 2</td><td>5.0</td><td>25.0</td><td>0</td><td>GUEST</td><td>GUEST</td><td>150.0</td></tr><tr><td>2</td><td>1</td><td>2012-09-14 08:00:00</td><td>3</td><td>Badminton Court</td><td>0.0</td><td>15.5</td><td>1</td><td>Smith</td><td>Darren</td><td>0.0</td></tr><tr><td>2</td><td>21</td><td>2012-09-14 11:00:00</td><td>3</td><td>Badminton Court</td><td>0.0</td><td>15.5</td><td>21</td><td>Mackenzie</td><td>Anna</td><td>0.0</td></tr><tr><td>2</td><td>1</td><td>2012-09-14 13:00:00</td><td>3</td><td>Badminton Court</td><td>0.0</td><td>15.5</td><td>1</td><td>Smith</td><td>Darren</td><td>0.0</td></tr><tr><td>2</td><td>5</td><td>2012-09-14 16:00:00</td><td>3</td><td>Badminton Court</td><td>0.0</td><td>15.5</td><td>5</td><td>Butters</td><td>Gerald</td><td>0.0</td></tr><tr><td>2</td><td>9</td><td>2012-09-14 18:00:00</td><td>3</td><td>Badminton Court</td><td>0.0</td><td>15.5</td><td>9</td><td>Stibbons</td><td>Ponder</td><td>0.0</td></tr><tr><td>3</td><td>15</td><td>2012-09-14 08:30:00</td><td>2</td><td>Table Tennis</td><td>0.0</td><td>5.0</td><td>15</td><td>Bader</td><td>Florence</td><td>0.0</td></tr><tr><td>3</td><td>16</td><td>2012-09-14 11:00:00</td><td>2</td><td>Table Tennis</td><td>0.0</td><td>5.0</td><td>16</td><td>Baker</td><td>Timothy</td><td>0.0</td></tr><tr><td>3</td><td>20</td><td>2012-09-14 12:30:00</td><td>2</td><td>Table Tennis</td><td>0.0</td><td>5.0</td><td>20</td><td>Genting</td><td>Matthew</td><td>0.0</td></tr><tr><td>3</td><td>21</td><td>2012-09-14 18:30:00</td><td>2</td><td>Table Tennis</td><td>0.0</td><td>5.0</td><td>21</td><td>Mackenzie</td><td>Anna</td><td>0.0</td></tr><tr><td>4</td><td>14</td><td>2012-09-14 08:00:00</td><td>2</td><td>Massage Room 1</td><td>9.9</td><td>80.0</td><td>14</td><td>Smith</td><td>Jack</td><td>19.8</td></tr><tr><td>4</td><td>0</td><td>2012-09-14 09:00:00</td><td>2</td><td>Massage Room 1</td><td>9.9</td><td>80.0</td><td>0</td><td>GUEST</td><td>GUEST</td><td>160.0</td></tr><tr><td>4</td><td>13</td><td>2012-09-14 11:00:00</td><td>2</td><td>Massage Room 1</td><td>9.9</td><td>80.0</td><td>13</td><td>Farrell</td><td>Jemima</td><td>19.8</td></tr><tr><td>4</td><td>9</td><td>2012-09-14 12:00:00</td><td>2</td><td>Massage Room 1</td><td>9.9</td><td>80.0</td><td>9</td><td>Stibbons</td><td>Ponder</td><td>19.8</td></tr><tr><td>4</td><td>0</td><td>2012-09-14 13:00:00</td><td>2</td><td>Massage Room 1</td><td>9.9</td><td>80.0</td><td>0</td><td>GUEST</td><td>GUEST</td><td>160.0</td></tr><tr><td>4</td><td>13</td><td>2012-09-14 14:00:00</td><td>4</td><td>Massage Room 1</td><td>9.9</td><td>80.0</td><td>13</td><td>Farrell</td><td>Jemima</td><td>39.6</td></tr><tr><td>4</td><td>0</td><td>2012-09-14 16:00:00</td><td>2</td><td>Massage Room 1</td><td>9.9</td><td>80.0</td><td>0</td><td>GUEST</td><td>GUEST</td><td>160.0</td></tr><tr><td>4</td><td>6</td><td>2012-09-14 18:00:00</td><td>2</td><td>Massage Room 1</td><td>9.9</td><td>80.0</td><td>6</td><td>Tracy</td><td>Burton</td><td>19.8</td></tr><tr><td>4</td><td>20</td><td>2012-09-14 19:00:00</td><td>2</td><td>Massage Room 1</td><td>9.9</td><td>80.0</td><td>20</td><td>Genting</td><td>Matthew</td><td>19.8</td></tr><tr><td>5</td><td>15</td><td>2012-09-14 09:30:00</td><td>2</td><td>Massage Room 2</td><td>9.9</td><td>80.0</td><td>15</td><td>Bader</td><td>Florence</td><td>19.8</td></tr><tr><td>5</td><td>0</td><td>2012-09-14 11:00:00</td><td>4</td><td>Massage Room 2</td><td>9.9</td><td>80.0</td><td>0</td><td>GUEST</td><td>GUEST</td><td>320.0</td></tr><tr><td>6</td><td>12</td><td>2012-09-14 08:30:00</td><td>2</td><td>Squash Court</td><td>3.5</td><td>17.5</td><td>12</td><td>Baker</td><td>Anne</td><td>7.0</td></tr><tr><td>6</td><td>0</td><td>2012-09-14 09:30:00</td><td>4</td><td>Squash Court</td><td>3.5</td><td>17.5</td><td>0</td><td>GUEST</td><td>GUEST</td><td>70.0</td></tr><tr><td>6</td><td>0</td><td>2012-09-14 12:30:00</td><td>2</td><td>Squash Court</td><td>3.5</td><td>17.5</td><td>0</td><td>GUEST</td><td>GUEST</td><td>35.0</td></tr><tr><td>6</td><td>16</td><td>2012-09-14 14:00:00</td><td>2</td><td>Squash Court</td><td>3.5</td><td>17.5</td><td>16</td><td>Baker</td><td>Timothy</td><td>7.0</td></tr><tr><td>6</td><td>0</td><td>2012-09-14 15:00:00</td><td>2</td><td>Squash Court</td><td>3.5</td><td>17.5</td><td>0</td><td>GUEST</td><td>GUEST</td><td>35.0</td></tr><tr><td>6</td><td>12</td><td>2012-09-14 16:00:00</td><td>2</td><td>Squash Court</td><td>3.5</td><td>17.5</td><td>12</td><td>Baker</td><td>Anne</td><td>7.0</td></tr><tr><td>6</td><td>17</td><td>2012-09-14 17:30:00</td><td>2</td><td>Squash Court</td><td>3.5</td><td>17.5</td><td>17</td><td>Pinker</td><td>David</td><td>7.0</td></tr><tr><td>7</td><td>10</td><td>2012-09-14 08:30:00</td><td>2</td><td>Snooker Table</td><td>0.0</td><td>5.0</td><td>10</td><td>Owen</td><td>Charles</td><td>0.0</td></tr><tr><td>7</td><td>24</td><td>2012-09-14 12:00:00</td><td>2</td><td>Snooker Table</td><td>0.0</td><td>5.0</td><td>24</td><td>Sarwin</td><td>Ramnaresh</td><td>0.0</td></tr><tr><td>7</td><td>9</td><td>2012-09-14 13:30:00</td><td>2</td><td>Snooker Table</td><td>0.0</td><td>5.0</td><td>9</td><td>Stibbons</td><td>Ponder</td><td>0.0</td></tr><tr><td>7</td><td>21</td><td>2012-09-14 16:30:00</td><td>2</td><td>Snooker Table</td><td>0.0</td><td>5.0</td><td>21</td><td>Mackenzie</td><td>Anna</td><td>0.0</td></tr><tr><td>7</td><td>24</td><td>2012-09-14 18:00:00</td><td>2</td><td>Snooker Table</td><td>0.0</td><td>5.0</td><td>24</td><td>Sarwin</td><td>Ramnaresh</td><td>0.0</td></tr><tr><td>8</td><td>3</td><td>2012-09-14 08:00:00</td><td>1</td><td>Pool Table</td><td>0.0</td><td>5.0</td><td>3</td><td>Rownam</td><td>Tim</td><td>0.0</td></tr><tr><td>8</td><td>16</td><td>2012-09-14 08:30:00</td><td>1</td><td>Pool Table</td><td>0.0</td><td>5.0</td><td>16</td><td>Baker</td><td>Timothy</td><td>0.0</td></tr><tr><td>8</td><td>2</td><td>2012-09-14 09:00:00</td><td>1</td><td>Pool Table</td><td>0.0</td><td>5.0</td><td>2</td><td>Smith</td><td>Tracy</td><td>0.0</td></tr><tr><td>8</td><td>21</td><td>2012-09-14 09:30:00</td><td>1</td><td>Pool Table</td><td>0.0</td><td>5.0</td><td>21</td><td>Mackenzie</td><td>Anna</td><td>0.0</td></tr><tr><td>8</td><td>3</td><td>2012-09-14 10:00:00</td><td>1</td><td>Pool Table</td><td>0.0</td><td>5.0</td><td>3</td><td>Rownam</td><td>Tim</td><td>0.0</td></tr><tr><td>8</td><td>9</td><td>2012-09-14 10:30:00</td><td>1</td><td>Pool Table</td><td>0.0</td><td>5.0</td><td>9</td><td>Stibbons</td><td>Ponder</td><td>0.0</td></tr><tr><td>8</td><td>3</td><td>2012-09-14 11:00:00</td><td>2</td><td>Pool Table</td><td>0.0</td><td>5.0</td><td>3</td><td>Rownam</td><td>Tim</td><td>0.0</td></tr><tr><td>8</td><td>20</td><td>2012-09-14 12:00:00</td><td>1</td><td>Pool Table</td><td>0.0</td><td>5.0</td><td>20</td><td>Genting</td><td>Matthew</td><td>0.0</td></tr><tr><td>8</td><td>21</td><td>2012-09-14 13:00:00</td><td>1</td><td>Pool Table</td><td>0.0</td><td>5.0</td><td>21</td><td>Mackenzie</td><td>Anna</td><td>0.0</td></tr><tr><td>8</td><td>16</td><td>2012-09-14 13:30:00</td><td>1</td><td>Pool Table</td><td>0.0</td><td>5.0</td><td>16</td><td>Baker</td><td>Timothy</td><td>0.0</td></tr><tr><td>8</td><td>24</td><td>2012-09-14 14:00:00</td><td>1</td><td>Pool Table</td><td>0.0</td><td>5.0</td><td>24</td><td>Sarwin</td><td>Ramnaresh</td><td>0.0</td></tr><tr><td>8</td><td>20</td><td>2012-09-14 15:00:00</td><td>1</td><td>Pool Table</td><td>0.0</td><td>5.0</td><td>20</td><td>Genting</td><td>Matthew</td><td>0.0</td></tr><tr><td>8</td><td>22</td><td>2012-09-14 15:30:00</td><td>1</td><td>Pool Table</td><td>0.0</td><td>5.0</td><td>22</td><td>Coplin</td><td>Joan</td><td>0.0</td></tr><tr><td>8</td><td>16</td><td>2012-09-14 16:00:00</td><td>1</td><td>Pool Table</td><td>0.0</td><td>5.0</td><td>16</td><td>Baker</td><td>Timothy</td><td>0.0</td></tr><tr><td>8</td><td>3</td><td>2012-09-14 16:30:00</td><td>1</td><td>Pool Table</td><td>0.0</td><td>5.0</td><td>3</td><td>Rownam</td><td>Tim</td><td>0.0</td></tr><tr><td>8</td><td>15</td><td>2012-09-14 17:00:00</td><td>1</td><td>Pool Table</td><td>0.0</td><td>5.0</td><td>15</td><td>Bader</td><td>Florence</td><td>0.0</td></tr><tr><td>8</td><td>16</td><td>2012-09-14 17:30:00</td><td>2</td><td>Pool Table</td><td>0.0</td><td>5.0</td><td>16</td><td>Baker</td><td>Timothy</td><td>0.0</td></tr><tr><td>8</td><td>11</td><td>2012-09-14 19:00:00</td><td>1</td><td>Pool Table</td><td>0.0</td><td>5.0</td><td>11</td><td>Jones</td><td>David</td><td>0.0</td></tr><tr><td>8</td><td>2</td><td>2012-09-14 19:30:00</td><td>1</td><td>Pool Table</td><td>0.0</td><td>5.0</td><td>2</td><td>Smith</td><td>Tracy</td><td>0.0</td></tr></tbody></table></div>"
      ]
     },
     "metadata": {
      "application/vnd.databricks.v1+output": {
       "addedWidgets": {},
       "aggData": [],
       "aggError": "",
       "aggOverflow": false,
       "aggSchema": [],
       "aggSeriesLimitReached": false,
       "aggType": "",
       "arguments": {},
       "columnCustomDisplayInfos": {},
       "data": [
        [
         0,
         6,
         "2012-09-14 08:00:00",
         3,
         "Tennis Court 1",
         5,
         25,
         6,
         "Tracy",
         "Burton",
         15
        ],
        [
         0,
         17,
         "2012-09-14 10:00:00",
         3,
         "Tennis Court 1",
         5,
         25,
         17,
         "Pinker",
         "David",
         15
        ],
        [
         0,
         5,
         "2012-09-14 12:30:00",
         3,
         "Tennis Court 1",
         5,
         25,
         5,
         "Butters",
         "Gerald",
         15
        ],
        [
         0,
         3,
         "2012-09-14 14:00:00",
         3,
         "Tennis Court 1",
         5,
         25,
         3,
         "Rownam",
         "Tim",
         15
        ],
        [
         0,
         0,
         "2012-09-14 16:00:00",
         3,
         "Tennis Court 1",
         5,
         25,
         0,
         "GUEST",
         "GUEST",
         75
        ],
        [
         0,
         26,
         "2012-09-14 17:30:00",
         3,
         "Tennis Court 1",
         5,
         25,
         26,
         "Jones",
         "Douglas",
         15
        ],
        [
         0,
         0,
         "2012-09-14 19:00:00",
         3,
         "Tennis Court 1",
         5,
         25,
         0,
         "GUEST",
         "GUEST",
         75
        ],
        [
         1,
         11,
         "2012-09-14 08:00:00",
         6,
         "Tennis Court 2",
         5,
         25,
         11,
         "Jones",
         "David",
         30
        ],
        [
         1,
         8,
         "2012-09-14 11:00:00",
         6,
         "Tennis Court 2",
         5,
         25,
         8,
         "Boothe",
         "Tim",
         30
        ],
        [
         1,
         0,
         "2012-09-14 14:00:00",
         3,
         "Tennis Court 2",
         5,
         25,
         0,
         "GUEST",
         "GUEST",
         75
        ],
        [
         1,
         0,
         "2012-09-14 17:00:00",
         6,
         "Tennis Court 2",
         5,
         25,
         0,
         "GUEST",
         "GUEST",
         150
        ],
        [
         2,
         1,
         "2012-09-14 08:00:00",
         3,
         "Badminton Court",
         0,
         15.5,
         1,
         "Smith",
         "Darren",
         0
        ],
        [
         2,
         21,
         "2012-09-14 11:00:00",
         3,
         "Badminton Court",
         0,
         15.5,
         21,
         "Mackenzie",
         "Anna",
         0
        ],
        [
         2,
         1,
         "2012-09-14 13:00:00",
         3,
         "Badminton Court",
         0,
         15.5,
         1,
         "Smith",
         "Darren",
         0
        ],
        [
         2,
         5,
         "2012-09-14 16:00:00",
         3,
         "Badminton Court",
         0,
         15.5,
         5,
         "Butters",
         "Gerald",
         0
        ],
        [
         2,
         9,
         "2012-09-14 18:00:00",
         3,
         "Badminton Court",
         0,
         15.5,
         9,
         "Stibbons",
         "Ponder",
         0
        ],
        [
         3,
         15,
         "2012-09-14 08:30:00",
         2,
         "Table Tennis",
         0,
         5,
         15,
         "Bader",
         "Florence",
         0
        ],
        [
         3,
         16,
         "2012-09-14 11:00:00",
         2,
         "Table Tennis",
         0,
         5,
         16,
         "Baker",
         "Timothy",
         0
        ],
        [
         3,
         20,
         "2012-09-14 12:30:00",
         2,
         "Table Tennis",
         0,
         5,
         20,
         "Genting",
         "Matthew",
         0
        ],
        [
         3,
         21,
         "2012-09-14 18:30:00",
         2,
         "Table Tennis",
         0,
         5,
         21,
         "Mackenzie",
         "Anna",
         0
        ],
        [
         4,
         14,
         "2012-09-14 08:00:00",
         2,
         "Massage Room 1",
         9.9,
         80,
         14,
         "Smith",
         "Jack",
         19.8
        ],
        [
         4,
         0,
         "2012-09-14 09:00:00",
         2,
         "Massage Room 1",
         9.9,
         80,
         0,
         "GUEST",
         "GUEST",
         160
        ],
        [
         4,
         13,
         "2012-09-14 11:00:00",
         2,
         "Massage Room 1",
         9.9,
         80,
         13,
         "Farrell",
         "Jemima",
         19.8
        ],
        [
         4,
         9,
         "2012-09-14 12:00:00",
         2,
         "Massage Room 1",
         9.9,
         80,
         9,
         "Stibbons",
         "Ponder",
         19.8
        ],
        [
         4,
         0,
         "2012-09-14 13:00:00",
         2,
         "Massage Room 1",
         9.9,
         80,
         0,
         "GUEST",
         "GUEST",
         160
        ],
        [
         4,
         13,
         "2012-09-14 14:00:00",
         4,
         "Massage Room 1",
         9.9,
         80,
         13,
         "Farrell",
         "Jemima",
         39.6
        ],
        [
         4,
         0,
         "2012-09-14 16:00:00",
         2,
         "Massage Room 1",
         9.9,
         80,
         0,
         "GUEST",
         "GUEST",
         160
        ],
        [
         4,
         6,
         "2012-09-14 18:00:00",
         2,
         "Massage Room 1",
         9.9,
         80,
         6,
         "Tracy",
         "Burton",
         19.8
        ],
        [
         4,
         20,
         "2012-09-14 19:00:00",
         2,
         "Massage Room 1",
         9.9,
         80,
         20,
         "Genting",
         "Matthew",
         19.8
        ],
        [
         5,
         15,
         "2012-09-14 09:30:00",
         2,
         "Massage Room 2",
         9.9,
         80,
         15,
         "Bader",
         "Florence",
         19.8
        ],
        [
         5,
         0,
         "2012-09-14 11:00:00",
         4,
         "Massage Room 2",
         9.9,
         80,
         0,
         "GUEST",
         "GUEST",
         320
        ],
        [
         6,
         12,
         "2012-09-14 08:30:00",
         2,
         "Squash Court",
         3.5,
         17.5,
         12,
         "Baker",
         "Anne",
         7
        ],
        [
         6,
         0,
         "2012-09-14 09:30:00",
         4,
         "Squash Court",
         3.5,
         17.5,
         0,
         "GUEST",
         "GUEST",
         70
        ],
        [
         6,
         0,
         "2012-09-14 12:30:00",
         2,
         "Squash Court",
         3.5,
         17.5,
         0,
         "GUEST",
         "GUEST",
         35
        ],
        [
         6,
         16,
         "2012-09-14 14:00:00",
         2,
         "Squash Court",
         3.5,
         17.5,
         16,
         "Baker",
         "Timothy",
         7
        ],
        [
         6,
         0,
         "2012-09-14 15:00:00",
         2,
         "Squash Court",
         3.5,
         17.5,
         0,
         "GUEST",
         "GUEST",
         35
        ],
        [
         6,
         12,
         "2012-09-14 16:00:00",
         2,
         "Squash Court",
         3.5,
         17.5,
         12,
         "Baker",
         "Anne",
         7
        ],
        [
         6,
         17,
         "2012-09-14 17:30:00",
         2,
         "Squash Court",
         3.5,
         17.5,
         17,
         "Pinker",
         "David",
         7
        ],
        [
         7,
         10,
         "2012-09-14 08:30:00",
         2,
         "Snooker Table",
         0,
         5,
         10,
         "Owen",
         "Charles",
         0
        ],
        [
         7,
         24,
         "2012-09-14 12:00:00",
         2,
         "Snooker Table",
         0,
         5,
         24,
         "Sarwin",
         "Ramnaresh",
         0
        ],
        [
         7,
         9,
         "2012-09-14 13:30:00",
         2,
         "Snooker Table",
         0,
         5,
         9,
         "Stibbons",
         "Ponder",
         0
        ],
        [
         7,
         21,
         "2012-09-14 16:30:00",
         2,
         "Snooker Table",
         0,
         5,
         21,
         "Mackenzie",
         "Anna",
         0
        ],
        [
         7,
         24,
         "2012-09-14 18:00:00",
         2,
         "Snooker Table",
         0,
         5,
         24,
         "Sarwin",
         "Ramnaresh",
         0
        ],
        [
         8,
         3,
         "2012-09-14 08:00:00",
         1,
         "Pool Table",
         0,
         5,
         3,
         "Rownam",
         "Tim",
         0
        ],
        [
         8,
         16,
         "2012-09-14 08:30:00",
         1,
         "Pool Table",
         0,
         5,
         16,
         "Baker",
         "Timothy",
         0
        ],
        [
         8,
         2,
         "2012-09-14 09:00:00",
         1,
         "Pool Table",
         0,
         5,
         2,
         "Smith",
         "Tracy",
         0
        ],
        [
         8,
         21,
         "2012-09-14 09:30:00",
         1,
         "Pool Table",
         0,
         5,
         21,
         "Mackenzie",
         "Anna",
         0
        ],
        [
         8,
         3,
         "2012-09-14 10:00:00",
         1,
         "Pool Table",
         0,
         5,
         3,
         "Rownam",
         "Tim",
         0
        ],
        [
         8,
         9,
         "2012-09-14 10:30:00",
         1,
         "Pool Table",
         0,
         5,
         9,
         "Stibbons",
         "Ponder",
         0
        ],
        [
         8,
         3,
         "2012-09-14 11:00:00",
         2,
         "Pool Table",
         0,
         5,
         3,
         "Rownam",
         "Tim",
         0
        ],
        [
         8,
         20,
         "2012-09-14 12:00:00",
         1,
         "Pool Table",
         0,
         5,
         20,
         "Genting",
         "Matthew",
         0
        ],
        [
         8,
         21,
         "2012-09-14 13:00:00",
         1,
         "Pool Table",
         0,
         5,
         21,
         "Mackenzie",
         "Anna",
         0
        ],
        [
         8,
         16,
         "2012-09-14 13:30:00",
         1,
         "Pool Table",
         0,
         5,
         16,
         "Baker",
         "Timothy",
         0
        ],
        [
         8,
         24,
         "2012-09-14 14:00:00",
         1,
         "Pool Table",
         0,
         5,
         24,
         "Sarwin",
         "Ramnaresh",
         0
        ],
        [
         8,
         20,
         "2012-09-14 15:00:00",
         1,
         "Pool Table",
         0,
         5,
         20,
         "Genting",
         "Matthew",
         0
        ],
        [
         8,
         22,
         "2012-09-14 15:30:00",
         1,
         "Pool Table",
         0,
         5,
         22,
         "Coplin",
         "Joan",
         0
        ],
        [
         8,
         16,
         "2012-09-14 16:00:00",
         1,
         "Pool Table",
         0,
         5,
         16,
         "Baker",
         "Timothy",
         0
        ],
        [
         8,
         3,
         "2012-09-14 16:30:00",
         1,
         "Pool Table",
         0,
         5,
         3,
         "Rownam",
         "Tim",
         0
        ],
        [
         8,
         15,
         "2012-09-14 17:00:00",
         1,
         "Pool Table",
         0,
         5,
         15,
         "Bader",
         "Florence",
         0
        ],
        [
         8,
         16,
         "2012-09-14 17:30:00",
         2,
         "Pool Table",
         0,
         5,
         16,
         "Baker",
         "Timothy",
         0
        ],
        [
         8,
         11,
         "2012-09-14 19:00:00",
         1,
         "Pool Table",
         0,
         5,
         11,
         "Jones",
         "David",
         0
        ],
        [
         8,
         2,
         "2012-09-14 19:30:00",
         1,
         "Pool Table",
         0,
         5,
         2,
         "Smith",
         "Tracy",
         0
        ]
       ],
       "datasetInfos": [],
       "dbfsResultPath": null,
       "isJsonSchema": true,
       "overflow": false,
       "plotOptions": {
        "customPlotOptions": {},
        "displayType": "table",
        "pivotAggregation": null,
        "pivotColumns": null,
        "xColumns": null,
        "yColumns": null
       },
       "removedWidgets": [],
       "schema": [
        {
         "metadata": "{}",
         "name": "b_facid",
         "type": "\"integer\""
        },
        {
         "metadata": "{}",
         "name": "b_memid",
         "type": "\"integer\""
        },
        {
         "metadata": "{}",
         "name": "starttime",
         "type": "\"string\""
        },
        {
         "metadata": "{}",
         "name": "slots",
         "type": "\"integer\""
        },
        {
         "metadata": "{}",
         "name": "f_name",
         "type": "\"string\""
        },
        {
         "metadata": "{}",
         "name": "membercost",
         "type": "\"double\""
        },
        {
         "metadata": "{}",
         "name": "guestcost",
         "type": "\"double\""
        },
        {
         "metadata": "{}",
         "name": "m_memid",
         "type": "\"integer\""
        },
        {
         "metadata": "{}",
         "name": "surname",
         "type": "\"string\""
        },
        {
         "metadata": "{}",
         "name": "firstname",
         "type": "\"string\""
        },
        {
         "metadata": "{}",
         "name": "the_cost",
         "type": "\"double\""
        }
       ],
       "type": "table"
      }
     },
     "output_type": "display_data"
    }
   ],
   "source": [
    "%sql\n",
    "select bookings.facid as b_facid,\n",
    "       bookings.memid as b_memid,\n",
    "       bookings.starttime,\n",
    "       bookings.slots,\n",
    "       facilities.name as f_name,\n",
    "       facilities.membercost,\n",
    "       facilities.guestcost,\n",
    "       members.memid as m_memid,\n",
    "       members.surname,\n",
    "       members.firstname,\n",
    "       \n",
    "       case when members.memid = 0 then bookings.slots * facilities.guestcost\n",
    "            else bookings.slots * facilities.membercost\n",
    "            end\n",
    "            as the_cost\n",
    "  \n",
    "  from bookings\n",
    "  left join facilities\n",
    "  on bookings.facid = facilities.facid\n",
    "  \n",
    "  left join members\n",
    "  on bookings.memid = members.memid\n",
    "  \n",
    "  where starttime like '%2012-09-14%'"
   ]
  },
  {
   "cell_type": "markdown",
   "metadata": {
    "application/vnd.databricks.v1+cell": {
     "inputWidgets": {},
     "nuid": "f3f4fa6b-dd93-4528-8ba8-fe8e08a192b0",
     "showTitle": false,
     "title": ""
    }
   },
   "source": [
    "###### calculate total cost for day"
   ]
  },
  {
   "cell_type": "code",
   "execution_count": 0,
   "metadata": {
    "application/vnd.databricks.v1+cell": {
     "inputWidgets": {},
     "nuid": "7e827eb2-8721-45c8-b075-fe0c42a9975e",
     "showTitle": false,
     "title": ""
    }
   },
   "outputs": [
    {
     "data": {
      "text/html": [
       "<style scoped>\n",
       "  .table-result-container {\n",
       "    max-height: 300px;\n",
       "    overflow: auto;\n",
       "  }\n",
       "  table, th, td {\n",
       "    border: 1px solid black;\n",
       "    border-collapse: collapse;\n",
       "  }\n",
       "  th, td {\n",
       "    padding: 5px;\n",
       "  }\n",
       "  th {\n",
       "    text-align: left;\n",
       "  }\n",
       "</style><div class='table-result-container'><table class='table-result'><thead style='background-color: white'><tr><th>m_memid</th><th>f_name</th><th>total_day_cost</th></tr></thead><tbody><tr><td>0</td><td>Massage Room 1</td><td>480.0</td></tr><tr><td>0</td><td>Massage Room 2</td><td>320.0</td></tr><tr><td>0</td><td>Squash Court</td><td>140.0</td></tr><tr><td>0</td><td>Tennis Court 1</td><td>150.0</td></tr><tr><td>0</td><td>Tennis Court 2</td><td>225.0</td></tr><tr><td>1</td><td>Badminton Court</td><td>0.0</td></tr><tr><td>2</td><td>Pool Table</td><td>0.0</td></tr><tr><td>3</td><td>Pool Table</td><td>0.0</td></tr><tr><td>3</td><td>Tennis Court 1</td><td>15.0</td></tr><tr><td>5</td><td>Badminton Court</td><td>0.0</td></tr><tr><td>5</td><td>Tennis Court 1</td><td>15.0</td></tr><tr><td>6</td><td>Massage Room 1</td><td>19.8</td></tr><tr><td>6</td><td>Tennis Court 1</td><td>15.0</td></tr><tr><td>8</td><td>Tennis Court 2</td><td>30.0</td></tr><tr><td>9</td><td>Badminton Court</td><td>0.0</td></tr><tr><td>9</td><td>Massage Room 1</td><td>19.8</td></tr><tr><td>9</td><td>Pool Table</td><td>0.0</td></tr><tr><td>9</td><td>Snooker Table</td><td>0.0</td></tr><tr><td>10</td><td>Snooker Table</td><td>0.0</td></tr><tr><td>11</td><td>Pool Table</td><td>0.0</td></tr><tr><td>11</td><td>Tennis Court 2</td><td>30.0</td></tr><tr><td>12</td><td>Squash Court</td><td>14.0</td></tr><tr><td>13</td><td>Massage Room 1</td><td>59.400000000000006</td></tr><tr><td>14</td><td>Massage Room 1</td><td>19.8</td></tr><tr><td>15</td><td>Massage Room 2</td><td>19.8</td></tr><tr><td>15</td><td>Pool Table</td><td>0.0</td></tr><tr><td>15</td><td>Table Tennis</td><td>0.0</td></tr><tr><td>16</td><td>Pool Table</td><td>0.0</td></tr><tr><td>16</td><td>Squash Court</td><td>7.0</td></tr><tr><td>16</td><td>Table Tennis</td><td>0.0</td></tr><tr><td>17</td><td>Squash Court</td><td>7.0</td></tr><tr><td>17</td><td>Tennis Court 1</td><td>15.0</td></tr><tr><td>20</td><td>Massage Room 1</td><td>19.8</td></tr><tr><td>20</td><td>Pool Table</td><td>0.0</td></tr><tr><td>20</td><td>Table Tennis</td><td>0.0</td></tr><tr><td>21</td><td>Badminton Court</td><td>0.0</td></tr><tr><td>21</td><td>Pool Table</td><td>0.0</td></tr><tr><td>21</td><td>Snooker Table</td><td>0.0</td></tr><tr><td>21</td><td>Table Tennis</td><td>0.0</td></tr><tr><td>22</td><td>Pool Table</td><td>0.0</td></tr><tr><td>24</td><td>Pool Table</td><td>0.0</td></tr><tr><td>24</td><td>Snooker Table</td><td>0.0</td></tr><tr><td>26</td><td>Tennis Court 1</td><td>15.0</td></tr></tbody></table></div>"
      ]
     },
     "metadata": {
      "application/vnd.databricks.v1+output": {
       "addedWidgets": {},
       "aggData": [],
       "aggError": "",
       "aggOverflow": false,
       "aggSchema": [],
       "aggSeriesLimitReached": false,
       "aggType": "",
       "arguments": {},
       "columnCustomDisplayInfos": {},
       "data": [
        [
         0,
         "Massage Room 1",
         480
        ],
        [
         0,
         "Massage Room 2",
         320
        ],
        [
         0,
         "Squash Court",
         140
        ],
        [
         0,
         "Tennis Court 1",
         150
        ],
        [
         0,
         "Tennis Court 2",
         225
        ],
        [
         1,
         "Badminton Court",
         0
        ],
        [
         2,
         "Pool Table",
         0
        ],
        [
         3,
         "Pool Table",
         0
        ],
        [
         3,
         "Tennis Court 1",
         15
        ],
        [
         5,
         "Badminton Court",
         0
        ],
        [
         5,
         "Tennis Court 1",
         15
        ],
        [
         6,
         "Massage Room 1",
         19.8
        ],
        [
         6,
         "Tennis Court 1",
         15
        ],
        [
         8,
         "Tennis Court 2",
         30
        ],
        [
         9,
         "Badminton Court",
         0
        ],
        [
         9,
         "Massage Room 1",
         19.8
        ],
        [
         9,
         "Pool Table",
         0
        ],
        [
         9,
         "Snooker Table",
         0
        ],
        [
         10,
         "Snooker Table",
         0
        ],
        [
         11,
         "Pool Table",
         0
        ],
        [
         11,
         "Tennis Court 2",
         30
        ],
        [
         12,
         "Squash Court",
         14
        ],
        [
         13,
         "Massage Room 1",
         59.400000000000006
        ],
        [
         14,
         "Massage Room 1",
         19.8
        ],
        [
         15,
         "Massage Room 2",
         19.8
        ],
        [
         15,
         "Pool Table",
         0
        ],
        [
         15,
         "Table Tennis",
         0
        ],
        [
         16,
         "Pool Table",
         0
        ],
        [
         16,
         "Squash Court",
         7
        ],
        [
         16,
         "Table Tennis",
         0
        ],
        [
         17,
         "Squash Court",
         7
        ],
        [
         17,
         "Tennis Court 1",
         15
        ],
        [
         20,
         "Massage Room 1",
         19.8
        ],
        [
         20,
         "Pool Table",
         0
        ],
        [
         20,
         "Table Tennis",
         0
        ],
        [
         21,
         "Badminton Court",
         0
        ],
        [
         21,
         "Pool Table",
         0
        ],
        [
         21,
         "Snooker Table",
         0
        ],
        [
         21,
         "Table Tennis",
         0
        ],
        [
         22,
         "Pool Table",
         0
        ],
        [
         24,
         "Pool Table",
         0
        ],
        [
         24,
         "Snooker Table",
         0
        ],
        [
         26,
         "Tennis Court 1",
         15
        ]
       ],
       "datasetInfos": [],
       "dbfsResultPath": null,
       "isJsonSchema": true,
       "overflow": false,
       "plotOptions": {
        "customPlotOptions": {},
        "displayType": "table",
        "pivotAggregation": null,
        "pivotColumns": null,
        "xColumns": null,
        "yColumns": null
       },
       "removedWidgets": [],
       "schema": [
        {
         "metadata": "{}",
         "name": "m_memid",
         "type": "\"integer\""
        },
        {
         "metadata": "{}",
         "name": "f_name",
         "type": "\"string\""
        },
        {
         "metadata": "{}",
         "name": "total_day_cost",
         "type": "\"double\""
        }
       ],
       "type": "table"
      }
     },
     "output_type": "display_data"
    }
   ],
   "source": [
    "%sql\n",
    "select m_memid,\n",
    "       f_name,\n",
    "       sum(the_cost) as total_day_cost\n",
    "\n",
    "from\n",
    "(\n",
    "select bookings.facid as b_facid,\n",
    "       bookings.memid as b_memid,\n",
    "       bookings.starttime,\n",
    "       bookings.slots,\n",
    "       facilities.name as f_name,\n",
    "       facilities.membercost,\n",
    "       facilities.guestcost,\n",
    "       members.memid as m_memid,\n",
    "       members.surname,\n",
    "       members.firstname,\n",
    "       \n",
    "       case when members.memid = 0 then bookings.slots * facilities.guestcost\n",
    "            else bookings.slots * facilities.membercost\n",
    "            end\n",
    "            as the_cost\n",
    "  \n",
    "  from bookings\n",
    "  left join facilities\n",
    "  on bookings.facid = facilities.facid\n",
    "  \n",
    "  left join members\n",
    "  on bookings.memid = members.memid\n",
    "  \n",
    "  where starttime like '%2012-09-14%'\n",
    ")\n",
    "\n",
    "group by m_memid, f_name\n",
    "\n",
    "order by m_memid, f_name\n",
    "  \n"
   ]
  },
  {
   "cell_type": "markdown",
   "metadata": {
    "application/vnd.databricks.v1+cell": {
     "inputWidgets": {},
     "nuid": "57c12096-5649-443a-a376-7d2659fe3e62",
     "showTitle": false,
     "title": ""
    }
   },
   "source": [
    "###### almost answer, using member id"
   ]
  },
  {
   "cell_type": "code",
   "execution_count": 0,
   "metadata": {
    "application/vnd.databricks.v1+cell": {
     "inputWidgets": {},
     "nuid": "b551361a-ea0c-4e7f-be81-a5b877a142ad",
     "showTitle": false,
     "title": ""
    }
   },
   "outputs": [
    {
     "data": {
      "text/html": [
       "<style scoped>\n",
       "  .table-result-container {\n",
       "    max-height: 300px;\n",
       "    overflow: auto;\n",
       "  }\n",
       "  table, th, td {\n",
       "    border: 1px solid black;\n",
       "    border-collapse: collapse;\n",
       "  }\n",
       "  th, td {\n",
       "    padding: 5px;\n",
       "  }\n",
       "  th {\n",
       "    text-align: left;\n",
       "  }\n",
       "</style><div class='table-result-container'><table class='table-result'><thead style='background-color: white'><tr><th>m_memid</th><th>f_name</th><th>total_day_cost</th></tr></thead><tbody><tr><td>0</td><td>Massage Room 1</td><td>480</td></tr><tr><td>0</td><td>Massage Room 2</td><td>320</td></tr><tr><td>0</td><td>Tennis Court 2</td><td>225</td></tr><tr><td>0</td><td>Tennis Court 1</td><td>150</td></tr><tr><td>0</td><td>Squash Court</td><td>140</td></tr><tr><td>13</td><td>Massage Room 1</td><td>59.400000000000006</td></tr></tbody></table></div>"
      ]
     },
     "metadata": {
      "application/vnd.databricks.v1+output": {
       "addedWidgets": {},
       "aggData": [],
       "aggError": "",
       "aggOverflow": false,
       "aggSchema": [],
       "aggSeriesLimitReached": false,
       "aggType": "",
       "arguments": {},
       "columnCustomDisplayInfos": {},
       "data": [
        [
         0,
         "Massage Room 1",
         480
        ],
        [
         0,
         "Massage Room 2",
         320
        ],
        [
         0,
         "Tennis Court 2",
         225
        ],
        [
         0,
         "Tennis Court 1",
         150
        ],
        [
         0,
         "Squash Court",
         140
        ],
        [
         13,
         "Massage Room 1",
         59.400000000000006
        ]
       ],
       "datasetInfos": [],
       "dbfsResultPath": null,
       "isJsonSchema": true,
       "overflow": false,
       "plotOptions": {
        "customPlotOptions": {},
        "displayType": "table",
        "pivotAggregation": null,
        "pivotColumns": null,
        "xColumns": null,
        "yColumns": null
       },
       "removedWidgets": [],
       "schema": [
        {
         "metadata": "{}",
         "name": "m_memid",
         "type": "\"integer\""
        },
        {
         "metadata": "{}",
         "name": "f_name",
         "type": "\"string\""
        },
        {
         "metadata": "{}",
         "name": "total_day_cost",
         "type": "\"double\""
        }
       ],
       "type": "table"
      }
     },
     "output_type": "display_data"
    }
   ],
   "source": [
    "%sql\n",
    "select m_memid,\n",
    "       f_name,\n",
    "       sum(the_cost) as total_day_cost\n",
    "\n",
    "from\n",
    "(\n",
    "select bookings.facid as b_facid,\n",
    "       bookings.memid as b_memid,\n",
    "       bookings.starttime,\n",
    "       bookings.slots,\n",
    "       facilities.name as f_name,\n",
    "       facilities.membercost,\n",
    "       facilities.guestcost,\n",
    "       members.memid as m_memid,\n",
    "       members.surname,\n",
    "       members.firstname,\n",
    "       \n",
    "       case when members.memid = 0 then bookings.slots * facilities.guestcost\n",
    "            else bookings.slots * facilities.membercost\n",
    "            end\n",
    "            as the_cost\n",
    "  \n",
    "  from bookings\n",
    "  left join facilities\n",
    "  on bookings.facid = facilities.facid\n",
    "  \n",
    "  left join members\n",
    "  on bookings.memid = members.memid\n",
    "  \n",
    "  where starttime like '%2012-09-14%'\n",
    ")\n",
    "\n",
    "group by m_memid, f_name\n",
    "\n",
    "having total_day_cost > 30\n",
    "\n",
    "order by total_day_cost desc\n",
    "  \n"
   ]
  },
  {
   "cell_type": "markdown",
   "metadata": {
    "application/vnd.databricks.v1+cell": {
     "inputWidgets": {},
     "nuid": "078e64aa-ad9e-4e70-bcf1-06fbb66215d0",
     "showTitle": false,
     "title": ""
    }
   },
   "source": [
    "###### Q9: ANSWER (almost, could not figure out combining strings for member name)"
   ]
  },
  {
   "cell_type": "code",
   "execution_count": 0,
   "metadata": {
    "application/vnd.databricks.v1+cell": {
     "inputWidgets": {},
     "nuid": "745122d3-eeea-4ba6-9505-fdb881815c8d",
     "showTitle": false,
     "title": ""
    }
   },
   "outputs": [
    {
     "data": {
      "text/html": [
       "<style scoped>\n",
       "  .table-result-container {\n",
       "    max-height: 300px;\n",
       "    overflow: auto;\n",
       "  }\n",
       "  table, th, td {\n",
       "    border: 1px solid black;\n",
       "    border-collapse: collapse;\n",
       "  }\n",
       "  th, td {\n",
       "    padding: 5px;\n",
       "  }\n",
       "  th {\n",
       "    text-align: left;\n",
       "  }\n",
       "</style><div class='table-result-container'><table class='table-result'><thead style='background-color: white'><tr><th>full_name</th><th>f_name</th><th>total_day_cost</th></tr></thead><tbody><tr><td>GUEST GUEST</td><td>Massage Room 1</td><td>480.0</td></tr><tr><td>GUEST GUEST</td><td>Massage Room 2</td><td>320.0</td></tr><tr><td>GUEST GUEST</td><td>Tennis Court 2</td><td>225.0</td></tr><tr><td>GUEST GUEST</td><td>Tennis Court 1</td><td>150.0</td></tr><tr><td>GUEST GUEST</td><td>Squash Court</td><td>140.0</td></tr><tr><td>Jemima Farrell</td><td>Massage Room 1</td><td>59.400000000000006</td></tr></tbody></table></div>"
      ]
     },
     "metadata": {
      "application/vnd.databricks.v1+output": {
       "addedWidgets": {},
       "aggData": [],
       "aggError": "",
       "aggOverflow": false,
       "aggSchema": [],
       "aggSeriesLimitReached": false,
       "aggType": "",
       "arguments": {},
       "columnCustomDisplayInfos": {},
       "data": [
        [
         "GUEST GUEST",
         "Massage Room 1",
         480
        ],
        [
         "GUEST GUEST",
         "Massage Room 2",
         320
        ],
        [
         "GUEST GUEST",
         "Tennis Court 2",
         225
        ],
        [
         "GUEST GUEST",
         "Tennis Court 1",
         150
        ],
        [
         "GUEST GUEST",
         "Squash Court",
         140
        ],
        [
         "Jemima Farrell",
         "Massage Room 1",
         59.400000000000006
        ]
       ],
       "datasetInfos": [],
       "dbfsResultPath": null,
       "isJsonSchema": true,
       "overflow": false,
       "plotOptions": {
        "customPlotOptions": {},
        "displayType": "table",
        "pivotAggregation": null,
        "pivotColumns": null,
        "xColumns": null,
        "yColumns": null
       },
       "removedWidgets": [],
       "schema": [
        {
         "metadata": "{}",
         "name": "full_name",
         "type": "\"string\""
        },
        {
         "metadata": "{}",
         "name": "f_name",
         "type": "\"string\""
        },
        {
         "metadata": "{}",
         "name": "total_day_cost",
         "type": "\"double\""
        }
       ],
       "type": "table"
      }
     },
     "output_type": "display_data"
    }
   ],
   "source": [
    "%sql\n",
    "select full_name,\n",
    "       f_name,\n",
    "       sum(the_cost) as total_day_cost\n",
    "\n",
    "from\n",
    "(\n",
    "select bookings.facid as b_facid,\n",
    "       bookings.memid as b_memid,\n",
    "       bookings.starttime,\n",
    "       bookings.slots,\n",
    "       facilities.name as f_name,\n",
    "       facilities.membercost,\n",
    "       facilities.guestcost,\n",
    "       members.memid as m_memid,\n",
    "       members.surname,\n",
    "       members.firstname,\n",
    "       \n",
    "       concat_ws(' ', members.firstname, members.surname) as full_name,\n",
    "       \n",
    "       case when members.memid = 0 then bookings.slots * facilities.guestcost\n",
    "            else bookings.slots * facilities.membercost\n",
    "            end\n",
    "            as the_cost\n",
    "  \n",
    "  from bookings\n",
    "  left join facilities\n",
    "  on bookings.facid = facilities.facid\n",
    "  \n",
    "  left join members\n",
    "  on bookings.memid = members.memid\n",
    "  \n",
    "  where starttime like '%2012-09-14%'\n",
    ")\n",
    "\n",
    "group by full_name, f_name\n",
    "\n",
    "having total_day_cost > 30\n",
    "\n",
    "order by total_day_cost desc\n",
    "  \n"
   ]
  },
  {
   "cell_type": "code",
   "execution_count": 0,
   "metadata": {
    "application/vnd.databricks.v1+cell": {
     "inputWidgets": {},
     "nuid": "14d1a705-9301-42e8-b73c-c90c9dd642bf",
     "showTitle": false,
     "title": ""
    }
   },
   "outputs": [],
   "source": []
  },
  {
   "cell_type": "markdown",
   "metadata": {
    "application/vnd.databricks.v1+cell": {
     "inputWidgets": {},
     "nuid": "89ffdc5d-6395-4e45-a214-dc6bdb0169fc",
     "showTitle": false,
     "title": ""
    }
   },
   "source": [
    "#### Q10: Produce a list of facilities with a total revenue less than 1000.\n",
    "- The output should have facility name and total revenue, sorted by revenue. \n",
    "- Remember that there's a different cost for guests and members!"
   ]
  },
  {
   "cell_type": "markdown",
   "metadata": {
    "application/vnd.databricks.v1+cell": {
     "inputWidgets": {},
     "nuid": "bd1a7cbf-42b7-4426-b530-629a35e6a986",
     "showTitle": false,
     "title": ""
    }
   },
   "source": [
    "###### Q10: ANSWER"
   ]
  },
  {
   "cell_type": "code",
   "execution_count": 0,
   "metadata": {
    "application/vnd.databricks.v1+cell": {
     "inputWidgets": {},
     "nuid": "4c2be08f-adb0-46a7-bf00-f2f1a1756356",
     "showTitle": false,
     "title": ""
    }
   },
   "outputs": [
    {
     "data": {
      "text/html": [
       "<style scoped>\n",
       "  .table-result-container {\n",
       "    max-height: 300px;\n",
       "    overflow: auto;\n",
       "  }\n",
       "  table, th, td {\n",
       "    border: 1px solid black;\n",
       "    border-collapse: collapse;\n",
       "  }\n",
       "  th, td {\n",
       "    padding: 5px;\n",
       "  }\n",
       "  th {\n",
       "    text-align: left;\n",
       "  }\n",
       "</style><div class='table-result-container'><table class='table-result'><thead style='background-color: white'><tr><th>name</th><th>total_revenue</th></tr></thead><tbody><tr><td>Pool Table</td><td>270.0</td></tr><tr><td>Snooker Table</td><td>240.0</td></tr><tr><td>Table Tennis</td><td>180.0</td></tr></tbody></table></div>"
      ]
     },
     "metadata": {
      "application/vnd.databricks.v1+output": {
       "addedWidgets": {},
       "aggData": [],
       "aggError": "",
       "aggOverflow": false,
       "aggSchema": [],
       "aggSeriesLimitReached": false,
       "aggType": "",
       "arguments": {},
       "columnCustomDisplayInfos": {},
       "data": [
        [
         "Pool Table",
         270
        ],
        [
         "Snooker Table",
         240
        ],
        [
         "Table Tennis",
         180
        ]
       ],
       "datasetInfos": [],
       "dbfsResultPath": null,
       "isJsonSchema": true,
       "overflow": false,
       "plotOptions": {
        "customPlotOptions": {},
        "displayType": "table",
        "pivotAggregation": null,
        "pivotColumns": null,
        "xColumns": null,
        "yColumns": null
       },
       "removedWidgets": [],
       "schema": [
        {
         "metadata": "{}",
         "name": "name",
         "type": "\"string\""
        },
        {
         "metadata": "{}",
         "name": "total_revenue",
         "type": "\"double\""
        }
       ],
       "type": "table"
      }
     },
     "output_type": "display_data"
    }
   ],
   "source": [
    "%sql\n",
    "select facilities.name,\n",
    "      \n",
    "      sum( case when members.memid = 0 then bookings.slots * facilities.guestcost\n",
    "            else bookings.slots * facilities.membercost\n",
    "            end)\n",
    "      as total_revenue\n",
    "\n",
    "  from bookings\n",
    "  left join facilities\n",
    "  on bookings.facid = facilities.facid\n",
    "  \n",
    "  left join members\n",
    "  on bookings.memid = members.memid\n",
    "  \n",
    "  group by facilities.name\n",
    "  \n",
    "  having total_revenue < 1000\n",
    "  \n",
    "  order by total_revenue desc\n",
    "\n"
   ]
  },
  {
   "cell_type": "code",
   "execution_count": 0,
   "metadata": {
    "application/vnd.databricks.v1+cell": {
     "inputWidgets": {},
     "nuid": "31a00d90-ef69-4407-8765-5cbd9d8841b3",
     "showTitle": false,
     "title": ""
    }
   },
   "outputs": [
    {
     "data": {
      "text/html": [
       "<style scoped>\n",
       "  .ansiout {\n",
       "    display: block;\n",
       "    unicode-bidi: embed;\n",
       "    white-space: pre-wrap;\n",
       "    word-wrap: break-word;\n",
       "    word-break: break-all;\n",
       "    font-family: \"Source Code Pro\", \"Menlo\", monospace;;\n",
       "    font-size: 13px;\n",
       "    color: #555;\n",
       "    margin-left: 4px;\n",
       "    line-height: 19px;\n",
       "  }\n",
       "</style>"
      ]
     },
     "metadata": {
      "application/vnd.databricks.v1+output": {
       "arguments": {},
       "data": "",
       "errorSummary": "",
       "type": "ipynbError"
      }
     },
     "output_type": "display_data"
    }
   ],
   "source": []
  }
 ],
 "metadata": {
  "application/vnd.databricks.v1+notebook": {
   "dashboards": [],
   "language": "python",
   "notebookName": "Mini_Project_SQL_with_Spark_lori",
   "notebookOrigID": 3819974109136488,
   "widgets": {}
  },
  "kernelspec": {
   "display_name": "Python 3",
   "language": "python",
   "name": "python3"
  },
  "language_info": {
   "codemirror_mode": {
    "name": "ipython",
    "version": 3
   },
   "file_extension": ".py",
   "mimetype": "text/x-python",
   "name": "python",
   "nbconvert_exporter": "python",
   "pygments_lexer": "ipython3",
   "version": "3.7.8"
  }
 },
 "nbformat": 4,
 "nbformat_minor": 1
}
