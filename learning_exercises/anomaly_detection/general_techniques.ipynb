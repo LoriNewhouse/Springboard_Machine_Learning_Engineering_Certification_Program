{
 "cells": [
  {
   "cell_type": "code",
   "execution_count": null,
   "metadata": {},
   "outputs": [],
   "source": []
  },
  {
   "cell_type": "code",
   "execution_count": 13,
   "metadata": {},
   "outputs": [],
   "source": [
    "from IPython.core.interactiveshell import InteractiveShell\n",
    "InteractiveShell.ast_node_interactivity = 'all'"
   ]
  },
  {
   "cell_type": "code",
   "execution_count": null,
   "metadata": {},
   "outputs": [],
   "source": []
  },
  {
   "cell_type": "markdown",
   "metadata": {},
   "source": [
    "# Notebook of the FloydHub blog post on \"Introduction to Anomaly Detection in Python\""
   ]
  },
  {
   "cell_type": "markdown",
   "metadata": {},
   "source": [
    "This notebook contains the thorough experiments as shown in the above-mentioned blog post. If you notice any flaws here, feel free let me know by opening an issue.\n",
    "\n",
    "We will start off just by looking at the dataset from a _visual_ perspective and see if we can find the anomalies."
   ]
  },
  {
   "cell_type": "markdown",
   "metadata": {},
   "source": [
    "## Detecting anomalies just by seeing"
   ]
  },
  {
   "cell_type": "code",
   "execution_count": 1,
   "metadata": {},
   "outputs": [],
   "source": [
    "# Import the necessary packages\n",
    "import pandas as pd\n",
    "import numpy as np\n",
    "import matplotlib.pyplot as plt"
   ]
  },
  {
   "cell_type": "code",
   "execution_count": 2,
   "metadata": {},
   "outputs": [],
   "source": [
    "# Shpw the plots in your Jupyter Notebook\n",
    "%matplotlib inline\n",
    "# Use a predefined style set\n",
    "plt.style.use('ggplot')"
   ]
  },
  {
   "cell_type": "code",
   "execution_count": 24,
   "metadata": {},
   "outputs": [],
   "source": [
    "from faker import Faker\n",
    "from scipy.cluster.vq import kmeans\n",
    "from scipy.cluster.vq import vq\n",
    "from pyod.models.knn import KNN\n",
    "from pyod.utils import evaluate_print"
   ]
  },
  {
   "cell_type": "markdown",
   "metadata": {},
   "source": [
    "Let's first create a dummy dataset for ourselves. The dataset will contain just two columns - \n",
    "- Name of the employees of an organization\n",
    "- Salaries of those employees (in USD) within a range of 1000 to 2500 (Monthly)\n",
    "\n",
    "For generating the names (and make them look like the real ones) we will use a Python library called `Faker` (read the documentation [here](https://faker.readthedocs.io/en/latest/index.html)). For generating salaries, we will use the good old `numpy`. After generating these, we will merge them in a `pandas` DataFrame. We are going to generate records for 100 employees. Let's begin. \n",
    "\n",
    "**Note**: Synthesizing dummy datasets for experimental purposes is indeed an essential skill."
   ]
  },
  {
   "cell_type": "code",
   "execution_count": 5,
   "metadata": {},
   "outputs": [
    {
     "data": {
      "text/plain": [
       "100"
      ]
     },
     "execution_count": 5,
     "metadata": {},
     "output_type": "execute_result"
    }
   ],
   "source": [
    "#from faker import Faker\n",
    "Faker.seed(4321)\n",
    "fake = Faker()\n",
    "\n",
    "# To ensure the results are reproducible\n",
    "#fake.seed(4321)\n",
    "\n",
    "names_list = []\n",
    "\n",
    "fake = Faker()\n",
    "for _ in range(100):\n",
    "    names_list.append(fake.name())\n",
    "\n",
    "# Verify if 100 names were generated\n",
    "len(names_list)"
   ]
  },
  {
   "cell_type": "code",
   "execution_count": 6,
   "metadata": {},
   "outputs": [
    {
     "data": {
      "text/plain": [
       "100"
      ]
     },
     "execution_count": 6,
     "metadata": {},
     "output_type": "execute_result"
    }
   ],
   "source": [
    "# To ensure the results are reproducible\n",
    "np.random.seed(7)\n",
    "\n",
    "salaries = []\n",
    "for _ in range(100):\n",
    "    salary = np.random.randint(1000,2500)\n",
    "    salaries.append(salary)\n",
    "\n",
    "# Verify if 100 salariy values were generated\n",
    "len(salaries)"
   ]
  },
  {
   "cell_type": "code",
   "execution_count": 14,
   "metadata": {},
   "outputs": [
    {
     "data": {
      "text/plain": [
       "(100, 2)"
      ]
     },
     "execution_count": 14,
     "metadata": {},
     "output_type": "execute_result"
    },
    {
     "name": "stdout",
     "output_type": "stream",
     "text": [
      "<class 'pandas.core.frame.DataFrame'>\n",
      "RangeIndex: 100 entries, 0 to 99\n",
      "Data columns (total 2 columns):\n",
      " #   Column           Non-Null Count  Dtype \n",
      "---  ------           --------------  ----- \n",
      " 0   Person           100 non-null    object\n",
      " 1   Salary (in USD)  100 non-null    int64 \n",
      "dtypes: int64(1), object(1)\n",
      "memory usage: 1.7+ KB\n"
     ]
    },
    {
     "data": {
      "text/html": [
       "<div>\n",
       "<style scoped>\n",
       "    .dataframe tbody tr th:only-of-type {\n",
       "        vertical-align: middle;\n",
       "    }\n",
       "\n",
       "    .dataframe tbody tr th {\n",
       "        vertical-align: top;\n",
       "    }\n",
       "\n",
       "    .dataframe thead th {\n",
       "        text-align: right;\n",
       "    }\n",
       "</style>\n",
       "<table border=\"1\" class=\"dataframe\">\n",
       "  <thead>\n",
       "    <tr style=\"text-align: right;\">\n",
       "      <th></th>\n",
       "      <th>Person</th>\n",
       "      <th>Salary (in USD)</th>\n",
       "    </tr>\n",
       "  </thead>\n",
       "  <tbody>\n",
       "    <tr>\n",
       "      <th>0</th>\n",
       "      <td>Jason Brown</td>\n",
       "      <td>1175</td>\n",
       "    </tr>\n",
       "    <tr>\n",
       "      <th>1</th>\n",
       "      <td>Jacob Stein</td>\n",
       "      <td>2220</td>\n",
       "    </tr>\n",
       "    <tr>\n",
       "      <th>2</th>\n",
       "      <td>Cody Brown</td>\n",
       "      <td>1537</td>\n",
       "    </tr>\n",
       "    <tr>\n",
       "      <th>3</th>\n",
       "      <td>Larry Morales</td>\n",
       "      <td>1502</td>\n",
       "    </tr>\n",
       "    <tr>\n",
       "      <th>4</th>\n",
       "      <td>Jessica Hendricks</td>\n",
       "      <td>1211</td>\n",
       "    </tr>\n",
       "  </tbody>\n",
       "</table>\n",
       "</div>"
      ],
      "text/plain": [
       "              Person  Salary (in USD)\n",
       "0        Jason Brown             1175\n",
       "1        Jacob Stein             2220\n",
       "2         Cody Brown             1537\n",
       "3      Larry Morales             1502\n",
       "4  Jessica Hendricks             1211"
      ]
     },
     "execution_count": 14,
     "metadata": {},
     "output_type": "execute_result"
    }
   ],
   "source": [
    "# Create pandas DataFrame\n",
    "salary_df = pd.DataFrame(\n",
    "    {'Person': names_list,\n",
    "     'Salary (in USD)': salaries\n",
    "    })\n",
    "\n",
    "# Print a subsection of the DataFrame\n",
    "salary_df.shape\n",
    "salary_df.info()\n",
    "salary_df.head()"
   ]
  },
  {
   "cell_type": "markdown",
   "metadata": {},
   "source": [
    "Let's now manually change the salary entries of two individuals. In reality, this can actually happen for a number of reasons such as the data recording software may have got corrupted at the time of recording the respective data."
   ]
  },
  {
   "cell_type": "code",
   "execution_count": 30,
   "metadata": {},
   "outputs": [],
   "source": [
    "salary_df.at[16, 'Salary (in USD)'] = 23\n",
    "salary_df.at[65, 'Salary (in USD)'] = 17"
   ]
  },
  {
   "cell_type": "code",
   "execution_count": 31,
   "metadata": {},
   "outputs": [
    {
     "name": "stdout",
     "output_type": "stream",
     "text": [
      "Person             Miss Amanda Harris MD\n",
      "Salary (in USD)                       23\n",
      "Name: 16, dtype: object\n",
      "Person             Joyce Bishop\n",
      "Salary (in USD)              17\n",
      "Name: 65, dtype: object\n"
     ]
    }
   ],
   "source": [
    "# Verify if the salaries were changed\n",
    "print(salary_df.loc[16])\n",
    "print(salary_df.loc[65])"
   ]
  },
  {
   "cell_type": "markdown",
   "metadata": {},
   "source": [
    "### Boxplots are great! "
   ]
  },
  {
   "cell_type": "markdown",
   "metadata": {},
   "source": [
    "As mentioned in the earlier sections, the generation of anomalies within data directly depends on the generation of the data points itself. To simulate this, our approach is good enough to proceed. Let's now some basic statistics (like minimum value, maximum value, 1st quartile values etc.) in the form of a boxplot. \n",
    "\n",
    "Boxplot, because we get the following information all in just one place that too visually - \n",
    "\n",
    "\n",
    "![](https://pro.arcgis.com/en/pro-app/help/analysis/geoprocessing/charts/GUID-0E2C3730-C535-40CD-8152-80D794A996A7-web.png)\n",
    "\n",
    "Courtesy: [This blog](https://pro.arcgis.com/en/pro-app/help/analysis/geoprocessing/charts/box-plot.htm)"
   ]
  },
  {
   "cell_type": "code",
   "execution_count": 10,
   "metadata": {},
   "outputs": [
    {
     "data": {
      "image/png": "[encoded data removed]",
      "text/plain": [
       "<Figure size 432x288 with 1 Axes>"
      ]
     },
     "metadata": {},
     "output_type": "display_data"
    }
   ],
   "source": [
    "salary_df['Salary (in USD)'].plot(kind='box')\n",
    "plt.show()"
   ]
  },
  {
   "cell_type": "markdown",
   "metadata": {},
   "source": [
    "Notice the tiny circle point in the bottom. You instantly get a feeling of something wrong in there as _it deviates hugely from the rest of the data_. Now, you decide to look at the data from another visual perspective i.e. in terms of _histograms_. "
   ]
  },
  {
   "cell_type": "markdown",
   "metadata": {},
   "source": [
    "### How about histograms? "
   ]
  },
  {
   "cell_type": "code",
   "execution_count": 11,
   "metadata": {},
   "outputs": [
    {
     "data": {
      "image/png": "[encoded data removed]",
      "text/plain": [
       "<Figure size 432x288 with 1 Axes>"
      ]
     },
     "metadata": {},
     "output_type": "display_data"
    }
   ],
   "source": [
    "ax = salary_df['Salary (in USD)'].plot(kind='hist')\n",
    "ax.set_xlabel('Salary (in USD)')\n",
    "plt.show()"
   ]
  },
  {
   "cell_type": "markdown",
   "metadata": {},
   "source": [
    "In the above histogram plot also, we can see there's one particular bin that is just not right _as it deviates hugely from the rest of the data_ (phrase repeated intentionally to put emphasis on the deviation part). We can also infer that there are only two employees for which the salaries seem to be distorted (look at the y-axis). "
   ]
  },
  {
   "cell_type": "markdown",
   "metadata": {},
   "source": [
    "So what might be an immediate way to confirm that the dataset contains anomalies? Let's take a look at the minimum and maximum values of the column `Salary (in USD)`.  "
   ]
  },
  {
   "cell_type": "code",
   "execution_count": 12,
   "metadata": {},
   "outputs": [
    {
     "name": "stdout",
     "output_type": "stream",
     "text": [
      "Minimum salary 17\n",
      "Maximum salary 2498\n"
     ]
    }
   ],
   "source": [
    "print('Minimum salary ' + str(salary_df['Salary (in USD)'].min()))\n",
    "print('Maximum salary ' + str(salary_df['Salary (in USD)'].max()))"
   ]
  },
  {
   "cell_type": "markdown",
   "metadata": {},
   "source": [
    "Look at the **minimum value**. From the accounts department of this hypothetical organization, you got to know that the minimum salary of an employee there is $1000. But you found out something different. Hence, its worth enough to conclude that this is indeed an anomaly. Let's now try to look at the data from a different perspective other than just simply plotting it. \n",
    "\n",
    "**Note**: Although our dataset contains only one feature (i.e. `Salary (in USD)`) that contains anomalies but in reality, there can be a lot features which will have anomalies in them. Even there also, these little visualizations will help you a lot. "
   ]
  },
  {
   "cell_type": "markdown",
   "metadata": {},
   "source": [
    "## Clustering based approach for anomaly detection\n",
    "\n",
    "We have seen how clustering and anomaly detection are closely related but they serve different purposes. But clustering can be used for anomaly detection. In this approach, we start by grouping the similar kind of objects. Mathematically, this similarity is measured by distance measurement functions like Euclidean distance, Manhattan distance and so on. Euclidean distance is a very popular choice when choosing in between several distance measurement functions. Let's take a look at what Euclidean distance is all about. "
   ]
  },
  {
   "cell_type": "markdown",
   "metadata": {},
   "source": [
    "### An extremely short note on Euclidean distance\n",
    "\n",
    "If there are n points on a two-dimensional space(refer the following figure) and their coordinates are denoted by(x_i, y_i), then the Euclidean distance between any two points((x1, y1) and(x2, y2)) on this space is given by:\n",
    "\n",
    "$$\n",
    "\\sqrt{\\left(x_{1}-x_{2}\\right)^{2}+\\left(y_{1}-y_{2}\\right)^{2}}\n",
    "$$"
   ]
  },
  {
   "cell_type": "markdown",
   "metadata": {},
   "source": [
    "We are going to use [K-Means clustering](https://en.wikipedia.org/wiki/K-means_clustering) which will help us cluster the data points (salary values in our case). The implementation that we are going to be using for `KMeans` uses Euclidean distance internally. Let's get started. "
   ]
  },
  {
   "cell_type": "code",
   "execution_count": 32,
   "metadata": {},
   "outputs": [
    {
     "data": {
      "text/plain": [
       "23"
      ]
     },
     "execution_count": 32,
     "metadata": {},
     "output_type": "execute_result"
    },
    {
     "data": {
      "text/plain": [
       "17"
      ]
     },
     "execution_count": 32,
     "metadata": {},
     "output_type": "execute_result"
    }
   ],
   "source": [
    "# Convert the salary values to a numpy array\n",
    "salary_raw = salary_df['Salary (in USD)'].values\n",
    "salary_raw[16]\n",
    "salary_raw[65]"
   ]
  },
  {
   "cell_type": "code",
   "execution_count": 33,
   "metadata": {},
   "outputs": [],
   "source": [
    "# For compatibility with the SciPy implementation\n",
    "#salary_raw = pok.reshape(-1, 1)\n",
    "salary_raw = salary_raw.reshape(-1,1)\n",
    "salary_raw = salary_raw.astype('float64')"
   ]
  },
  {
   "cell_type": "markdown",
   "metadata": {},
   "source": [
    "We will now import the `kmeans` module from `scipy.cluster.vq`. SciPy stands for Scientific Python and provides a variety of convenient utilities for performing scientific experiments. Follow its documentation [here](https://docs.scipy.org/doc/). We will then apply `KMeans` to `salary_raw`. "
   ]
  },
  {
   "cell_type": "code",
   "execution_count": 34,
   "metadata": {},
   "outputs": [],
   "source": [
    "#from scipy.cluster.vq import kmeans\n",
    "\n",
    "# Supply the data and the number of clusters to kmeans()\n",
    "codebook, distortion = kmeans(salary_raw, 4)"
   ]
  },
  {
   "cell_type": "code",
   "execution_count": 35,
   "metadata": {},
   "outputs": [
    {
     "data": {
      "text/plain": [
       "array([[1776.84375   ],\n",
       "       [  20.        ],\n",
       "       [1287.3030303 ],\n",
       "       [2264.54545455]])"
      ]
     },
     "execution_count": 35,
     "metadata": {},
     "output_type": "execute_result"
    }
   ],
   "source": [
    "codebook"
   ]
  },
  {
   "cell_type": "code",
   "execution_count": 36,
   "metadata": {},
   "outputs": [
    {
     "data": {
      "text/plain": [
       "119.12457386363636"
      ]
     },
     "execution_count": 36,
     "metadata": {},
     "output_type": "execute_result"
    }
   ],
   "source": [
    "distortion"
   ]
  },
  {
   "cell_type": "markdown",
   "metadata": {},
   "source": [
    "In the above chunk of code, we fed the salary data points the `kmeans()`. We also specified the number of clusters to which we want to group the data points. `cookbook` is the centroids generated by `kmeans()` and `distortion` is the averagedEuclidean distance between the data points fed and the centroids generated by `kmeans()`. \n",
    "\n",
    "Let's assign the groups of the data points by calling th `vq()` method. It takes - \n",
    "- The data points\n",
    "- The centroid as generated by the clustering algorithm (`kmeans()` in our case)\n",
    "\n",
    "It then returns the groups of the data points and the distance between the observation and its nearest group."
   ]
  },
  {
   "cell_type": "code",
   "execution_count": 37,
   "metadata": {},
   "outputs": [],
   "source": [
    "#groups, cdist = cluster.vq.vq(salary_raw, codebook)\n",
    "groups, cdist = vq(salary_raw, codebook)"
   ]
  },
  {
   "cell_type": "code",
   "execution_count": 38,
   "metadata": {},
   "outputs": [
    {
     "name": "stdout",
     "output_type": "stream",
     "text": [
      "[(2, 112.30303030303025), (3, 44.545454545454504), (0, 239.84375), (2, 214.69696969696975), (2, 76.30303030303025), (0, 142.15625), (3, 107.4545454545455), (3, 55.545454545454504), (3, 157.4545454545455), (0, 241.84375), (2, 57.696969696969745), (2, 78.69696969696975), (0, 222.84375), (0, 46.84375), (0, 127.15625), (3, 73.5454545454545), (1, 3.0), (3, 191.4545454545455), (2, 103.69696969696975), (0, 163.15625), (3, 165.5454545454545), (0, 46.15625), (2, 37.303030303030255), (3, 234.5454545454545), (3, 203.4545454545455), (3, 196.5454545454545), (3, 84.4545454545455), (3, 88.5454545454545), (2, 104.30303030303025), (0, 172.15625), (3, 128.5454545454545), (0, 13.84375), (3, 51.545454545454504), (2, 2.696969696969745), (2, 24.696969696969745), (2, 86.30303030303025), (3, 221.4545454545455), (0, 226.84375), (0, 4.84375), (2, 206.69696969696975), (3, 103.5454545454545), (3, 45.545454545454504), (3, 168.5454545454545), (0, 167.15625), (2, 30.303030303030255), (2, 112.69696969696975), (3, 133.4545454545455), (3, 108.4545454545455), (0, 163.15625), (0, 172.84375), (0, 12.84375), (2, 8.303030303030255), (0, 31.84375), (0, 26.15625), (3, 207.4545454545455), (3, 76.4545454545455), (3, 150.4545454545455), (3, 89.5454545454545), (2, 195.30303030303025), (0, 17.84375), (3, 16.545454545454504), (2, 68.69696969696975), (0, 154.15625), (2, 193.69696969696975), (0, 197.84375), (1, 3.0), (2, 193.69696969696975), (3, 221.5454545454545), (0, 146.15625), (0, 10.15625), (2, 254.30303030303025), (3, 117.5454545454545), (3, 45.454545454545496), (0, 35.84375), (0, 212.15625), (3, 174.4545454545455), (3, 110.5454545454545), (3, 157.5454545454545), (2, 114.69696969696975), (2, 266.30303030303025), (2, 84.30303030303025), (2, 240.30303030303025), (0, 7.15625), (2, 236.69696969696975), (2, 61.696969696969745), (2, 180.30303030303025), (2, 105.69696969696975), (0, 67.15625), (0, 154.84375), (0, 122.84375), (0, 140.84375), (2, 11.303030303030255), (2, 21.696969696969745), (0, 50.15625), (2, 252.30303030303025), (2, 27.303030303030255), (2, 168.69696969696975), (3, 233.4545454545455), (0, 230.15625), (3, 25.545454545454504)]\n"
     ]
    }
   ],
   "source": [
    "print(list(zip(groups, cdist)))"
   ]
  },
  {
   "cell_type": "markdown",
   "metadata": {},
   "source": [
    "Let's now plot the groups we have got. "
   ]
  },
  {
   "cell_type": "code",
   "execution_count": 39,
   "metadata": {
    "scrolled": true
   },
   "outputs": [
    {
     "data": {
      "image/png": "[encoded data removed]",
      "text/plain": [
       "<Figure size 432x288 with 1 Axes>"
      ]
     },
     "metadata": {},
     "output_type": "display_data"
    }
   ],
   "source": [
    "plt.scatter(salary_raw, np.arange(0,100), c=groups);\n",
    "plt.xlabel('Salaries in (USD)');\n",
    "plt.ylabel('Indices');\n",
    "plt.show();"
   ]
  },
  {
   "cell_type": "markdown",
   "metadata": {},
   "source": [
    "Can you point to the anomalies? I bet you can! "
   ]
  },
  {
   "cell_type": "markdown",
   "metadata": {},
   "source": [
    "The above method for anomaly detection is purely [unsupervised](https://machinelearningmastery.com/supervised-and-unsupervised-machine-learning-algorithms/) in nature. If we had the class-labels of the data points, we could have easily converted this to a [supervised learning](https://machinelearningmastery.com/supervised-and-unsupervised-machine-learning-algorithms/) problem, specifically a _classification_ problem. \n",
    "\n",
    "Shall we extend this? Well, why not? "
   ]
  },
  {
   "cell_type": "markdown",
   "metadata": {},
   "source": [
    "## Anomaly detection as a classification problem\n",
    "\n",
    "To be able to treat the task of anomaly detection as classification task, we need a labeled dataset. Let's give our existing dataset some labels. \n",
    "\n",
    "We will first assign all the entries to the class of 0 and then we will manually edit the labels for those two anomalies. We will keep these class labels in a column named `class`. The label for the anomalies will be 1 (and for the normal entries the labels will be 0). "
   ]
  },
  {
   "cell_type": "code",
   "execution_count": 40,
   "metadata": {},
   "outputs": [
    {
     "data": {
      "text/plain": [
       "Person             Miss Amanda Harris MD\n",
       "Salary (in USD)                       23\n",
       "class                                  1\n",
       "Name: 16, dtype: object"
      ]
     },
     "execution_count": 40,
     "metadata": {},
     "output_type": "execute_result"
    },
    {
     "data": {
      "text/plain": [
       "Person             Joyce Bishop\n",
       "Salary (in USD)              17\n",
       "class                         1\n",
       "Name: 65, dtype: object"
      ]
     },
     "execution_count": 40,
     "metadata": {},
     "output_type": "execute_result"
    }
   ],
   "source": [
    "# First assign all the instances to \n",
    "salary_df['class'] = 0\n",
    "\n",
    "# Manually edit the labels for the anomalies\n",
    "salary_df.at[16, 'class'] = 1\n",
    "salary_df.at[65, 'class'] = 1\n",
    "\n",
    "# Veirfy \n",
    "salary_df.loc[16]\n",
    "salary_df.loc[65]"
   ]
  },
  {
   "cell_type": "markdown",
   "metadata": {},
   "source": [
    "Let's take a look at the dataset again! "
   ]
  },
  {
   "cell_type": "code",
   "execution_count": 41,
   "metadata": {},
   "outputs": [
    {
     "data": {
      "text/html": [
       "<div>\n",
       "<style scoped>\n",
       "    .dataframe tbody tr th:only-of-type {\n",
       "        vertical-align: middle;\n",
       "    }\n",
       "\n",
       "    .dataframe tbody tr th {\n",
       "        vertical-align: top;\n",
       "    }\n",
       "\n",
       "    .dataframe thead th {\n",
       "        text-align: right;\n",
       "    }\n",
       "</style>\n",
       "<table border=\"1\" class=\"dataframe\">\n",
       "  <thead>\n",
       "    <tr style=\"text-align: right;\">\n",
       "      <th></th>\n",
       "      <th>Person</th>\n",
       "      <th>Salary (in USD)</th>\n",
       "      <th>class</th>\n",
       "    </tr>\n",
       "  </thead>\n",
       "  <tbody>\n",
       "    <tr>\n",
       "      <th>0</th>\n",
       "      <td>Jason Brown</td>\n",
       "      <td>1175</td>\n",
       "      <td>0</td>\n",
       "    </tr>\n",
       "    <tr>\n",
       "      <th>1</th>\n",
       "      <td>Jacob Stein</td>\n",
       "      <td>2220</td>\n",
       "      <td>0</td>\n",
       "    </tr>\n",
       "    <tr>\n",
       "      <th>2</th>\n",
       "      <td>Cody Brown</td>\n",
       "      <td>1537</td>\n",
       "      <td>0</td>\n",
       "    </tr>\n",
       "    <tr>\n",
       "      <th>3</th>\n",
       "      <td>Larry Morales</td>\n",
       "      <td>1502</td>\n",
       "      <td>0</td>\n",
       "    </tr>\n",
       "    <tr>\n",
       "      <th>4</th>\n",
       "      <td>Jessica Hendricks</td>\n",
       "      <td>1211</td>\n",
       "      <td>0</td>\n",
       "    </tr>\n",
       "  </tbody>\n",
       "</table>\n",
       "</div>"
      ],
      "text/plain": [
       "              Person  Salary (in USD)  class\n",
       "0        Jason Brown             1175      0\n",
       "1        Jacob Stein             2220      0\n",
       "2         Cody Brown             1537      0\n",
       "3      Larry Morales             1502      0\n",
       "4  Jessica Hendricks             1211      0"
      ]
     },
     "execution_count": 41,
     "metadata": {},
     "output_type": "execute_result"
    }
   ],
   "source": [
    "salary_df.head()"
   ]
  },
  {
   "cell_type": "markdown",
   "metadata": {},
   "source": [
    "We now have a binary classification task. We are going to use **proximity-based anomaly detection** for solving this task. The basic idea here is that the proximity of an anomaly data point to its nearest neighboring data points largely _deviates_ from the proximity of the data point to most of the other data points in the data set. Don't worry if this does not ring a bell now. Once, we visualize this, it will be clear. "
   ]
  },
  {
   "cell_type": "markdown",
   "metadata": {},
   "source": [
    "We are going to use the [k-NN classification method](https://www.datacamp.com/community/tutorials/k-nearest-neighbor-classification-scikit-learn) for this. Also, we are going to use a Python library called `PyOD` which is specifically developed for anomaly detection purposes. \n",
    "\n",
    "I really encourage you take a look at the official documentation of PyOD [here](https://pyod.readthedocs.io/). "
   ]
  },
  {
   "cell_type": "code",
   "execution_count": null,
   "metadata": {},
   "outputs": [],
   "source": [
    "# Importing KNN module from PyOD\n",
    "#from pyod.models.knn import KNN"
   ]
  },
  {
   "cell_type": "markdown",
   "metadata": {},
   "source": [
    "The column `Person` is not at all useful for the model as it is nothing but a kind of identifier. Let's prepare the training data accordingly.  "
   ]
  },
  {
   "cell_type": "code",
   "execution_count": 42,
   "metadata": {},
   "outputs": [],
   "source": [
    "# Segregate the salary values and the class labels \n",
    "X = salary_df['Salary (in USD)'].values.reshape(-1,1)\n",
    "y = salary_df['class'].values"
   ]
  },
  {
   "cell_type": "code",
   "execution_count": 43,
   "metadata": {},
   "outputs": [
    {
     "data": {
      "text/plain": [
       "KNN(algorithm='auto', contamination=0.02, leaf_size=30, method='largest',\n",
       "  metric='minkowski', metric_params=None, n_jobs=1, n_neighbors=5, p=2,\n",
       "  radius=1.0)"
      ]
     },
     "execution_count": 43,
     "metadata": {},
     "output_type": "execute_result"
    }
   ],
   "source": [
    "# Train kNN detector\n",
    "clf = KNN(contamination=0.02, n_neighbors=5)\n",
    "clf.fit(X)"
   ]
  },
  {
   "cell_type": "markdown",
   "metadata": {},
   "source": [
    "Let's discuss the two parameters we passed in to `KNN()` - \n",
    "\n",
    "- contamination - the amount of anomalies in the data (in percentage) which for our case is 2/100 = 0.02\n",
    "- n_neighbors - number of neighbors to consider for measuring the proximity\n",
    "\n",
    "Let's now get the prediction labels on the training data and then get the outlier scores of the training data. The outlier scores of the training data. The higher the scores are, the more abnormal. This indicates the overall abnormality in the data. These handy features makes `PyOD` a great utility for anomaly detection related tasks. "
   ]
  },
  {
   "cell_type": "code",
   "execution_count": 44,
   "metadata": {},
   "outputs": [],
   "source": [
    "# Get the prediction labels of the training data\n",
    "y_train_pred = clf.labels_ \n",
    "\n",
    "# Outlier scores\n",
    "y_train_scores = clf.decision_scores_  "
   ]
  },
  {
   "cell_type": "markdown",
   "metadata": {},
   "source": [
    "Let's now try to evaluate `KNN()` with respect to the training data. "
   ]
  },
  {
   "cell_type": "code",
   "execution_count": 45,
   "metadata": {},
   "outputs": [
    {
     "name": "stdout",
     "output_type": "stream",
     "text": [
      "KNN ROC:1.0, precision @ rank n:1.0\n"
     ]
    }
   ],
   "source": [
    "#from pyod.utils import evaluate_print\n",
    "\n",
    "# Evaluate on the training data\n",
    "evaluate_print('KNN', y, y_train_scores)"
   ]
  },
  {
   "cell_type": "markdown",
   "metadata": {},
   "source": [
    "We see that the `KNN()` model was able perform exceptionally good on the training data. It provides three metrics and their scores - \n",
    "- [ROC](https://towardsdatascience.com/understanding-auc-roc-curve-68b2303cc9c5)\n",
    "- [Precision](https://developers.google.com/machine-learning/crash-course/classification/precision-and-recall)\n",
    "- A confidence rank with which it gives the outlier scores. \n",
    "\n",
    "**Note**: While detecting anomalies, we almost always consider `ROC` and `Precision` as it gives a much better idea about the model's performance. We have also seen its significance in the earlier sections. "
   ]
  },
  {
   "cell_type": "markdown",
   "metadata": {},
   "source": [
    "We don't have any test data. But we can generate a sample salary value right? "
   ]
  },
  {
   "cell_type": "code",
   "execution_count": 46,
   "metadata": {},
   "outputs": [],
   "source": [
    "# A salary of $37 (an anomaly right?)\n",
    "X_test = np.array([[37.]])"
   ]
  },
  {
   "cell_type": "markdown",
   "metadata": {},
   "source": [
    "Let's now test how if the model could detect this salary value as an anomaly or not."
   ]
  },
  {
   "cell_type": "code",
   "execution_count": 47,
   "metadata": {},
   "outputs": [
    {
     "data": {
      "text/plain": [
       "array([1])"
      ]
     },
     "execution_count": 47,
     "metadata": {},
     "output_type": "execute_result"
    }
   ],
   "source": [
    "# Check what the model predicts on the given test data point\n",
    "clf.predict(X_test)"
   ]
  },
  {
   "cell_type": "markdown",
   "metadata": {},
   "source": [
    "We can see the model predicts just right. Let's also see how the model does on a normal data point. "
   ]
  },
  {
   "cell_type": "code",
   "execution_count": 48,
   "metadata": {},
   "outputs": [
    {
     "data": {
      "text/plain": [
       "array([0])"
      ]
     },
     "execution_count": 48,
     "metadata": {},
     "output_type": "execute_result"
    }
   ],
   "source": [
    "# A salary of $1256\n",
    "X_test_abnormal = np.array([[1256.]])\n",
    "\n",
    "# Predict\n",
    "clf.predict(X_test_abnormal)"
   ]
  },
  {
   "cell_type": "markdown",
   "metadata": {},
   "source": [
    "The model predicted this one as the normal data point which is correct. "
   ]
  }
 ],
 "metadata": {
  "kernelspec": {
   "display_name": "Python 3",
   "language": "python",
   "name": "python3"
  },
  "language_info": {
   "codemirror_mode": {
    "name": "ipython",
    "version": 3
   },
   "file_extension": ".py",
   "mimetype": "text/x-python",
   "name": "python",
   "nbconvert_exporter": "python",
   "pygments_lexer": "ipython3",
   "version": "3.7.8"
  },
  "latex_envs": {
   "LaTeX_envs_menu_present": true,
   "autoclose": false,
   "autocomplete": true,
   "bibliofile": "biblio.bib",
   "cite_by": "apalike",
   "current_citInitial": 1,
   "eqLabelWithNumbers": true,
   "eqNumInitial": 1,
   "hotkeys": {
    "equation": "Ctrl-E",
    "itemize": "Ctrl-I"
   },
   "labels_anchors": false,
   "latex_user_defs": false,
   "report_style_numbering": false,
   "user_envs_cfg": false
  },
  "toc": {
   "base_numbering": 1,
   "nav_menu": {},
   "number_sections": false,
   "sideBar": true,
   "skip_h1_title": false,
   "title_cell": "Table of Contents",
   "title_sidebar": "Contents",
   "toc_cell": false,
   "toc_position": {},
   "toc_section_display": true,
   "toc_window_display": false
  }
 },
 "nbformat": 4,
 "nbformat_minor": 2
}
