{
 "cells": [
  {
   "cell_type": "code",
   "execution_count": null,
   "metadata": {},
   "outputs": [],
   "source": []
  },
  {
   "cell_type": "code",
   "execution_count": 1,
   "metadata": {},
   "outputs": [],
   "source": [
    "from IPython.core.interactiveshell import InteractiveShell\n",
    "InteractiveShell.ast_node_interactivity = 'all'"
   ]
  },
  {
   "cell_type": "code",
   "execution_count": null,
   "metadata": {},
   "outputs": [],
   "source": []
  },
  {
   "cell_type": "markdown",
   "metadata": {},
   "source": [
    "# RSS"
   ]
  },
  {
   "cell_type": "markdown",
   "metadata": {},
   "source": [
    "You can find RSS feeds on many different sites. [Library of Congress](https://www.loc.gov/rss/) has a lot. Most blogs and news web sites have them, for example [Tech Crunch](https://techcrunch.com/rssfeeds/), [New York Times](http://www.nytimes.com/services/xml/rss/index.html), and [NPR](https://help.npr.org/customer/portal/articles/2094175-where-can-i-find-npr-rss-feeds-). The [DC Public Library](http://www.dclibrary.org/) even gives you an RSS feed of your [catalog searches](https://catalog.dclibrary.org/client/rss/hitlist/dcpl/qu=python). iTunes delivers podcasts by [aggregating RSS feeds](http://itunespartner.apple.com/en/podcasts/faq) from content creators. \n",
    "\n",
    "Today we are going to take a look at the [Netflix Top 100 DVDs](https://dvd.netflix.com/RSSFeeds). We will use the Python package [FeedParser](https://pypi.python.org/pypi/feedparser) to work with the RSS feed. FeedParser will allow us to deconstruct the data in the feed."
   ]
  },
  {
   "cell_type": "markdown",
   "metadata": {},
   "source": [
    "### NYTimes feeds\n",
    "https://blog.feedspot.com/nytimes_rss_feeds/"
   ]
  },
  {
   "cell_type": "code",
   "execution_count": 2,
   "metadata": {},
   "outputs": [],
   "source": [
    "import feedparser\n",
    "import pandas as pd"
   ]
  },
  {
   "cell_type": "code",
   "execution_count": 3,
   "metadata": {},
   "outputs": [],
   "source": [
    "# next line is original, which no longer exists\n",
    "#RSS_URL = \"http://dvd.netflix.com/Top100RSS\"\n",
    "\n",
    "RSS_URL = \"https://rss.nytimes.com/services/xml/rss/nyt/Science.xml\""
   ]
  },
  {
   "cell_type": "code",
   "execution_count": 4,
   "metadata": {},
   "outputs": [],
   "source": [
    "feed = feedparser.parse(RSS_URL)"
   ]
  },
  {
   "cell_type": "code",
   "execution_count": 5,
   "metadata": {},
   "outputs": [
    {
     "data": {
      "text/plain": [
       "feedparser.FeedParserDict"
      ]
     },
     "execution_count": 5,
     "metadata": {},
     "output_type": "execute_result"
    }
   ],
   "source": [
    "type(feed)"
   ]
  },
  {
   "cell_type": "markdown",
   "metadata": {},
   "source": [
    "\"parse\" is the primary function in FeedParser. The returned object is dictionary like and can be handled similarly to a dictionary. For example, we can look at the keys it contains and what type of items those keys are."
   ]
  },
  {
   "cell_type": "code",
   "execution_count": 6,
   "metadata": {},
   "outputs": [
    {
     "data": {
      "text/plain": [
       "dict_keys(['feed', 'entries', 'bozo', 'headers', 'href', 'status', 'encoding', 'version', 'namespaces'])"
      ]
     },
     "execution_count": 6,
     "metadata": {},
     "output_type": "execute_result"
    }
   ],
   "source": [
    "feed.keys()"
   ]
  },
  {
   "cell_type": "code",
   "execution_count": 7,
   "metadata": {},
   "outputs": [
    {
     "data": {
      "text/plain": [
       "int"
      ]
     },
     "execution_count": 7,
     "metadata": {},
     "output_type": "execute_result"
    }
   ],
   "source": [
    "type(feed.bozo)"
   ]
  },
  {
   "cell_type": "code",
   "execution_count": 8,
   "metadata": {
    "scrolled": false
   },
   "outputs": [
    {
     "data": {
      "text/plain": [
       "feedparser.FeedParserDict"
      ]
     },
     "execution_count": 8,
     "metadata": {},
     "output_type": "execute_result"
    }
   ],
   "source": [
    "type(feed.feed)"
   ]
  },
  {
   "cell_type": "markdown",
   "metadata": {},
   "source": [
    "We will look at some, but not all, of the data stored in the feed. For more information about the keys, see the [documentation](http://pythonhosted.org/feedparser/).\n",
    "\n",
    "We can use the version to check which type of feed we have."
   ]
  },
  {
   "cell_type": "code",
   "execution_count": 9,
   "metadata": {},
   "outputs": [
    {
     "data": {
      "text/plain": [
       "'rss20'"
      ]
     },
     "execution_count": 9,
     "metadata": {},
     "output_type": "execute_result"
    }
   ],
   "source": [
    "feed.version"
   ]
  },
  {
   "cell_type": "markdown",
   "metadata": {},
   "source": [
    "Bozo is an interesing key to know about if you are going to parse a RSS feed in code. FeedParser sets the bozo bit when it detects a feed is not well-formed. (FeedParser will still parse the feed if it is not well-formed.) You can use the bozo bit to create error handling or just print a simple warning."
   ]
  },
  {
   "cell_type": "code",
   "execution_count": 10,
   "metadata": {},
   "outputs": [
    {
     "name": "stdout",
     "output_type": "stream",
     "text": [
      "Well done, you have a well-formed feed!\n"
     ]
    }
   ],
   "source": [
    "if feed.bozo == 0:\n",
    "    print(\"Well done, you have a well-formed feed!\")\n",
    "else:\n",
    "    print(\"Potential trouble ahead.\")"
   ]
  },
  {
   "cell_type": "markdown",
   "metadata": {},
   "source": [
    "### We can look at some of the feed elements through the feed attribute."
   ]
  },
  {
   "cell_type": "code",
   "execution_count": 11,
   "metadata": {},
   "outputs": [
    {
     "data": {
      "text/plain": [
       "{'title': 'NYT > Science',\n",
       " 'title_detail': {'type': 'text/plain',\n",
       "  'language': None,\n",
       "  'base': 'https://rss.nytimes.com/services/xml/rss/nyt/Science.xml',\n",
       "  'value': 'NYT > Science'},\n",
       " 'links': [{'rel': 'alternate',\n",
       "   'type': 'text/html',\n",
       "   'href': 'https://www.nytimes.com/section/science'},\n",
       "  {'href': 'https://rss.nytimes.com/services/xml/rss/nyt/Science.xml',\n",
       "   'rel': 'self',\n",
       "   'type': 'application/rss+xml'}],\n",
       " 'link': 'https://www.nytimes.com/section/science',\n",
       " 'subtitle': '',\n",
       " 'subtitle_detail': {'type': 'text/html',\n",
       "  'language': None,\n",
       "  'base': 'https://rss.nytimes.com/services/xml/rss/nyt/Science.xml',\n",
       "  'value': ''},\n",
       " 'language': 'en-us',\n",
       " 'rights': 'Copyright 2020 The New York Times Company',\n",
       " 'rights_detail': {'type': 'text/plain',\n",
       "  'language': None,\n",
       "  'base': 'https://rss.nytimes.com/services/xml/rss/nyt/Science.xml',\n",
       "  'value': 'Copyright 2020 The New York Times Company'},\n",
       " 'updated': 'Thu, 10 Sep 2020 11:46:06 +0000',\n",
       " 'updated_parsed': time.struct_time(tm_year=2020, tm_mon=9, tm_mday=10, tm_hour=11, tm_min=46, tm_sec=6, tm_wday=3, tm_yday=254, tm_isdst=0),\n",
       " 'published': 'Thu, 10 Sep 2020 11:46:06 +0000',\n",
       " 'published_parsed': time.struct_time(tm_year=2020, tm_mon=9, tm_mday=10, tm_hour=11, tm_min=46, tm_sec=6, tm_wday=3, tm_yday=254, tm_isdst=0),\n",
       " 'image': {'title': 'NYT > Science',\n",
       "  'title_detail': {'type': 'text/plain',\n",
       "   'language': None,\n",
       "   'base': 'https://rss.nytimes.com/services/xml/rss/nyt/Science.xml',\n",
       "   'value': 'NYT > Science'},\n",
       "  'href': 'https://static01.nyt.com/images/misc/NYT_logo_rss_250x40.png',\n",
       "  'links': [{'rel': 'alternate',\n",
       "    'type': 'text/html',\n",
       "    'href': 'https://www.nytimes.com/section/science'}],\n",
       "  'link': 'https://www.nytimes.com/section/science'}}"
      ]
     },
     "execution_count": 11,
     "metadata": {},
     "output_type": "execute_result"
    }
   ],
   "source": [
    "feed.feed"
   ]
  },
  {
   "cell_type": "code",
   "execution_count": 12,
   "metadata": {},
   "outputs": [
    {
     "name": "stdout",
     "output_type": "stream",
     "text": [
      "NYT > Science\n",
      "https://www.nytimes.com/section/science\n",
      "https://rss.nytimes.com/services/xml/rss/nyt/Science.xml\n",
      "Thu, 10 Sep 2020 11:46:06 +0000\n"
     ]
    }
   ],
   "source": [
    "print(feed.feed.title)\n",
    "print(feed.feed.link)\n",
    "print(feed.feed.links[1].href)\n",
    "print(feed.feed.updated)"
   ]
  },
  {
   "cell_type": "markdown",
   "metadata": {},
   "source": [
    "The [reference section](http://pythonhosted.org/feedparser/reference.html) of the feedparser documenation shows us all the inforamtion thatcan be in a feed. [Annotated Examples](http://pythonhosted.org/feedparser/annotated-examples.html) are also provided. But note the caution provided-\n",
    "\n",
    "\"Caution: Even though many of these elements are required according to the specification, real-world feeds may be missing any element. If an element is not present in the feed, it will not be present in the parsed results. You should not rely on any particular element being present.\"\n",
    "\n",
    "For example, our feed is RSS 2.0. One of the elements available in this version is the published date. Another is contributors."
   ]
  },
  {
   "cell_type": "code",
   "execution_count": 13,
   "metadata": {},
   "outputs": [
    {
     "data": {
      "text/plain": [
       "'Thu, 10 Sep 2020 11:46:06 +0000'"
      ]
     },
     "execution_count": 13,
     "metadata": {},
     "output_type": "execute_result"
    }
   ],
   "source": [
    "feed.feed.published"
   ]
  },
  {
   "cell_type": "code",
   "execution_count": 14,
   "metadata": {
    "collapsed": true
   },
   "outputs": [
    {
     "ename": "AttributeError",
     "evalue": "object has no attribute 'contributors'",
     "output_type": "error",
     "traceback": [
      "\u001b[1;31m---------------------------------------------------------------------------\u001b[0m",
      "\u001b[1;31mKeyError\u001b[0m                                  Traceback (most recent call last)",
      "\u001b[1;32m~\\anaconda3\\envs\\python3_7\\lib\\site-packages\\feedparser.py\u001b[0m in \u001b[0;36m__getattr__\u001b[1;34m(self, key)\u001b[0m\n\u001b[0;32m    397\u001b[0m         \u001b[1;32mtry\u001b[0m\u001b[1;33m:\u001b[0m\u001b[1;33m\u001b[0m\u001b[1;33m\u001b[0m\u001b[0m\n\u001b[1;32m--> 398\u001b[1;33m             \u001b[1;32mreturn\u001b[0m \u001b[0mself\u001b[0m\u001b[1;33m.\u001b[0m\u001b[0m__getitem__\u001b[0m\u001b[1;33m(\u001b[0m\u001b[0mkey\u001b[0m\u001b[1;33m)\u001b[0m\u001b[1;33m\u001b[0m\u001b[1;33m\u001b[0m\u001b[0m\n\u001b[0m\u001b[0;32m    399\u001b[0m         \u001b[1;32mexcept\u001b[0m \u001b[0mKeyError\u001b[0m\u001b[1;33m:\u001b[0m\u001b[1;33m\u001b[0m\u001b[1;33m\u001b[0m\u001b[0m\n",
      "\u001b[1;32m~\\anaconda3\\envs\\python3_7\\lib\\site-packages\\feedparser.py\u001b[0m in \u001b[0;36m__getitem__\u001b[1;34m(self, key)\u001b[0m\n\u001b[0;32m    355\u001b[0m                 \u001b[1;32mreturn\u001b[0m \u001b[0mdict\u001b[0m\u001b[1;33m.\u001b[0m\u001b[0m__getitem__\u001b[0m\u001b[1;33m(\u001b[0m\u001b[0mself\u001b[0m\u001b[1;33m,\u001b[0m \u001b[0mrealkey\u001b[0m\u001b[1;33m)\u001b[0m\u001b[1;33m\u001b[0m\u001b[1;33m\u001b[0m\u001b[0m\n\u001b[1;32m--> 356\u001b[1;33m         \u001b[1;32mreturn\u001b[0m \u001b[0mdict\u001b[0m\u001b[1;33m.\u001b[0m\u001b[0m__getitem__\u001b[0m\u001b[1;33m(\u001b[0m\u001b[0mself\u001b[0m\u001b[1;33m,\u001b[0m \u001b[0mkey\u001b[0m\u001b[1;33m)\u001b[0m\u001b[1;33m\u001b[0m\u001b[1;33m\u001b[0m\u001b[0m\n\u001b[0m\u001b[0;32m    357\u001b[0m \u001b[1;33m\u001b[0m\u001b[0m\n",
      "\u001b[1;31mKeyError\u001b[0m: 'contributors'",
      "\nDuring handling of the above exception, another exception occurred:\n",
      "\u001b[1;31mAttributeError\u001b[0m                            Traceback (most recent call last)",
      "\u001b[1;32m<ipython-input-14-d3b81b8d240a>\u001b[0m in \u001b[0;36m<module>\u001b[1;34m\u001b[0m\n\u001b[1;32m----> 1\u001b[1;33m \u001b[0mfeed\u001b[0m\u001b[1;33m.\u001b[0m\u001b[0mfeed\u001b[0m\u001b[1;33m.\u001b[0m\u001b[0mcontributors\u001b[0m\u001b[1;33m\u001b[0m\u001b[1;33m\u001b[0m\u001b[0m\n\u001b[0m",
      "\u001b[1;32m~\\anaconda3\\envs\\python3_7\\lib\\site-packages\\feedparser.py\u001b[0m in \u001b[0;36m__getattr__\u001b[1;34m(self, key)\u001b[0m\n\u001b[0;32m    398\u001b[0m             \u001b[1;32mreturn\u001b[0m \u001b[0mself\u001b[0m\u001b[1;33m.\u001b[0m\u001b[0m__getitem__\u001b[0m\u001b[1;33m(\u001b[0m\u001b[0mkey\u001b[0m\u001b[1;33m)\u001b[0m\u001b[1;33m\u001b[0m\u001b[1;33m\u001b[0m\u001b[0m\n\u001b[0;32m    399\u001b[0m         \u001b[1;32mexcept\u001b[0m \u001b[0mKeyError\u001b[0m\u001b[1;33m:\u001b[0m\u001b[1;33m\u001b[0m\u001b[1;33m\u001b[0m\u001b[0m\n\u001b[1;32m--> 400\u001b[1;33m             \u001b[1;32mraise\u001b[0m \u001b[0mAttributeError\u001b[0m\u001b[1;33m(\u001b[0m\u001b[1;34m\"object has no attribute '%s'\"\u001b[0m \u001b[1;33m%\u001b[0m \u001b[0mkey\u001b[0m\u001b[1;33m)\u001b[0m\u001b[1;33m\u001b[0m\u001b[1;33m\u001b[0m\u001b[0m\n\u001b[0m\u001b[0;32m    401\u001b[0m \u001b[1;33m\u001b[0m\u001b[0m\n\u001b[0;32m    402\u001b[0m     \u001b[1;32mdef\u001b[0m \u001b[0m__hash__\u001b[0m\u001b[1;33m(\u001b[0m\u001b[0mself\u001b[0m\u001b[1;33m)\u001b[0m\u001b[1;33m:\u001b[0m\u001b[1;33m\u001b[0m\u001b[1;33m\u001b[0m\u001b[0m\n",
      "\u001b[1;31mAttributeError\u001b[0m: object has no attribute 'contributors'"
     ]
    }
   ],
   "source": [
    "feed.feed.contributors"
   ]
  },
  {
   "cell_type": "markdown",
   "metadata": {},
   "source": [
    "We can see from our error, our feed is not using 'contributors'.\n",
    "\n",
    "As with [standard python dictionaries](https://docs.python.org/3.5/library/stdtypes.html#dict), we can use the \"get\" method to see if a key exists. This is useful if we are writing code."
   ]
  },
  {
   "cell_type": "code",
   "execution_count": 15,
   "metadata": {},
   "outputs": [
    {
     "data": {
      "text/plain": [
       "'N/A'"
      ]
     },
     "execution_count": 15,
     "metadata": {},
     "output_type": "execute_result"
    }
   ],
   "source": [
    "feed.feed.get('contributors', 'N/A')"
   ]
  },
  {
   "cell_type": "markdown",
   "metadata": {},
   "source": [
    "### The data we are looking for are contained in the entries.\n",
    "Given the feed we are working with, how many entries do you think we have?"
   ]
  },
  {
   "cell_type": "code",
   "execution_count": 16,
   "metadata": {},
   "outputs": [
    {
     "data": {
      "text/plain": [
       "36"
      ]
     },
     "execution_count": 16,
     "metadata": {},
     "output_type": "execute_result"
    }
   ],
   "source": [
    "len(feed.entries)"
   ]
  },
  {
   "cell_type": "markdown",
   "metadata": {
    "scrolled": false
   },
   "source": [
    "The items in entries are stored as a list."
   ]
  },
  {
   "cell_type": "code",
   "execution_count": 17,
   "metadata": {},
   "outputs": [
    {
     "data": {
      "text/plain": [
       "list"
      ]
     },
     "execution_count": 17,
     "metadata": {},
     "output_type": "execute_result"
    }
   ],
   "source": [
    "type(feed.entries)"
   ]
  },
  {
   "cell_type": "code",
   "execution_count": 18,
   "metadata": {},
   "outputs": [
    {
     "data": {
      "text/plain": [
       "{'title': 'These Hummingbirds Take Extreme Naps. Some May Even Hibernate.',\n",
       " 'title_detail': {'type': 'text/plain',\n",
       "  'language': None,\n",
       "  'base': 'https://rss.nytimes.com/services/xml/rss/nyt/Science.xml',\n",
       "  'value': 'These Hummingbirds Take Extreme Naps. Some May Even Hibernate.'},\n",
       " 'links': [{'rel': 'alternate',\n",
       "   'type': 'text/html',\n",
       "   'href': 'https://www.nytimes.com/2020/09/08/science/hummingbirds-torpor-hibernation.html'},\n",
       "  {'href': 'https://www.nytimes.com/2020/09/08/science/hummingbirds-torpor-hibernation.html',\n",
       "   'rel': 'standout',\n",
       "   'type': 'text/html'}],\n",
       " 'link': 'https://www.nytimes.com/2020/09/08/science/hummingbirds-torpor-hibernation.html',\n",
       " 'id': 'https://www.nytimes.com/2020/09/08/science/hummingbirds-torpor-hibernation.html',\n",
       " 'guidislink': False,\n",
       " 'summary': 'To adapt to life in the Andes Mountains, some South American species go into exceptionally deep torpor to save energy.',\n",
       " 'summary_detail': {'type': 'text/html',\n",
       "  'language': None,\n",
       "  'base': 'https://rss.nytimes.com/services/xml/rss/nyt/Science.xml',\n",
       "  'value': 'To adapt to life in the Andes Mountains, some South American species go into exceptionally deep torpor to save energy.'},\n",
       " 'authors': [{'name': 'Veronique Greenwood'}],\n",
       " 'author': 'Veronique Greenwood',\n",
       " 'author_detail': {'name': 'Veronique Greenwood'},\n",
       " 'published': 'Tue, 08 Sep 2020 23:01:21 +0000',\n",
       " 'published_parsed': time.struct_time(tm_year=2020, tm_mon=9, tm_mday=8, tm_hour=23, tm_min=1, tm_sec=21, tm_wday=1, tm_yday=252, tm_isdst=0),\n",
       " 'tags': [{'term': 'Hummingbirds',\n",
       "   'scheme': 'http://www.nytimes.com/namespaces/keywords/des',\n",
       "   'label': None},\n",
       "  {'term': 'Hibernation',\n",
       "   'scheme': 'http://www.nytimes.com/namespaces/keywords/des',\n",
       "   'label': None},\n",
       "  {'term': 'Evolution (Biology)',\n",
       "   'scheme': 'http://www.nytimes.com/namespaces/keywords/des',\n",
       "   'label': None},\n",
       "  {'term': 'Andes Mountains',\n",
       "   'scheme': 'http://www.nytimes.com/namespaces/keywords/nyt_geo',\n",
       "   'label': None},\n",
       "  {'term': 'South America',\n",
       "   'scheme': 'http://www.nytimes.com/namespaces/keywords/nyt_geo',\n",
       "   'label': None},\n",
       "  {'term': 'Biology Letters (Journal)',\n",
       "   'scheme': 'http://www.nytimes.com/namespaces/keywords/nyt_org',\n",
       "   'label': None},\n",
       "  {'term': 'Research',\n",
       "   'scheme': 'http://www.nytimes.com/namespaces/keywords/des',\n",
       "   'label': None},\n",
       "  {'term': 'your-feed-science',\n",
       "   'scheme': 'http://www.nytimes.com/namespaces/keywords/des',\n",
       "   'label': None}],\n",
       " 'media_content': [{'height': '151',\n",
       "   'medium': 'image',\n",
       "   'url': 'https://static01.nyt.com/images/2020/09/08/science/08TB-HIBERNATINGHUMMINGBIRDS1/08TB-HIBERNATINGHUMMINGBIRDS1-moth.jpg',\n",
       "   'width': '151'}],\n",
       " 'media_credit': [{'content': 'Gabbro/Alamy'}],\n",
       " 'credit': 'Gabbro/Alamy',\n",
       " 'content': [{'type': 'text/plain',\n",
       "   'language': None,\n",
       "   'base': 'https://rss.nytimes.com/services/xml/rss/nyt/Science.xml',\n",
       "   'value': 'The sparkling violetear, one of six species of hummingbirds whose temperature and weight at night as they slept were examined by researchers in a new study.'}]}"
      ]
     },
     "execution_count": 18,
     "metadata": {},
     "output_type": "execute_result"
    }
   ],
   "source": [
    "feed.entries[0]"
   ]
  },
  {
   "cell_type": "code",
   "execution_count": null,
   "metadata": {},
   "outputs": [],
   "source": []
  },
  {
   "cell_type": "code",
   "execution_count": 51,
   "metadata": {},
   "outputs": [
    {
     "data": {
      "text/plain": [
       "'These Hummingbirds Take Extreme Naps. Some May Even Hibernate.'"
      ]
     },
     "execution_count": 51,
     "metadata": {},
     "output_type": "execute_result"
    },
    {
     "data": {
      "text/plain": [
       "'To adapt to life in the Andes Mountains, some South American species go into exceptionally deep torpor to save energy.'"
      ]
     },
     "execution_count": 51,
     "metadata": {},
     "output_type": "execute_result"
    },
    {
     "data": {
      "text/plain": [
       "'Veronique Greenwood'"
      ]
     },
     "execution_count": 51,
     "metadata": {},
     "output_type": "execute_result"
    },
    {
     "data": {
      "text/plain": [
       "'Tue, 08 Sep 2020 23:01:21 +0000'"
      ]
     },
     "execution_count": 51,
     "metadata": {},
     "output_type": "execute_result"
    }
   ],
   "source": [
    "feed.entries[0].title\n",
    "feed.entries[0].summary\n",
    "feed.entries[0].authors[0].name\n",
    "feed.entries[0].published"
   ]
  },
  {
   "cell_type": "code",
   "execution_count": 43,
   "metadata": {},
   "outputs": [
    {
     "data": {
      "text/plain": [
       "'Covid-19 News: Live Updates'"
      ]
     },
     "execution_count": 43,
     "metadata": {},
     "output_type": "execute_result"
    },
    {
     "data": {
      "text/plain": [
       "'The measure, which Democrats see as inadequate, is likely to fail.'"
      ]
     },
     "execution_count": 43,
     "metadata": {},
     "output_type": "execute_result"
    },
    {
     "data": {
      "text/plain": [
       "'unknown'"
      ]
     },
     "execution_count": 43,
     "metadata": {},
     "output_type": "execute_result"
    }
   ],
   "source": [
    "feed.entries[11].title\n",
    "feed.entries[11].summary\n",
    "#feed.entries[11].authors[0].name\n",
    "\n",
    "temp = feed.entries[11].get('authors', 'unknown')\n",
    "if temp != 'unknown':\n",
    "    author = temp[0].name\n",
    "else:\n",
    "    author = 'unknown'\n",
    "author"
   ]
  },
  {
   "cell_type": "code",
   "execution_count": null,
   "metadata": {},
   "outputs": [],
   "source": []
  },
  {
   "cell_type": "code",
   "execution_count": 40,
   "metadata": {
    "collapsed": true
   },
   "outputs": [
    {
     "name": "stdout",
     "output_type": "stream",
     "text": [
      "0 These Hummingbirds Take Extreme Naps. Some May Even Hibernate. Veronique Greenwood\n",
      "1 When These Sea Anemones Eat, It Goes Straight to Their Arms Cara Giaimo\n",
      "2 Old Male Elephants: Don’t Count Them Out Rachel Nuwer\n",
      "3 How a Praying Mantis Says ‘Boo!’ Cara Giaimo\n",
      "4 Up Is Down in This Fun Physics Experiment Kenneth Chang\n",
      "5 A Turtle With a Permanent Smile Was Brought Back From Near Extinction Rachel Nuwer\n",
      "6 These Black Holes Shouldn’t Exist, but There They Are Dennis Overbye\n",
      "7 Melting Glaciers Are Filling Unstable Lakes. And They’re Growing. Katherine Kornei\n",
      "8 DIY Coronavirus Vaccines? These Scientists Are Giving Themselves Their Own Heather Murphy\n",
      "9 Inquiry Begins Into AstraZeneca's Vaccine Trial Katherine J. Wu\n",
      "10 Wildfires Are Worsening. The Way We Manage Them Isn’t Keeping Pace. Brad Plumer and John Schwartz\n"
     ]
    },
    {
     "ename": "AttributeError",
     "evalue": "object has no attribute 'authors'",
     "output_type": "error",
     "traceback": [
      "\u001b[1;31m---------------------------------------------------------------------------\u001b[0m",
      "\u001b[1;31mKeyError\u001b[0m                                  Traceback (most recent call last)",
      "\u001b[1;32m~\\anaconda3\\envs\\python3_7\\lib\\site-packages\\feedparser.py\u001b[0m in \u001b[0;36m__getattr__\u001b[1;34m(self, key)\u001b[0m\n\u001b[0;32m    397\u001b[0m         \u001b[1;32mtry\u001b[0m\u001b[1;33m:\u001b[0m\u001b[1;33m\u001b[0m\u001b[1;33m\u001b[0m\u001b[0m\n\u001b[1;32m--> 398\u001b[1;33m             \u001b[1;32mreturn\u001b[0m \u001b[0mself\u001b[0m\u001b[1;33m.\u001b[0m\u001b[0m__getitem__\u001b[0m\u001b[1;33m(\u001b[0m\u001b[0mkey\u001b[0m\u001b[1;33m)\u001b[0m\u001b[1;33m\u001b[0m\u001b[1;33m\u001b[0m\u001b[0m\n\u001b[0m\u001b[0;32m    399\u001b[0m         \u001b[1;32mexcept\u001b[0m \u001b[0mKeyError\u001b[0m\u001b[1;33m:\u001b[0m\u001b[1;33m\u001b[0m\u001b[1;33m\u001b[0m\u001b[0m\n",
      "\u001b[1;32m~\\anaconda3\\envs\\python3_7\\lib\\site-packages\\feedparser.py\u001b[0m in \u001b[0;36m__getitem__\u001b[1;34m(self, key)\u001b[0m\n\u001b[0;32m    355\u001b[0m                 \u001b[1;32mreturn\u001b[0m \u001b[0mdict\u001b[0m\u001b[1;33m.\u001b[0m\u001b[0m__getitem__\u001b[0m\u001b[1;33m(\u001b[0m\u001b[0mself\u001b[0m\u001b[1;33m,\u001b[0m \u001b[0mrealkey\u001b[0m\u001b[1;33m)\u001b[0m\u001b[1;33m\u001b[0m\u001b[1;33m\u001b[0m\u001b[0m\n\u001b[1;32m--> 356\u001b[1;33m         \u001b[1;32mreturn\u001b[0m \u001b[0mdict\u001b[0m\u001b[1;33m.\u001b[0m\u001b[0m__getitem__\u001b[0m\u001b[1;33m(\u001b[0m\u001b[0mself\u001b[0m\u001b[1;33m,\u001b[0m \u001b[0mkey\u001b[0m\u001b[1;33m)\u001b[0m\u001b[1;33m\u001b[0m\u001b[1;33m\u001b[0m\u001b[0m\n\u001b[0m\u001b[0;32m    357\u001b[0m \u001b[1;33m\u001b[0m\u001b[0m\n",
      "\u001b[1;31mKeyError\u001b[0m: 'authors'",
      "\nDuring handling of the above exception, another exception occurred:\n",
      "\u001b[1;31mAttributeError\u001b[0m                            Traceback (most recent call last)",
      "\u001b[1;32m<ipython-input-40-aebbd168a23d>\u001b[0m in \u001b[0;36m<module>\u001b[1;34m\u001b[0m\n\u001b[0;32m      1\u001b[0m \u001b[0mi\u001b[0m \u001b[1;33m=\u001b[0m \u001b[1;36m0\u001b[0m\u001b[1;33m\u001b[0m\u001b[1;33m\u001b[0m\u001b[0m\n\u001b[0;32m      2\u001b[0m \u001b[1;32mfor\u001b[0m \u001b[0mentry\u001b[0m \u001b[1;32min\u001b[0m \u001b[0mfeed\u001b[0m\u001b[1;33m.\u001b[0m\u001b[0mentries\u001b[0m\u001b[1;33m:\u001b[0m\u001b[1;33m\u001b[0m\u001b[1;33m\u001b[0m\u001b[0m\n\u001b[1;32m----> 3\u001b[1;33m     \u001b[0mprint\u001b[0m\u001b[1;33m(\u001b[0m\u001b[0mi\u001b[0m\u001b[1;33m,\u001b[0m \u001b[0mentry\u001b[0m\u001b[1;33m.\u001b[0m\u001b[0mtitle\u001b[0m\u001b[1;33m,\u001b[0m \u001b[0mentry\u001b[0m\u001b[1;33m.\u001b[0m\u001b[0mauthors\u001b[0m\u001b[1;33m[\u001b[0m\u001b[1;36m0\u001b[0m\u001b[1;33m]\u001b[0m\u001b[1;33m.\u001b[0m\u001b[0mname\u001b[0m\u001b[1;33m)\u001b[0m\u001b[1;33m\u001b[0m\u001b[1;33m\u001b[0m\u001b[0m\n\u001b[0m\u001b[0;32m      4\u001b[0m     \u001b[0mi\u001b[0m \u001b[1;33m+=\u001b[0m \u001b[1;36m1\u001b[0m\u001b[1;33m\u001b[0m\u001b[1;33m\u001b[0m\u001b[0m\n",
      "\u001b[1;32m~\\anaconda3\\envs\\python3_7\\lib\\site-packages\\feedparser.py\u001b[0m in \u001b[0;36m__getattr__\u001b[1;34m(self, key)\u001b[0m\n\u001b[0;32m    398\u001b[0m             \u001b[1;32mreturn\u001b[0m \u001b[0mself\u001b[0m\u001b[1;33m.\u001b[0m\u001b[0m__getitem__\u001b[0m\u001b[1;33m(\u001b[0m\u001b[0mkey\u001b[0m\u001b[1;33m)\u001b[0m\u001b[1;33m\u001b[0m\u001b[1;33m\u001b[0m\u001b[0m\n\u001b[0;32m    399\u001b[0m         \u001b[1;32mexcept\u001b[0m \u001b[0mKeyError\u001b[0m\u001b[1;33m:\u001b[0m\u001b[1;33m\u001b[0m\u001b[1;33m\u001b[0m\u001b[0m\n\u001b[1;32m--> 400\u001b[1;33m             \u001b[1;32mraise\u001b[0m \u001b[0mAttributeError\u001b[0m\u001b[1;33m(\u001b[0m\u001b[1;34m\"object has no attribute '%s'\"\u001b[0m \u001b[1;33m%\u001b[0m \u001b[0mkey\u001b[0m\u001b[1;33m)\u001b[0m\u001b[1;33m\u001b[0m\u001b[1;33m\u001b[0m\u001b[0m\n\u001b[0m\u001b[0;32m    401\u001b[0m \u001b[1;33m\u001b[0m\u001b[0m\n\u001b[0;32m    402\u001b[0m     \u001b[1;32mdef\u001b[0m \u001b[0m__hash__\u001b[0m\u001b[1;33m(\u001b[0m\u001b[0mself\u001b[0m\u001b[1;33m)\u001b[0m\u001b[1;33m:\u001b[0m\u001b[1;33m\u001b[0m\u001b[1;33m\u001b[0m\u001b[0m\n",
      "\u001b[1;31mAttributeError\u001b[0m: object has no attribute 'authors'"
     ]
    }
   ],
   "source": [
    "i = 0\n",
    "for entry in feed.entries:\n",
    "    print(i, entry.title, entry.authors[0].name)\n",
    "    i += 1"
   ]
  },
  {
   "cell_type": "markdown",
   "metadata": {},
   "source": [
    "### Given that information, what is something we can do with this data? Why not make it a dataframe?"
   ]
  },
  {
   "cell_type": "code",
   "execution_count": 21,
   "metadata": {},
   "outputs": [],
   "source": [
    "df = pd.DataFrame(feed.entries)"
   ]
  },
  {
   "cell_type": "code",
   "execution_count": 22,
   "metadata": {},
   "outputs": [
    {
     "data": {
      "text/plain": [
       "Index(['title', 'title_detail', 'links', 'link', 'id', 'guidislink', 'summary',\n",
       "       'summary_detail', 'authors', 'author', 'author_detail', 'published',\n",
       "       'published_parsed', 'tags', 'media_content', 'media_credit', 'credit',\n",
       "       'content'],\n",
       "      dtype='object')"
      ]
     },
     "execution_count": 22,
     "metadata": {},
     "output_type": "execute_result"
    },
    {
     "data": {
      "text/plain": [
       "(36, 18)"
      ]
     },
     "execution_count": 22,
     "metadata": {},
     "output_type": "execute_result"
    }
   ],
   "source": [
    "df.columns\n",
    "df.shape"
   ]
  },
  {
   "cell_type": "code",
   "execution_count": 23,
   "metadata": {
    "scrolled": false
   },
   "outputs": [
    {
     "data": {
      "text/html": [
       "<div>\n",
       "<style scoped>\n",
       "    .dataframe tbody tr th:only-of-type {\n",
       "        vertical-align: middle;\n",
       "    }\n",
       "\n",
       "    .dataframe tbody tr th {\n",
       "        vertical-align: top;\n",
       "    }\n",
       "\n",
       "    .dataframe thead th {\n",
       "        text-align: right;\n",
       "    }\n",
       "</style>\n",
       "<table border=\"1\" class=\"dataframe\">\n",
       "  <thead>\n",
       "    <tr style=\"text-align: right;\">\n",
       "      <th></th>\n",
       "      <th>title</th>\n",
       "      <th>title_detail</th>\n",
       "      <th>links</th>\n",
       "      <th>link</th>\n",
       "      <th>id</th>\n",
       "      <th>guidislink</th>\n",
       "      <th>summary</th>\n",
       "      <th>summary_detail</th>\n",
       "      <th>authors</th>\n",
       "      <th>author</th>\n",
       "      <th>author_detail</th>\n",
       "      <th>published</th>\n",
       "      <th>published_parsed</th>\n",
       "      <th>tags</th>\n",
       "      <th>media_content</th>\n",
       "      <th>media_credit</th>\n",
       "      <th>credit</th>\n",
       "      <th>content</th>\n",
       "    </tr>\n",
       "  </thead>\n",
       "  <tbody>\n",
       "    <tr>\n",
       "      <th>0</th>\n",
       "      <td>These Hummingbirds Take Extreme Naps. Some May...</td>\n",
       "      <td>{'type': 'text/plain', 'language': None, 'base...</td>\n",
       "      <td>[{'rel': 'alternate', 'type': 'text/html', 'hr...</td>\n",
       "      <td>https://www.nytimes.com/2020/09/08/science/hum...</td>\n",
       "      <td>https://www.nytimes.com/2020/09/08/science/hum...</td>\n",
       "      <td>False</td>\n",
       "      <td>To adapt to life in the Andes Mountains, some ...</td>\n",
       "      <td>{'type': 'text/html', 'language': None, 'base'...</td>\n",
       "      <td>[{'name': 'Veronique Greenwood'}]</td>\n",
       "      <td>Veronique Greenwood</td>\n",
       "      <td>{'name': 'Veronique Greenwood'}</td>\n",
       "      <td>Tue, 08 Sep 2020 23:01:21 +0000</td>\n",
       "      <td>(2020, 9, 8, 23, 1, 21, 1, 252, 0)</td>\n",
       "      <td>[{'term': 'Hummingbirds', 'scheme': 'http://ww...</td>\n",
       "      <td>[{'height': '151', 'medium': 'image', 'url': '...</td>\n",
       "      <td>[{'content': 'Gabbro/Alamy'}]</td>\n",
       "      <td>Gabbro/Alamy</td>\n",
       "      <td>[{'type': 'text/plain', 'language': None, 'bas...</td>\n",
       "    </tr>\n",
       "    <tr>\n",
       "      <th>1</th>\n",
       "      <td>When These Sea Anemones Eat, It Goes Straight ...</td>\n",
       "      <td>{'type': 'text/plain', 'language': None, 'base...</td>\n",
       "      <td>[{'rel': 'alternate', 'type': 'text/html', 'hr...</td>\n",
       "      <td>https://www.nytimes.com/2020/09/05/science/sea...</td>\n",
       "      <td>https://www.nytimes.com/2020/09/05/science/sea...</td>\n",
       "      <td>False</td>\n",
       "      <td>They’re the first animals known to turn food i...</td>\n",
       "      <td>{'type': 'text/html', 'language': None, 'base'...</td>\n",
       "      <td>[{'name': 'Cara Giaimo'}]</td>\n",
       "      <td>Cara Giaimo</td>\n",
       "      <td>{'name': 'Cara Giaimo'}</td>\n",
       "      <td>Sat, 05 Sep 2020 20:39:36 +0000</td>\n",
       "      <td>(2020, 9, 5, 20, 39, 36, 5, 249, 0)</td>\n",
       "      <td>[{'term': 'Fish and Other Marine Life', 'schem...</td>\n",
       "      <td>[{'height': '151', 'medium': 'image', 'url': '...</td>\n",
       "      <td>[{'content': 'Anniek Stokkermans/Embl'}]</td>\n",
       "      <td>Anniek Stokkermans/Embl</td>\n",
       "      <td>[{'type': 'text/plain', 'language': None, 'bas...</td>\n",
       "    </tr>\n",
       "    <tr>\n",
       "      <th>2</th>\n",
       "      <td>Old Male Elephants: Don’t Count Them Out</td>\n",
       "      <td>{'type': 'text/plain', 'language': None, 'base...</td>\n",
       "      <td>[{'rel': 'alternate', 'type': 'text/html', 'hr...</td>\n",
       "      <td>https://www.nytimes.com/2020/09/04/science/mal...</td>\n",
       "      <td>https://www.nytimes.com/2020/09/04/science/mal...</td>\n",
       "      <td>False</td>\n",
       "      <td>New research challenges the assumption that bu...</td>\n",
       "      <td>{'type': 'text/html', 'language': None, 'base'...</td>\n",
       "      <td>[{'name': 'Rachel Nuwer'}]</td>\n",
       "      <td>Rachel Nuwer</td>\n",
       "      <td>{'name': 'Rachel Nuwer'}</td>\n",
       "      <td>Fri, 04 Sep 2020 21:41:57 +0000</td>\n",
       "      <td>(2020, 9, 4, 21, 41, 57, 4, 248, 0)</td>\n",
       "      <td>[{'term': 'Elephants', 'scheme': 'http://www.n...</td>\n",
       "      <td>[{'height': '151', 'medium': 'image', 'url': '...</td>\n",
       "      <td>[{'content': 'Connie Allen'}]</td>\n",
       "      <td>Connie Allen</td>\n",
       "      <td>[{'type': 'text/plain', 'language': None, 'bas...</td>\n",
       "    </tr>\n",
       "    <tr>\n",
       "      <th>3</th>\n",
       "      <td>How a Praying Mantis Says ‘Boo!’</td>\n",
       "      <td>{'type': 'text/plain', 'language': None, 'base...</td>\n",
       "      <td>[{'rel': 'alternate', 'type': 'text/html', 'hr...</td>\n",
       "      <td>https://www.nytimes.com/2020/09/03/science/pra...</td>\n",
       "      <td>https://www.nytimes.com/2020/09/03/science/pra...</td>\n",
       "      <td>False</td>\n",
       "      <td>A study of startle displays hints at why provo...</td>\n",
       "      <td>{'type': 'text/html', 'language': None, 'base'...</td>\n",
       "      <td>[{'name': 'Cara Giaimo'}]</td>\n",
       "      <td>Cara Giaimo</td>\n",
       "      <td>{'name': 'Cara Giaimo'}</td>\n",
       "      <td>Thu, 03 Sep 2020 16:11:00 +0000</td>\n",
       "      <td>(2020, 9, 3, 16, 11, 0, 3, 247, 0)</td>\n",
       "      <td>[{'term': 'Praying Mantis', 'scheme': 'http://...</td>\n",
       "      <td>[{'height': '151', 'medium': 'image', 'url': '...</td>\n",
       "      <td>[{'content': 'Dave Hunt/Alamy'}]</td>\n",
       "      <td>Dave Hunt/Alamy</td>\n",
       "      <td>[{'type': 'text/html', 'language': None, 'base...</td>\n",
       "    </tr>\n",
       "    <tr>\n",
       "      <th>4</th>\n",
       "      <td>Up Is Down in This Fun Physics Experiment</td>\n",
       "      <td>{'type': 'text/plain', 'language': None, 'base...</td>\n",
       "      <td>[{'rel': 'alternate', 'type': 'text/html', 'hr...</td>\n",
       "      <td>https://www.nytimes.com/2020/09/03/science/flo...</td>\n",
       "      <td>https://www.nytimes.com/2020/09/03/science/flo...</td>\n",
       "      <td>False</td>\n",
       "      <td>The liquid levitates, and a boat floats along ...</td>\n",
       "      <td>{'type': 'text/html', 'language': None, 'base'...</td>\n",
       "      <td>[{'name': 'Kenneth Chang'}]</td>\n",
       "      <td>Kenneth Chang</td>\n",
       "      <td>{'name': 'Kenneth Chang'}</td>\n",
       "      <td>Fri, 04 Sep 2020 02:26:21 +0000</td>\n",
       "      <td>(2020, 9, 4, 2, 26, 21, 4, 248, 0)</td>\n",
       "      <td>[{'term': 'Physics', 'scheme': 'http://www.nyt...</td>\n",
       "      <td>NaN</td>\n",
       "      <td>NaN</td>\n",
       "      <td>NaN</td>\n",
       "      <td>NaN</td>\n",
       "    </tr>\n",
       "  </tbody>\n",
       "</table>\n",
       "</div>"
      ],
      "text/plain": [
       "                                               title  \\\n",
       "0  These Hummingbirds Take Extreme Naps. Some May...   \n",
       "1  When These Sea Anemones Eat, It Goes Straight ...   \n",
       "2           Old Male Elephants: Don’t Count Them Out   \n",
       "3                   How a Praying Mantis Says ‘Boo!’   \n",
       "4          Up Is Down in This Fun Physics Experiment   \n",
       "\n",
       "                                        title_detail  \\\n",
       "0  {'type': 'text/plain', 'language': None, 'base...   \n",
       "1  {'type': 'text/plain', 'language': None, 'base...   \n",
       "2  {'type': 'text/plain', 'language': None, 'base...   \n",
       "3  {'type': 'text/plain', 'language': None, 'base...   \n",
       "4  {'type': 'text/plain', 'language': None, 'base...   \n",
       "\n",
       "                                               links  \\\n",
       "0  [{'rel': 'alternate', 'type': 'text/html', 'hr...   \n",
       "1  [{'rel': 'alternate', 'type': 'text/html', 'hr...   \n",
       "2  [{'rel': 'alternate', 'type': 'text/html', 'hr...   \n",
       "3  [{'rel': 'alternate', 'type': 'text/html', 'hr...   \n",
       "4  [{'rel': 'alternate', 'type': 'text/html', 'hr...   \n",
       "\n",
       "                                                link  \\\n",
       "0  https://www.nytimes.com/2020/09/08/science/hum...   \n",
       "1  https://www.nytimes.com/2020/09/05/science/sea...   \n",
       "2  https://www.nytimes.com/2020/09/04/science/mal...   \n",
       "3  https://www.nytimes.com/2020/09/03/science/pra...   \n",
       "4  https://www.nytimes.com/2020/09/03/science/flo...   \n",
       "\n",
       "                                                  id  guidislink  \\\n",
       "0  https://www.nytimes.com/2020/09/08/science/hum...       False   \n",
       "1  https://www.nytimes.com/2020/09/05/science/sea...       False   \n",
       "2  https://www.nytimes.com/2020/09/04/science/mal...       False   \n",
       "3  https://www.nytimes.com/2020/09/03/science/pra...       False   \n",
       "4  https://www.nytimes.com/2020/09/03/science/flo...       False   \n",
       "\n",
       "                                             summary  \\\n",
       "0  To adapt to life in the Andes Mountains, some ...   \n",
       "1  They’re the first animals known to turn food i...   \n",
       "2  New research challenges the assumption that bu...   \n",
       "3  A study of startle displays hints at why provo...   \n",
       "4  The liquid levitates, and a boat floats along ...   \n",
       "\n",
       "                                      summary_detail  \\\n",
       "0  {'type': 'text/html', 'language': None, 'base'...   \n",
       "1  {'type': 'text/html', 'language': None, 'base'...   \n",
       "2  {'type': 'text/html', 'language': None, 'base'...   \n",
       "3  {'type': 'text/html', 'language': None, 'base'...   \n",
       "4  {'type': 'text/html', 'language': None, 'base'...   \n",
       "\n",
       "                             authors               author  \\\n",
       "0  [{'name': 'Veronique Greenwood'}]  Veronique Greenwood   \n",
       "1          [{'name': 'Cara Giaimo'}]          Cara Giaimo   \n",
       "2         [{'name': 'Rachel Nuwer'}]         Rachel Nuwer   \n",
       "3          [{'name': 'Cara Giaimo'}]          Cara Giaimo   \n",
       "4        [{'name': 'Kenneth Chang'}]        Kenneth Chang   \n",
       "\n",
       "                     author_detail                        published  \\\n",
       "0  {'name': 'Veronique Greenwood'}  Tue, 08 Sep 2020 23:01:21 +0000   \n",
       "1          {'name': 'Cara Giaimo'}  Sat, 05 Sep 2020 20:39:36 +0000   \n",
       "2         {'name': 'Rachel Nuwer'}  Fri, 04 Sep 2020 21:41:57 +0000   \n",
       "3          {'name': 'Cara Giaimo'}  Thu, 03 Sep 2020 16:11:00 +0000   \n",
       "4        {'name': 'Kenneth Chang'}  Fri, 04 Sep 2020 02:26:21 +0000   \n",
       "\n",
       "                      published_parsed  \\\n",
       "0   (2020, 9, 8, 23, 1, 21, 1, 252, 0)   \n",
       "1  (2020, 9, 5, 20, 39, 36, 5, 249, 0)   \n",
       "2  (2020, 9, 4, 21, 41, 57, 4, 248, 0)   \n",
       "3   (2020, 9, 3, 16, 11, 0, 3, 247, 0)   \n",
       "4   (2020, 9, 4, 2, 26, 21, 4, 248, 0)   \n",
       "\n",
       "                                                tags  \\\n",
       "0  [{'term': 'Hummingbirds', 'scheme': 'http://ww...   \n",
       "1  [{'term': 'Fish and Other Marine Life', 'schem...   \n",
       "2  [{'term': 'Elephants', 'scheme': 'http://www.n...   \n",
       "3  [{'term': 'Praying Mantis', 'scheme': 'http://...   \n",
       "4  [{'term': 'Physics', 'scheme': 'http://www.nyt...   \n",
       "\n",
       "                                       media_content  \\\n",
       "0  [{'height': '151', 'medium': 'image', 'url': '...   \n",
       "1  [{'height': '151', 'medium': 'image', 'url': '...   \n",
       "2  [{'height': '151', 'medium': 'image', 'url': '...   \n",
       "3  [{'height': '151', 'medium': 'image', 'url': '...   \n",
       "4                                                NaN   \n",
       "\n",
       "                               media_credit                   credit  \\\n",
       "0             [{'content': 'Gabbro/Alamy'}]             Gabbro/Alamy   \n",
       "1  [{'content': 'Anniek Stokkermans/Embl'}]  Anniek Stokkermans/Embl   \n",
       "2             [{'content': 'Connie Allen'}]             Connie Allen   \n",
       "3          [{'content': 'Dave Hunt/Alamy'}]          Dave Hunt/Alamy   \n",
       "4                                       NaN                      NaN   \n",
       "\n",
       "                                             content  \n",
       "0  [{'type': 'text/plain', 'language': None, 'bas...  \n",
       "1  [{'type': 'text/plain', 'language': None, 'bas...  \n",
       "2  [{'type': 'text/plain', 'language': None, 'bas...  \n",
       "3  [{'type': 'text/html', 'language': None, 'base...  \n",
       "4                                                NaN  "
      ]
     },
     "execution_count": 23,
     "metadata": {},
     "output_type": "execute_result"
    }
   ],
   "source": [
    "df.head()"
   ]
  },
  {
   "cell_type": "code",
   "execution_count": null,
   "metadata": {},
   "outputs": [],
   "source": []
  },
  {
   "cell_type": "markdown",
   "metadata": {},
   "source": [
    "### Challenge\n",
    "##### next paragraph is from original notebook, which used a feed no longer available\n",
    "write code to create a dataframe of the top 10 movies from the Netflix Top 100 DVDs and iTunes. Check to see if your feed is well formed. Compile the name of the feed as the souce, the published date, the movie ranking in the list, the movie title, a link to the movie, and the summary. If the published date does not exist in the feed, use the current date. Save your dataframe as a csv. Here is a link to one [possible solution](./rss_challenge.py).   \n",
    "   \n",
    "##### this paragraph is what will be done with working feed in this notebook\n",
    "For csv file, want these columns: feed date, article date, NYTimes section, title, author, link, summary"
   ]
  },
  {
   "cell_type": "markdown",
   "metadata": {},
   "source": [
    "##### figure out how to get individual data values"
   ]
  },
  {
   "cell_type": "code",
   "execution_count": null,
   "metadata": {},
   "outputs": [],
   "source": [
    "print(feed.feed.title)\n",
    "print(feed.feed.link)\n",
    "print(feed.feed.links[1].href)\n",
    "print(feed.feed.updated)"
   ]
  },
  {
   "cell_type": "code",
   "execution_count": 30,
   "metadata": {},
   "outputs": [
    {
     "data": {
      "text/plain": [
       "'NY Times Science'"
      ]
     },
     "execution_count": 30,
     "metadata": {},
     "output_type": "execute_result"
    }
   ],
   "source": [
    "section = feed.feed.title.replace('NYT' , 'NY Times').replace(' >', '')\n",
    "section"
   ]
  },
  {
   "cell_type": "code",
   "execution_count": 31,
   "metadata": {},
   "outputs": [
    {
     "data": {
      "text/plain": [
       "'Thu, 10 Sep 2020 11:46:06 +0000'"
      ]
     },
     "execution_count": 31,
     "metadata": {},
     "output_type": "execute_result"
    }
   ],
   "source": [
    "date = feed.feed.updated\n",
    "date"
   ]
  },
  {
   "cell_type": "code",
   "execution_count": 53,
   "metadata": {},
   "outputs": [
    {
     "data": {
      "text/plain": [
       "'Tue, 08 Sep 2020 23:01:21 +0000'"
      ]
     },
     "execution_count": 53,
     "metadata": {},
     "output_type": "execute_result"
    },
    {
     "data": {
      "text/plain": [
       "'These Hummingbirds Take Extreme Naps. Some May Even Hibernate.'"
      ]
     },
     "execution_count": 53,
     "metadata": {},
     "output_type": "execute_result"
    },
    {
     "data": {
      "text/plain": [
       "'https://www.nytimes.com/2020/09/08/science/hummingbirds-torpor-hibernation.html'"
      ]
     },
     "execution_count": 53,
     "metadata": {},
     "output_type": "execute_result"
    },
    {
     "data": {
      "text/plain": [
       "'Veronique Greenwood'"
      ]
     },
     "execution_count": 53,
     "metadata": {},
     "output_type": "execute_result"
    },
    {
     "data": {
      "text/plain": [
       "'To adapt to life in the Andes Mountains, some South American species go into exceptionally deep torpor to save energy.'"
      ]
     },
     "execution_count": 53,
     "metadata": {},
     "output_type": "execute_result"
    }
   ],
   "source": [
    "published = feed.entries[0].published\n",
    "title = feed.entries[0].title\n",
    "link = feed.entries[0].link\n",
    "author = feed.entries[0].authors[0].name\n",
    "summary = feed.entries[0].summary\n",
    "published\n",
    "title\n",
    "link\n",
    "author\n",
    "summary"
   ]
  },
  {
   "cell_type": "code",
   "execution_count": null,
   "metadata": {},
   "outputs": [],
   "source": []
  },
  {
   "cell_type": "markdown",
   "metadata": {},
   "source": [
    "##### functions"
   ]
  },
  {
   "cell_type": "code",
   "execution_count": 56,
   "metadata": {},
   "outputs": [],
   "source": [
    "def make_df_from_feed(rss):\n",
    "    feed = feedparser.parse(rss)\n",
    "    \n",
    "    section = feed.feed.title.replace('NYT' , 'NY Times').replace(' >', '')\n",
    "    feed_date = feed.feed.updated\n",
    "    \n",
    "    df_cols = ['section' , 'feed date' , 'article date' , 'title' , 'link' , 'author' , 'summary']\n",
    "    df_nyt = pd.DataFrame(columns = df_cols)\n",
    "    \n",
    "    for entry in feed.entries:\n",
    "        title = entry.title\n",
    "        link = entry.link\n",
    "        summary = entry.summary\n",
    "        article_date = entry.published\n",
    "        \n",
    "        #author = entry.authors[0].name\n",
    "        author = 'unknown'\n",
    "        temp = entry.get('authors', 'N/A')\n",
    "        if temp != 'N/A':\n",
    "            author = temp[0].name\n",
    "       \n",
    "        feed_data = pd.Series([section, feed_date, article_date, title, link, author, summary], df_cols)\n",
    "        df_nyt = df_nyt.append(feed_data, ignore_index = True)   \n",
    "    \n",
    "    return df_nyt"
   ]
  },
  {
   "cell_type": "code",
   "execution_count": 49,
   "metadata": {},
   "outputs": [],
   "source": [
    "def make_csv_from_feed(rss):\n",
    "    df_nytimes = make_df_from_feed(rss)\n",
    "    \n",
    "    df_nytimes.to_csv('nytimes_science_feed.csv', index=False)\n",
    "    \n",
    "    return"
   ]
  },
  {
   "cell_type": "code",
   "execution_count": null,
   "metadata": {},
   "outputs": [],
   "source": []
  },
  {
   "cell_type": "markdown",
   "metadata": {},
   "source": [
    "##### DO IT"
   ]
  },
  {
   "cell_type": "code",
   "execution_count": 57,
   "metadata": {},
   "outputs": [],
   "source": [
    "RSS_URL = \"https://rss.nytimes.com/services/xml/rss/nyt/Science.xml\"\n",
    "\n",
    "dt_nytimes = make_df_from_feed(RSS_URL)"
   ]
  },
  {
   "cell_type": "code",
   "execution_count": 58,
   "metadata": {},
   "outputs": [
    {
     "data": {
      "text/plain": [
       "(36, 7)"
      ]
     },
     "execution_count": 58,
     "metadata": {},
     "output_type": "execute_result"
    },
    {
     "data": {
      "text/plain": [
       "Index(['section', 'feed date', 'article date', 'title', 'link', 'author',\n",
       "       'summary'],\n",
       "      dtype='object')"
      ]
     },
     "execution_count": 58,
     "metadata": {},
     "output_type": "execute_result"
    },
    {
     "data": {
      "text/html": [
       "<div>\n",
       "<style scoped>\n",
       "    .dataframe tbody tr th:only-of-type {\n",
       "        vertical-align: middle;\n",
       "    }\n",
       "\n",
       "    .dataframe tbody tr th {\n",
       "        vertical-align: top;\n",
       "    }\n",
       "\n",
       "    .dataframe thead th {\n",
       "        text-align: right;\n",
       "    }\n",
       "</style>\n",
       "<table border=\"1\" class=\"dataframe\">\n",
       "  <thead>\n",
       "    <tr style=\"text-align: right;\">\n",
       "      <th></th>\n",
       "      <th>section</th>\n",
       "      <th>feed date</th>\n",
       "      <th>article date</th>\n",
       "      <th>title</th>\n",
       "      <th>link</th>\n",
       "      <th>author</th>\n",
       "      <th>summary</th>\n",
       "    </tr>\n",
       "  </thead>\n",
       "  <tbody>\n",
       "    <tr>\n",
       "      <th>0</th>\n",
       "      <td>NY Times Science</td>\n",
       "      <td>Thu, 10 Sep 2020 14:03:54 +0000</td>\n",
       "      <td>Tue, 08 Sep 2020 23:01:22 +0000</td>\n",
       "      <td>These Hummingbirds Take Extreme Naps. Some May...</td>\n",
       "      <td>https://www.nytimes.com/2020/09/08/science/hum...</td>\n",
       "      <td>Veronique Greenwood</td>\n",
       "      <td>To adapt to life in the Andes Mountains, some ...</td>\n",
       "    </tr>\n",
       "    <tr>\n",
       "      <th>1</th>\n",
       "      <td>NY Times Science</td>\n",
       "      <td>Thu, 10 Sep 2020 14:03:54 +0000</td>\n",
       "      <td>Sat, 05 Sep 2020 20:39:36 +0000</td>\n",
       "      <td>When These Sea Anemones Eat, It Goes Straight ...</td>\n",
       "      <td>https://www.nytimes.com/2020/09/05/science/sea...</td>\n",
       "      <td>Cara Giaimo</td>\n",
       "      <td>They’re the first animals known to turn food i...</td>\n",
       "    </tr>\n",
       "    <tr>\n",
       "      <th>2</th>\n",
       "      <td>NY Times Science</td>\n",
       "      <td>Thu, 10 Sep 2020 14:03:54 +0000</td>\n",
       "      <td>Fri, 04 Sep 2020 21:41:57 +0000</td>\n",
       "      <td>Old Male Elephants: Don’t Count Them Out</td>\n",
       "      <td>https://www.nytimes.com/2020/09/04/science/mal...</td>\n",
       "      <td>Rachel Nuwer</td>\n",
       "      <td>New research challenges the assumption that bu...</td>\n",
       "    </tr>\n",
       "    <tr>\n",
       "      <th>3</th>\n",
       "      <td>NY Times Science</td>\n",
       "      <td>Thu, 10 Sep 2020 14:03:54 +0000</td>\n",
       "      <td>Thu, 03 Sep 2020 16:11:00 +0000</td>\n",
       "      <td>How a Praying Mantis Says ‘Boo!’</td>\n",
       "      <td>https://www.nytimes.com/2020/09/03/science/pra...</td>\n",
       "      <td>Cara Giaimo</td>\n",
       "      <td>A study of startle displays hints at why provo...</td>\n",
       "    </tr>\n",
       "    <tr>\n",
       "      <th>4</th>\n",
       "      <td>NY Times Science</td>\n",
       "      <td>Thu, 10 Sep 2020 14:03:54 +0000</td>\n",
       "      <td>Fri, 04 Sep 2020 02:26:21 +0000</td>\n",
       "      <td>Up Is Down in This Fun Physics Experiment</td>\n",
       "      <td>https://www.nytimes.com/2020/09/03/science/flo...</td>\n",
       "      <td>Kenneth Chang</td>\n",
       "      <td>The liquid levitates, and a boat floats along ...</td>\n",
       "    </tr>\n",
       "    <tr>\n",
       "      <th>5</th>\n",
       "      <td>NY Times Science</td>\n",
       "      <td>Thu, 10 Sep 2020 14:03:54 +0000</td>\n",
       "      <td>Thu, 03 Sep 2020 09:00:30 +0000</td>\n",
       "      <td>A Turtle With a Permanent Smile Was Brought Ba...</td>\n",
       "      <td>https://www.nytimes.com/2020/09/03/science/bur...</td>\n",
       "      <td>Rachel Nuwer</td>\n",
       "      <td>Scientists have rebuilt the population of Burm...</td>\n",
       "    </tr>\n",
       "    <tr>\n",
       "      <th>6</th>\n",
       "      <td>NY Times Science</td>\n",
       "      <td>Thu, 10 Sep 2020 14:03:54 +0000</td>\n",
       "      <td>Thu, 03 Sep 2020 19:35:40 +0000</td>\n",
       "      <td>These Black Holes Shouldn’t Exist, but There T...</td>\n",
       "      <td>https://www.nytimes.com/2020/09/02/science/bla...</td>\n",
       "      <td>Dennis Overbye</td>\n",
       "      <td>On the far side of the universe, a collision o...</td>\n",
       "    </tr>\n",
       "    <tr>\n",
       "      <th>7</th>\n",
       "      <td>NY Times Science</td>\n",
       "      <td>Thu, 10 Sep 2020 14:03:54 +0000</td>\n",
       "      <td>Wed, 02 Sep 2020 09:00:32 +0000</td>\n",
       "      <td>Melting Glaciers Are Filling Unstable Lakes. A...</td>\n",
       "      <td>https://www.nytimes.com/2020/09/02/science/glo...</td>\n",
       "      <td>Katherine Kornei</td>\n",
       "      <td>A census of the world’s glacial lakes shows th...</td>\n",
       "    </tr>\n",
       "    <tr>\n",
       "      <th>8</th>\n",
       "      <td>NY Times Science</td>\n",
       "      <td>Thu, 10 Sep 2020 14:03:54 +0000</td>\n",
       "      <td>Tue, 08 Sep 2020 22:39:46 +0000</td>\n",
       "      <td>DIY Coronavirus Vaccines? These Scientists Are...</td>\n",
       "      <td>https://www.nytimes.com/2020/09/01/science/cov...</td>\n",
       "      <td>Heather Murphy</td>\n",
       "      <td>Impatient for a coronavirus vaccine, dozens of...</td>\n",
       "    </tr>\n",
       "    <tr>\n",
       "      <th>9</th>\n",
       "      <td>NY Times Science</td>\n",
       "      <td>Thu, 10 Sep 2020 14:03:54 +0000</td>\n",
       "      <td>Thu, 10 Sep 2020 13:50:09 +0000</td>\n",
       "      <td>Inquiry Begins Into AstraZeneca's Coronavirus ...</td>\n",
       "      <td>https://www.nytimes.com/2020/09/10/health/covi...</td>\n",
       "      <td>Katherine J. Wu</td>\n",
       "      <td>A participant in the company’s late-stage coro...</td>\n",
       "    </tr>\n",
       "    <tr>\n",
       "      <th>10</th>\n",
       "      <td>NY Times Science</td>\n",
       "      <td>Thu, 10 Sep 2020 14:03:54 +0000</td>\n",
       "      <td>Thu, 10 Sep 2020 12:14:25 +0000</td>\n",
       "      <td>Wildfires Are Worsening. The Way We Manage The...</td>\n",
       "      <td>https://www.nytimes.com/2020/09/10/climate/wil...</td>\n",
       "      <td>Brad Plumer and John Schwartz</td>\n",
       "      <td>The blazes scorching the West highlight the ur...</td>\n",
       "    </tr>\n",
       "    <tr>\n",
       "      <th>11</th>\n",
       "      <td>NY Times Science</td>\n",
       "      <td>Thu, 10 Sep 2020 14:03:54 +0000</td>\n",
       "      <td>Thu, 10 Sep 2020 12:41:54 +0000</td>\n",
       "      <td>Covid-19 News: Live Updates</td>\n",
       "      <td>https://www.nytimes.com/2020/09/10/world/covid...</td>\n",
       "      <td>unknown</td>\n",
       "      <td>The measure, which Democrats see as inadequate...</td>\n",
       "    </tr>\n",
       "    <tr>\n",
       "      <th>12</th>\n",
       "      <td>NY Times Science</td>\n",
       "      <td>Thu, 10 Sep 2020 14:03:54 +0000</td>\n",
       "      <td>Wed, 09 Sep 2020 21:16:22 +0000</td>\n",
       "      <td>How the Coronavirus Attacks the Brain</td>\n",
       "      <td>https://www.nytimes.com/2020/09/09/health/coro...</td>\n",
       "      <td>Apoorva Mandavilli</td>\n",
       "      <td>It’s not just the lungs — the pathogen may ent...</td>\n",
       "    </tr>\n",
       "    <tr>\n",
       "      <th>13</th>\n",
       "      <td>NY Times Science</td>\n",
       "      <td>Thu, 10 Sep 2020 14:03:54 +0000</td>\n",
       "      <td>Wed, 09 Sep 2020 10:00:08 +0000</td>\n",
       "      <td>Meet the New Caregiver: Your Home</td>\n",
       "      <td>https://www.nytimes.com/2020/09/09/realestate/...</td>\n",
       "      <td>Debra Kamin</td>\n",
       "      <td>New technology is allowing homeowners who can ...</td>\n",
       "    </tr>\n",
       "    <tr>\n",
       "      <th>14</th>\n",
       "      <td>NY Times Science</td>\n",
       "      <td>Thu, 10 Sep 2020 14:03:54 +0000</td>\n",
       "      <td>Thu, 10 Sep 2020 11:55:02 +0000</td>\n",
       "      <td>N.I.H. Director Undercuts Trump’s Comments on ...</td>\n",
       "      <td>https://www.nytimes.com/2020/09/09/world/covid...</td>\n",
       "      <td>unknown</td>\n",
       "      <td>The director, Dr. Francis Collins, took issue ...</td>\n",
       "    </tr>\n",
       "    <tr>\n",
       "      <th>15</th>\n",
       "      <td>NY Times Science</td>\n",
       "      <td>Thu, 10 Sep 2020 14:03:54 +0000</td>\n",
       "      <td>Thu, 10 Sep 2020 12:24:56 +0000</td>\n",
       "      <td>AstraZeneca Pauses Vaccine Trial for Safety Re...</td>\n",
       "      <td>https://www.nytimes.com/2020/09/08/health/coro...</td>\n",
       "      <td>Katherine J. Wu and Katie Thomas</td>\n",
       "      <td>The company halted late-stage trials of its co...</td>\n",
       "    </tr>\n",
       "    <tr>\n",
       "      <th>16</th>\n",
       "      <td>NY Times Science</td>\n",
       "      <td>Thu, 10 Sep 2020 14:03:54 +0000</td>\n",
       "      <td>Wed, 09 Sep 2020 21:21:48 +0000</td>\n",
       "      <td>Federal Report Warns of Financial Havoc From C...</td>\n",
       "      <td>https://www.nytimes.com/2020/09/08/climate/cli...</td>\n",
       "      <td>Coral Davenport and Jeanna Smialek</td>\n",
       "      <td>A report commissioned by President Trump’s Com...</td>\n",
       "    </tr>\n",
       "    <tr>\n",
       "      <th>17</th>\n",
       "      <td>NY Times Science</td>\n",
       "      <td>Thu, 10 Sep 2020 14:03:54 +0000</td>\n",
       "      <td>Thu, 10 Sep 2020 00:40:06 +0000</td>\n",
       "      <td>The Climate Connection to California’s Wildfires</td>\n",
       "      <td>https://www.nytimes.com/2020/09/08/climate/cal...</td>\n",
       "      <td>The New York Times</td>\n",
       "      <td>As fires spread through California during a gl...</td>\n",
       "    </tr>\n",
       "    <tr>\n",
       "      <th>18</th>\n",
       "      <td>NY Times Science</td>\n",
       "      <td>Thu, 10 Sep 2020 14:03:54 +0000</td>\n",
       "      <td>Tue, 08 Sep 2020 16:01:19 +0000</td>\n",
       "      <td>A New Theory Asks: Could a Mask Be a Crude ‘Va...</td>\n",
       "      <td>https://www.nytimes.com/2020/09/08/health/covi...</td>\n",
       "      <td>Katherine J. Wu</td>\n",
       "      <td>Scientists float a provocative — and unproven ...</td>\n",
       "    </tr>\n",
       "    <tr>\n",
       "      <th>19</th>\n",
       "      <td>NY Times Science</td>\n",
       "      <td>Thu, 10 Sep 2020 14:03:54 +0000</td>\n",
       "      <td>Thu, 10 Sep 2020 11:55:59 +0000</td>\n",
       "      <td>Drugmaker Pauses Covid-19 Vaccine Trial for Sa...</td>\n",
       "      <td>https://www.nytimes.com/2020/09/08/world/covid...</td>\n",
       "      <td>unknown</td>\n",
       "      <td>Britain is expected to limit most social gathe...</td>\n",
       "    </tr>\n",
       "    <tr>\n",
       "      <th>20</th>\n",
       "      <td>NY Times Science</td>\n",
       "      <td>Thu, 10 Sep 2020 14:03:54 +0000</td>\n",
       "      <td>Tue, 08 Sep 2020 18:07:21 +0000</td>\n",
       "      <td>How the Aging Immune System Makes Older People...</td>\n",
       "      <td>https://www.nytimes.com/2020/09/08/health/covi...</td>\n",
       "      <td>Veronique Greenwood</td>\n",
       "      <td>As we age, the immune system begins to shift i...</td>\n",
       "    </tr>\n",
       "    <tr>\n",
       "      <th>21</th>\n",
       "      <td>NY Times Science</td>\n",
       "      <td>Thu, 10 Sep 2020 14:03:54 +0000</td>\n",
       "      <td>Mon, 07 Sep 2020 21:00:08 +0000</td>\n",
       "      <td>For Long-Haulers, Covid-19 Takes a Toll on Min...</td>\n",
       "      <td>https://www.nytimes.com/2020/09/07/health/coro...</td>\n",
       "      <td>Emma Goldberg</td>\n",
       "      <td>“It makes you depressed, anxious that it’s nev...</td>\n",
       "    </tr>\n",
       "    <tr>\n",
       "      <th>22</th>\n",
       "      <td>NY Times Science</td>\n",
       "      <td>Thu, 10 Sep 2020 14:03:54 +0000</td>\n",
       "      <td>Tue, 08 Sep 2020 11:53:47 +0000</td>\n",
       "      <td>Parties and Covid-19 Outbreaks Threaten Univer...</td>\n",
       "      <td>https://www.nytimes.com/2020/09/07/world/covid...</td>\n",
       "      <td>unknown</td>\n",
       "      <td>Xi Jinping declared success in suppressing Chi...</td>\n",
       "    </tr>\n",
       "    <tr>\n",
       "      <th>23</th>\n",
       "      <td>NY Times Science</td>\n",
       "      <td>Thu, 10 Sep 2020 14:03:54 +0000</td>\n",
       "      <td>Mon, 07 Sep 2020 11:37:15 +0000</td>\n",
       "      <td>Aided by Modern Ingenuity, a Taste of Ancient ...</td>\n",
       "      <td>https://www.nytimes.com/2020/09/07/world/middl...</td>\n",
       "      <td>Isabel Kershner</td>\n",
       "      <td>The harvest of the much-extolled but long-lost...</td>\n",
       "    </tr>\n",
       "    <tr>\n",
       "      <th>24</th>\n",
       "      <td>NY Times Science</td>\n",
       "      <td>Thu, 10 Sep 2020 14:03:54 +0000</td>\n",
       "      <td>Wed, 09 Sep 2020 17:04:52 +0000</td>\n",
       "      <td>New York Will Test the Dead More Often for Cor...</td>\n",
       "      <td>https://www.nytimes.com/2020/09/06/health/covi...</td>\n",
       "      <td>Katherine J. Wu</td>\n",
       "      <td>New regulations require a ramp-up in testing f...</td>\n",
       "    </tr>\n",
       "    <tr>\n",
       "      <th>25</th>\n",
       "      <td>NY Times Science</td>\n",
       "      <td>Thu, 10 Sep 2020 14:03:54 +0000</td>\n",
       "      <td>Thu, 10 Sep 2020 11:50:59 +0000</td>\n",
       "      <td>In Sign of Progress, Fewer Than 1% of New York...</td>\n",
       "      <td>https://www.nytimes.com/2020/09/06/world/covid...</td>\n",
       "      <td>unknown</td>\n",
       "      <td>The state’s share of positive tests has stayed...</td>\n",
       "    </tr>\n",
       "    <tr>\n",
       "      <th>26</th>\n",
       "      <td>NY Times Science</td>\n",
       "      <td>Thu, 10 Sep 2020 14:03:54 +0000</td>\n",
       "      <td>Tue, 08 Sep 2020 15:56:55 +0000</td>\n",
       "      <td>Daily Coronavirus Testing at Home? Many Expert...</td>\n",
       "      <td>https://www.nytimes.com/2020/09/06/health/coro...</td>\n",
       "      <td>Katherine J. Wu</td>\n",
       "      <td>The buzzy idea is impractical, critics said. A...</td>\n",
       "    </tr>\n",
       "    <tr>\n",
       "      <th>27</th>\n",
       "      <td>NY Times Science</td>\n",
       "      <td>Thu, 10 Sep 2020 14:03:54 +0000</td>\n",
       "      <td>Mon, 07 Sep 2020 01:48:03 +0000</td>\n",
       "      <td>‘Dwarf Pride’ Was Hard Won. Will a Growth Drug...</td>\n",
       "      <td>https://www.nytimes.com/2020/09/05/world/dwarf...</td>\n",
       "      <td>Serena Solomon</td>\n",
       "      <td>An experimental medication that increases heig...</td>\n",
       "    </tr>\n",
       "    <tr>\n",
       "      <th>28</th>\n",
       "      <td>NY Times Science</td>\n",
       "      <td>Thu, 10 Sep 2020 14:03:54 +0000</td>\n",
       "      <td>Thu, 10 Sep 2020 11:49:37 +0000</td>\n",
       "      <td>Northeastern University Dismisses 11 Students ...</td>\n",
       "      <td>https://www.nytimes.com/2020/09/05/world/coron...</td>\n",
       "      <td>unknown</td>\n",
       "      <td>The U.N. warns of looming famines connected to...</td>\n",
       "    </tr>\n",
       "    <tr>\n",
       "      <th>29</th>\n",
       "      <td>NY Times Science</td>\n",
       "      <td>Thu, 10 Sep 2020 14:03:54 +0000</td>\n",
       "      <td>Sat, 05 Sep 2020 01:44:51 +0000</td>\n",
       "      <td>Pharma Companies Plan Joint Pledge on Vaccine ...</td>\n",
       "      <td>https://www.nytimes.com/2020/09/04/science/cov...</td>\n",
       "      <td>Katie Thomas, Noah Weiland and Sharon LaFraniere</td>\n",
       "      <td>The statement is meant to reassure the public ...</td>\n",
       "    </tr>\n",
       "    <tr>\n",
       "      <th>30</th>\n",
       "      <td>NY Times Science</td>\n",
       "      <td>Thu, 10 Sep 2020 14:03:54 +0000</td>\n",
       "      <td>Mon, 07 Sep 2020 01:52:25 +0000</td>\n",
       "      <td>California's Heat Wave Is Dangerously Hot This...</td>\n",
       "      <td>https://www.nytimes.com/2020/09/04/us/californ...</td>\n",
       "      <td>Jacey Fortin</td>\n",
       "      <td>Temperature records were set in parts of the W...</td>\n",
       "    </tr>\n",
       "    <tr>\n",
       "      <th>31</th>\n",
       "      <td>NY Times Science</td>\n",
       "      <td>Thu, 10 Sep 2020 14:03:54 +0000</td>\n",
       "      <td>Fri, 04 Sep 2020 19:35:33 +0000</td>\n",
       "      <td>Vaping Links to Covid Risk Are Becoming Clear</td>\n",
       "      <td>https://www.nytimes.com/2020/09/04/health/covi...</td>\n",
       "      <td>Katherine J. Wu</td>\n",
       "      <td>Researchers are starting to home in on the way...</td>\n",
       "    </tr>\n",
       "    <tr>\n",
       "      <th>32</th>\n",
       "      <td>NY Times Science</td>\n",
       "      <td>Thu, 10 Sep 2020 14:03:54 +0000</td>\n",
       "      <td>Tue, 08 Sep 2020 22:39:25 +0000</td>\n",
       "      <td>Russians Publish Early Coronavirus Vaccine Res...</td>\n",
       "      <td>https://www.nytimes.com/2020/09/04/health/russ...</td>\n",
       "      <td>Carl Zimmer</td>\n",
       "      <td>The first batch of public data from the “Sputn...</td>\n",
       "    </tr>\n",
       "    <tr>\n",
       "      <th>33</th>\n",
       "      <td>NY Times Science</td>\n",
       "      <td>Thu, 10 Sep 2020 14:03:54 +0000</td>\n",
       "      <td>Fri, 04 Sep 2020 16:41:44 +0000</td>\n",
       "      <td>Americans Back Tough Limits on Building in Fir...</td>\n",
       "      <td>https://www.nytimes.com/2020/09/04/climate/flo...</td>\n",
       "      <td>Christopher Flavelle</td>\n",
       "      <td>A majority support outright bans on constructi...</td>\n",
       "    </tr>\n",
       "    <tr>\n",
       "      <th>34</th>\n",
       "      <td>NY Times Science</td>\n",
       "      <td>Thu, 10 Sep 2020 14:03:54 +0000</td>\n",
       "      <td>Thu, 10 Sep 2020 11:52:42 +0000</td>\n",
       "      <td>Vaping Can Increase Coronavirus Hazards, Resea...</td>\n",
       "      <td>https://www.nytimes.com/2020/09/04/world/covid...</td>\n",
       "      <td>unknown</td>\n",
       "      <td>India surpassed four million coronavirus cases...</td>\n",
       "    </tr>\n",
       "    <tr>\n",
       "      <th>35</th>\n",
       "      <td>NY Times Science</td>\n",
       "      <td>Thu, 10 Sep 2020 14:03:54 +0000</td>\n",
       "      <td>Thu, 03 Sep 2020 21:29:34 +0000</td>\n",
       "      <td>Dr. Seymour Schwartz, Who Wrote the Book on Su...</td>\n",
       "      <td>https://www.nytimes.com/2020/09/03/health/dr-s...</td>\n",
       "      <td>Sam Roberts</td>\n",
       "      <td>His name is synonymous with his field: He was ...</td>\n",
       "    </tr>\n",
       "  </tbody>\n",
       "</table>\n",
       "</div>"
      ],
      "text/plain": [
       "             section                        feed date  \\\n",
       "0   NY Times Science  Thu, 10 Sep 2020 14:03:54 +0000   \n",
       "1   NY Times Science  Thu, 10 Sep 2020 14:03:54 +0000   \n",
       "2   NY Times Science  Thu, 10 Sep 2020 14:03:54 +0000   \n",
       "3   NY Times Science  Thu, 10 Sep 2020 14:03:54 +0000   \n",
       "4   NY Times Science  Thu, 10 Sep 2020 14:03:54 +0000   \n",
       "5   NY Times Science  Thu, 10 Sep 2020 14:03:54 +0000   \n",
       "6   NY Times Science  Thu, 10 Sep 2020 14:03:54 +0000   \n",
       "7   NY Times Science  Thu, 10 Sep 2020 14:03:54 +0000   \n",
       "8   NY Times Science  Thu, 10 Sep 2020 14:03:54 +0000   \n",
       "9   NY Times Science  Thu, 10 Sep 2020 14:03:54 +0000   \n",
       "10  NY Times Science  Thu, 10 Sep 2020 14:03:54 +0000   \n",
       "11  NY Times Science  Thu, 10 Sep 2020 14:03:54 +0000   \n",
       "12  NY Times Science  Thu, 10 Sep 2020 14:03:54 +0000   \n",
       "13  NY Times Science  Thu, 10 Sep 2020 14:03:54 +0000   \n",
       "14  NY Times Science  Thu, 10 Sep 2020 14:03:54 +0000   \n",
       "15  NY Times Science  Thu, 10 Sep 2020 14:03:54 +0000   \n",
       "16  NY Times Science  Thu, 10 Sep 2020 14:03:54 +0000   \n",
       "17  NY Times Science  Thu, 10 Sep 2020 14:03:54 +0000   \n",
       "18  NY Times Science  Thu, 10 Sep 2020 14:03:54 +0000   \n",
       "19  NY Times Science  Thu, 10 Sep 2020 14:03:54 +0000   \n",
       "20  NY Times Science  Thu, 10 Sep 2020 14:03:54 +0000   \n",
       "21  NY Times Science  Thu, 10 Sep 2020 14:03:54 +0000   \n",
       "22  NY Times Science  Thu, 10 Sep 2020 14:03:54 +0000   \n",
       "23  NY Times Science  Thu, 10 Sep 2020 14:03:54 +0000   \n",
       "24  NY Times Science  Thu, 10 Sep 2020 14:03:54 +0000   \n",
       "25  NY Times Science  Thu, 10 Sep 2020 14:03:54 +0000   \n",
       "26  NY Times Science  Thu, 10 Sep 2020 14:03:54 +0000   \n",
       "27  NY Times Science  Thu, 10 Sep 2020 14:03:54 +0000   \n",
       "28  NY Times Science  Thu, 10 Sep 2020 14:03:54 +0000   \n",
       "29  NY Times Science  Thu, 10 Sep 2020 14:03:54 +0000   \n",
       "30  NY Times Science  Thu, 10 Sep 2020 14:03:54 +0000   \n",
       "31  NY Times Science  Thu, 10 Sep 2020 14:03:54 +0000   \n",
       "32  NY Times Science  Thu, 10 Sep 2020 14:03:54 +0000   \n",
       "33  NY Times Science  Thu, 10 Sep 2020 14:03:54 +0000   \n",
       "34  NY Times Science  Thu, 10 Sep 2020 14:03:54 +0000   \n",
       "35  NY Times Science  Thu, 10 Sep 2020 14:03:54 +0000   \n",
       "\n",
       "                       article date  \\\n",
       "0   Tue, 08 Sep 2020 23:01:22 +0000   \n",
       "1   Sat, 05 Sep 2020 20:39:36 +0000   \n",
       "2   Fri, 04 Sep 2020 21:41:57 +0000   \n",
       "3   Thu, 03 Sep 2020 16:11:00 +0000   \n",
       "4   Fri, 04 Sep 2020 02:26:21 +0000   \n",
       "5   Thu, 03 Sep 2020 09:00:30 +0000   \n",
       "6   Thu, 03 Sep 2020 19:35:40 +0000   \n",
       "7   Wed, 02 Sep 2020 09:00:32 +0000   \n",
       "8   Tue, 08 Sep 2020 22:39:46 +0000   \n",
       "9   Thu, 10 Sep 2020 13:50:09 +0000   \n",
       "10  Thu, 10 Sep 2020 12:14:25 +0000   \n",
       "11  Thu, 10 Sep 2020 12:41:54 +0000   \n",
       "12  Wed, 09 Sep 2020 21:16:22 +0000   \n",
       "13  Wed, 09 Sep 2020 10:00:08 +0000   \n",
       "14  Thu, 10 Sep 2020 11:55:02 +0000   \n",
       "15  Thu, 10 Sep 2020 12:24:56 +0000   \n",
       "16  Wed, 09 Sep 2020 21:21:48 +0000   \n",
       "17  Thu, 10 Sep 2020 00:40:06 +0000   \n",
       "18  Tue, 08 Sep 2020 16:01:19 +0000   \n",
       "19  Thu, 10 Sep 2020 11:55:59 +0000   \n",
       "20  Tue, 08 Sep 2020 18:07:21 +0000   \n",
       "21  Mon, 07 Sep 2020 21:00:08 +0000   \n",
       "22  Tue, 08 Sep 2020 11:53:47 +0000   \n",
       "23  Mon, 07 Sep 2020 11:37:15 +0000   \n",
       "24  Wed, 09 Sep 2020 17:04:52 +0000   \n",
       "25  Thu, 10 Sep 2020 11:50:59 +0000   \n",
       "26  Tue, 08 Sep 2020 15:56:55 +0000   \n",
       "27  Mon, 07 Sep 2020 01:48:03 +0000   \n",
       "28  Thu, 10 Sep 2020 11:49:37 +0000   \n",
       "29  Sat, 05 Sep 2020 01:44:51 +0000   \n",
       "30  Mon, 07 Sep 2020 01:52:25 +0000   \n",
       "31  Fri, 04 Sep 2020 19:35:33 +0000   \n",
       "32  Tue, 08 Sep 2020 22:39:25 +0000   \n",
       "33  Fri, 04 Sep 2020 16:41:44 +0000   \n",
       "34  Thu, 10 Sep 2020 11:52:42 +0000   \n",
       "35  Thu, 03 Sep 2020 21:29:34 +0000   \n",
       "\n",
       "                                                title  \\\n",
       "0   These Hummingbirds Take Extreme Naps. Some May...   \n",
       "1   When These Sea Anemones Eat, It Goes Straight ...   \n",
       "2            Old Male Elephants: Don’t Count Them Out   \n",
       "3                    How a Praying Mantis Says ‘Boo!’   \n",
       "4           Up Is Down in This Fun Physics Experiment   \n",
       "5   A Turtle With a Permanent Smile Was Brought Ba...   \n",
       "6   These Black Holes Shouldn’t Exist, but There T...   \n",
       "7   Melting Glaciers Are Filling Unstable Lakes. A...   \n",
       "8   DIY Coronavirus Vaccines? These Scientists Are...   \n",
       "9   Inquiry Begins Into AstraZeneca's Coronavirus ...   \n",
       "10  Wildfires Are Worsening. The Way We Manage The...   \n",
       "11                        Covid-19 News: Live Updates   \n",
       "12              How the Coronavirus Attacks the Brain   \n",
       "13                  Meet the New Caregiver: Your Home   \n",
       "14  N.I.H. Director Undercuts Trump’s Comments on ...   \n",
       "15  AstraZeneca Pauses Vaccine Trial for Safety Re...   \n",
       "16  Federal Report Warns of Financial Havoc From C...   \n",
       "17   The Climate Connection to California’s Wildfires   \n",
       "18  A New Theory Asks: Could a Mask Be a Crude ‘Va...   \n",
       "19  Drugmaker Pauses Covid-19 Vaccine Trial for Sa...   \n",
       "20  How the Aging Immune System Makes Older People...   \n",
       "21  For Long-Haulers, Covid-19 Takes a Toll on Min...   \n",
       "22  Parties and Covid-19 Outbreaks Threaten Univer...   \n",
       "23  Aided by Modern Ingenuity, a Taste of Ancient ...   \n",
       "24  New York Will Test the Dead More Often for Cor...   \n",
       "25  In Sign of Progress, Fewer Than 1% of New York...   \n",
       "26  Daily Coronavirus Testing at Home? Many Expert...   \n",
       "27  ‘Dwarf Pride’ Was Hard Won. Will a Growth Drug...   \n",
       "28  Northeastern University Dismisses 11 Students ...   \n",
       "29  Pharma Companies Plan Joint Pledge on Vaccine ...   \n",
       "30  California's Heat Wave Is Dangerously Hot This...   \n",
       "31      Vaping Links to Covid Risk Are Becoming Clear   \n",
       "32  Russians Publish Early Coronavirus Vaccine Res...   \n",
       "33  Americans Back Tough Limits on Building in Fir...   \n",
       "34  Vaping Can Increase Coronavirus Hazards, Resea...   \n",
       "35  Dr. Seymour Schwartz, Who Wrote the Book on Su...   \n",
       "\n",
       "                                                 link  \\\n",
       "0   https://www.nytimes.com/2020/09/08/science/hum...   \n",
       "1   https://www.nytimes.com/2020/09/05/science/sea...   \n",
       "2   https://www.nytimes.com/2020/09/04/science/mal...   \n",
       "3   https://www.nytimes.com/2020/09/03/science/pra...   \n",
       "4   https://www.nytimes.com/2020/09/03/science/flo...   \n",
       "5   https://www.nytimes.com/2020/09/03/science/bur...   \n",
       "6   https://www.nytimes.com/2020/09/02/science/bla...   \n",
       "7   https://www.nytimes.com/2020/09/02/science/glo...   \n",
       "8   https://www.nytimes.com/2020/09/01/science/cov...   \n",
       "9   https://www.nytimes.com/2020/09/10/health/covi...   \n",
       "10  https://www.nytimes.com/2020/09/10/climate/wil...   \n",
       "11  https://www.nytimes.com/2020/09/10/world/covid...   \n",
       "12  https://www.nytimes.com/2020/09/09/health/coro...   \n",
       "13  https://www.nytimes.com/2020/09/09/realestate/...   \n",
       "14  https://www.nytimes.com/2020/09/09/world/covid...   \n",
       "15  https://www.nytimes.com/2020/09/08/health/coro...   \n",
       "16  https://www.nytimes.com/2020/09/08/climate/cli...   \n",
       "17  https://www.nytimes.com/2020/09/08/climate/cal...   \n",
       "18  https://www.nytimes.com/2020/09/08/health/covi...   \n",
       "19  https://www.nytimes.com/2020/09/08/world/covid...   \n",
       "20  https://www.nytimes.com/2020/09/08/health/covi...   \n",
       "21  https://www.nytimes.com/2020/09/07/health/coro...   \n",
       "22  https://www.nytimes.com/2020/09/07/world/covid...   \n",
       "23  https://www.nytimes.com/2020/09/07/world/middl...   \n",
       "24  https://www.nytimes.com/2020/09/06/health/covi...   \n",
       "25  https://www.nytimes.com/2020/09/06/world/covid...   \n",
       "26  https://www.nytimes.com/2020/09/06/health/coro...   \n",
       "27  https://www.nytimes.com/2020/09/05/world/dwarf...   \n",
       "28  https://www.nytimes.com/2020/09/05/world/coron...   \n",
       "29  https://www.nytimes.com/2020/09/04/science/cov...   \n",
       "30  https://www.nytimes.com/2020/09/04/us/californ...   \n",
       "31  https://www.nytimes.com/2020/09/04/health/covi...   \n",
       "32  https://www.nytimes.com/2020/09/04/health/russ...   \n",
       "33  https://www.nytimes.com/2020/09/04/climate/flo...   \n",
       "34  https://www.nytimes.com/2020/09/04/world/covid...   \n",
       "35  https://www.nytimes.com/2020/09/03/health/dr-s...   \n",
       "\n",
       "                                              author  \\\n",
       "0                                Veronique Greenwood   \n",
       "1                                        Cara Giaimo   \n",
       "2                                       Rachel Nuwer   \n",
       "3                                        Cara Giaimo   \n",
       "4                                      Kenneth Chang   \n",
       "5                                       Rachel Nuwer   \n",
       "6                                     Dennis Overbye   \n",
       "7                                   Katherine Kornei   \n",
       "8                                     Heather Murphy   \n",
       "9                                    Katherine J. Wu   \n",
       "10                     Brad Plumer and John Schwartz   \n",
       "11                                           unknown   \n",
       "12                                Apoorva Mandavilli   \n",
       "13                                       Debra Kamin   \n",
       "14                                           unknown   \n",
       "15                  Katherine J. Wu and Katie Thomas   \n",
       "16                Coral Davenport and Jeanna Smialek   \n",
       "17                                The New York Times   \n",
       "18                                   Katherine J. Wu   \n",
       "19                                           unknown   \n",
       "20                               Veronique Greenwood   \n",
       "21                                     Emma Goldberg   \n",
       "22                                           unknown   \n",
       "23                                   Isabel Kershner   \n",
       "24                                   Katherine J. Wu   \n",
       "25                                           unknown   \n",
       "26                                   Katherine J. Wu   \n",
       "27                                    Serena Solomon   \n",
       "28                                           unknown   \n",
       "29  Katie Thomas, Noah Weiland and Sharon LaFraniere   \n",
       "30                                      Jacey Fortin   \n",
       "31                                   Katherine J. Wu   \n",
       "32                                       Carl Zimmer   \n",
       "33                              Christopher Flavelle   \n",
       "34                                           unknown   \n",
       "35                                       Sam Roberts   \n",
       "\n",
       "                                              summary  \n",
       "0   To adapt to life in the Andes Mountains, some ...  \n",
       "1   They’re the first animals known to turn food i...  \n",
       "2   New research challenges the assumption that bu...  \n",
       "3   A study of startle displays hints at why provo...  \n",
       "4   The liquid levitates, and a boat floats along ...  \n",
       "5   Scientists have rebuilt the population of Burm...  \n",
       "6   On the far side of the universe, a collision o...  \n",
       "7   A census of the world’s glacial lakes shows th...  \n",
       "8   Impatient for a coronavirus vaccine, dozens of...  \n",
       "9   A participant in the company’s late-stage coro...  \n",
       "10  The blazes scorching the West highlight the ur...  \n",
       "11  The measure, which Democrats see as inadequate...  \n",
       "12  It’s not just the lungs — the pathogen may ent...  \n",
       "13  New technology is allowing homeowners who can ...  \n",
       "14  The director, Dr. Francis Collins, took issue ...  \n",
       "15  The company halted late-stage trials of its co...  \n",
       "16  A report commissioned by President Trump’s Com...  \n",
       "17  As fires spread through California during a gl...  \n",
       "18  Scientists float a provocative — and unproven ...  \n",
       "19  Britain is expected to limit most social gathe...  \n",
       "20  As we age, the immune system begins to shift i...  \n",
       "21  “It makes you depressed, anxious that it’s nev...  \n",
       "22  Xi Jinping declared success in suppressing Chi...  \n",
       "23  The harvest of the much-extolled but long-lost...  \n",
       "24  New regulations require a ramp-up in testing f...  \n",
       "25  The state’s share of positive tests has stayed...  \n",
       "26  The buzzy idea is impractical, critics said. A...  \n",
       "27  An experimental medication that increases heig...  \n",
       "28  The U.N. warns of looming famines connected to...  \n",
       "29  The statement is meant to reassure the public ...  \n",
       "30  Temperature records were set in parts of the W...  \n",
       "31  Researchers are starting to home in on the way...  \n",
       "32  The first batch of public data from the “Sputn...  \n",
       "33  A majority support outright bans on constructi...  \n",
       "34  India surpassed four million coronavirus cases...  \n",
       "35  His name is synonymous with his field: He was ...  "
      ]
     },
     "execution_count": 58,
     "metadata": {},
     "output_type": "execute_result"
    }
   ],
   "source": [
    "dt_nytimes.shape\n",
    "dt_nytimes.columns\n",
    "dt_nytimes"
   ]
  },
  {
   "cell_type": "code",
   "execution_count": 59,
   "metadata": {},
   "outputs": [],
   "source": [
    "make_csv_from_feed(RSS_URL)"
   ]
  },
  {
   "cell_type": "code",
   "execution_count": null,
   "metadata": {},
   "outputs": [],
   "source": []
  },
  {
   "cell_type": "code",
   "execution_count": null,
   "metadata": {},
   "outputs": [],
   "source": []
  },
  {
   "cell_type": "code",
   "execution_count": null,
   "metadata": {},
   "outputs": [],
   "source": []
  }
 ],
 "metadata": {
  "anaconda-cloud": {},
  "kernelspec": {
   "display_name": "Python 3",
   "language": "python",
   "name": "python3"
  },
  "language_info": {
   "codemirror_mode": {
    "name": "ipython",
    "version": 3
   },
   "file_extension": ".py",
   "mimetype": "text/x-python",
   "name": "python",
   "nbconvert_exporter": "python",
   "pygments_lexer": "ipython3",
   "version": "3.7.8"
  }
 },
 "nbformat": 4,
 "nbformat_minor": 1
}
