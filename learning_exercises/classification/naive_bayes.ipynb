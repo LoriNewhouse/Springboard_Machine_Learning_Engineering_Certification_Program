{
 "cells": [
  {
   "cell_type": "code",
   "execution_count": null,
   "metadata": {},
   "outputs": [],
   "source": []
  },
  {
   "cell_type": "code",
   "execution_count": 1,
   "metadata": {},
   "outputs": [],
   "source": [
    "from IPython.core.interactiveshell import InteractiveShell\n",
    "InteractiveShell.ast_node_interactivity = 'all'"
   ]
  },
  {
   "cell_type": "code",
   "execution_count": null,
   "metadata": {},
   "outputs": [],
   "source": []
  },
  {
   "cell_type": "code",
   "execution_count": null,
   "metadata": {},
   "outputs": [],
   "source": []
  },
  {
   "cell_type": "markdown",
   "metadata": {},
   "source": [
    "# Chapter 6 - Other Popular Machine Learning Methods\n",
    "## Segment 5 - Naive Bayes Classifiers"
   ]
  },
  {
   "cell_type": "code",
   "execution_count": 2,
   "metadata": {},
   "outputs": [],
   "source": [
    "import numpy as np\n",
    "import pandas as pd\n",
    "import urllib\n",
    "import sklearn\n",
    "\n",
    "from sklearn.model_selection import train_test_split\n",
    "from sklearn import metrics\n",
    "from sklearn.metrics import accuracy_score"
   ]
  },
  {
   "cell_type": "code",
   "execution_count": 3,
   "metadata": {},
   "outputs": [],
   "source": [
    "from sklearn.naive_bayes import BernoulliNB\n",
    "from sklearn.naive_bayes import GaussianNB\n",
    "from sklearn.naive_bayes import MultinomialNB"
   ]
  },
  {
   "cell_type": "markdown",
   "metadata": {},
   "source": [
    "## Naive Bayes\n",
    "### Using Naive Bayes to predict spam\n",
    "### read data and explore"
   ]
  },
  {
   "cell_type": "code",
   "execution_count": 4,
   "metadata": {
    "scrolled": true
   },
   "outputs": [
    {
     "name": "stdout",
     "output_type": "stream",
     "text": [
      "[  0.      0.64    0.64    0.      0.32    0.      0.      0.      0.\n",
      "   0.      0.      0.64    0.      0.      0.      0.32    0.      1.29\n",
      "   1.93    0.      0.96    0.      0.      0.      0.      0.      0.\n",
      "   0.      0.      0.      0.      0.      0.      0.      0.      0.\n",
      "   0.      0.      0.      0.      0.      0.      0.      0.      0.\n",
      "   0.      0.      0.      0.      0.      0.      0.778   0.      0.\n",
      "   3.756  61.    278.      1.   ]\n"
     ]
    }
   ],
   "source": [
    "# url = \"https://archive.ics.uci.edu/ml/machine-learning-databases/spambase/spambase.data\"\n",
    "\n",
    "# import urllib.request\n",
    "\n",
    "# raw_data = urllib.request.urlopen(url)\n",
    "raw_data = 'spambase.data'\n",
    "dataset = np.loadtxt(raw_data, delimiter=',')\n",
    "print(dataset[0])"
   ]
  },
  {
   "cell_type": "code",
   "execution_count": 5,
   "metadata": {},
   "outputs": [
    {
     "data": {
      "text/plain": [
       "numpy.ndarray"
      ]
     },
     "execution_count": 5,
     "metadata": {},
     "output_type": "execute_result"
    },
    {
     "data": {
      "text/plain": [
       "(4601, 58)"
      ]
     },
     "execution_count": 5,
     "metadata": {},
     "output_type": "execute_result"
    },
    {
     "data": {
      "text/plain": [
       "58"
      ]
     },
     "execution_count": 5,
     "metadata": {},
     "output_type": "execute_result"
    },
    {
     "data": {
      "text/plain": [
       "58"
      ]
     },
     "execution_count": 5,
     "metadata": {},
     "output_type": "execute_result"
    }
   ],
   "source": [
    "type(dataset)\n",
    "dataset.shape\n",
    "len(dataset[0])\n",
    "len(dataset[690])"
   ]
  },
  {
   "cell_type": "code",
   "execution_count": 6,
   "metadata": {},
   "outputs": [
    {
     "data": {
      "text/plain": [
       "array([0.  , 0.64, 0.64, 0.  , 0.32, 0.  , 0.  , 0.  , 0.  , 0.  , 0.  ,\n",
       "       0.64, 0.  , 0.  , 0.  , 0.32, 0.  , 1.29, 1.93, 0.  , 0.96, 0.  ,\n",
       "       0.  , 0.  , 0.  , 0.  , 0.  , 0.  , 0.  , 0.  , 0.  , 0.  , 0.  ,\n",
       "       0.  , 0.  , 0.  , 0.  , 0.  , 0.  , 0.  , 0.  , 0.  , 0.  , 0.  ,\n",
       "       0.  , 0.  , 0.  , 0.  ])"
      ]
     },
     "execution_count": 6,
     "metadata": {},
     "output_type": "execute_result"
    }
   ],
   "source": [
    "dataset[0, 0:48]"
   ]
  },
  {
   "cell_type": "code",
   "execution_count": 7,
   "metadata": {},
   "outputs": [
    {
     "data": {
      "text/plain": [
       "1.0"
      ]
     },
     "execution_count": 7,
     "metadata": {},
     "output_type": "execute_result"
    }
   ],
   "source": [
    "dataset[0, -1]"
   ]
  },
  {
   "cell_type": "code",
   "execution_count": null,
   "metadata": {},
   "outputs": [],
   "source": []
  },
  {
   "cell_type": "markdown",
   "metadata": {},
   "source": [
    "### create feature and target arrays\n",
    "selected features are word frequency counts"
   ]
  },
  {
   "cell_type": "code",
   "execution_count": 8,
   "metadata": {},
   "outputs": [],
   "source": [
    "X = dataset[:,0:48]\n",
    "y = dataset[:,-1]"
   ]
  },
  {
   "cell_type": "code",
   "execution_count": 9,
   "metadata": {},
   "outputs": [],
   "source": [
    "X_train, X_test, y_train, y_test = train_test_split(X, y, test_size=.2, random_state=17)"
   ]
  },
  {
   "cell_type": "markdown",
   "metadata": {},
   "source": [
    "### `BernoulliNB`\n",
    "`binazie=True` means do binning of target"
   ]
  },
  {
   "cell_type": "code",
   "execution_count": 10,
   "metadata": {},
   "outputs": [
    {
     "data": {
      "text/plain": [
       "BernoulliNB(binarize=True)"
      ]
     },
     "execution_count": 10,
     "metadata": {},
     "output_type": "execute_result"
    },
    {
     "data": {
      "text/plain": [
       "{'alpha': 1.0, 'binarize': True, 'class_prior': None, 'fit_prior': True}"
      ]
     },
     "execution_count": 10,
     "metadata": {},
     "output_type": "execute_result"
    },
    {
     "name": "stdout",
     "output_type": "stream",
     "text": [
      "0.8577633007600435\n"
     ]
    }
   ],
   "source": [
    "BernNB = BernoulliNB(binarize=True)\n",
    "BernNB.fit(X_train, y_train)\n",
    "#print(BernNB)\n",
    "BernNB.get_params()\n",
    "\n",
    "y_expect = y_test\n",
    "y_pred = BernNB.predict(X_test)\n",
    "\n",
    "print(accuracy_score(y_expect, y_pred))"
   ]
  },
  {
   "cell_type": "code",
   "execution_count": 15,
   "metadata": {},
   "outputs": [
    {
     "data": {
      "text/plain": [
       "array([[ 261.,  181.,  586.,    5.,  473.,  202.,   34.,  131.,  144.,\n",
       "         353.,   93.,  952.,  219.,   75.,   29.,  176.,  180.,  240.,\n",
       "        1303.,   26.,  754.,   21.,   36.,   37.,  825.,  626.,  571.,\n",
       "         330.,  277.,  342.,  235.,  165.,  254.,  167.,  352.,  364.,\n",
       "         552.,   24.,  252.,  180.,  105.,  238.,  215.,  185.,  637.,\n",
       "         350.,   23.,  127.],\n",
       "       [ 406.,  429.,  852.,   28.,  847.,  470.,  520.,  430.,  371.,\n",
       "         605.,  390.,  884.,  379.,  142.,  191.,  732.,  486.,  499.,\n",
       "        1265.,  279., 1153.,   69.,  441.,  456.,   33.,   18.,    6.,\n",
       "          25.,    5.,   14.,    3.,    2.,   37.,    7.,   22.,   71.,\n",
       "          70.,   21.,   34.,  129.,    0.,   12.,   49.,   15.,  293.,\n",
       "          24.,    4.,   14.]])"
      ]
     },
     "execution_count": 15,
     "metadata": {},
     "output_type": "execute_result"
    },
    {
     "data": {
      "text/plain": [
       "array([2241., 1439.])"
      ]
     },
     "execution_count": 15,
     "metadata": {},
     "output_type": "execute_result"
    },
    {
     "data": {
      "text/plain": [
       "array([0., 1.])"
      ]
     },
     "execution_count": 15,
     "metadata": {},
     "output_type": "execute_result"
    },
    {
     "data": {
      "text/plain": [
       "array([[-1.26427941, -1.20930739, -0.52433305, -3.90579677, -0.53021196,\n",
       "        -1.1182345 , -1.01734255, -1.20698451, -1.35419874, -0.86621261,\n",
       "        -1.30438504, -0.48750495, -1.33292134, -2.31024797, -2.01559722,\n",
       "        -0.67594689, -1.08482847, -1.0584845 , -0.12947499, -1.63830299,\n",
       "        -0.22210315, -3.02459735, -1.18178271, -1.14840921, -3.74673207,\n",
       "        -4.32865362, -5.32718245, -4.01499606, -5.48133313, -4.56504239,\n",
       "        -5.88679823, -6.17448031, -3.63550644, -5.19365105, -4.13759838,\n",
       "        -2.99642648, -3.01041272, -4.18205014, -3.71774453, -2.40555815,\n",
       "        -7.2730926 , -4.70814324, -3.36106959, -4.50050387, -1.58951283,\n",
       "        -4.05421677, -5.66365468, -4.56504239]])"
      ]
     },
     "execution_count": 15,
     "metadata": {},
     "output_type": "execute_result"
    },
    {
     "data": {
      "text/plain": [
       "array([-0.49599056, -0.93896432])"
      ]
     },
     "execution_count": 15,
     "metadata": {},
     "output_type": "execute_result"
    },
    {
     "data": {
      "text/plain": [
       "array([[-2.14722503, -2.51156285, -1.34054471, -5.92381007, -1.55436221,\n",
       "        -2.40236356, -4.16022147, -2.83276761, -2.73883579, -1.84627262,\n",
       "        -3.17227475, -0.85595463, -2.32194199, -3.38483619, -4.31437215,\n",
       "        -2.5394198 , -2.5170725 , -2.2307726 , -0.54237779, -4.41973267,\n",
       "        -1.08885179, -4.62452708, -4.10465162, -4.07798337, -0.99897476,\n",
       "        -1.27462299, -1.36643054, -1.91345116, -2.08794842, -1.87783909,\n",
       "        -2.25173773, -2.60358175, -2.17430599, -2.59160556, -1.84910148,\n",
       "        -1.81567218, -1.40021153, -4.49669371, -2.18218005, -2.5170725 ,\n",
       "        -3.05213044, -2.23910598, -2.34029113, -2.48982286, -1.25723125,\n",
       "        -1.85478331, -4.5375157 , -2.86353927],\n",
       "       [-1.26427941, -1.20930739, -0.52433305, -3.90579677, -0.53021196,\n",
       "        -1.1182345 , -1.01734255, -1.20698451, -1.35419874, -0.86621261,\n",
       "        -1.30438504, -0.48750495, -1.33292134, -2.31024797, -2.01559722,\n",
       "        -0.67594689, -1.08482847, -1.0584845 , -0.12947499, -1.63830299,\n",
       "        -0.22210315, -3.02459735, -1.18178271, -1.14840921, -3.74673207,\n",
       "        -4.32865362, -5.32718245, -4.01499606, -5.48133313, -4.56504239,\n",
       "        -5.88679823, -6.17448031, -3.63550644, -5.19365105, -4.13759838,\n",
       "        -2.99642648, -3.01041272, -4.18205014, -3.71774453, -2.40555815,\n",
       "        -7.2730926 , -4.70814324, -3.36106959, -4.50050387, -1.58951283,\n",
       "        -4.05421677, -5.66365468, -4.56504239]])"
      ]
     },
     "execution_count": 15,
     "metadata": {},
     "output_type": "execute_result"
    }
   ],
   "source": [
    "BernNB.feature_count_\n",
    "BernNB.class_count_\n",
    "BernNB.classes_\n",
    "BernNB.coef_\n",
    "BernNB.class_log_prior_\n",
    "BernNB.feature_log_prob_"
   ]
  },
  {
   "cell_type": "code",
   "execution_count": null,
   "metadata": {},
   "outputs": [],
   "source": []
  },
  {
   "cell_type": "markdown",
   "metadata": {},
   "source": [
    "### `MultinomialNB`"
   ]
  },
  {
   "cell_type": "code",
   "execution_count": 12,
   "metadata": {},
   "outputs": [
    {
     "data": {
      "text/plain": [
       "MultinomialNB()"
      ]
     },
     "execution_count": 12,
     "metadata": {},
     "output_type": "execute_result"
    },
    {
     "data": {
      "text/plain": [
       "{'alpha': 1.0, 'class_prior': None, 'fit_prior': True}"
      ]
     },
     "execution_count": 12,
     "metadata": {},
     "output_type": "execute_result"
    },
    {
     "name": "stdout",
     "output_type": "stream",
     "text": [
      "0.8816503800217155\n"
     ]
    }
   ],
   "source": [
    "MultiNB = MultinomialNB()\n",
    "MultiNB.fit(X_train, y_train)\n",
    "#print(MultiNB)\n",
    "MultiNB.get_params()\n",
    "\n",
    "y_expect = y_test\n",
    "y_pred = MultiNB.predict(X_test)\n",
    "\n",
    "print(accuracy_score(y_expect, y_pred))"
   ]
  },
  {
   "cell_type": "markdown",
   "metadata": {},
   "source": [
    "### `GaussianNB`"
   ]
  },
  {
   "cell_type": "code",
   "execution_count": 13,
   "metadata": {},
   "outputs": [
    {
     "data": {
      "text/plain": [
       "GaussianNB()"
      ]
     },
     "execution_count": 13,
     "metadata": {},
     "output_type": "execute_result"
    },
    {
     "data": {
      "text/plain": [
       "{'priors': None, 'var_smoothing': 1e-09}"
      ]
     },
     "execution_count": 13,
     "metadata": {},
     "output_type": "execute_result"
    },
    {
     "name": "stdout",
     "output_type": "stream",
     "text": [
      "0.8197611292073833\n"
     ]
    }
   ],
   "source": [
    "GausNB = GaussianNB()\n",
    "GausNB.fit(X_train, y_train)\n",
    "#print(GausNB)\n",
    "GausNB.get_params()\n",
    "\n",
    "y_expect = y_test\n",
    "y_pred = GausNB.predict(X_test)\n",
    "\n",
    "print(accuracy_score(y_expect, y_pred))"
   ]
  },
  {
   "cell_type": "markdown",
   "metadata": {},
   "source": [
    "### `BernoulliNB`"
   ]
  },
  {
   "cell_type": "code",
   "execution_count": 14,
   "metadata": {},
   "outputs": [
    {
     "data": {
      "text/plain": [
       "BernoulliNB(binarize=0.1)"
      ]
     },
     "execution_count": 14,
     "metadata": {},
     "output_type": "execute_result"
    },
    {
     "data": {
      "text/plain": [
       "{'alpha': 1.0, 'binarize': 0.1, 'class_prior': None, 'fit_prior': True}"
      ]
     },
     "execution_count": 14,
     "metadata": {},
     "output_type": "execute_result"
    },
    {
     "name": "stdout",
     "output_type": "stream",
     "text": [
      "0.9109663409337676\n"
     ]
    }
   ],
   "source": [
    "BernNB = BernoulliNB(binarize=0.1)\n",
    "BernNB.fit(X_train, y_train)\n",
    "#print(BernNB)\n",
    "BernNB.get_params()\n",
    "\n",
    "y_expect = y_test\n",
    "y_pred = BernNB.predict(X_test)\n",
    "\n",
    "print(accuracy_score(y_expect, y_pred))"
   ]
  },
  {
   "cell_type": "code",
   "execution_count": null,
   "metadata": {},
   "outputs": [],
   "source": []
  }
 ],
 "metadata": {
  "anaconda-cloud": {},
  "kernelspec": {
   "display_name": "Python 3",
   "language": "python",
   "name": "python3"
  },
  "language_info": {
   "codemirror_mode": {
    "name": "ipython",
    "version": 3
   },
   "file_extension": ".py",
   "mimetype": "text/x-python",
   "name": "python",
   "nbconvert_exporter": "python",
   "pygments_lexer": "ipython3",
   "version": "3.7.8"
  }
 },
 "nbformat": 4,
 "nbformat_minor": 1
}
